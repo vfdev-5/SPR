{
 "cells": [
  {
   "cell_type": "markdown",
   "metadata": {},
   "source": [
    "# SPR Data analysis"
   ]
  },
  {
   "cell_type": "code",
   "execution_count": 1,
   "metadata": {
    "collapsed": false
   },
   "outputs": [
    {
     "name": "stderr",
     "output_type": "stream",
     "text": [
      "/usr/local/lib/python2.7/site-packages/matplotlib/font_manager.py:273: UserWarning: Matplotlib is building the font cache using fc-list. This may take a moment.\n",
      "  warnings.warn('Matplotlib is building the font cache using fc-list. This may take a moment.')\n"
     ]
    },
    {
     "name": "stdout",
     "output_type": "stream",
     "text": [
      "Populating the interactive namespace from numpy and matplotlib\n"
     ]
    }
   ],
   "source": [
    "import numpy as np\n",
    "import pandas as pd\n",
    "import seaborn as sns\n",
    "import matplotlib.pyplot as plt\n",
    "%pylab inline\n",
    "pylab.rcParams['figure.figsize'] = (10, 6)\n",
    "color = sns.color_palette()"
   ]
  },
  {
   "cell_type": "markdown",
   "metadata": {},
   "source": [
    "**Dataset Size:**\n",
    "\n",
    "First let us check the number of rows in train and test file :\n",
    "- Number of rows in train :  13'647309\n",
    "- Number of rows in test :  929615\n",
    "- Number of clients (train dataset) : 956645"
   ]
  },
  {
   "cell_type": "markdown",
   "metadata": {},
   "source": [
    "**Dataset columns:**\n",
    "  \n",
    "  \n",
    "Main columns :   \n",
    "\n",
    "- fecha_dato \tThe table is partitioned for this column\n",
    "- ncodpers \tCustomer code\n",
    "- ind_empleado \tEmployee index: A active, B ex employed, F filial, N not employee, P pasive\n",
    "- pais_residencia \tCustomer's Country residence\n",
    "- sexo \tCustomer's sex\n",
    "- age \tAge\n",
    "- fecha_alta \tThe date in which the customer became as the first holder of a contract in the bank\n",
    "- ind_nuevo \tNew customer Index. 1 if the customer registered in the last 6 months.\n",
    "- antiguedad \tCustomer seniority (in months)\n",
    "- indrel \t1 (First/Primary), 99 (Primary customer during the month but not at the end of the month)\n",
    "- ult_fec_cli_1t \tLast date as primary customer (if he isn't at the end of the month)\n",
    "- indrel_1mes \tCustomer type at the beginning of the month ,1 (First/Primary customer), 2 (co-owner ),P (Potential),3 (former primary), 4(former co-owner)\n",
    "- tiprel_1mes \tCustomer relation type at the beginning of the month, A (active), I (inactive), P (former customer),R (Potential)\n",
    "- indresi \tResidence index (S (Yes) or N (No) if the residence country is the same than the bank country)\n",
    "- indext \tForeigner index (S (Yes) or N (No) if the customer's birth country is different than the bank country)\n",
    "- conyuemp \tSpouse index. 1 if the customer is spouse of an employee\n",
    "- canal_entrada \tchannel used by the customer to join\n",
    "- indfall \tDeceased index. N/S\n",
    "- tipodom \tAddres type. 1, primary address\n",
    "- cod_prov \tProvince code (customer's address)\n",
    "- nomprov \tProvince name\n",
    "- ind_actividad_cliente \tActivity index (1, active customer; 0, inactive customer)\n",
    "- renta \tGross income of the household\n",
    "- segmento \tsegmentation: 01 - VIP, 02 - Individuals 03 - college graduated    \n",
    "    \n",
    "    \n",
    "target columns : \n",
    "    \n",
    "- ind_ahor_fin_ult1 \tSaving Account\n",
    "- ind_aval_fin_ult1 \tGuarantees\n",
    "- ind_cco_fin_ult1 \tCurrent Accounts\n",
    "- ind_cder_fin_ult1 \tDerivada Account\n",
    "- ind_cno_fin_ult1 \tPayroll Account\n",
    "- ind_ctju_fin_ult1 \tJunior Account\n",
    "- ind_ctma_fin_ult1 \tMás particular Account\n",
    "- ind_ctop_fin_ult1 \tparticular Account\n",
    "- ind_ctpp_fin_ult1 \tparticular Plus Account\n",
    "- ind_deco_fin_ult1 \tShort-term deposits\n",
    "- ind_deme_fin_ult1 \tMedium-term deposits\n",
    "- ind_dela_fin_ult1 \tLong-term deposits\n",
    "- ind_ecue_fin_ult1 \te-account\n",
    "- ind_fond_fin_ult1 \tFunds\n",
    "- ind_hip_fin_ult1 \tMortgage\n",
    "- ind_plan_fin_ult1 \tPensions\n",
    "- ind_pres_fin_ult1 \tLoans\n",
    "- ind_reca_fin_ult1 \tTaxes\n",
    "- ind_tjcr_fin_ult1 \tCredit Card\n",
    "- ind_valo_fin_ult1 \tSecurities\n",
    "- ind_viv_fin_ult1 \tHome Account\n",
    "- ind_nomina_ult1 \tPayroll\n",
    "- ind_nom_pens_ult1 \tPensions\n",
    "- ind_recibo_ult1 \tDirect Debit    \n",
    "    "
   ]
  },
  {
   "cell_type": "code",
   "execution_count": 2,
   "metadata": {
    "collapsed": true
   },
   "outputs": [],
   "source": [
    "TARGET_LABELS = ['ind_ahor_fin_ult1', 'ind_aval_fin_ult1', 'ind_cco_fin_ult1',\n",
    " 'ind_cder_fin_ult1', 'ind_cno_fin_ult1', 'ind_ctju_fin_ult1',\n",
    " 'ind_ctma_fin_ult1', 'ind_ctop_fin_ult1', 'ind_ctpp_fin_ult1',\n",
    " 'ind_deco_fin_ult1', 'ind_deme_fin_ult1', 'ind_dela_fin_ult1',\n",
    " 'ind_ecue_fin_ult1', 'ind_fond_fin_ult1', 'ind_hip_fin_ult1',\n",
    " 'ind_plan_fin_ult1', 'ind_pres_fin_ult1', 'ind_reca_fin_ult1',\n",
    " 'ind_tjcr_fin_ult1', 'ind_valo_fin_ult1', 'ind_viv_fin_ult1',\n",
    " 'ind_nomina_ult1', 'ind_nom_pens_ult1', 'ind_recibo_ult1']\n",
    "\n",
    "#TARGET_LABELS = [column for column in train.columns if column.endswith('ult1')]"
   ]
  },
  {
   "cell_type": "markdown",
   "metadata": {},
   "source": [
    "## Compute vairous data stats"
   ]
  },
  {
   "cell_type": "markdown",
   "metadata": {},
   "source": [
    "1) Mean age between 18 - 30 : 24\n",
    "\n",
    "2) Mean age between 31 - 90 : 50\n",
    "\n",
    "3) Mean age : 42"
   ]
  },
  {
   "cell_type": "code",
   "execution_count": 4,
   "metadata": {
    "collapsed": true
   },
   "outputs": [],
   "source": [
    "data_path = \"data/\""
   ]
  },
  {
   "cell_type": "code",
   "execution_count": null,
   "metadata": {
    "collapsed": false
   },
   "outputs": [],
   "source": [
    "df = pd.read_csv(data_path+\"train_ver2.csv\", usecols=['ncodpers', 'age'])"
   ]
  },
  {
   "cell_type": "code",
   "execution_count": null,
   "metadata": {
    "collapsed": false
   },
   "outputs": [],
   "source": [
    "m1 = df.loc[(df.age >= 18) & (df.age <= 30),\"age\"].mean(skipna=True)\n",
    "m2 = df.loc[(df.age >= 30) & (df.age <= 90),\"age\"].mean(skipna=True)\n",
    "print m1, m2\n",
    "df.loc[df.age < 18,\"age\"] = m1\n",
    "df.loc[df.age > 90,\"age\"] = m2\n",
    "df[\"age\"].mean()"
   ]
  },
  {
   "cell_type": "code",
   "execution_count": null,
   "metadata": {
    "collapsed": true
   },
   "outputs": [],
   "source": [
    "del df"
   ]
  },
  {
   "cell_type": "code",
   "execution_count": null,
   "metadata": {
    "collapsed": true
   },
   "outputs": [],
   "source": []
  },
  {
   "cell_type": "markdown",
   "metadata": {},
   "source": [
    "## Column indices"
   ]
  },
  {
   "cell_type": "code",
   "execution_count": null,
   "metadata": {
    "collapsed": false
   },
   "outputs": [],
   "source": [
    "df = pd.read_csv(data_path+\"train_ver2.csv\", parse_dates=['fecha_dato', 'fecha_alta'], nrows=10)"
   ]
  },
  {
   "cell_type": "code",
   "execution_count": null,
   "metadata": {
    "collapsed": false
   },
   "outputs": [],
   "source": [
    "cols = df.columns\n",
    "nb_cols = len(cols)\n",
    "zip(range(nb_cols), df.columns)"
   ]
  },
  {
   "cell_type": "code",
   "execution_count": null,
   "metadata": {
    "collapsed": true
   },
   "outputs": [],
   "source": []
  },
  {
   "cell_type": "code",
   "execution_count": null,
   "metadata": {
    "collapsed": true
   },
   "outputs": [],
   "source": []
  },
  {
   "cell_type": "markdown",
   "metadata": {},
   "source": [
    "## Column indices in test dataset"
   ]
  },
  {
   "cell_type": "code",
   "execution_count": 5,
   "metadata": {
    "collapsed": false
   },
   "outputs": [],
   "source": [
    "df = pd.read_csv(data_path+\"test_ver2.csv\", parse_dates=['fecha_dato', 'fecha_alta'], nrows=10)"
   ]
  },
  {
   "cell_type": "code",
   "execution_count": 7,
   "metadata": {
    "collapsed": false
   },
   "outputs": [
    {
     "name": "stdout",
     "output_type": "stream",
     "text": [
      "\"fecha_dato\",\"ncodpers\",\"ind_empleado\",\"pais_residencia\",\"sexo\",\"age\",\"fecha_alta\",\"ind_nuevo\",\"antiguedad\",\"indrel\",\"ult_fec_cli_1t\",\"indrel_1mes\",\"tiprel_1mes\",\"indresi\",\"indext\",\"conyuemp\",\"canal_entrada\",\"indfall\",\"tipodom\",\"cod_prov\",\"nomprov\",\"ind_actividad_cliente\",\"renta\",\"segmento\"\n",
      "\n"
     ]
    }
   ],
   "source": [
    "with open(data_path+\"test_ver2.csv\", 'r') as r:\n",
    "    print r.readline()"
   ]
  },
  {
   "cell_type": "code",
   "execution_count": 6,
   "metadata": {
    "collapsed": false
   },
   "outputs": [
    {
     "data": {
      "text/plain": [
       "[(0, 'fecha_dato'),\n",
       " (1, 'ncodpers'),\n",
       " (2, 'ind_empleado'),\n",
       " (3, 'pais_residencia'),\n",
       " (4, 'sexo'),\n",
       " (5, 'age'),\n",
       " (6, 'fecha_alta'),\n",
       " (7, 'ind_nuevo'),\n",
       " (8, 'antiguedad'),\n",
       " (9, 'indrel'),\n",
       " (10, 'ult_fec_cli_1t'),\n",
       " (11, 'indrel_1mes'),\n",
       " (12, 'tiprel_1mes'),\n",
       " (13, 'indresi'),\n",
       " (14, 'indext'),\n",
       " (15, 'conyuemp'),\n",
       " (16, 'canal_entrada'),\n",
       " (17, 'indfall'),\n",
       " (18, 'tipodom'),\n",
       " (19, 'cod_prov'),\n",
       " (20, 'nomprov'),\n",
       " (21, 'ind_actividad_cliente'),\n",
       " (22, 'renta'),\n",
       " (23, 'segmento')]"
      ]
     },
     "execution_count": 6,
     "metadata": {},
     "output_type": "execute_result"
    }
   ],
   "source": [
    "cols = df.columns\n",
    "nb_cols = len(cols)\n",
    "zip(range(nb_cols), df.columns)"
   ]
  },
  {
   "cell_type": "code",
   "execution_count": null,
   "metadata": {
    "collapsed": true
   },
   "outputs": [],
   "source": []
  },
  {
   "cell_type": "markdown",
   "metadata": {},
   "source": [
    "## Median income per country, region, employee index, segment, gender, age"
   ]
  },
  {
   "cell_type": "code",
   "execution_count": null,
   "metadata": {
    "collapsed": false
   },
   "outputs": [],
   "source": [
    "df = pd.read_csv(data_path+\"train_ver2.csv\", usecols=['pais_residencia','nomprov', 'ind_empleado', 'segmento', 'sexo', 'age', 'renta'])"
   ]
  },
  {
   "cell_type": "code",
   "execution_count": null,
   "metadata": {
    "collapsed": true
   },
   "outputs": [],
   "source": [
    "unknown_users = df['sexo'].isnull() & df['age'].isnull() & df['ind_empleado'].isnull() & df['pais_residencia'].isnull()"
   ]
  },
  {
   "cell_type": "code",
   "execution_count": null,
   "metadata": {
    "collapsed": true
   },
   "outputs": [],
   "source": [
    "df.drop(df[unknown_users].index, inplace=True)"
   ]
  },
  {
   "cell_type": "code",
   "execution_count": null,
   "metadata": {
    "collapsed": true
   },
   "outputs": [],
   "source": [
    "df.loc[df.age < 18,\"age\"]  = df.loc[(df.age >= 18) & (df.age <= 30),\"age\"].mean(skipna=True)\n",
    "df.loc[df.age > 90,\"age\"] = df.loc[(df.age >= 30) & (df.age <= 90),\"age\"].mean(skipna=True)\n",
    "df[\"age\"].fillna(df[\"age\"].mean(),inplace=True)\n",
    "df[\"age\"] = df[\"age\"].astype(int)"
   ]
  },
  {
   "cell_type": "markdown",
   "metadata": {},
   "source": [
    "Introduce age groups:\n",
    "0 : 18 - 23\n",
    "1 : 23 - 28\n",
    "2 : 28 - 32\n",
    "3 : 32 - 40\n",
    "4 : 40 - 50\n",
    "5 : 50 - 60\n",
    "6 : 60 - 90"
   ]
  },
  {
   "cell_type": "code",
   "execution_count": null,
   "metadata": {
    "collapsed": true
   },
   "outputs": [],
   "source": [
    "age_group_0 = (df['age'] >= 18) & (df['age'] < 23)\n",
    "age_group_1 = (df['age'] >= 23) & (df['age'] < 28)\n",
    "age_group_2 = (df['age'] >= 28) & (df['age'] < 32)\n",
    "age_group_3 = (df['age'] >= 32) & (df['age'] < 40)\n",
    "age_group_4 = (df['age'] >= 40) & (df['age'] < 50)\n",
    "age_group_5 = (df['age'] >= 50) & (df['age'] < 60)\n",
    "age_group_6 = (df['age'] >= 60)"
   ]
  },
  {
   "cell_type": "code",
   "execution_count": null,
   "metadata": {
    "collapsed": false
   },
   "outputs": [],
   "source": [
    "df.loc[age_group_0, 'age_group'] = 0\n",
    "df.loc[age_group_1, 'age_group'] = 1\n",
    "df.loc[age_group_2, 'age_group'] = 2\n",
    "df.loc[age_group_3, 'age_group'] = 3\n",
    "df.loc[age_group_4, 'age_group'] = 4\n",
    "df.loc[age_group_5, 'age_group'] = 5\n",
    "df.loc[age_group_6, 'age_group'] = 6"
   ]
  },
  {
   "cell_type": "code",
   "execution_count": null,
   "metadata": {
    "collapsed": false
   },
   "outputs": [],
   "source": [
    "df['age_group'] = df['age_group'].astype(int)"
   ]
  },
  {
   "cell_type": "code",
   "execution_count": null,
   "metadata": {
    "collapsed": false
   },
   "outputs": [],
   "source": [
    "df.head()"
   ]
  },
  {
   "cell_type": "code",
   "execution_count": null,
   "metadata": {
    "collapsed": false
   },
   "outputs": [],
   "source": [
    "df.loc[df['sexo'].isnull(),'sexo'] = \"NA\""
   ]
  },
  {
   "cell_type": "code",
   "execution_count": null,
   "metadata": {
    "collapsed": false
   },
   "outputs": [],
   "source": [
    "incomes_gb = df[df['renta'].notnull()].drop(['age'], axis=1).groupby(['pais_residencia', 'nomprov', 'ind_empleado', 'segmento', 'sexo', 'age_group'])\n",
    "incomes_stats = incomes_gb.agg(\"median\")"
   ]
  },
  {
   "cell_type": "code",
   "execution_count": null,
   "metadata": {
    "collapsed": false
   },
   "outputs": [],
   "source": [
    "incomes_stats.shape"
   ]
  },
  {
   "cell_type": "code",
   "execution_count": null,
   "metadata": {
    "collapsed": false
   },
   "outputs": [],
   "source": [
    "incomes_stats.columns"
   ]
  },
  {
   "cell_type": "code",
   "execution_count": null,
   "metadata": {
    "collapsed": true
   },
   "outputs": [],
   "source": [
    "incomes_stats.to_csv(data_path+'incomes_stats.csv')"
   ]
  },
  {
   "cell_type": "code",
   "execution_count": null,
   "metadata": {
    "collapsed": false
   },
   "outputs": [],
   "source": [
    "incomes_stats_df = pd.read_csv(data_path+'incomes_stats.csv')"
   ]
  },
  {
   "cell_type": "code",
   "execution_count": null,
   "metadata": {
    "collapsed": false
   },
   "outputs": [],
   "source": [
    "incomes_stats_df.head()"
   ]
  },
  {
   "cell_type": "code",
   "execution_count": null,
   "metadata": {
    "collapsed": false
   },
   "outputs": [],
   "source": [
    "incomes_stats_df.loc[incomes_stats_df['sexo'].isnull(),'sexo'] = \"NA\"\n",
    "incomes_stats_df['sexo'].unique()"
   ]
  },
  {
   "cell_type": "code",
   "execution_count": null,
   "metadata": {
    "collapsed": false
   },
   "outputs": [],
   "source": [
    "from collections import defaultdict"
   ]
  },
  {
   "cell_type": "code",
   "execution_count": null,
   "metadata": {
    "collapsed": false
   },
   "outputs": [],
   "source": [
    "incomes_map = defaultdict(list)\n",
    "\n",
    "for index in incomes_stats_df.index:\n",
    "    row = incomes_stats_df.loc[index]\n",
    "    incomes_map[tuple(row.values[:-1])] = row['renta']\n",
    "    "
   ]
  },
  {
   "cell_type": "code",
   "execution_count": null,
   "metadata": {
    "collapsed": true
   },
   "outputs": [],
   "source": [
    "incomes_map"
   ]
  },
  {
   "cell_type": "code",
   "execution_count": null,
   "metadata": {
    "collapsed": true
   },
   "outputs": [],
   "source": []
  },
  {
   "cell_type": "code",
   "execution_count": null,
   "metadata": {
    "collapsed": true
   },
   "outputs": [],
   "source": []
  },
  {
   "cell_type": "code",
   "execution_count": null,
   "metadata": {
    "collapsed": true
   },
   "outputs": [],
   "source": []
  }
 ],
 "metadata": {
  "kernelspec": {
   "display_name": "Python 2",
   "language": "python",
   "name": "python2"
  },
  "language_info": {
   "codemirror_mode": {
    "name": "ipython",
    "version": 2
   },
   "file_extension": ".py",
   "mimetype": "text/x-python",
   "name": "python",
   "nbconvert_exporter": "python",
   "pygments_lexer": "ipython2",
   "version": "2.7.12"
  }
 },
 "nbformat": 4,
 "nbformat_minor": 1
}
