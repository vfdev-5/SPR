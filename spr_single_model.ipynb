{
 "cells": [
  {
   "cell_type": "markdown",
   "metadata": {},
   "source": [
    "# SPR single model predictions"
   ]
  },
  {
   "cell_type": "code",
   "execution_count": 45,
   "metadata": {
    "collapsed": false
   },
   "outputs": [
    {
     "name": "stdout",
     "output_type": "stream",
     "text": [
      "Populating the interactive namespace from numpy and matplotlib\n"
     ]
    }
   ],
   "source": [
    "import numpy as np\n",
    "import pandas as pd\n",
    "import seaborn as sns\n",
    "import matplotlib.pyplot as plt\n",
    "\n",
    "from sklearn.preprocessing import LabelEncoder\n",
    "from sklearn.model_selection import train_test_split\n",
    "from sklearn.preprocessing import StandardScaler\n",
    "from sklearn.model_selection import cross_val_score\n",
    "from sklearn.metrics import make_scorer\n",
    "from sklearn.ensemble import ExtraTreesClassifier, RandomForestClassifier, GradientBoostingClassifier\n",
    "from sklearn.svm import SVR\n",
    "\n",
    "%pylab inline\n",
    "pylab.rcParams['figure.figsize'] = (10, 6)\n",
    "color = sns.color_palette()"
   ]
  },
  {
   "cell_type": "code",
   "execution_count": 5,
   "metadata": {
    "collapsed": true
   },
   "outputs": [],
   "source": [
    "TARGET_LABELS = ['ind_ahor_fin_ult1', 'ind_aval_fin_ult1', 'ind_cco_fin_ult1',\n",
    " 'ind_cder_fin_ult1', 'ind_cno_fin_ult1', 'ind_ctju_fin_ult1',\n",
    " 'ind_ctma_fin_ult1', 'ind_ctop_fin_ult1', 'ind_ctpp_fin_ult1',\n",
    " 'ind_deco_fin_ult1', 'ind_deme_fin_ult1', 'ind_dela_fin_ult1',\n",
    " 'ind_ecue_fin_ult1', 'ind_fond_fin_ult1', 'ind_hip_fin_ult1',\n",
    " 'ind_plan_fin_ult1', 'ind_pres_fin_ult1', 'ind_reca_fin_ult1',\n",
    " 'ind_tjcr_fin_ult1', 'ind_valo_fin_ult1', 'ind_viv_fin_ult1',\n",
    " 'ind_nomina_ult1', 'ind_nom_pens_ult1', 'ind_recibo_ult1']"
   ]
  },
  {
   "cell_type": "code",
   "execution_count": 6,
   "metadata": {
    "collapsed": true
   },
   "outputs": [],
   "source": [
    "data_path = \"data/\""
   ]
  },
  {
   "cell_type": "code",
   "execution_count": 13,
   "metadata": {
    "collapsed": true
   },
   "outputs": [],
   "source": [
    "train_month_03 = pd.read_csv(data_path+\"train_2015-3.csv\", parse_dates=['fecha_dato', 'fecha_alta'])\n",
    "train_month_04 = pd.read_csv(data_path+\"train_2015-4.csv\", parse_dates=['fecha_dato', 'fecha_alta'])"
   ]
  },
  {
   "cell_type": "code",
   "execution_count": null,
   "metadata": {
    "collapsed": true
   },
   "outputs": [],
   "source": []
  },
  {
   "cell_type": "markdown",
   "metadata": {},
   "source": [
    "Define train dataset and test datasets"
   ]
  },
  {
   "cell_type": "code",
   "execution_count": 14,
   "metadata": {
    "collapsed": true
   },
   "outputs": [],
   "source": [
    "train = train_month_03\n",
    "test = train_month_04"
   ]
  },
  {
   "cell_type": "markdown",
   "metadata": {},
   "source": [
    "Encode categorical columns"
   ]
  },
  {
   "cell_type": "code",
   "execution_count": 15,
   "metadata": {
    "collapsed": true
   },
   "outputs": [
    {
     "data": {
      "text/plain": [
       "Unnamed: 0                        int64\n",
       "fecha_dato               datetime64[ns]\n",
       "ncodpers                          int64\n",
       "ind_empleado                     object\n",
       "pais_residencia                  object\n",
       "sexo                             object\n",
       "age                               int64\n",
       "fecha_alta               datetime64[ns]\n",
       "ind_nuevo                         int64\n",
       "antiguedad                        int64\n",
       "indrel                          float64\n",
       "ult_fec_cli_1t                   object\n",
       "indrel_1mes                     float64\n",
       "tiprel_1mes                      object\n",
       "indresi                          object\n",
       "indext                           object\n",
       "conyuemp                         object\n",
       "canal_entrada                    object\n",
       "indfall                          object\n",
       "nomprov                          object\n",
       "ind_actividad_cliente           float64\n",
       "renta                           float64\n",
       "segmento                         object\n",
       "ind_ahor_fin_ult1                 int64\n",
       "ind_aval_fin_ult1                 int64\n",
       "ind_cco_fin_ult1                  int64\n",
       "ind_cder_fin_ult1                 int64\n",
       "ind_cno_fin_ult1                  int64\n",
       "ind_ctju_fin_ult1                 int64\n",
       "ind_ctma_fin_ult1                 int64\n",
       "ind_ctop_fin_ult1                 int64\n",
       "ind_ctpp_fin_ult1                 int64\n",
       "ind_deco_fin_ult1                 int64\n",
       "ind_deme_fin_ult1                 int64\n",
       "ind_dela_fin_ult1                 int64\n",
       "ind_ecue_fin_ult1                 int64\n",
       "ind_fond_fin_ult1                 int64\n",
       "ind_hip_fin_ult1                  int64\n",
       "ind_plan_fin_ult1                 int64\n",
       "ind_pres_fin_ult1                 int64\n",
       "ind_reca_fin_ult1                 int64\n",
       "ind_tjcr_fin_ult1                 int64\n",
       "ind_valo_fin_ult1                 int64\n",
       "ind_viv_fin_ult1                  int64\n",
       "ind_nomina_ult1                 float64\n",
       "ind_nom_pens_ult1               float64\n",
       "ind_recibo_ult1                   int64\n",
       "dtype: object"
      ]
     },
     "execution_count": 15,
     "metadata": {},
     "output_type": "execute_result"
    }
   ],
   "source": [
    "train.dtypes"
   ]
  },
  {
   "cell_type": "code",
   "execution_count": 34,
   "metadata": {
    "collapsed": false
   },
   "outputs": [
    {
     "data": {
      "text/html": [
       "<div>\n",
       "<table border=\"1\" class=\"dataframe\">\n",
       "  <thead>\n",
       "    <tr style=\"text-align: right;\">\n",
       "      <th></th>\n",
       "      <th>Unnamed: 0</th>\n",
       "      <th>fecha_dato</th>\n",
       "      <th>ncodpers</th>\n",
       "      <th>ind_empleado</th>\n",
       "      <th>pais_residencia</th>\n",
       "      <th>sexo</th>\n",
       "      <th>age</th>\n",
       "      <th>fecha_alta</th>\n",
       "      <th>ind_nuevo</th>\n",
       "      <th>antiguedad</th>\n",
       "      <th>...</th>\n",
       "      <th>ind_hip_fin_ult1</th>\n",
       "      <th>ind_plan_fin_ult1</th>\n",
       "      <th>ind_pres_fin_ult1</th>\n",
       "      <th>ind_reca_fin_ult1</th>\n",
       "      <th>ind_tjcr_fin_ult1</th>\n",
       "      <th>ind_valo_fin_ult1</th>\n",
       "      <th>ind_viv_fin_ult1</th>\n",
       "      <th>ind_nomina_ult1</th>\n",
       "      <th>ind_nom_pens_ult1</th>\n",
       "      <th>ind_recibo_ult1</th>\n",
       "    </tr>\n",
       "  </thead>\n",
       "  <tbody>\n",
       "    <tr>\n",
       "      <th>0</th>\n",
       "      <td>0</td>\n",
       "      <td>2015-03-28</td>\n",
       "      <td>558670</td>\n",
       "      <td>3</td>\n",
       "      <td>34</td>\n",
       "      <td>2</td>\n",
       "      <td>62</td>\n",
       "      <td>2005-09-22</td>\n",
       "      <td>0</td>\n",
       "      <td>118</td>\n",
       "      <td>...</td>\n",
       "      <td>0</td>\n",
       "      <td>0</td>\n",
       "      <td>0</td>\n",
       "      <td>0</td>\n",
       "      <td>0</td>\n",
       "      <td>1</td>\n",
       "      <td>0</td>\n",
       "      <td>0.0</td>\n",
       "      <td>0.0</td>\n",
       "      <td>0</td>\n",
       "    </tr>\n",
       "    <tr>\n",
       "      <th>1</th>\n",
       "      <td>1</td>\n",
       "      <td>2015-03-28</td>\n",
       "      <td>558672</td>\n",
       "      <td>3</td>\n",
       "      <td>34</td>\n",
       "      <td>2</td>\n",
       "      <td>41</td>\n",
       "      <td>2005-09-22</td>\n",
       "      <td>0</td>\n",
       "      <td>118</td>\n",
       "      <td>...</td>\n",
       "      <td>0</td>\n",
       "      <td>0</td>\n",
       "      <td>0</td>\n",
       "      <td>0</td>\n",
       "      <td>0</td>\n",
       "      <td>0</td>\n",
       "      <td>0</td>\n",
       "      <td>0.0</td>\n",
       "      <td>0.0</td>\n",
       "      <td>1</td>\n",
       "    </tr>\n",
       "    <tr>\n",
       "      <th>2</th>\n",
       "      <td>2</td>\n",
       "      <td>2015-03-28</td>\n",
       "      <td>558662</td>\n",
       "      <td>3</td>\n",
       "      <td>34</td>\n",
       "      <td>2</td>\n",
       "      <td>45</td>\n",
       "      <td>2005-09-22</td>\n",
       "      <td>0</td>\n",
       "      <td>118</td>\n",
       "      <td>...</td>\n",
       "      <td>0</td>\n",
       "      <td>0</td>\n",
       "      <td>0</td>\n",
       "      <td>0</td>\n",
       "      <td>0</td>\n",
       "      <td>0</td>\n",
       "      <td>0</td>\n",
       "      <td>0.0</td>\n",
       "      <td>0.0</td>\n",
       "      <td>0</td>\n",
       "    </tr>\n",
       "    <tr>\n",
       "      <th>3</th>\n",
       "      <td>3</td>\n",
       "      <td>2015-03-28</td>\n",
       "      <td>558659</td>\n",
       "      <td>3</td>\n",
       "      <td>34</td>\n",
       "      <td>2</td>\n",
       "      <td>43</td>\n",
       "      <td>2005-09-22</td>\n",
       "      <td>0</td>\n",
       "      <td>118</td>\n",
       "      <td>...</td>\n",
       "      <td>0</td>\n",
       "      <td>0</td>\n",
       "      <td>0</td>\n",
       "      <td>0</td>\n",
       "      <td>0</td>\n",
       "      <td>0</td>\n",
       "      <td>0</td>\n",
       "      <td>0.0</td>\n",
       "      <td>0.0</td>\n",
       "      <td>0</td>\n",
       "    </tr>\n",
       "    <tr>\n",
       "      <th>4</th>\n",
       "      <td>4</td>\n",
       "      <td>2015-03-28</td>\n",
       "      <td>558648</td>\n",
       "      <td>3</td>\n",
       "      <td>34</td>\n",
       "      <td>2</td>\n",
       "      <td>71</td>\n",
       "      <td>2005-09-22</td>\n",
       "      <td>0</td>\n",
       "      <td>118</td>\n",
       "      <td>...</td>\n",
       "      <td>0</td>\n",
       "      <td>0</td>\n",
       "      <td>0</td>\n",
       "      <td>0</td>\n",
       "      <td>0</td>\n",
       "      <td>0</td>\n",
       "      <td>0</td>\n",
       "      <td>0.0</td>\n",
       "      <td>0.0</td>\n",
       "      <td>0</td>\n",
       "    </tr>\n",
       "  </tbody>\n",
       "</table>\n",
       "<p>5 rows × 47 columns</p>\n",
       "</div>"
      ],
      "text/plain": [
       "   Unnamed: 0 fecha_dato  ncodpers  ind_empleado  pais_residencia  sexo  age  \\\n",
       "0           0 2015-03-28    558670             3               34     2   62   \n",
       "1           1 2015-03-28    558672             3               34     2   41   \n",
       "2           2 2015-03-28    558662             3               34     2   45   \n",
       "3           3 2015-03-28    558659             3               34     2   43   \n",
       "4           4 2015-03-28    558648             3               34     2   71   \n",
       "\n",
       "  fecha_alta  ind_nuevo  antiguedad       ...         ind_hip_fin_ult1  \\\n",
       "0 2005-09-22          0         118       ...                        0   \n",
       "1 2005-09-22          0         118       ...                        0   \n",
       "2 2005-09-22          0         118       ...                        0   \n",
       "3 2005-09-22          0         118       ...                        0   \n",
       "4 2005-09-22          0         118       ...                        0   \n",
       "\n",
       "   ind_plan_fin_ult1  ind_pres_fin_ult1  ind_reca_fin_ult1  ind_tjcr_fin_ult1  \\\n",
       "0                  0                  0                  0                  0   \n",
       "1                  0                  0                  0                  0   \n",
       "2                  0                  0                  0                  0   \n",
       "3                  0                  0                  0                  0   \n",
       "4                  0                  0                  0                  0   \n",
       "\n",
       "   ind_valo_fin_ult1  ind_viv_fin_ult1  ind_nomina_ult1  ind_nom_pens_ult1  \\\n",
       "0                  1                 0              0.0                0.0   \n",
       "1                  0                 0              0.0                0.0   \n",
       "2                  0                 0              0.0                0.0   \n",
       "3                  0                 0              0.0                0.0   \n",
       "4                  0                 0              0.0                0.0   \n",
       "\n",
       "   ind_recibo_ult1  \n",
       "0                0  \n",
       "1                1  \n",
       "2                0  \n",
       "3                0  \n",
       "4                0  \n",
       "\n",
       "[5 rows x 47 columns]"
      ]
     },
     "execution_count": 34,
     "metadata": {},
     "output_type": "execute_result"
    }
   ],
   "source": [
    "train.head()"
   ]
  },
  {
   "cell_type": "code",
   "execution_count": 18,
   "metadata": {
    "collapsed": false
   },
   "outputs": [],
   "source": [
    "string_data = train.select_dtypes(include=[\"object\"])\n",
    "for c in string_data.columns:\n",
    "    le = LabelEncoder()    \n",
    "    le.fit(train[c])\n",
    "    train[c] = le.transform(train[c])"
   ]
  },
  {
   "cell_type": "code",
   "execution_count": 19,
   "metadata": {
    "collapsed": true
   },
   "outputs": [
    {
     "data": {
      "text/plain": [
       "Unnamed: 0                        int64\n",
       "fecha_dato               datetime64[ns]\n",
       "ncodpers                          int64\n",
       "ind_empleado                      int64\n",
       "pais_residencia                   int64\n",
       "sexo                              int64\n",
       "age                               int64\n",
       "fecha_alta               datetime64[ns]\n",
       "ind_nuevo                         int64\n",
       "antiguedad                        int64\n",
       "indrel                          float64\n",
       "ult_fec_cli_1t                    int64\n",
       "indrel_1mes                     float64\n",
       "tiprel_1mes                       int64\n",
       "indresi                           int64\n",
       "indext                            int64\n",
       "conyuemp                          int64\n",
       "canal_entrada                     int64\n",
       "indfall                           int64\n",
       "nomprov                           int64\n",
       "ind_actividad_cliente           float64\n",
       "renta                           float64\n",
       "segmento                          int64\n",
       "ind_ahor_fin_ult1                 int64\n",
       "ind_aval_fin_ult1                 int64\n",
       "ind_cco_fin_ult1                  int64\n",
       "ind_cder_fin_ult1                 int64\n",
       "ind_cno_fin_ult1                  int64\n",
       "ind_ctju_fin_ult1                 int64\n",
       "ind_ctma_fin_ult1                 int64\n",
       "ind_ctop_fin_ult1                 int64\n",
       "ind_ctpp_fin_ult1                 int64\n",
       "ind_deco_fin_ult1                 int64\n",
       "ind_deme_fin_ult1                 int64\n",
       "ind_dela_fin_ult1                 int64\n",
       "ind_ecue_fin_ult1                 int64\n",
       "ind_fond_fin_ult1                 int64\n",
       "ind_hip_fin_ult1                  int64\n",
       "ind_plan_fin_ult1                 int64\n",
       "ind_pres_fin_ult1                 int64\n",
       "ind_reca_fin_ult1                 int64\n",
       "ind_tjcr_fin_ult1                 int64\n",
       "ind_valo_fin_ult1                 int64\n",
       "ind_viv_fin_ult1                  int64\n",
       "ind_nomina_ult1                 float64\n",
       "ind_nom_pens_ult1               float64\n",
       "ind_recibo_ult1                   int64\n",
       "dtype: object"
      ]
     },
     "execution_count": 19,
     "metadata": {},
     "output_type": "execute_result"
    }
   ],
   "source": [
    "train.dtypes"
   ]
  },
  {
   "cell_type": "code",
   "execution_count": 21,
   "metadata": {
    "collapsed": false
   },
   "outputs": [],
   "source": [
    "Y = np.zeros((train.shape[0], len(TARGET_LABELS)))\n",
    "for i, col in enumerate(TARGET_LABELS):\n",
    "    Y[:, i] = train[col]"
   ]
  },
  {
   "cell_type": "code",
   "execution_count": 40,
   "metadata": {
    "collapsed": false
   },
   "outputs": [],
   "source": [
    "date_cols = ['fecha_dato', 'fecha_alta']\n",
    "\n",
    "X = train.drop(date_cols, axis=1)\n",
    "X = X.drop(['antiguedad'], axis=1)\n",
    "X['logrenta'] = np.log(X[X['renta'] > 0]['renta'] + 1)\n",
    "X['logrenta'].fillna(-99, inplace=True)\n",
    "X['duration'] = (train['fecha_dato'] - train['fecha_alta']).dt.days"
   ]
  },
  {
   "cell_type": "code",
   "execution_count": 42,
   "metadata": {
    "collapsed": true
   },
   "outputs": [],
   "source": [
    "X = StandardScaler().fit_transform(X)"
   ]
  },
  {
   "cell_type": "code",
   "execution_count": 46,
   "metadata": {
    "collapsed": true
   },
   "outputs": [],
   "source": [
    "rf = RandomForestClassifier(n_estimators = 100, n_jobs = -1, verbose = 0)"
   ]
  },
  {
   "cell_type": "code",
   "execution_count": 47,
   "metadata": {
    "collapsed": false
   },
   "outputs": [
    {
     "name": "stdout",
     "output_type": "stream",
     "text": [
      "1.0\n"
     ]
    }
   ],
   "source": [
    "X_train = X\n",
    "y_train = Y[:, 0]\n",
    "rf.fit(X_train, y_train)\n",
    "score = rf.score(X_train, y_train)\n",
    "print score"
   ]
  },
  {
   "cell_type": "code",
   "execution_count": null,
   "metadata": {
    "collapsed": true
   },
   "outputs": [],
   "source": []
  },
  {
   "cell_type": "code",
   "execution_count": null,
   "metadata": {
    "collapsed": true
   },
   "outputs": [],
   "source": [
    "rf.fit(X_train, y_train)\n",
    "score = rf.score(X_train, y_train)\n",
    "print score\n",
    "res0 = rf.predict(X_train)\n",
    "res1 = rf.predict(X_test)\n",
    "print mape_error(y_train, res0)\n",
    "print mape_error(y_test, res1)\n",
    "\n",
    "print res1[:10]\n",
    "print y_test.values[:10]"
   ]
  },
  {
   "cell_type": "code",
   "execution_count": null,
   "metadata": {
    "collapsed": true
   },
   "outputs": [],
   "source": [
    "def run_cv(data, targets, clf, cv=10):\n",
    "    X0 = data\n",
    "    y = targets\n",
    "    X = StandardScaler().fit_transform(X0)\n",
    "    scores = cross_val_score(clf, X, y, cv=cv, scoring=make_scorer(mape_error))\n",
    "    print scores      \n",
    "    print scores.mean(), scores.std()"
   ]
  },
  {
   "cell_type": "code",
   "execution_count": null,
   "metadata": {
    "collapsed": true
   },
   "outputs": [],
   "source": []
  },
  {
   "cell_type": "code",
   "execution_count": null,
   "metadata": {
    "collapsed": true
   },
   "outputs": [],
   "source": []
  }
 ],
 "metadata": {
  "kernelspec": {
   "display_name": "Python 2",
   "language": "python",
   "name": "python2"
  },
  "language_info": {
   "codemirror_mode": {
    "name": "ipython",
    "version": 2
   },
   "file_extension": ".py",
   "mimetype": "text/x-python",
   "name": "python",
   "nbconvert_exporter": "python",
   "pygments_lexer": "ipython2",
   "version": "2.7.12"
  }
 },
 "nbformat": 4,
 "nbformat_minor": 1
}
