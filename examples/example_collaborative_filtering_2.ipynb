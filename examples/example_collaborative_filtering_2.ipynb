{
 "cells": [
  {
   "cell_type": "markdown",
   "metadata": {},
   "source": [
    "# Example 2 of collaborative filtering"
   ]
  },
  {
   "cell_type": "code",
   "execution_count": 1,
   "metadata": {
    "collapsed": true
   },
   "outputs": [],
   "source": [
    "import pandas as pd\n",
    "import numpy as np\n",
    "\n",
    "from sklearn.model_selection import train_test_split\n",
    "from sklearn.metrics import mean_absolute_error\n",
    "\n",
    "from collections import defaultdict\n",
    "import operator"
   ]
  },
  {
   "cell_type": "markdown",
   "metadata": {},
   "source": [
    "## Setup data"
   ]
  },
  {
   "cell_type": "markdown",
   "metadata": {},
   "source": [
    "Let us define a random data describing young people tastes per months\n",
    "We store 'id', 'date' and 'age', 'gender', 'residence' as profile information and targets : 'like_comics', 'like_games', 'like_movies', 'like_sport'"
   ]
  },
  {
   "cell_type": "code",
   "execution_count": 89,
   "metadata": {
    "collapsed": false
   },
   "outputs": [],
   "source": [
    "size_per_month = 1000\n",
    "last_month = 5\n",
    "\n",
    "DATA = pd.DataFrame()\n",
    "\n",
    "profiles = {\n",
    "    'id': range(size_per_month),\n",
    "    'age': np.random.randint(7, 25, size=size_per_month),\n",
    "    'gender': np.random.randint(2, size=size_per_month),\n",
    "    'residence': np.random.randint(5, size=size_per_month)\n",
    "}\n",
    "\n",
    "for i in range(1, last_month+1):\n",
    "    df = pd.DataFrame({\n",
    "            '__id': profiles['id'],\n",
    "            '_age': profiles['age'],\n",
    "            '_gender': profiles['gender'],            \n",
    "            '_residence': profiles['residence'], \n",
    "            '_date': [i] * size_per_month,\n",
    "            'like_movies': np.random.randint(2, size=size_per_month),\n",
    "            'like_comics': np.random.randint(2, size=size_per_month),\n",
    "            'like_games': np.random.randint(2, size=size_per_month),\n",
    "            'like_sport': np.random.randint(2, size=size_per_month),\n",
    "        }, index=range((i-1)*size_per_month, i*size_per_month))\n",
    "    DATA = pd.concat([DATA, df], axis=0)"
   ]
  },
  {
   "cell_type": "code",
   "execution_count": 90,
   "metadata": {
    "collapsed": false
   },
   "outputs": [
    {
     "data": {
      "text/html": [
       "<div>\n",
       "<table border=\"1\" class=\"dataframe\">\n",
       "  <thead>\n",
       "    <tr style=\"text-align: right;\">\n",
       "      <th></th>\n",
       "      <th>__id</th>\n",
       "      <th>_age</th>\n",
       "      <th>_date</th>\n",
       "      <th>_gender</th>\n",
       "      <th>_residence</th>\n",
       "      <th>like_comics</th>\n",
       "      <th>like_games</th>\n",
       "      <th>like_movies</th>\n",
       "      <th>like_sport</th>\n",
       "    </tr>\n",
       "  </thead>\n",
       "  <tbody>\n",
       "    <tr>\n",
       "      <th>0</th>\n",
       "      <td>0</td>\n",
       "      <td>17</td>\n",
       "      <td>1</td>\n",
       "      <td>0</td>\n",
       "      <td>4</td>\n",
       "      <td>0</td>\n",
       "      <td>1</td>\n",
       "      <td>1</td>\n",
       "      <td>1</td>\n",
       "    </tr>\n",
       "    <tr>\n",
       "      <th>1</th>\n",
       "      <td>1</td>\n",
       "      <td>15</td>\n",
       "      <td>1</td>\n",
       "      <td>0</td>\n",
       "      <td>4</td>\n",
       "      <td>0</td>\n",
       "      <td>0</td>\n",
       "      <td>1</td>\n",
       "      <td>0</td>\n",
       "    </tr>\n",
       "    <tr>\n",
       "      <th>2</th>\n",
       "      <td>2</td>\n",
       "      <td>14</td>\n",
       "      <td>1</td>\n",
       "      <td>1</td>\n",
       "      <td>4</td>\n",
       "      <td>1</td>\n",
       "      <td>1</td>\n",
       "      <td>1</td>\n",
       "      <td>1</td>\n",
       "    </tr>\n",
       "    <tr>\n",
       "      <th>3</th>\n",
       "      <td>3</td>\n",
       "      <td>17</td>\n",
       "      <td>1</td>\n",
       "      <td>1</td>\n",
       "      <td>4</td>\n",
       "      <td>0</td>\n",
       "      <td>0</td>\n",
       "      <td>1</td>\n",
       "      <td>0</td>\n",
       "    </tr>\n",
       "    <tr>\n",
       "      <th>4</th>\n",
       "      <td>4</td>\n",
       "      <td>9</td>\n",
       "      <td>1</td>\n",
       "      <td>0</td>\n",
       "      <td>4</td>\n",
       "      <td>0</td>\n",
       "      <td>1</td>\n",
       "      <td>0</td>\n",
       "      <td>1</td>\n",
       "    </tr>\n",
       "  </tbody>\n",
       "</table>\n",
       "</div>"
      ],
      "text/plain": [
       "   __id  _age  _date  _gender  _residence  like_comics  like_games  \\\n",
       "0     0    17      1        0           4            0           1   \n",
       "1     1    15      1        0           4            0           0   \n",
       "2     2    14      1        1           4            1           1   \n",
       "3     3    17      1        1           4            0           0   \n",
       "4     4     9      1        0           4            0           1   \n",
       "\n",
       "   like_movies  like_sport  \n",
       "0            1           1  \n",
       "1            1           0  \n",
       "2            1           1  \n",
       "3            1           0  \n",
       "4            0           1  "
      ]
     },
     "execution_count": 90,
     "metadata": {},
     "output_type": "execute_result"
    }
   ],
   "source": [
    "DATA[DATA['_date'] == 1].head()"
   ]
  },
  {
   "cell_type": "code",
   "execution_count": 91,
   "metadata": {
    "collapsed": false
   },
   "outputs": [
    {
     "data": {
      "text/html": [
       "<div>\n",
       "<table border=\"1\" class=\"dataframe\">\n",
       "  <thead>\n",
       "    <tr style=\"text-align: right;\">\n",
       "      <th></th>\n",
       "      <th>__id</th>\n",
       "      <th>_age</th>\n",
       "      <th>_date</th>\n",
       "      <th>_gender</th>\n",
       "      <th>_residence</th>\n",
       "      <th>like_comics</th>\n",
       "      <th>like_games</th>\n",
       "      <th>like_movies</th>\n",
       "      <th>like_sport</th>\n",
       "    </tr>\n",
       "  </thead>\n",
       "  <tbody>\n",
       "    <tr>\n",
       "      <th>1000</th>\n",
       "      <td>0</td>\n",
       "      <td>17</td>\n",
       "      <td>2</td>\n",
       "      <td>0</td>\n",
       "      <td>4</td>\n",
       "      <td>1</td>\n",
       "      <td>1</td>\n",
       "      <td>0</td>\n",
       "      <td>0</td>\n",
       "    </tr>\n",
       "    <tr>\n",
       "      <th>1001</th>\n",
       "      <td>1</td>\n",
       "      <td>15</td>\n",
       "      <td>2</td>\n",
       "      <td>0</td>\n",
       "      <td>4</td>\n",
       "      <td>0</td>\n",
       "      <td>0</td>\n",
       "      <td>1</td>\n",
       "      <td>0</td>\n",
       "    </tr>\n",
       "    <tr>\n",
       "      <th>1002</th>\n",
       "      <td>2</td>\n",
       "      <td>14</td>\n",
       "      <td>2</td>\n",
       "      <td>1</td>\n",
       "      <td>4</td>\n",
       "      <td>1</td>\n",
       "      <td>0</td>\n",
       "      <td>0</td>\n",
       "      <td>0</td>\n",
       "    </tr>\n",
       "    <tr>\n",
       "      <th>1003</th>\n",
       "      <td>3</td>\n",
       "      <td>17</td>\n",
       "      <td>2</td>\n",
       "      <td>1</td>\n",
       "      <td>4</td>\n",
       "      <td>0</td>\n",
       "      <td>1</td>\n",
       "      <td>0</td>\n",
       "      <td>1</td>\n",
       "    </tr>\n",
       "    <tr>\n",
       "      <th>1004</th>\n",
       "      <td>4</td>\n",
       "      <td>9</td>\n",
       "      <td>2</td>\n",
       "      <td>0</td>\n",
       "      <td>4</td>\n",
       "      <td>1</td>\n",
       "      <td>1</td>\n",
       "      <td>0</td>\n",
       "      <td>1</td>\n",
       "    </tr>\n",
       "  </tbody>\n",
       "</table>\n",
       "</div>"
      ],
      "text/plain": [
       "      __id  _age  _date  _gender  _residence  like_comics  like_games  \\\n",
       "1000     0    17      2        0           4            1           1   \n",
       "1001     1    15      2        0           4            0           0   \n",
       "1002     2    14      2        1           4            1           0   \n",
       "1003     3    17      2        1           4            0           1   \n",
       "1004     4     9      2        0           4            1           1   \n",
       "\n",
       "      like_movies  like_sport  \n",
       "1000            0           0  \n",
       "1001            1           0  \n",
       "1002            0           0  \n",
       "1003            0           1  \n",
       "1004            0           1  "
      ]
     },
     "execution_count": 91,
     "metadata": {},
     "output_type": "execute_result"
    }
   ],
   "source": [
    "DATA[DATA['_date'] == 2].head()"
   ]
  },
  {
   "cell_type": "code",
   "execution_count": 92,
   "metadata": {
    "collapsed": true
   },
   "outputs": [],
   "source": [
    "TRAIN = DATA[DATA['_date'] < last_month]\n",
    "TEST = DATA[DATA['_date'] == last_month]"
   ]
  },
  {
   "cell_type": "markdown",
   "metadata": {},
   "source": [
    "## Compute recommendations\n",
    "\n",
    "*Common recommendations*:\n",
    "\n",
    "From training dataset define a dictionary 'recommendations' with keys `('age', 'gender')` and values `{'like_comics': count1, 'like_games': count2, 'like_movies': count3, 'like_sport': count4}`. Then sort it by most popular.\n",
    "\n",
    "*Personal recommendations*:\n",
    "\n",
    "This recommendation stores user's preferences per month evolution.\n",
    "When user chooses a target (sets to `1`), then the recommendation adds `1` to the target.\n",
    "When user does not chooses a target (sets to `0`), then the recommendation adds `-1` to the target, however the total value remain positive (if value is `0`, and we add `-1`, the value remains `0`).\n",
    "\n"
   ]
  },
  {
   "cell_type": "code",
   "execution_count": 116,
   "metadata": {
    "collapsed": false
   },
   "outputs": [],
   "source": [
    "common_recommendations = defaultdict(lambda: defaultdict(float))\n",
    "personal_recommendations = defaultdict(lambda: defaultdict(float))\n",
    "\n",
    "profile_labels = ['_age', '_gender', '_residence']\n",
    "target_labels = ['like_comics', 'like_games', 'like_movies', 'like_sport']\n",
    "for i in TRAIN.index:\n",
    "    row = TRAIN.loc[i]\n",
    "    user = row['__id']\n",
    "    key = tuple(row[profile_labels].values)\n",
    "    targets = row[target_labels].values    \n",
    "    for l, t in zip(target_labels, targets):\n",
    "        # Update common recommendations\n",
    "        if t > 0:\n",
    "            common_recommendations[key][l] += 1\n",
    "    # Init/Update personal recommendations\n",
    "    if user not in personal_recommendations:\n",
    "        personal_recommendations[user] = targets\n",
    "    else:\n",
    "        updates = targets.copy()\n",
    "        updates[updates == 0] = -1\n",
    "        current_values = personal_recommendations[user]\n",
    "        updates += current_values\n",
    "        updates[updates < 0] = 0\n",
    "        personal_recommendations[user] = updates"
   ]
  },
  {
   "cell_type": "markdown",
   "metadata": {},
   "source": [
    "Transform counts to frequencies : \n",
    "```count -> count / nb_votes_per_age_gender```\n"
   ]
  },
  {
   "cell_type": "code",
   "execution_count": 117,
   "metadata": {
    "collapsed": false
   },
   "outputs": [],
   "source": [
    "nb_votes_per_profile = TRAIN.groupby(['_age', '_gender', '_residence']).agg('size')\n",
    "for key, value in common_recommendations.items():\n",
    "    for k in value:\n",
    "        value[k] /= nb_votes_per_profile[key]"
   ]
  },
  {
   "cell_type": "code",
   "execution_count": 118,
   "metadata": {
    "collapsed": false
   },
   "outputs": [
    {
     "data": {
      "text/plain": [
       "[((15, 0, 4),\n",
       "  defaultdict(float,\n",
       "              {'like_comics': 0.21875,\n",
       "               'like_games': 0.53125,\n",
       "               'like_movies': 0.625,\n",
       "               'like_sport': 0.5625})),\n",
       " ((21, 0, 3),\n",
       "  defaultdict(float,\n",
       "              {'like_comics': 0.4,\n",
       "               'like_games': 0.45,\n",
       "               'like_movies': 0.6,\n",
       "               'like_sport': 0.4})),\n",
       " ((14, 1, 3),\n",
       "  defaultdict(float,\n",
       "              {'like_comics': 0.25,\n",
       "               'like_games': 0.25,\n",
       "               'like_movies': 0.5,\n",
       "               'like_sport': 0.75}))]"
      ]
     },
     "execution_count": 118,
     "metadata": {},
     "output_type": "execute_result"
    }
   ],
   "source": [
    "common_recommendations.items()[:3]"
   ]
  },
  {
   "cell_type": "markdown",
   "metadata": {},
   "source": [
    "Transform personal recommendation values to probabilities using the following rule :\n",
    "```\n",
    "Pr[value] = value/2*number_of_months + 0.5\n",
    "```\n",
    "with `value` is between 0 and `number_of_months`. The variable `number_of_months` corresponds to the number of months used for predictions."
   ]
  },
  {
   "cell_type": "code",
   "execution_count": 119,
   "metadata": {
    "collapsed": false,
    "scrolled": false
   },
   "outputs": [],
   "source": [
    "for key in personal_recommendations:\n",
    "    values = personal_recommendations[key]\n",
    "    proba = values/(2.0*(last_month-1)) + 0.5\n",
    "    personal_recommendations[key] = proba"
   ]
  },
  {
   "cell_type": "code",
   "execution_count": 120,
   "metadata": {
    "collapsed": false
   },
   "outputs": [
    {
     "data": {
      "text/plain": [
       "[(0, array([ 0.5  ,  0.75 ,  0.625,  0.625])),\n",
       " (1, array([ 0.5  ,  0.75 ,  0.75 ,  0.625])),\n",
       " (2, array([ 0.5  ,  0.5  ,  0.625,  0.5  ])),\n",
       " (3, array([ 0.5  ,  0.5  ,  0.75 ,  0.625])),\n",
       " (4, array([ 0.625,  0.75 ,  0.5  ,  0.75 ])),\n",
       " (5, array([ 1.  ,  0.5 ,  0.75,  0.75])),\n",
       " (6, array([ 0.5  ,  0.5  ,  0.75 ,  0.625])),\n",
       " (7, array([ 0.75 ,  0.625,  0.75 ,  0.75 ])),\n",
       " (8, array([ 0.625,  0.625,  0.75 ,  1.   ])),\n",
       " (9, array([ 0.75 ,  0.5  ,  0.625,  0.5  ]))]"
      ]
     },
     "execution_count": 120,
     "metadata": {},
     "output_type": "execute_result"
    }
   ],
   "source": [
    "personal_recommendations.items()[:10]"
   ]
  },
  {
   "cell_type": "markdown",
   "metadata": {},
   "source": [
    "## Compute predictions from recommendations"
   ]
  },
  {
   "cell_type": "code",
   "execution_count": 150,
   "metadata": {
    "collapsed": true
   },
   "outputs": [],
   "source": [
    "common_rc_weight = 0.2\n",
    "personal_rc_weight = 1.0 - common_rc_weight"
   ]
  },
  {
   "cell_type": "code",
   "execution_count": 151,
   "metadata": {
    "collapsed": true
   },
   "outputs": [],
   "source": [
    "def compute_predictions(user_id, profile, threshold=0.6, verbose=False):\n",
    "    common_predictions = None        \n",
    "    if profile in common_recommendations:\n",
    "        common_predictions = []\n",
    "        for t in target_labels:            \n",
    "            common_predictions.append(common_recommendations[profile][t])            \n",
    "    if verbose: print \"Common predictions: \", common_predictions\n",
    "    \n",
    "    personal_predictions = None    \n",
    "    if user_id in personal_recommendations:\n",
    "        personal_predictions = personal_recommendations[user_id]\n",
    "    if verbose: print \"Personal predictions: \", personal_predictions\n",
    "\n",
    "    \n",
    "    if common_predictions is not None and personal_predictions is not None:\n",
    "        predictions = np.array(common_predictions) * common_rc_weight + np.array(personal_predictions) * personal_rc_weight\n",
    "    elif common_predictions is not None:\n",
    "        predictions = np.array(common_predictions)\n",
    "    elif personal_predictions is not None:\n",
    "        predictions = np.array(personal_predictions)\n",
    "    else:\n",
    "        raise Exception(\"Failed to compute predictions\")\n",
    "        \n",
    "    if verbose: print \"Total predictions: \", predictions\n",
    "    \n",
    "    predictions[predictions >= threshold] = 1\n",
    "    predictions[predictions < threshold] = 0\n",
    "    return predictions.astype(np.int)"
   ]
  },
  {
   "cell_type": "markdown",
   "metadata": {},
   "source": [
    "For example, a boy of 15 years old, residing in '4' with the id=1 will like : "
   ]
  },
  {
   "cell_type": "code",
   "execution_count": 139,
   "metadata": {
    "collapsed": false
   },
   "outputs": [
    {
     "name": "stdout",
     "output_type": "stream",
     "text": [
      "Common predictions:  [0.21875, 0.53125, 0.625, 0.5625]\n",
      "Personal predictions:  [ 0.5    0.75   0.75   0.625]\n",
      "Total predictions:  [ 0.3875  0.6625  0.7     0.6   ]\n"
     ]
    },
    {
     "data": {
      "text/plain": [
       "array([0, 1, 1, 1])"
      ]
     },
     "execution_count": 139,
     "metadata": {},
     "output_type": "execute_result"
    }
   ],
   "source": [
    "compute_predictions(1, (15, 0, 4), 0.6, True)"
   ]
  },
  {
   "cell_type": "markdown",
   "metadata": {},
   "source": [
    "## Validate predictions"
   ]
  },
  {
   "cell_type": "code",
   "execution_count": 156,
   "metadata": {
    "collapsed": false
   },
   "outputs": [
    {
     "data": {
      "text/html": [
       "<div>\n",
       "<table border=\"1\" class=\"dataframe\">\n",
       "  <thead>\n",
       "    <tr style=\"text-align: right;\">\n",
       "      <th></th>\n",
       "      <th>__id</th>\n",
       "      <th>_age</th>\n",
       "      <th>_date</th>\n",
       "      <th>_gender</th>\n",
       "      <th>_residence</th>\n",
       "      <th>like_comics</th>\n",
       "      <th>like_games</th>\n",
       "      <th>like_movies</th>\n",
       "      <th>like_sport</th>\n",
       "    </tr>\n",
       "  </thead>\n",
       "  <tbody>\n",
       "    <tr>\n",
       "      <th>4000</th>\n",
       "      <td>0</td>\n",
       "      <td>17</td>\n",
       "      <td>5</td>\n",
       "      <td>0</td>\n",
       "      <td>4</td>\n",
       "      <td>0</td>\n",
       "      <td>1</td>\n",
       "      <td>0</td>\n",
       "      <td>0</td>\n",
       "    </tr>\n",
       "    <tr>\n",
       "      <th>4001</th>\n",
       "      <td>1</td>\n",
       "      <td>15</td>\n",
       "      <td>5</td>\n",
       "      <td>0</td>\n",
       "      <td>4</td>\n",
       "      <td>0</td>\n",
       "      <td>1</td>\n",
       "      <td>1</td>\n",
       "      <td>0</td>\n",
       "    </tr>\n",
       "    <tr>\n",
       "      <th>4002</th>\n",
       "      <td>2</td>\n",
       "      <td>14</td>\n",
       "      <td>5</td>\n",
       "      <td>1</td>\n",
       "      <td>4</td>\n",
       "      <td>0</td>\n",
       "      <td>0</td>\n",
       "      <td>0</td>\n",
       "      <td>0</td>\n",
       "    </tr>\n",
       "    <tr>\n",
       "      <th>4003</th>\n",
       "      <td>3</td>\n",
       "      <td>17</td>\n",
       "      <td>5</td>\n",
       "      <td>1</td>\n",
       "      <td>4</td>\n",
       "      <td>0</td>\n",
       "      <td>0</td>\n",
       "      <td>1</td>\n",
       "      <td>0</td>\n",
       "    </tr>\n",
       "    <tr>\n",
       "      <th>4004</th>\n",
       "      <td>4</td>\n",
       "      <td>9</td>\n",
       "      <td>5</td>\n",
       "      <td>0</td>\n",
       "      <td>4</td>\n",
       "      <td>0</td>\n",
       "      <td>1</td>\n",
       "      <td>0</td>\n",
       "      <td>1</td>\n",
       "    </tr>\n",
       "  </tbody>\n",
       "</table>\n",
       "</div>"
      ],
      "text/plain": [
       "      __id  _age  _date  _gender  _residence  like_comics  like_games  \\\n",
       "4000     0    17      5        0           4            0           1   \n",
       "4001     1    15      5        0           4            0           1   \n",
       "4002     2    14      5        1           4            0           0   \n",
       "4003     3    17      5        1           4            0           0   \n",
       "4004     4     9      5        0           4            0           1   \n",
       "\n",
       "      like_movies  like_sport  \n",
       "4000            0           0  \n",
       "4001            1           0  \n",
       "4002            0           0  \n",
       "4003            1           0  \n",
       "4004            0           1  "
      ]
     },
     "execution_count": 156,
     "metadata": {},
     "output_type": "execute_result"
    }
   ],
   "source": [
    "threshold = 0.65\n",
    "\n",
    "predictions = pd.DataFrame()\n",
    "predictions = pd.concat([predictions, TEST])\n",
    "predictions[target_labels] = 0\n",
    "\n",
    "for i in predictions.index:\n",
    "    row = predictions.loc[i]\n",
    "    user_id = row['__id']\n",
    "    profile = tuple(row[profile_labels].values)\n",
    "    predictions.loc[i, target_labels] = compute_predictions(user_id, profile, threshold)\n",
    "    \n",
    "predictions.head()"
   ]
  },
  {
   "cell_type": "code",
   "execution_count": 157,
   "metadata": {
    "collapsed": false
   },
   "outputs": [
    {
     "data": {
      "text/plain": [
       "0.48799999999999999"
      ]
     },
     "execution_count": 157,
     "metadata": {},
     "output_type": "execute_result"
    }
   ],
   "source": [
    "mean_absolute_error(TEST[target_labels], predictions[target_labels])"
   ]
  },
  {
   "cell_type": "code",
   "execution_count": null,
   "metadata": {
    "collapsed": true
   },
   "outputs": [],
   "source": [
    ""
   ]
  }
 ],
 "metadata": {
  "kernelspec": {
   "display_name": "Python 2",
   "language": "python",
   "name": "python2"
  },
  "language_info": {
   "codemirror_mode": {
    "name": "ipython",
    "version": 2.0
   },
   "file_extension": ".py",
   "mimetype": "text/x-python",
   "name": "python",
   "nbconvert_exporter": "python",
   "pygments_lexer": "ipython2",
   "version": "2.7.12"
  }
 },
 "nbformat": 4,
 "nbformat_minor": 0
}