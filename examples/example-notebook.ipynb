﻿{
 "metadata": {
  "kernelspec": {
   "display_name": "Python 3",
   "language": "python",
   "name": "python3"
  },
  "language_info": {
   "codemirror_mode": {
    "name": "ipython",
    "version": 3
   },
   "file_extension": ".py",
   "mimetype": "text/x-python",
   "name": "python",
   "nbconvert_exporter": "python",
   "pygments_lexer": "ipython3",
   "version": "3.5.2"
  }
 },
 "nbformat": 4,
 "nbformat_minor": 0,
 "cells": [
  {
   "cell_type": "markdown",
   "source": "# Detailed Data Cleaning/Visualization\n\n*This is a Python version of a kernel I wrote in R for this dataset found [here](https://www.kaggle.com/apryor6/santander-product-recommendation/detailed-cleaning-visualization). There are some slight differences between how missing values are treated in Python and R, so the two kernels are not exactly the same, but I have tried to make them as similar as possible. This was done as a convenience to anybody who wanted to use my cleaned data as a starting point but prefers Python to R. It also is educational to compare how the same task can be accomplished in either language.*\n\nThe goal of this competition is to predict which new Santander products, if any, a customer will purchase in the following month. Here, I will do some data cleaning, adjust some features, and do some visualization to get a sense of what features might be important predictors. I won't be building a predictive model in this kernel, but I hope this gives you some insight/ideas and gets you excited to build your own model.\n\nLet's get to it\n\n## First Glance\nLimit the number of rows read in to avoid memory crashes with the kernel",
   "metadata": {}
  },
  {
   "cell_type": "code",
   "source": "import numpy as np\nimport pandas as pd\nimport seaborn as sns\nimport matplotlib.pyplot as plt\n%pylab inline\npylab.rcParams['figure.figsize'] = (10, 6)",
   "execution_count": null,
   "outputs": [],
   "metadata": {}
  },
  {
   "cell_type": "code",
   "source": "limit_rows   = 7000000\ndf           = pd.read_csv(\"../input/train_ver2.csv\",dtype={\"sexo\":str,\n                                                    \"ind_nuevo\":str,\n                                                    \"ult_fec_cli_1t\":str,\n                                                    \"indext\":str}, nrows=limit_rows)\nunique_ids   = pd.Series(df[\"ncodpers\"].unique())\nlimit_people = 1e4\nunique_id    = unique_ids.sample(n=limit_people)\ndf           = df[df.ncodpers.isin(unique_id)]\ndf.describe()",
   "execution_count": null,
   "outputs": [],
   "metadata": {}
  },
  {
   "cell_type": "markdown",
   "source": "We have a number of demographics for each individual as well as the products they currently own. To make a test set, I will separate the last month from this training data, and create a feature that indicates whether or not a product was newly purchased. First convert the dates. There's `fecha_dato`, the row-identifier date, and `fecha_alta`, the date that the customer joined.",
   "metadata": {}
  },
  {
   "cell_type": "code",
   "source": "df[\"fecha_dato\"] = pd.to_datetime(df[\"fecha_dato\"],format=\"%Y-%m-%d\")\ndf[\"fecha_alta\"] = pd.to_datetime(df[\"fecha_alta\"],format=\"%Y-%m-%d\")\ndf[\"fecha_dato\"].unique()",
   "execution_count": null,
   "outputs": [],
   "metadata": {}
  },
  {
   "cell_type": "markdown",
   "source": "I printed the values just to double check the dates were in standard Year-Month-Day format. I expect that customers will be more likely to buy products at certain months of the year (Christmas bonuses?), so let's add a month column. I don't think the month that they joined matters, so just do it for one.",
   "metadata": {}
  },
  {
   "cell_type": "code",
   "source": "df[\"month\"] = pd.DatetimeIndex(df[\"fecha_dato\"]).month\ndf[\"age\"]   = pd.to_numeric(df[\"age\"], errors=\"coerce\")",
   "execution_count": null,
   "outputs": [],
   "metadata": {}
  },
  {
   "cell_type": "markdown",
   "source": "Are there any columns missing values?",
   "metadata": {}
  },
  {
   "cell_type": "code",
   "source": "df.isnull().any()",
   "execution_count": null,
   "outputs": [],
   "metadata": {}
  },
  {
   "cell_type": "markdown",
   "source": "Definitely. Onto data cleaning.\n\n## Data Cleaning\n\nGoing down the list, start with `age`",
   "metadata": {}
  },
  {
   "cell_type": "code",
   "source": "with sns.plotting_context(\"notebook\",font_scale=1.5):\n    sns.set_style(\"whitegrid\")\n    sns.distplot(df[\"age\"].dropna(),\n                 bins=80,\n                 kde=False,\n                 color=\"tomato\")\n    sns.plt.title(\"Age Distribution\")\n    plt.ylabel(\"Count\")",
   "execution_count": null,
   "outputs": [],
   "metadata": {}
  },
  {
   "cell_type": "markdown",
   "source": "In addition to NA, there are people with very small and very high ages.\nIt's also interesting that the distribution is bimodal. There are a large number of university aged students, and then another peak around middle-age. Let's separate the distribution and move the outliers to the mean of the closest one.",
   "metadata": {}
  },
  {
   "cell_type": "code",
   "source": "df.loc[df.age < 18,\"age\"]  = df.loc[(df.age >= 18) & (df.age <= 30),\"age\"].mean(skipna=True)\ndf.loc[df.age > 100,\"age\"] = df.loc[(df.age >= 30) & (df.age <= 100),\"age\"].mean(skipna=True)\ndf[\"age\"].fillna(df[\"age\"].mean(),inplace=True)\ndf[\"age\"]                  = df[\"age\"].astype(int)",
   "execution_count": null,
   "outputs": [],
   "metadata": {}
  },
  {
   "cell_type": "code",
   "source": "with sns.plotting_context(\"notebook\",font_scale=1.5):\n    sns.set_style(\"whitegrid\")\n    sns.distplot(df[\"age\"].dropna(),\n                 bins=80,\n                 kde=False,\n                 color=\"tomato\")\n    sns.plt.title(\"Age Distribution\")\n    plt.ylabel(\"Count\")\n    plt.xlim((15,100))",
   "execution_count": null,
   "outputs": [],
   "metadata": {}
  },
  {
   "cell_type": "markdown",
   "source": "Looks better.  \n\nNext `ind_nuevo`, which indicates whether a customer is new or not. How many missing values are there?",
   "metadata": {}
  },
  {
   "cell_type": "code",
   "source": "df[\"ind_nuevo\"].isnull().sum()",
   "execution_count": null,
   "outputs": [],
   "metadata": {}
  },
  {
   "cell_type": "markdown",
   "source": "Let's see if we can fill in missing values by looking how many months of history these customers have.",
   "metadata": {}
  },
  {
   "cell_type": "code",
   "source": "months_active = df.loc[df[\"ind_nuevo\"].isnull(),:].groupby(\"ncodpers\", sort=False).size()\nmonths_active.max()",
   "execution_count": null,
   "outputs": [],
   "metadata": {}
  },
  {
   "cell_type": "markdown",
   "source": "Looks like these are all new customers, so replace accordingly.",
   "metadata": {}
  },
  {
   "cell_type": "code",
   "source": "df.loc[df[\"ind_nuevo\"].isnull(),\"ind_nuevo\"] = 1",
   "execution_count": null,
   "outputs": [],
   "metadata": {}
  },
  {
   "cell_type": "markdown",
   "source": "Now, `antiguedad`",
   "metadata": {}
  },
  {
   "cell_type": "code",
   "source": "df.antiguedad = pd.to_numeric(df.antiguedad,errors=\"coerce\")\nnp.sum(df[\"antiguedad\"].isnull())",
   "execution_count": null,
   "outputs": [],
   "metadata": {}
  },
  {
   "cell_type": "markdown",
   "source": "That number again. Probably the same people that we just determined were new customers. Double check.",
   "metadata": {}
  },
  {
   "cell_type": "code",
   "source": "df.loc[df[\"antiguedad\"].isnull(),\"ind_nuevo\"].describe()",
   "execution_count": null,
   "outputs": [],
   "metadata": {}
  },
  {
   "cell_type": "markdown",
   "source": "Yup, same people. Let's give them minimum seniority.",
   "metadata": {}
  },
  {
   "cell_type": "code",
   "source": "df.loc[df.antiguedad.isnull(),\"antiguedad\"] = df.antiguedad.min()\ndf.loc[df.antiguedad <0]                    = 0",
   "execution_count": null,
   "outputs": [],
   "metadata": {}
  },
  {
   "cell_type": "markdown",
   "source": "Some entries don't have the date they joined the company. Just give them something in the middle of the pack",
   "metadata": {}
  },
  {
   "cell_type": "code",
   "source": "dates=df.loc[:,\"fecha_alta\"].sort_values().reset_index()\nmedian_date = int(np.median(dates.index.values))\ndf.loc[df.fecha_alta.isnull(),\"fecha_alta\"] = dates.loc[median_date,\"fecha_alta\"]\ndf[\"fecha_alta\"].describe()",
   "execution_count": null,
   "outputs": [],
   "metadata": {}
  },
  {
   "cell_type": "markdown",
   "source": "Next is `indrel`, which indicates:\n\n> 1 (First/Primary), 99 (Primary customer during the month but not at the end of the month)\n\nThis sounds like a promising feature. I'm not sure if primary status is something the customer chooses or the company assigns, but either way it seems intuitive that customers who are dropping down are likely to have different purchasing behaviors than others.",
   "metadata": {}
  },
  {
   "cell_type": "code",
   "source": "pd.Series([i for i in df.indrel]).value_counts()",
   "execution_count": null,
   "outputs": [],
   "metadata": {}
  },
  {
   "cell_type": "markdown",
   "source": "Fill in missing with the more common status.",
   "metadata": {}
  },
  {
   "cell_type": "code",
   "source": "df.loc[df.indrel.isnull(),\"indrel\"] = 1",
   "execution_count": null,
   "outputs": [],
   "metadata": {}
  },
  {
   "cell_type": "markdown",
   "source": "> tipodom\t- Addres type. 1, primary address\n cod_prov\t- Province code (customer's address)\n\n`tipodom` doesn't seem to be useful, and the province code is not needed becaue the name of the province exists in `nomprov`.",
   "metadata": {}
  },
  {
   "cell_type": "code",
   "source": "df.drop([\"tipodom\",\"cod_prov\"],axis=1,inplace=True)",
   "execution_count": null,
   "outputs": [],
   "metadata": {}
  },
  {
   "cell_type": "markdown",
   "source": "Quick check back to see how we are doing on missing values",
   "metadata": {}
  },
  {
   "cell_type": "code",
   "source": "df.isnull().any()",
   "execution_count": null,
   "outputs": [],
   "metadata": {}
  },
  {
   "cell_type": "markdown",
   "source": "Getting closer.",
   "metadata": {}
  },
  {
   "cell_type": "code",
   "source": "np.sum(df[\"ind_actividad_cliente\"].isnull())",
   "execution_count": null,
   "outputs": [],
   "metadata": {}
  },
  {
   "cell_type": "markdown",
   "source": "By now you've probably noticed that this number keeps popping up. A handful of the entries are just bad, and should probably just be excluded from the model. But for now I will just clean/keep them.",
   "metadata": {}
  },
  {
   "cell_type": "code",
   "source": "df.loc[df.ind_actividad_cliente.isnull(),\"ind_actividad_cliente\"] = \\\ndf[\"ind_actividad_cliente\"].median()",
   "execution_count": null,
   "outputs": [],
   "metadata": {}
  },
  {
   "cell_type": "code",
   "source": "df.nomprov.unique()",
   "execution_count": null,
   "outputs": [],
   "metadata": {}
  },
  {
   "cell_type": "markdown",
   "source": "There was an issue with the unicode character ñ in [A Coruña](https://en.wikipedia.org/wiki/A_Coruña). I'll manually fix it, but if anybody knows a better way to catch cases like this I would be very glad to hear it in the comments.",
   "metadata": {}
  },
  {
   "cell_type": "code",
   "source": "df.loc[df.nomprov==\"CORU\\xc3\\x91A, A\",\"nomprov\"] = \"CORUNA, A\"",
   "execution_count": null,
   "outputs": [],
   "metadata": {}
  },
  {
   "cell_type": "markdown",
   "source": "There's some rows missing a city that I'll relabel",
   "metadata": {}
  },
  {
   "cell_type": "code",
   "source": "df.loc[df.nomprov.isnull(),\"nomprov\"] = \"UNKNOWN\"",
   "execution_count": null,
   "outputs": [],
   "metadata": {}
  },
  {
   "cell_type": "markdown",
   "source": "Now for gross income, aka `renta`",
   "metadata": {}
  },
  {
   "cell_type": "code",
   "source": "df.renta.isnull().sum()",
   "execution_count": null,
   "outputs": [],
   "metadata": {}
  },
  {
   "cell_type": "markdown",
   "source": "Here is a feature that is missing a lot of values. Rather than just filling them in with a median, it's probably more accurate to break it down region by region. To that end, let's take a look at the median income by region, and in the spirit of the competition let's color it like the Spanish flag.",
   "metadata": {}
  },
  {
   "cell_type": "code",
   "source": "#df.loc[df.renta.notnull(),:].groupby(\"nomprov\").agg([{\"Sum\":sum},{\"Mean\":mean}])\nincomes = df.loc[df.renta.notnull(),:].groupby(\"nomprov\").agg({\"renta\":{\"MedianIncome\":median}})\nincomes.sort_values(by=(\"renta\",\"MedianIncome\"),inplace=True)\nincomes.reset_index(inplace=True)\nincomes.nomprov = incomes.nomprov.astype(\"category\", categories=[i for i in df.nomprov.unique()],ordered=False)\nincomes.head()",
   "execution_count": null,
   "outputs": [],
   "metadata": {}
  },
  {
   "cell_type": "code",
   "source": "with sns.axes_style({\n        \"axes.facecolor\":   \"#ffc400\",\n        \"axes.grid\"     :    False,\n        \"figure.facecolor\": \"#c60b1e\"}):\n    h = sns.factorplot(data=incomes,\n                   x=\"nomprov\",\n                   y=(\"renta\",\"MedianIncome\"),\n                   order=(i for i in incomes.nomprov),\n                   size=6,\n                   aspect=1.5,\n                   scale=1.0,\n                   color=\"#c60b1e\",\n                   linestyles=\"None\")\nplt.xticks(rotation=90)\nplt.tick_params(labelsize=16,labelcolor=\"#ffc400\")#\nplt.ylabel(\"Median Income\",size=32,color=\"#ffc400\")\nplt.xlabel(\"City\",size=32,color=\"#ffc400\")\nplt.title(\"Income Distribution by City\",size=40,color=\"#ffc400\")\nplt.ylim(0,180000)\nplt.yticks(range(0,180000,40000))",
   "execution_count": null,
   "outputs": [],
   "metadata": {}
  },
  {
   "cell_type": "markdown",
   "source": "There's a lot of variation, so I think assigning missing incomes by providence is a good idea. First group the data by city, and reduce to get the median. This intermediate data frame is joined by the original city names to expand the aggregated median incomes, ordered so that there is a 1-to-1 mapping between the rows, and finally the missing values are replaced.",
   "metadata": {}
  },
  {
   "cell_type": "code",
   "source": "grouped        = df.groupby(\"nomprov\").agg({\"renta\":lambda x: x.median(skipna=True)}).reset_index()\nnew_incomes    = pd.merge(df,grouped,how=\"inner\",on=\"nomprov\").loc[:, [\"nomprov\",\"renta_y\"]]\nnew_incomes    = new_incomes.rename(columns={\"renta_y\":\"renta\"}).sort_values(\"renta\").sort_values(\"nomprov\")\ndf.sort_values(\"nomprov\",inplace=True)\ndf             = df.reset_index()\nnew_incomes    = new_incomes.reset_index()",
   "execution_count": null,
   "outputs": [],
   "metadata": {}
  },
  {
   "cell_type": "code",
   "source": "df.loc[df.renta.isnull(),\"renta\"] = new_incomes.loc[df.renta.isnull(),\"renta\"].reset_index()\ndf.loc[df.renta.isnull(),\"renta\"] = df.loc[df.renta.notnull(),\"renta\"].median()",
   "execution_count": null,
   "outputs": [],
   "metadata": {}
  },
  {
   "cell_type": "markdown",
   "source": "The next columns with missing data I'll look at are features, which are just a boolean indicator as to whether or not that product was owned that month. Starting with `ind_nomina_ult1`..",
   "metadata": {}
  },
  {
   "cell_type": "code",
   "source": "df.ind_nomina_ult1.isnull().sum()",
   "execution_count": null,
   "outputs": [],
   "metadata": {}
  },
  {
   "cell_type": "markdown",
   "source": "I could try to fill in missing values for products by looking at previous months, but since it's such a small number of values for now I'll take the cheap way out.",
   "metadata": {}
  },
  {
   "cell_type": "code",
   "source": "df.loc[df.ind_nomina_ult1.isnull(), \"ind_nomina_ult1\"] = 0\ndf.loc[df.ind_nom_pens_ult1.isnull(), \"ind_nom_pens_ult1\"] = 0",
   "execution_count": null,
   "outputs": [],
   "metadata": {}
  },
  {
   "cell_type": "markdown",
   "source": "There's also a bunch of character columns that contain empty strings. In R, these are kept as empty strings instead of NA like in pandas. I originally worked through the data with missing values first in R, so if you are wondering why I skipped some NA columns here that's why. I'll take care of them now. For the most part, entries with NA will be converted to an unknown category.  \nFirst I'll get only the columns with missing values. Then print the unique values to determine what I should fill in with.",
   "metadata": {}
  },
  {
   "cell_type": "code",
   "source": "string_data = df.select_dtypes(include=[\"object\"])\nmissing_columns = [col for col in string_data if string_data[col].isnull().any()]\nfor col in missing_columns:\n    print(\"Unique values for {0}:\\n{1}\\n\".format(col,string_data[col].unique()))\ndel string_data",
   "execution_count": null,
   "outputs": [],
   "metadata": {}
  },
  {
   "cell_type": "markdown",
   "source": "Okay, based on that and the definitions of each variable, I will fill the empty strings either with the most common value or create an unknown category based on what I think makes more sense.",
   "metadata": {}
  },
  {
   "cell_type": "code",
   "source": "df.loc[df.indfall.isnull(),\"indfall\"] = \"N\"\ndf.loc[df.tiprel_1mes.isnull(),\"tiprel_1mes\"] = \"A\"\ndf.loc[df.tiprel_1mes.isnull(),\"tiprel_1mes\"] = \"A\"\ndf.tiprel_1mes = df.tiprel_1mes.astype(\"category\")\n\nunknown_cols = [col for col in missing_columns if col not in [\"indfall\",\"tiprel_1mes\"]]\nfor col in unknown_cols:\n    df.loc[df[col].isnull(),col] = \"UNKNOWN\"",
   "execution_count": null,
   "outputs": [],
   "metadata": {}
  },
  {
   "cell_type": "markdown",
   "source": "Let's check back to see if we missed anything",
   "metadata": {}
  },
  {
   "cell_type": "code",
   "source": "df.isnull().any()",
   "execution_count": null,
   "outputs": [],
   "metadata": {}
  },
  {
   "cell_type": "markdown",
   "source": "Convert the feature columns into integer values (you'll see why in a second), and we're done cleaning",
   "metadata": {}
  },
  {
   "cell_type": "code",
   "source": "feature_cols = df.iloc[:1,].filter(regex=\"ind_+.*ult.*\").columns.values\nfor col in feature_cols:\n    df[col] = df[col].astype(int)",
   "execution_count": null,
   "outputs": [],
   "metadata": {}
  },
  {
   "cell_type": "markdown",
   "source": "Now for the main event. To study trends in customers adding or removing services, I will create a label for each product and month that indicates whether a customer added, dropped or maintained that service in that billing cycle. I will do this by assigning a numeric id to each unique time stamp, and then matching each entry with the one from the previous month. The difference in the indicator value for each product then gives the desired value.  ",
   "metadata": {}
  },
  {
   "cell_type": "code",
   "source": "unique_months = pd.DataFrame(pd.Series(df.fecha_dato.unique()).sort_values()).reset_index(drop=True)\nunique_months[\"month_id\"] = pd.Series(range(1,1+unique_months.size)) # start with month 1, not 0 to match what we already have\nunique_months[\"month_next_id\"] = 1 + unique_months[\"month_id\"]\nunique_months.rename(columns={0:\"fecha_dato\"},inplace=True)\ndf = pd.merge(df,unique_months,on=\"fecha_dato\")",
   "execution_count": null,
   "outputs": [],
   "metadata": {}
  },
  {
   "cell_type": "markdown",
   "source": "Now I'll build a function that will convert differences month to month into a meaningful label. Each month, a customer can either maintain their current status with a particular product, add it, or drop it.",
   "metadata": {}
  },
  {
   "cell_type": "code",
   "source": "def status_change(x):\n    diffs = x.diff().fillna(0)# first occurrence will be considered Maintained, \n    #which is a little lazy. A better way would be to check if \n    #the earliest date was the same as the earliest we have in the dataset\n    #and consider those separately. Entries with earliest dates later than that have \n    #joined and should be labeled as \"Added\"\n    label = [\"Added\" if i==1 \\\n         else \"Dropped\" if i==-1 \\\n         else \"Maintained\" for i in diffs]\n    return label",
   "execution_count": null,
   "outputs": [],
   "metadata": {}
  },
  {
   "cell_type": "markdown",
   "source": "Now we can actually apply this function to each features using `groupby` followed by `transform` to broadcast the result back",
   "metadata": {}
  },
  {
   "cell_type": "code",
   "source": "# df.loc[:, feature_cols] = df..groupby(\"ncodpers\").apply(status_change)\ndf.loc[:, feature_cols] = df.loc[:, [i for i in feature_cols]+[\"ncodpers\"]].groupby(\"ncodpers\").transform(status_change)",
   "execution_count": null,
   "outputs": [],
   "metadata": {}
  },
  {
   "cell_type": "markdown",
   "source": "I'm only interested in seeing what influences people adding or removing services, so I'll trim away any instances of \"Maintained\".",
   "metadata": {}
  },
  {
   "cell_type": "code",
   "source": "df = pd.melt(df, id_vars   = [col for col in df.columns if col not in feature_cols],\n            value_vars= [col for col in feature_cols])\ndf = df.loc[df.value!=\"Maintained\",:]\ndf.shape",
   "execution_count": null,
   "outputs": [],
   "metadata": {}
  },
  {
   "cell_type": "markdown",
   "source": "And we're done! I hope you found this useful, and if you want to checkout the rest of visualizations I made you can find them [here](https://www.kaggle.com/apryor6/santander-product-recommendation/detailed-cleaning-visualization).",
   "metadata": {}
  },
  {
   "cell_type": "code",
   "source": "# For thumbnail\npylab.rcParams['figure.figsize'] = (6, 4)\nwith sns.axes_style({\n        \"axes.facecolor\":   \"#ffc400\",\n        \"axes.grid\"     :    False,\n        \"figure.facecolor\": \"#c60b1e\"}):\n    h = sns.factorplot(data=incomes,\n                   x=\"nomprov\",\n                   y=(\"renta\",\"MedianIncome\"),\n                   order=(i for i in incomes.nomprov),\n                   size=6,\n                   aspect=1.5,\n                   scale=0.75,\n                   color=\"#c60b1e\",\n                   linestyles=\"None\")\nplt.xticks(rotation=90)\nplt.tick_params(labelsize=12,labelcolor=\"#ffc400\")#\nplt.ylabel(\"Median Income\",size=32,color=\"#ffc400\")\nplt.xlabel(\"City\",size=32,color=\"#ffc400\")\nplt.title(\"Income Distribution by City\",size=40,color=\"#ffc400\")\nplt.ylim(0,180000)\nplt.yticks(range(0,180000,40000))",
   "execution_count": null,
   "outputs": [],
   "metadata": {}
  }
 ]
}