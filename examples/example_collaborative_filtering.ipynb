{
 "cells": [
  {
   "cell_type": "markdown",
   "metadata": {},
   "source": [
    "# Example of collaborative filtering"
   ]
  },
  {
   "cell_type": "code",
   "execution_count": 149,
   "metadata": {
    "collapsed": true
   },
   "outputs": [],
   "source": [
    "import pandas as pd\n",
    "import numpy as np\n",
    "\n",
    "from sklearn.model_selection import train_test_split\n",
    "from sklearn.metrics import mean_absolute_error\n",
    "\n",
    "from collections import defaultdict\n",
    "import operator"
   ]
  },
  {
   "cell_type": "markdown",
   "metadata": {},
   "source": [
    "## Setup data"
   ]
  },
  {
   "cell_type": "markdown",
   "metadata": {},
   "source": [
    "Let us define a random data describing young people tastes.\n",
    "We store 'age', 'gender' as profile information and targets : 'like_comics', 'like_games', 'like_movies', 'like_sport'"
   ]
  },
  {
   "cell_type": "code",
   "execution_count": 77,
   "metadata": {
    "collapsed": true
   },
   "outputs": [],
   "source": [
    "size = 1000\n",
    "DATA = pd.DataFrame(\n",
    "    {\n",
    "        '__id': range(size),\n",
    "        '_age': np.random.randint(7, 25, size=size),\n",
    "        '_gender': np.random.randint(2, size=size),\n",
    "        'like_movies': np.random.randint(2, size=size),\n",
    "        'like_comics': np.random.randint(2, size=size),\n",
    "        'like_games': np.random.randint(2, size=size),\n",
    "        'like_sport': np.random.randint(2, size=size),\n",
    "    }\n",
    ")"
   ]
  },
  {
   "cell_type": "code",
   "execution_count": 78,
   "metadata": {
    "collapsed": false
   },
   "outputs": [
    {
     "data": {
      "text/html": [
       "<div>\n",
       "<table border=\"1\" class=\"dataframe\">\n",
       "  <thead>\n",
       "    <tr style=\"text-align: right;\">\n",
       "      <th></th>\n",
       "      <th>__id</th>\n",
       "      <th>_age</th>\n",
       "      <th>_gender</th>\n",
       "      <th>like_comics</th>\n",
       "      <th>like_games</th>\n",
       "      <th>like_movies</th>\n",
       "      <th>like_sport</th>\n",
       "    </tr>\n",
       "  </thead>\n",
       "  <tbody>\n",
       "    <tr>\n",
       "      <th>995</th>\n",
       "      <td>995</td>\n",
       "      <td>8</td>\n",
       "      <td>0</td>\n",
       "      <td>0</td>\n",
       "      <td>0</td>\n",
       "      <td>1</td>\n",
       "      <td>1</td>\n",
       "    </tr>\n",
       "    <tr>\n",
       "      <th>996</th>\n",
       "      <td>996</td>\n",
       "      <td>10</td>\n",
       "      <td>0</td>\n",
       "      <td>1</td>\n",
       "      <td>0</td>\n",
       "      <td>1</td>\n",
       "      <td>0</td>\n",
       "    </tr>\n",
       "    <tr>\n",
       "      <th>997</th>\n",
       "      <td>997</td>\n",
       "      <td>22</td>\n",
       "      <td>0</td>\n",
       "      <td>1</td>\n",
       "      <td>0</td>\n",
       "      <td>0</td>\n",
       "      <td>0</td>\n",
       "    </tr>\n",
       "    <tr>\n",
       "      <th>998</th>\n",
       "      <td>998</td>\n",
       "      <td>16</td>\n",
       "      <td>1</td>\n",
       "      <td>0</td>\n",
       "      <td>1</td>\n",
       "      <td>1</td>\n",
       "      <td>1</td>\n",
       "    </tr>\n",
       "    <tr>\n",
       "      <th>999</th>\n",
       "      <td>999</td>\n",
       "      <td>11</td>\n",
       "      <td>1</td>\n",
       "      <td>1</td>\n",
       "      <td>0</td>\n",
       "      <td>0</td>\n",
       "      <td>1</td>\n",
       "    </tr>\n",
       "  </tbody>\n",
       "</table>\n",
       "</div>"
      ],
      "text/plain": [
       "     __id  _age  _gender  like_comics  like_games  like_movies  like_sport\n",
       "995   995     8        0            0           0            1           1\n",
       "996   996    10        0            1           0            1           0\n",
       "997   997    22        0            1           0            0           0\n",
       "998   998    16        1            0           1            1           1\n",
       "999   999    11        1            1           0            0           1"
      ]
     },
     "execution_count": 78,
     "metadata": {},
     "output_type": "execute_result"
    }
   ],
   "source": [
    "DATA.tail()"
   ]
  },
  {
   "cell_type": "code",
   "execution_count": 79,
   "metadata": {
    "collapsed": true
   },
   "outputs": [],
   "source": [
    "TRAIN, TEST = train_test_split(DATA, train_size=0.7)"
   ]
  },
  {
   "cell_type": "markdown",
   "metadata": {},
   "source": [
    "## Compute recommendations\n",
    "\n",
    "From training dataset define a dictionary 'recommendations' with keys `('age', 'gender')` and values `{'like_comics': count1, 'like_games': count2, 'like_movies': count3, 'like_sport': count4}`\n",
    "Then sort it by most popular"
   ]
  },
  {
   "cell_type": "code",
   "execution_count": 80,
   "metadata": {
    "collapsed": true
   },
   "outputs": [],
   "source": [
    "def get_key(row):\n",
    "    return tuple(row[1:3])\n",
    "\n",
    "def get_targets(row):\n",
    "    return tuple(row[3:])"
   ]
  },
  {
   "cell_type": "code",
   "execution_count": 100,
   "metadata": {
    "collapsed": false
   },
   "outputs": [],
   "source": [
    "recommendations = defaultdict(lambda: defaultdict(float))\n",
    "target_labels = ['like_comics','like_games','like_movies','like_sport']\n",
    "for row in TRAIN.values:\n",
    "    key = get_key(row)\n",
    "    targets = get_targets(row)\n",
    "    \n",
    "    for l, t in zip(target_labels, targets):\n",
    "        if t > 0:\n",
    "            recommendations[key][l] += 1"
   ]
  },
  {
   "cell_type": "markdown",
   "metadata": {},
   "source": [
    "Transform counts to frequencies : \n",
    "```count -> count / nb_votes_per_age_gender```\n"
   ]
  },
  {
   "cell_type": "code",
   "execution_count": 102,
   "metadata": {
    "collapsed": false
   },
   "outputs": [],
   "source": [
    "nb_votes_per_age_gender = TRAIN.groupby(['_age', '_gender']).agg('size')\n",
    "for key, value in recommendations.items():\n",
    "    for k in value:\n",
    "        value[k] /= nb_votes_per_age_gender[key]    "
   ]
  },
  {
   "cell_type": "code",
   "execution_count": 103,
   "metadata": {
    "collapsed": false
   },
   "outputs": [],
   "source": [
    "sorted_recommendations = defaultdict(lambda: defaultdict(float))\n",
    "for key, value in recommendations.items():\n",
    "    value = sorted(value.items(), key=operator.itemgetter(1), reverse=True)\n",
    "    sorted_recommendations[key] = value"
   ]
  },
  {
   "cell_type": "code",
   "execution_count": 104,
   "metadata": {
    "collapsed": true
   },
   "outputs": [
    {
     "data": {
      "text/plain": [
       "defaultdict(<function __main__.<lambda>>,\n",
       "            {(7, 0): [('like_comics', 0.6),\n",
       "              ('like_movies', 0.4),\n",
       "              ('like_sport', 0.36),\n",
       "              ('like_games', 0.36)],\n",
       "             (7, 1): [('like_games', 0.5714285714285714),\n",
       "              ('like_sport', 0.5238095238095238),\n",
       "              ('like_comics', 0.42857142857142855),\n",
       "              ('like_movies', 0.3333333333333333)],\n",
       "             (8, 0): [('like_movies', 0.5217391304347826),\n",
       "              ('like_sport', 0.5217391304347826),\n",
       "              ('like_comics', 0.391304347826087),\n",
       "              ('like_games', 0.2608695652173913)],\n",
       "             (8, 1): [('like_comics', 0.5714285714285714),\n",
       "              ('like_movies', 0.5),\n",
       "              ('like_games', 0.5),\n",
       "              ('like_sport', 0.42857142857142855)],\n",
       "             (9, 0): [('like_movies', 0.7692307692307693),\n",
       "              ('like_sport', 0.6923076923076923),\n",
       "              ('like_games', 0.6923076923076923),\n",
       "              ('like_comics', 0.3076923076923077)],\n",
       "             (9, 1): [('like_comics', 0.5652173913043478),\n",
       "              ('like_movies', 0.5217391304347826),\n",
       "              ('like_games', 0.5217391304347826),\n",
       "              ('like_sport', 0.43478260869565216)],\n",
       "             (10, 0): [('like_movies', 0.7142857142857143),\n",
       "              ('like_comics', 0.5),\n",
       "              ('like_games', 0.42857142857142855),\n",
       "              ('like_sport', 0.2857142857142857)],\n",
       "             (10, 1): [('like_comics', 0.72),\n",
       "              ('like_sport', 0.6),\n",
       "              ('like_games', 0.52),\n",
       "              ('like_movies', 0.28)],\n",
       "             (11, 0): [('like_games', 0.5909090909090909),\n",
       "              ('like_sport', 0.5),\n",
       "              ('like_comics', 0.45454545454545453),\n",
       "              ('like_movies', 0.3181818181818182)],\n",
       "             (11, 1): [('like_sport', 0.6470588235294118),\n",
       "              ('like_comics', 0.6470588235294118),\n",
       "              ('like_games', 0.47058823529411764),\n",
       "              ('like_movies', 0.29411764705882354)],\n",
       "             (12, 0): [('like_movies', 0.5),\n",
       "              ('like_sport', 0.5),\n",
       "              ('like_comics', 0.4444444444444444),\n",
       "              ('like_games', 0.4444444444444444)],\n",
       "             (12, 1): [('like_comics', 0.6842105263157895),\n",
       "              ('like_sport', 0.5789473684210527),\n",
       "              ('like_movies', 0.42105263157894735),\n",
       "              ('like_games', 0.2631578947368421)],\n",
       "             (13, 0): [('like_movies', 0.64),\n",
       "              ('like_sport', 0.64),\n",
       "              ('like_comics', 0.44),\n",
       "              ('like_games', 0.44)],\n",
       "             (13, 1): [('like_comics', 0.6818181818181818),\n",
       "              ('like_games', 0.5454545454545454),\n",
       "              ('like_sport', 0.45454545454545453),\n",
       "              ('like_movies', 0.4090909090909091)],\n",
       "             (14, 0): [('like_movies', 0.6),\n",
       "              ('like_sport', 0.6),\n",
       "              ('like_comics', 0.5333333333333333),\n",
       "              ('like_games', 0.5333333333333333)],\n",
       "             (14, 1): [('like_sport', 0.7333333333333333),\n",
       "              ('like_movies', 0.6),\n",
       "              ('like_games', 0.4666666666666667),\n",
       "              ('like_comics', 0.4)],\n",
       "             (15, 0): [('like_games', 0.5333333333333333),\n",
       "              ('like_comics', 0.4666666666666667),\n",
       "              ('like_movies', 0.43333333333333335),\n",
       "              ('like_sport', 0.4)],\n",
       "             (15, 1): [('like_comics', 0.6190476190476191),\n",
       "              ('like_movies', 0.5714285714285714),\n",
       "              ('like_sport', 0.5714285714285714),\n",
       "              ('like_games', 0.47619047619047616)],\n",
       "             (16, 0): [('like_sport', 0.5294117647058824),\n",
       "              ('like_movies', 0.47058823529411764),\n",
       "              ('like_games', 0.4117647058823529),\n",
       "              ('like_comics', 0.35294117647058826)],\n",
       "             (16, 1): [('like_comics', 0.6153846153846154),\n",
       "              ('like_games', 0.6153846153846154),\n",
       "              ('like_movies', 0.46153846153846156),\n",
       "              ('like_sport', 0.38461538461538464)],\n",
       "             (17, 0): [('like_games', 0.5714285714285714),\n",
       "              ('like_sport', 0.5),\n",
       "              ('like_comics', 0.42857142857142855),\n",
       "              ('like_movies', 0.35714285714285715)],\n",
       "             (17, 1): [('like_comics', 0.9285714285714286),\n",
       "              ('like_movies', 0.5714285714285714),\n",
       "              ('like_sport', 0.5714285714285714),\n",
       "              ('like_games', 0.35714285714285715)],\n",
       "             (18, 0): [('like_movies', 0.03806228373702422),\n",
       "              ('like_sport', 0.03460207612456748),\n",
       "              ('like_comics', 0.03114186851211073),\n",
       "              ('like_games', 0.02422145328719723)],\n",
       "             (18, 1): [('like_games', 0.5),\n",
       "              ('like_movies', 0.42857142857142855),\n",
       "              ('like_sport', 0.35714285714285715),\n",
       "              ('like_comics', 0.35714285714285715)],\n",
       "             (19, 0): [('like_movies', 0.6842105263157895),\n",
       "              ('like_games', 0.631578947368421),\n",
       "              ('like_comics', 0.5263157894736842),\n",
       "              ('like_sport', 0.3684210526315789)],\n",
       "             (19, 1): [('like_movies', 0.5),\n",
       "              ('like_comics', 0.5),\n",
       "              ('like_games', 0.5),\n",
       "              ('like_sport', 0.4166666666666667)],\n",
       "             (20, 0): [('like_movies', 0.6086956521739131),\n",
       "              ('like_comics', 0.5217391304347826),\n",
       "              ('like_games', 0.43478260869565216),\n",
       "              ('like_sport', 0.2608695652173913)],\n",
       "             (20, 1): [('like_sport', 0.5416666666666666),\n",
       "              ('like_games', 0.5416666666666666),\n",
       "              ('like_comics', 0.5),\n",
       "              ('like_movies', 0.4166666666666667)],\n",
       "             (21, 0): [('like_comics', 0.6666666666666666),\n",
       "              ('like_games', 0.6666666666666666),\n",
       "              ('like_sport', 0.5555555555555556),\n",
       "              ('like_movies', 0.4444444444444444)],\n",
       "             (21, 1): [('like_movies', 0.7),\n",
       "              ('like_sport', 0.55),\n",
       "              ('like_games', 0.5),\n",
       "              ('like_comics', 0.4)],\n",
       "             (22, 0): [('like_comics', 0.6842105263157895),\n",
       "              ('like_games', 0.5263157894736842),\n",
       "              ('like_movies', 0.47368421052631576),\n",
       "              ('like_sport', 0.47368421052631576)],\n",
       "             (22, 1): [('like_movies', 0.6086956521739131),\n",
       "              ('like_comics', 0.5652173913043478),\n",
       "              ('like_games', 0.4782608695652174),\n",
       "              ('like_sport', 0.2608695652173913)],\n",
       "             (23, 0): [('like_movies', 0.6875),\n",
       "              ('like_comics', 0.625),\n",
       "              ('like_sport', 0.59375),\n",
       "              ('like_games', 0.53125)],\n",
       "             (23, 1): [('like_games', 0.7142857142857143),\n",
       "              ('like_comics', 0.38095238095238093),\n",
       "              ('like_sport', 0.38095238095238093),\n",
       "              ('like_movies', 0.3333333333333333)],\n",
       "             (24, 0): [('like_games', 0.625),\n",
       "              ('like_sport', 0.4375),\n",
       "              ('like_comics', 0.375),\n",
       "              ('like_movies', 0.25)],\n",
       "             (24, 1): [('like_sport', 0.6363636363636364),\n",
       "              ('like_comics', 0.5),\n",
       "              ('like_games', 0.5),\n",
       "              ('like_movies', 0.45454545454545453)]})"
      ]
     },
     "execution_count": 104,
     "metadata": {},
     "output_type": "execute_result"
    }
   ],
   "source": [
    "sorted_recommendations"
   ]
  },
  {
   "cell_type": "markdown",
   "metadata": {},
   "source": [
    "## Compute predictions from recommendations"
   ]
  },
  {
   "cell_type": "code",
   "execution_count": 116,
   "metadata": {
    "collapsed": true
   },
   "outputs": [],
   "source": [
    "def compute_predictions(age, gender, recommendations, threshold=0.6):\n",
    "    key = (age, gender)\n",
    "    assert key in recommendations, \"Recommendations do not contain information for input age=%s, gender=%s\" % (age, gender)\n",
    "    predictions = []\n",
    "    for i, pr in recommendations[key].items():\n",
    "        if i not in predictions and pr >= threshold:\n",
    "            predictions.append(i)\n",
    "    return predictions"
   ]
  },
  {
   "cell_type": "markdown",
   "metadata": {},
   "source": [
    "For example, a boy of 10 years old will like : "
   ]
  },
  {
   "cell_type": "code",
   "execution_count": 117,
   "metadata": {
    "collapsed": false
   },
   "outputs": [
    {
     "data": {
      "text/plain": [
       "['like_movies']"
      ]
     },
     "execution_count": 117,
     "metadata": {},
     "output_type": "execute_result"
    }
   ],
   "source": [
    "compute_predictions(10, 0, recommendations)"
   ]
  },
  {
   "cell_type": "markdown",
   "metadata": {},
   "source": [
    "## Validate predictions"
   ]
  },
  {
   "cell_type": "code",
   "execution_count": 166,
   "metadata": {
    "collapsed": false
   },
   "outputs": [
    {
     "data": {
      "text/html": [
       "<div>\n",
       "<table border=\"1\" class=\"dataframe\">\n",
       "  <thead>\n",
       "    <tr style=\"text-align: right;\">\n",
       "      <th></th>\n",
       "      <th>__id</th>\n",
       "      <th>_age</th>\n",
       "      <th>_gender</th>\n",
       "      <th>like_comics</th>\n",
       "      <th>like_games</th>\n",
       "      <th>like_movies</th>\n",
       "      <th>like_sport</th>\n",
       "    </tr>\n",
       "  </thead>\n",
       "  <tbody>\n",
       "    <tr>\n",
       "      <th>256</th>\n",
       "      <td>256</td>\n",
       "      <td>22</td>\n",
       "      <td>1</td>\n",
       "      <td>0</td>\n",
       "      <td>0</td>\n",
       "      <td>1</td>\n",
       "      <td>0</td>\n",
       "    </tr>\n",
       "    <tr>\n",
       "      <th>276</th>\n",
       "      <td>276</td>\n",
       "      <td>7</td>\n",
       "      <td>0</td>\n",
       "      <td>1</td>\n",
       "      <td>0</td>\n",
       "      <td>0</td>\n",
       "      <td>0</td>\n",
       "    </tr>\n",
       "    <tr>\n",
       "      <th>821</th>\n",
       "      <td>821</td>\n",
       "      <td>19</td>\n",
       "      <td>0</td>\n",
       "      <td>0</td>\n",
       "      <td>1</td>\n",
       "      <td>1</td>\n",
       "      <td>0</td>\n",
       "    </tr>\n",
       "    <tr>\n",
       "      <th>483</th>\n",
       "      <td>483</td>\n",
       "      <td>17</td>\n",
       "      <td>0</td>\n",
       "      <td>0</td>\n",
       "      <td>0</td>\n",
       "      <td>0</td>\n",
       "      <td>0</td>\n",
       "    </tr>\n",
       "    <tr>\n",
       "      <th>409</th>\n",
       "      <td>409</td>\n",
       "      <td>23</td>\n",
       "      <td>1</td>\n",
       "      <td>0</td>\n",
       "      <td>1</td>\n",
       "      <td>0</td>\n",
       "      <td>0</td>\n",
       "    </tr>\n",
       "  </tbody>\n",
       "</table>\n",
       "</div>"
      ],
      "text/plain": [
       "     __id  _age  _gender  like_comics  like_games  like_movies  like_sport\n",
       "256   256    22        1            0           0            1           0\n",
       "276   276     7        0            1           0            0           0\n",
       "821   821    19        0            0           1            1           0\n",
       "483   483    17        0            0           0            0           0\n",
       "409   409    23        1            0           1            0           0"
      ]
     },
     "execution_count": 166,
     "metadata": {},
     "output_type": "execute_result"
    }
   ],
   "source": [
    "target_labels = ['like_comics','like_games','like_movies','like_sport']\n",
    "threshold = 0.6\n",
    "\n",
    "predictions = pd.DataFrame()\n",
    "predictions = pd.concat([predictions, TEST])\n",
    "predictions[target_labels] = 0\n",
    "\n",
    "for i in predictions.index:\n",
    "    row = predictions.loc[i]\n",
    "    key = get_key(row)\n",
    "    predicted_targets_labels = compute_predictions(*key, recommendations=recommendations, threshold=threshold)\n",
    "    predicted_targets = [1 if k in predicted_targets_labels else 0 for k in target_labels ]    \n",
    "    predictions.loc[i, target_labels] = predicted_targets\n",
    "    \n",
    "predictions.head()"
   ]
  },
  {
   "cell_type": "code",
   "execution_count": 167,
   "metadata": {
    "collapsed": false
   },
   "outputs": [
    {
     "data": {
      "text/plain": [
       "0.47999999999999998"
      ]
     },
     "execution_count": 167,
     "metadata": {},
     "output_type": "execute_result"
    }
   ],
   "source": [
    "mean_absolute_error(TEST[target_labels], predictions[target_labels])"
   ]
  }
 ],
 "metadata": {
  "kernelspec": {
   "display_name": "Python 2",
   "language": "python",
   "name": "python2"
  },
  "language_info": {
   "codemirror_mode": {
    "name": "ipython",
    "version": 2
   },
   "file_extension": ".py",
   "mimetype": "text/x-python",
   "name": "python",
   "nbconvert_exporter": "python",
   "pygments_lexer": "ipython2",
   "version": "2.7.12"
  }
 },
 "nbformat": 4,
 "nbformat_minor": 0
}
