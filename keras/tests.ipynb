{
 "cells": [
  {
   "cell_type": "markdown",
   "metadata": {},
   "source": [
    "# Keras various tests\n"
   ]
  },
  {
   "cell_type": "code",
   "execution_count": 1,
   "metadata": {
    "collapsed": false
   },
   "outputs": [
    {
     "name": "stderr",
     "output_type": "stream",
     "text": [
      "Using Theano backend.\n"
     ]
    }
   ],
   "source": [
    "from keras.models import Sequential\n",
    "from keras.layers import Dense, Dropout\n",
    "from keras.utils import np_utils\n",
    "import numpy as np\n",
    "\n",
    "from sklearn.model_selection import train_test_split"
   ]
  },
  {
   "cell_type": "markdown",
   "metadata": {},
   "source": [
    "## Predictions from zero input or random predictions\n",
    "\n",
    "Let's consider simple classification problem : $ y = round(x_1 + x_2)$\n",
    "\n",
    "Then we setup training data to a zero vector and see predictions and model evaluation"
   ]
  },
  {
   "cell_type": "code",
   "execution_count": 2,
   "metadata": {
    "collapsed": false
   },
   "outputs": [],
   "source": [
    "nb_samples = 1000\n",
    "nb_features = 2\n",
    "nb_classes = 10\n",
    "\n",
    "while True:\n",
    "    x = nb_classes*0.5*np.random.random((nb_samples, nb_features))\n",
    "    y = np.round(np.sum(x, axis=1)) % nb_classes\n",
    "    if len(np.unique(y)) == nb_classes:\n",
    "        break\n",
    "\n",
    "x_train_nonzero, x_val, y_train, y_val = train_test_split(x,y, train_size=0.75)\n",
    "\n",
    "x_train_zero = np.zeros_like(x_train_nonzero)"
   ]
  },
  {
   "cell_type": "code",
   "execution_count": 3,
   "metadata": {
    "collapsed": false
   },
   "outputs": [
    {
     "name": "stderr",
     "output_type": "stream",
     "text": [
      "/usr/local/lib/python2.7/site-packages/matplotlib/font_manager.py:273: UserWarning: Matplotlib is building the font cache using fc-list. This may take a moment.\n",
      "  warnings.warn('Matplotlib is building the font cache using fc-list. This may take a moment.')\n"
     ]
    },
    {
     "data": {
      "text/plain": [
       "<matplotlib.text.Text at 0x1123728d0>"
      ]
     },
     "execution_count": 3,
     "metadata": {},
     "output_type": "execute_result"
    },
    {
     "data": {
      "image/png": "[encoded data removed]",
      "text/plain": [
       "<matplotlib.figure.Figure at 0x111578210>"
      ]
     },
     "metadata": {},
     "output_type": "display_data"
    }
   ],
   "source": [
    "%matplotlib inline\n",
    "import matplotlib.pyplot as plt\n",
    "\n",
    "plt.subplot(131)\n",
    "plt.scatter(x_train_nonzero[:, 0], y_train)\n",
    "plt.xlabel('feature 0 values')\n",
    "plt.ylabel('targets')\n",
    "plt.subplot(132)\n",
    "plt.scatter(x_train_nonzero[:, 1], y_train)\n",
    "plt.xlabel('feature 1 values')\n",
    "plt.ylabel('targets')\n",
    "plt.subplot(133)\n",
    "plt.scatter(np.sum(x_train_nonzero, axis=1), y_train)\n",
    "plt.xlabel('sum  of feature')\n",
    "plt.ylabel('targets')"
   ]
  },
  {
   "cell_type": "code",
   "execution_count": 4,
   "metadata": {
    "collapsed": false,
    "scrolled": true
   },
   "outputs": [
    {
     "name": "stdout",
     "output_type": "stream",
     "text": [
      "____________________________________________________________________________________________________\n",
      "Layer (type)                     Output Shape          Param #     Connected to                     \n",
      "====================================================================================================\n",
      "dense_1 (Dense)                  (None, 15)            45          dense_input_1[0][0]              \n",
      "____________________________________________________________________________________________________\n",
      "dense_2 (Dense)                  (None, 10)            160         dense_1[0][0]                    \n",
      "====================================================================================================\n",
      "Total params: 205\n",
      "____________________________________________________________________________________________________\n"
     ]
    },
    {
     "name": "stderr",
     "output_type": "stream",
     "text": [
      "/usr/local/lib/python2.7/site-packages/keras/utils/np_utils.py:21: VisibleDeprecationWarning: using a non-integer number instead of an integer will result in an error in the future\n",
      "  Y = np.zeros((len(y), nb_classes))\n",
      "/usr/local/lib/python2.7/site-packages/keras/utils/np_utils.py:23: VisibleDeprecationWarning: using a non-integer number instead of an integer will result in an error in the future\n",
      "  Y[i, y[i]] = 1.\n"
     ]
    },
    {
     "name": "stdout",
     "output_type": "stream",
     "text": [
      "Model Accuracy : 94.00%\n",
      "____________________________________________________________________________________________________\n",
      "Layer (type)                     Output Shape          Param #     Connected to                     \n",
      "====================================================================================================\n",
      "dense_3 (Dense)                  (None, 15)            45          dense_input_2[0][0]              \n",
      "____________________________________________________________________________________________________\n",
      "dense_4 (Dense)                  (None, 10)            160         dense_3[0][0]                    \n",
      "====================================================================================================\n",
      "Total params: 205\n",
      "____________________________________________________________________________________________________\n",
      "Model Accuracy : 14.80%\n"
     ]
    }
   ],
   "source": [
    "def create_model():\n",
    "    model = Sequential()\n",
    "    model.add(Dense(15, init='uniform', input_shape=(nb_features,), activation='relu'))\n",
    "    model.add(Dense(nb_classes, activation='softmax'))\n",
    "    model.compile(loss='categorical_crossentropy', optimizer='nadam', metrics=['accuracy'])\n",
    "    return model\n",
    "\n",
    "for x_train in [x_train_nonzero, x_train_zero]:\n",
    "\n",
    "    model = create_model()\n",
    "    model.summary()\n",
    "\n",
    "    y_train_ = np_utils.to_categorical(y_train)\n",
    "    y_val_ = np_utils.to_categorical(y_val)\n",
    "    \n",
    "    model.fit(x_train, y_train_, nb_epoch=1000, batch_size=100, verbose=0)\n",
    "    scores = model.evaluate(x_val, y_val_, verbose=0)\n",
    "    print \"Model Accuracy : %.2f%%\" % (scores[1]*100)\n"
   ]
  },
  {
   "cell_type": "markdown",
   "metadata": {},
   "source": [
    "Run Cross-Validation with on zero train vector"
   ]
  },
  {
   "cell_type": "code",
   "execution_count": 5,
   "metadata": {
    "collapsed": true
   },
   "outputs": [],
   "source": [
    "from keras.wrappers.scikit_learn import KerasClassifier\n",
    "from sklearn.model_selection import cross_val_score"
   ]
  },
  {
   "cell_type": "code",
   "execution_count": 6,
   "metadata": {
    "collapsed": true
   },
   "outputs": [],
   "source": [
    "estimator = KerasClassifier(build_fn=create_model, nb_epoch=1000, batch_size=100, verbose=0)\n",
    "dummy_y = np_utils.to_categorical(y)"
   ]
  },
  {
   "cell_type": "code",
   "execution_count": 7,
   "metadata": {
    "collapsed": false
   },
   "outputs": [
    {
     "name": "stdout",
     "output_type": "stream",
     "text": [
      "CV on normal data: 94.60% (2.08%)\n"
     ]
    }
   ],
   "source": [
    "results = cross_val_score(estimator, x, dummy_y, cv=5)\n",
    "print(\"CV on normal data: %.2f%% (%.2f%%)\" % (results.mean()*100, results.std()*100))"
   ]
  },
  {
   "cell_type": "code",
   "execution_count": 8,
   "metadata": {
    "collapsed": false
   },
   "outputs": [
    {
     "name": "stdout",
     "output_type": "stream",
     "text": [
      "CV on zero data: 18.90% (1.62%)\n"
     ]
    }
   ],
   "source": [
    "results = cross_val_score(estimator, np.zeros_like(x), dummy_y, cv=5)\n",
    "print(\"CV on zero data: %.2f%% (%.2f%%)\" % (results.mean()*100, results.std()*100))"
   ]
  },
  {
   "cell_type": "code",
   "execution_count": null,
   "metadata": {
    "collapsed": true
   },
   "outputs": [],
   "source": []
  },
  {
   "cell_type": "markdown",
   "metadata": {},
   "source": [
    "### Compare with random predictions"
   ]
  },
  {
   "cell_type": "code",
   "execution_count": 9,
   "metadata": {
    "collapsed": false
   },
   "outputs": [
    {
     "data": {
      "text/plain": [
       "<keras.callbacks.History at 0x11436c410>"
      ]
     },
     "execution_count": 9,
     "metadata": {},
     "output_type": "execute_result"
    }
   ],
   "source": [
    "y_train_ = np_utils.to_categorical(y_train)\n",
    "estimator.fit(x_train_zero, y_train_)"
   ]
  },
  {
   "cell_type": "code",
   "execution_count": 10,
   "metadata": {
    "collapsed": false
   },
   "outputs": [],
   "source": [
    "from sklearn.metrics import accuracy_score"
   ]
  },
  {
   "cell_type": "code",
   "execution_count": 11,
   "metadata": {
    "collapsed": false
   },
   "outputs": [
    {
     "name": "stdout",
     "output_type": "stream",
     "text": [
      "0.176 0.164\n"
     ]
    }
   ],
   "source": [
    "max_random_accuracy = 0.0\n",
    "for i in range(10000):\n",
    "    y_random_pred = np.random.randint(10, size=(y_val.shape))\n",
    "    acc = accuracy_score(y_val, y_random_pred)\n",
    "    if max_random_accuracy < acc:\n",
    "        max_random_accuracy = acc\n",
    "\n",
    "y_pred = estimator.predict(x_val)\n",
    "\n",
    "print max_random_accuracy, accuracy_score(y_val, y_pred)"
   ]
  },
  {
   "cell_type": "markdown",
   "metadata": {},
   "source": []
  },
  {
   "cell_type": "code",
   "execution_count": null,
   "metadata": {
    "collapsed": true
   },
   "outputs": [],
   "source": []
  },
  {
   "cell_type": "code",
   "execution_count": null,
   "metadata": {
    "collapsed": true
   },
   "outputs": [],
   "source": []
  },
  {
   "cell_type": "code",
   "execution_count": null,
   "metadata": {
    "collapsed": true
   },
   "outputs": [],
   "source": []
  },
  {
   "cell_type": "markdown",
   "metadata": {
    "collapsed": true
   },
   "source": [
    "Test with yearmonth"
   ]
  },
  {
   "cell_type": "code",
   "execution_count": 1,
   "metadata": {
    "collapsed": true
   },
   "outputs": [],
   "source": [
    "from common import _to_ym_dec, _to_ym, _to_nb_months"
   ]
  },
  {
   "cell_type": "code",
   "execution_count": 12,
   "metadata": {
    "collapsed": false
   },
   "outputs": [
    {
     "name": "stdout",
     "output_type": "stream",
     "text": [
      "201504 2015.25 2015.16666667 201503\n",
      "201505 2015.33333333 2015.25 201504\n",
      "201501 2015.0 2014.91666667 201412\n",
      "200001 2000.0 1999.91666667 199912\n",
      "1 0.0 -0.0833333333333 1\n"
     ]
    }
   ],
   "source": [
    "ym_ref = 2\n",
    "\n",
    "for ym in [201504, 201505, 201501, 200001, 1]:\n",
    "    print ym, _to_ym_dec(ym), _to_ym_dec(ym) - _to_ym_dec(ym_ref), _to_ym(_to_ym_dec(ym) - _to_ym_dec(ym_ref))\n"
   ]
  },
  {
   "cell_type": "code",
   "execution_count": null,
   "metadata": {
    "collapsed": true
   },
   "outputs": [],
   "source": []
  },
  {
   "cell_type": "code",
   "execution_count": null,
   "metadata": {
    "collapsed": true
   },
   "outputs": [],
   "source": []
  },
  {
   "cell_type": "code",
   "execution_count": 18,
   "metadata": {
    "collapsed": false
   },
   "outputs": [
    {
     "name": "stdout",
     "output_type": "stream",
     "text": [
      "[201504, 201505, 201506, 201512, 201601, 201604, 201605]\n"
     ]
    }
   ],
   "source": [
    "train_yearmonths_list = [201505, 201506, 201601]\n",
    "\n",
    "yearmonths_list = []\n",
    "\n",
    "# train_yearmonths_list should be sorted in ascending order without duplicates\n",
    "for ym in train_yearmonths_list + [201605]:\n",
    "    # get the previous month\n",
    "    prev_ym = _to_ym(_to_ym_dec(ym) - _to_ym_dec(2))\n",
    "    if len(yearmonths_list) and yearmonths_list[-1] == prev_ym:\n",
    "        yearmonths_list += [ym]\n",
    "    else:\n",
    "        yearmonths_list += [prev_ym, ym]\n",
    "\n",
    "print yearmonths_list"
   ]
  },
  {
   "cell_type": "code",
   "execution_count": null,
   "metadata": {
    "collapsed": true
   },
   "outputs": [],
   "source": []
  },
  {
   "cell_type": "code",
   "execution_count": null,
   "metadata": {
    "collapsed": true
   },
   "outputs": [],
   "source": []
  },
  {
   "cell_type": "code",
   "execution_count": null,
   "metadata": {
    "collapsed": true
   },
   "outputs": [],
   "source": []
  },
  {
   "cell_type": "markdown",
   "metadata": {},
   "source": [
    "Append last choice as columns"
   ]
  },
  {
   "cell_type": "code",
   "execution_count": 30,
   "metadata": {
    "collapsed": false
   },
   "outputs": [
    {
     "data": {
      "text/html": [
       "<div>\n",
       "<table border=\"1\" class=\"dataframe\">\n",
       "  <thead>\n",
       "    <tr style=\"text-align: right;\">\n",
       "      <th></th>\n",
       "      <th>ncodpers</th>\n",
       "      <th>fecha_dato</th>\n",
       "      <th>a</th>\n",
       "      <th>b</th>\n",
       "    </tr>\n",
       "  </thead>\n",
       "  <tbody>\n",
       "    <tr>\n",
       "      <th>0</th>\n",
       "      <td>0</td>\n",
       "      <td>201501</td>\n",
       "      <td>0</td>\n",
       "      <td>-0.421121</td>\n",
       "    </tr>\n",
       "    <tr>\n",
       "      <th>1</th>\n",
       "      <td>1</td>\n",
       "      <td>201501</td>\n",
       "      <td>1</td>\n",
       "      <td>-0.140080</td>\n",
       "    </tr>\n",
       "    <tr>\n",
       "      <th>2</th>\n",
       "      <td>2</td>\n",
       "      <td>201501</td>\n",
       "      <td>2</td>\n",
       "      <td>-0.072629</td>\n",
       "    </tr>\n",
       "    <tr>\n",
       "      <th>3</th>\n",
       "      <td>3</td>\n",
       "      <td>201501</td>\n",
       "      <td>3</td>\n",
       "      <td>0.002414</td>\n",
       "    </tr>\n",
       "    <tr>\n",
       "      <th>4</th>\n",
       "      <td>4</td>\n",
       "      <td>201501</td>\n",
       "      <td>4</td>\n",
       "      <td>0.269303</td>\n",
       "    </tr>\n",
       "    <tr>\n",
       "      <th>5</th>\n",
       "      <td>0</td>\n",
       "      <td>201502</td>\n",
       "      <td>5</td>\n",
       "      <td>1.199566</td>\n",
       "    </tr>\n",
       "    <tr>\n",
       "      <th>6</th>\n",
       "      <td>1</td>\n",
       "      <td>201502</td>\n",
       "      <td>6</td>\n",
       "      <td>0.294741</td>\n",
       "    </tr>\n",
       "    <tr>\n",
       "      <th>7</th>\n",
       "      <td>2</td>\n",
       "      <td>201502</td>\n",
       "      <td>7</td>\n",
       "      <td>0.677725</td>\n",
       "    </tr>\n",
       "    <tr>\n",
       "      <th>8</th>\n",
       "      <td>3</td>\n",
       "      <td>201502</td>\n",
       "      <td>8</td>\n",
       "      <td>0.827027</td>\n",
       "    </tr>\n",
       "    <tr>\n",
       "      <th>9</th>\n",
       "      <td>4</td>\n",
       "      <td>201502</td>\n",
       "      <td>9</td>\n",
       "      <td>0.271020</td>\n",
       "    </tr>\n",
       "  </tbody>\n",
       "</table>\n",
       "</div>"
      ],
      "text/plain": [
       "   ncodpers  fecha_dato  a         b\n",
       "0         0      201501  0 -0.421121\n",
       "1         1      201501  1 -0.140080\n",
       "2         2      201501  2 -0.072629\n",
       "3         3      201501  3  0.002414\n",
       "4         4      201501  4  0.269303\n",
       "5         0      201502  5  1.199566\n",
       "6         1      201502  6  0.294741\n",
       "7         2      201502  7  0.677725\n",
       "8         3      201502  8  0.827027\n",
       "9         4      201502  9  0.271020"
      ]
     },
     "execution_count": 30,
     "metadata": {},
     "output_type": "execute_result"
    }
   ],
   "source": [
    "import numpy as np\n",
    "import pandas as pd\n",
    "ll = 5\n",
    "train_df = pd.DataFrame({'ncodpers': range(ll) + range(ll), 'fecha_dato': [201501]*ll + [201502]*ll, 'a': range(2*ll), 'b': np.random.randn(2*ll)}, columns=['ncodpers', 'fecha_dato', 'a', 'b'])\n",
    "train_df"
   ]
  },
  {
   "cell_type": "code",
   "execution_count": 32,
   "metadata": {
    "collapsed": true
   },
   "outputs": [],
   "source": [
    "train_df2 = train_df#.sort_values(['ncodpers', 'fecha_dato'])   \n",
    "\n",
    "last_choice_mask = train_df2['fecha_dato'] == 201501\n",
    "train_month_mask = train_df2['fecha_dato'] == 201502\n",
    "\n",
    "TARGET_LABELS = ['a', 'b']"
   ]
  },
  {
   "cell_type": "code",
   "execution_count": 34,
   "metadata": {
    "collapsed": false
   },
   "outputs": [
    {
     "data": {
      "text/html": [
       "<div>\n",
       "<table border=\"1\" class=\"dataframe\">\n",
       "  <thead>\n",
       "    <tr style=\"text-align: right;\">\n",
       "      <th></th>\n",
       "      <th>ncodpers</th>\n",
       "      <th>fecha_dato</th>\n",
       "      <th>a</th>\n",
       "      <th>b</th>\n",
       "      <th>lc_a</th>\n",
       "      <th>lc_b</th>\n",
       "    </tr>\n",
       "  </thead>\n",
       "  <tbody>\n",
       "    <tr>\n",
       "      <th>0</th>\n",
       "      <td>0</td>\n",
       "      <td>201501</td>\n",
       "      <td>0</td>\n",
       "      <td>-0.421121</td>\n",
       "      <td>NaN</td>\n",
       "      <td>NaN</td>\n",
       "    </tr>\n",
       "    <tr>\n",
       "      <th>5</th>\n",
       "      <td>0</td>\n",
       "      <td>201502</td>\n",
       "      <td>5</td>\n",
       "      <td>1.199566</td>\n",
       "      <td>0.0</td>\n",
       "      <td>-0.421121</td>\n",
       "    </tr>\n",
       "    <tr>\n",
       "      <th>1</th>\n",
       "      <td>1</td>\n",
       "      <td>201501</td>\n",
       "      <td>1</td>\n",
       "      <td>-0.140080</td>\n",
       "      <td>NaN</td>\n",
       "      <td>NaN</td>\n",
       "    </tr>\n",
       "    <tr>\n",
       "      <th>6</th>\n",
       "      <td>1</td>\n",
       "      <td>201502</td>\n",
       "      <td>6</td>\n",
       "      <td>0.294741</td>\n",
       "      <td>1.0</td>\n",
       "      <td>-0.140080</td>\n",
       "    </tr>\n",
       "    <tr>\n",
       "      <th>2</th>\n",
       "      <td>2</td>\n",
       "      <td>201501</td>\n",
       "      <td>2</td>\n",
       "      <td>-0.072629</td>\n",
       "      <td>NaN</td>\n",
       "      <td>NaN</td>\n",
       "    </tr>\n",
       "    <tr>\n",
       "      <th>7</th>\n",
       "      <td>2</td>\n",
       "      <td>201502</td>\n",
       "      <td>7</td>\n",
       "      <td>0.677725</td>\n",
       "      <td>2.0</td>\n",
       "      <td>-0.072629</td>\n",
       "    </tr>\n",
       "    <tr>\n",
       "      <th>3</th>\n",
       "      <td>3</td>\n",
       "      <td>201501</td>\n",
       "      <td>3</td>\n",
       "      <td>0.002414</td>\n",
       "      <td>NaN</td>\n",
       "      <td>NaN</td>\n",
       "    </tr>\n",
       "    <tr>\n",
       "      <th>8</th>\n",
       "      <td>3</td>\n",
       "      <td>201502</td>\n",
       "      <td>8</td>\n",
       "      <td>0.827027</td>\n",
       "      <td>3.0</td>\n",
       "      <td>0.002414</td>\n",
       "    </tr>\n",
       "    <tr>\n",
       "      <th>4</th>\n",
       "      <td>4</td>\n",
       "      <td>201501</td>\n",
       "      <td>4</td>\n",
       "      <td>0.269303</td>\n",
       "      <td>NaN</td>\n",
       "      <td>NaN</td>\n",
       "    </tr>\n",
       "    <tr>\n",
       "      <th>9</th>\n",
       "      <td>4</td>\n",
       "      <td>201502</td>\n",
       "      <td>9</td>\n",
       "      <td>0.271020</td>\n",
       "      <td>4.0</td>\n",
       "      <td>0.269303</td>\n",
       "    </tr>\n",
       "  </tbody>\n",
       "</table>\n",
       "</div>"
      ],
      "text/plain": [
       "   ncodpers  fecha_dato  a         b  lc_a      lc_b\n",
       "0         0      201501  0 -0.421121   NaN       NaN\n",
       "5         0      201502  5  1.199566   0.0 -0.421121\n",
       "1         1      201501  1 -0.140080   NaN       NaN\n",
       "6         1      201502  6  0.294741   1.0 -0.140080\n",
       "2         2      201501  2 -0.072629   NaN       NaN\n",
       "7         2      201502  7  0.677725   2.0 -0.072629\n",
       "3         3      201501  3  0.002414   NaN       NaN\n",
       "8         3      201502  8  0.827027   3.0  0.002414\n",
       "4         4      201501  4  0.269303   NaN       NaN\n",
       "9         4      201502  9  0.271020   4.0  0.269303"
      ]
     },
     "execution_count": 34,
     "metadata": {},
     "output_type": "execute_result"
    }
   ],
   "source": [
    "clients_last_choice = train_df2[last_choice_mask][TARGET_LABELS]#.sort_values(['ncodpers']) \n",
    "# Prepend \"lc_\" to column names\n",
    "clc_new_cols = clients_last_choice.columns.values\n",
    "clc_new_cols[:] = \"lc_\" + clc_new_cols[:]\n",
    "\n",
    "# Replace indices to the ones corresponding to the current month\n",
    "clients_last_choice.index = train_df2[train_month_mask].index\n",
    "\n",
    "train_df3 = pd.concat([train_df2, clients_last_choice], axis=1)\n",
    "train_df3 = train_df3.sort_values(['ncodpers', 'fecha_dato'])\n",
    "train_df3"
   ]
  },
  {
   "cell_type": "code",
   "execution_count": null,
   "metadata": {
    "collapsed": true
   },
   "outputs": [],
   "source": []
  },
  {
   "cell_type": "code",
   "execution_count": null,
   "metadata": {
    "collapsed": true
   },
   "outputs": [],
   "source": []
  },
  {
   "cell_type": "code",
   "execution_count": null,
   "metadata": {
    "collapsed": true
   },
   "outputs": [],
   "source": []
  },
  {
   "cell_type": "code",
   "execution_count": null,
   "metadata": {
    "collapsed": true
   },
   "outputs": [],
   "source": [
    "def _add_diff_inplace(df, prev_ym_mask, ym_mask):\n",
    "    tmp_df = df[['fecha_dato','ncodpers']]\n",
    "    tmp_df.loc[:,'t'] = df[TARGET_LABELS].apply(dummies_to_decimal, axis=1)\n",
    "#     print tmp_df.sort_values(['ncodpers', 'fecha_dato'])[['fecha_dato', 'ncodpers', 't']].head()\n",
    "    v1 = tmp_df[ym_mask][['ncodpers', 't']]\n",
    "#     print v1[['ncodpers', 't']].head()\n",
    "    v2 = tmp_df[prev_ym_mask][['ncodpers', 't']]\n",
    "#     print v2[['ncodpers', 't']].head()\n",
    "    assert len(v1) == len(v2), \"Length of current month and previous month are not equal\"\n",
    "#     v1.columns = ['ncodpers', 't1']\n",
    "#     v2.columns = ['ncodpers', 't2']\n",
    "#     v2.index = v1.index\n",
    "#     v1.loc[:, 't2'] = v2['t2']\n",
    "#     df.loc[ym_mask,'diff'] = v1[['t1', 't2']].apply(diff, axis=1)\n",
    "    v2.index = v1.index\n",
    "    df.loc[ym_mask,'diff'] = v1['t'] - v2['t']"
   ]
  },
  {
   "cell_type": "code",
   "execution_count": null,
   "metadata": {
    "collapsed": true
   },
   "outputs": [],
   "source": []
  },
  {
   "cell_type": "code",
   "execution_count": null,
   "metadata": {
    "collapsed": true
   },
   "outputs": [],
   "source": []
  },
  {
   "cell_type": "code",
   "execution_count": 1,
   "metadata": {
    "collapsed": false
   },
   "outputs": [
    {
     "name": "stderr",
     "output_type": "stream",
     "text": [
      "/usr/local/lib/python2.7/site-packages/pandas/core/indexing.py:288: SettingWithCopyWarning: \n",
      "A value is trying to be set on a copy of a slice from a DataFrame.\n",
      "Try using .loc[row_indexer,col_indexer] = value instead\n",
      "\n",
      "See the caveats in the documentation: http://pandas.pydata.org/pandas-docs/stable/indexing.html#indexing-view-versus-copy\n",
      "  self.obj[key] = _infer_fill_value(value)\n",
      "/usr/local/lib/python2.7/site-packages/pandas/core/indexing.py:465: SettingWithCopyWarning: \n",
      "A value is trying to be set on a copy of a slice from a DataFrame.\n",
      "Try using .loc[row_indexer,col_indexer] = value instead\n",
      "\n",
      "See the caveats in the documentation: http://pandas.pydata.org/pandas-docs/stable/indexing.html#indexing-view-versus-copy\n",
      "  self.obj[item] = s\n"
     ]
    }
   ],
   "source": [
    "from dataset import load_trainval\n",
    "t, v = load_trainval([201504], [201505], 1000)"
   ]
  },
  {
   "cell_type": "code",
   "execution_count": 2,
   "metadata": {
    "collapsed": false
   },
   "outputs": [
    {
     "data": {
      "text/html": [
       "<div>\n",
       "<table border=\"1\" class=\"dataframe\">\n",
       "  <thead>\n",
       "    <tr style=\"text-align: right;\">\n",
       "      <th></th>\n",
       "      <th>fecha_dato</th>\n",
       "      <th>ncodpers</th>\n",
       "      <th>diff</th>\n",
       "    </tr>\n",
       "  </thead>\n",
       "  <tbody>\n",
       "    <tr>\n",
       "      <th>420826</th>\n",
       "      <td>2015-03-28</td>\n",
       "      <td>17964</td>\n",
       "      <td>-16777216</td>\n",
       "    </tr>\n",
       "    <tr>\n",
       "      <th>838817</th>\n",
       "      <td>2015-04-28</td>\n",
       "      <td>17964</td>\n",
       "      <td>0</td>\n",
       "    </tr>\n",
       "    <tr>\n",
       "      <th>422436</th>\n",
       "      <td>2015-03-28</td>\n",
       "      <td>19014</td>\n",
       "      <td>-16777216</td>\n",
       "    </tr>\n",
       "    <tr>\n",
       "      <th>840662</th>\n",
       "      <td>2015-04-28</td>\n",
       "      <td>19014</td>\n",
       "      <td>0</td>\n",
       "    </tr>\n",
       "    <tr>\n",
       "      <th>422707</th>\n",
       "      <td>2015-03-28</td>\n",
       "      <td>19919</td>\n",
       "      <td>-16777216</td>\n",
       "    </tr>\n",
       "  </tbody>\n",
       "</table>\n",
       "</div>"
      ],
      "text/plain": [
       "        fecha_dato  ncodpers      diff\n",
       "420826  2015-03-28     17964 -16777216\n",
       "838817  2015-04-28     17964         0\n",
       "422436  2015-03-28     19014 -16777216\n",
       "840662  2015-04-28     19014         0\n",
       "422707  2015-03-28     19919 -16777216"
      ]
     },
     "execution_count": 2,
     "metadata": {},
     "output_type": "execute_result"
    }
   ],
   "source": [
    "t[['fecha_dato', 'ncodpers','diff']].head()"
   ]
  },
  {
   "cell_type": "code",
   "execution_count": 3,
   "metadata": {
    "collapsed": false
   },
   "outputs": [
    {
     "data": {
      "text/html": [
       "<div>\n",
       "<table border=\"1\" class=\"dataframe\">\n",
       "  <thead>\n",
       "    <tr style=\"text-align: right;\">\n",
       "      <th></th>\n",
       "      <th>fecha_dato</th>\n",
       "      <th>ncodpers</th>\n",
       "      <th>diff</th>\n",
       "    </tr>\n",
       "  </thead>\n",
       "  <tbody>\n",
       "    <tr>\n",
       "      <th>0</th>\n",
       "      <td>2015-04-28</td>\n",
       "      <td>15889</td>\n",
       "      <td>-16777216</td>\n",
       "    </tr>\n",
       "    <tr>\n",
       "      <th>1262322</th>\n",
       "      <td>2015-05-28</td>\n",
       "      <td>15889</td>\n",
       "      <td>32</td>\n",
       "    </tr>\n",
       "    <tr>\n",
       "      <th>210123</th>\n",
       "      <td>2015-04-28</td>\n",
       "      <td>15890</td>\n",
       "      <td>-16777216</td>\n",
       "    </tr>\n",
       "    <tr>\n",
       "      <th>1262323</th>\n",
       "      <td>2015-05-28</td>\n",
       "      <td>15890</td>\n",
       "      <td>0</td>\n",
       "    </tr>\n",
       "    <tr>\n",
       "      <th>210122</th>\n",
       "      <td>2015-04-28</td>\n",
       "      <td>15892</td>\n",
       "      <td>-16777216</td>\n",
       "    </tr>\n",
       "  </tbody>\n",
       "</table>\n",
       "</div>"
      ],
      "text/plain": [
       "         fecha_dato  ncodpers      diff\n",
       "0        2015-04-28     15889 -16777216\n",
       "1262322  2015-05-28     15889        32\n",
       "210123   2015-04-28     15890 -16777216\n",
       "1262323  2015-05-28     15890         0\n",
       "210122   2015-04-28     15892 -16777216"
      ]
     },
     "execution_count": 3,
     "metadata": {},
     "output_type": "execute_result"
    }
   ],
   "source": [
    "v[['fecha_dato', 'ncodpers','diff']].head()"
   ]
  },
  {
   "cell_type": "code",
   "execution_count": null,
   "metadata": {
    "collapsed": true
   },
   "outputs": [],
   "source": []
  },
  {
   "cell_type": "code",
   "execution_count": null,
   "metadata": {
    "collapsed": true
   },
   "outputs": [],
   "source": []
  },
  {
   "cell_type": "code",
   "execution_count": null,
   "metadata": {
    "collapsed": true
   },
   "outputs": [],
   "source": []
  },
  {
   "cell_type": "code",
   "execution_count": null,
   "metadata": {
    "collapsed": true
   },
   "outputs": [],
   "source": [
    "# def load_trainval(train_yearmonths_list, val_yearmonth, train_nb_clients=-1):\n",
    "\n",
    "train_yearmonths_list = [201505, 201506]\n",
    "val_yearmonth = [201605]\n",
    "train_nb_clients = 1000"
   ]
  },
  {
   "cell_type": "code",
   "execution_count": null,
   "metadata": {
    "collapsed": true
   },
   "outputs": [],
   "source": [
    "def _get_prev_ym(ym):\n",
    "    return _to_ym(_to_ym_dec(ym) - _to_ym_dec(2))\n",
    "\n",
    "def _ym_list_to_load(ym_list):\n",
    "    \"\"\"\n",
    "    Append previous month to the each yearmonth\n",
    "    \"\"\"\n",
    "    out = []\n",
    "    for ym in ym_list:\n",
    "        # get the previous month\n",
    "        prev_ym = _get_prev_ym(ym)\n",
    "        if len(out) and out[-1] == prev_ym:\n",
    "            out += [ym]\n",
    "        else:\n",
    "            out += [prev_ym, ym]\n",
    "    return out\n",
    "\n",
    "yearmonth_list = _ym_list_to_load(train_yearmonths_list)\n",
    "print \"Load yearmonth_list\", yearmonth_list\n",
    "train_df = load_data2(TRAIN_FILE_PATH, yearmonth_list, train_nb_clients)\n",
    "minimal_clean_data_inplace(train_df)\n",
    "preprocess_data_inplace(train_df)\n",
    "\n",
    "months = train_df['fecha_dato'].unique()\n",
    "clients = train_df['ncodpers'].unique()\n",
    "assert len(clients) == (train_df['ncodpers'].value_counts() == len(yearmonth_list)).sum()\n",
    "ll = len(clients)\n",
    "months_ym_map = {}\n",
    "for m in months:\n",
    "    l = len(train_df[train_df['fecha_dato'] == m]['ncodpers'].unique())\n",
    "    assert l == ll, \"Number of clients should be identical for all monthes. (%s, %s, %s)\" % (m, l, ll)\n",
    "    months_ym_map[to_yearmonth(m)] = m"
   ]
  },
  {
   "cell_type": "code",
   "execution_count": null,
   "metadata": {
    "collapsed": true
   },
   "outputs": [],
   "source": [
    "print months, months_ym_map"
   ]
  },
  {
   "cell_type": "code",
   "execution_count": null,
   "metadata": {
    "collapsed": true
   },
   "outputs": [],
   "source": [
    "from math import log\n",
    "\n",
    "\n",
    "LC_TARGET_LABELS = ['lc_' + t for t in TARGET_LABELS]        \n",
    "\n",
    "\n",
    "def dummies_to_str(row):\n",
    "    output = ''\n",
    "    for v in row.values:\n",
    "        output += str(int(v))\n",
    "    return output\n",
    "\n",
    "\n",
    "def dummies_to_decimal(row):\n",
    "    output = dummies_to_str(row)\n",
    "    return int(output, 2)\n",
    "\n",
    "    \n",
    "def _add_diff_inplace(df, prev_ym_mask, ym_mask):\n",
    "    \"\"\"\n",
    "    df should be imperatively sorted by clients in order to subtract and assign correctly\n",
    "    \"\"\"\n",
    "    tmp_df = df[['fecha_dato','ncodpers']]\n",
    "    tmp_df.loc[:,'t'] = df[TARGET_LABELS].apply(dummies_to_decimal, axis=1)\n",
    "    v1 = tmp_df[ym_mask][['ncodpers', 't']]\n",
    "    v2 = tmp_df[prev_ym_mask][['ncodpers', 't']]\n",
    "    assert len(v1) == len(v2), \"Length of current month and previous month are not equal\"\n",
    "    v2.index = v1.index\n",
    "    df.loc[ym_mask,'diff'] = v1['t'] - v2['t']\n",
    "    \n",
    "    \n",
    "def _add_clc_inplace(df, prev_ym_mask, ym_mask):\n",
    "    \"\"\"\n",
    "    df should be imperatively sorted by clients in order to subtract and assign correctly\n",
    "    \"\"\"\n",
    "    clients_last_choice = df[prev_ym_mask][['ncodpers'] + TARGET_LABELS]\n",
    "#     print clients_last_choice[['ncodpers'] + TARGET_LABELS[:1]].head()\n",
    "    # Prepend \"lc_\" to column names\n",
    "    clc_new_cols = clients_last_choice.columns.values\n",
    "    clc_new_cols[1:] = \"lc_\" + clc_new_cols[1:]\n",
    "    \n",
    "    clients_last_choice.index = df[ym_mask].index\n",
    "    for c in clc_new_cols[1:]:\n",
    "        df.loc[ym_mask, c] = clients_last_choice[c]\n",
    "\n",
    "    df.loc[ym_mask, 'lc_targets_str'] = df[ym_mask][LC_TARGET_LABELS].apply(dummies_to_str, axis=1)\n",
    "    df.loc[ym_mask, 'lc_targets_dec'] = df[ym_mask][LC_TARGET_LABELS].apply(dummies_to_decimal, axis=1)\n",
    "\n",
    "\n",
    "# Imperatively sort by clients in order to subtract and assign correctly\n",
    "train_df2 = train_df.sort_values(['ncodpers', 'fecha_dato'])    \n",
    "\n",
    "for ym in train_yearmonths_list:\n",
    "    prev_ym = _get_prev_ym(ym)\n",
    "    prev_ym_mask = train_df2['fecha_dato'] == months_ym_map[prev_ym]\n",
    "    ym_mask = train_df2['fecha_dato'] == months_ym_map[ym]\n",
    "\n",
    "    train_df2.loc[:, 'targets_str'] = train_df2[TARGET_LABELS].apply(dummies_to_str, axis=1)\n",
    "    train_df2.loc[:, 'targets_dec'] = train_df2[TARGET_LABELS].apply(dummies_to_decimal, axis=1)\n",
    "    \n",
    "    _add_diff_inplace(train_df2, prev_ym_mask, ym_mask)\n",
    "    _add_clc_inplace(train_df2, prev_ym_mask, ym_mask)\n",
    "\n",
    "\n",
    "mask = (~train_df2['diff'].isnull())\n",
    "assert (train_df2[mask]['diff'] == train_df2[mask]['targets_dec'] - train_df2[mask]['lc_targets_dec']).all(), \"Something is wrong\"\n"
   ]
  },
  {
   "cell_type": "code",
   "execution_count": null,
   "metadata": {
    "collapsed": true
   },
   "outputs": [],
   "source": [
    "mask = (~train_df2['diff'].isnull()) & (train_df2['diff'] != 0.0)\n",
    "train_df2[mask].sort_values(['ncodpers', 'fecha_dato'])[['fecha_dato', 'ncodpers', 'targets_str', 'targets_dec', 'diff', 'lc_targets_str', 'lc_targets_dec']].head(10)\n"
   ]
  },
  {
   "cell_type": "code",
   "execution_count": null,
   "metadata": {
    "collapsed": true
   },
   "outputs": [],
   "source": [
    "yearmonth_list = _ym_list_to_load(val_yearmonth)\n",
    "print \"Load yearmonth_list\", yearmonth_list\n",
    "val_df = load_data2(TRAIN_FILE_PATH, yearmonth_list, 'max')\n",
    "minimal_clean_data_inplace(val_df)\n",
    "preprocess_data_inplace(val_df)"
   ]
  },
  {
   "cell_type": "code",
   "execution_count": null,
   "metadata": {
    "collapsed": true
   },
   "outputs": [],
   "source": [
    "months = val_df['fecha_dato'].unique()\n",
    "clients = val_df['ncodpers'].unique()\n",
    "assert len(clients) == (val_df['ncodpers'].value_counts() == len(yearmonth_list)).sum()\n",
    "ll = len(clients)\n",
    "months_ym_map = {}\n",
    "for m in months:\n",
    "    l = len(val_df[val_df['fecha_dato'] == m]['ncodpers'].unique())\n",
    "    assert l == ll, \"Number of clients should be identical for all monthes. (%s, %s, %s)\" % (m, l, ll)\n",
    "    months_ym_map[to_yearmonth(m)] = m"
   ]
  },
  {
   "cell_type": "code",
   "execution_count": null,
   "metadata": {
    "collapsed": true
   },
   "outputs": [],
   "source": [
    "print months, months_ym_map"
   ]
  },
  {
   "cell_type": "code",
   "execution_count": null,
   "metadata": {
    "collapsed": true
   },
   "outputs": [],
   "source": [
    "# Imperatively sort by clients in order to subtract and assign correctly\n",
    "val_df2 = val_df.sort_values(['ncodpers', 'fecha_dato'])    \n",
    "\n",
    "for ym in val_yearmonth:\n",
    "    prev_ym = _get_prev_ym(ym)\n",
    "    prev_ym_mask = val_df2['fecha_dato'] == months_ym_map[prev_ym]\n",
    "    ym_mask = val_df2['fecha_dato'] == months_ym_map[ym]\n",
    "\n",
    "    val_df2.loc[:, 'targets_str'] = val_df2[TARGET_LABELS].apply(dummies_to_str, axis=1)\n",
    "    val_df2.loc[:, 'targets_dec'] = val_df2[TARGET_LABELS].apply(dummies_to_decimal, axis=1)\n",
    "    \n",
    "    _add_diff_inplace(val_df2, prev_ym_mask, ym_mask)\n",
    "    _add_clc_inplace(val_df2, prev_ym_mask, ym_mask)\n",
    "\n",
    "\n",
    "mask = (~val_df2['diff'].isnull())\n",
    "assert (val_df2[mask]['diff'] == val_df2[mask]['targets_dec'] - val_df2[mask]['lc_targets_dec']).all(), \"Something is wrong\"\n"
   ]
  },
  {
   "cell_type": "code",
   "execution_count": null,
   "metadata": {
    "collapsed": true
   },
   "outputs": [],
   "source": [
    "mask = (~val_df2['diff'].isnull()) & (val_df2['diff'] != 0.0)\n",
    "val_df2[mask].sort_values(['ncodpers', 'fecha_dato'])[['fecha_dato', 'ncodpers', 'targets_str', 'targets_dec', 'diff', 'lc_targets_str', 'lc_targets_dec']].head(10)\n"
   ]
  },
  {
   "cell_type": "code",
   "execution_count": null,
   "metadata": {
    "collapsed": true
   },
   "outputs": [],
   "source": [
    "mask = val_df2['fecha_dato'] == months_ym_map[201605]\n",
    "val_df2[mask].shape"
   ]
  },
  {
   "cell_type": "code",
   "execution_count": null,
   "metadata": {
    "collapsed": true
   },
   "outputs": [],
   "source": [
    "full_val_df = load_data2(TRAIN_FILE_PATH, [201605])\n",
    "minimal_clean_data_inplace(full_val_df)\n",
    "preprocess_data_inplace(full_val_df)"
   ]
  },
  {
   "cell_type": "code",
   "execution_count": null,
   "metadata": {
    "collapsed": true
   },
   "outputs": [],
   "source": [
    "full_val_df.shape"
   ]
  },
  {
   "cell_type": "code",
   "execution_count": null,
   "metadata": {
    "collapsed": true
   },
   "outputs": [],
   "source": []
  },
  {
   "cell_type": "code",
   "execution_count": null,
   "metadata": {
    "collapsed": true
   },
   "outputs": [],
   "source": []
  },
  {
   "cell_type": "code",
   "execution_count": null,
   "metadata": {
    "collapsed": true
   },
   "outputs": [],
   "source": []
  },
  {
   "cell_type": "code",
   "execution_count": 41,
   "metadata": {
    "collapsed": false
   },
   "outputs": [
    {
     "name": "stdout",
     "output_type": "stream",
     "text": [
      "5\n",
      "0b101\n"
     ]
    }
   ],
   "source": [
    "output = '0101'\n",
    "res = int(output, 2)\n",
    "print res\n",
    "print bin(res)\n",
    "\n"
   ]
  },
  {
   "cell_type": "code",
   "execution_count": 158,
   "metadata": {
    "collapsed": false
   },
   "outputs": [
    {
     "name": "stdout",
     "output_type": "stream",
     "text": [
      "1.50549328327\n",
      "110000001011010000000001\n",
      "110000001011010000000001\n"
     ]
    }
   ],
   "source": [
    "import numpy as np\n",
    "\n",
    "def dummy_to_dec(s):\n",
    "    v = 0\n",
    "    for i, c in enumerate(s):\n",
    "        v += np.power(0.5, i) * int(c)\n",
    "    return v\n",
    "\n",
    "output = '110000001011010000000001'\n",
    "res = dummy_to_dec(output)\n",
    "print res\n",
    "\n",
    "def dec_to_dummy(v):\n",
    "    q=0.5\n",
    "    output = '{:024b}'.format(int(v/(q**23)))\n",
    "    return output\n",
    "\n",
    "print dec_to_dummy(res)\n",
    "print output\n",
    "\n",
    "\n"
   ]
  },
  {
   "cell_type": "markdown",
   "metadata": {},
   "source": [
    "Conversion formula is the following: $|q| < 1$\n",
    "\n",
    "$$v = c_0 + q^1 c_1 + q^2 c_2 + ... + q^n c_n$$\n",
    "\n",
    "v/q^n = c_0/q^n + c_1/q^{n-1} + ... + c_n\n",
    "\n",
    "\n",
    "$$\\frac{v}/{q} = c_0 / q + c_1 + q^1 c_2 + ... + q^{n-1} c_n $$\n",
    "\n",
    "\n",
    "(v - c_0)/q = c_1 + q^1 c_2 + ... + q^{n-1} c_n = w_1\n",
    "\n",
    "c_0 = v - w_1 q\n",
    "c_1 = w_1 - w_2 q, w_2 = c_2 + q^1 c_3 + ... + q^{n-2} c_n\n",
    "c_{n-1} = w_{n-1} - w_n q, w_n = c_n \n",
    "\n",
    "\n",
    "$$log(v)/log(q^0) = log(q^0 c_0) / log(q^0) log(q^1 c_1) log(q^2 c_2) ...$$\n",
    "\n"
   ]
  },
  {
   "cell_type": "code",
   "execution_count": 124,
   "metadata": {
    "collapsed": false
   },
   "outputs": [
    {
     "name": "stdout",
     "output_type": "stream",
     "text": [
      "[  1.00000000e+00   5.00000000e-01   2.50000000e-01   1.25000000e-01\n",
      "   6.25000000e-02   3.12500000e-02   1.56250000e-02   7.81250000e-03\n",
      "   3.90625000e-03   1.95312500e-03   9.76562500e-04   4.88281250e-04\n",
      "   2.44140625e-04   1.22070312e-04   6.10351562e-05   3.05175781e-05\n",
      "   1.52587891e-05   7.62939453e-06   3.81469727e-06   1.90734863e-06\n",
      "   9.53674316e-07   4.76837158e-07   2.38418579e-07   1.19209290e-07] 1.99999988079\n"
     ]
    },
    {
     "data": {
      "text/plain": [
       "array([  8.38860800e+06,   4.19430400e+06,   2.09715200e+06,\n",
       "         1.04857600e+06,   5.24288000e+05,   2.62144000e+05,\n",
       "         1.31072000e+05,   6.55360000e+04,   3.27680000e+04,\n",
       "         1.63840000e+04,   8.19200000e+03,   4.09600000e+03,\n",
       "         2.04800000e+03,   1.02400000e+03,   5.12000000e+02,\n",
       "         2.56000000e+02,   1.28000000e+02,   6.40000000e+01,\n",
       "         3.20000000e+01,   1.60000000e+01,   8.00000000e+00,\n",
       "         4.00000000e+00,   2.00000000e+00,   1.00000000e+00])"
      ]
     },
     "execution_count": 124,
     "metadata": {},
     "output_type": "execute_result"
    }
   ],
   "source": [
    "q = 0.5\n",
    "qs = np.power(q, np.arange(0,24,1))\n",
    "print qs, qs.sum()\n",
    "\n",
    "qs / q**23"
   ]
  },
  {
   "cell_type": "code",
   "execution_count": 126,
   "metadata": {
    "collapsed": false
   },
   "outputs": [
    {
     "name": "stdout",
     "output_type": "stream",
     "text": [
      "7340032.0\n",
      "\n"
     ]
    }
   ],
   "source": [
    "\n",
    "\n"
   ]
  },
  {
   "cell_type": "code",
   "execution_count": 127,
   "metadata": {
    "collapsed": false
   },
   "outputs": [
    {
     "data": {
      "text/plain": [
       "'011100000000000000000000'"
      ]
     },
     "execution_count": 127,
     "metadata": {},
     "output_type": "execute_result"
    }
   ],
   "source": []
  },
  {
   "cell_type": "code",
   "execution_count": 22,
   "metadata": {
    "collapsed": false
   },
   "outputs": [
    {
     "data": {
      "text/plain": [
       "1.998046875"
      ]
     },
     "execution_count": 22,
     "metadata": {},
     "output_type": "execute_result"
    }
   ],
   "source": [
    "(0.5**10 - 1)/(0.5 - 1)"
   ]
  },
  {
   "cell_type": "code",
   "execution_count": null,
   "metadata": {
    "collapsed": true
   },
   "outputs": [],
   "source": []
  }
 ],
 "metadata": {
  "kernelspec": {
   "display_name": "Python 2",
   "language": "python",
   "name": "python2"
  },
  "language_info": {
   "codemirror_mode": {
    "name": "ipython",
    "version": 2
   },
   "file_extension": ".py",
   "mimetype": "text/x-python",
   "name": "python",
   "nbconvert_exporter": "python",
   "pygments_lexer": "ipython2",
   "version": "2.7.12"
  }
 },
 "nbformat": 4,
 "nbformat_minor": 1
}
