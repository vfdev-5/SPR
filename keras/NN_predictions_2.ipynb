{
 "cells": [
  {
   "cell_type": "markdown",
   "metadata": {},
   "source": [
    "# NN tryouts on SPR data, inspired by Kaggle Forum \"When less is more\""
   ]
  },
  {
   "cell_type": "markdown",
   "metadata": {},
   "source": [
    "\n",
    "- Load m month of data\n",
    "- Minimal data cleaning\n",
    "- Feature engineering\n",
    "\n",
    "- Setup model\n",
    "\n",
    "TRAIN : 201505, 201506\n",
    "\n",
    "~~- Select only users that added products in 201506 comparing to 201505~~\n",
    "- FEATURES <- get_profile(ALL_FEATURES) : Select some profiles\n",
    "\n",
    "[FEATURES|TARGETS]\n",
    "\n",
    "X_train = [FEATURES] of the training part\n",
    "Y_train = [TARGETS]  of the training part\n",
    "\n",
    "X_val = [FEATURES] of the validation part\n",
    "Y_val = [TARGETS]  of the validation part\n",
    "\n",
    "TEST :\n",
    "201606\n",
    "- All users\n",
    "[FEATURES]\n",
    "X_test = [FEATURES]"
   ]
  },
  {
   "cell_type": "code",
   "execution_count": 1,
   "metadata": {
    "collapsed": true
   },
   "outputs": [],
   "source": [
    "import os\n",
    "import numpy as np\n",
    "import pandas as pd\n",
    "\n",
    "import logging\n",
    "logging.getLogger().handlers = []\n",
    "logging.basicConfig(level=logging.DEBUG)"
   ]
  },
  {
   "cell_type": "code",
   "execution_count": 2,
   "metadata": {
    "collapsed": false
   },
   "outputs": [],
   "source": [
    "from common import load_data2, minimal_clean_data_inplace, preprocess_data_inplace, TARGET_LABELS"
   ]
  },
  {
   "cell_type": "code",
   "execution_count": 3,
   "metadata": {
    "collapsed": true
   },
   "outputs": [],
   "source": [
    "TRAIN_FILE_PATH = os.path.join(\"..\", \"data\", \"train_ver2.csv\")\n",
    "TEST_FILE_PATH = os.path.join(\"..\", \"data\", \"test_ver2.csv\")"
   ]
  },
  {
   "cell_type": "markdown",
   "metadata": {},
   "source": [
    "Load data + minimal cleaning + preprocessing\n",
    "\n",
    "* 201505 - to get the clients last choice \n",
    "* 201506 - to train on"
   ]
  },
  {
   "cell_type": "code",
   "execution_count": 4,
   "metadata": {
    "collapsed": true
   },
   "outputs": [],
   "source": [
    "yearmonth_list = [201505, 201506] \n",
    "nb_months = len(yearmonth_list)\n",
    "nb_clients = 10000"
   ]
  },
  {
   "cell_type": "code",
   "execution_count": 5,
   "metadata": {
    "collapsed": false
   },
   "outputs": [
    {
     "name": "stderr",
     "output_type": "stream",
     "text": [
      "INFO:root:-- Select 10000 clients\n",
      "INFO:root:- Number of lines with unknown data : 52\n",
      "INFO:root:- Number of columns with nan : 5\n"
     ]
    }
   ],
   "source": [
    "data_df = load_data2(TRAIN_FILE_PATH, yearmonth_list, nb_clients)\n",
    "minimal_clean_data_inplace(data_df)\n",
    "preprocess_data_inplace(data_df)\n",
    "\n",
    "months = data_df['fecha_dato'].unique()\n",
    "clients = data_df['ncodpers'].unique()\n",
    "assert len(clients) == (data_df['ncodpers'].value_counts() == nb_months).sum()\n",
    "ll = len(clients)\n",
    "for m in months:\n",
    "    l = len(data_df[data_df['fecha_dato'] == m]['ncodpers'].unique())\n",
    "    assert l == ll, \"Number of clients should be identical for all monthes. (%s, %s, %s)\" % (m, l, ll)"
   ]
  },
  {
   "cell_type": "code",
   "execution_count": 6,
   "metadata": {
    "collapsed": false
   },
   "outputs": [],
   "source": [
    "features = [\n",
    "    u'ind_empleado', u'pais_residencia',\n",
    "    u'sexo', u'age', u'ind_nuevo', u'antiguedad', u'indrel',\n",
    "    u'ult_fec_cli_1t', u'indrel_1mes', u'tiprel_1mes', u'indresi',\n",
    "    u'indext', u'conyuemp', u'canal_entrada', u'indfall', u'nomprov',\n",
    "    u'ind_actividad_cliente', u'renta', u'segmento'    \n",
    "]\n",
    "\n",
    "last_choice_mask = data_df['fecha_dato'] == months[-2]\n",
    "train_month_mask = data_df['fecha_dato'] == months[-1]"
   ]
  },
  {
   "cell_type": "markdown",
   "metadata": {},
   "source": [
    "Create profiles "
   ]
  },
  {
   "cell_type": "code",
   "execution_count": 141,
   "metadata": {
    "collapsed": false
   },
   "outputs": [],
   "source": [
    "profiles = {\n",
    "#     0: ['pais_residencia', 'sexo', 'age', 'ind_nuevo', 'segmento', 'ind_empleado', 'ind_actividad_cliente', 'indresi'],\n",
    "#     1: ['pais_residencia', 'sexo', 'age', 'segmento', 'nomprov'],\n",
    "#     2: ['pais_residencia', 'sexo', 'age', 'segmento', 'antiguedad'],\n",
    "#     3: ['pais_residencia', 'sexo', 'age', 'segmento', 'ind_nuevo'],\n",
    "#     4: ['pais_residencia', 'sexo', 'age', 'segmento', 'ind_actividad_cliente'],\n",
    "#     5: ['pais_residencia', 'sexo', 'age', 'segmento', 'canal_entrada'],\n",
    "#     6: ['pais_residencia', 'sexo', 'age', 'segmento', 'ind_nuevo', 'canal_entrada'],\n",
    "#     7: ['pais_residencia', 'sexo', 'age', 'segmento', 'ind_empleado'],\n",
    "#     8: ['pais_residencia', 'sexo', 'age', 'segmento', 'renta'],\n",
    "    9: ['sexo', 'age', 'segmento'],    \n",
    "#     10: ['sexo', 'age', 'segmento', 'ind_actividad_cliente']\n",
    "#     11: ['nomprov', 'ind_nuevo', 'antiguedad', 'renta']\n",
    "    12: ['nomprov']\n",
    "}"
   ]
  },
  {
   "cell_type": "markdown",
   "metadata": {},
   "source": [
    "Create models for profiles"
   ]
  },
  {
   "cell_type": "code",
   "execution_count": 142,
   "metadata": {
    "collapsed": false
   },
   "outputs": [],
   "source": [
    "from keras.models import Sequential\n",
    "from keras.layers import Dense, Dropout\n",
    "from keras.utils import np_utils"
   ]
  },
  {
   "cell_type": "code",
   "execution_count": 177,
   "metadata": {
    "collapsed": false
   },
   "outputs": [],
   "source": [
    "models = {}\n",
    "ll = len(TARGET_LABELS)\n",
    "for key in profiles:\n",
    "    length = len(profiles[key])\n",
    "    model = Sequential()\n",
    "    model.add(Dense(2*length + 15, init='uniform', input_shape=(length,), activation='relu'))\n",
    "    model.add(Dropout(0.15))\n",
    "    model.add(Dense(10 + length, activation='relu'))\n",
    "    model.add(Dropout(0.15))\n",
    "    model.add(Dense(ll, activation='softmax'))\n",
    "    model.compile(loss='mae', optimizer='nadam', metrics=['accuracy'])\n",
    "    models[key] = model"
   ]
  },
  {
   "cell_type": "markdown",
   "metadata": {},
   "source": [
    "Train and score models on X_train, Y_train, X_val, Y_val for each profile"
   ]
  },
  {
   "cell_type": "code",
   "execution_count": 178,
   "metadata": {
    "collapsed": true
   },
   "outputs": [],
   "source": [
    "clients_last_choice = data_df[last_choice_mask][['ncodpers'] + TARGET_LABELS]\n",
    "X = data_df[train_month_mask][['ncodpers'] + features]\n",
    "Y = data_df[train_month_mask][TARGET_LABELS].values"
   ]
  },
  {
   "cell_type": "code",
   "execution_count": 179,
   "metadata": {
    "collapsed": false
   },
   "outputs": [
    {
     "name": "stdout",
     "output_type": "stream",
     "text": [
      "(6981, 20) (2993, 20)  |  (6981, 24) (2993, 24)\n"
     ]
    }
   ],
   "source": [
    "from sklearn.model_selection import train_test_split\n",
    "X_train, X_val, Y_train, Y_val = train_test_split(X, Y, train_size=0.70)\n",
    "print X_train.shape, X_val.shape, \" | \", Y_train.shape, Y_val.shape"
   ]
  },
  {
   "cell_type": "code",
   "execution_count": 180,
   "metadata": {
    "collapsed": true
   },
   "outputs": [],
   "source": [
    "from sklearn.preprocessing import StandardScaler"
   ]
  },
  {
   "cell_type": "code",
   "execution_count": 184,
   "metadata": {
    "collapsed": false
   },
   "outputs": [
    {
     "name": "stdout",
     "output_type": "stream",
     "text": [
      "\n",
      " - Work with profile: \n",
      "['sexo', 'age', 'segmento']\n",
      "<keras.models.Sequential object at 0x11140ff90> [<keras.layers.core.Dense object at 0x11140fed0>, <keras.layers.core.Dropout object at 0x118f4f910>, <keras.layers.core.Dense object at 0x118ed5c90>, <keras.layers.core.Dropout object at 0x110f38b10>, <keras.layers.core.Dense object at 0x118ed5e50>] [ 0.90101883 -1.0260658   1.22768036] [ 0.92309477 -0.96738977  1.21944611]\n",
      "Model Accuracy : 77.61%\n",
      "Model Accuracy : 77.61%\n",
      "[  2.98828894e-07   1.12699482e-07   9.99952197e-01   3.11205611e-07\n",
      "   2.73329852e-06   1.82325402e-06   6.08906430e-06   2.67760083e-06\n",
      "   8.13910219e-07   1.82374970e-06   5.71887256e-07   4.13675053e-07\n",
      "   1.19848255e-05   2.04549380e-07   3.91807816e-06   1.90901619e-06\n",
      "   3.34413443e-07   1.91100980e-07   3.99482178e-06   5.87348893e-07\n",
      "   4.26074081e-07   3.16459159e-06   2.50912240e-06   8.83561086e-07]\n",
      "\n",
      " - Work with profile: \n",
      "['nomprov']\n",
      "<keras.models.Sequential object at 0x11db8dd50> [<keras.layers.core.Dense object at 0x11691da90>, <keras.layers.core.Dropout object at 0x11d7e97d0>, <keras.layers.core.Dense object at 0x111334710>, <keras.layers.core.Dropout object at 0x11cc34610>, <keras.layers.core.Dense object at 0x1112f0690>] [ 0.] [-0.66534536]\n",
      "Model Accuracy : 77.61%\n",
      "Model Accuracy : 77.61%\n",
      "[  1.19932849e-06   3.36858216e-06   9.99839067e-01   2.45384331e-06\n",
      "   6.24898121e-06   5.20776041e-07   1.63725497e-06   4.10741050e-05\n",
      "   6.20601554e-07   1.97285658e-06   8.02585987e-07   1.57781562e-06\n",
      "   1.23384470e-05   6.12851579e-07   8.12475776e-07   7.18130309e-07\n",
      "   3.29901837e-07   6.24094412e-07   7.28444434e-07   1.23421603e-06\n",
      "   1.63482105e-06   1.83887994e-06   2.41574355e-07   7.83258729e-05]\n"
     ]
    }
   ],
   "source": [
    "Y_pred = {}\n",
    "for key in profiles:\n",
    "    print \"\\n - Work with profile: \\n\", profiles[key]\n",
    "    x_train = X_train[profiles[key]].values\n",
    "    x_val = X_val[profiles[key]].values    \n",
    "    x_train = StandardScaler().fit_transform(x_train)\n",
    "    x_val = StandardScaler().fit_transform(x_val)  \n",
    "\n",
    "    model = models[key]\n",
    "    print model, model.layers, x_train[0,:], x_val[0, :]\n",
    "    model.fit(x_train, Y_train, nb_epoch=100, batch_size=10000, verbose=0)\n",
    "    scores = model.evaluate(x_val, Y_val, verbose=0)\n",
    "    print \"Model Accuracy : %.2f%%\" % (scores[1]*100)        \n",
    "    y_pred = model.predict(x_val, verbose=0)\n",
    "    Y_pred[key] = y_pred"
   ]
  },
  {
   "cell_type": "markdown",
   "metadata": {},
   "source": [
    "Score with MAP@7\n"
   ]
  },
  {
   "cell_type": "code",
   "execution_count": 107,
   "metadata": {
    "collapsed": true
   },
   "outputs": [],
   "source": [
    "def get_added_products(current_choice, last_choice):\n",
    "    real = []\n",
    "    for i, c in enumerate(current_choice):\n",
    "        if c == 1:\n",
    "            if last_choice[i] == 0:\n",
    "                real.append(i)\n",
    "    return real\n",
    "\n",
    "def apk(actual, predicted, k=7):\n",
    "    if len(predicted) > k:\n",
    "        predicted = predicted[:k]\n",
    "\n",
    "    score = 0.0\n",
    "    num_hits = 0.0\n",
    "\n",
    "    for i, p in enumerate(predicted):\n",
    "        if p in actual and p not in predicted[:i]:\n",
    "            num_hits += 1.0\n",
    "            score += num_hits / (i+1.0)\n",
    "\n",
    "    if not actual:\n",
    "        return 0.0\n",
    "    \n",
    "    return score / min(len(actual), k)"
   ]
  },
  {
   "cell_type": "code",
   "execution_count": 103,
   "metadata": {
    "collapsed": false
   },
   "outputs": [],
   "source": [
    "predicted_added_products = np.array([set() for i in range(len(Y_val))])\n",
    "for i, key in enumerate(profiles):\n",
    "    profile_predictions = np.argmax(Y_pred[key], axis=1)\n",
    "    predicted_added_products[:] |= set(profile_predictions[:])"
   ]
  },
  {
   "cell_type": "code",
   "execution_count": 16,
   "metadata": {
    "collapsed": false
   },
   "outputs": [],
   "source": [
    "gb = clients_last_choice.groupby('ncodpers')"
   ]
  },
  {
   "cell_type": "code",
   "execution_count": 111,
   "metadata": {
    "collapsed": false,
    "scrolled": true
   },
   "outputs": [
    {
     "name": "stdout",
     "output_type": "stream",
     "text": [
      "Predicted score: 0.0129747187883\n"
     ]
    }
   ],
   "source": [
    "map7 = 0.0\n",
    "\n",
    "for i, client, targets in zip(range(len(Y_val)), X_val['ncodpers'], Y_val):\n",
    "    last_choice = gb.get_group(client)[TARGET_LABELS]\n",
    "    added_products = get_added_products(targets, last_choice.values[0])\n",
    "    predictions = list(predicted_added_products[i])\n",
    "    map7 += apk(added_products, predictions)    \n",
    "    \n",
    "map7 /= len(Y_val)\n",
    "print('Predicted score: {}'.format(map7))"
   ]
  },
  {
   "cell_type": "markdown",
   "metadata": {
    "collapsed": true
   },
   "source": [
    "\n",
    "```\n",
    "0: ['pais_residencia', 'sexo', 'age', 'ind_nuevo', 'segmento', 'ind_empleado', 'ind_actividad_cliente', 'indresi'],\n",
    "1: ['pais_residencia', 'sexo', 'age', 'segmento', 'nomprov'],\n",
    "2: ['pais_residencia', 'sexo', 'age', 'segmento', 'antiguedad'],\n",
    "```\n",
    "Predicted score: 0.0129747187883\n"
   ]
  },
  {
   "cell_type": "code",
   "execution_count": null,
   "metadata": {
    "collapsed": true
   },
   "outputs": [],
   "source": []
  },
  {
   "cell_type": "code",
   "execution_count": null,
   "metadata": {
    "collapsed": true
   },
   "outputs": [],
   "source": []
  },
  {
   "cell_type": "markdown",
   "metadata": {},
   "source": [
    "### Define train_val dataset :\n",
    "- Select only clients that choose new products in 201506 comparing with 201505"
   ]
  },
  {
   "cell_type": "code",
   "execution_count": null,
   "metadata": {
    "collapsed": true
   },
   "outputs": [],
   "source": [
    "trainval_df = data_df.sort_values(['fecha_dato', 'ncodpers'])"
   ]
  },
  {
   "cell_type": "code",
   "execution_count": null,
   "metadata": {
    "collapsed": true
   },
   "outputs": [],
   "source": [
    "dates1 = months[:-1]\n",
    "dates2 = months[1:]"
   ]
  },
  {
   "cell_type": "code",
   "execution_count": null,
   "metadata": {
    "collapsed": false
   },
   "outputs": [],
   "source": [
    "print dates1, dates2"
   ]
  },
  {
   "cell_type": "code",
   "execution_count": null,
   "metadata": {
    "collapsed": false
   },
   "outputs": [],
   "source": [
    "tmp_df = trainval_df[['fecha_dato','ncodpers']]\n",
    "tmp_df.loc[:,'target'] = trainval_df[TARGET_LABELS].sum(axis=1)\n",
    "v1 = tmp_df[tmp_df['fecha_dato'].isin(dates2)]['target'].values\n",
    "v2 = tmp_df[tmp_df['fecha_dato'].isin(dates1)]['target'].values\n",
    "ll = min(len(v1), len(v2))\n",
    "indices = tmp_df.index[ll:]\n",
    "trainval_df.loc[indices,'diff'] = pd.Series(v1 - v2, index=indices)\n",
    "del tmp_df, v1, v2"
   ]
  },
  {
   "cell_type": "code",
   "execution_count": null,
   "metadata": {
    "collapsed": false
   },
   "outputs": [],
   "source": [
    "trainval_df.sort_values(['ncodpers', 'fecha_dato']).head(10)"
   ]
  },
  {
   "cell_type": "code",
   "execution_count": null,
   "metadata": {
    "collapsed": false
   },
   "outputs": [],
   "source": [
    "X = trainval_df[(trainval_df['fecha_dato'].isin(dates2)) & (trainval_df['diff'] > 0)][features]\n",
    "Y = trainval_df[(trainval_df['fecha_dato'].isin(dates2)) & (trainval_df['diff'] > 0)][TARGET_LABELS]"
   ]
  },
  {
   "cell_type": "code",
   "execution_count": null,
   "metadata": {
    "collapsed": false
   },
   "outputs": [],
   "source": [
    "from sklearn.model_selection import train_test_split\n",
    "X_train, X_val, Y_train, Y_val = train_test_split(X.values, Y.values, train_size=0.70)"
   ]
  },
  {
   "cell_type": "code",
   "execution_count": null,
   "metadata": {
    "collapsed": true
   },
   "outputs": [],
   "source": [
    "from sklearn.preprocessing import StandardScaler\n",
    "X_train = StandardScaler().fit_transform(X_train)\n",
    "X_val = StandardScaler().fit_transform(X_val)"
   ]
  },
  {
   "cell_type": "code",
   "execution_count": null,
   "metadata": {
    "collapsed": false
   },
   "outputs": [],
   "source": [
    "print X_train.shape, X_val.shape\n",
    "print Y_train.shape, Y_val.shape"
   ]
  },
  {
   "cell_type": "markdown",
   "metadata": {},
   "source": [
    "Setup NN model"
   ]
  },
  {
   "cell_type": "markdown",
   "metadata": {
    "collapsed": true
   },
   "source": [
    "Keras model :\n",
    "\n",
    "Sequential\n",
    "- Dense\n",
    "- Activation\n",
    "- Dropout"
   ]
  },
  {
   "cell_type": "code",
   "execution_count": null,
   "metadata": {
    "collapsed": false
   },
   "outputs": [],
   "source": [
    "from keras.models import Sequential\n",
    "from keras.layers import Dense, Dropout\n",
    "from keras.utils import np_utils"
   ]
  },
  {
   "cell_type": "markdown",
   "metadata": {},
   "source": [
    "Setup model 1"
   ]
  },
  {
   "cell_type": "code",
   "execution_count": null,
   "metadata": {
    "collapsed": false
   },
   "outputs": [],
   "source": [
    "model = Sequential()\n",
    "model.add(Dense(43, input_shape=(X_train.shape[1],), activation='relu'))\n",
    "model.add(Dropout(0.15))\n",
    "model.add(Dense(32, activation='relu'))\n",
    "model.add(Dropout(0.15))\n",
    "model.add(Dense(16, activation='relu'))\n",
    "model.add(Dropout(0.15))\n",
    "model.add(Dense(Y_train.shape[1], activation='sigmoid'))\n",
    "model.compile(loss='categorical_crossentropy', optimizer='adam', metrics=['accuracy'])"
   ]
  },
  {
   "cell_type": "code",
   "execution_count": null,
   "metadata": {
    "collapsed": false,
    "scrolled": true
   },
   "outputs": [],
   "source": [
    "model.fit(X_train, Y_train, nb_epoch=1500, batch_size=10000, verbose=2)"
   ]
  },
  {
   "cell_type": "code",
   "execution_count": null,
   "metadata": {
    "collapsed": false
   },
   "outputs": [],
   "source": [
    "# summarize performance of the model\n",
    "scores = model.evaluate(X_val, Y_val, verbose=0)\n",
    "print(\"Model Accuracy: %.2f%%\" % (scores[1]*100))"
   ]
  },
  {
   "cell_type": "markdown",
   "metadata": {},
   "source": [
    "Setup model 2"
   ]
  },
  {
   "cell_type": "code",
   "execution_count": null,
   "metadata": {
    "collapsed": false
   },
   "outputs": [],
   "source": [
    "model = Sequential()\n",
    "model.add(Dense(43, init='uniform', input_shape=(X_train.shape[1],), activation='relu'))\n",
    "model.add(Dropout(0.15))\n",
    "model.add(Dense(32, activation='relu'))\n",
    "model.add(Dropout(0.15))\n",
    "model.add(Dense(16, activation='relu'))\n",
    "model.add(Dropout(0.15))\n",
    "model.add(Dense(Y_train.shape[1], activation='sigmoid'))\n",
    "model.compile(loss='mse', optimizer='adam', metrics=['accuracy'])"
   ]
  },
  {
   "cell_type": "code",
   "execution_count": null,
   "metadata": {
    "collapsed": false,
    "scrolled": true
   },
   "outputs": [],
   "source": [
    "model.fit(X_train, Y_train, nb_epoch=1000, batch_size=10000, verbose=2)"
   ]
  },
  {
   "cell_type": "code",
   "execution_count": null,
   "metadata": {
    "collapsed": false
   },
   "outputs": [],
   "source": [
    "# summarize performance of the model\n",
    "scores = model.evaluate(X_val, Y_val, verbose=0)\n",
    "print(\"Model Accuracy: %.2f%%\" % (scores[1]*100))"
   ]
  },
  {
   "cell_type": "markdown",
   "metadata": {},
   "source": [
    "Setup model 3"
   ]
  },
  {
   "cell_type": "code",
   "execution_count": null,
   "metadata": {
    "collapsed": false
   },
   "outputs": [],
   "source": [
    "model = Sequential()\n",
    "model.add(Dense(50, init='uniform', input_shape=(X_train.shape[1],), activation='relu'))\n",
    "model.add(Dropout(0.15))\n",
    "model.add(Dense(10, activation='relu'))\n",
    "model.add(Dropout(0.15))\n",
    "model.add(Dense(Y_train.shape[1], activation='softmax'))\n",
    "model.compile(loss='mae', optimizer='nadam', metrics=['accuracy'])"
   ]
  },
  {
   "cell_type": "code",
   "execution_count": null,
   "metadata": {
    "collapsed": false,
    "scrolled": true
   },
   "outputs": [],
   "source": [
    "model.fit(X_train, Y_train, nb_epoch=1000, batch_size=10000, verbose=2)"
   ]
  },
  {
   "cell_type": "code",
   "execution_count": null,
   "metadata": {
    "collapsed": false
   },
   "outputs": [],
   "source": [
    "# summarize performance of the model\n",
    "scores = model.evaluate(X_val, Y_val, verbose=0)\n",
    "print(\"Model Accuracy: %.2f%%\" % (scores[1]*100))"
   ]
  },
  {
   "cell_type": "code",
   "execution_count": null,
   "metadata": {
    "collapsed": true
   },
   "outputs": [],
   "source": []
  },
  {
   "cell_type": "markdown",
   "metadata": {
    "collapsed": true
   },
   "source": [
    "## Prediction part"
   ]
  },
  {
   "cell_type": "code",
   "execution_count": null,
   "metadata": {
    "collapsed": true
   },
   "outputs": [],
   "source": [
    "#del X, Y, X_train, X_val, Y_train, Y_val, trainval_df, data_df"
   ]
  },
  {
   "cell_type": "markdown",
   "metadata": {},
   "source": [
    "Load the last month from the training dataset to get user last choice "
   ]
  },
  {
   "cell_type": "code",
   "execution_count": null,
   "metadata": {
    "collapsed": true
   },
   "outputs": [],
   "source": [
    "yearmonth_list = [201605]"
   ]
  },
  {
   "cell_type": "code",
   "execution_count": null,
   "metadata": {
    "collapsed": false,
    "scrolled": true
   },
   "outputs": [],
   "source": [
    "lastmonth_df = load_data2(TRAIN_FILE_PATH, yearmonth_list)"
   ]
  },
  {
   "cell_type": "code",
   "execution_count": null,
   "metadata": {
    "collapsed": false
   },
   "outputs": [],
   "source": [
    "minimal_clean_data_inplace(lastmonth_df)"
   ]
  },
  {
   "cell_type": "code",
   "execution_count": null,
   "metadata": {
    "collapsed": true
   },
   "outputs": [],
   "source": [
    "clients_last_choice = lastmonth_df[['ncodpers'] + TARGET_LABELS]"
   ]
  },
  {
   "cell_type": "code",
   "execution_count": null,
   "metadata": {
    "collapsed": false,
    "scrolled": true
   },
   "outputs": [],
   "source": [
    "test_df = load_data2(TEST_FILE_PATH, [])"
   ]
  },
  {
   "cell_type": "code",
   "execution_count": null,
   "metadata": {
    "collapsed": true
   },
   "outputs": [],
   "source": [
    "test_df.head()"
   ]
  },
  {
   "cell_type": "code",
   "execution_count": null,
   "metadata": {
    "collapsed": false
   },
   "outputs": [],
   "source": [
    "minimal_clean_data_inplace(test_df)"
   ]
  },
  {
   "cell_type": "code",
   "execution_count": null,
   "metadata": {
    "collapsed": false
   },
   "outputs": [],
   "source": [
    "print test_df.shape\n",
    "test_df.tail()"
   ]
  },
  {
   "cell_type": "markdown",
   "metadata": {},
   "source": [
    "Encode non-numerical columns "
   ]
  },
  {
   "cell_type": "code",
   "execution_count": null,
   "metadata": {
    "collapsed": false
   },
   "outputs": [],
   "source": [
    "preprocess_data_inplace(test_df)"
   ]
  },
  {
   "cell_type": "code",
   "execution_count": null,
   "metadata": {
    "collapsed": false
   },
   "outputs": [],
   "source": [
    "print test_df.shape\n",
    "test_df.tail()"
   ]
  },
  {
   "cell_type": "code",
   "execution_count": null,
   "metadata": {
    "collapsed": true
   },
   "outputs": [],
   "source": []
  },
  {
   "cell_type": "markdown",
   "metadata": {},
   "source": [
    "Make predictions"
   ]
  },
  {
   "cell_type": "code",
   "execution_count": null,
   "metadata": {
    "collapsed": true
   },
   "outputs": [],
   "source": [
    "X_test = test_df[features]"
   ]
  },
  {
   "cell_type": "code",
   "execution_count": null,
   "metadata": {
    "collapsed": true
   },
   "outputs": [],
   "source": [
    "X_test = StandardScaler().fit_transform(X_test)"
   ]
  },
  {
   "cell_type": "code",
   "execution_count": null,
   "metadata": {
    "collapsed": true
   },
   "outputs": [],
   "source": [
    "Y_pred = model.predict(X_test)"
   ]
  },
  {
   "cell_type": "code",
   "execution_count": null,
   "metadata": {
    "collapsed": false
   },
   "outputs": [],
   "source": [
    "Y_pred[:5]"
   ]
  },
  {
   "cell_type": "code",
   "execution_count": null,
   "metadata": {
    "collapsed": true
   },
   "outputs": [],
   "source": []
  },
  {
   "cell_type": "code",
   "execution_count": null,
   "metadata": {
    "collapsed": true
   },
   "outputs": [],
   "source": []
  },
  {
   "cell_type": "code",
   "execution_count": null,
   "metadata": {
    "collapsed": true
   },
   "outputs": [],
   "source": []
  },
  {
   "cell_type": "code",
   "execution_count": null,
   "metadata": {
    "collapsed": true
   },
   "outputs": [],
   "source": []
  },
  {
   "cell_type": "markdown",
   "metadata": {},
   "source": [
    "---------------"
   ]
  },
  {
   "cell_type": "markdown",
   "metadata": {},
   "source": [
    "Check multiple models training"
   ]
  },
  {
   "cell_type": "code",
   "execution_count": 191,
   "metadata": {
    "collapsed": false
   },
   "outputs": [],
   "source": [
    "data = np.random.randn(100,10)\n",
    "_x_train_1 = data[:, (1,3,5,7,9)]\n",
    "_x_train_2 = data[:, (0,2,4,6,8)]\n",
    "_y_train = np.random.randint(10, size=100)\n",
    "\n",
    "_x_val = np.random.randn(30,5) \n",
    "_y_val = np.random.randint(10, size=30)"
   ]
  },
  {
   "cell_type": "code",
   "execution_count": 192,
   "metadata": {
    "collapsed": true
   },
   "outputs": [],
   "source": [
    "_models = {}\n",
    "\n",
    "for i in range(2):\n",
    "#     model1 = Sequential()\n",
    "#     model1.add(Dense(15, input_shape=(5,), activation='relu'))\n",
    "#     model1.add(Dense(1, activation='relu'))\n",
    "#     model1.compile(loss='mae', optimizer='nadam', metrics=['accuracy'])\n",
    "    length = 5\n",
    "    model = Sequential()\n",
    "    model.add(Dense(2*length + 15, init='uniform', input_shape=(length,), activation='relu'))\n",
    "    model.add(Dropout(0.15))\n",
    "    model.add(Dense(10 + length, activation='relu'))\n",
    "    model.add(Dropout(0.15))\n",
    "    model.add(Dense(ll, activation='softmax'))\n",
    "    model.compile(loss='mae', optimizer='nadam', metrics=['accuracy'])\n",
    "\n",
    "    _models[i] = model1"
   ]
  },
  {
   "cell_type": "code",
   "execution_count": 193,
   "metadata": {
    "collapsed": false
   },
   "outputs": [
    {
     "name": "stdout",
     "output_type": "stream",
     "text": [
      "[3.0700631141662598, 0.13333334028720856]\n",
      "[3.3067326545715332, 0.10000000149011612]\n"
     ]
    }
   ],
   "source": [
    "for i, _x_train in zip(range(2), [_x_train_1, _x_train_2]):\n",
    "    model = _models[i]\n",
    "    model.fit(_x_train, _y_train, nb_epoch=1000, batch_size=100, verbose=0)\n",
    "    score = model.evaluate(_x_val, _y_val, verbose=0)\n",
    "    print score"
   ]
  },
  {
   "cell_type": "code",
   "execution_count": null,
   "metadata": {
    "collapsed": true
   },
   "outputs": [],
   "source": []
  }
 ],
 "metadata": {
  "kernelspec": {
   "display_name": "Python 2",
   "language": "python",
   "name": "python2"
  },
  "language_info": {
   "codemirror_mode": {
    "name": "ipython",
    "version": 2
   },
   "file_extension": ".py",
   "mimetype": "text/x-python",
   "name": "python",
   "nbconvert_exporter": "python",
   "pygments_lexer": "ipython2",
   "version": "2.7.12"
  }
 },
 "nbformat": 4,
 "nbformat_minor": 0
}
