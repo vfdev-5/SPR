{
 "cells": [
  {
   "cell_type": "markdown",
   "metadata": {},
   "source": [
    "# RNN tryouts on SPR data"
   ]
  },
  {
   "cell_type": "markdown",
   "metadata": {},
   "source": [
    "\n",
    "- Load m month of data\n",
    "- Minimal data cleaning\n",
    "- Feature engineering\n",
    "\n",
    "- Setup model\n",
    "\n"
   ]
  },
  {
   "cell_type": "code",
   "execution_count": 1,
   "metadata": {
    "collapsed": true
   },
   "outputs": [],
   "source": [
    "import os\n",
    "import numpy as np\n",
    "import pandas as pd"
   ]
  },
  {
   "cell_type": "code",
   "execution_count": 2,
   "metadata": {
    "collapsed": false
   },
   "outputs": [],
   "source": [
    "from common import load_data, minimal_clean_data_inplace, preprocess_data_inplace"
   ]
  },
  {
   "cell_type": "code",
   "execution_count": 3,
   "metadata": {
    "collapsed": true
   },
   "outputs": [],
   "source": [
    "DATAFILE_PATH = os.path.join(\"..\", \"data\", \"train_ver2.csv\")"
   ]
  },
  {
   "cell_type": "code",
   "execution_count": 4,
   "metadata": {
    "collapsed": false
   },
   "outputs": [
    {
     "name": "stderr",
     "output_type": "stream",
     "text": [
      "/home/osboxes/Documents/TDS/venv/local/lib/python2.7/site-packages/IPython/core/interactiveshell.py:2821: DtypeWarning: Columns (11,15) have mixed types. Specify dtype option on import or set low_memory=False.\n",
      "  if self.run_code(code, result):\n"
     ]
    }
   ],
   "source": [
    "data_df = load_data(DATAFILE_PATH, 201605, 201605)"
   ]
  },
  {
   "cell_type": "code",
   "execution_count": 5,
   "metadata": {
    "collapsed": true
   },
   "outputs": [],
   "source": [
    "minimal_clean_data_inplace(data_df)"
   ]
  },
  {
   "cell_type": "code",
   "execution_count": 10,
   "metadata": {
    "collapsed": false
   },
   "outputs": [
    {
     "name": "stdout",
     "output_type": "stream",
     "text": [
      "(931453, 46)\n"
     ]
    },
    {
     "data": {
      "text/html": [
       "<div>\n",
       "<table border=\"1\" class=\"dataframe\">\n",
       "  <thead>\n",
       "    <tr style=\"text-align: right;\">\n",
       "      <th></th>\n",
       "      <th>fecha_dato</th>\n",
       "      <th>ncodpers</th>\n",
       "      <th>ind_empleado</th>\n",
       "      <th>pais_residencia</th>\n",
       "      <th>sexo</th>\n",
       "      <th>age</th>\n",
       "      <th>fecha_alta</th>\n",
       "      <th>ind_nuevo</th>\n",
       "      <th>antiguedad</th>\n",
       "      <th>indrel</th>\n",
       "      <th>...</th>\n",
       "      <th>ind_hip_fin_ult1</th>\n",
       "      <th>ind_plan_fin_ult1</th>\n",
       "      <th>ind_pres_fin_ult1</th>\n",
       "      <th>ind_reca_fin_ult1</th>\n",
       "      <th>ind_tjcr_fin_ult1</th>\n",
       "      <th>ind_valo_fin_ult1</th>\n",
       "      <th>ind_viv_fin_ult1</th>\n",
       "      <th>ind_nomina_ult1</th>\n",
       "      <th>ind_nom_pens_ult1</th>\n",
       "      <th>ind_recibo_ult1</th>\n",
       "    </tr>\n",
       "  </thead>\n",
       "  <tbody>\n",
       "    <tr>\n",
       "      <th>931448</th>\n",
       "      <td>2016-05-28</td>\n",
       "      <td>1166765</td>\n",
       "      <td>N</td>\n",
       "      <td>ES</td>\n",
       "      <td>V</td>\n",
       "      <td>22</td>\n",
       "      <td>2013-08-14</td>\n",
       "      <td>0</td>\n",
       "      <td>33</td>\n",
       "      <td>1</td>\n",
       "      <td>...</td>\n",
       "      <td>0</td>\n",
       "      <td>0</td>\n",
       "      <td>0</td>\n",
       "      <td>0</td>\n",
       "      <td>0</td>\n",
       "      <td>0</td>\n",
       "      <td>0</td>\n",
       "      <td>0</td>\n",
       "      <td>0</td>\n",
       "      <td>0</td>\n",
       "    </tr>\n",
       "    <tr>\n",
       "      <th>931449</th>\n",
       "      <td>2016-05-28</td>\n",
       "      <td>1166764</td>\n",
       "      <td>N</td>\n",
       "      <td>ES</td>\n",
       "      <td>V</td>\n",
       "      <td>23</td>\n",
       "      <td>2013-08-14</td>\n",
       "      <td>0</td>\n",
       "      <td>33</td>\n",
       "      <td>1</td>\n",
       "      <td>...</td>\n",
       "      <td>0</td>\n",
       "      <td>0</td>\n",
       "      <td>0</td>\n",
       "      <td>0</td>\n",
       "      <td>0</td>\n",
       "      <td>0</td>\n",
       "      <td>0</td>\n",
       "      <td>0</td>\n",
       "      <td>0</td>\n",
       "      <td>0</td>\n",
       "    </tr>\n",
       "    <tr>\n",
       "      <th>931450</th>\n",
       "      <td>2016-05-28</td>\n",
       "      <td>1166763</td>\n",
       "      <td>N</td>\n",
       "      <td>ES</td>\n",
       "      <td>H</td>\n",
       "      <td>47</td>\n",
       "      <td>2013-08-14</td>\n",
       "      <td>0</td>\n",
       "      <td>33</td>\n",
       "      <td>1</td>\n",
       "      <td>...</td>\n",
       "      <td>0</td>\n",
       "      <td>0</td>\n",
       "      <td>0</td>\n",
       "      <td>0</td>\n",
       "      <td>0</td>\n",
       "      <td>0</td>\n",
       "      <td>0</td>\n",
       "      <td>0</td>\n",
       "      <td>0</td>\n",
       "      <td>0</td>\n",
       "    </tr>\n",
       "    <tr>\n",
       "      <th>931451</th>\n",
       "      <td>2016-05-28</td>\n",
       "      <td>1166789</td>\n",
       "      <td>N</td>\n",
       "      <td>ES</td>\n",
       "      <td>H</td>\n",
       "      <td>22</td>\n",
       "      <td>2013-08-14</td>\n",
       "      <td>0</td>\n",
       "      <td>33</td>\n",
       "      <td>1</td>\n",
       "      <td>...</td>\n",
       "      <td>0</td>\n",
       "      <td>0</td>\n",
       "      <td>0</td>\n",
       "      <td>0</td>\n",
       "      <td>0</td>\n",
       "      <td>0</td>\n",
       "      <td>0</td>\n",
       "      <td>0</td>\n",
       "      <td>0</td>\n",
       "      <td>0</td>\n",
       "    </tr>\n",
       "    <tr>\n",
       "      <th>931452</th>\n",
       "      <td>2016-05-28</td>\n",
       "      <td>1550586</td>\n",
       "      <td>N</td>\n",
       "      <td>ES</td>\n",
       "      <td>H</td>\n",
       "      <td>37</td>\n",
       "      <td>2016-05-13</td>\n",
       "      <td>1</td>\n",
       "      <td>0</td>\n",
       "      <td>1</td>\n",
       "      <td>...</td>\n",
       "      <td>0</td>\n",
       "      <td>0</td>\n",
       "      <td>0</td>\n",
       "      <td>0</td>\n",
       "      <td>0</td>\n",
       "      <td>0</td>\n",
       "      <td>0</td>\n",
       "      <td>0</td>\n",
       "      <td>0</td>\n",
       "      <td>0</td>\n",
       "    </tr>\n",
       "  </tbody>\n",
       "</table>\n",
       "<p>5 rows × 46 columns</p>\n",
       "</div>"
      ],
      "text/plain": [
       "        fecha_dato  ncodpers ind_empleado pais_residencia sexo  age  \\\n",
       "931448  2016-05-28   1166765            N              ES    V   22   \n",
       "931449  2016-05-28   1166764            N              ES    V   23   \n",
       "931450  2016-05-28   1166763            N              ES    H   47   \n",
       "931451  2016-05-28   1166789            N              ES    H   22   \n",
       "931452  2016-05-28   1550586            N              ES    H   37   \n",
       "\n",
       "        fecha_alta  ind_nuevo  antiguedad  indrel       ...         \\\n",
       "931448  2013-08-14          0          33       1       ...          \n",
       "931449  2013-08-14          0          33       1       ...          \n",
       "931450  2013-08-14          0          33       1       ...          \n",
       "931451  2013-08-14          0          33       1       ...          \n",
       "931452  2016-05-13          1           0       1       ...          \n",
       "\n",
       "       ind_hip_fin_ult1 ind_plan_fin_ult1 ind_pres_fin_ult1 ind_reca_fin_ult1  \\\n",
       "931448                0                 0                 0                 0   \n",
       "931449                0                 0                 0                 0   \n",
       "931450                0                 0                 0                 0   \n",
       "931451                0                 0                 0                 0   \n",
       "931452                0                 0                 0                 0   \n",
       "\n",
       "       ind_tjcr_fin_ult1 ind_valo_fin_ult1 ind_viv_fin_ult1 ind_nomina_ult1  \\\n",
       "931448                 0                 0                0               0   \n",
       "931449                 0                 0                0               0   \n",
       "931450                 0                 0                0               0   \n",
       "931451                 0                 0                0               0   \n",
       "931452                 0                 0                0               0   \n",
       "\n",
       "       ind_nom_pens_ult1  ind_recibo_ult1  \n",
       "931448                 0                0  \n",
       "931449                 0                0  \n",
       "931450                 0                0  \n",
       "931451                 0                0  \n",
       "931452                 0                0  \n",
       "\n",
       "[5 rows x 46 columns]"
      ]
     },
     "execution_count": 10,
     "metadata": {},
     "output_type": "execute_result"
    }
   ],
   "source": [
    "print data_df.shape\n",
    "data_df.tail()"
   ]
  },
  {
   "cell_type": "code",
   "execution_count": 7,
   "metadata": {
    "collapsed": false
   },
   "outputs": [],
   "source": [
    "def to_yearmonth(yearmonthdate_str):\n",
    "    \"\"\"\n",
    "    Convert '2016-01-23' -> 201601\n",
    "    \"\"\"\n",
    "    # yearmonth = int(yearmonth_str[:7].replace('-', ''))\n",
    "    yearmonth = int(yearmonthdate_str[:4] + yearmonthdate_str[5:7])\n",
    "    return yearmonth"
   ]
  },
  {
   "cell_type": "code",
   "execution_count": 8,
   "metadata": {
    "collapsed": true
   },
   "outputs": [],
   "source": [
    "from math import floor, ceil\n",
    "def get_nb_months(start_date_str, end_date_str):\n",
    "    res = to_yearmonth(end_date_str)*0.01 - to_yearmonth(start_date_str)*0.01\n",
    "    return int(res) * 12 + int((res - int(res)) * 100 + 0.5)"
   ]
  },
  {
   "cell_type": "code",
   "execution_count": 9,
   "metadata": {
    "collapsed": true
   },
   "outputs": [],
   "source": [
    "def compute_duration(row):\n",
    "    return get_nb_months(row['fecha_alta'], row['fecha_dato'])"
   ]
  },
  {
   "cell_type": "code",
   "execution_count": 11,
   "metadata": {
    "collapsed": false
   },
   "outputs": [],
   "source": [
    "data_df['antiguedad'] = data_df.apply(compute_duration, axis=1)"
   ]
  },
  {
   "cell_type": "code",
   "execution_count": 12,
   "metadata": {
    "collapsed": false
   },
   "outputs": [
    {
     "name": "stdout",
     "output_type": "stream",
     "text": [
      "(931453, 46)\n"
     ]
    },
    {
     "data": {
      "text/html": [
       "<div>\n",
       "<table border=\"1\" class=\"dataframe\">\n",
       "  <thead>\n",
       "    <tr style=\"text-align: right;\">\n",
       "      <th></th>\n",
       "      <th>fecha_dato</th>\n",
       "      <th>ncodpers</th>\n",
       "      <th>ind_empleado</th>\n",
       "      <th>pais_residencia</th>\n",
       "      <th>sexo</th>\n",
       "      <th>age</th>\n",
       "      <th>fecha_alta</th>\n",
       "      <th>ind_nuevo</th>\n",
       "      <th>antiguedad</th>\n",
       "      <th>indrel</th>\n",
       "      <th>...</th>\n",
       "      <th>ind_hip_fin_ult1</th>\n",
       "      <th>ind_plan_fin_ult1</th>\n",
       "      <th>ind_pres_fin_ult1</th>\n",
       "      <th>ind_reca_fin_ult1</th>\n",
       "      <th>ind_tjcr_fin_ult1</th>\n",
       "      <th>ind_valo_fin_ult1</th>\n",
       "      <th>ind_viv_fin_ult1</th>\n",
       "      <th>ind_nomina_ult1</th>\n",
       "      <th>ind_nom_pens_ult1</th>\n",
       "      <th>ind_recibo_ult1</th>\n",
       "    </tr>\n",
       "  </thead>\n",
       "  <tbody>\n",
       "    <tr>\n",
       "      <th>931448</th>\n",
       "      <td>2016-05-28</td>\n",
       "      <td>1166765</td>\n",
       "      <td>N</td>\n",
       "      <td>ES</td>\n",
       "      <td>V</td>\n",
       "      <td>22</td>\n",
       "      <td>2013-08-14</td>\n",
       "      <td>0</td>\n",
       "      <td>121</td>\n",
       "      <td>1</td>\n",
       "      <td>...</td>\n",
       "      <td>0</td>\n",
       "      <td>0</td>\n",
       "      <td>0</td>\n",
       "      <td>0</td>\n",
       "      <td>0</td>\n",
       "      <td>0</td>\n",
       "      <td>0</td>\n",
       "      <td>0</td>\n",
       "      <td>0</td>\n",
       "      <td>0</td>\n",
       "    </tr>\n",
       "    <tr>\n",
       "      <th>931449</th>\n",
       "      <td>2016-05-28</td>\n",
       "      <td>1166764</td>\n",
       "      <td>N</td>\n",
       "      <td>ES</td>\n",
       "      <td>V</td>\n",
       "      <td>23</td>\n",
       "      <td>2013-08-14</td>\n",
       "      <td>0</td>\n",
       "      <td>121</td>\n",
       "      <td>1</td>\n",
       "      <td>...</td>\n",
       "      <td>0</td>\n",
       "      <td>0</td>\n",
       "      <td>0</td>\n",
       "      <td>0</td>\n",
       "      <td>0</td>\n",
       "      <td>0</td>\n",
       "      <td>0</td>\n",
       "      <td>0</td>\n",
       "      <td>0</td>\n",
       "      <td>0</td>\n",
       "    </tr>\n",
       "    <tr>\n",
       "      <th>931450</th>\n",
       "      <td>2016-05-28</td>\n",
       "      <td>1166763</td>\n",
       "      <td>N</td>\n",
       "      <td>ES</td>\n",
       "      <td>H</td>\n",
       "      <td>47</td>\n",
       "      <td>2013-08-14</td>\n",
       "      <td>0</td>\n",
       "      <td>121</td>\n",
       "      <td>1</td>\n",
       "      <td>...</td>\n",
       "      <td>0</td>\n",
       "      <td>0</td>\n",
       "      <td>0</td>\n",
       "      <td>0</td>\n",
       "      <td>0</td>\n",
       "      <td>0</td>\n",
       "      <td>0</td>\n",
       "      <td>0</td>\n",
       "      <td>0</td>\n",
       "      <td>0</td>\n",
       "    </tr>\n",
       "    <tr>\n",
       "      <th>931451</th>\n",
       "      <td>2016-05-28</td>\n",
       "      <td>1166789</td>\n",
       "      <td>N</td>\n",
       "      <td>ES</td>\n",
       "      <td>H</td>\n",
       "      <td>22</td>\n",
       "      <td>2013-08-14</td>\n",
       "      <td>0</td>\n",
       "      <td>121</td>\n",
       "      <td>1</td>\n",
       "      <td>...</td>\n",
       "      <td>0</td>\n",
       "      <td>0</td>\n",
       "      <td>0</td>\n",
       "      <td>0</td>\n",
       "      <td>0</td>\n",
       "      <td>0</td>\n",
       "      <td>0</td>\n",
       "      <td>0</td>\n",
       "      <td>0</td>\n",
       "      <td>0</td>\n",
       "    </tr>\n",
       "    <tr>\n",
       "      <th>931452</th>\n",
       "      <td>2016-05-28</td>\n",
       "      <td>1550586</td>\n",
       "      <td>N</td>\n",
       "      <td>ES</td>\n",
       "      <td>H</td>\n",
       "      <td>37</td>\n",
       "      <td>2016-05-13</td>\n",
       "      <td>1</td>\n",
       "      <td>0</td>\n",
       "      <td>1</td>\n",
       "      <td>...</td>\n",
       "      <td>0</td>\n",
       "      <td>0</td>\n",
       "      <td>0</td>\n",
       "      <td>0</td>\n",
       "      <td>0</td>\n",
       "      <td>0</td>\n",
       "      <td>0</td>\n",
       "      <td>0</td>\n",
       "      <td>0</td>\n",
       "      <td>0</td>\n",
       "    </tr>\n",
       "  </tbody>\n",
       "</table>\n",
       "<p>5 rows × 46 columns</p>\n",
       "</div>"
      ],
      "text/plain": [
       "        fecha_dato  ncodpers ind_empleado pais_residencia sexo  age  \\\n",
       "931448  2016-05-28   1166765            N              ES    V   22   \n",
       "931449  2016-05-28   1166764            N              ES    V   23   \n",
       "931450  2016-05-28   1166763            N              ES    H   47   \n",
       "931451  2016-05-28   1166789            N              ES    H   22   \n",
       "931452  2016-05-28   1550586            N              ES    H   37   \n",
       "\n",
       "        fecha_alta  ind_nuevo  antiguedad  indrel       ...         \\\n",
       "931448  2013-08-14          0         121       1       ...          \n",
       "931449  2013-08-14          0         121       1       ...          \n",
       "931450  2013-08-14          0         121       1       ...          \n",
       "931451  2013-08-14          0         121       1       ...          \n",
       "931452  2016-05-13          1           0       1       ...          \n",
       "\n",
       "       ind_hip_fin_ult1 ind_plan_fin_ult1 ind_pres_fin_ult1 ind_reca_fin_ult1  \\\n",
       "931448                0                 0                 0                 0   \n",
       "931449                0                 0                 0                 0   \n",
       "931450                0                 0                 0                 0   \n",
       "931451                0                 0                 0                 0   \n",
       "931452                0                 0                 0                 0   \n",
       "\n",
       "       ind_tjcr_fin_ult1 ind_valo_fin_ult1 ind_viv_fin_ult1 ind_nomina_ult1  \\\n",
       "931448                 0                 0                0               0   \n",
       "931449                 0                 0                0               0   \n",
       "931450                 0                 0                0               0   \n",
       "931451                 0                 0                0               0   \n",
       "931452                 0                 0                0               0   \n",
       "\n",
       "       ind_nom_pens_ult1  ind_recibo_ult1  \n",
       "931448                 0                0  \n",
       "931449                 0                0  \n",
       "931450                 0                0  \n",
       "931451                 0                0  \n",
       "931452                 0                0  \n",
       "\n",
       "[5 rows x 46 columns]"
      ]
     },
     "execution_count": 12,
     "metadata": {},
     "output_type": "execute_result"
    }
   ],
   "source": [
    "print data_df.shape\n",
    "data_df.tail()"
   ]
  },
  {
   "cell_type": "code",
   "execution_count": 13,
   "metadata": {
    "collapsed": true
   },
   "outputs": [],
   "source": [
    "row = data_df.loc[931448]"
   ]
  },
  {
   "cell_type": "code",
   "execution_count": 18,
   "metadata": {
    "collapsed": false
   },
   "outputs": [
    {
     "name": "stdout",
     "output_type": "stream",
     "text": [
      "2013-08-14 2016-05-28\n",
      "201308 201605\n"
     ]
    }
   ],
   "source": [
    "print row['fecha_alta'], row['fecha_dato']\n",
    "print to_yearmonth(row['fecha_alta']), to_yearmonth(row['fecha_dato'])"
   ]
  },
  {
   "cell_type": "code",
   "execution_count": 53,
   "metadata": {
    "collapsed": false
   },
   "outputs": [
    {
     "name": "stdout",
     "output_type": "stream",
     "text": [
      "0.89\n",
      "0 0.89 89\n"
     ]
    }
   ],
   "source": [
    "start_date_str = '2015-12-14' \n",
    "end_date_str = '2016-01-28'\n",
    "res = to_yearmonth(end_date_str)*0.01 - to_yearmonth(start_date_str)*0.01\n",
    "print res\n",
    "print int(res) * 12, res - int(res), int((res - int(res)) * 100 + 0.5), "
   ]
  },
  {
   "cell_type": "code",
   "execution_count": null,
   "metadata": {
    "collapsed": true
   },
   "outputs": [],
   "source": []
  },
  {
   "cell_type": "code",
   "execution_count": 41,
   "metadata": {
    "collapsed": false
   },
   "outputs": [
    {
     "data": {
      "text/plain": [
       "-2"
      ]
     },
     "execution_count": 41,
     "metadata": {},
     "output_type": "execute_result"
    }
   ],
   "source": []
  },
  {
   "cell_type": "code",
   "execution_count": 34,
   "metadata": {
    "collapsed": false
   },
   "outputs": [
    {
     "name": "stdout",
     "output_type": "stream",
     "text": [
      "1 1 3\n",
      "1 2 5\n",
      "1 3 7\n",
      "1 4 9\n",
      "1 5 11\n",
      "1 6 13\n",
      "1 7 15\n",
      "1 8 17\n",
      "1 9 19\n",
      "1 10 21\n",
      "1 11 23\n",
      "1 12 12\n",
      "2 1 5\n",
      "2 2 7\n",
      "2 3 9\n",
      "2 4 11\n",
      "2 5 13\n",
      "2 6 15\n",
      "2 7 17\n",
      "2 8 19\n",
      "2 9 21\n",
      "2 10 23\n",
      "2 11 12\n",
      "2 12 13\n",
      "3 1 7\n",
      "3 2 9\n",
      "3 3 11\n",
      "3 4 13\n",
      "3 5 15\n",
      "3 6 17\n",
      "3 7 19\n",
      "3 8 21\n",
      "3 9 23\n",
      "3 10 12\n",
      "3 11 13\n",
      "3 12 15\n",
      "4 1 9\n",
      "4 2 11\n",
      "4 3 13\n",
      "4 4 15\n",
      "4 5 17\n",
      "4 6 19\n",
      "4 7 21\n",
      "4 8 23\n",
      "4 9 12\n",
      "4 10 13\n",
      "4 11 15\n",
      "4 12 17\n",
      "5 1 11\n",
      "5 2 13\n",
      "5 3 15\n",
      "5 4 17\n",
      "5 5 19\n",
      "5 6 21\n",
      "5 7 23\n",
      "5 8 12\n",
      "5 9 13\n",
      "5 10 15\n",
      "5 11 17\n",
      "5 12 19\n",
      "6 1 13\n",
      "6 2 15\n",
      "6 3 17\n",
      "6 4 19\n",
      "6 5 21\n",
      "6 6 23\n",
      "6 7 12\n",
      "6 8 13\n",
      "6 9 15\n",
      "6 10 17\n",
      "6 11 19\n",
      "6 12 21\n",
      "7 1 15\n",
      "7 2 17\n",
      "7 3 19\n",
      "7 4 21\n",
      "7 5 23\n",
      "7 6 12\n",
      "7 7 13\n",
      "7 8 15\n",
      "7 9 17\n",
      "7 10 19\n",
      "7 11 21\n",
      "7 12 23\n",
      "8 1 17\n",
      "8 2 19\n",
      "8 3 21\n",
      "8 4 23\n",
      "8 5 12\n",
      "8 6 13\n",
      "8 7 15\n",
      "8 8 17\n",
      "8 9 19\n",
      "8 10 21\n",
      "8 11 23\n",
      "8 12 25\n",
      "9 1 19\n",
      "9 2 21\n",
      "9 3 23\n",
      "9 4 12\n",
      "9 5 13\n",
      "9 6 15\n",
      "9 7 17\n",
      "9 8 19\n",
      "9 9 21\n",
      "9 10 23\n",
      "9 11 25\n",
      "9 12 27\n",
      "10 1 21\n",
      "10 2 23\n",
      "10 3 12\n",
      "10 4 13\n",
      "10 5 15\n",
      "10 6 17\n",
      "10 7 19\n",
      "10 8 21\n",
      "10 9 23\n",
      "10 10 25\n",
      "10 11 27\n",
      "10 12 29\n",
      "11 1 23\n",
      "11 2 12\n",
      "11 3 13\n",
      "11 4 15\n",
      "11 5 17\n",
      "11 6 19\n",
      "11 7 21\n",
      "11 8 23\n",
      "11 9 25\n",
      "11 10 27\n",
      "11 11 29\n",
      "11 12 31\n",
      "12 1 12\n",
      "12 2 13\n",
      "12 3 15\n",
      "12 4 17\n",
      "12 5 19\n",
      "12 6 21\n",
      "12 7 23\n",
      "12 8 25\n",
      "12 9 27\n",
      "12 10 29\n",
      "12 11 31\n",
      "12 12 33\n"
     ]
    }
   ],
   "source": [
    "for i in range(1,13):\n",
    "    for j in range(1,13):\n",
    "        print i,j, (i + j) % 13"
   ]
  },
  {
   "cell_type": "code",
   "execution_count": null,
   "metadata": {
    "collapsed": true
   },
   "outputs": [],
   "source": []
  }
 ],
 "metadata": {
  "kernelspec": {
   "display_name": "Python 2",
   "language": "python",
   "name": "python2"
  },
  "language_info": {
   "codemirror_mode": {
    "name": "ipython",
    "version": 2
   },
   "file_extension": ".py",
   "mimetype": "text/x-python",
   "name": "python",
   "nbconvert_exporter": "python",
   "pygments_lexer": "ipython2",
   "version": "2.7.12"
  }
 },
 "nbformat": 4,
 "nbformat_minor": 0
}
