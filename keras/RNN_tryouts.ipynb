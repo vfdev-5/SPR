{
 "cells": [
  {
   "cell_type": "markdown",
   "metadata": {},
   "source": [
    "# RNN tryouts on SPR data"
   ]
  },
  {
   "cell_type": "markdown",
   "metadata": {},
   "source": [
    "\n",
    "- Load m month of data\n",
    "- Minimal data cleaning\n",
    "- Feature engineering\n",
    "\n",
    "- Setup model\n",
    "\n"
   ]
  },
  {
   "cell_type": "code",
   "execution_count": 1,
   "metadata": {
    "collapsed": true
   },
   "outputs": [],
   "source": [
    "import os\n",
    "import numpy as np\n",
    "import pandas as pd\n",
    "\n",
    "import logging\n",
    "logging.getLogger().handlers = []\n",
    "logging.basicConfig(level=logging.DEBUG)"
   ]
  },
  {
   "cell_type": "code",
   "execution_count": 2,
   "metadata": {
    "collapsed": false
   },
   "outputs": [],
   "source": [
    "from common import load_data, minimal_clean_data_inplace, preprocess_data_inplace, TARGET_LABELS"
   ]
  },
  {
   "cell_type": "code",
   "execution_count": 3,
   "metadata": {
    "collapsed": true
   },
   "outputs": [],
   "source": [
    "DATAFILE_PATH = os.path.join(\"..\", \"data\", \"train_ver2.csv\")"
   ]
  },
  {
   "cell_type": "code",
   "execution_count": 4,
   "metadata": {
    "collapsed": false
   },
   "outputs": [],
   "source": [
    "data_df = load_data(DATAFILE_PATH, 201504, 201506)"
   ]
  },
  {
   "cell_type": "code",
   "execution_count": 5,
   "metadata": {
    "collapsed": false
   },
   "outputs": [
    {
     "name": "stderr",
     "output_type": "stream",
     "text": [
      "INFO:root:- Number of unknown clients : 9750\n",
      "INFO:root:- Number of columns with nan : 10\n"
     ]
    }
   ],
   "source": [
    "minimal_clean_data_inplace(data_df)"
   ]
  },
  {
   "cell_type": "code",
   "execution_count": 6,
   "metadata": {
    "collapsed": false
   },
   "outputs": [
    {
     "name": "stdout",
     "output_type": "stream",
     "text": [
      "(1884684, 46)\n"
     ]
    },
    {
     "data": {
      "text/html": [
       "<div>\n",
       "<table border=\"1\" class=\"dataframe\">\n",
       "  <thead>\n",
       "    <tr style=\"text-align: right;\">\n",
       "      <th></th>\n",
       "      <th>fecha_dato</th>\n",
       "      <th>ncodpers</th>\n",
       "      <th>ind_empleado</th>\n",
       "      <th>pais_residencia</th>\n",
       "      <th>sexo</th>\n",
       "      <th>age</th>\n",
       "      <th>fecha_alta</th>\n",
       "      <th>ind_nuevo</th>\n",
       "      <th>antiguedad</th>\n",
       "      <th>indrel</th>\n",
       "      <th>...</th>\n",
       "      <th>ind_hip_fin_ult1</th>\n",
       "      <th>ind_plan_fin_ult1</th>\n",
       "      <th>ind_pres_fin_ult1</th>\n",
       "      <th>ind_reca_fin_ult1</th>\n",
       "      <th>ind_tjcr_fin_ult1</th>\n",
       "      <th>ind_valo_fin_ult1</th>\n",
       "      <th>ind_viv_fin_ult1</th>\n",
       "      <th>ind_nomina_ult1</th>\n",
       "      <th>ind_nom_pens_ult1</th>\n",
       "      <th>ind_recibo_ult1</th>\n",
       "    </tr>\n",
       "  </thead>\n",
       "  <tbody>\n",
       "    <tr>\n",
       "      <th>1894429</th>\n",
       "      <td>2015-06-28</td>\n",
       "      <td>549679</td>\n",
       "      <td>N</td>\n",
       "      <td>ES</td>\n",
       "      <td>V</td>\n",
       "      <td>39.0</td>\n",
       "      <td>2005-08-18</td>\n",
       "      <td>0</td>\n",
       "      <td>118</td>\n",
       "      <td>1.0</td>\n",
       "      <td>...</td>\n",
       "      <td>0</td>\n",
       "      <td>0</td>\n",
       "      <td>0</td>\n",
       "      <td>0</td>\n",
       "      <td>0</td>\n",
       "      <td>0</td>\n",
       "      <td>0</td>\n",
       "      <td>0.0</td>\n",
       "      <td>0.0</td>\n",
       "      <td>0</td>\n",
       "    </tr>\n",
       "    <tr>\n",
       "      <th>1894430</th>\n",
       "      <td>2015-06-28</td>\n",
       "      <td>549682</td>\n",
       "      <td>N</td>\n",
       "      <td>ES</td>\n",
       "      <td>V</td>\n",
       "      <td>39.0</td>\n",
       "      <td>2005-08-18</td>\n",
       "      <td>0</td>\n",
       "      <td>118</td>\n",
       "      <td>1.0</td>\n",
       "      <td>...</td>\n",
       "      <td>0</td>\n",
       "      <td>0</td>\n",
       "      <td>0</td>\n",
       "      <td>0</td>\n",
       "      <td>0</td>\n",
       "      <td>0</td>\n",
       "      <td>0</td>\n",
       "      <td>0.0</td>\n",
       "      <td>0.0</td>\n",
       "      <td>0</td>\n",
       "    </tr>\n",
       "    <tr>\n",
       "      <th>1894431</th>\n",
       "      <td>2015-06-28</td>\n",
       "      <td>549673</td>\n",
       "      <td>N</td>\n",
       "      <td>ES</td>\n",
       "      <td>H</td>\n",
       "      <td>49.0</td>\n",
       "      <td>2006-10-16</td>\n",
       "      <td>0</td>\n",
       "      <td>104</td>\n",
       "      <td>1.0</td>\n",
       "      <td>...</td>\n",
       "      <td>0</td>\n",
       "      <td>0</td>\n",
       "      <td>0</td>\n",
       "      <td>0</td>\n",
       "      <td>0</td>\n",
       "      <td>0</td>\n",
       "      <td>0</td>\n",
       "      <td>0.0</td>\n",
       "      <td>0.0</td>\n",
       "      <td>0</td>\n",
       "    </tr>\n",
       "    <tr>\n",
       "      <th>1894432</th>\n",
       "      <td>2015-06-28</td>\n",
       "      <td>889143</td>\n",
       "      <td>N</td>\n",
       "      <td>ES</td>\n",
       "      <td>H</td>\n",
       "      <td>46.0</td>\n",
       "      <td>2010-08-19</td>\n",
       "      <td>0</td>\n",
       "      <td>58</td>\n",
       "      <td>1.0</td>\n",
       "      <td>...</td>\n",
       "      <td>0</td>\n",
       "      <td>0</td>\n",
       "      <td>0</td>\n",
       "      <td>1</td>\n",
       "      <td>1</td>\n",
       "      <td>0</td>\n",
       "      <td>0</td>\n",
       "      <td>1.0</td>\n",
       "      <td>1.0</td>\n",
       "      <td>1</td>\n",
       "    </tr>\n",
       "    <tr>\n",
       "      <th>1894433</th>\n",
       "      <td>2015-06-28</td>\n",
       "      <td>498639</td>\n",
       "      <td>N</td>\n",
       "      <td>ES</td>\n",
       "      <td>V</td>\n",
       "      <td>65.0</td>\n",
       "      <td>2004-10-28</td>\n",
       "      <td>0</td>\n",
       "      <td>128</td>\n",
       "      <td>1.0</td>\n",
       "      <td>...</td>\n",
       "      <td>0</td>\n",
       "      <td>0</td>\n",
       "      <td>0</td>\n",
       "      <td>0</td>\n",
       "      <td>0</td>\n",
       "      <td>0</td>\n",
       "      <td>0</td>\n",
       "      <td>0.0</td>\n",
       "      <td>0.0</td>\n",
       "      <td>0</td>\n",
       "    </tr>\n",
       "  </tbody>\n",
       "</table>\n",
       "<p>5 rows × 46 columns</p>\n",
       "</div>"
      ],
      "text/plain": [
       "         fecha_dato  ncodpers ind_empleado pais_residencia sexo   age  \\\n",
       "1894429  2015-06-28    549679            N              ES    V  39.0   \n",
       "1894430  2015-06-28    549682            N              ES    V  39.0   \n",
       "1894431  2015-06-28    549673            N              ES    H  49.0   \n",
       "1894432  2015-06-28    889143            N              ES    H  46.0   \n",
       "1894433  2015-06-28    498639            N              ES    V  65.0   \n",
       "\n",
       "         fecha_alta ind_nuevo  antiguedad  indrel       ...         \\\n",
       "1894429  2005-08-18         0         118     1.0       ...          \n",
       "1894430  2005-08-18         0         118     1.0       ...          \n",
       "1894431  2006-10-16         0         104     1.0       ...          \n",
       "1894432  2010-08-19         0          58     1.0       ...          \n",
       "1894433  2004-10-28         0         128     1.0       ...          \n",
       "\n",
       "        ind_hip_fin_ult1 ind_plan_fin_ult1 ind_pres_fin_ult1  \\\n",
       "1894429                0                 0                 0   \n",
       "1894430                0                 0                 0   \n",
       "1894431                0                 0                 0   \n",
       "1894432                0                 0                 0   \n",
       "1894433                0                 0                 0   \n",
       "\n",
       "        ind_reca_fin_ult1 ind_tjcr_fin_ult1 ind_valo_fin_ult1  \\\n",
       "1894429                 0                 0                 0   \n",
       "1894430                 0                 0                 0   \n",
       "1894431                 0                 0                 0   \n",
       "1894432                 1                 1                 0   \n",
       "1894433                 0                 0                 0   \n",
       "\n",
       "        ind_viv_fin_ult1 ind_nomina_ult1 ind_nom_pens_ult1  ind_recibo_ult1  \n",
       "1894429                0             0.0               0.0                0  \n",
       "1894430                0             0.0               0.0                0  \n",
       "1894431                0             0.0               0.0                0  \n",
       "1894432                0             1.0               1.0                1  \n",
       "1894433                0             0.0               0.0                0  \n",
       "\n",
       "[5 rows x 46 columns]"
      ]
     },
     "execution_count": 6,
     "metadata": {},
     "output_type": "execute_result"
    }
   ],
   "source": [
    "print data_df.shape\n",
    "data_df.tail()"
   ]
  },
  {
   "cell_type": "markdown",
   "metadata": {},
   "source": [
    "Setup RNN model"
   ]
  },
  {
   "cell_type": "code",
   "execution_count": null,
   "metadata": {
    "collapsed": false
   },
   "outputs": [],
   "source": [
    "from keras.models import Sequential\n",
    "from keras.layers import Dense\n",
    "from keras.layers import LSTM\n",
    "from keras.utils import np_utils"
   ]
  },
  {
   "cell_type": "markdown",
   "metadata": {
    "collapsed": true
   },
   "source": [
    "Keras model :\n",
    "\n",
    "Sequential\n",
    "- LSTM\n",
    "- Dense\n",
    "\n",
    "X_train.shape = (samples, time steps, features)\n",
    "-> (nb_clients, nb_months, profile_length)\n",
    "\n",
    "Y_train.shape = (samples, features)\n",
    "-> (nb_clients, nb_targets)\n",
    "\n",
    "\n",
    "For example, training dataset contains 3 months of data on 3 users with 2 internal features\n",
    "```\n",
    "d1, u1, f11, f12, t11, t12, t13, t14\n",
    "d1, u2, f21, f22, t21, t22, t23, t24\n",
    "d1, u2, f31, f32, t31, t32, t33, t34\n",
    "\n",
    "d2, u1, f11, f12, tt11, tt12, tt3, tt4\n",
    "d2, u2, f21, f22, tt21, tt22, tt23, tt24\n",
    "d2, u2, f31, f32, tt31, tt32, tt33, tt34\n",
    "\n",
    "d3, u1, f11, f12, ttt11, ttt12, ttt3, ttt4\n",
    "d3, u2, f21, f22, ttt21, ttt22, ttt23, ttt24\n",
    "d3, u2, f31, f32, ttt31, ttt32, ttt33, ttt34\n",
    "```\n",
    "So then, the training dataset is :\n",
    "```\n",
    "X_train = [\n",
    "    [\n",
    "        [f11, f12, t11, t12, t13, t14], # 1st time step\n",
    "        [f11, f12, tt11, tt12, tt3, tt4], # 2nd time step\n",
    "    ], # 1st sample\n",
    "    [\n",
    "        [f21, f22, t21, t22, t23, t24], # 1st time step\n",
    "        [f21, f22, tt21, tt22, tt23, tt24], # 2nd time step\n",
    "    ], # 2nd sample\n",
    "    [\n",
    "        [f31, f32, t31, t32, t33, t34], # 1st time step\n",
    "        [f31, f32, tt31, tt32, tt33, tt34], # 2nd time step        \n",
    "    ], # 3rd sample\n",
    "]\n",
    "```\n",
    "and\n",
    "```\n",
    "Y_train = [\n",
    "    [ttt11, ttt12, ttt3, ttt4], # 1st sample\n",
    "    [ttt21, ttt22, ttt23, ttt24], # 2nd sample\n",
    "    [ttt31, ttt32, ttt33, ttt34], # 3rd sample\n",
    "]\n",
    "```\n",
    "\n"
   ]
  },
  {
   "cell_type": "code",
   "execution_count": 8,
   "metadata": {
    "collapsed": true
   },
   "outputs": [],
   "source": [
    "features = [\n",
    "    u'ind_empleado', u'pais_residencia',\n",
    "    u'sexo', u'age', u'fecha_alta', u'ind_nuevo', u'antiguedad', u'indrel',\n",
    "    u'ult_fec_cli_1t', u'indrel_1mes', u'tiprel_1mes', u'indresi',\n",
    "    u'indext', u'conyuemp', u'canal_entrada', u'indfall', u'nomprov',\n",
    "    u'ind_actividad_cliente', u'renta', u'segmento'    \n",
    "]"
   ]
  },
  {
   "cell_type": "code",
   "execution_count": 19,
   "metadata": {
    "collapsed": false
   },
   "outputs": [
    {
     "data": {
      "text/html": [
       "<div>\n",
       "<table border=\"1\" class=\"dataframe\">\n",
       "  <thead>\n",
       "    <tr style=\"text-align: right;\">\n",
       "      <th></th>\n",
       "      <th>fecha_dato</th>\n",
       "      <th>ncodpers</th>\n",
       "      <th>ind_empleado</th>\n",
       "      <th>pais_residencia</th>\n",
       "      <th>sexo</th>\n",
       "      <th>age</th>\n",
       "      <th>fecha_alta</th>\n",
       "      <th>ind_nuevo</th>\n",
       "      <th>antiguedad</th>\n",
       "      <th>indrel</th>\n",
       "      <th>...</th>\n",
       "      <th>ind_hip_fin_ult1</th>\n",
       "      <th>ind_plan_fin_ult1</th>\n",
       "      <th>ind_pres_fin_ult1</th>\n",
       "      <th>ind_reca_fin_ult1</th>\n",
       "      <th>ind_tjcr_fin_ult1</th>\n",
       "      <th>ind_valo_fin_ult1</th>\n",
       "      <th>ind_viv_fin_ult1</th>\n",
       "      <th>ind_nomina_ult1</th>\n",
       "      <th>ind_nom_pens_ult1</th>\n",
       "      <th>ind_recibo_ult1</th>\n",
       "    </tr>\n",
       "  </thead>\n",
       "  <tbody>\n",
       "    <tr>\n",
       "      <th>0</th>\n",
       "      <td>2015-04-28</td>\n",
       "      <td>15889</td>\n",
       "      <td>F</td>\n",
       "      <td>ES</td>\n",
       "      <td>V</td>\n",
       "      <td>56.0</td>\n",
       "      <td>1995-01-16</td>\n",
       "      <td>0</td>\n",
       "      <td>243</td>\n",
       "      <td>1.0</td>\n",
       "      <td>...</td>\n",
       "      <td>0</td>\n",
       "      <td>0</td>\n",
       "      <td>0</td>\n",
       "      <td>0</td>\n",
       "      <td>0</td>\n",
       "      <td>1</td>\n",
       "      <td>0</td>\n",
       "      <td>0.0</td>\n",
       "      <td>0.0</td>\n",
       "      <td>0</td>\n",
       "    </tr>\n",
       "    <tr>\n",
       "      <th>1262322</th>\n",
       "      <td>2015-05-28</td>\n",
       "      <td>15889</td>\n",
       "      <td>F</td>\n",
       "      <td>ES</td>\n",
       "      <td>V</td>\n",
       "      <td>56.0</td>\n",
       "      <td>1995-01-16</td>\n",
       "      <td>0</td>\n",
       "      <td>244</td>\n",
       "      <td>1.0</td>\n",
       "      <td>...</td>\n",
       "      <td>0</td>\n",
       "      <td>0</td>\n",
       "      <td>0</td>\n",
       "      <td>0</td>\n",
       "      <td>1</td>\n",
       "      <td>1</td>\n",
       "      <td>0</td>\n",
       "      <td>0.0</td>\n",
       "      <td>0.0</td>\n",
       "      <td>0</td>\n",
       "    </tr>\n",
       "    <tr>\n",
       "      <th>1683777</th>\n",
       "      <td>2015-06-28</td>\n",
       "      <td>15889</td>\n",
       "      <td>F</td>\n",
       "      <td>ES</td>\n",
       "      <td>V</td>\n",
       "      <td>56.0</td>\n",
       "      <td>1995-01-16</td>\n",
       "      <td>0</td>\n",
       "      <td>245</td>\n",
       "      <td>1.0</td>\n",
       "      <td>...</td>\n",
       "      <td>0</td>\n",
       "      <td>0</td>\n",
       "      <td>0</td>\n",
       "      <td>0</td>\n",
       "      <td>1</td>\n",
       "      <td>1</td>\n",
       "      <td>0</td>\n",
       "      <td>0.0</td>\n",
       "      <td>0.0</td>\n",
       "      <td>0</td>\n",
       "    </tr>\n",
       "    <tr>\n",
       "      <th>210123</th>\n",
       "      <td>2015-04-28</td>\n",
       "      <td>15890</td>\n",
       "      <td>A</td>\n",
       "      <td>ES</td>\n",
       "      <td>V</td>\n",
       "      <td>62.0</td>\n",
       "      <td>1995-01-16</td>\n",
       "      <td>0</td>\n",
       "      <td>243</td>\n",
       "      <td>1.0</td>\n",
       "      <td>...</td>\n",
       "      <td>0</td>\n",
       "      <td>1</td>\n",
       "      <td>0</td>\n",
       "      <td>0</td>\n",
       "      <td>1</td>\n",
       "      <td>0</td>\n",
       "      <td>0</td>\n",
       "      <td>1.0</td>\n",
       "      <td>1.0</td>\n",
       "      <td>1</td>\n",
       "    </tr>\n",
       "    <tr>\n",
       "      <th>1262323</th>\n",
       "      <td>2015-05-28</td>\n",
       "      <td>15890</td>\n",
       "      <td>A</td>\n",
       "      <td>ES</td>\n",
       "      <td>V</td>\n",
       "      <td>62.0</td>\n",
       "      <td>1995-01-16</td>\n",
       "      <td>0</td>\n",
       "      <td>244</td>\n",
       "      <td>1.0</td>\n",
       "      <td>...</td>\n",
       "      <td>0</td>\n",
       "      <td>1</td>\n",
       "      <td>0</td>\n",
       "      <td>0</td>\n",
       "      <td>1</td>\n",
       "      <td>0</td>\n",
       "      <td>0</td>\n",
       "      <td>1.0</td>\n",
       "      <td>1.0</td>\n",
       "      <td>1</td>\n",
       "    </tr>\n",
       "  </tbody>\n",
       "</table>\n",
       "<p>5 rows × 46 columns</p>\n",
       "</div>"
      ],
      "text/plain": [
       "         fecha_dato  ncodpers ind_empleado pais_residencia sexo   age  \\\n",
       "0        2015-04-28     15889            F              ES    V  56.0   \n",
       "1262322  2015-05-28     15889            F              ES    V  56.0   \n",
       "1683777  2015-06-28     15889            F              ES    V  56.0   \n",
       "210123   2015-04-28     15890            A              ES    V  62.0   \n",
       "1262323  2015-05-28     15890            A              ES    V  62.0   \n",
       "\n",
       "         fecha_alta ind_nuevo  antiguedad  indrel       ...         \\\n",
       "0        1995-01-16         0         243     1.0       ...          \n",
       "1262322  1995-01-16         0         244     1.0       ...          \n",
       "1683777  1995-01-16         0         245     1.0       ...          \n",
       "210123   1995-01-16         0         243     1.0       ...          \n",
       "1262323  1995-01-16         0         244     1.0       ...          \n",
       "\n",
       "        ind_hip_fin_ult1 ind_plan_fin_ult1 ind_pres_fin_ult1  \\\n",
       "0                      0                 0                 0   \n",
       "1262322                0                 0                 0   \n",
       "1683777                0                 0                 0   \n",
       "210123                 0                 1                 0   \n",
       "1262323                0                 1                 0   \n",
       "\n",
       "        ind_reca_fin_ult1 ind_tjcr_fin_ult1 ind_valo_fin_ult1  \\\n",
       "0                       0                 0                 1   \n",
       "1262322                 0                 1                 1   \n",
       "1683777                 0                 1                 1   \n",
       "210123                  0                 1                 0   \n",
       "1262323                 0                 1                 0   \n",
       "\n",
       "        ind_viv_fin_ult1 ind_nomina_ult1 ind_nom_pens_ult1  ind_recibo_ult1  \n",
       "0                      0             0.0               0.0                0  \n",
       "1262322                0             0.0               0.0                0  \n",
       "1683777                0             0.0               0.0                0  \n",
       "210123                 0             1.0               1.0                1  \n",
       "1262323                0             1.0               1.0                1  \n",
       "\n",
       "[5 rows x 46 columns]"
      ]
     },
     "execution_count": 19,
     "metadata": {},
     "output_type": "execute_result"
    }
   ],
   "source": [
    "res = data_df.sort_values(['ncodpers', 'fecha_dato'])\n",
    "res.head()"
   ]
  },
  {
   "cell_type": "code",
   "execution_count": null,
   "metadata": {
    "collapsed": true
   },
   "outputs": [],
   "source": [
    "X_train = data_df[data_df['fecha_dato'] != '2015-06-28']\n",
    "X_train = X_train.sort_values(['ncodpers', 'fecha_dato'])\n",
    "train_cols = list(features); train_cols.extend(TARGET_LABELS)\n",
    "X_train = X_train[train_cols]\n",
    "\n",
    "# Y_train = \n",
    "\n",
    "#X_train = data_df[data_df['fecha_dato'] != '2015-06-28']\n",
    "#Y_train = data_df[TARGET_LABELS]"
   ]
  },
  {
   "cell_type": "code",
   "execution_count": null,
   "metadata": {
    "collapsed": false
   },
   "outputs": [],
   "source": [
    "X_test"
   ]
  },
  {
   "cell_type": "code",
   "execution_count": null,
   "metadata": {
    "collapsed": true
   },
   "outputs": [],
   "source": []
  },
  {
   "cell_type": "code",
   "execution_count": null,
   "metadata": {
    "collapsed": true
   },
   "outputs": [],
   "source": [
    "batch_size = 1\n",
    "model = Sequential()\n",
    "model.add(LSTM(32, input_shape=(X.shape[1], X.shape[2])))\n",
    "model.add(Dense(y.shape[1], activation='softmax'))\n",
    "model.compile(loss='categorical_crossentropy', optimizer='adam', metrics=['accuracy'])"
   ]
  },
  {
   "cell_type": "code",
   "execution_count": null,
   "metadata": {
    "collapsed": true
   },
   "outputs": [],
   "source": []
  },
  {
   "cell_type": "code",
   "execution_count": null,
   "metadata": {
    "collapsed": true
   },
   "outputs": [],
   "source": []
  }
 ],
 "metadata": {
  "kernelspec": {
   "display_name": "Python 2",
   "language": "python",
   "name": "python2"
  },
  "language_info": {
   "codemirror_mode": {
    "name": "ipython",
    "version": 2
   },
   "file_extension": ".py",
   "mimetype": "text/x-python",
   "name": "python",
   "nbconvert_exporter": "python",
   "pygments_lexer": "ipython2",
   "version": "2.7.12"
  }
 },
 "nbformat": 4,
 "nbformat_minor": 0
}
