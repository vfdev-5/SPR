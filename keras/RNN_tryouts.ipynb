{
 "cells": [
  {
   "cell_type": "markdown",
   "metadata": {},
   "source": [
    "# RNN tryouts on SPR data"
   ]
  },
  {
   "cell_type": "markdown",
   "metadata": {},
   "source": [
    "\n",
    "- Load m month of data\n",
    "- Minimal data cleaning\n",
    "- Feature engineering\n",
    "\n",
    "- Setup model\n",
    "\n"
   ]
  },
  {
   "cell_type": "code",
   "execution_count": null,
   "metadata": {
    "collapsed": true
   },
   "outputs": [],
   "source": [
    "import os\n",
    "import numpy as np\n",
    "import pandas as pd\n",
    "\n",
    "import logging\n",
    "logging.getLogger().handlers = []\n",
    "logging.basicConfig(level=logging.DEBUG)"
   ]
  },
  {
   "cell_type": "code",
   "execution_count": null,
   "metadata": {
    "collapsed": false
   },
   "outputs": [],
   "source": [
    "from common import load_data, minimal_clean_data_inplace, preprocess_data_inplace, TARGET_LABELS"
   ]
  },
  {
   "cell_type": "code",
   "execution_count": null,
   "metadata": {
    "collapsed": true
   },
   "outputs": [],
   "source": [
    "DATAFILE_PATH = os.path.join(\"..\", \"data\", \"train_ver2.csv\")"
   ]
  },
  {
   "cell_type": "code",
   "execution_count": null,
   "metadata": {
    "collapsed": true
   },
   "outputs": [],
   "source": [
    "nb_months = 4"
   ]
  },
  {
   "cell_type": "code",
   "execution_count": null,
   "metadata": {
    "collapsed": true
   },
   "outputs": [],
   "source": [
    "nb_clients = 100000"
   ]
  },
  {
   "cell_type": "code",
   "execution_count": null,
   "metadata": {
    "collapsed": false
   },
   "outputs": [],
   "source": [
    "data_df = load_data(DATAFILE_PATH, 201503, 201503 + nb_months - 1, nb_clients)"
   ]
  },
  {
   "cell_type": "code",
   "execution_count": null,
   "metadata": {
    "collapsed": false
   },
   "outputs": [],
   "source": [
    "minimal_clean_data_inplace(data_df)"
   ]
  },
  {
   "cell_type": "code",
   "execution_count": null,
   "metadata": {
    "collapsed": false
   },
   "outputs": [],
   "source": [
    "print data_df.shape\n",
    "data_df.tail()"
   ]
  },
  {
   "cell_type": "markdown",
   "metadata": {},
   "source": [
    "Encode non-numerical columns "
   ]
  },
  {
   "cell_type": "code",
   "execution_count": null,
   "metadata": {
    "collapsed": false
   },
   "outputs": [],
   "source": [
    "preprocess_data_inplace(data_df)"
   ]
  },
  {
   "cell_type": "code",
   "execution_count": null,
   "metadata": {
    "collapsed": false
   },
   "outputs": [],
   "source": [
    "print data_df.shape\n",
    "data_df.tail()"
   ]
  },
  {
   "cell_type": "markdown",
   "metadata": {},
   "source": [
    "Setup RNN model"
   ]
  },
  {
   "cell_type": "code",
   "execution_count": null,
   "metadata": {
    "collapsed": false
   },
   "outputs": [],
   "source": [
    "from keras.models import Sequential\n",
    "from keras.layers import Dense, TimeDistributed, LSTM, Dropout\n",
    "from keras.utils import np_utils"
   ]
  },
  {
   "cell_type": "markdown",
   "metadata": {
    "collapsed": true
   },
   "source": [
    "Keras model :\n",
    "\n",
    "Sequential\n",
    "- LSTM\n",
    "- Dense\n",
    "\n",
    "X_train.shape = (samples, time steps, features)\n",
    "-> (nb_clients, nb_months, profile_length)\n",
    "\n",
    "Y_train.shape = (samples, features)\n",
    "-> (nb_clients, nb_targets)\n",
    "\n",
    "\n",
    "For example, training dataset contains 4 months of data on 3 users with 2 internal features\n",
    "```\n",
    "d1, u1, f11, f12, t11, t12, t13, t14\n",
    "d1, u2, f21, f22, t21, t22, t23, t24\n",
    "d1, u2, f31, f32, t31, t32, t33, t34\n",
    "\n",
    "d2, u1, f11, f12, tt11, tt12, tt3, tt4\n",
    "d2, u2, f21, f22, tt21, tt22, tt23, tt24\n",
    "d2, u2, f31, f32, tt31, tt32, tt33, tt34\n",
    "\n",
    "d3, u1, f11, f12, ttt11, ttt12, ttt3, ttt4\n",
    "d3, u2, f21, f22, ttt21, ttt22, ttt23, ttt24\n",
    "d3, u2, f31, f32, ttt31, ttt32, ttt33, ttt34\n",
    "\n",
    "d4, u1, f11, f12, tttt11, tttt12, tttt3, tttt4\n",
    "d4, u2, f21, f22, tttt21, tttt22, tttt23, tttt24\n",
    "d4, u2, f31, f32, tttt31, tttt32, tttt33, tttt34\n",
    "```\n",
    "So then, the training dataset is :\n",
    "```\n",
    "X_train = [\n",
    "    [\n",
    "        [f11, f12, t11, t12, t13, t14], # 1st time step\n",
    "        [f11, f12, tt11, tt12, tt3, tt4], # 2nd time step\n",
    "    ], # 1st sample\n",
    "    [\n",
    "        [f21, f22, t21, t22, t23, t24], # 1st time step\n",
    "        [f21, f22, tt21, tt22, tt23, tt24], # 2nd time step\n",
    "    ], # 2nd sample\n",
    "    [\n",
    "        [f31, f32, t31, t32, t33, t34], # 1st time step\n",
    "        [f31, f32, tt31, tt32, tt33, tt34], # 2nd time step        \n",
    "    ], # 3rd sample\n",
    "]\n",
    "```\n",
    "and\n",
    "```\n",
    "Y_train = [\n",
    "    [ttt11, ttt12, ttt3, ttt4], # 1st sample\n",
    "    [ttt21, ttt22, ttt23, ttt24], # 2nd sample\n",
    "    [ttt31, ttt32, ttt33, ttt34], # 3rd sample\n",
    "]\n",
    "```\n",
    "and the test dataset is :\n",
    "\n",
    "```\n",
    "X_test = [\n",
    "    [\n",
    "        [f11, f12, tt11, tt12, tt13, tt14], # 2nd time step\n",
    "        [f11, f12, ttt11, ttt12, ttt3, ttt4], # 3rd time step\n",
    "    ], # 1st sample\n",
    "    [\n",
    "        [f21, f22, tt21, tt22, tt23, tt24], # 2nd time step\n",
    "        [f21, f22, ttt21, ttt22, ttt23, ttt24], # 3rd time step\n",
    "    ], # 2nd sample\n",
    "    [\n",
    "        [f31, f32, tt31, tt32, tt33, tt34], # 2nd time step\n",
    "        [f31, f32, ttt31, ttt32, ttt33, ttt34], # 3rd time step        \n",
    "    ], # 3rd sample\n",
    "]\n",
    "```\n",
    "\n",
    "and\n",
    "\n",
    "```\n",
    "Y_test = [\n",
    "    [tttt11, tttt12, tttt3, tttt4], # 1st sample\n",
    "    [tttt21, tttt22, tttt23, tttt24], # 2nd sample\n",
    "    [tttt31, tttt32, tttt33, tttt34], # 3rd sample\n",
    "]\n",
    "```"
   ]
  },
  {
   "cell_type": "code",
   "execution_count": null,
   "metadata": {
    "collapsed": true
   },
   "outputs": [],
   "source": [
    "features = [\n",
    "    u'ind_empleado', u'pais_residencia',\n",
    "    u'sexo', u'age', u'ind_nuevo', u'antiguedad', u'indrel',\n",
    "    u'ult_fec_cli_1t', u'indrel_1mes', u'tiprel_1mes', u'indresi',\n",
    "    u'indext', u'conyuemp', u'canal_entrada', u'indfall', u'nomprov',\n",
    "    u'ind_actividad_cliente', u'renta', u'segmento'    \n",
    "]"
   ]
  },
  {
   "cell_type": "code",
   "execution_count": null,
   "metadata": {
    "collapsed": true
   },
   "outputs": [],
   "source": [
    "months = data_df['fecha_dato'].unique()"
   ]
  },
  {
   "cell_type": "code",
   "execution_count": null,
   "metadata": {
    "collapsed": false
   },
   "outputs": [],
   "source": [
    "clients = data_df['ncodpers'].value_counts()[data_df['ncodpers'].value_counts() == nb_months].index.values\n",
    "print len(clients)"
   ]
  },
  {
   "cell_type": "markdown",
   "metadata": {},
   "source": [
    "Train on X months"
   ]
  },
  {
   "cell_type": "code",
   "execution_count": null,
   "metadata": {
    "collapsed": true
   },
   "outputs": [],
   "source": [
    "nb_months_train = 2"
   ]
  },
  {
   "cell_type": "markdown",
   "metadata": {},
   "source": [
    "Define test dataset :"
   ]
  },
  {
   "cell_type": "code",
   "execution_count": null,
   "metadata": {
    "collapsed": true
   },
   "outputs": [],
   "source": [
    "test_months = months[-1 - nb_months_train:]\n",
    "test_df = data_df[(data_df['ncodpers'].isin(clients)) & (data_df['fecha_dato'].isin(test_months))].sort_values(['ncodpers', 'fecha_dato'])"
   ]
  },
  {
   "cell_type": "code",
   "execution_count": null,
   "metadata": {
    "collapsed": true
   },
   "outputs": [],
   "source": [
    "X_test = test_df[test_df['fecha_dato'] != test_months[-1]][features + TARGET_LABELS]\n",
    "Y_test = test_df[test_df['fecha_dato'] == test_months[-1]][TARGET_LABELS].values"
   ]
  },
  {
   "cell_type": "code",
   "execution_count": null,
   "metadata": {
    "collapsed": true
   },
   "outputs": [],
   "source": [
    "X_test = X_test.values.reshape((-1, nb_months_train, 43))"
   ]
  },
  {
   "cell_type": "code",
   "execution_count": null,
   "metadata": {
    "collapsed": false
   },
   "outputs": [],
   "source": [
    "print X_test.shape\n",
    "print Y_test.shape"
   ]
  },
  {
   "cell_type": "markdown",
   "metadata": {},
   "source": [
    "Define training dataset"
   ]
  },
  {
   "cell_type": "code",
   "execution_count": null,
   "metadata": {
    "collapsed": true
   },
   "outputs": [],
   "source": [
    "train_months = months[-2 - nb_months_train:-1]\n",
    "train_df = data_df[(data_df['ncodpers'].isin(clients)) & (data_df['fecha_dato'].isin(train_months))].sort_values(['ncodpers', 'fecha_dato'])"
   ]
  },
  {
   "cell_type": "code",
   "execution_count": null,
   "metadata": {
    "collapsed": false
   },
   "outputs": [],
   "source": [
    "X_train = train_df[train_df['fecha_dato'] != train_months[-1]][features + TARGET_LABELS]\n",
    "Y_train = train_df[train_df['fecha_dato'] == train_months[-1]][TARGET_LABELS].values"
   ]
  },
  {
   "cell_type": "code",
   "execution_count": null,
   "metadata": {
    "collapsed": false
   },
   "outputs": [],
   "source": [
    "X_train = X_train.values.reshape((-1, nb_months_train, 43))"
   ]
  },
  {
   "cell_type": "code",
   "execution_count": null,
   "metadata": {
    "collapsed": false
   },
   "outputs": [],
   "source": [
    "print X_train.shape\n",
    "print Y_train.shape"
   ]
  },
  {
   "cell_type": "code",
   "execution_count": null,
   "metadata": {
    "collapsed": false
   },
   "outputs": [],
   "source": [
    "X_train"
   ]
  },
  {
   "cell_type": "code",
   "execution_count": null,
   "metadata": {
    "collapsed": false
   },
   "outputs": [],
   "source": [
    "from sklearn.preprocessing import StandardScaler\n",
    "for i in range(nb_months_train):\n",
    "    X_train[:,i,:] = StandardScaler().fit_transform(X_train[:,i,:])\n",
    "    X_test[:,i,:] = StandardScaler().fit_transform(X_test[:,i,:])"
   ]
  },
  {
   "cell_type": "markdown",
   "metadata": {},
   "source": [
    "Setup model"
   ]
  },
  {
   "cell_type": "code",
   "execution_count": null,
   "metadata": {
    "collapsed": false
   },
   "outputs": [],
   "source": [
    "model = Sequential()\n",
    "# Input data is (nb_samples, timesteps=2, nb_features=43)\n",
    "model.add(LSTM(30, return_sequences=True, input_shape=(X_train.shape[1], X_train.shape[2]))) # output shape: (nb_samples, timesteps, 50)\n",
    "model.add(TimeDistributed(Dense(45, activation='relu'))) # output shape: (nb_samples, timesteps, 45)\n",
    "model.add(Dropout(0.15))\n",
    "model.add(LSTM(30, return_sequences=True)) # output shape: (nb_samples, timesteps, 30)\n",
    "model.add(TimeDistributed(Dense(20, activation='relu'))) # output shape: (nb_samples, timesteps, 20)\n",
    "model.add(Dropout(0.15))\n",
    "model.add(LSTM(10)) # output shape: (nb_samples, timesteps, 10)\n",
    "model.add(Dense(Y_train.shape[1], activation='softmax')) # output shape: (nb_targets)\n",
    "model.compile(loss='mean_squared_error', optimizer='adam', metrics=['accuracy'])"
   ]
  },
  {
   "cell_type": "code",
   "execution_count": null,
   "metadata": {
    "collapsed": false,
    "scrolled": true
   },
   "outputs": [],
   "source": [
    "model.fit(X_train, Y_train, nb_epoch=25, batch_size=10000, verbose=2)\n",
    "# summarize performance of the model\n",
    "scores = model.evaluate(X_test, Y_test, verbose=0)\n",
    "print(\"Model Accuracy: %.2f%%\" % (scores[1]*100))"
   ]
  },
  {
   "cell_type": "code",
   "execution_count": null,
   "metadata": {
    "collapsed": false,
    "scrolled": true
   },
   "outputs": [],
   "source": [
    "model.fit(X_train, Y_train, nb_epoch=25, batch_size=10000, verbose=2)\n",
    "# summarize performance of the model\n",
    "scores = model.evaluate(X_test, Y_test, verbose=0)\n",
    "print(\"Model Accuracy: %.2f%%\" % (scores[1]*100))"
   ]
  },
  {
   "cell_type": "code",
   "execution_count": null,
   "metadata": {
    "collapsed": true
   },
   "outputs": [],
   "source": []
  },
  {
   "cell_type": "code",
   "execution_count": null,
   "metadata": {
    "collapsed": true
   },
   "outputs": [],
   "source": []
  },
  {
   "cell_type": "code",
   "execution_count": null,
   "metadata": {
    "collapsed": true
   },
   "outputs": [],
   "source": []
  },
  {
   "cell_type": "code",
   "execution_count": null,
   "metadata": {
    "collapsed": true
   },
   "outputs": [],
   "source": []
  },
  {
   "cell_type": "code",
   "execution_count": null,
   "metadata": {
    "collapsed": true
   },
   "outputs": [],
   "source": []
  },
  {
   "cell_type": "code",
   "execution_count": null,
   "metadata": {
    "collapsed": true
   },
   "outputs": [],
   "source": []
  }
 ],
 "metadata": {
  "kernelspec": {
   "display_name": "Python 2",
   "language": "python",
   "name": "python2"
  },
  "language_info": {
   "codemirror_mode": {
    "name": "ipython",
    "version": 2
   },
   "file_extension": ".py",
   "mimetype": "text/x-python",
   "name": "python",
   "nbconvert_exporter": "python",
   "pygments_lexer": "ipython2",
   "version": "2.7.12"
  }
 },
 "nbformat": 4,
 "nbformat_minor": 0
}
