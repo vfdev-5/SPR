{
 "cells": [
  {
   "cell_type": "markdown",
   "metadata": {},
   "source": [
    "# NN tryouts on SPR data, inspired by Kaggle Forum \"When less is more\""
   ]
  },
  {
   "cell_type": "markdown",
   "metadata": {},
   "source": [
    "\n",
    "- Load m month of data\n",
    "- Minimal data cleaning\n",
    "- Feature engineering\n",
    "\n",
    "- Setup model\n",
    "\n",
    "TRAIN : 201505, 201506\n",
    "\n",
    "- FEATURES <- get_profile(ALL_FEATURES) : Select some profiles\n",
    "\n",
    "- Train on all users\n",
    "- Select only users that added products in 201506 comparing to 201505\n",
    "\n",
    "\n",
    "month data is like [FEATURES|TARGETS]\n",
    "\n",
    "X_train = [FEATURES] of the training part\n",
    "Y_train = [TARGETS]  of the training part\n",
    "\n",
    "X_val = [FEATURES] of the validation part\n",
    "Y_val = [TARGETS]  of the validation part\n",
    "\n",
    "TEST : 201606\n",
    "\n",
    "- All users\n",
    "\n",
    "[FEATURES]\n",
    "\n",
    "X_test = [FEATURES]"
   ]
  },
  {
   "cell_type": "code",
   "execution_count": 1,
   "metadata": {
    "collapsed": false
   },
   "outputs": [
    {
     "name": "stderr",
     "output_type": "stream",
     "text": [
      "/usr/local/lib/python2.7/site-packages/matplotlib/font_manager.py:273: UserWarning: Matplotlib is building the font cache using fc-list. This may take a moment.\n",
      "  warnings.warn('Matplotlib is building the font cache using fc-list. This may take a moment.')\n"
     ]
    }
   ],
   "source": [
    "import os\n",
    "import numpy as np\n",
    "import pandas as pd\n",
    "\n",
    "import logging\n",
    "logging.getLogger().handlers = []\n",
    "logging.basicConfig(level=logging.INFO)\n",
    "\n",
    "import matplotlib.pylab as plt\n",
    "%matplotlib inline"
   ]
  },
  {
   "cell_type": "code",
   "execution_count": 2,
   "metadata": {
    "collapsed": false
   },
   "outputs": [],
   "source": [
    "from common import load_data2, minimal_clean_data_inplace, preprocess_data_inplace, TARGET_LABELS\n",
    "from common import get_added_products, remove_last_choice, apk, map7_score2\n",
    "\n",
    "from visualization import visualize_train_test, visualize_folds, compare_two_datasets, compare_folds, compare_folds2"
   ]
  },
  {
   "cell_type": "code",
   "execution_count": 3,
   "metadata": {
    "collapsed": true
   },
   "outputs": [],
   "source": [
    "TRAIN_FILE_PATH = os.path.join(\"..\", \"data\", \"train_ver2.csv\")\n",
    "TEST_FILE_PATH = os.path.join(\"..\", \"data\", \"test_ver2.csv\")"
   ]
  },
  {
   "cell_type": "markdown",
   "metadata": {},
   "source": [
    "Load data + minimal cleaning + preprocessing\n",
    "\n",
    "* 201505 - to get the clients last choice \n",
    "* 201506 - to train on"
   ]
  },
  {
   "cell_type": "code",
   "execution_count": 4,
   "metadata": {
    "collapsed": true
   },
   "outputs": [],
   "source": [
    "yearmonth_list = [201504, 201505] \n",
    "nb_months = len(yearmonth_list)\n",
    "nb_clients = 250000\n",
    "# nb_clients = 'max'"
   ]
  },
  {
   "cell_type": "code",
   "execution_count": 5,
   "metadata": {
    "collapsed": false
   },
   "outputs": [
    {
     "name": "stderr",
     "output_type": "stream",
     "text": [
      "INFO:root:-- Select 250000 clients\n",
      "INFO:root:- Number of lines with unknown data : 2804\n",
      "INFO:root:- Number of columns with nan : 9\n"
     ]
    }
   ],
   "source": [
    "data_df = load_data2(TRAIN_FILE_PATH, yearmonth_list, nb_clients)\n",
    "minimal_clean_data_inplace(data_df)\n",
    "preprocess_data_inplace(data_df)\n",
    "\n",
    "months = data_df['fecha_dato'].unique()\n",
    "clients = data_df['ncodpers'].unique()\n",
    "assert len(clients) == (data_df['ncodpers'].value_counts() == nb_months).sum()\n",
    "ll = len(clients)\n",
    "for m in months:\n",
    "    l = len(data_df[data_df['fecha_dato'] == m]['ncodpers'].unique())\n",
    "    assert l == ll, \"Number of clients should be identical for all monthes. (%s, %s, %s)\" % (m, l, ll)"
   ]
  },
  {
   "cell_type": "code",
   "execution_count": 6,
   "metadata": {
    "collapsed": false
   },
   "outputs": [],
   "source": [
    "features = [\n",
    "    u'ind_empleado', u'pais_residencia',\n",
    "    u'sexo', u'age', u'ind_nuevo', u'antiguedad', u'indrel',\n",
    "    u'ult_fec_cli_1t', u'indrel_1mes', u'tiprel_1mes', u'indresi',\n",
    "    u'indext', u'conyuemp', u'canal_entrada', u'indfall', u'nomprov',\n",
    "    u'ind_actividad_cliente', u'renta', u'segmento'    \n",
    "]\n",
    "\n",
    "last_choice_mask = data_df['fecha_dato'] == months[-2]\n",
    "train_month_mask = data_df['fecha_dato'] == months[-1]"
   ]
  },
  {
   "cell_type": "code",
   "execution_count": 7,
   "metadata": {
    "collapsed": false
   },
   "outputs": [],
   "source": [
    "from common import PREPROCESS_LABEL_ENCODERS\n",
    "#PREPROCESS_LABEL_ENCODERS"
   ]
  },
  {
   "cell_type": "markdown",
   "metadata": {},
   "source": [
    "Create profiles and create models for profiles"
   ]
  },
  {
   "cell_type": "code",
   "execution_count": 8,
   "metadata": {
    "collapsed": false
   },
   "outputs": [
    {
     "name": "stderr",
     "output_type": "stream",
     "text": [
      "Using Theano backend.\n"
     ]
    }
   ],
   "source": [
    "from keras.models import Sequential\n",
    "from keras.layers import Dense, Dropout, Merge\n",
    "from keras.utils import np_utils"
   ]
  },
  {
   "cell_type": "markdown",
   "metadata": {},
   "source": [
    "## Select only clients that choose new products in 201506 comparing with 201505\n",
    "\n",
    "201505 [FEATURES|TARGETS]  \n",
    "201506 [FEATURES|TARGETS]  \n",
    "\n",
    "TARGETS_201505 -> clients_last_choice\n",
    "TARGETS_201506 - TARGETS_201505 -> active_clients\n",
    "\n",
    "Cross-validation : \n",
    "FEATURES_201506 -> (Split train/val) :\n",
    "  --> (0.75*FEATURES) -> (select only active clients) -> X_train\n",
    "  --> 0.25*FEATURES -> X_val\n",
    "\n"
   ]
  },
  {
   "cell_type": "code",
   "execution_count": 9,
   "metadata": {
    "collapsed": true
   },
   "outputs": [],
   "source": [
    "trainval_df = data_df.sort_values(['fecha_dato', 'ncodpers'])\n",
    "last_choice_mask = trainval_df['fecha_dato'] == months[-2]\n",
    "train_month_mask = trainval_df['fecha_dato'] == months[-1]"
   ]
  },
  {
   "cell_type": "code",
   "execution_count": 10,
   "metadata": {
    "collapsed": false
   },
   "outputs": [],
   "source": [
    "def add_diff_inplace(df, last_choice_mask, train_month_mask):\n",
    "    tmp_df = df[['fecha_dato','ncodpers']]\n",
    "    tmp_df.loc[:,'target'] = df[TARGET_LABELS].sum(axis=1)\n",
    "    v1 = tmp_df[train_month_mask]['target'].values\n",
    "    v2 = tmp_df[last_choice_mask]['target'].values\n",
    "    ll = min(len(v1), len(v2))\n",
    "    indices = tmp_df.index[ll:]\n",
    "    df.loc[indices,'diff'] = pd.Series(v1 - v2, index=indices)\n",
    "    del tmp_df, v1, v2"
   ]
  },
  {
   "cell_type": "code",
   "execution_count": 11,
   "metadata": {
    "collapsed": false
   },
   "outputs": [
    {
     "name": "stdout",
     "output_type": "stream",
     "text": [
      "(497196, 47)\n"
     ]
    },
    {
     "name": "stderr",
     "output_type": "stream",
     "text": [
      "/usr/local/lib/python2.7/site-packages/pandas/core/indexing.py:288: SettingWithCopyWarning: \n",
      "A value is trying to be set on a copy of a slice from a DataFrame.\n",
      "Try using .loc[row_indexer,col_indexer] = value instead\n",
      "\n",
      "See the caveats in the documentation: http://pandas.pydata.org/pandas-docs/stable/indexing.html#indexing-view-versus-copy\n",
      "  self.obj[key] = _infer_fill_value(value)\n",
      "/usr/local/lib/python2.7/site-packages/pandas/core/indexing.py:465: SettingWithCopyWarning: \n",
      "A value is trying to be set on a copy of a slice from a DataFrame.\n",
      "Try using .loc[row_indexer,col_indexer] = value instead\n",
      "\n",
      "See the caveats in the documentation: http://pandas.pydata.org/pandas-docs/stable/indexing.html#indexing-view-versus-copy\n",
      "  self.obj[item] = s\n"
     ]
    }
   ],
   "source": [
    "add_diff_inplace(trainval_df, last_choice_mask, train_month_mask)\n",
    "print trainval_df.shape"
   ]
  },
  {
   "cell_type": "code",
   "execution_count": 12,
   "metadata": {
    "collapsed": false
   },
   "outputs": [],
   "source": [
    "clients_last_choice = trainval_df[last_choice_mask][['ncodpers'] + TARGET_LABELS].sort_values(['ncodpers'])\n",
    "X = trainval_df[train_month_mask][['ncodpers', 'diff'] + features]\n",
    "Y = trainval_df[train_month_mask][['ncodpers'] + TARGET_LABELS]"
   ]
  },
  {
   "cell_type": "code",
   "execution_count": 13,
   "metadata": {
    "collapsed": false
   },
   "outputs": [],
   "source": [
    "# Select only clients from test data\n",
    "clients_last_choice = clients_last_choice[clients_last_choice['ncodpers'].isin(X['ncodpers'])]\n",
    "assert (X['ncodpers'].values == clients_last_choice['ncodpers'].values).all(), \"WTF\""
   ]
  },
  {
   "cell_type": "markdown",
   "metadata": {},
   "source": [
    "### Feature engineering"
   ]
  },
  {
   "cell_type": "code",
   "execution_count": 14,
   "metadata": {
    "collapsed": false
   },
   "outputs": [],
   "source": [
    "def get_age_group_index(age):\n",
    "    if age < 10:\n",
    "        return -3\n",
    "    elif age < 15:\n",
    "        return -2        \n",
    "    elif age < 18:\n",
    "        return -1    \n",
    "    elif age < 23:\n",
    "        return 0\n",
    "    elif age < 25:\n",
    "        return 1\n",
    "    elif age < 27:\n",
    "        return 2\n",
    "    elif age < 28:\n",
    "        return 3    \n",
    "    elif age < 32:\n",
    "        return 4\n",
    "    elif age < 37:\n",
    "        return 5    \n",
    "    elif age < 42:\n",
    "        return 6\n",
    "    elif age < 47:\n",
    "        return 7\n",
    "    elif age < 52:\n",
    "        return 8\n",
    "    elif age < 57:\n",
    "        return 9\n",
    "    elif age < 60:\n",
    "        return 10\n",
    "    elif age < 65:\n",
    "        return 11\n",
    "    elif age < 70:\n",
    "        return 12\n",
    "    elif age < 75:\n",
    "        return 13\n",
    "    elif age < 80:\n",
    "        return 14\n",
    "    else:\n",
    "        return 15\n",
    "\n",
    "def get_income_group_index(income):\n",
    "    if income < 0:\n",
    "        return -1\n",
    "    elif income < 45542.97:\n",
    "        return 1\n",
    "    elif income < 57629.67:\n",
    "        return 2\n",
    "    elif income < 68211.78:\n",
    "        return 3\n",
    "    elif income < 78852.39:\n",
    "        return 4\n",
    "    elif income < 90461.97:\n",
    "        return 5\n",
    "    elif income < 103855.23:\n",
    "        return 6\n",
    "    elif income < 120063.00:\n",
    "        return 7\n",
    "    elif income < 141347.49:\n",
    "        return 8\n",
    "    elif income < 173418.36:\n",
    "        return 9\n",
    "    elif income < 234687.12:\n",
    "        return 10\n",
    "    else:\n",
    "        return 11"
   ]
  },
  {
   "cell_type": "code",
   "execution_count": 15,
   "metadata": {
    "collapsed": false
   },
   "outputs": [],
   "source": [
    "X.loc[:,'age'] = X['age'].apply(get_age_group_index)\n",
    "X.loc[:,'renta'] = X['renta'].apply(get_income_group_index)"
   ]
  },
  {
   "cell_type": "code",
   "execution_count": null,
   "metadata": {
    "collapsed": false
   },
   "outputs": [],
   "source": [
    "# X_countries = pd.get_dummies(X['pais_residencia'])\n",
    "# X_countries.head()"
   ]
  },
  {
   "cell_type": "code",
   "execution_count": null,
   "metadata": {
    "collapsed": false
   },
   "outputs": [],
   "source": [
    "# def drop_const_cols(df):\n",
    "#     \"\"\"\n",
    "#     Method to remove constant columns\n",
    "#     \"\"\"\n",
    "#     indices = df.index\n",
    "#     return df.loc[:, (df != df.ix[indices[0]]).any()]\n",
    "\n",
    "# X = drop_const_cols(X)"
   ]
  },
  {
   "cell_type": "code",
   "execution_count": null,
   "metadata": {
    "collapsed": false
   },
   "outputs": [],
   "source": [
    "# X_dummy = pd.DataFrame()\n",
    "\n",
    "# X_dummy = pd.concat([X_dummy, X['diff']], axis=1)\n",
    "# ff = list(features)\n",
    "# ff.remove('indrel_1mes')\n",
    "# ff.remove('tiprel_1mes')\n",
    "# ff = list(set(ff) & set(X.columns))\n",
    "\n",
    "# for f in ff:\n",
    "#     print \"Process dummification: \", f\n",
    "#     X_dummy = pd.concat([X_dummy, pd.get_dummies(X[f])], axis=1)\n",
    "    \n",
    "# print X_dummy.shape\n",
    "# X_dummy.head()"
   ]
  },
  {
   "cell_type": "code",
   "execution_count": 20,
   "metadata": {
    "collapsed": false
   },
   "outputs": [
    {
     "data": {
      "text/html": [
       "<div>\n",
       "<table border=\"1\" class=\"dataframe\">\n",
       "  <thead>\n",
       "    <tr style=\"text-align: right;\">\n",
       "      <th></th>\n",
       "      <th>ncodpers</th>\n",
       "      <th>diff</th>\n",
       "      <th>ind_empleado</th>\n",
       "      <th>pais_residencia</th>\n",
       "      <th>sexo</th>\n",
       "      <th>age</th>\n",
       "      <th>ind_nuevo</th>\n",
       "      <th>antiguedad</th>\n",
       "      <th>indrel</th>\n",
       "      <th>ult_fec_cli_1t</th>\n",
       "      <th>...</th>\n",
       "      <th>tiprel_1mes</th>\n",
       "      <th>indresi</th>\n",
       "      <th>indext</th>\n",
       "      <th>conyuemp</th>\n",
       "      <th>canal_entrada</th>\n",
       "      <th>indfall</th>\n",
       "      <th>nomprov</th>\n",
       "      <th>ind_actividad_cliente</th>\n",
       "      <th>renta</th>\n",
       "      <th>segmento</th>\n",
       "    </tr>\n",
       "  </thead>\n",
       "  <tbody>\n",
       "    <tr>\n",
       "      <th>1262323</th>\n",
       "      <td>15890</td>\n",
       "      <td>0.0</td>\n",
       "      <td>1</td>\n",
       "      <td>0</td>\n",
       "      <td>1</td>\n",
       "      <td>11</td>\n",
       "      <td>0</td>\n",
       "      <td>244</td>\n",
       "      <td>1.0</td>\n",
       "      <td>0</td>\n",
       "      <td>...</td>\n",
       "      <td>0</td>\n",
       "      <td>0</td>\n",
       "      <td>0</td>\n",
       "      <td>1</td>\n",
       "      <td>2</td>\n",
       "      <td>0</td>\n",
       "      <td>1</td>\n",
       "      <td>1.0</td>\n",
       "      <td>4</td>\n",
       "      <td>1</td>\n",
       "    </tr>\n",
       "    <tr>\n",
       "      <th>1051663</th>\n",
       "      <td>15893</td>\n",
       "      <td>0.0</td>\n",
       "      <td>0</td>\n",
       "      <td>0</td>\n",
       "      <td>1</td>\n",
       "      <td>11</td>\n",
       "      <td>0</td>\n",
       "      <td>211</td>\n",
       "      <td>1.0</td>\n",
       "      <td>0</td>\n",
       "      <td>...</td>\n",
       "      <td>0</td>\n",
       "      <td>0</td>\n",
       "      <td>0</td>\n",
       "      <td>1</td>\n",
       "      <td>2</td>\n",
       "      <td>0</td>\n",
       "      <td>1</td>\n",
       "      <td>1.0</td>\n",
       "      <td>11</td>\n",
       "      <td>1</td>\n",
       "    </tr>\n",
       "    <tr>\n",
       "      <th>1051665</th>\n",
       "      <td>15895</td>\n",
       "      <td>0.0</td>\n",
       "      <td>1</td>\n",
       "      <td>0</td>\n",
       "      <td>0</td>\n",
       "      <td>8</td>\n",
       "      <td>0</td>\n",
       "      <td>244</td>\n",
       "      <td>1.0</td>\n",
       "      <td>0</td>\n",
       "      <td>...</td>\n",
       "      <td>0</td>\n",
       "      <td>0</td>\n",
       "      <td>0</td>\n",
       "      <td>1</td>\n",
       "      <td>2</td>\n",
       "      <td>0</td>\n",
       "      <td>1</td>\n",
       "      <td>1.0</td>\n",
       "      <td>10</td>\n",
       "      <td>1</td>\n",
       "    </tr>\n",
       "    <tr>\n",
       "      <th>1051668</th>\n",
       "      <td>15900</td>\n",
       "      <td>0.0</td>\n",
       "      <td>2</td>\n",
       "      <td>0</td>\n",
       "      <td>1</td>\n",
       "      <td>8</td>\n",
       "      <td>0</td>\n",
       "      <td>244</td>\n",
       "      <td>1.0</td>\n",
       "      <td>0</td>\n",
       "      <td>...</td>\n",
       "      <td>0</td>\n",
       "      <td>0</td>\n",
       "      <td>0</td>\n",
       "      <td>1</td>\n",
       "      <td>2</td>\n",
       "      <td>0</td>\n",
       "      <td>1</td>\n",
       "      <td>1.0</td>\n",
       "      <td>7</td>\n",
       "      <td>1</td>\n",
       "    </tr>\n",
       "    <tr>\n",
       "      <th>1051672</th>\n",
       "      <td>15906</td>\n",
       "      <td>-1.0</td>\n",
       "      <td>0</td>\n",
       "      <td>0</td>\n",
       "      <td>0</td>\n",
       "      <td>9</td>\n",
       "      <td>0</td>\n",
       "      <td>171</td>\n",
       "      <td>1.0</td>\n",
       "      <td>0</td>\n",
       "      <td>...</td>\n",
       "      <td>0</td>\n",
       "      <td>0</td>\n",
       "      <td>0</td>\n",
       "      <td>1</td>\n",
       "      <td>2</td>\n",
       "      <td>0</td>\n",
       "      <td>1</td>\n",
       "      <td>1.0</td>\n",
       "      <td>5</td>\n",
       "      <td>2</td>\n",
       "    </tr>\n",
       "  </tbody>\n",
       "</table>\n",
       "<p>5 rows × 21 columns</p>\n",
       "</div>"
      ],
      "text/plain": [
       "         ncodpers  diff  ind_empleado  pais_residencia  sexo  age  ind_nuevo  \\\n",
       "1262323     15890   0.0             1                0     1   11          0   \n",
       "1051663     15893   0.0             0                0     1   11          0   \n",
       "1051665     15895   0.0             1                0     0    8          0   \n",
       "1051668     15900   0.0             2                0     1    8          0   \n",
       "1051672     15906  -1.0             0                0     0    9          0   \n",
       "\n",
       "         antiguedad  indrel  ult_fec_cli_1t    ...     tiprel_1mes  indresi  \\\n",
       "1262323         244     1.0               0    ...               0        0   \n",
       "1051663         211     1.0               0    ...               0        0   \n",
       "1051665         244     1.0               0    ...               0        0   \n",
       "1051668         244     1.0               0    ...               0        0   \n",
       "1051672         171     1.0               0    ...               0        0   \n",
       "\n",
       "         indext  conyuemp  canal_entrada  indfall  nomprov  \\\n",
       "1262323       0         1              2        0        1   \n",
       "1051663       0         1              2        0        1   \n",
       "1051665       0         1              2        0        1   \n",
       "1051668       0         1              2        0        1   \n",
       "1051672       0         1              2        0        1   \n",
       "\n",
       "         ind_actividad_cliente  renta  segmento  \n",
       "1262323                    1.0      4         1  \n",
       "1051663                    1.0     11         1  \n",
       "1051665                    1.0     10         1  \n",
       "1051668                    1.0      7         1  \n",
       "1051672                    1.0      5         2  \n",
       "\n",
       "[5 rows x 21 columns]"
      ]
     },
     "execution_count": 20,
     "metadata": {},
     "output_type": "execute_result"
    }
   ],
   "source": [
    "X.head()"
   ]
  },
  {
   "cell_type": "markdown",
   "metadata": {},
   "source": [
    "### Run KFold Cross-validation "
   ]
  },
  {
   "cell_type": "code",
   "execution_count": 21,
   "metadata": {
    "collapsed": false
   },
   "outputs": [],
   "source": [
    "def create_model(input_dim, output_dim):\n",
    "        \n",
    "    model = Sequential()\n",
    "    model.add(Dense(input_dim, init='uniform', input_dim=input_dim, activation='relu'))\n",
    "    model.add(Dropout(0.30))\n",
    "    model.add(Dense(50, activation='relu'))\n",
    "    model.add(Dropout(0.20))\n",
    "    model.add(Dense(30, activation='relu'))\n",
    "    model.add(Dropout(0.10))\n",
    "    model.add(Dense(output_dim, activation='sigmoid'))\n",
    "\n",
    "    model.compile(loss='binary_crossentropy', optimizer='nadam', metrics=['accuracy'])\n",
    "    return model"
   ]
  },
  {
   "cell_type": "code",
   "execution_count": 22,
   "metadata": {
    "collapsed": false,
    "scrolled": true
   },
   "outputs": [],
   "source": [
    "from sklearn.model_selection import KFold\n",
    "\n",
    "nb_folds=3\n",
    "\n",
    "def max_map7_score_per_fold(x_df, y_df, clients_last_choice_df, nb_folds):    \n",
    "    kf = KFold(n_splits=nb_folds)\n",
    "    scores = []\n",
    "    for train_index, test_index in kf.split(range(x_df.shape[0])):\n",
    "        X_val = x_df.loc[x_df.index[test_index], :]\n",
    "        Y_val = y_df.loc[y_df.index[test_index], :]\n",
    "        CLC_val = clients_last_choice_df.loc[clients_last_choice_df.index[test_index], :]                \n",
    "        x_val, y_val = prepare_to_test(X_val, Y_val)\n",
    "        scores.append(map7_score2(y_val, y_val, CLC_val[TARGET_LABELS].values))  \n",
    "    return scores        "
   ]
  },
  {
   "cell_type": "code",
   "execution_count": 23,
   "metadata": {
    "collapsed": false
   },
   "outputs": [],
   "source": [
    "# CROSS VALIDATION\n",
    "from sklearn.preprocessing import StandardScaler\n",
    "n_highest = 7\n",
    "\n",
    "def prepare_to_fit(X_train, Y_train):\n",
    "    # Select only active client for the training part\n",
    "    mask = X_train['diff'] > 0\n",
    "    x_train = X_train[mask].drop(['diff'], axis=1).values\n",
    "    y_train = Y_train[mask][TARGET_LABELS].values\n",
    "    x_train = StandardScaler().fit_transform(x_train)\n",
    "    return x_train, y_train\n",
    "\n",
    "def prepare_to_fit_nomask(X_train, Y_train):\n",
    "    y_train = Y_train[TARGET_LABELS].values\n",
    "    x_train = X_train.drop(['diff'], axis=1).values\n",
    "    x_train = StandardScaler().fit_transform(x_train)\n",
    "    return x_train, y_train\n",
    "\n",
    "def prepare_to_test(X_val, Y_val=None):\n",
    "    if Y_val is not None:\n",
    "        y_val = Y_val[TARGET_LABELS].values\n",
    "    \n",
    "    x_val = []\n",
    "    x_val = X_val.drop(['diff'], axis=1).values    \n",
    "    x_val = StandardScaler().fit_transform(x_val)  \n",
    "    \n",
    "    if Y_val is not None:\n",
    "        return x_val, y_val\n",
    "    else:\n",
    "        return x_val\n",
    "\n",
    "def cross_val_score2(data, \n",
    "                     nb_folds=5, \n",
    "                     prepare_to_fit_func=prepare_to_fit, \n",
    "                     prepare_to_test_func=prepare_to_test, \n",
    "                     create_model_func=create_model):\n",
    "    \n",
    "    x_df, y_df, clients_last_choice_df = data\n",
    "    kf = KFold(n_splits=nb_folds)\n",
    "    scores = []\n",
    "    \n",
    "    for train_index, test_index in kf.split(range(x_df.shape[0])):\n",
    "        X_train, X_val = x_df.loc[x_df.index[train_index], :], x_df.loc[x_df.index[test_index], :]\n",
    "        Y_train, Y_val = y_df.loc[y_df.index[train_index], :], y_df.loc[y_df.index[test_index], :]\n",
    "        CLC_val = clients_last_choice_df.loc[clients_last_choice_df.index[test_index], :]\n",
    "                \n",
    "        x_train, y_train = prepare_to_fit_func(X_train, Y_train)\n",
    "        x_val, y_val = prepare_to_test_func(X_val, Y_val)\n",
    "        \n",
    "        logging.info(\"- Train/Val shapes : {}, {} | {}, {}\".format(\n",
    "                [i.shape for i in x_train] if isinstance(x_train, list) else x_train.shape, \n",
    "                [i.shape for i in x_val] if isinstance(x_val, list) else x_val.shape, \n",
    "                y_train.shape, \n",
    "                y_val.shape)\n",
    "        )                \n",
    "            \n",
    "        logging.info(\"- Create the model : \")\n",
    "        estimator = create_model_func(x_train.shape[1], len(TARGET_LABELS))\n",
    "        logging.info(\"- Fit the model\")\n",
    "        hist = estimator.fit(x_train, y_train, nb_epoch=250, batch_size=5000, verbose=0)        \n",
    "        for key in hist.history:            \n",
    "            logging.info(\"-- %s : min=%f, max=%f\" % (key, np.min(hist.history[key]), np.max(hist.history[key])))\n",
    "        \n",
    "        logging.info(\"- Predict using trained model\")\n",
    "        y_pred = estimator.predict(x_val, verbose=0)\n",
    "        logging.info(\"- Compute map7 score\")\n",
    "        scores.append(map7_score2(y_val, y_pred, CLC_val[TARGET_LABELS].values))        \n",
    "    \n",
    "    return np.array(scores)"
   ]
  },
  {
   "cell_type": "code",
   "execution_count": 25,
   "metadata": {
    "collapsed": false
   },
   "outputs": [
    {
     "name": "stderr",
     "output_type": "stream",
     "text": [
      "INFO:root:- Train/Val shapes : (4267, 19), (82866, 19) | (4267, 24), (82866, 24)\n",
      "INFO:root:- Create the model : \n",
      "INFO:root:- Fit the model\n",
      "INFO:root:-- acc : min=0.505585, max=0.892567\n",
      "INFO:root:-- loss : min=0.233187, max=0.693873\n",
      "INFO:root:- Predict using trained model\n",
      "INFO:root:- Compute map7 score\n",
      "INFO:root:-- Predicted map7 score: 0.0226522433043\n",
      "INFO:root:- Train/Val shapes : (5165, 19), (82866, 19) | (5165, 24), (82866, 24)\n",
      "INFO:root:- Create the model : \n",
      "INFO:root:- Fit the model\n",
      "INFO:root:-- acc : min=0.552331, max=0.867554\n",
      "INFO:root:-- loss : min=0.271221, max=0.690441\n",
      "INFO:root:- Predict using trained model\n",
      "INFO:root:- Compute map7 score\n",
      "INFO:root:-- Predicted map7 score: 0.0168355073347\n",
      "INFO:root:- Train/Val shapes : (4844, 19), (82866, 19) | (4844, 24), (82866, 24)\n",
      "INFO:root:- Create the model : \n",
      "INFO:root:- Fit the model\n",
      "INFO:root:-- acc : min=0.509152, max=0.850029\n",
      "INFO:root:-- loss : min=0.310334, max=0.692694\n",
      "INFO:root:- Predict using trained model\n",
      "INFO:root:- Compute map7 score\n",
      "INFO:root:-- Predicted map7 score: 0.0216728254911\n"
     ]
    },
    {
     "name": "stdout",
     "output_type": "stream",
     "text": [
      "Cross-Validation \n",
      " 3 | 0.016836 | 0.020387 | 0.022652 | 0.00254 \n"
     ]
    }
   ],
   "source": [
    "results = cross_val_score2((X.drop(['ncodpers'], axis=1), Y, clients_last_choice), \n",
    "                           nb_folds=nb_folds)\n",
    "print \"Cross-Validation \\n %i | %f | %f | %f | %.5f \" % (nb_folds, results.min(), results.mean(), results.max(), results.std())"
   ]
  },
  {
   "cell_type": "markdown",
   "metadata": {
    "collapsed": true
   },
   "source": [
    "### Test 1 : Train on active clients + feature engineering\n",
    "\n",
    "#### Data: \n",
    "\n",
    "- yearmonth_list = [201505, 201506]\n",
    "- nb_clients = 250000\n",
    "\n",
    "#### Feature engineering\n",
    "\n",
    "- age -> age group\n",
    "- income -> income group\n",
    "\n",
    "\n",
    "#### Model\n",
    "\n",
    "- 75 -> 50 -> 30 ->\n",
    "- sigmoid, binary_crossentropy, nadam, accuracy, \n",
    "\n",
    "**Conf:**\n",
    "- batch_size=2000\n",
    "\n",
    "*Cross-validation results :* \n",
    "\n",
    " Nb epoch | Nb folds | Min MAP@7 | Mean MAP@7 | Max MAP@7 | STD MAP@7\n",
    " --- | --- | --- | --- | --- | ---\n",
    " 150 | 3 | 0.025659 | 0.029959 | 0.037639 | 0.00544 \n",
    "\n",
    "\n",
    "#### Model 1 \n",
    "\n",
    "- 50 -> 30 ->\n",
    "- sigmoid, binary_crossentropy, nadam, accuracy, \n",
    "\n",
    "**Conf:**\n",
    "- batch_size=2000\n",
    "\n",
    "*Cross-validation results :* \n",
    "\n",
    " Nb epoch | Nb folds | Min MAP@7 | Mean MAP@7 | Max MAP@7 | STD MAP@7\n",
    " --- | --- | --- | --- | --- | ---\n",
    " 150 | 3 | 0.025802 | 0.030137 | 0.037217 | 0.00505 \n",
    "\n",
    "\n",
    "Kaggle : 0.0197579"
   ]
  },
  {
   "cell_type": "markdown",
   "metadata": {
    "collapsed": true
   },
   "source": [
    "## Train model for predictions"
   ]
  },
  {
   "cell_type": "code",
   "execution_count": 26,
   "metadata": {
    "collapsed": false,
    "scrolled": true
   },
   "outputs": [
    {
     "name": "stderr",
     "output_type": "stream",
     "text": [
      "INFO:root:- Train data shapes : (7138, 19), (7138, 24)\n",
      "INFO:root:- Create the model\n",
      "INFO:root:- Fit the model\n",
      "INFO:root:-- acc : min=0.591360, max=0.869682\n",
      "INFO:root:-- loss : min=0.271273, max=0.689413\n"
     ]
    }
   ],
   "source": [
    "def train_model(X_train, Y_train):\n",
    "\n",
    "    x_train, y_train = prepare_to_fit(X_train, Y_train)\n",
    "    logging.info(\"- Train data shapes : {}, {}\".format(\n",
    "            [i.shape for i in x_train] if isinstance(x_train, list) else x_train.shape, \n",
    "            y_train.shape)\n",
    "    )                \n",
    "\n",
    "    logging.info(\"- Create the model\")\n",
    "    \n",
    "    estimator = create_model(x_train.shape[1], len(TARGET_LABELS))\n",
    "    logging.info(\"- Fit the model\")\n",
    "    hist = estimator.fit(x_train, y_train, nb_epoch=150, batch_size=2000, verbose=0)        \n",
    "    for key in hist.history:            \n",
    "        logging.info(\"-- %s : min=%f, max=%f\" % (key, np.min(hist.history[key]), np.max(hist.history[key])))\n",
    "    return estimator\n",
    "\n",
    "estimator = train_model(X[['diff'] + features], Y)"
   ]
  },
  {
   "cell_type": "markdown",
   "metadata": {
    "collapsed": true
   },
   "source": [
    "Check score on the data 2016"
   ]
  },
  {
   "cell_type": "code",
   "execution_count": 28,
   "metadata": {
    "collapsed": true
   },
   "outputs": [],
   "source": [
    "yearmonth_list = [201604, 201605] \n",
    "nb_months = len(yearmonth_list)\n",
    "nb_clients = 'max'"
   ]
  },
  {
   "cell_type": "code",
   "execution_count": 29,
   "metadata": {
    "collapsed": false
   },
   "outputs": [
    {
     "name": "stderr",
     "output_type": "stream",
     "text": [
      "INFO:root:-- Select max clients\n",
      "INFO:root:- Number of lines with unknown data : 0\n",
      "INFO:root:- Number of columns with nan : 10\n"
     ]
    }
   ],
   "source": [
    "val_df = load_data2(TRAIN_FILE_PATH, yearmonth_list, nb_clients)\n",
    "minimal_clean_data_inplace(val_df)\n",
    "preprocess_data_inplace(val_df)\n",
    "\n",
    "months = val_df['fecha_dato'].unique()\n",
    "clients = val_df['ncodpers'].unique()\n",
    "assert len(clients) == (val_df['ncodpers'].value_counts() == nb_months).sum()\n",
    "ll = len(clients)\n",
    "for m in months:\n",
    "    l = len(val_df[val_df['fecha_dato'] == m]['ncodpers'].unique())\n",
    "    assert l == ll, \"Number of clients should be identical for all monthes. (%s, %s, %s)\" % (m, l, ll)"
   ]
  },
  {
   "cell_type": "code",
   "execution_count": 9,
   "metadata": {
    "collapsed": true
   },
   "outputs": [],
   "source": [
    "val_df = val_df.sort_values(['fecha_dato', 'ncodpers'])\n",
    "last_choice_mask = val_df['fecha_dato'] == months[-2]\n",
    "train_month_mask = trainval_df['fecha_dato'] == months[-1]"
   ]
  },
  {
   "cell_type": "code",
   "execution_count": 10,
   "metadata": {
    "collapsed": false
   },
   "outputs": [],
   "source": [
    "def add_diff_inplace(df, last_choice_mask, train_month_mask):\n",
    "    tmp_df = df[['fecha_dato','ncodpers']]\n",
    "    tmp_df.loc[:,'target'] = df[TARGET_LABELS].sum(axis=1)\n",
    "    v1 = tmp_df[train_month_mask]['target'].values\n",
    "    v2 = tmp_df[last_choice_mask]['target'].values\n",
    "    ll = min(len(v1), len(v2))\n",
    "    indices = tmp_df.index[ll:]\n",
    "    df.loc[indices,'diff'] = pd.Series(v1 - v2, index=indices)\n",
    "    del tmp_df, v1, v2"
   ]
  },
  {
   "cell_type": "code",
   "execution_count": 11,
   "metadata": {
    "collapsed": false
   },
   "outputs": [
    {
     "name": "stdout",
     "output_type": "stream",
     "text": [
      "(497196, 47)\n"
     ]
    },
    {
     "name": "stderr",
     "output_type": "stream",
     "text": [
      "/usr/local/lib/python2.7/site-packages/pandas/core/indexing.py:288: SettingWithCopyWarning: \n",
      "A value is trying to be set on a copy of a slice from a DataFrame.\n",
      "Try using .loc[row_indexer,col_indexer] = value instead\n",
      "\n",
      "See the caveats in the documentation: http://pandas.pydata.org/pandas-docs/stable/indexing.html#indexing-view-versus-copy\n",
      "  self.obj[key] = _infer_fill_value(value)\n",
      "/usr/local/lib/python2.7/site-packages/pandas/core/indexing.py:465: SettingWithCopyWarning: \n",
      "A value is trying to be set on a copy of a slice from a DataFrame.\n",
      "Try using .loc[row_indexer,col_indexer] = value instead\n",
      "\n",
      "See the caveats in the documentation: http://pandas.pydata.org/pandas-docs/stable/indexing.html#indexing-view-versus-copy\n",
      "  self.obj[item] = s\n"
     ]
    }
   ],
   "source": [
    "add_diff_inplace(trainval_df, last_choice_mask, train_month_mask)\n",
    "print trainval_df.shape"
   ]
  },
  {
   "cell_type": "code",
   "execution_count": 12,
   "metadata": {
    "collapsed": false
   },
   "outputs": [],
   "source": [
    "clients_last_choice = trainval_df[last_choice_mask][['ncodpers'] + TARGET_LABELS].sort_values(['ncodpers'])\n",
    "X = trainval_df[train_month_mask][['ncodpers', 'diff'] + features]\n",
    "Y = trainval_df[train_month_mask][['ncodpers'] + TARGET_LABELS]"
   ]
  },
  {
   "cell_type": "code",
   "execution_count": 13,
   "metadata": {
    "collapsed": false
   },
   "outputs": [],
   "source": [
    "# Select only clients from test data\n",
    "clients_last_choice = clients_last_choice[clients_last_choice['ncodpers'].isin(X['ncodpers'])]\n",
    "assert (X['ncodpers'].values == clients_last_choice['ncodpers'].values).all(), \"WTF\""
   ]
  },
  {
   "cell_type": "markdown",
   "metadata": {
    "collapsed": true
   },
   "source": [
    "## Prediction on test data"
   ]
  },
  {
   "cell_type": "markdown",
   "metadata": {},
   "source": [
    "Load the last month from the training dataset to get user last choice and remove it from predictions"
   ]
  },
  {
   "cell_type": "code",
   "execution_count": null,
   "metadata": {
    "collapsed": false
   },
   "outputs": [],
   "source": [
    "yearmonth_list = [201605]\n",
    "lastmonth_df = load_data2(TRAIN_FILE_PATH, yearmonth_list)\n",
    "minimal_clean_data_inplace(lastmonth_df)\n",
    "\n",
    "test_df = load_data2(TEST_FILE_PATH, [])\n",
    "minimal_clean_data_inplace(test_df)\n",
    "preprocess_data_inplace(test_df)\n",
    "test_df = test_df.sort_values(['ncodpers'])\n",
    "\n",
    "clients_last_choice_test = lastmonth_df[['ncodpers'] + TARGET_LABELS].sort_values(['ncodpers'])\n",
    "# Select only clients from test data\n",
    "clients_last_choice_test = clients_last_choice_test[clients_last_choice_test['ncodpers'].isin(test_df['ncodpers'])]\n",
    "assert (test_df['ncodpers'].values == clients_last_choice_test['ncodpers'].values).all(), \"WTF\""
   ]
  },
  {
   "cell_type": "code",
   "execution_count": null,
   "metadata": {
    "collapsed": false
   },
   "outputs": [],
   "source": [
    "X_test = test_df[['ncodpers'] + features]"
   ]
  },
  {
   "cell_type": "code",
   "execution_count": null,
   "metadata": {
    "collapsed": false
   },
   "outputs": [],
   "source": [
    "X_test.loc[:,'age'] = X_test['age'].apply(get_age_group_index)\n",
    "X_test.loc[:,'renta'] = X_test['renta'].apply(get_income_group_index)"
   ]
  },
  {
   "cell_type": "markdown",
   "metadata": {},
   "source": [
    "Make predictions"
   ]
  },
  {
   "cell_type": "code",
   "execution_count": null,
   "metadata": {
    "collapsed": true
   },
   "outputs": [],
   "source": [
    "def get_submission(y_pred, clients, clc, target_labels, n_highest=7):\n",
    "    predicted_added_products = np.argsort(y_pred, axis=1)\n",
    "    predicted_added_products = predicted_added_products[:,::-1][:,:n_highest]\n",
    "    added_products_col = []\n",
    "    count = 0 \n",
    "    for products, last_choice in zip(predicted_added_products, clc):\n",
    "        predictions = remove_last_choice(products, last_choice)\n",
    "        added_products_col.append(' '.join([target_labels[i] for i in predictions]))\n",
    "        count+=1\n",
    "        if count % 100000 == 0:\n",
    "            logging.info(\"Elapsed : %i\", count)\n",
    "            \n",
    "    out = pd.DataFrame(data={'ncodpers': clients, 'added_products': added_products_col}, columns=['ncodpers', 'added_products'])\n",
    "    return out"
   ]
  },
  {
   "cell_type": "code",
   "execution_count": null,
   "metadata": {
    "collapsed": false
   },
   "outputs": [],
   "source": [
    "\n",
    "data = {\n",
    "    0: {'x': X_test, 'clc': clients_last_choice_test},\n",
    "}\n",
    "\n",
    "submissions = []\n",
    "for i in data.keys():\n",
    "    x = data[i]['x']\n",
    "    clc = data[i]['clc']\n",
    "    x_test = prepare_to_test(x)\n",
    "    y_pred = estimator.predict(x_test, verbose=0)\n",
    "\n",
    "    clients = x['ncodpers']\n",
    "    submission = get_submission(y_pred, clients, clc[TARGET_LABELS].values, TARGET_LABELS, 7)\n",
    "    print submission.head()\n",
    "    submissions.append(submission)\n",
    "\n",
    "submission = pd.concat(submissions)"
   ]
  },
  {
   "cell_type": "code",
   "execution_count": null,
   "metadata": {
    "collapsed": false
   },
   "outputs": [],
   "source": [
    "submission.head()"
   ]
  },
  {
   "cell_type": "markdown",
   "metadata": {},
   "source": [
    "Get submission DataFrame and write csv file"
   ]
  },
  {
   "cell_type": "code",
   "execution_count": null,
   "metadata": {
    "collapsed": false
   },
   "outputs": [],
   "source": [
    "from datetime import datetime\n",
    "import csv\n",
    "\n",
    "logging.info('- Generate submission')\n",
    "submission_file = '../results/submission_' + \\\n",
    "                  str(datetime.now().strftime(\"%Y-%m-%d-%H-%M\")) + \\\n",
    "                  '.csv'\n",
    "\n",
    "submission.to_csv(submission_file, index=False, index_label=False)"
   ]
  },
  {
   "cell_type": "code",
   "execution_count": null,
   "metadata": {
    "collapsed": true
   },
   "outputs": [],
   "source": []
  },
  {
   "cell_type": "code",
   "execution_count": null,
   "metadata": {
    "collapsed": true
   },
   "outputs": [],
   "source": []
  },
  {
   "cell_type": "code",
   "execution_count": null,
   "metadata": {
    "collapsed": true
   },
   "outputs": [],
   "source": []
  }
 ],
 "metadata": {
  "kernelspec": {
   "display_name": "Python 2",
   "language": "python",
   "name": "python2"
  },
  "language_info": {
   "codemirror_mode": {
    "name": "ipython",
    "version": 2
   },
   "file_extension": ".py",
   "mimetype": "text/x-python",
   "name": "python",
   "nbconvert_exporter": "python",
   "pygments_lexer": "ipython2",
   "version": "2.7.12"
  }
 },
 "nbformat": 4,
 "nbformat_minor": 0
}
