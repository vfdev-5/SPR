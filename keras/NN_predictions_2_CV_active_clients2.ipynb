{
 "cells": [
  {
   "cell_type": "markdown",
   "metadata": {},
   "source": [
    "# NN tryouts on SPR data, inspired by Kaggle Forum \"When less is more\""
   ]
  },
  {
   "cell_type": "markdown",
   "metadata": {},
   "source": [
    "Load training and validation data as \n",
    "    month : [ Features | Targets| Difference | Last Choice Targets  ]\n",
    "    \n",
    "    - Features : \n",
    "    - Target labels : TARGET_LABELS(month), 'targets_str', 'targets_dec'\n",
    "    - Difference with prev month : diff' = targets_dec(month) - targets_dec(month-1)\n",
    "    - Last Choice Targets : LC_TARGET_LABELS(month-1), 'lc_targets_str', 'lc_targets_dec'\n"
   ]
  },
  {
   "cell_type": "code",
   "execution_count": 1,
   "metadata": {
    "collapsed": false
   },
   "outputs": [
    {
     "name": "stderr",
     "output_type": "stream",
     "text": [
      "/usr/local/lib/python2.7/site-packages/matplotlib/font_manager.py:273: UserWarning: Matplotlib is building the font cache using fc-list. This may take a moment.\n",
      "  warnings.warn('Matplotlib is building the font cache using fc-list. This may take a moment.')\n"
     ]
    }
   ],
   "source": [
    "import os\n",
    "import numpy as np\n",
    "import pandas as pd\n",
    "\n",
    "import logging\n",
    "logging.getLogger().handlers = []\n",
    "logging.basicConfig(level=logging.INFO)\n",
    "\n",
    "import matplotlib.pylab as plt\n",
    "%matplotlib inline"
   ]
  },
  {
   "cell_type": "code",
   "execution_count": 166,
   "metadata": {
    "collapsed": true
   },
   "outputs": [],
   "source": [
    "from dataset import load_trainval, LC_TARGET_LABELS\n",
    "from common import to_yearmonth, TARGET_LABELS"
   ]
  },
  {
   "cell_type": "code",
   "execution_count": 3,
   "metadata": {
    "collapsed": true
   },
   "outputs": [],
   "source": [
    "features = [\n",
    "    u'ind_empleado', u'pais_residencia',\n",
    "    u'sexo', u'age', u'ind_nuevo', u'antiguedad', u'indrel',\n",
    "    u'ult_fec_cli_1t', u'indrel_1mes', u'tiprel_1mes', u'indresi',\n",
    "    u'indext', u'conyuemp', u'canal_entrada', u'indfall', u'nomprov',\n",
    "    u'ind_actividad_cliente', u'renta', u'segmento'    \n",
    "]"
   ]
  },
  {
   "cell_type": "code",
   "execution_count": 4,
   "metadata": {
    "collapsed": false,
    "scrolled": true
   },
   "outputs": [
    {
     "name": "stderr",
     "output_type": "stream",
     "text": [
      "INFO:root:- Load training data : [201502, 201503, 201504, 201505, 201506, 201602, 201603, 201604]\n",
      "INFO:root:-- Select 50000 clients\n",
      "INFO:root:- Number of lines with unknown data : 15\n",
      "INFO:root:- Number of columns with nan : 9\n",
      "INFO:root:-- Process date : 201503\n",
      "/usr/local/lib/python2.7/site-packages/pandas/core/indexing.py:288: SettingWithCopyWarning: \n",
      "A value is trying to be set on a copy of a slice from a DataFrame.\n",
      "Try using .loc[row_indexer,col_indexer] = value instead\n",
      "\n",
      "See the caveats in the documentation: http://pandas.pydata.org/pandas-docs/stable/indexing.html#indexing-view-versus-copy\n",
      "  self.obj[key] = _infer_fill_value(value)\n",
      "/usr/local/lib/python2.7/site-packages/pandas/core/indexing.py:465: SettingWithCopyWarning: \n",
      "A value is trying to be set on a copy of a slice from a DataFrame.\n",
      "Try using .loc[row_indexer,col_indexer] = value instead\n",
      "\n",
      "See the caveats in the documentation: http://pandas.pydata.org/pandas-docs/stable/indexing.html#indexing-view-versus-copy\n",
      "  self.obj[item] = s\n",
      "INFO:root:-- Process date : 201504\n",
      "INFO:root:-- Process date : 201505\n",
      "INFO:root:-- Process date : 201506\n",
      "INFO:root:-- Process date : 201603\n",
      "INFO:root:-- Process date : 201604\n",
      "INFO:root:- Load validation : [201604, 201605]\n",
      "INFO:root:-- Select max clients\n",
      "INFO:root:- Number of lines with unknown data : 0\n",
      "INFO:root:- Number of columns with nan : 10\n",
      "INFO:root:-- Process date : 201605\n"
     ]
    }
   ],
   "source": [
    "train_yearmonths_list = [201503, 201504, 201505, 201506, 201603, 201604]\n",
    "val_yearmonth = [201605]\n",
    "train_nb_clients = 50000\n",
    "train_df, val_df = load_trainval(train_yearmonths_list, val_yearmonth, train_nb_clients)"
   ]
  },
  {
   "cell_type": "markdown",
   "metadata": {},
   "source": [
    "Display loaded data"
   ]
  },
  {
   "cell_type": "code",
   "execution_count": 5,
   "metadata": {
    "collapsed": false
   },
   "outputs": [
    {
     "name": "stdout",
     "output_type": "stream",
     "text": [
      "(399976, 75) Index([u'fecha_dato', u'ncodpers', u'ind_empleado', u'pais_residencia',\n",
      "       u'sexo', u'age', u'fecha_alta', u'ind_nuevo', u'antiguedad', u'indrel',\n",
      "       u'ult_fec_cli_1t', u'indrel_1mes', u'tiprel_1mes', u'indresi',\n",
      "       u'indext', u'conyuemp', u'canal_entrada', u'indfall', u'nomprov',\n",
      "       u'ind_actividad_cliente', u'renta', u'segmento', u'ind_ahor_fin_ult1',\n",
      "       u'ind_aval_fin_ult1', u'ind_cco_fin_ult1', u'ind_cder_fin_ult1',\n",
      "       u'ind_cno_fin_ult1', u'ind_ctju_fin_ult1', u'ind_ctma_fin_ult1',\n",
      "       u'ind_ctop_fin_ult1', u'ind_ctpp_fin_ult1', u'ind_deco_fin_ult1',\n",
      "       u'ind_deme_fin_ult1', u'ind_dela_fin_ult1', u'ind_ecue_fin_ult1',\n",
      "       u'ind_fond_fin_ult1', u'ind_hip_fin_ult1', u'ind_plan_fin_ult1',\n",
      "       u'ind_pres_fin_ult1', u'ind_reca_fin_ult1', u'ind_tjcr_fin_ult1',\n",
      "       u'ind_valo_fin_ult1', u'ind_viv_fin_ult1', u'ind_nomina_ult1',\n",
      "       u'ind_nom_pens_ult1', u'ind_recibo_ult1', u'targets_str',\n",
      "       u'targets_dec', u'diff', u'lc_ind_ahor_fin_ult1',\n",
      "       u'lc_ind_aval_fin_ult1', u'lc_ind_cco_fin_ult1',\n",
      "       u'lc_ind_cder_fin_ult1', u'lc_ind_cno_fin_ult1',\n",
      "       u'lc_ind_ctju_fin_ult1', u'lc_ind_ctma_fin_ult1',\n",
      "       u'lc_ind_ctop_fin_ult1', u'lc_ind_ctpp_fin_ult1',\n",
      "       u'lc_ind_deco_fin_ult1', u'lc_ind_deme_fin_ult1',\n",
      "       u'lc_ind_dela_fin_ult1', u'lc_ind_ecue_fin_ult1',\n",
      "       u'lc_ind_fond_fin_ult1', u'lc_ind_hip_fin_ult1',\n",
      "       u'lc_ind_plan_fin_ult1', u'lc_ind_pres_fin_ult1',\n",
      "       u'lc_ind_reca_fin_ult1', u'lc_ind_tjcr_fin_ult1',\n",
      "       u'lc_ind_valo_fin_ult1', u'lc_ind_viv_fin_ult1', u'lc_ind_nomina_ult1',\n",
      "       u'lc_ind_nom_pens_ult1', u'lc_ind_recibo_ult1', u'lc_targets_str',\n",
      "       u'lc_targets_dec'],\n",
      "      dtype='object')\n"
     ]
    }
   ],
   "source": [
    "print train_df.shape, train_df.columns"
   ]
  },
  {
   "cell_type": "code",
   "execution_count": 6,
   "metadata": {
    "collapsed": false
   },
   "outputs": [
    {
     "name": "stdout",
     "output_type": "stream",
     "text": [
      "(1853326, 75) Index([u'fecha_dato', u'ncodpers', u'ind_empleado', u'pais_residencia',\n",
      "       u'sexo', u'age', u'fecha_alta', u'ind_nuevo', u'antiguedad', u'indrel',\n",
      "       u'ult_fec_cli_1t', u'indrel_1mes', u'tiprel_1mes', u'indresi',\n",
      "       u'indext', u'conyuemp', u'canal_entrada', u'indfall', u'nomprov',\n",
      "       u'ind_actividad_cliente', u'renta', u'segmento', u'ind_ahor_fin_ult1',\n",
      "       u'ind_aval_fin_ult1', u'ind_cco_fin_ult1', u'ind_cder_fin_ult1',\n",
      "       u'ind_cno_fin_ult1', u'ind_ctju_fin_ult1', u'ind_ctma_fin_ult1',\n",
      "       u'ind_ctop_fin_ult1', u'ind_ctpp_fin_ult1', u'ind_deco_fin_ult1',\n",
      "       u'ind_deme_fin_ult1', u'ind_dela_fin_ult1', u'ind_ecue_fin_ult1',\n",
      "       u'ind_fond_fin_ult1', u'ind_hip_fin_ult1', u'ind_plan_fin_ult1',\n",
      "       u'ind_pres_fin_ult1', u'ind_reca_fin_ult1', u'ind_tjcr_fin_ult1',\n",
      "       u'ind_valo_fin_ult1', u'ind_viv_fin_ult1', u'ind_nomina_ult1',\n",
      "       u'ind_nom_pens_ult1', u'ind_recibo_ult1', u'targets_str',\n",
      "       u'targets_dec', u'diff', u'lc_ind_ahor_fin_ult1',\n",
      "       u'lc_ind_aval_fin_ult1', u'lc_ind_cco_fin_ult1',\n",
      "       u'lc_ind_cder_fin_ult1', u'lc_ind_cno_fin_ult1',\n",
      "       u'lc_ind_ctju_fin_ult1', u'lc_ind_ctma_fin_ult1',\n",
      "       u'lc_ind_ctop_fin_ult1', u'lc_ind_ctpp_fin_ult1',\n",
      "       u'lc_ind_deco_fin_ult1', u'lc_ind_deme_fin_ult1',\n",
      "       u'lc_ind_dela_fin_ult1', u'lc_ind_ecue_fin_ult1',\n",
      "       u'lc_ind_fond_fin_ult1', u'lc_ind_hip_fin_ult1',\n",
      "       u'lc_ind_plan_fin_ult1', u'lc_ind_pres_fin_ult1',\n",
      "       u'lc_ind_reca_fin_ult1', u'lc_ind_tjcr_fin_ult1',\n",
      "       u'lc_ind_valo_fin_ult1', u'lc_ind_viv_fin_ult1', u'lc_ind_nomina_ult1',\n",
      "       u'lc_ind_nom_pens_ult1', u'lc_ind_recibo_ult1', u'lc_targets_str',\n",
      "       u'lc_targets_dec'],\n",
      "      dtype='object')\n"
     ]
    }
   ],
   "source": [
    "print val_df.shape, val_df.columns"
   ]
  },
  {
   "cell_type": "code",
   "execution_count": 4,
   "metadata": {
    "collapsed": true
   },
   "outputs": [],
   "source": [
    "#train_df.head(10)"
   ]
  },
  {
   "cell_type": "code",
   "execution_count": 5,
   "metadata": {
    "collapsed": false
   },
   "outputs": [],
   "source": [
    "#mask = (~train_df['diff'].isnull()) & (train_df['diff'] != 0.0)\n",
    "#train_df[mask].sort_values(['ncodpers', 'fecha_dato'])[['fecha_dato', 'ncodpers', 'targets_str', 'targets_dec', 'diff', 'lc_targets_str', 'lc_targets_dec']].head(10)"
   ]
  },
  {
   "cell_type": "code",
   "execution_count": 6,
   "metadata": {
    "collapsed": true
   },
   "outputs": [],
   "source": [
    "#val_df.head(10)"
   ]
  },
  {
   "cell_type": "code",
   "execution_count": 7,
   "metadata": {
    "collapsed": true
   },
   "outputs": [],
   "source": [
    "#mask = (~val_df['diff'].isnull()) & (val_df['diff'] != 0.0)\n",
    "#val_df[mask].sort_values(['ncodpers', 'fecha_dato'])[['fecha_dato', 'ncodpers', 'targets_str', 'targets_dec', 'diff', 'lc_targets_str', 'lc_targets_dec']].head(10)"
   ]
  },
  {
   "cell_type": "markdown",
   "metadata": {},
   "source": [
    "## Check active client performances 2015 -> 2016\n",
    "\n",
    "1) We observed that client actions repeats from 2015 to 2016. For example, there are ~37% of clients that add the same products in 2015-MM and in 2016-MM and ~50% of clients that add or remove that same quantity of products in 2015-MM and 2016-MM."
   ]
  },
  {
   "cell_type": "code",
   "execution_count": 7,
   "metadata": {
    "collapsed": false
   },
   "outputs": [],
   "source": [
    "months_ym_map = {}\n",
    "months = list(set(train_df['fecha_dato'].unique()) | set(val_df['fecha_dato'].unique()))\n",
    "for m in months:\n",
    "    months_ym_map[to_yearmonth(m)] = m"
   ]
  },
  {
   "cell_type": "code",
   "execution_count": 8,
   "metadata": {
    "collapsed": false
   },
   "outputs": [
    {
     "name": "stdout",
     "output_type": "stream",
     "text": [
      "-------\n",
      "201503 201603\n",
      "Percentage : eq = 0.369082125604  | aeq = 0.534299516908\n",
      "-------\n",
      "201504 201604\n",
      "Percentage : eq = 0.414046121593  | aeq = 0.557651991614\n",
      "-------\n",
      "201505 201605\n",
      "Percentage : eq = 0.375117813384  | aeq = 0.564561734213\n"
     ]
    }
   ],
   "source": [
    "yms = [201503, 201504, 201505]\n",
    "\n",
    "train_months = train_df['fecha_dato'].unique()\n",
    "val_months = val_df['fecha_dato'].unique()\n",
    "for ym in yms:\n",
    "    ym1 = ym + 100\n",
    "    \n",
    "    df1 = train_df if months_ym_map[ym] in train_months else val_df\n",
    "    df2 = train_df if months_ym_map[ym1] in train_months else val_df\n",
    "    \n",
    "    mask1 = (~df1['diff'].isnull()) & (df1['diff'] != 0.0)\n",
    "    tmask1 = df1['fecha_dato'] == months_ym_map[ym]\n",
    "    active_clients1 = df1[tmask1 & mask1]['ncodpers'].unique()\n",
    "\n",
    "    mask2 = (~df2['diff'].isnull()) & (df2['diff'] != 0.0)\n",
    "    tmask2 = df2['fecha_dato'] == months_ym_map[ym1]\n",
    "    active_clients2 = df2[tmask2 & mask2]['ncodpers'].unique()\n",
    "\n",
    "    active_clients = list(set(active_clients1) & set(active_clients2))   \n",
    "    \n",
    "    mask1 &= df1['ncodpers'].isin(active_clients)\n",
    "    t1 = df1[tmask1 & mask1].sort_values(['ncodpers', 'fecha_dato'])[['fecha_dato', 'ncodpers', 'targets_dec', 'diff', 'lc_targets_dec']]\n",
    "\n",
    "    mask2 &= df2['ncodpers'].isin(active_clients)\n",
    "    t2 = df2[tmask2 & mask2].sort_values(['ncodpers', 'fecha_dato'])[['fecha_dato', 'ncodpers', 'targets_dec', 'diff', 'lc_targets_dec']]\n",
    "\n",
    "    print \"-------\"\n",
    "    print ym, ym1\n",
    "    total = t1['diff'].shape[0]\n",
    "    eq = (t1['diff'].values == t2['diff'].values).sum()\n",
    "    aeq = (np.abs(t1['diff'].values) == np.abs(t2['diff'].values)).sum()\n",
    "    print \"Percentage : eq =\", eq*1.0/total, \" | aeq =\", aeq*1.0/total\n",
    "    \n",
    "       "
   ]
  },
  {
   "cell_type": "code",
   "execution_count": null,
   "metadata": {
    "collapsed": true
   },
   "outputs": [],
   "source": []
  },
  {
   "cell_type": "code",
   "execution_count": 9,
   "metadata": {
    "collapsed": true
   },
   "outputs": [],
   "source": [
    "mask1 = (~train_df['diff'].isnull()) & (train_df['diff'] != 0.0)\n",
    "tmask1 = train_df['fecha_dato'] == '2015-05-28'\n",
    "train_active_clients = train_df[tmask1 & mask1]['ncodpers'].unique()\n",
    "\n",
    "mask2 = (~val_df['diff'].isnull()) & (val_df['diff'] != 0.0)\n",
    "tmask2 = val_df['fecha_dato'] == '2016-05-28'\n",
    "val_active_clients = val_df[tmask2 & mask2]['ncodpers'].unique()\n",
    "\n",
    "active_clients = list(set(train_active_clients) & set(val_active_clients))"
   ]
  },
  {
   "cell_type": "code",
   "execution_count": 10,
   "metadata": {
    "collapsed": false
   },
   "outputs": [
    {
     "data": {
      "text/html": [
       "<div>\n",
       "<table border=\"1\" class=\"dataframe\">\n",
       "  <thead>\n",
       "    <tr style=\"text-align: right;\">\n",
       "      <th></th>\n",
       "      <th>fecha_dato</th>\n",
       "      <th>ncodpers</th>\n",
       "      <th>targets_dec</th>\n",
       "      <th>diff</th>\n",
       "      <th>lc_targets_dec</th>\n",
       "    </tr>\n",
       "  </thead>\n",
       "  <tbody>\n",
       "    <tr>\n",
       "      <th>2308256</th>\n",
       "      <td>2015-05-28</td>\n",
       "      <td>15929</td>\n",
       "      <td>2132017</td>\n",
       "      <td>1</td>\n",
       "      <td>2132016.0</td>\n",
       "    </tr>\n",
       "    <tr>\n",
       "      <th>2307937</th>\n",
       "      <td>2015-05-28</td>\n",
       "      <td>16731</td>\n",
       "      <td>2101256</td>\n",
       "      <td>-1</td>\n",
       "      <td>2101257.0</td>\n",
       "    </tr>\n",
       "    <tr>\n",
       "      <th>2308157</th>\n",
       "      <td>2015-05-28</td>\n",
       "      <td>17059</td>\n",
       "      <td>2097152</td>\n",
       "      <td>-1</td>\n",
       "      <td>2097153.0</td>\n",
       "    </tr>\n",
       "    <tr>\n",
       "      <th>2308492</th>\n",
       "      <td>2015-05-28</td>\n",
       "      <td>18201</td>\n",
       "      <td>2162721</td>\n",
       "      <td>1</td>\n",
       "      <td>2162720.0</td>\n",
       "    </tr>\n",
       "    <tr>\n",
       "      <th>2307051</th>\n",
       "      <td>2015-05-28</td>\n",
       "      <td>18921</td>\n",
       "      <td>526592</td>\n",
       "      <td>-6</td>\n",
       "      <td>526598.0</td>\n",
       "    </tr>\n",
       "    <tr>\n",
       "      <th>2306760</th>\n",
       "      <td>2015-05-28</td>\n",
       "      <td>19706</td>\n",
       "      <td>591987</td>\n",
       "      <td>-4</td>\n",
       "      <td>591991.0</td>\n",
       "    </tr>\n",
       "    <tr>\n",
       "      <th>2307819</th>\n",
       "      <td>2015-05-28</td>\n",
       "      <td>20406</td>\n",
       "      <td>2162960</td>\n",
       "      <td>-1</td>\n",
       "      <td>2162961.0</td>\n",
       "    </tr>\n",
       "    <tr>\n",
       "      <th>2307428</th>\n",
       "      <td>2015-05-28</td>\n",
       "      <td>21866</td>\n",
       "      <td>2166784</td>\n",
       "      <td>-1</td>\n",
       "      <td>2166785.0</td>\n",
       "    </tr>\n",
       "    <tr>\n",
       "      <th>2307460</th>\n",
       "      <td>2015-05-28</td>\n",
       "      <td>21945</td>\n",
       "      <td>557383</td>\n",
       "      <td>-32</td>\n",
       "      <td>557415.0</td>\n",
       "    </tr>\n",
       "    <tr>\n",
       "      <th>2309831</th>\n",
       "      <td>2015-05-28</td>\n",
       "      <td>28357</td>\n",
       "      <td>2162688</td>\n",
       "      <td>-1</td>\n",
       "      <td>2162689.0</td>\n",
       "    </tr>\n",
       "  </tbody>\n",
       "</table>\n",
       "</div>"
      ],
      "text/plain": [
       "         fecha_dato  ncodpers  targets_dec  diff  lc_targets_dec\n",
       "2308256  2015-05-28     15929      2132017     1       2132016.0\n",
       "2307937  2015-05-28     16731      2101256    -1       2101257.0\n",
       "2308157  2015-05-28     17059      2097152    -1       2097153.0\n",
       "2308492  2015-05-28     18201      2162721     1       2162720.0\n",
       "2307051  2015-05-28     18921       526592    -6        526598.0\n",
       "2306760  2015-05-28     19706       591987    -4        591991.0\n",
       "2307819  2015-05-28     20406      2162960    -1       2162961.0\n",
       "2307428  2015-05-28     21866      2166784    -1       2166785.0\n",
       "2307460  2015-05-28     21945       557383   -32        557415.0\n",
       "2309831  2015-05-28     28357      2162688    -1       2162689.0"
      ]
     },
     "execution_count": 10,
     "metadata": {},
     "output_type": "execute_result"
    }
   ],
   "source": [
    "mask1 &= train_df['ncodpers'].isin(active_clients)\n",
    "t1 = train_df[tmask1 & mask1].sort_values(['ncodpers', 'fecha_dato'])[['fecha_dato', 'ncodpers', 'targets_dec', 'diff', 'lc_targets_dec']]\n",
    "t1.head(10)"
   ]
  },
  {
   "cell_type": "code",
   "execution_count": 11,
   "metadata": {
    "collapsed": false
   },
   "outputs": [
    {
     "data": {
      "text/html": [
       "<div>\n",
       "<table border=\"1\" class=\"dataframe\">\n",
       "  <thead>\n",
       "    <tr style=\"text-align: right;\">\n",
       "      <th></th>\n",
       "      <th>fecha_dato</th>\n",
       "      <th>ncodpers</th>\n",
       "      <th>targets_dec</th>\n",
       "      <th>diff</th>\n",
       "      <th>lc_targets_dec</th>\n",
       "    </tr>\n",
       "  </thead>\n",
       "  <tbody>\n",
       "    <tr>\n",
       "      <th>1238783</th>\n",
       "      <td>2016-05-28</td>\n",
       "      <td>15929</td>\n",
       "      <td>2132017</td>\n",
       "      <td>1</td>\n",
       "      <td>2132016.0</td>\n",
       "    </tr>\n",
       "    <tr>\n",
       "      <th>1239207</th>\n",
       "      <td>2016-05-28</td>\n",
       "      <td>16731</td>\n",
       "      <td>2103297</td>\n",
       "      <td>1</td>\n",
       "      <td>2103296.0</td>\n",
       "    </tr>\n",
       "    <tr>\n",
       "      <th>1239260</th>\n",
       "      <td>2016-05-28</td>\n",
       "      <td>17059</td>\n",
       "      <td>2097153</td>\n",
       "      <td>1</td>\n",
       "      <td>2097152.0</td>\n",
       "    </tr>\n",
       "    <tr>\n",
       "      <th>1237762</th>\n",
       "      <td>2016-05-28</td>\n",
       "      <td>18201</td>\n",
       "      <td>2162689</td>\n",
       "      <td>1</td>\n",
       "      <td>2162688.0</td>\n",
       "    </tr>\n",
       "    <tr>\n",
       "      <th>1238057</th>\n",
       "      <td>2016-05-28</td>\n",
       "      <td>18921</td>\n",
       "      <td>526614</td>\n",
       "      <td>524294</td>\n",
       "      <td>2320.0</td>\n",
       "    </tr>\n",
       "    <tr>\n",
       "      <th>1240639</th>\n",
       "      <td>2016-05-28</td>\n",
       "      <td>19706</td>\n",
       "      <td>526455</td>\n",
       "      <td>4</td>\n",
       "      <td>526451.0</td>\n",
       "    </tr>\n",
       "    <tr>\n",
       "      <th>1240974</th>\n",
       "      <td>2016-05-28</td>\n",
       "      <td>20406</td>\n",
       "      <td>2162960</td>\n",
       "      <td>-1</td>\n",
       "      <td>2162961.0</td>\n",
       "    </tr>\n",
       "    <tr>\n",
       "      <th>1239538</th>\n",
       "      <td>2016-05-28</td>\n",
       "      <td>21866</td>\n",
       "      <td>2166784</td>\n",
       "      <td>-1</td>\n",
       "      <td>2166785.0</td>\n",
       "    </tr>\n",
       "    <tr>\n",
       "      <th>1239499</th>\n",
       "      <td>2016-05-28</td>\n",
       "      <td>21945</td>\n",
       "      <td>557377</td>\n",
       "      <td>-2</td>\n",
       "      <td>557379.0</td>\n",
       "    </tr>\n",
       "    <tr>\n",
       "      <th>1237522</th>\n",
       "      <td>2016-05-28</td>\n",
       "      <td>28357</td>\n",
       "      <td>2162689</td>\n",
       "      <td>1</td>\n",
       "      <td>2162688.0</td>\n",
       "    </tr>\n",
       "  </tbody>\n",
       "</table>\n",
       "</div>"
      ],
      "text/plain": [
       "         fecha_dato  ncodpers  targets_dec    diff  lc_targets_dec\n",
       "1238783  2016-05-28     15929      2132017       1       2132016.0\n",
       "1239207  2016-05-28     16731      2103297       1       2103296.0\n",
       "1239260  2016-05-28     17059      2097153       1       2097152.0\n",
       "1237762  2016-05-28     18201      2162689       1       2162688.0\n",
       "1238057  2016-05-28     18921       526614  524294          2320.0\n",
       "1240639  2016-05-28     19706       526455       4        526451.0\n",
       "1240974  2016-05-28     20406      2162960      -1       2162961.0\n",
       "1239538  2016-05-28     21866      2166784      -1       2166785.0\n",
       "1239499  2016-05-28     21945       557377      -2        557379.0\n",
       "1237522  2016-05-28     28357      2162689       1       2162688.0"
      ]
     },
     "execution_count": 11,
     "metadata": {},
     "output_type": "execute_result"
    }
   ],
   "source": [
    "mask2 &= val_df['ncodpers'].isin(active_clients)\n",
    "t2 = val_df[tmask2 & mask2].sort_values(['ncodpers', 'fecha_dato'])[['fecha_dato', 'ncodpers', 'targets_dec', 'diff', 'lc_targets_dec']]\n",
    "t2.head(10)"
   ]
  },
  {
   "cell_type": "code",
   "execution_count": 12,
   "metadata": {
    "collapsed": false
   },
   "outputs": [
    {
     "name": "stdout",
     "output_type": "stream",
     "text": [
      "Percentage : eq = 0.375117813384  | aeq = 0.564561734213\n"
     ]
    }
   ],
   "source": [
    "total = t1['diff'].shape[0]\n",
    "eq = (t1['diff'].values == t2['diff'].values).sum()\n",
    "aeq = (np.abs(t1['diff'].values) == np.abs(t2['diff'].values)).sum()\n",
    "print \"Percentage : eq =\", eq*1.0/total, \" | aeq =\", aeq*1.0/total\n"
   ]
  },
  {
   "cell_type": "markdown",
   "metadata": {},
   "source": [
    "Client who declare the 'renta' modifications -> nobody"
   ]
  },
  {
   "cell_type": "code",
   "execution_count": 13,
   "metadata": {
    "collapsed": false
   },
   "outputs": [
    {
     "name": "stdout",
     "output_type": "stream",
     "text": [
      "0\n",
      "0\n",
      "0\n"
     ]
    }
   ],
   "source": [
    "train_months = train_df['fecha_dato'].unique()\n",
    "val_months = val_df['fecha_dato'].unique()\n",
    "for ym in yms:\n",
    "    ym1 = ym + 100\n",
    "    \n",
    "    df1 = train_df if months_ym_map[ym] in train_months else val_df\n",
    "    df2 = train_df if months_ym_map[ym1] in train_months else val_df\n",
    "    \n",
    "    tmask1 = df1['fecha_dato'] == months_ym_map[ym]\n",
    "    active_clients1 = df1[tmask1]['ncodpers'].unique()\n",
    "\n",
    "    tmask2 = df2['fecha_dato'] == months_ym_map[ym1]\n",
    "    active_clients2 = df2[tmask2]['ncodpers'].unique()\n",
    "\n",
    "    active_clients = list(set(active_clients1) & set(active_clients2))   \n",
    "    \n",
    "    tmask1 &= df1['ncodpers'].isin(active_clients)\n",
    "    r1 = df1[tmask1].sort_values(['ncodpers'])[['ncodpers', 'renta']]\n",
    "\n",
    "    tmask2 &= df2['ncodpers'].isin(active_clients)\n",
    "    r2 = df2[tmask2].sort_values(['ncodpers'])[['ncodpers', 'renta']]\n",
    "    \n",
    "    assert (r1['ncodpers'].values == r2['ncodpers'].values).all(), \"WTF\"\n",
    "    rdiff = r1['renta'] != r2['renta']\n",
    "    print rdiff.sum()"
   ]
  },
  {
   "cell_type": "markdown",
   "metadata": {
    "collapsed": true
   },
   "source": [
    "2) Some clients buy/sell the same quantity of products in the time series: e.g. diff = [2, -2, 2, -2...]"
   ]
  },
  {
   "cell_type": "code",
   "execution_count": 14,
   "metadata": {
    "collapsed": false
   },
   "outputs": [
    {
     "data": {
      "text/html": [
       "<div>\n",
       "<table border=\"1\" class=\"dataframe\">\n",
       "  <thead>\n",
       "    <tr style=\"text-align: right;\">\n",
       "      <th></th>\n",
       "      <th>fecha_dato</th>\n",
       "      <th>ncodpers</th>\n",
       "      <th>renta</th>\n",
       "      <th>diff</th>\n",
       "      <th>targets_dec</th>\n",
       "    </tr>\n",
       "  </thead>\n",
       "  <tbody>\n",
       "    <tr>\n",
       "      <th>1047830</th>\n",
       "      <td>2015-03-28</td>\n",
       "      <td>17857</td>\n",
       "      <td>173409.00</td>\n",
       "      <td>-2</td>\n",
       "      <td>530737</td>\n",
       "    </tr>\n",
       "    <tr>\n",
       "      <th>1466050</th>\n",
       "      <td>2015-04-28</td>\n",
       "      <td>17857</td>\n",
       "      <td>173409.00</td>\n",
       "      <td>2</td>\n",
       "      <td>530739</td>\n",
       "    </tr>\n",
       "    <tr>\n",
       "      <th>2941019</th>\n",
       "      <td>2015-06-28</td>\n",
       "      <td>17857</td>\n",
       "      <td>173409.00</td>\n",
       "      <td>2</td>\n",
       "      <td>530707</td>\n",
       "    </tr>\n",
       "    <tr>\n",
       "      <th>1047795</th>\n",
       "      <td>2015-03-28</td>\n",
       "      <td>17934</td>\n",
       "      <td>348061.29</td>\n",
       "      <td>-2</td>\n",
       "      <td>557153</td>\n",
       "    </tr>\n",
       "    <tr>\n",
       "      <th>1466015</th>\n",
       "      <td>2015-04-28</td>\n",
       "      <td>17934</td>\n",
       "      <td>348061.29</td>\n",
       "      <td>2</td>\n",
       "      <td>557155</td>\n",
       "    </tr>\n",
       "    <tr>\n",
       "      <th>2309010</th>\n",
       "      <td>2015-05-28</td>\n",
       "      <td>17934</td>\n",
       "      <td>348061.29</td>\n",
       "      <td>-2</td>\n",
       "      <td>557153</td>\n",
       "    </tr>\n",
       "    <tr>\n",
       "      <th>2941070</th>\n",
       "      <td>2015-06-28</td>\n",
       "      <td>17934</td>\n",
       "      <td>348061.29</td>\n",
       "      <td>2</td>\n",
       "      <td>557155</td>\n",
       "    </tr>\n",
       "    <tr>\n",
       "      <th>1048278</th>\n",
       "      <td>2015-03-28</td>\n",
       "      <td>18138</td>\n",
       "      <td>136694.64</td>\n",
       "      <td>-2</td>\n",
       "      <td>526369</td>\n",
       "    </tr>\n",
       "    <tr>\n",
       "      <th>1466499</th>\n",
       "      <td>2015-04-28</td>\n",
       "      <td>18138</td>\n",
       "      <td>136694.64</td>\n",
       "      <td>2</td>\n",
       "      <td>526371</td>\n",
       "    </tr>\n",
       "    <tr>\n",
       "      <th>2308508</th>\n",
       "      <td>2015-05-28</td>\n",
       "      <td>18138</td>\n",
       "      <td>136694.64</td>\n",
       "      <td>-2</td>\n",
       "      <td>526369</td>\n",
       "    </tr>\n",
       "    <tr>\n",
       "      <th>2940567</th>\n",
       "      <td>2015-06-28</td>\n",
       "      <td>18138</td>\n",
       "      <td>136694.64</td>\n",
       "      <td>2</td>\n",
       "      <td>526371</td>\n",
       "    </tr>\n",
       "    <tr>\n",
       "      <th>4382197</th>\n",
       "      <td>2016-03-28</td>\n",
       "      <td>19706</td>\n",
       "      <td>231893.43</td>\n",
       "      <td>-2</td>\n",
       "      <td>526449</td>\n",
       "    </tr>\n",
       "    <tr>\n",
       "      <th>5421619</th>\n",
       "      <td>2016-04-28</td>\n",
       "      <td>19706</td>\n",
       "      <td>231893.43</td>\n",
       "      <td>2</td>\n",
       "      <td>526451</td>\n",
       "    </tr>\n",
       "    <tr>\n",
       "      <th>1467171</th>\n",
       "      <td>2015-04-28</td>\n",
       "      <td>20988</td>\n",
       "      <td>857580.99</td>\n",
       "      <td>2</td>\n",
       "      <td>557074</td>\n",
       "    </tr>\n",
       "    <tr>\n",
       "      <th>1049388</th>\n",
       "      <td>2015-03-28</td>\n",
       "      <td>21329</td>\n",
       "      <td>-99.00</td>\n",
       "      <td>-2</td>\n",
       "      <td>546849</td>\n",
       "    </tr>\n",
       "    <tr>\n",
       "      <th>1467615</th>\n",
       "      <td>2015-04-28</td>\n",
       "      <td>21329</td>\n",
       "      <td>-99.00</td>\n",
       "      <td>2</td>\n",
       "      <td>546851</td>\n",
       "    </tr>\n",
       "    <tr>\n",
       "      <th>2307331</th>\n",
       "      <td>2015-05-28</td>\n",
       "      <td>21329</td>\n",
       "      <td>-99.00</td>\n",
       "      <td>-2</td>\n",
       "      <td>546849</td>\n",
       "    </tr>\n",
       "    <tr>\n",
       "      <th>1046336</th>\n",
       "      <td>2015-03-28</td>\n",
       "      <td>22998</td>\n",
       "      <td>230566.05</td>\n",
       "      <td>-2</td>\n",
       "      <td>593921</td>\n",
       "    </tr>\n",
       "    <tr>\n",
       "      <th>1464555</th>\n",
       "      <td>2015-04-28</td>\n",
       "      <td>22998</td>\n",
       "      <td>230566.05</td>\n",
       "      <td>2</td>\n",
       "      <td>593923</td>\n",
       "    </tr>\n",
       "    <tr>\n",
       "      <th>2310469</th>\n",
       "      <td>2015-05-28</td>\n",
       "      <td>22998</td>\n",
       "      <td>230566.05</td>\n",
       "      <td>-2</td>\n",
       "      <td>593921</td>\n",
       "    </tr>\n",
       "  </tbody>\n",
       "</table>\n",
       "</div>"
      ],
      "text/plain": [
       "         fecha_dato  ncodpers      renta  diff  targets_dec\n",
       "1047830  2015-03-28     17857  173409.00    -2       530737\n",
       "1466050  2015-04-28     17857  173409.00     2       530739\n",
       "2941019  2015-06-28     17857  173409.00     2       530707\n",
       "1047795  2015-03-28     17934  348061.29    -2       557153\n",
       "1466015  2015-04-28     17934  348061.29     2       557155\n",
       "2309010  2015-05-28     17934  348061.29    -2       557153\n",
       "2941070  2015-06-28     17934  348061.29     2       557155\n",
       "1048278  2015-03-28     18138  136694.64    -2       526369\n",
       "1466499  2015-04-28     18138  136694.64     2       526371\n",
       "2308508  2015-05-28     18138  136694.64    -2       526369\n",
       "2940567  2015-06-28     18138  136694.64     2       526371\n",
       "4382197  2016-03-28     19706  231893.43    -2       526449\n",
       "5421619  2016-04-28     19706  231893.43     2       526451\n",
       "1467171  2015-04-28     20988  857580.99     2       557074\n",
       "1049388  2015-03-28     21329     -99.00    -2       546849\n",
       "1467615  2015-04-28     21329     -99.00     2       546851\n",
       "2307331  2015-05-28     21329     -99.00    -2       546849\n",
       "1046336  2015-03-28     22998  230566.05    -2       593921\n",
       "1464555  2015-04-28     22998  230566.05     2       593923\n",
       "2310469  2015-05-28     22998  230566.05    -2       593921"
      ]
     },
     "execution_count": 14,
     "metadata": {},
     "output_type": "execute_result"
    }
   ],
   "source": [
    "mask = train_df['diff'].isin([2,-2])\n",
    "train_df[mask].sort_values(['ncodpers', 'fecha_dato'])[['fecha_dato','ncodpers', 'renta', 'diff', 'targets_dec']].head(20)"
   ]
  },
  {
   "cell_type": "code",
   "execution_count": 21,
   "metadata": {
    "collapsed": false
   },
   "outputs": [
    {
     "data": {
      "text/html": [
       "<div>\n",
       "<table border=\"1\" class=\"dataframe\">\n",
       "  <thead>\n",
       "    <tr style=\"text-align: right;\">\n",
       "      <th></th>\n",
       "      <th>fecha_dato</th>\n",
       "      <th>ncodpers</th>\n",
       "      <th>renta</th>\n",
       "      <th>diff</th>\n",
       "      <th>targets_dec</th>\n",
       "      <th>age</th>\n",
       "      <th>ind_ahor_fin_ult1</th>\n",
       "      <th>ind_aval_fin_ult1</th>\n",
       "      <th>ind_cco_fin_ult1</th>\n",
       "      <th>ind_cder_fin_ult1</th>\n",
       "      <th>...</th>\n",
       "      <th>ind_hip_fin_ult1</th>\n",
       "      <th>ind_plan_fin_ult1</th>\n",
       "      <th>ind_pres_fin_ult1</th>\n",
       "      <th>ind_reca_fin_ult1</th>\n",
       "      <th>ind_tjcr_fin_ult1</th>\n",
       "      <th>ind_valo_fin_ult1</th>\n",
       "      <th>ind_viv_fin_ult1</th>\n",
       "      <th>ind_nomina_ult1</th>\n",
       "      <th>ind_nom_pens_ult1</th>\n",
       "      <th>ind_recibo_ult1</th>\n",
       "    </tr>\n",
       "  </thead>\n",
       "  <tbody>\n",
       "    <tr>\n",
       "      <th>210523</th>\n",
       "      <td>2015-02-28</td>\n",
       "      <td>18138</td>\n",
       "      <td>136694.64</td>\n",
       "      <td>-16777216</td>\n",
       "      <td>526371</td>\n",
       "      <td>75.0</td>\n",
       "      <td>0</td>\n",
       "      <td>0</td>\n",
       "      <td>0</td>\n",
       "      <td>0</td>\n",
       "      <td>...</td>\n",
       "      <td>0</td>\n",
       "      <td>0</td>\n",
       "      <td>0</td>\n",
       "      <td>0</td>\n",
       "      <td>1</td>\n",
       "      <td>0</td>\n",
       "      <td>0</td>\n",
       "      <td>0.0</td>\n",
       "      <td>1.0</td>\n",
       "      <td>1</td>\n",
       "    </tr>\n",
       "    <tr>\n",
       "      <th>1048278</th>\n",
       "      <td>2015-03-28</td>\n",
       "      <td>18138</td>\n",
       "      <td>136694.64</td>\n",
       "      <td>-2</td>\n",
       "      <td>526369</td>\n",
       "      <td>75.0</td>\n",
       "      <td>0</td>\n",
       "      <td>0</td>\n",
       "      <td>0</td>\n",
       "      <td>0</td>\n",
       "      <td>...</td>\n",
       "      <td>0</td>\n",
       "      <td>0</td>\n",
       "      <td>0</td>\n",
       "      <td>0</td>\n",
       "      <td>1</td>\n",
       "      <td>0</td>\n",
       "      <td>0</td>\n",
       "      <td>0.0</td>\n",
       "      <td>0.0</td>\n",
       "      <td>1</td>\n",
       "    </tr>\n",
       "    <tr>\n",
       "      <th>1466499</th>\n",
       "      <td>2015-04-28</td>\n",
       "      <td>18138</td>\n",
       "      <td>136694.64</td>\n",
       "      <td>2</td>\n",
       "      <td>526371</td>\n",
       "      <td>75.0</td>\n",
       "      <td>0</td>\n",
       "      <td>0</td>\n",
       "      <td>0</td>\n",
       "      <td>0</td>\n",
       "      <td>...</td>\n",
       "      <td>0</td>\n",
       "      <td>0</td>\n",
       "      <td>0</td>\n",
       "      <td>0</td>\n",
       "      <td>1</td>\n",
       "      <td>0</td>\n",
       "      <td>0</td>\n",
       "      <td>0.0</td>\n",
       "      <td>1.0</td>\n",
       "      <td>1</td>\n",
       "    </tr>\n",
       "    <tr>\n",
       "      <th>2308508</th>\n",
       "      <td>2015-05-28</td>\n",
       "      <td>18138</td>\n",
       "      <td>136694.64</td>\n",
       "      <td>-2</td>\n",
       "      <td>526369</td>\n",
       "      <td>75.0</td>\n",
       "      <td>0</td>\n",
       "      <td>0</td>\n",
       "      <td>0</td>\n",
       "      <td>0</td>\n",
       "      <td>...</td>\n",
       "      <td>0</td>\n",
       "      <td>0</td>\n",
       "      <td>0</td>\n",
       "      <td>0</td>\n",
       "      <td>1</td>\n",
       "      <td>0</td>\n",
       "      <td>0</td>\n",
       "      <td>0.0</td>\n",
       "      <td>0.0</td>\n",
       "      <td>1</td>\n",
       "    </tr>\n",
       "    <tr>\n",
       "      <th>2940567</th>\n",
       "      <td>2015-06-28</td>\n",
       "      <td>18138</td>\n",
       "      <td>136694.64</td>\n",
       "      <td>2</td>\n",
       "      <td>526371</td>\n",
       "      <td>75.0</td>\n",
       "      <td>0</td>\n",
       "      <td>0</td>\n",
       "      <td>0</td>\n",
       "      <td>0</td>\n",
       "      <td>...</td>\n",
       "      <td>0</td>\n",
       "      <td>0</td>\n",
       "      <td>0</td>\n",
       "      <td>0</td>\n",
       "      <td>1</td>\n",
       "      <td>0</td>\n",
       "      <td>0</td>\n",
       "      <td>0.0</td>\n",
       "      <td>1.0</td>\n",
       "      <td>1</td>\n",
       "    </tr>\n",
       "    <tr>\n",
       "      <th>3635100</th>\n",
       "      <td>2016-02-28</td>\n",
       "      <td>18138</td>\n",
       "      <td>136694.64</td>\n",
       "      <td>-16777216</td>\n",
       "      <td>526371</td>\n",
       "      <td>75.0</td>\n",
       "      <td>0</td>\n",
       "      <td>0</td>\n",
       "      <td>0</td>\n",
       "      <td>0</td>\n",
       "      <td>...</td>\n",
       "      <td>0</td>\n",
       "      <td>0</td>\n",
       "      <td>0</td>\n",
       "      <td>0</td>\n",
       "      <td>1</td>\n",
       "      <td>0</td>\n",
       "      <td>0</td>\n",
       "      <td>0.0</td>\n",
       "      <td>1.0</td>\n",
       "      <td>1</td>\n",
       "    </tr>\n",
       "    <tr>\n",
       "      <th>4379275</th>\n",
       "      <td>2016-03-28</td>\n",
       "      <td>18138</td>\n",
       "      <td>136694.64</td>\n",
       "      <td>0</td>\n",
       "      <td>526371</td>\n",
       "      <td>75.0</td>\n",
       "      <td>0</td>\n",
       "      <td>0</td>\n",
       "      <td>0</td>\n",
       "      <td>0</td>\n",
       "      <td>...</td>\n",
       "      <td>0</td>\n",
       "      <td>0</td>\n",
       "      <td>0</td>\n",
       "      <td>0</td>\n",
       "      <td>1</td>\n",
       "      <td>0</td>\n",
       "      <td>0</td>\n",
       "      <td>0.0</td>\n",
       "      <td>1.0</td>\n",
       "      <td>1</td>\n",
       "    </tr>\n",
       "    <tr>\n",
       "      <th>5420643</th>\n",
       "      <td>2016-04-28</td>\n",
       "      <td>18138</td>\n",
       "      <td>136694.64</td>\n",
       "      <td>0</td>\n",
       "      <td>526371</td>\n",
       "      <td>75.0</td>\n",
       "      <td>0</td>\n",
       "      <td>0</td>\n",
       "      <td>0</td>\n",
       "      <td>0</td>\n",
       "      <td>...</td>\n",
       "      <td>0</td>\n",
       "      <td>0</td>\n",
       "      <td>0</td>\n",
       "      <td>0</td>\n",
       "      <td>1</td>\n",
       "      <td>0</td>\n",
       "      <td>0</td>\n",
       "      <td>0.0</td>\n",
       "      <td>1.0</td>\n",
       "      <td>1</td>\n",
       "    </tr>\n",
       "  </tbody>\n",
       "</table>\n",
       "<p>8 rows × 30 columns</p>\n",
       "</div>"
      ],
      "text/plain": [
       "         fecha_dato  ncodpers      renta      diff  targets_dec   age  \\\n",
       "210523   2015-02-28     18138  136694.64 -16777216       526371  75.0   \n",
       "1048278  2015-03-28     18138  136694.64        -2       526369  75.0   \n",
       "1466499  2015-04-28     18138  136694.64         2       526371  75.0   \n",
       "2308508  2015-05-28     18138  136694.64        -2       526369  75.0   \n",
       "2940567  2015-06-28     18138  136694.64         2       526371  75.0   \n",
       "3635100  2016-02-28     18138  136694.64 -16777216       526371  75.0   \n",
       "4379275  2016-03-28     18138  136694.64         0       526371  75.0   \n",
       "5420643  2016-04-28     18138  136694.64         0       526371  75.0   \n",
       "\n",
       "         ind_ahor_fin_ult1  ind_aval_fin_ult1  ind_cco_fin_ult1  \\\n",
       "210523                   0                  0                 0   \n",
       "1048278                  0                  0                 0   \n",
       "1466499                  0                  0                 0   \n",
       "2308508                  0                  0                 0   \n",
       "2940567                  0                  0                 0   \n",
       "3635100                  0                  0                 0   \n",
       "4379275                  0                  0                 0   \n",
       "5420643                  0                  0                 0   \n",
       "\n",
       "         ind_cder_fin_ult1       ...         ind_hip_fin_ult1  \\\n",
       "210523                   0       ...                        0   \n",
       "1048278                  0       ...                        0   \n",
       "1466499                  0       ...                        0   \n",
       "2308508                  0       ...                        0   \n",
       "2940567                  0       ...                        0   \n",
       "3635100                  0       ...                        0   \n",
       "4379275                  0       ...                        0   \n",
       "5420643                  0       ...                        0   \n",
       "\n",
       "         ind_plan_fin_ult1  ind_pres_fin_ult1  ind_reca_fin_ult1  \\\n",
       "210523                   0                  0                  0   \n",
       "1048278                  0                  0                  0   \n",
       "1466499                  0                  0                  0   \n",
       "2308508                  0                  0                  0   \n",
       "2940567                  0                  0                  0   \n",
       "3635100                  0                  0                  0   \n",
       "4379275                  0                  0                  0   \n",
       "5420643                  0                  0                  0   \n",
       "\n",
       "         ind_tjcr_fin_ult1  ind_valo_fin_ult1  ind_viv_fin_ult1  \\\n",
       "210523                   1                  0                 0   \n",
       "1048278                  1                  0                 0   \n",
       "1466499                  1                  0                 0   \n",
       "2308508                  1                  0                 0   \n",
       "2940567                  1                  0                 0   \n",
       "3635100                  1                  0                 0   \n",
       "4379275                  1                  0                 0   \n",
       "5420643                  1                  0                 0   \n",
       "\n",
       "         ind_nomina_ult1  ind_nom_pens_ult1  ind_recibo_ult1  \n",
       "210523               0.0                1.0                1  \n",
       "1048278              0.0                0.0                1  \n",
       "1466499              0.0                1.0                1  \n",
       "2308508              0.0                0.0                1  \n",
       "2940567              0.0                1.0                1  \n",
       "3635100              0.0                1.0                1  \n",
       "4379275              0.0                1.0                1  \n",
       "5420643              0.0                1.0                1  \n",
       "\n",
       "[8 rows x 30 columns]"
      ]
     },
     "execution_count": 21,
     "metadata": {},
     "output_type": "execute_result"
    }
   ],
   "source": [
    "train_df[train_df['ncodpers']==18138][['fecha_dato','ncodpers', 'renta', 'diff', 'targets_dec', 'age'] + TARGET_LABELS].head(20)"
   ]
  },
  {
   "cell_type": "code",
   "execution_count": 30,
   "metadata": {
    "collapsed": false
   },
   "outputs": [],
   "source": [
    "# yms = [201503, 201504, 201505, 201506]\n",
    "# for i, ym in enumerate(yms[:-1]):\n",
    "#     ym1 = yms[i+1]\n",
    "    \n",
    "#     df1 = train_df if months_ym_map[ym] in train_months else val_df\n",
    "#     tmask1 = df1['fecha_dato'] == months_ym_map[ym]\n",
    "#     tmask2 = df1['fecha_dato'] == months_ym_map[ym1]\n",
    "\n",
    "#     print df1[tmask1][['ncodpers', 'diff']].head(3)\n",
    "#     print df1[tmask2][['ncodpers', 'diff']].head(3)    \n",
    "#     res = df1[tmask1]['diff'].values * df1[tmask2]['diff'].values < 0\n",
    "#     print df1[tmask1]['diff'].shape, df1[tmask2]['diff'].shape, np.sum(res)\n",
    "# #     print df1[res][['ncodpers', 'diff']].head(3)    \n",
    "\n",
    "#     if i == 1: \n",
    "#         break\n",
    "    \n",
    "    "
   ]
  },
  {
   "cell_type": "code",
   "execution_count": null,
   "metadata": {
    "collapsed": true
   },
   "outputs": [],
   "source": []
  },
  {
   "cell_type": "code",
   "execution_count": 31,
   "metadata": {
    "collapsed": false
   },
   "outputs": [],
   "source": [
    "from common import get_added_products, remove_last_choice, apk, map7_score2\n",
    "from visualization import visualize_train_test, visualize_folds, compare_two_datasets, compare_folds, compare_folds2"
   ]
  },
  {
   "cell_type": "markdown",
   "metadata": {},
   "source": [
    "Create profiles and create models for profiles"
   ]
  },
  {
   "cell_type": "code",
   "execution_count": 32,
   "metadata": {
    "collapsed": false
   },
   "outputs": [
    {
     "name": "stderr",
     "output_type": "stream",
     "text": [
      "Using Theano backend.\n"
     ]
    }
   ],
   "source": [
    "from keras.models import Sequential\n",
    "from keras.layers import Dense, Dropout, Merge\n",
    "from keras.utils import np_utils"
   ]
  },
  {
   "cell_type": "markdown",
   "metadata": {},
   "source": [
    "### Feature engineering"
   ]
  },
  {
   "cell_type": "code",
   "execution_count": 33,
   "metadata": {
    "collapsed": false
   },
   "outputs": [],
   "source": [
    "def get_age_group_index(age):\n",
    "    if age < 10:\n",
    "        return -3\n",
    "    elif age < 15:\n",
    "        return -2        \n",
    "    elif age < 18:\n",
    "        return -1    \n",
    "    elif age < 23:\n",
    "        return 0\n",
    "    elif age < 25:\n",
    "        return 1\n",
    "    elif age < 27:\n",
    "        return 2\n",
    "    elif age < 28:\n",
    "        return 3    \n",
    "    elif age < 32:\n",
    "        return 4\n",
    "    elif age < 37:\n",
    "        return 5    \n",
    "    elif age < 42:\n",
    "        return 6\n",
    "    elif age < 47:\n",
    "        return 7\n",
    "    elif age < 52:\n",
    "        return 8\n",
    "    elif age < 57:\n",
    "        return 9\n",
    "    elif age < 60:\n",
    "        return 10\n",
    "    elif age < 65:\n",
    "        return 11\n",
    "    elif age < 70:\n",
    "        return 12\n",
    "    elif age < 75:\n",
    "        return 13\n",
    "    elif age < 80:\n",
    "        return 14\n",
    "    else:\n",
    "        return 15\n",
    "\n",
    "def get_income_group_index(income):\n",
    "    if income < 0:\n",
    "        return -1\n",
    "    elif income < 45542.97:\n",
    "        return 1\n",
    "    elif income < 57629.67:\n",
    "        return 2\n",
    "    elif income < 68211.78:\n",
    "        return 3\n",
    "    elif income < 78852.39:\n",
    "        return 4\n",
    "    elif income < 90461.97:\n",
    "        return 5\n",
    "    elif income < 103855.23:\n",
    "        return 6\n",
    "    elif income < 120063.00:\n",
    "        return 7\n",
    "    elif income < 141347.49:\n",
    "        return 8\n",
    "    elif income < 173418.36:\n",
    "        return 9\n",
    "    elif income < 234687.12:\n",
    "        return 10\n",
    "    else:\n",
    "        return 11"
   ]
  },
  {
   "cell_type": "code",
   "execution_count": 258,
   "metadata": {
    "collapsed": false
   },
   "outputs": [
    {
     "name": "stdout",
     "output_type": "stream",
     "text": [
      "0.69314718056 1.0\n",
      "5.53012015292e-07 [  1.45519152e-11   7.27595761e-12   0.00000000e+00 ...,   8.88178420e-16\n",
      "   0.00000000e+00   4.44089210e-16]\n",
      "5.52997463377e-07 [  0.00000000e+00   4.44089210e-16   0.00000000e+00 ...,   7.27595761e-12\n",
      "   0.00000000e+00   7.27595761e-12]\n"
     ]
    }
   ],
   "source": [
    "A = 1.0\n",
    "B = 1.0\n",
    "def transform_target(x):\n",
    "    return np.sign(x) * np.log(np.abs(x) * 1.0 / A + B )\n",
    "\n",
    "def inv_transform_target(y):\n",
    "    return np.sign(y)*(np.exp(np.abs(y)) - B) * A\n",
    "\n",
    "\n",
    "#\n",
    "# log(x / a + b) = y  ->  x/a = exp(y) - b\n",
    "#\n",
    "x = 1 \n",
    "print transform_target(x), inv_transform_target(transform_target(x))\n",
    "\n",
    "x_neg = np.arange(-50000, -1, 1)\n",
    "x_pos = np.arange(1, 50000, 1)\n",
    "\n",
    "diff = np.abs(inv_transform_target(transform_target(x_neg)) - x_neg)\n",
    "print np.sum(diff), diff\n",
    "diff = np.abs(inv_transform_target(transform_target(x_pos)) - x_pos)\n",
    "print np.sum(diff), diff"
   ]
  },
  {
   "cell_type": "code",
   "execution_count": 259,
   "metadata": {
    "collapsed": true
   },
   "outputs": [],
   "source": [
    "active_clients_mask = ~train_df['diff'].isin([0, -16777216])"
   ]
  },
  {
   "cell_type": "code",
   "execution_count": 260,
   "metadata": {
    "collapsed": false
   },
   "outputs": [
    {
     "data": {
      "text/plain": [
       "<matplotlib.axes._subplots.AxesSubplot at 0x12e95dd10>"
      ]
     },
     "execution_count": 260,
     "metadata": {},
     "output_type": "execute_result"
    },
    {
     "data": {
      "image/png": "[encoded data removed]",
      "text/plain": [
       "<matplotlib.figure.Figure at 0x147ce8bd0>"
      ]
     },
     "metadata": {},
     "output_type": "display_data"
    }
   ],
   "source": [
    "train_df[active_clients_mask]['diff'].apply(transform_target).hist(bins=50)"
   ]
  },
  {
   "cell_type": "code",
   "execution_count": 264,
   "metadata": {
    "collapsed": false,
    "scrolled": true
   },
   "outputs": [
    {
     "data": {
      "text/plain": [
       "<matplotlib.axes._subplots.AxesSubplot at 0x145ceae50>"
      ]
     },
     "execution_count": 264,
     "metadata": {},
     "output_type": "execute_result"
    },
    {
     "data": {
      "image/png": "[encoded data removed]",
      "text/plain": [
       "<matplotlib.figure.Figure at 0x145ce1b10>"
      ]
     },
     "metadata": {},
     "output_type": "display_data"
    }
   ],
   "source": [
    "#train_df[active_clients_mask]['targets_dec'].apply(transform_target).hist(bins=50)"
   ]
  },
  {
   "cell_type": "code",
   "execution_count": 265,
   "metadata": {
    "collapsed": true
   },
   "outputs": [],
   "source": [
    "train_fe_df = train_df.copy()\n",
    "train_fe_df.loc[:,'age'] = train_df['age'].apply(get_age_group_index)\n",
    "train_fe_df.loc[:,'renta'] = train_df['renta'].apply(get_income_group_index)\n",
    "train_fe_df.loc[:,'diff'] = train_df[active_clients_mask]['diff'].apply(transform_diff)\n",
    "#train_fe_df.loc[:,'targets_dec'] = train_df[active_clients_mask]['targets_dec'].apply(transform_diff)"
   ]
  },
  {
   "cell_type": "code",
   "execution_count": 266,
   "metadata": {
    "collapsed": false
   },
   "outputs": [
    {
     "data": {
      "text/html": [
       "<div>\n",
       "<table border=\"1\" class=\"dataframe\">\n",
       "  <thead>\n",
       "    <tr style=\"text-align: right;\">\n",
       "      <th></th>\n",
       "      <th>age</th>\n",
       "      <th>renta</th>\n",
       "      <th>diff</th>\n",
       "      <th>targets_dec</th>\n",
       "    </tr>\n",
       "  </thead>\n",
       "  <tbody>\n",
       "    <tr>\n",
       "      <th>1048512</th>\n",
       "      <td>13</td>\n",
       "      <td>11</td>\n",
       "      <td>0.693147</td>\n",
       "      <td>2132017</td>\n",
       "    </tr>\n",
       "    <tr>\n",
       "      <th>1466735</th>\n",
       "      <td>13</td>\n",
       "      <td>11</td>\n",
       "      <td>-0.693147</td>\n",
       "      <td>2132016</td>\n",
       "    </tr>\n",
       "    <tr>\n",
       "      <th>2308256</th>\n",
       "      <td>13</td>\n",
       "      <td>11</td>\n",
       "      <td>0.693147</td>\n",
       "      <td>2132017</td>\n",
       "    </tr>\n",
       "    <tr>\n",
       "      <th>4380328</th>\n",
       "      <td>13</td>\n",
       "      <td>11</td>\n",
       "      <td>0.693147</td>\n",
       "      <td>2132017</td>\n",
       "    </tr>\n",
       "    <tr>\n",
       "      <th>5430454</th>\n",
       "      <td>13</td>\n",
       "      <td>11</td>\n",
       "      <td>-0.693147</td>\n",
       "      <td>2132016</td>\n",
       "    </tr>\n",
       "  </tbody>\n",
       "</table>\n",
       "</div>"
      ],
      "text/plain": [
       "         age  renta      diff  targets_dec\n",
       "1048512   13     11  0.693147      2132017\n",
       "1466735   13     11 -0.693147      2132016\n",
       "2308256   13     11  0.693147      2132017\n",
       "4380328   13     11  0.693147      2132017\n",
       "5430454   13     11 -0.693147      2132016"
      ]
     },
     "execution_count": 266,
     "metadata": {},
     "output_type": "execute_result"
    }
   ],
   "source": [
    "train_fe_df[active_clients_mask][['age', 'renta', 'diff', 'targets_dec']].head()"
   ]
  },
  {
   "cell_type": "markdown",
   "metadata": {},
   "source": [
    "### Train a model"
   ]
  },
  {
   "cell_type": "markdown",
   "metadata": {
    "collapsed": true
   },
   "source": [
    "We can train over client features to predict products difference `diff`. \n",
    "\n",
    "``` python\n",
    "for MM in ['04', '05']:\n",
    "    X = [ Features | 'diff', abs('diff') ](2015-MM) #+ [ Diff Features ](2015-MM,2016-MM) \n",
    "    Y = [ 'diff', abs('diff') ](2016-MM)\n",
    "    CrossVal()\n",
    "```"
   ]
  },
  {
   "cell_type": "code",
   "execution_count": 267,
   "metadata": {
    "collapsed": true
   },
   "outputs": [],
   "source": [
    "def get_common_clients(df, mask1, mask2):\n",
    "    active_clients1 = df[mask1]['ncodpers'].unique()\n",
    "    active_clients2 = df[mask2]['ncodpers'].unique()\n",
    "    active_clients = list(set(active_clients1) & set(active_clients2)) \n",
    "    return train_df['ncodpers'].isin(active_clients)"
   ]
  },
  {
   "cell_type": "code",
   "execution_count": 268,
   "metadata": {
    "collapsed": false
   },
   "outputs": [],
   "source": [
    "active_clients_mask = ~train_df['diff'].isin([0, -16777216])"
   ]
  },
  {
   "cell_type": "code",
   "execution_count": 269,
   "metadata": {
    "collapsed": false
   },
   "outputs": [
    {
     "name": "stdout",
     "output_type": "stream",
     "text": [
      "(399976,) 20197\n"
     ]
    }
   ],
   "source": [
    "print active_clients_mask.shape, active_clients_mask.sum()"
   ]
  },
  {
   "cell_type": "code",
   "execution_count": 270,
   "metadata": {
    "collapsed": false
   },
   "outputs": [],
   "source": [
    "current_month = 201503\n",
    "next_year_month = current_month + 100\n",
    "month_mask = train_df['fecha_dato'] == months_ym_map[current_month]\n",
    "next_year_month_mask = train_df['fecha_dato'] == months_ym_map[next_year_month]"
   ]
  },
  {
   "cell_type": "code",
   "execution_count": 271,
   "metadata": {
    "collapsed": false
   },
   "outputs": [
    {
     "name": "stdout",
     "output_type": "stream",
     "text": [
      "(399976,) 3530\n",
      "(399976,) 3186\n"
     ]
    }
   ],
   "source": [
    "print (month_mask & active_clients_mask).shape, (month_mask & active_clients_mask).sum()\n",
    "print (next_year_month_mask & active_clients_mask).shape, (next_year_month_mask & active_clients_mask).sum()"
   ]
  },
  {
   "cell_type": "code",
   "execution_count": 272,
   "metadata": {
    "collapsed": false
   },
   "outputs": [
    {
     "name": "stdout",
     "output_type": "stream",
     "text": [
      "(399976,) 8280\n",
      "(399976,) 1035\n",
      "(399976,) 1035\n"
     ]
    }
   ],
   "source": [
    "active_clients_mask2 = get_common_clients(train_df, month_mask & active_clients_mask, next_year_month_mask & active_clients_mask)\n",
    "print active_clients_mask2.shape, active_clients_mask2.sum()\n",
    "print (month_mask & active_clients_mask2).shape, (month_mask & active_clients_mask2).sum()\n",
    "print (next_year_month_mask & active_clients_mask2).shape, (next_year_month_mask & active_clients_mask2).sum()"
   ]
  },
  {
   "cell_type": "code",
   "execution_count": 273,
   "metadata": {
    "collapsed": false
   },
   "outputs": [],
   "source": [
    "X = train_fe_df[month_mask & active_clients_mask2][['ncodpers', 'fecha_dato', 'diff', 'targets_dec'] + features]\n",
    "Y = train_fe_df[next_year_month_mask & active_clients_mask2][['ncodpers', 'fecha_dato', 'diff', 'targets_dec']]"
   ]
  },
  {
   "cell_type": "code",
   "execution_count": 274,
   "metadata": {
    "collapsed": false
   },
   "outputs": [
    {
     "name": "stdout",
     "output_type": "stream",
     "text": [
      "(1035, 23)\n"
     ]
    },
    {
     "data": {
      "text/html": [
       "<div>\n",
       "<table border=\"1\" class=\"dataframe\">\n",
       "  <thead>\n",
       "    <tr style=\"text-align: right;\">\n",
       "      <th></th>\n",
       "      <th>ncodpers</th>\n",
       "      <th>fecha_dato</th>\n",
       "      <th>diff</th>\n",
       "      <th>targets_dec</th>\n",
       "      <th>ind_empleado</th>\n",
       "      <th>pais_residencia</th>\n",
       "      <th>sexo</th>\n",
       "      <th>age</th>\n",
       "      <th>ind_nuevo</th>\n",
       "      <th>antiguedad</th>\n",
       "      <th>...</th>\n",
       "      <th>tiprel_1mes</th>\n",
       "      <th>indresi</th>\n",
       "      <th>indext</th>\n",
       "      <th>conyuemp</th>\n",
       "      <th>canal_entrada</th>\n",
       "      <th>indfall</th>\n",
       "      <th>nomprov</th>\n",
       "      <th>ind_actividad_cliente</th>\n",
       "      <th>renta</th>\n",
       "      <th>segmento</th>\n",
       "    </tr>\n",
       "  </thead>\n",
       "  <tbody>\n",
       "    <tr>\n",
       "      <th>1048512</th>\n",
       "      <td>15929</td>\n",
       "      <td>2015-03-28</td>\n",
       "      <td>0.693147</td>\n",
       "      <td>2132017</td>\n",
       "      <td>3</td>\n",
       "      <td>0</td>\n",
       "      <td>1</td>\n",
       "      <td>13</td>\n",
       "      <td>0</td>\n",
       "      <td>242</td>\n",
       "      <td>...</td>\n",
       "      <td>0</td>\n",
       "      <td>0</td>\n",
       "      <td>0</td>\n",
       "      <td>1</td>\n",
       "      <td>1</td>\n",
       "      <td>0</td>\n",
       "      <td>1</td>\n",
       "      <td>1.0</td>\n",
       "      <td>11</td>\n",
       "      <td>0</td>\n",
       "    </tr>\n",
       "    <tr>\n",
       "      <th>1048345</th>\n",
       "      <td>16152</td>\n",
       "      <td>2015-03-28</td>\n",
       "      <td>1.945910</td>\n",
       "      <td>524391</td>\n",
       "      <td>0</td>\n",
       "      <td>0</td>\n",
       "      <td>0</td>\n",
       "      <td>10</td>\n",
       "      <td>0</td>\n",
       "      <td>241</td>\n",
       "      <td>...</td>\n",
       "      <td>0</td>\n",
       "      <td>0</td>\n",
       "      <td>0</td>\n",
       "      <td>0</td>\n",
       "      <td>1</td>\n",
       "      <td>0</td>\n",
       "      <td>1</td>\n",
       "      <td>1.0</td>\n",
       "      <td>11</td>\n",
       "      <td>0</td>\n",
       "    </tr>\n",
       "    <tr>\n",
       "      <th>1048178</th>\n",
       "      <td>18082</td>\n",
       "      <td>2015-03-28</td>\n",
       "      <td>0.693147</td>\n",
       "      <td>2099201</td>\n",
       "      <td>0</td>\n",
       "      <td>0</td>\n",
       "      <td>1</td>\n",
       "      <td>13</td>\n",
       "      <td>0</td>\n",
       "      <td>216</td>\n",
       "      <td>...</td>\n",
       "      <td>0</td>\n",
       "      <td>0</td>\n",
       "      <td>0</td>\n",
       "      <td>0</td>\n",
       "      <td>1</td>\n",
       "      <td>0</td>\n",
       "      <td>1</td>\n",
       "      <td>1.0</td>\n",
       "      <td>11</td>\n",
       "      <td>0</td>\n",
       "    </tr>\n",
       "    <tr>\n",
       "      <th>1048127</th>\n",
       "      <td>18603</td>\n",
       "      <td>2015-03-28</td>\n",
       "      <td>-0.693147</td>\n",
       "      <td>526400</td>\n",
       "      <td>0</td>\n",
       "      <td>0</td>\n",
       "      <td>0</td>\n",
       "      <td>8</td>\n",
       "      <td>0</td>\n",
       "      <td>237</td>\n",
       "      <td>...</td>\n",
       "      <td>0</td>\n",
       "      <td>0</td>\n",
       "      <td>0</td>\n",
       "      <td>0</td>\n",
       "      <td>1</td>\n",
       "      <td>0</td>\n",
       "      <td>17</td>\n",
       "      <td>1.0</td>\n",
       "      <td>-1</td>\n",
       "      <td>0</td>\n",
       "    </tr>\n",
       "    <tr>\n",
       "      <th>1049707</th>\n",
       "      <td>18921</td>\n",
       "      <td>2015-03-28</td>\n",
       "      <td>13.169810</td>\n",
       "      <td>526598</td>\n",
       "      <td>0</td>\n",
       "      <td>0</td>\n",
       "      <td>1</td>\n",
       "      <td>9</td>\n",
       "      <td>0</td>\n",
       "      <td>237</td>\n",
       "      <td>...</td>\n",
       "      <td>0</td>\n",
       "      <td>0</td>\n",
       "      <td>0</td>\n",
       "      <td>0</td>\n",
       "      <td>1</td>\n",
       "      <td>0</td>\n",
       "      <td>1</td>\n",
       "      <td>1.0</td>\n",
       "      <td>11</td>\n",
       "      <td>1</td>\n",
       "    </tr>\n",
       "    <tr>\n",
       "      <th>1049805</th>\n",
       "      <td>18970</td>\n",
       "      <td>2015-03-28</td>\n",
       "      <td>14.556091</td>\n",
       "      <td>2195553</td>\n",
       "      <td>0</td>\n",
       "      <td>0</td>\n",
       "      <td>1</td>\n",
       "      <td>7</td>\n",
       "      <td>0</td>\n",
       "      <td>229</td>\n",
       "      <td>...</td>\n",
       "      <td>0</td>\n",
       "      <td>0</td>\n",
       "      <td>0</td>\n",
       "      <td>0</td>\n",
       "      <td>1</td>\n",
       "      <td>0</td>\n",
       "      <td>1</td>\n",
       "      <td>1.0</td>\n",
       "      <td>11</td>\n",
       "      <td>0</td>\n",
       "    </tr>\n",
       "    <tr>\n",
       "      <th>1050020</th>\n",
       "      <td>19706</td>\n",
       "      <td>2015-03-28</td>\n",
       "      <td>10.397238</td>\n",
       "      <td>624755</td>\n",
       "      <td>0</td>\n",
       "      <td>0</td>\n",
       "      <td>0</td>\n",
       "      <td>12</td>\n",
       "      <td>0</td>\n",
       "      <td>237</td>\n",
       "      <td>...</td>\n",
       "      <td>0</td>\n",
       "      <td>0</td>\n",
       "      <td>0</td>\n",
       "      <td>0</td>\n",
       "      <td>1</td>\n",
       "      <td>0</td>\n",
       "      <td>2</td>\n",
       "      <td>1.0</td>\n",
       "      <td>10</td>\n",
       "      <td>1</td>\n",
       "    </tr>\n",
       "    <tr>\n",
       "      <th>1049939</th>\n",
       "      <td>20377</td>\n",
       "      <td>2015-03-28</td>\n",
       "      <td>1.945910</td>\n",
       "      <td>2097255</td>\n",
       "      <td>0</td>\n",
       "      <td>0</td>\n",
       "      <td>0</td>\n",
       "      <td>11</td>\n",
       "      <td>0</td>\n",
       "      <td>160</td>\n",
       "      <td>...</td>\n",
       "      <td>0</td>\n",
       "      <td>0</td>\n",
       "      <td>0</td>\n",
       "      <td>0</td>\n",
       "      <td>11</td>\n",
       "      <td>0</td>\n",
       "      <td>3</td>\n",
       "      <td>1.0</td>\n",
       "      <td>11</td>\n",
       "      <td>0</td>\n",
       "    </tr>\n",
       "    <tr>\n",
       "      <th>1048919</th>\n",
       "      <td>20953</td>\n",
       "      <td>2015-03-28</td>\n",
       "      <td>0.693147</td>\n",
       "      <td>524353</td>\n",
       "      <td>0</td>\n",
       "      <td>0</td>\n",
       "      <td>0</td>\n",
       "      <td>9</td>\n",
       "      <td>0</td>\n",
       "      <td>215</td>\n",
       "      <td>...</td>\n",
       "      <td>0</td>\n",
       "      <td>0</td>\n",
       "      <td>0</td>\n",
       "      <td>0</td>\n",
       "      <td>1</td>\n",
       "      <td>0</td>\n",
       "      <td>1</td>\n",
       "      <td>1.0</td>\n",
       "      <td>11</td>\n",
       "      <td>0</td>\n",
       "    </tr>\n",
       "    <tr>\n",
       "      <th>1045424</th>\n",
       "      <td>23643</td>\n",
       "      <td>2015-03-28</td>\n",
       "      <td>-2.833213</td>\n",
       "      <td>524391</td>\n",
       "      <td>0</td>\n",
       "      <td>0</td>\n",
       "      <td>0</td>\n",
       "      <td>9</td>\n",
       "      <td>0</td>\n",
       "      <td>229</td>\n",
       "      <td>...</td>\n",
       "      <td>0</td>\n",
       "      <td>0</td>\n",
       "      <td>0</td>\n",
       "      <td>0</td>\n",
       "      <td>1</td>\n",
       "      <td>0</td>\n",
       "      <td>1</td>\n",
       "      <td>1.0</td>\n",
       "      <td>10</td>\n",
       "      <td>0</td>\n",
       "    </tr>\n",
       "  </tbody>\n",
       "</table>\n",
       "<p>10 rows × 23 columns</p>\n",
       "</div>"
      ],
      "text/plain": [
       "         ncodpers  fecha_dato       diff  targets_dec  ind_empleado  \\\n",
       "1048512     15929  2015-03-28   0.693147      2132017             3   \n",
       "1048345     16152  2015-03-28   1.945910       524391             0   \n",
       "1048178     18082  2015-03-28   0.693147      2099201             0   \n",
       "1048127     18603  2015-03-28  -0.693147       526400             0   \n",
       "1049707     18921  2015-03-28  13.169810       526598             0   \n",
       "1049805     18970  2015-03-28  14.556091      2195553             0   \n",
       "1050020     19706  2015-03-28  10.397238       624755             0   \n",
       "1049939     20377  2015-03-28   1.945910      2097255             0   \n",
       "1048919     20953  2015-03-28   0.693147       524353             0   \n",
       "1045424     23643  2015-03-28  -2.833213       524391             0   \n",
       "\n",
       "         pais_residencia  sexo  age  ind_nuevo  antiguedad    ...     \\\n",
       "1048512                0     1   13          0         242    ...      \n",
       "1048345                0     0   10          0         241    ...      \n",
       "1048178                0     1   13          0         216    ...      \n",
       "1048127                0     0    8          0         237    ...      \n",
       "1049707                0     1    9          0         237    ...      \n",
       "1049805                0     1    7          0         229    ...      \n",
       "1050020                0     0   12          0         237    ...      \n",
       "1049939                0     0   11          0         160    ...      \n",
       "1048919                0     0    9          0         215    ...      \n",
       "1045424                0     0    9          0         229    ...      \n",
       "\n",
       "         tiprel_1mes  indresi  indext  conyuemp  canal_entrada  indfall  \\\n",
       "1048512            0        0       0         1              1        0   \n",
       "1048345            0        0       0         0              1        0   \n",
       "1048178            0        0       0         0              1        0   \n",
       "1048127            0        0       0         0              1        0   \n",
       "1049707            0        0       0         0              1        0   \n",
       "1049805            0        0       0         0              1        0   \n",
       "1050020            0        0       0         0              1        0   \n",
       "1049939            0        0       0         0             11        0   \n",
       "1048919            0        0       0         0              1        0   \n",
       "1045424            0        0       0         0              1        0   \n",
       "\n",
       "         nomprov  ind_actividad_cliente  renta  segmento  \n",
       "1048512        1                    1.0     11         0  \n",
       "1048345        1                    1.0     11         0  \n",
       "1048178        1                    1.0     11         0  \n",
       "1048127       17                    1.0     -1         0  \n",
       "1049707        1                    1.0     11         1  \n",
       "1049805        1                    1.0     11         0  \n",
       "1050020        2                    1.0     10         1  \n",
       "1049939        3                    1.0     11         0  \n",
       "1048919        1                    1.0     11         0  \n",
       "1045424        1                    1.0     10         0  \n",
       "\n",
       "[10 rows x 23 columns]"
      ]
     },
     "execution_count": 274,
     "metadata": {},
     "output_type": "execute_result"
    }
   ],
   "source": [
    "print X.shape\n",
    "X.head(10)"
   ]
  },
  {
   "cell_type": "code",
   "execution_count": 275,
   "metadata": {
    "collapsed": false
   },
   "outputs": [
    {
     "name": "stdout",
     "output_type": "stream",
     "text": [
      "(1035, 4)\n"
     ]
    },
    {
     "data": {
      "text/html": [
       "<div>\n",
       "<table border=\"1\" class=\"dataframe\">\n",
       "  <thead>\n",
       "    <tr style=\"text-align: right;\">\n",
       "      <th></th>\n",
       "      <th>ncodpers</th>\n",
       "      <th>fecha_dato</th>\n",
       "      <th>diff</th>\n",
       "      <th>targets_dec</th>\n",
       "    </tr>\n",
       "  </thead>\n",
       "  <tbody>\n",
       "    <tr>\n",
       "      <th>4380328</th>\n",
       "      <td>15929</td>\n",
       "      <td>2016-03-28</td>\n",
       "      <td>0.693147</td>\n",
       "      <td>2132017</td>\n",
       "    </tr>\n",
       "    <tr>\n",
       "      <th>4380341</th>\n",
       "      <td>16152</td>\n",
       "      <td>2016-03-28</td>\n",
       "      <td>1.945910</td>\n",
       "      <td>524391</td>\n",
       "    </tr>\n",
       "    <tr>\n",
       "      <th>4379147</th>\n",
       "      <td>18082</td>\n",
       "      <td>2016-03-28</td>\n",
       "      <td>-0.693147</td>\n",
       "      <td>2099200</td>\n",
       "    </tr>\n",
       "    <tr>\n",
       "      <th>4379953</th>\n",
       "      <td>18603</td>\n",
       "      <td>2016-03-28</td>\n",
       "      <td>-0.693147</td>\n",
       "      <td>2099264</td>\n",
       "    </tr>\n",
       "    <tr>\n",
       "      <th>4379648</th>\n",
       "      <td>18921</td>\n",
       "      <td>2016-03-28</td>\n",
       "      <td>-13.169798</td>\n",
       "      <td>2326</td>\n",
       "    </tr>\n",
       "    <tr>\n",
       "      <th>4379567</th>\n",
       "      <td>18970</td>\n",
       "      <td>2016-03-28</td>\n",
       "      <td>-14.556091</td>\n",
       "      <td>98401</td>\n",
       "    </tr>\n",
       "    <tr>\n",
       "      <th>4382197</th>\n",
       "      <td>19706</td>\n",
       "      <td>2016-03-28</td>\n",
       "      <td>-1.098612</td>\n",
       "      <td>526449</td>\n",
       "    </tr>\n",
       "    <tr>\n",
       "      <th>4382506</th>\n",
       "      <td>20377</td>\n",
       "      <td>2016-03-28</td>\n",
       "      <td>-3.496508</td>\n",
       "      <td>524353</td>\n",
       "    </tr>\n",
       "    <tr>\n",
       "      <th>4382435</th>\n",
       "      <td>20953</td>\n",
       "      <td>2016-03-28</td>\n",
       "      <td>0.693147</td>\n",
       "      <td>524353</td>\n",
       "    </tr>\n",
       "    <tr>\n",
       "      <th>4376569</th>\n",
       "      <td>23643</td>\n",
       "      <td>2016-03-28</td>\n",
       "      <td>0.693147</td>\n",
       "      <td>97</td>\n",
       "    </tr>\n",
       "  </tbody>\n",
       "</table>\n",
       "</div>"
      ],
      "text/plain": [
       "         ncodpers  fecha_dato       diff  targets_dec\n",
       "4380328     15929  2016-03-28   0.693147      2132017\n",
       "4380341     16152  2016-03-28   1.945910       524391\n",
       "4379147     18082  2016-03-28  -0.693147      2099200\n",
       "4379953     18603  2016-03-28  -0.693147      2099264\n",
       "4379648     18921  2016-03-28 -13.169798         2326\n",
       "4379567     18970  2016-03-28 -14.556091        98401\n",
       "4382197     19706  2016-03-28  -1.098612       526449\n",
       "4382506     20377  2016-03-28  -3.496508       524353\n",
       "4382435     20953  2016-03-28   0.693147       524353\n",
       "4376569     23643  2016-03-28   0.693147           97"
      ]
     },
     "execution_count": 275,
     "metadata": {},
     "output_type": "execute_result"
    }
   ],
   "source": [
    "print Y.shape\n",
    "Y.head(10)"
   ]
  },
  {
   "cell_type": "code",
   "execution_count": null,
   "metadata": {
    "collapsed": true
   },
   "outputs": [],
   "source": []
  },
  {
   "cell_type": "markdown",
   "metadata": {},
   "source": [
    "### Run KFold Cross-validation "
   ]
  },
  {
   "cell_type": "code",
   "execution_count": null,
   "metadata": {
    "collapsed": false
   },
   "outputs": [],
   "source": [
    "def create_model(input_dim):\n",
    "        \n",
    "    model = Sequential()\n",
    "    model.add(Dense(input_dim, init='uniform', input_dim=input_dim, activation='relu'))\n",
    "    model.add(Dropout(0.10))\n",
    "    model.add(Dense(50, activation='relu', init='normal'))\n",
    "    model.add(Dropout(0.10))\n",
    "    model.add(Dense(30, activation='relu', init='normal'))\n",
    "    model.add(Dropout(0.10))\n",
    "    model.add(Dense(1, init='normal'))\n",
    "    # for a mean squared error regression problem\n",
    "    model.compile(optimizer='rmsprop', loss='mse', metrics=['accuracy'])\n",
    "    return model"
   ]
  },
  {
   "cell_type": "code",
   "execution_count": null,
   "metadata": {
    "collapsed": false
   },
   "outputs": [],
   "source": [
    "# CROSS VALIDATION\n",
    "from sklearn.preprocessing import StandardScaler\n",
    "n_highest = 7\n",
    "\n",
    "def prepare_to_fit(X_train, Y_train):\n",
    "    # Select only active client for the training part\n",
    "    mask = X_train['diff'] > 0\n",
    "    x_train = X_train[mask].drop(['diff'], axis=1).values\n",
    "    y_train = Y_train[mask][TARGET_LABELS].values\n",
    "    x_train = StandardScaler().fit_transform(x_train)\n",
    "    return x_train, y_train\n",
    "\n",
    "def prepare_to_fit_nomask(X_train, Y_train):\n",
    "    y_train = Y_train[TARGET_LABELS].values\n",
    "    x_train = X_train.drop(['diff'], axis=1).values\n",
    "    x_train = StandardScaler().fit_transform(x_train)\n",
    "    return x_train, y_train\n",
    "\n",
    "def prepare_to_test(X_val, Y_val=None):\n",
    "    if Y_val is not None:\n",
    "        y_val = Y_val[TARGET_LABELS].values\n",
    "    \n",
    "    x_val = []\n",
    "    x_val = X_val.drop(['diff'], axis=1).values    \n",
    "    x_val = StandardScaler().fit_transform(x_val)  \n",
    "    \n",
    "    if Y_val is not None:\n",
    "        return x_val, y_val\n",
    "    else:\n",
    "        return x_val\n",
    "\n",
    "def cross_val_score2(data, \n",
    "                     nb_folds=5, \n",
    "                     prepare_to_fit_func=prepare_to_fit, \n",
    "                     prepare_to_test_func=prepare_to_test, \n",
    "                     create_model_func=create_model):\n",
    "    \n",
    "    x_df, y_df, clients_last_choice_df = data\n",
    "    kf = KFold(n_splits=nb_folds)\n",
    "    scores = []\n",
    "    \n",
    "    for train_index, test_index in kf.split(range(x_df.shape[0])):\n",
    "        X_train, X_val = x_df.loc[x_df.index[train_index], :], x_df.loc[x_df.index[test_index], :]\n",
    "        Y_train, Y_val = y_df.loc[y_df.index[train_index], :], y_df.loc[y_df.index[test_index], :]\n",
    "        CLC_val = clients_last_choice_df.loc[clients_last_choice_df.index[test_index], :]\n",
    "                \n",
    "        x_train, y_train = prepare_to_fit_func(X_train, Y_train)\n",
    "        x_val, y_val = prepare_to_test_func(X_val, Y_val)\n",
    "        \n",
    "        logging.info(\"- Train/Val shapes : {}, {} | {}, {}\".format(\n",
    "                [i.shape for i in x_train] if isinstance(x_train, list) else x_train.shape, \n",
    "                [i.shape for i in x_val] if isinstance(x_val, list) else x_val.shape, \n",
    "                y_train.shape, \n",
    "                y_val.shape)\n",
    "        )                \n",
    "            \n",
    "        logging.info(\"- Create the model : \")\n",
    "        estimator = create_model_func(x_train.shape[1], len(TARGET_LABELS))\n",
    "        logging.info(\"- Fit the model\")\n",
    "        hist = estimator.fit(x_train, y_train, nb_epoch=250, batch_size=5000, verbose=0)        \n",
    "        for key in hist.history:            \n",
    "            logging.info(\"-- %s : min=%f, max=%f\" % (key, np.min(hist.history[key]), np.max(hist.history[key])))\n",
    "        \n",
    "        logging.info(\"- Predict using trained model\")\n",
    "        y_pred = estimator.predict(x_val, verbose=0)\n",
    "        logging.info(\"- Compute map7 score\")\n",
    "        scores.append(map7_score2(y_val, y_pred, CLC_val[TARGET_LABELS].values))        \n",
    "    \n",
    "    return np.array(scores)"
   ]
  },
  {
   "cell_type": "code",
   "execution_count": null,
   "metadata": {
    "collapsed": false
   },
   "outputs": [],
   "source": [
    "results = cross_val_score2((X.drop(['ncodpers'], axis=1), Y, clients_last_choice), \n",
    "                           nb_folds=nb_folds)\n",
    "print \"Cross-Validation \\n %i | %f | %f | %f | %.5f \" % (nb_folds, results.min(), results.mean(), results.max(), results.std())"
   ]
  },
  {
   "cell_type": "markdown",
   "metadata": {
    "collapsed": true
   },
   "source": [
    "### Test 1 : Train on active clients + feature engineering\n",
    "\n",
    "#### Data: \n",
    "\n",
    "- yearmonth_list = [201505, 201506]\n",
    "- nb_clients = 250000\n",
    "\n",
    "#### Feature engineering\n",
    "\n",
    "- age -> age group\n",
    "- income -> income group\n",
    "\n",
    "\n",
    "#### Model\n",
    "\n",
    "- 75 -> 50 -> 30 ->\n",
    "- sigmoid, binary_crossentropy, nadam, accuracy, \n",
    "\n",
    "**Conf:**\n",
    "- batch_size=2000\n",
    "\n",
    "*Cross-validation results :* \n",
    "\n",
    " Nb epoch | Nb folds | Min MAP@7 | Mean MAP@7 | Max MAP@7 | STD MAP@7\n",
    " --- | --- | --- | --- | --- | ---\n",
    " 150 | 3 | 0.025659 | 0.029959 | 0.037639 | 0.00544 \n",
    "\n",
    "\n",
    "#### Model 1 \n",
    "\n",
    "- 50 -> 30 ->\n",
    "- sigmoid, binary_crossentropy, nadam, accuracy, \n",
    "\n",
    "**Conf:**\n",
    "- batch_size=2000\n",
    "\n",
    "*Cross-validation results :* \n",
    "\n",
    " Nb epoch | Nb folds | Min MAP@7 | Mean MAP@7 | Max MAP@7 | STD MAP@7\n",
    " --- | --- | --- | --- | --- | ---\n",
    " 150 | 3 | 0.025802 | 0.030137 | 0.037217 | 0.00505 \n",
    "\n",
    "\n",
    "Kaggle : 0.0197579"
   ]
  },
  {
   "cell_type": "markdown",
   "metadata": {
    "collapsed": true
   },
   "source": [
    "## Train model for predictions"
   ]
  },
  {
   "cell_type": "code",
   "execution_count": null,
   "metadata": {
    "collapsed": false,
    "scrolled": true
   },
   "outputs": [],
   "source": [
    "def train_model(X_train, Y_train):\n",
    "\n",
    "    x_train, y_train = prepare_to_fit(X_train, Y_train)\n",
    "    logging.info(\"- Train data shapes : {}, {}\".format(\n",
    "            [i.shape for i in x_train] if isinstance(x_train, list) else x_train.shape, \n",
    "            y_train.shape)\n",
    "    )                \n",
    "\n",
    "    logging.info(\"- Create the model\")\n",
    "    \n",
    "    estimator = create_model(x_train.shape[1], len(TARGET_LABELS))\n",
    "    logging.info(\"- Fit the model\")\n",
    "    hist = estimator.fit(x_train, y_train, nb_epoch=150, batch_size=2000, verbose=0)        \n",
    "    for key in hist.history:            \n",
    "        logging.info(\"-- %s : min=%f, max=%f\" % (key, np.min(hist.history[key]), np.max(hist.history[key])))\n",
    "    return estimator\n",
    "\n",
    "estimator = train_model(X[['diff'] + features], Y)"
   ]
  },
  {
   "cell_type": "markdown",
   "metadata": {
    "collapsed": true
   },
   "source": [
    "Check score on the data 2016"
   ]
  },
  {
   "cell_type": "code",
   "execution_count": null,
   "metadata": {
    "collapsed": true
   },
   "outputs": [],
   "source": [
    "yearmonth_list = [201604, 201605] \n",
    "nb_months = len(yearmonth_list)\n",
    "nb_clients = 'max'"
   ]
  },
  {
   "cell_type": "code",
   "execution_count": null,
   "metadata": {
    "collapsed": false
   },
   "outputs": [],
   "source": [
    "val_df = load_data2(TRAIN_FILE_PATH, yearmonth_list, nb_clients)\n",
    "minimal_clean_data_inplace(val_df)\n",
    "preprocess_data_inplace(val_df)\n",
    "\n",
    "months = val_df['fecha_dato'].unique()\n",
    "clients = val_df['ncodpers'].unique()\n",
    "assert len(clients) == (val_df['ncodpers'].value_counts() == nb_months).sum()\n",
    "ll = len(clients)\n",
    "for m in months:\n",
    "    l = len(val_df[val_df['fecha_dato'] == m]['ncodpers'].unique())\n",
    "    assert l == ll, \"Number of clients should be identical for all monthes. (%s, %s, %s)\" % (m, l, ll)"
   ]
  },
  {
   "cell_type": "code",
   "execution_count": null,
   "metadata": {
    "collapsed": true
   },
   "outputs": [],
   "source": [
    "val_df = val_df.sort_values(['fecha_dato', 'ncodpers'])\n",
    "last_choice_mask = val_df['fecha_dato'] == months[-2]\n",
    "train_month_mask = trainval_df['fecha_dato'] == months[-1]"
   ]
  },
  {
   "cell_type": "code",
   "execution_count": null,
   "metadata": {
    "collapsed": false
   },
   "outputs": [],
   "source": [
    "def add_diff_inplace(df, last_choice_mask, train_month_mask):\n",
    "    tmp_df = df[['fecha_dato','ncodpers']]\n",
    "    tmp_df.loc[:,'target'] = df[TARGET_LABELS].sum(axis=1)\n",
    "    v1 = tmp_df[train_month_mask]['target'].values\n",
    "    v2 = tmp_df[last_choice_mask]['target'].values\n",
    "    ll = min(len(v1), len(v2))\n",
    "    indices = tmp_df.index[ll:]\n",
    "    df.loc[indices,'diff'] = pd.Series(v1 - v2, index=indices)\n",
    "    del tmp_df, v1, v2"
   ]
  },
  {
   "cell_type": "code",
   "execution_count": null,
   "metadata": {
    "collapsed": false
   },
   "outputs": [],
   "source": [
    "add_diff_inplace(trainval_df, last_choice_mask, train_month_mask)\n",
    "print trainval_df.shape"
   ]
  },
  {
   "cell_type": "code",
   "execution_count": null,
   "metadata": {
    "collapsed": false
   },
   "outputs": [],
   "source": [
    "clients_last_choice = trainval_df[last_choice_mask][['ncodpers'] + TARGET_LABELS].sort_values(['ncodpers'])\n",
    "X = trainval_df[train_month_mask][['ncodpers', 'diff'] + features]\n",
    "Y = trainval_df[train_month_mask][['ncodpers'] + TARGET_LABELS]"
   ]
  },
  {
   "cell_type": "code",
   "execution_count": null,
   "metadata": {
    "collapsed": false
   },
   "outputs": [],
   "source": [
    "# Select only clients from test data\n",
    "clients_last_choice = clients_last_choice[clients_last_choice['ncodpers'].isin(X['ncodpers'])]\n",
    "assert (X['ncodpers'].values == clients_last_choice['ncodpers'].values).all(), \"WTF\""
   ]
  },
  {
   "cell_type": "markdown",
   "metadata": {
    "collapsed": true
   },
   "source": [
    "## Prediction on test data"
   ]
  },
  {
   "cell_type": "markdown",
   "metadata": {},
   "source": [
    "Load the last month from the training dataset to get user last choice and remove it from predictions"
   ]
  },
  {
   "cell_type": "code",
   "execution_count": null,
   "metadata": {
    "collapsed": false
   },
   "outputs": [],
   "source": [
    "yearmonth_list = [201605]\n",
    "lastmonth_df = load_data2(TRAIN_FILE_PATH, yearmonth_list)\n",
    "minimal_clean_data_inplace(lastmonth_df)\n",
    "\n",
    "test_df = load_data2(TEST_FILE_PATH, [])\n",
    "minimal_clean_data_inplace(test_df)\n",
    "preprocess_data_inplace(test_df)\n",
    "test_df = test_df.sort_values(['ncodpers'])\n",
    "\n",
    "clients_last_choice_test = lastmonth_df[['ncodpers'] + TARGET_LABELS].sort_values(['ncodpers'])\n",
    "# Select only clients from test data\n",
    "clients_last_choice_test = clients_last_choice_test[clients_last_choice_test['ncodpers'].isin(test_df['ncodpers'])]\n",
    "assert (test_df['ncodpers'].values == clients_last_choice_test['ncodpers'].values).all(), \"WTF\""
   ]
  },
  {
   "cell_type": "code",
   "execution_count": null,
   "metadata": {
    "collapsed": false
   },
   "outputs": [],
   "source": [
    "X_test = test_df[['ncodpers'] + features]"
   ]
  },
  {
   "cell_type": "code",
   "execution_count": null,
   "metadata": {
    "collapsed": false
   },
   "outputs": [],
   "source": [
    "X_test.loc[:,'age'] = X_test['age'].apply(get_age_group_index)\n",
    "X_test.loc[:,'renta'] = X_test['renta'].apply(get_income_group_index)"
   ]
  },
  {
   "cell_type": "markdown",
   "metadata": {},
   "source": [
    "Make predictions"
   ]
  },
  {
   "cell_type": "code",
   "execution_count": null,
   "metadata": {
    "collapsed": true
   },
   "outputs": [],
   "source": [
    "def get_submission(y_pred, clients, clc, target_labels, n_highest=7):\n",
    "    predicted_added_products = np.argsort(y_pred, axis=1)\n",
    "    predicted_added_products = predicted_added_products[:,::-1][:,:n_highest]\n",
    "    added_products_col = []\n",
    "    count = 0 \n",
    "    for products, last_choice in zip(predicted_added_products, clc):\n",
    "        predictions = remove_last_choice(products, last_choice)\n",
    "        added_products_col.append(' '.join([target_labels[i] for i in predictions]))\n",
    "        count+=1\n",
    "        if count % 100000 == 0:\n",
    "            logging.info(\"Elapsed : %i\", count)\n",
    "            \n",
    "    out = pd.DataFrame(data={'ncodpers': clients, 'added_products': added_products_col}, columns=['ncodpers', 'added_products'])\n",
    "    return out"
   ]
  },
  {
   "cell_type": "code",
   "execution_count": null,
   "metadata": {
    "collapsed": false
   },
   "outputs": [],
   "source": [
    "\n",
    "data = {\n",
    "    0: {'x': X_test, 'clc': clients_last_choice_test},\n",
    "}\n",
    "\n",
    "submissions = []\n",
    "for i in data.keys():\n",
    "    x = data[i]['x']\n",
    "    clc = data[i]['clc']\n",
    "    x_test = prepare_to_test(x)\n",
    "    y_pred = estimator.predict(x_test, verbose=0)\n",
    "\n",
    "    clients = x['ncodpers']\n",
    "    submission = get_submission(y_pred, clients, clc[TARGET_LABELS].values, TARGET_LABELS, 7)\n",
    "    print submission.head()\n",
    "    submissions.append(submission)\n",
    "\n",
    "submission = pd.concat(submissions)"
   ]
  },
  {
   "cell_type": "code",
   "execution_count": null,
   "metadata": {
    "collapsed": false
   },
   "outputs": [],
   "source": [
    "submission.head()"
   ]
  },
  {
   "cell_type": "markdown",
   "metadata": {},
   "source": [
    "Get submission DataFrame and write csv file"
   ]
  },
  {
   "cell_type": "code",
   "execution_count": null,
   "metadata": {
    "collapsed": false
   },
   "outputs": [],
   "source": [
    "from datetime import datetime\n",
    "import csv\n",
    "\n",
    "logging.info('- Generate submission')\n",
    "submission_file = '../results/submission_' + \\\n",
    "                  str(datetime.now().strftime(\"%Y-%m-%d-%H-%M\")) + \\\n",
    "                  '.csv'\n",
    "\n",
    "submission.to_csv(submission_file, index=False, index_label=False)"
   ]
  },
  {
   "cell_type": "code",
   "execution_count": null,
   "metadata": {
    "collapsed": true
   },
   "outputs": [],
   "source": []
  },
  {
   "cell_type": "code",
   "execution_count": null,
   "metadata": {
    "collapsed": true
   },
   "outputs": [],
   "source": []
  },
  {
   "cell_type": "code",
   "execution_count": null,
   "metadata": {
    "collapsed": true
   },
   "outputs": [],
   "source": []
  }
 ],
 "metadata": {
  "kernelspec": {
   "display_name": "Python 2",
   "language": "python",
   "name": "python2"
  },
  "language_info": {
   "codemirror_mode": {
    "name": "ipython",
    "version": 2
   },
   "file_extension": ".py",
   "mimetype": "text/x-python",
   "name": "python",
   "nbconvert_exporter": "python",
   "pygments_lexer": "ipython2",
   "version": "2.7.12"
  }
 },
 "nbformat": 4,
 "nbformat_minor": 0
}
