{
 "cells": [
  {
   "cell_type": "markdown",
   "metadata": {},
   "source": [
    "# NN tryouts on SPR data, inspired by Kaggle Forum \"When less is more\""
   ]
  },
  {
   "cell_type": "markdown",
   "metadata": {},
   "source": [
    "Load training and validation data as \n",
    "\n",
    "    month : [F | T | LC ]\n"
   ]
  },
  {
   "cell_type": "code",
   "execution_count": 1,
   "metadata": {
    "collapsed": false
   },
   "outputs": [],
   "source": [
    "import os\n",
    "import numpy as np\n",
    "import pandas as pd\n",
    "\n",
    "import logging\n",
    "logging.getLogger().handlers = []\n",
    "logging.basicConfig(level=logging.INFO)\n",
    "\n",
    "import matplotlib.pylab as plt\n",
    "%matplotlib inline"
   ]
  },
  {
   "cell_type": "code",
   "execution_count": 9,
   "metadata": {
    "collapsed": true
   },
   "outputs": [],
   "source": [
    "from dataset import load_trainval\n",
    "from common import to_yearmonth"
   ]
  },
  {
   "cell_type": "code",
   "execution_count": 3,
   "metadata": {
    "collapsed": false,
    "scrolled": true
   },
   "outputs": [
    {
     "name": "stderr",
     "output_type": "stream",
     "text": [
      "INFO:root:- Load training data : [201501, 201502, 201503, 201504, 201505, 201601, 201602, 201603, 201604]\n",
      "INFO:root:-- Select 250000 clients\n",
      "INFO:root:- Number of lines with unknown data : 145\n",
      "INFO:root:- Number of columns with nan : 9\n",
      "INFO:root:- Process date : 201502\n",
      "/home/osboxes/Documents/TDS/venv/local/lib/python2.7/site-packages/pandas/core/indexing.py:296: SettingWithCopyWarning: \n",
      "A value is trying to be set on a copy of a slice from a DataFrame.\n",
      "Try using .loc[row_indexer,col_indexer] = value instead\n",
      "\n",
      "See the caveats in the documentation: http://pandas.pydata.org/pandas-docs/stable/indexing.html#indexing-view-versus-copy\n",
      "  self.obj[key] = _infer_fill_value(value)\n",
      "/home/osboxes/Documents/TDS/venv/local/lib/python2.7/site-packages/pandas/core/indexing.py:476: SettingWithCopyWarning: \n",
      "A value is trying to be set on a copy of a slice from a DataFrame.\n",
      "Try using .loc[row_indexer,col_indexer] = value instead\n",
      "\n",
      "See the caveats in the documentation: http://pandas.pydata.org/pandas-docs/stable/indexing.html#indexing-view-versus-copy\n",
      "  self.obj[item] = s\n",
      "INFO:root:- Process date : 201503\n",
      "INFO:root:- Process date : 201504\n",
      "INFO:root:- Process date : 201505\n",
      "INFO:root:- Process date : 201602\n",
      "INFO:root:- Process date : 201603\n",
      "INFO:root:- Process date : 201604\n",
      "INFO:root:- Load validation : [201604, 201605]\n",
      "INFO:root:-- Select max clients\n",
      "INFO:root:- Number of lines with unknown data : 0\n",
      "INFO:root:- Number of columns with nan : 10\n",
      "INFO:root:- Process date : 201605\n"
     ]
    }
   ],
   "source": [
    "train_yearmonths_list = [201502, 201503, 201504, 201505, 201602, 201603, 201604]\n",
    "val_yearmonth = [201605]\n",
    "train_nb_clients = 250000\n",
    "train_df, val_df = load_trainval(train_yearmonths_list, val_yearmonth, train_nb_clients)"
   ]
  },
  {
   "cell_type": "markdown",
   "metadata": {},
   "source": [
    "Display loaded data"
   ]
  },
  {
   "cell_type": "code",
   "execution_count": 4,
   "metadata": {
    "collapsed": true
   },
   "outputs": [],
   "source": [
    "#train_df.head(10)"
   ]
  },
  {
   "cell_type": "code",
   "execution_count": 5,
   "metadata": {
    "collapsed": false
   },
   "outputs": [],
   "source": [
    "#mask = (~train_df['diff'].isnull()) & (train_df['diff'] != 0.0)\n",
    "#train_df[mask].sort_values(['ncodpers', 'fecha_dato'])[['fecha_dato', 'ncodpers', 'targets_str', 'targets_dec', 'diff', 'lc_targets_str', 'lc_targets_dec']].head(10)"
   ]
  },
  {
   "cell_type": "code",
   "execution_count": 6,
   "metadata": {
    "collapsed": true
   },
   "outputs": [],
   "source": [
    "#val_df.head(10)"
   ]
  },
  {
   "cell_type": "code",
   "execution_count": 7,
   "metadata": {
    "collapsed": true
   },
   "outputs": [],
   "source": [
    "#mask = (~val_df['diff'].isnull()) & (val_df['diff'] != 0.0)\n",
    "#val_df[mask].sort_values(['ncodpers', 'fecha_dato'])[['fecha_dato', 'ncodpers', 'targets_str', 'targets_dec', 'diff', 'lc_targets_str', 'lc_targets_dec']].head(10)"
   ]
  },
  {
   "cell_type": "markdown",
   "metadata": {},
   "source": [
    "Check active client performances 2015 -> 2016"
   ]
  },
  {
   "cell_type": "code",
   "execution_count": 10,
   "metadata": {
    "collapsed": false
   },
   "outputs": [],
   "source": [
    "months_ym_map = {}\n",
    "months = train_df['fecha_dato'].unique()\n",
    "for m in months:\n",
    "    months_ym_map[to_yearmonth(m)] = m"
   ]
  },
  {
   "cell_type": "code",
   "execution_count": null,
   "metadata": {
    "collapsed": false
   },
   "outputs": [],
   "source": [
    "yms = [201502, 201503, 201504]\n",
    "\n",
    "for ym in yms:\n",
    "    ym1 = ym + 100\n",
    "    \n",
    "    mask1 = (~train_df['diff'].isnull()) & (train_df['diff'] != 0.0)\n",
    "    tmask1 = train_df['fecha_dato'] == months_ym_map[ym]\n",
    "    active_clients1 = train_df[tmask1 & mask1]['ncodpers'].unique()\n",
    "\n",
    "    mask2 = (~train_df['diff'].isnull()) & (train_df['diff'] != 0.0)\n",
    "    tmask2 = train_df['fecha_dato'] == months_ym_map[ym1]\n",
    "    active_clients2 = train_df[tmask2 & mask2]['ncodpers'].unique()\n",
    "\n",
    "    active_clients = list(set(active_clients1) & set(active_clients2))   \n",
    "    \n",
    "    mask1 &= train_df['ncodpers'].isin(active_clients)\n",
    "    t1 = train_df[tmask1 & mask1].sort_values(['ncodpers', 'fecha_dato'])[['fecha_dato', 'ncodpers', 'targets_dec', 'diff', 'lc_targets_dec']]\n",
    "\n",
    "    mask2 &= train_df['ncodpers'].isin(active_clients)\n",
    "    t2 = train_df[tmask2 & mask2].sort_values(['ncodpers', 'fecha_dato'])[['fecha_dato', 'ncodpers', 'targets_dec', 'diff', 'lc_targets_dec']]\n",
    "\n",
    "    print \"-------\"\n",
    "    print ym, ym1\n",
    "    total = t1['diff'].shape[0]\n",
    "    eq = (t1['diff'].values == t2['diff'].values).sum()\n",
    "    aeq = (np.abs(t1['diff'].values) == np.abs(t2['diff'].values)).sum()\n",
    "    print \"Percentage : eq =\", eq*1.0/total, \" | aeq =\", aeq*1.0/total\n",
    "    \n",
    "       "
   ]
  },
  {
   "cell_type": "code",
   "execution_count": null,
   "metadata": {
    "collapsed": true
   },
   "outputs": [],
   "source": []
  },
  {
   "cell_type": "code",
   "execution_count": 23,
   "metadata": {
    "collapsed": true
   },
   "outputs": [],
   "source": [
    "mask1 = (~train_df['diff'].isnull()) & (train_df['diff'] != 0.0)\n",
    "tmask1 = train_df['fecha_dato'] == '2015-05-28'\n",
    "train_active_clients = train_df[tmask1 & mask1]['ncodpers'].unique()\n",
    "\n",
    "mask2 = (~val_df['diff'].isnull()) & (val_df['diff'] != 0.0)\n",
    "tmask2 = val_df['fecha_dato'] == '2016-05-28'\n",
    "val_active_clients = val_df[tmask2 & mask2]['ncodpers'].unique()\n",
    "\n",
    "active_clients = list(set(train_active_clients) & set(val_active_clients))"
   ]
  },
  {
   "cell_type": "code",
   "execution_count": 24,
   "metadata": {
    "collapsed": false
   },
   "outputs": [
    {
     "data": {
      "text/html": [
       "<div>\n",
       "<table border=\"1\" class=\"dataframe\">\n",
       "  <thead>\n",
       "    <tr style=\"text-align: right;\">\n",
       "      <th></th>\n",
       "      <th>fecha_dato</th>\n",
       "      <th>ncodpers</th>\n",
       "      <th>targets_dec</th>\n",
       "      <th>diff</th>\n",
       "      <th>lc_targets_dec</th>\n",
       "    </tr>\n",
       "  </thead>\n",
       "  <tbody>\n",
       "    <tr>\n",
       "      <th>3144382</th>\n",
       "      <td>2015-05-28</td>\n",
       "      <td>15889</td>\n",
       "      <td>2129968</td>\n",
       "      <td>32.0</td>\n",
       "      <td>2129936.0</td>\n",
       "    </tr>\n",
       "    <tr>\n",
       "      <th>2933753</th>\n",
       "      <td>2015-05-28</td>\n",
       "      <td>15982</td>\n",
       "      <td>2623521</td>\n",
       "      <td>-6.0</td>\n",
       "      <td>2623527.0</td>\n",
       "    </tr>\n",
       "    <tr>\n",
       "      <th>2933858</th>\n",
       "      <td>2015-05-28</td>\n",
       "      <td>16187</td>\n",
       "      <td>623921</td>\n",
       "      <td>-6.0</td>\n",
       "      <td>623927.0</td>\n",
       "    </tr>\n",
       "    <tr>\n",
       "      <th>2933864</th>\n",
       "      <td>2015-05-28</td>\n",
       "      <td>16201</td>\n",
       "      <td>2624097</td>\n",
       "      <td>-6.0</td>\n",
       "      <td>2624103.0</td>\n",
       "    </tr>\n",
       "    <tr>\n",
       "      <th>2933407</th>\n",
       "      <td>2015-05-28</td>\n",
       "      <td>16641</td>\n",
       "      <td>2689121</td>\n",
       "      <td>-6.0</td>\n",
       "      <td>2689127.0</td>\n",
       "    </tr>\n",
       "    <tr>\n",
       "      <th>2933464</th>\n",
       "      <td>2015-05-28</td>\n",
       "      <td>16681</td>\n",
       "      <td>589894</td>\n",
       "      <td>-1.0</td>\n",
       "      <td>589895.0</td>\n",
       "    </tr>\n",
       "    <tr>\n",
       "      <th>2933437</th>\n",
       "      <td>2015-05-28</td>\n",
       "      <td>16713</td>\n",
       "      <td>2629159</td>\n",
       "      <td>5120.0</td>\n",
       "      <td>2624039.0</td>\n",
       "    </tr>\n",
       "    <tr>\n",
       "      <th>2933394</th>\n",
       "      <td>2015-05-28</td>\n",
       "      <td>16731</td>\n",
       "      <td>2101256</td>\n",
       "      <td>-1.0</td>\n",
       "      <td>2101257.0</td>\n",
       "    </tr>\n",
       "    <tr>\n",
       "      <th>2933614</th>\n",
       "      <td>2015-05-28</td>\n",
       "      <td>17059</td>\n",
       "      <td>2097152</td>\n",
       "      <td>-1.0</td>\n",
       "      <td>2097153.0</td>\n",
       "    </tr>\n",
       "    <tr>\n",
       "      <th>2933548</th>\n",
       "      <td>2015-05-28</td>\n",
       "      <td>17118</td>\n",
       "      <td>527376</td>\n",
       "      <td>-6.0</td>\n",
       "      <td>527382.0</td>\n",
       "    </tr>\n",
       "  </tbody>\n",
       "</table>\n",
       "</div>"
      ],
      "text/plain": [
       "         fecha_dato  ncodpers  targets_dec    diff  lc_targets_dec\n",
       "3144382  2015-05-28     15889      2129968    32.0       2129936.0\n",
       "2933753  2015-05-28     15982      2623521    -6.0       2623527.0\n",
       "2933858  2015-05-28     16187       623921    -6.0        623927.0\n",
       "2933864  2015-05-28     16201      2624097    -6.0       2624103.0\n",
       "2933407  2015-05-28     16641      2689121    -6.0       2689127.0\n",
       "2933464  2015-05-28     16681       589894    -1.0        589895.0\n",
       "2933437  2015-05-28     16713      2629159  5120.0       2624039.0\n",
       "2933394  2015-05-28     16731      2101256    -1.0       2101257.0\n",
       "2933614  2015-05-28     17059      2097152    -1.0       2097153.0\n",
       "2933548  2015-05-28     17118       527376    -6.0        527382.0"
      ]
     },
     "execution_count": 24,
     "metadata": {},
     "output_type": "execute_result"
    }
   ],
   "source": [
    "mask1 &= train_df['ncodpers'].isin(active_clients)\n",
    "t1 = train_df[tmask1 & mask1].sort_values(['ncodpers', 'fecha_dato'])[['fecha_dato', 'ncodpers', 'targets_dec', 'diff', 'lc_targets_dec']]\n",
    "t1.head(10)"
   ]
  },
  {
   "cell_type": "code",
   "execution_count": 25,
   "metadata": {
    "collapsed": false
   },
   "outputs": [
    {
     "data": {
      "text/html": [
       "<div>\n",
       "<table border=\"1\" class=\"dataframe\">\n",
       "  <thead>\n",
       "    <tr style=\"text-align: right;\">\n",
       "      <th></th>\n",
       "      <th>fecha_dato</th>\n",
       "      <th>ncodpers</th>\n",
       "      <th>targets_dec</th>\n",
       "      <th>diff</th>\n",
       "      <th>lc_targets_dec</th>\n",
       "    </tr>\n",
       "  </thead>\n",
       "  <tbody>\n",
       "    <tr>\n",
       "      <th>1238761</th>\n",
       "      <td>2016-05-28</td>\n",
       "      <td>15889</td>\n",
       "      <td>2129968</td>\n",
       "      <td>32.0</td>\n",
       "      <td>2129936.0</td>\n",
       "    </tr>\n",
       "    <tr>\n",
       "      <th>1238682</th>\n",
       "      <td>2016-05-28</td>\n",
       "      <td>15982</td>\n",
       "      <td>0</td>\n",
       "      <td>-524288.0</td>\n",
       "      <td>524288.0</td>\n",
       "    </tr>\n",
       "    <tr>\n",
       "      <th>1238835</th>\n",
       "      <td>2016-05-28</td>\n",
       "      <td>16187</td>\n",
       "      <td>3377</td>\n",
       "      <td>-524290.0</td>\n",
       "      <td>527667.0</td>\n",
       "    </tr>\n",
       "    <tr>\n",
       "      <th>1238825</th>\n",
       "      <td>2016-05-28</td>\n",
       "      <td>16201</td>\n",
       "      <td>2624103</td>\n",
       "      <td>38.0</td>\n",
       "      <td>2624065.0</td>\n",
       "    </tr>\n",
       "    <tr>\n",
       "      <th>1238575</th>\n",
       "      <td>2016-05-28</td>\n",
       "      <td>16641</td>\n",
       "      <td>2689121</td>\n",
       "      <td>-6.0</td>\n",
       "      <td>2689127.0</td>\n",
       "    </tr>\n",
       "    <tr>\n",
       "      <th>1238609</th>\n",
       "      <td>2016-05-28</td>\n",
       "      <td>16681</td>\n",
       "      <td>589894</td>\n",
       "      <td>-1.0</td>\n",
       "      <td>589895.0</td>\n",
       "    </tr>\n",
       "    <tr>\n",
       "      <th>1238907</th>\n",
       "      <td>2016-05-28</td>\n",
       "      <td>16713</td>\n",
       "      <td>2629127</td>\n",
       "      <td>-32.0</td>\n",
       "      <td>2629159.0</td>\n",
       "    </tr>\n",
       "    <tr>\n",
       "      <th>1239207</th>\n",
       "      <td>2016-05-28</td>\n",
       "      <td>16731</td>\n",
       "      <td>2103297</td>\n",
       "      <td>1.0</td>\n",
       "      <td>2103296.0</td>\n",
       "    </tr>\n",
       "    <tr>\n",
       "      <th>1239260</th>\n",
       "      <td>2016-05-28</td>\n",
       "      <td>17059</td>\n",
       "      <td>2097153</td>\n",
       "      <td>1.0</td>\n",
       "      <td>2097152.0</td>\n",
       "    </tr>\n",
       "    <tr>\n",
       "      <th>1239284</th>\n",
       "      <td>2016-05-28</td>\n",
       "      <td>17118</td>\n",
       "      <td>526406</td>\n",
       "      <td>6.0</td>\n",
       "      <td>526400.0</td>\n",
       "    </tr>\n",
       "  </tbody>\n",
       "</table>\n",
       "</div>"
      ],
      "text/plain": [
       "         fecha_dato  ncodpers  targets_dec      diff  lc_targets_dec\n",
       "1238761  2016-05-28     15889      2129968      32.0       2129936.0\n",
       "1238682  2016-05-28     15982            0 -524288.0        524288.0\n",
       "1238835  2016-05-28     16187         3377 -524290.0        527667.0\n",
       "1238825  2016-05-28     16201      2624103      38.0       2624065.0\n",
       "1238575  2016-05-28     16641      2689121      -6.0       2689127.0\n",
       "1238609  2016-05-28     16681       589894      -1.0        589895.0\n",
       "1238907  2016-05-28     16713      2629127     -32.0       2629159.0\n",
       "1239207  2016-05-28     16731      2103297       1.0       2103296.0\n",
       "1239260  2016-05-28     17059      2097153       1.0       2097152.0\n",
       "1239284  2016-05-28     17118       526406       6.0        526400.0"
      ]
     },
     "execution_count": 25,
     "metadata": {},
     "output_type": "execute_result"
    }
   ],
   "source": [
    "mask2 &= val_df['ncodpers'].isin(active_clients)\n",
    "t2 = val_df[tmask2 & mask2].sort_values(['ncodpers', 'fecha_dato'])[['fecha_dato', 'ncodpers', 'targets_dec', 'diff', 'lc_targets_dec']]\n",
    "t2.head(10)"
   ]
  },
  {
   "cell_type": "code",
   "execution_count": 26,
   "metadata": {
    "collapsed": false
   },
   "outputs": [
    {
     "name": "stdout",
     "output_type": "stream",
     "text": [
      "Percentage : eq = 0.371883786317  | aeq = 0.563823805061\n"
     ]
    }
   ],
   "source": [
    "total = t1['diff'].shape[0]\n",
    "eq = (t1['diff'].values == t2['diff'].values).sum()\n",
    "aeq = (np.abs(t1['diff'].values) == np.abs(t2['diff'].values)).sum()\n",
    "print \"Percentage : eq =\", eq*1.0/total, \" | aeq =\", aeq*1.0/total\n"
   ]
  },
  {
   "cell_type": "code",
   "execution_count": null,
   "metadata": {
    "collapsed": true
   },
   "outputs": [],
   "source": []
  },
  {
   "cell_type": "code",
   "execution_count": null,
   "metadata": {
    "collapsed": true
   },
   "outputs": [],
   "source": []
  },
  {
   "cell_type": "code",
   "execution_count": null,
   "metadata": {
    "collapsed": true
   },
   "outputs": [],
   "source": []
  },
  {
   "cell_type": "code",
   "execution_count": null,
   "metadata": {
    "collapsed": true
   },
   "outputs": [],
   "source": []
  },
  {
   "cell_type": "code",
   "execution_count": null,
   "metadata": {
    "collapsed": true
   },
   "outputs": [],
   "source": []
  },
  {
   "cell_type": "code",
   "execution_count": null,
   "metadata": {
    "collapsed": true
   },
   "outputs": [],
   "source": []
  },
  {
   "cell_type": "code",
   "execution_count": null,
   "metadata": {
    "collapsed": true
   },
   "outputs": [],
   "source": []
  },
  {
   "cell_type": "code",
   "execution_count": null,
   "metadata": {
    "collapsed": true
   },
   "outputs": [],
   "source": []
  },
  {
   "cell_type": "code",
   "execution_count": null,
   "metadata": {
    "collapsed": true
   },
   "outputs": [],
   "source": []
  },
  {
   "cell_type": "code",
   "execution_count": 2,
   "metadata": {
    "collapsed": false
   },
   "outputs": [],
   "source": [
    "from common import load_data2, minimal_clean_data_inplace, preprocess_data_inplace, TARGET_LABELS\n",
    "from common import get_added_products, remove_last_choice, apk, map7_score2\n",
    "\n",
    "from visualization import visualize_train_test, visualize_folds, compare_two_datasets, compare_folds, compare_folds2"
   ]
  },
  {
   "cell_type": "code",
   "execution_count": 3,
   "metadata": {
    "collapsed": true
   },
   "outputs": [],
   "source": [
    "TRAIN_FILE_PATH = os.path.join(\"..\", \"data\", \"train_ver2.csv\")\n",
    "TEST_FILE_PATH = os.path.join(\"..\", \"data\", \"test_ver2.csv\")"
   ]
  },
  {
   "cell_type": "code",
   "execution_count": null,
   "metadata": {
    "collapsed": true
   },
   "outputs": [],
   "source": []
  },
  {
   "cell_type": "code",
   "execution_count": 4,
   "metadata": {
    "collapsed": true
   },
   "outputs": [],
   "source": [
    "from common import _to_ym, _to_ym_dec, to_yearmonth"
   ]
  },
  {
   "cell_type": "code",
   "execution_count": 5,
   "metadata": {
    "collapsed": true
   },
   "outputs": [],
   "source": [
    "# def load_trainval(train_yearmonths_list, val_yearmonth, train_nb_clients=-1):\n",
    "\n",
    "train_yearmonths_list = [201505, 201506]\n",
    "val_yearmonth = [201605]\n",
    "train_nb_clients = 1000"
   ]
  },
  {
   "cell_type": "code",
   "execution_count": 6,
   "metadata": {
    "collapsed": false
   },
   "outputs": [
    {
     "name": "stdout",
     "output_type": "stream",
     "text": [
      "Load yearmonth_list [201504, 201505, 201506]\n"
     ]
    },
    {
     "name": "stderr",
     "output_type": "stream",
     "text": [
      "INFO:root:-- Select 1000 clients\n",
      "INFO:root:- Number of lines with unknown data : 0\n",
      "INFO:root:- Number of columns with nan : 6\n"
     ]
    }
   ],
   "source": [
    "def _get_prev_ym(ym):\n",
    "    return _to_ym(_to_ym_dec(ym) - _to_ym_dec(2))\n",
    "\n",
    "def _ym_list_to_load(ym_list):\n",
    "    \"\"\"\n",
    "    Append previous month to the each yearmonth\n",
    "    \"\"\"\n",
    "    out = []\n",
    "    for ym in ym_list:\n",
    "        # get the previous month\n",
    "        prev_ym = _get_prev_ym(ym)\n",
    "        if len(out) and out[-1] == prev_ym:\n",
    "            out += [ym]\n",
    "        else:\n",
    "            out += [prev_ym, ym]\n",
    "    return out\n",
    "\n",
    "yearmonth_list = _ym_list_to_load(train_yearmonths_list)\n",
    "print \"Load yearmonth_list\", yearmonth_list\n",
    "train_df = load_data2(TRAIN_FILE_PATH, yearmonth_list, train_nb_clients)\n",
    "minimal_clean_data_inplace(train_df)\n",
    "preprocess_data_inplace(train_df)\n",
    "\n",
    "months = train_df['fecha_dato'].unique()\n",
    "clients = train_df['ncodpers'].unique()\n",
    "assert len(clients) == (train_df['ncodpers'].value_counts() == len(yearmonth_list)).sum()\n",
    "ll = len(clients)\n",
    "months_ym_map = {}\n",
    "for m in months:\n",
    "    l = len(train_df[train_df['fecha_dato'] == m]['ncodpers'].unique())\n",
    "    assert l == ll, \"Number of clients should be identical for all monthes. (%s, %s, %s)\" % (m, l, ll)\n",
    "    months_ym_map[to_yearmonth(m)] = m"
   ]
  },
  {
   "cell_type": "code",
   "execution_count": 7,
   "metadata": {
    "collapsed": false
   },
   "outputs": [
    {
     "name": "stdout",
     "output_type": "stream",
     "text": [
      "['2015-04-28' '2015-05-28' '2015-06-28'] {201504: '2015-04-28', 201505: '2015-05-28', 201506: '2015-06-28'}\n"
     ]
    }
   ],
   "source": [
    "print months, months_ym_map"
   ]
  },
  {
   "cell_type": "code",
   "execution_count": 9,
   "metadata": {
    "collapsed": false
   },
   "outputs": [],
   "source": [
    "from math import log\n",
    "\n",
    "\n",
    "LC_TARGET_LABELS = ['lc_' + t for t in TARGET_LABELS]        \n",
    "\n",
    "\n",
    "def dummies_to_str(row):\n",
    "    output = ''\n",
    "    for v in row.values:\n",
    "        output += str(int(v))\n",
    "    return output\n",
    "\n",
    "\n",
    "def dummies_to_decimal(row):\n",
    "    output = dummies_to_str(row)\n",
    "    return int(output, 2)\n",
    "\n",
    "    \n",
    "def _add_diff_inplace(df, prev_ym_mask, ym_mask):\n",
    "    \"\"\"\n",
    "    df should be imperatively sorted by clients in order to subtract and assign correctly\n",
    "    \"\"\"\n",
    "    tmp_df = df[['fecha_dato','ncodpers']]\n",
    "    tmp_df.loc[:,'t'] = df[TARGET_LABELS].apply(dummies_to_decimal, axis=1)\n",
    "    v1 = tmp_df[ym_mask][['ncodpers', 't']]\n",
    "    v2 = tmp_df[prev_ym_mask][['ncodpers', 't']]\n",
    "    assert len(v1) == len(v2), \"Length of current month and previous month are not equal\"\n",
    "    v2.index = v1.index\n",
    "    df.loc[ym_mask,'diff'] = v1['t'] - v2['t']\n",
    "    \n",
    "    \n",
    "def _add_clc_inplace(df, prev_ym_mask, ym_mask):\n",
    "    \"\"\"\n",
    "    df should be imperatively sorted by clients in order to subtract and assign correctly\n",
    "    \"\"\"\n",
    "    clients_last_choice = df[prev_ym_mask][['ncodpers'] + TARGET_LABELS]\n",
    "#     print clients_last_choice[['ncodpers'] + TARGET_LABELS[:1]].head()\n",
    "    # Prepend \"lc_\" to column names\n",
    "    clc_new_cols = clients_last_choice.columns.values\n",
    "    clc_new_cols[1:] = \"lc_\" + clc_new_cols[1:]\n",
    "    \n",
    "    clients_last_choice.index = df[ym_mask].index\n",
    "    for c in clc_new_cols[1:]:\n",
    "        df.loc[ym_mask, c] = clients_last_choice[c]\n",
    "\n",
    "    df.loc[ym_mask, 'lc_targets_str'] = df[ym_mask][LC_TARGET_LABELS].apply(dummies_to_str, axis=1)\n",
    "    df.loc[ym_mask, 'lc_targets_dec'] = df[ym_mask][LC_TARGET_LABELS].apply(dummies_to_decimal, axis=1)\n",
    "\n",
    "\n",
    "# Imperatively sort by clients in order to subtract and assign correctly\n",
    "train_df2 = train_df.sort_values(['ncodpers', 'fecha_dato'])    \n",
    "\n",
    "for ym in train_yearmonths_list:\n",
    "    prev_ym = _get_prev_ym(ym)\n",
    "    prev_ym_mask = train_df2['fecha_dato'] == months_ym_map[prev_ym]\n",
    "    ym_mask = train_df2['fecha_dato'] == months_ym_map[ym]\n",
    "\n",
    "    train_df2.loc[:, 'targets_str'] = train_df2[TARGET_LABELS].apply(dummies_to_str, axis=1)\n",
    "    train_df2.loc[:, 'targets_dec'] = train_df2[TARGET_LABELS].apply(dummies_to_decimal, axis=1)\n",
    "    \n",
    "    _add_diff_inplace(train_df2, prev_ym_mask, ym_mask)\n",
    "    _add_clc_inplace(train_df2, prev_ym_mask, ym_mask)\n",
    "\n",
    "\n",
    "mask = (~train_df2['diff'].isnull())\n",
    "assert (train_df2[mask]['diff'] == train_df2[mask]['targets_dec'] - train_df2[mask]['lc_targets_dec']).all(), \"Something is wrong\"\n"
   ]
  },
  {
   "cell_type": "code",
   "execution_count": 10,
   "metadata": {
    "collapsed": false
   },
   "outputs": [
    {
     "data": {
      "text/html": [
       "<div>\n",
       "<table border=\"1\" class=\"dataframe\">\n",
       "  <thead>\n",
       "    <tr style=\"text-align: right;\">\n",
       "      <th></th>\n",
       "      <th>fecha_dato</th>\n",
       "      <th>ncodpers</th>\n",
       "      <th>targets_str</th>\n",
       "      <th>targets_dec</th>\n",
       "      <th>diff</th>\n",
       "      <th>lc_targets_str</th>\n",
       "      <th>lc_targets_dec</th>\n",
       "    </tr>\n",
       "  </thead>\n",
       "  <tbody>\n",
       "    <tr>\n",
       "      <th>1678933</th>\n",
       "      <td>2015-06-28</td>\n",
       "      <td>29672</td>\n",
       "      <td>001000010000000000100000</td>\n",
       "      <td>2162720</td>\n",
       "      <td>32.0</td>\n",
       "      <td>001000010000000000000000</td>\n",
       "      <td>2162688.0</td>\n",
       "    </tr>\n",
       "    <tr>\n",
       "      <th>1045448</th>\n",
       "      <td>2015-05-28</td>\n",
       "      <td>32861</td>\n",
       "      <td>000010000000110000110000</td>\n",
       "      <td>527408</td>\n",
       "      <td>-2.0</td>\n",
       "      <td>000010000000110000110010</td>\n",
       "      <td>527410.0</td>\n",
       "    </tr>\n",
       "    <tr>\n",
       "      <th>1677490</th>\n",
       "      <td>2015-06-28</td>\n",
       "      <td>32861</td>\n",
       "      <td>000010000000110000010011</td>\n",
       "      <td>527379</td>\n",
       "      <td>-29.0</td>\n",
       "      <td>000010000000110000110000</td>\n",
       "      <td>527408.0</td>\n",
       "    </tr>\n",
       "    <tr>\n",
       "      <th>1057149</th>\n",
       "      <td>2015-05-28</td>\n",
       "      <td>58908</td>\n",
       "      <td>001000001000100000000000</td>\n",
       "      <td>2131968</td>\n",
       "      <td>-512.0</td>\n",
       "      <td>001000001000101000000000</td>\n",
       "      <td>2132480.0</td>\n",
       "    </tr>\n",
       "    <tr>\n",
       "      <th>1689322</th>\n",
       "      <td>2015-06-28</td>\n",
       "      <td>58908</td>\n",
       "      <td>001000001000100000000001</td>\n",
       "      <td>2131969</td>\n",
       "      <td>1.0</td>\n",
       "      <td>001000001000100000000000</td>\n",
       "      <td>2131968.0</td>\n",
       "    </tr>\n",
       "    <tr>\n",
       "      <th>1059597</th>\n",
       "      <td>2015-05-28</td>\n",
       "      <td>65267</td>\n",
       "      <td>000010010000100001100001</td>\n",
       "      <td>591969</td>\n",
       "      <td>524282.0</td>\n",
       "      <td>000000010000100001100111</td>\n",
       "      <td>67687.0</td>\n",
       "    </tr>\n",
       "    <tr>\n",
       "      <th>1691802</th>\n",
       "      <td>2015-06-28</td>\n",
       "      <td>65267</td>\n",
       "      <td>000010010000100001100111</td>\n",
       "      <td>591975</td>\n",
       "      <td>6.0</td>\n",
       "      <td>000010010000100001100001</td>\n",
       "      <td>591969.0</td>\n",
       "    </tr>\n",
       "    <tr>\n",
       "      <th>1031182</th>\n",
       "      <td>2015-05-28</td>\n",
       "      <td>76117</td>\n",
       "      <td>000010001001010001110001</td>\n",
       "      <td>562289</td>\n",
       "      <td>-6.0</td>\n",
       "      <td>000010001001010001110111</td>\n",
       "      <td>562295.0</td>\n",
       "    </tr>\n",
       "    <tr>\n",
       "      <th>1034792</th>\n",
       "      <td>2015-05-28</td>\n",
       "      <td>79075</td>\n",
       "      <td>001000000001000000000000</td>\n",
       "      <td>2101248</td>\n",
       "      <td>2097152.0</td>\n",
       "      <td>000000000001000000000000</td>\n",
       "      <td>4096.0</td>\n",
       "    </tr>\n",
       "    <tr>\n",
       "      <th>1040500</th>\n",
       "      <td>2015-05-28</td>\n",
       "      <td>97411</td>\n",
       "      <td>000010011001000000000111</td>\n",
       "      <td>626695</td>\n",
       "      <td>-32.0</td>\n",
       "      <td>000010011001000000100111</td>\n",
       "      <td>626727.0</td>\n",
       "    </tr>\n",
       "  </tbody>\n",
       "</table>\n",
       "</div>"
      ],
      "text/plain": [
       "         fecha_dato  ncodpers               targets_str  targets_dec  \\\n",
       "1678933  2015-06-28     29672  001000010000000000100000      2162720   \n",
       "1045448  2015-05-28     32861  000010000000110000110000       527408   \n",
       "1677490  2015-06-28     32861  000010000000110000010011       527379   \n",
       "1057149  2015-05-28     58908  001000001000100000000000      2131968   \n",
       "1689322  2015-06-28     58908  001000001000100000000001      2131969   \n",
       "1059597  2015-05-28     65267  000010010000100001100001       591969   \n",
       "1691802  2015-06-28     65267  000010010000100001100111       591975   \n",
       "1031182  2015-05-28     76117  000010001001010001110001       562289   \n",
       "1034792  2015-05-28     79075  001000000001000000000000      2101248   \n",
       "1040500  2015-05-28     97411  000010011001000000000111       626695   \n",
       "\n",
       "              diff            lc_targets_str  lc_targets_dec  \n",
       "1678933       32.0  001000010000000000000000       2162688.0  \n",
       "1045448       -2.0  000010000000110000110010        527410.0  \n",
       "1677490      -29.0  000010000000110000110000        527408.0  \n",
       "1057149     -512.0  001000001000101000000000       2132480.0  \n",
       "1689322        1.0  001000001000100000000000       2131968.0  \n",
       "1059597   524282.0  000000010000100001100111         67687.0  \n",
       "1691802        6.0  000010010000100001100001        591969.0  \n",
       "1031182       -6.0  000010001001010001110111        562295.0  \n",
       "1034792  2097152.0  000000000001000000000000          4096.0  \n",
       "1040500      -32.0  000010011001000000100111        626727.0  "
      ]
     },
     "execution_count": 10,
     "metadata": {},
     "output_type": "execute_result"
    }
   ],
   "source": [
    "mask = (~train_df2['diff'].isnull()) & (train_df2['diff'] != 0.0)\n",
    "train_df2[mask].sort_values(['ncodpers', 'fecha_dato'])[['fecha_dato', 'ncodpers', 'targets_str', 'targets_dec', 'diff', 'lc_targets_str', 'lc_targets_dec']].head(10)\n"
   ]
  },
  {
   "cell_type": "code",
   "execution_count": null,
   "metadata": {
    "collapsed": true
   },
   "outputs": [],
   "source": []
  },
  {
   "cell_type": "code",
   "execution_count": 14,
   "metadata": {
    "collapsed": false
   },
   "outputs": [
    {
     "name": "stdout",
     "output_type": "stream",
     "text": [
      "Load yearmonth_list [201604, 201605]\n"
     ]
    },
    {
     "name": "stderr",
     "output_type": "stream",
     "text": [
      "INFO:root:-- Select max clients\n",
      "INFO:root:- Number of lines with unknown data : 0\n",
      "INFO:root:- Number of columns with nan : 10\n"
     ]
    }
   ],
   "source": [
    "yearmonth_list = _ym_list_to_load(val_yearmonth)\n",
    "print \"Load yearmonth_list\", yearmonth_list\n",
    "val_df = load_data2(TRAIN_FILE_PATH, yearmonth_list, 'max')\n",
    "minimal_clean_data_inplace(val_df)\n",
    "preprocess_data_inplace(val_df)"
   ]
  },
  {
   "cell_type": "code",
   "execution_count": 17,
   "metadata": {
    "collapsed": false
   },
   "outputs": [],
   "source": [
    "months = val_df['fecha_dato'].unique()\n",
    "clients = val_df['ncodpers'].unique()\n",
    "assert len(clients) == (val_df['ncodpers'].value_counts() == len(yearmonth_list)).sum()\n",
    "ll = len(clients)\n",
    "months_ym_map = {}\n",
    "for m in months:\n",
    "    l = len(val_df[val_df['fecha_dato'] == m]['ncodpers'].unique())\n",
    "    assert l == ll, \"Number of clients should be identical for all monthes. (%s, %s, %s)\" % (m, l, ll)\n",
    "    months_ym_map[to_yearmonth(m)] = m"
   ]
  },
  {
   "cell_type": "code",
   "execution_count": 18,
   "metadata": {
    "collapsed": false
   },
   "outputs": [
    {
     "name": "stdout",
     "output_type": "stream",
     "text": [
      "['2016-04-28' '2016-05-28'] {201604: '2016-04-28', 201605: '2016-05-28'}\n"
     ]
    }
   ],
   "source": [
    "print months, months_ym_map"
   ]
  },
  {
   "cell_type": "code",
   "execution_count": 19,
   "metadata": {
    "collapsed": true
   },
   "outputs": [],
   "source": [
    "# Imperatively sort by clients in order to subtract and assign correctly\n",
    "val_df2 = val_df.sort_values(['ncodpers', 'fecha_dato'])    \n",
    "\n",
    "for ym in val_yearmonth:\n",
    "    prev_ym = _get_prev_ym(ym)\n",
    "    prev_ym_mask = val_df2['fecha_dato'] == months_ym_map[prev_ym]\n",
    "    ym_mask = val_df2['fecha_dato'] == months_ym_map[ym]\n",
    "\n",
    "    val_df2.loc[:, 'targets_str'] = val_df2[TARGET_LABELS].apply(dummies_to_str, axis=1)\n",
    "    val_df2.loc[:, 'targets_dec'] = val_df2[TARGET_LABELS].apply(dummies_to_decimal, axis=1)\n",
    "    \n",
    "    _add_diff_inplace(val_df2, prev_ym_mask, ym_mask)\n",
    "    _add_clc_inplace(val_df2, prev_ym_mask, ym_mask)\n",
    "\n",
    "\n",
    "mask = (~val_df2['diff'].isnull())\n",
    "assert (val_df2[mask]['diff'] == val_df2[mask]['targets_dec'] - val_df2[mask]['lc_targets_dec']).all(), \"Something is wrong\"\n"
   ]
  },
  {
   "cell_type": "code",
   "execution_count": 20,
   "metadata": {
    "collapsed": false
   },
   "outputs": [
    {
     "data": {
      "text/html": [
       "<div>\n",
       "<table border=\"1\" class=\"dataframe\">\n",
       "  <thead>\n",
       "    <tr style=\"text-align: right;\">\n",
       "      <th></th>\n",
       "      <th>fecha_dato</th>\n",
       "      <th>ncodpers</th>\n",
       "      <th>targets_str</th>\n",
       "      <th>targets_dec</th>\n",
       "      <th>diff</th>\n",
       "      <th>lc_targets_str</th>\n",
       "      <th>lc_targets_dec</th>\n",
       "    </tr>\n",
       "  </thead>\n",
       "  <tbody>\n",
       "    <tr>\n",
       "      <th>1238761</th>\n",
       "      <td>2016-05-28</td>\n",
       "      <td>15889</td>\n",
       "      <td>001000001000000000110000</td>\n",
       "      <td>2129968</td>\n",
       "      <td>32.0</td>\n",
       "      <td>001000001000000000010000</td>\n",
       "      <td>2129936.0</td>\n",
       "    </tr>\n",
       "    <tr>\n",
       "      <th>1238751</th>\n",
       "      <td>2016-05-28</td>\n",
       "      <td>15900</td>\n",
       "      <td>000000010000000001000001</td>\n",
       "      <td>65601</td>\n",
       "      <td>-524288.0</td>\n",
       "      <td>000010010000000001000001</td>\n",
       "      <td>589889.0</td>\n",
       "    </tr>\n",
       "    <tr>\n",
       "      <th>1238787</th>\n",
       "      <td>2016-05-28</td>\n",
       "      <td>15925</td>\n",
       "      <td>001000010000000000100000</td>\n",
       "      <td>2162720</td>\n",
       "      <td>-1.0</td>\n",
       "      <td>001000010000000000100001</td>\n",
       "      <td>2162721.0</td>\n",
       "    </tr>\n",
       "    <tr>\n",
       "      <th>1238786</th>\n",
       "      <td>2016-05-28</td>\n",
       "      <td>15926</td>\n",
       "      <td>001000010000010000010000</td>\n",
       "      <td>2163728</td>\n",
       "      <td>-1.0</td>\n",
       "      <td>001000010000010000010001</td>\n",
       "      <td>2163729.0</td>\n",
       "    </tr>\n",
       "    <tr>\n",
       "      <th>1238785</th>\n",
       "      <td>2016-05-28</td>\n",
       "      <td>15927</td>\n",
       "      <td>000000001000000100000001</td>\n",
       "      <td>33025</td>\n",
       "      <td>-2097152.0</td>\n",
       "      <td>001000001000000100000001</td>\n",
       "      <td>2130177.0</td>\n",
       "    </tr>\n",
       "    <tr>\n",
       "      <th>1238783</th>\n",
       "      <td>2016-05-28</td>\n",
       "      <td>15929</td>\n",
       "      <td>001000001000100000110001</td>\n",
       "      <td>2132017</td>\n",
       "      <td>1.0</td>\n",
       "      <td>001000001000100000110000</td>\n",
       "      <td>2132016.0</td>\n",
       "    </tr>\n",
       "    <tr>\n",
       "      <th>1238769</th>\n",
       "      <td>2016-05-28</td>\n",
       "      <td>15944</td>\n",
       "      <td>001000011000000001000001</td>\n",
       "      <td>2195521</td>\n",
       "      <td>-32.0</td>\n",
       "      <td>001000011000000001100001</td>\n",
       "      <td>2195553.0</td>\n",
       "    </tr>\n",
       "    <tr>\n",
       "      <th>1238791</th>\n",
       "      <td>2016-05-28</td>\n",
       "      <td>15950</td>\n",
       "      <td>000000000000000101000001</td>\n",
       "      <td>321</td>\n",
       "      <td>-2097152.0</td>\n",
       "      <td>001000000000000101000001</td>\n",
       "      <td>2097473.0</td>\n",
       "    </tr>\n",
       "    <tr>\n",
       "      <th>1238734</th>\n",
       "      <td>2016-05-28</td>\n",
       "      <td>15952</td>\n",
       "      <td>001000000000000001000001</td>\n",
       "      <td>2097217</td>\n",
       "      <td>1.0</td>\n",
       "      <td>001000000000000001000000</td>\n",
       "      <td>2097216.0</td>\n",
       "    </tr>\n",
       "    <tr>\n",
       "      <th>1238682</th>\n",
       "      <td>2016-05-28</td>\n",
       "      <td>15982</td>\n",
       "      <td>000000000000000000000000</td>\n",
       "      <td>0</td>\n",
       "      <td>-524288.0</td>\n",
       "      <td>000010000000000000000000</td>\n",
       "      <td>524288.0</td>\n",
       "    </tr>\n",
       "  </tbody>\n",
       "</table>\n",
       "</div>"
      ],
      "text/plain": [
       "         fecha_dato  ncodpers               targets_str  targets_dec  \\\n",
       "1238761  2016-05-28     15889  001000001000000000110000      2129968   \n",
       "1238751  2016-05-28     15900  000000010000000001000001        65601   \n",
       "1238787  2016-05-28     15925  001000010000000000100000      2162720   \n",
       "1238786  2016-05-28     15926  001000010000010000010000      2163728   \n",
       "1238785  2016-05-28     15927  000000001000000100000001        33025   \n",
       "1238783  2016-05-28     15929  001000001000100000110001      2132017   \n",
       "1238769  2016-05-28     15944  001000011000000001000001      2195521   \n",
       "1238791  2016-05-28     15950  000000000000000101000001          321   \n",
       "1238734  2016-05-28     15952  001000000000000001000001      2097217   \n",
       "1238682  2016-05-28     15982  000000000000000000000000            0   \n",
       "\n",
       "              diff            lc_targets_str  lc_targets_dec  \n",
       "1238761       32.0  001000001000000000010000       2129936.0  \n",
       "1238751  -524288.0  000010010000000001000001        589889.0  \n",
       "1238787       -1.0  001000010000000000100001       2162721.0  \n",
       "1238786       -1.0  001000010000010000010001       2163729.0  \n",
       "1238785 -2097152.0  001000001000000100000001       2130177.0  \n",
       "1238783        1.0  001000001000100000110000       2132016.0  \n",
       "1238769      -32.0  001000011000000001100001       2195553.0  \n",
       "1238791 -2097152.0  001000000000000101000001       2097473.0  \n",
       "1238734        1.0  001000000000000001000000       2097216.0  \n",
       "1238682  -524288.0  000010000000000000000000        524288.0  "
      ]
     },
     "execution_count": 20,
     "metadata": {},
     "output_type": "execute_result"
    }
   ],
   "source": [
    "mask = (~val_df2['diff'].isnull()) & (val_df2['diff'] != 0.0)\n",
    "val_df2[mask].sort_values(['ncodpers', 'fecha_dato'])[['fecha_dato', 'ncodpers', 'targets_str', 'targets_dec', 'diff', 'lc_targets_str', 'lc_targets_dec']].head(10)\n"
   ]
  },
  {
   "cell_type": "code",
   "execution_count": 27,
   "metadata": {
    "collapsed": false
   },
   "outputs": [
    {
     "data": {
      "text/plain": [
       "(926663, 75)"
      ]
     },
     "execution_count": 27,
     "metadata": {},
     "output_type": "execute_result"
    }
   ],
   "source": [
    "mask = val_df2['fecha_dato'] == months_ym_map[201605]\n",
    "val_df2[mask].shape"
   ]
  },
  {
   "cell_type": "code",
   "execution_count": 22,
   "metadata": {
    "collapsed": false
   },
   "outputs": [
    {
     "data": {
      "text/plain": [
       "[201604, 201605]"
      ]
     },
     "execution_count": 22,
     "metadata": {},
     "output_type": "execute_result"
    }
   ],
   "source": [
    "yearmonth_list"
   ]
  },
  {
   "cell_type": "code",
   "execution_count": 25,
   "metadata": {
    "collapsed": false
   },
   "outputs": [
    {
     "name": "stderr",
     "output_type": "stream",
     "text": [
      "INFO:root:- Number of lines with unknown data : 0\n",
      "INFO:root:- Number of columns with nan : 10\n"
     ]
    }
   ],
   "source": [
    "full_val_df = load_data2(TRAIN_FILE_PATH, [201605])\n",
    "minimal_clean_data_inplace(full_val_df)\n",
    "preprocess_data_inplace(full_val_df)"
   ]
  },
  {
   "cell_type": "code",
   "execution_count": 26,
   "metadata": {
    "collapsed": false
   },
   "outputs": [
    {
     "data": {
      "text/plain": [
       "(931453, 46)"
      ]
     },
     "execution_count": 26,
     "metadata": {},
     "output_type": "execute_result"
    }
   ],
   "source": [
    "full_val_df.shape"
   ]
  },
  {
   "cell_type": "code",
   "execution_count": null,
   "metadata": {
    "collapsed": true
   },
   "outputs": [],
   "source": []
  },
  {
   "cell_type": "code",
   "execution_count": null,
   "metadata": {
    "collapsed": true
   },
   "outputs": [],
   "source": []
  },
  {
   "cell_type": "code",
   "execution_count": null,
   "metadata": {
    "collapsed": true
   },
   "outputs": [],
   "source": []
  },
  {
   "cell_type": "code",
   "execution_count": null,
   "metadata": {
    "collapsed": true
   },
   "outputs": [],
   "source": []
  },
  {
   "cell_type": "code",
   "execution_count": null,
   "metadata": {
    "collapsed": true
   },
   "outputs": [],
   "source": []
  },
  {
   "cell_type": "markdown",
   "metadata": {},
   "source": [
    "Load data + minimal cleaning + preprocessing\n",
    "\n",
    "* 201505 - to get the clients last choice \n",
    "* 201506 - to train on"
   ]
  },
  {
   "cell_type": "code",
   "execution_count": null,
   "metadata": {
    "collapsed": true
   },
   "outputs": [],
   "source": [
    "yearmonth_list = [201504, 201505] \n",
    "nb_months = len(yearmonth_list)\n",
    "nb_clients = 250000\n",
    "# nb_clients = 'max'"
   ]
  },
  {
   "cell_type": "code",
   "execution_count": null,
   "metadata": {
    "collapsed": false
   },
   "outputs": [],
   "source": [
    "data_df = load_data2(TRAIN_FILE_PATH, yearmonth_list, nb_clients)\n",
    "minimal_clean_data_inplace(data_df)\n",
    "preprocess_data_inplace(data_df)\n",
    "\n",
    "months = data_df['fecha_dato'].unique()\n",
    "clients = data_df['ncodpers'].unique()\n",
    "assert len(clients) == (data_df['ncodpers'].value_counts() == nb_months).sum()\n",
    "ll = len(clients)\n",
    "for m in months:\n",
    "    l = len(data_df[data_df['fecha_dato'] == m]['ncodpers'].unique())\n",
    "    assert l == ll, \"Number of clients should be identical for all monthes. (%s, %s, %s)\" % (m, l, ll)"
   ]
  },
  {
   "cell_type": "code",
   "execution_count": null,
   "metadata": {
    "collapsed": false
   },
   "outputs": [],
   "source": [
    "features = [\n",
    "    u'ind_empleado', u'pais_residencia',\n",
    "    u'sexo', u'age', u'ind_nuevo', u'antiguedad', u'indrel',\n",
    "    u'ult_fec_cli_1t', u'indrel_1mes', u'tiprel_1mes', u'indresi',\n",
    "    u'indext', u'conyuemp', u'canal_entrada', u'indfall', u'nomprov',\n",
    "    u'ind_actividad_cliente', u'renta', u'segmento'    \n",
    "]"
   ]
  },
  {
   "cell_type": "code",
   "execution_count": null,
   "metadata": {
    "collapsed": false
   },
   "outputs": [],
   "source": [
    "from common import PREPROCESS_LABEL_ENCODERS\n",
    "#PREPROCESS_LABEL_ENCODERS"
   ]
  },
  {
   "cell_type": "code",
   "execution_count": null,
   "metadata": {
    "collapsed": false
   },
   "outputs": [],
   "source": [
    "print months\n",
    "\n",
    "for ym in yearmonth_list:\n",
    "    print ym"
   ]
  },
  {
   "cell_type": "code",
   "execution_count": null,
   "metadata": {
    "collapsed": false
   },
   "outputs": [],
   "source": [
    "\n"
   ]
  },
  {
   "cell_type": "markdown",
   "metadata": {},
   "source": [
    "Create profiles and create models for profiles"
   ]
  },
  {
   "cell_type": "code",
   "execution_count": null,
   "metadata": {
    "collapsed": false
   },
   "outputs": [],
   "source": [
    "from keras.models import Sequential\n",
    "from keras.layers import Dense, Dropout, Merge\n",
    "from keras.utils import np_utils"
   ]
  },
  {
   "cell_type": "markdown",
   "metadata": {},
   "source": [
    "## Select only clients that choose new products in 201506 comparing with 201505\n",
    "\n",
    "201505 [FEATURES|TARGETS]  \n",
    "201506 [FEATURES|TARGETS]  \n",
    "\n",
    "TARGETS_201505 -> clients_last_choice\n",
    "TARGETS_201506 - TARGETS_201505 -> active_clients\n",
    "\n",
    "Cross-validation : \n",
    "FEATURES_201506 -> (Split train/val) :\n",
    "  --> (0.75*FEATURES) -> (select only active clients) -> X_train\n",
    "  --> 0.25*FEATURES -> X_val\n",
    "\n"
   ]
  },
  {
   "cell_type": "code",
   "execution_count": null,
   "metadata": {
    "collapsed": true
   },
   "outputs": [],
   "source": [
    "trainval_df = data_df.sort_values(['fecha_dato', 'ncodpers'])\n",
    "last_choice_mask = trainval_df['fecha_dato'] == months[-2]\n",
    "train_month_mask = trainval_df['fecha_dato'] == months[-1]"
   ]
  },
  {
   "cell_type": "code",
   "execution_count": null,
   "metadata": {
    "collapsed": false
   },
   "outputs": [],
   "source": [
    "def add_diff_inplace(df, last_choice_mask, train_month_mask):\n",
    "    tmp_df = df[['fecha_dato','ncodpers']]\n",
    "    tmp_df.loc[:,'target'] = df[TARGET_LABELS].sum(axis=1)\n",
    "    v1 = tmp_df[train_month_mask]['target'].values\n",
    "    v2 = tmp_df[last_choice_mask]['target'].values\n",
    "    ll = min(len(v1), len(v2))\n",
    "    indices = tmp_df.index[ll:]\n",
    "    df.loc[indices,'diff'] = pd.Series(v1 - v2, index=indices)\n",
    "    del tmp_df, v1, v2"
   ]
  },
  {
   "cell_type": "code",
   "execution_count": null,
   "metadata": {
    "collapsed": false
   },
   "outputs": [],
   "source": [
    "add_diff_inplace(trainval_df, last_choice_mask, train_month_mask)\n",
    "print trainval_df.shape"
   ]
  },
  {
   "cell_type": "code",
   "execution_count": null,
   "metadata": {
    "collapsed": false
   },
   "outputs": [],
   "source": [
    "clients_last_choice = trainval_df[last_choice_mask][['ncodpers'] + TARGET_LABELS].sort_values(['ncodpers'])\n",
    "X = trainval_df[train_month_mask][['ncodpers', 'diff'] + features]\n",
    "Y = trainval_df[train_month_mask][['ncodpers'] + TARGET_LABELS]"
   ]
  },
  {
   "cell_type": "code",
   "execution_count": null,
   "metadata": {
    "collapsed": false
   },
   "outputs": [],
   "source": [
    "# Select only clients from test data\n",
    "clients_last_choice = clients_last_choice[clients_last_choice['ncodpers'].isin(X['ncodpers'])]\n",
    "assert (X['ncodpers'].values == clients_last_choice['ncodpers'].values).all(), \"WTF\""
   ]
  },
  {
   "cell_type": "markdown",
   "metadata": {},
   "source": [
    "### Feature engineering"
   ]
  },
  {
   "cell_type": "code",
   "execution_count": null,
   "metadata": {
    "collapsed": false
   },
   "outputs": [],
   "source": [
    "def get_age_group_index(age):\n",
    "    if age < 10:\n",
    "        return -3\n",
    "    elif age < 15:\n",
    "        return -2        \n",
    "    elif age < 18:\n",
    "        return -1    \n",
    "    elif age < 23:\n",
    "        return 0\n",
    "    elif age < 25:\n",
    "        return 1\n",
    "    elif age < 27:\n",
    "        return 2\n",
    "    elif age < 28:\n",
    "        return 3    \n",
    "    elif age < 32:\n",
    "        return 4\n",
    "    elif age < 37:\n",
    "        return 5    \n",
    "    elif age < 42:\n",
    "        return 6\n",
    "    elif age < 47:\n",
    "        return 7\n",
    "    elif age < 52:\n",
    "        return 8\n",
    "    elif age < 57:\n",
    "        return 9\n",
    "    elif age < 60:\n",
    "        return 10\n",
    "    elif age < 65:\n",
    "        return 11\n",
    "    elif age < 70:\n",
    "        return 12\n",
    "    elif age < 75:\n",
    "        return 13\n",
    "    elif age < 80:\n",
    "        return 14\n",
    "    else:\n",
    "        return 15\n",
    "\n",
    "def get_income_group_index(income):\n",
    "    if income < 0:\n",
    "        return -1\n",
    "    elif income < 45542.97:\n",
    "        return 1\n",
    "    elif income < 57629.67:\n",
    "        return 2\n",
    "    elif income < 68211.78:\n",
    "        return 3\n",
    "    elif income < 78852.39:\n",
    "        return 4\n",
    "    elif income < 90461.97:\n",
    "        return 5\n",
    "    elif income < 103855.23:\n",
    "        return 6\n",
    "    elif income < 120063.00:\n",
    "        return 7\n",
    "    elif income < 141347.49:\n",
    "        return 8\n",
    "    elif income < 173418.36:\n",
    "        return 9\n",
    "    elif income < 234687.12:\n",
    "        return 10\n",
    "    else:\n",
    "        return 11"
   ]
  },
  {
   "cell_type": "code",
   "execution_count": null,
   "metadata": {
    "collapsed": false
   },
   "outputs": [],
   "source": [
    "X.loc[:,'age'] = X['age'].apply(get_age_group_index)\n",
    "X.loc[:,'renta'] = X['renta'].apply(get_income_group_index)"
   ]
  },
  {
   "cell_type": "code",
   "execution_count": null,
   "metadata": {
    "collapsed": false
   },
   "outputs": [],
   "source": [
    "# X_countries = pd.get_dummies(X['pais_residencia'])\n",
    "# X_countries.head()"
   ]
  },
  {
   "cell_type": "code",
   "execution_count": null,
   "metadata": {
    "collapsed": false
   },
   "outputs": [],
   "source": [
    "# def drop_const_cols(df):\n",
    "#     \"\"\"\n",
    "#     Method to remove constant columns\n",
    "#     \"\"\"\n",
    "#     indices = df.index\n",
    "#     return df.loc[:, (df != df.ix[indices[0]]).any()]\n",
    "\n",
    "# X = drop_const_cols(X)"
   ]
  },
  {
   "cell_type": "code",
   "execution_count": null,
   "metadata": {
    "collapsed": false
   },
   "outputs": [],
   "source": [
    "# X_dummy = pd.DataFrame()\n",
    "\n",
    "# X_dummy = pd.concat([X_dummy, X['diff']], axis=1)\n",
    "# ff = list(features)\n",
    "# ff.remove('indrel_1mes')\n",
    "# ff.remove('tiprel_1mes')\n",
    "# ff = list(set(ff) & set(X.columns))\n",
    "\n",
    "# for f in ff:\n",
    "#     print \"Process dummification: \", f\n",
    "#     X_dummy = pd.concat([X_dummy, pd.get_dummies(X[f])], axis=1)\n",
    "    \n",
    "# print X_dummy.shape\n",
    "# X_dummy.head()"
   ]
  },
  {
   "cell_type": "code",
   "execution_count": null,
   "metadata": {
    "collapsed": false
   },
   "outputs": [],
   "source": [
    "X.head()"
   ]
  },
  {
   "cell_type": "markdown",
   "metadata": {},
   "source": [
    "### Run KFold Cross-validation "
   ]
  },
  {
   "cell_type": "code",
   "execution_count": null,
   "metadata": {
    "collapsed": false
   },
   "outputs": [],
   "source": [
    "def create_model(input_dim, output_dim):\n",
    "        \n",
    "    model = Sequential()\n",
    "    model.add(Dense(input_dim, init='uniform', input_dim=input_dim, activation='relu'))\n",
    "    model.add(Dropout(0.30))\n",
    "    model.add(Dense(50, activation='relu'))\n",
    "    model.add(Dropout(0.20))\n",
    "    model.add(Dense(30, activation='relu'))\n",
    "    model.add(Dropout(0.10))\n",
    "    model.add(Dense(output_dim, activation='sigmoid'))\n",
    "\n",
    "    model.compile(loss='binary_crossentropy', optimizer='nadam', metrics=['accuracy'])\n",
    "    return model"
   ]
  },
  {
   "cell_type": "code",
   "execution_count": null,
   "metadata": {
    "collapsed": false,
    "scrolled": true
   },
   "outputs": [],
   "source": [
    "from sklearn.model_selection import KFold\n",
    "\n",
    "nb_folds=3\n",
    "\n",
    "def max_map7_score_per_fold(x_df, y_df, clients_last_choice_df, nb_folds):    \n",
    "    kf = KFold(n_splits=nb_folds)\n",
    "    scores = []\n",
    "    for train_index, test_index in kf.split(range(x_df.shape[0])):\n",
    "        X_val = x_df.loc[x_df.index[test_index], :]\n",
    "        Y_val = y_df.loc[y_df.index[test_index], :]\n",
    "        CLC_val = clients_last_choice_df.loc[clients_last_choice_df.index[test_index], :]                \n",
    "        x_val, y_val = prepare_to_test(X_val, Y_val)\n",
    "        scores.append(map7_score2(y_val, y_val, CLC_val[TARGET_LABELS].values))  \n",
    "    return scores        "
   ]
  },
  {
   "cell_type": "code",
   "execution_count": null,
   "metadata": {
    "collapsed": false
   },
   "outputs": [],
   "source": [
    "# CROSS VALIDATION\n",
    "from sklearn.preprocessing import StandardScaler\n",
    "n_highest = 7\n",
    "\n",
    "def prepare_to_fit(X_train, Y_train):\n",
    "    # Select only active client for the training part\n",
    "    mask = X_train['diff'] > 0\n",
    "    x_train = X_train[mask].drop(['diff'], axis=1).values\n",
    "    y_train = Y_train[mask][TARGET_LABELS].values\n",
    "    x_train = StandardScaler().fit_transform(x_train)\n",
    "    return x_train, y_train\n",
    "\n",
    "def prepare_to_fit_nomask(X_train, Y_train):\n",
    "    y_train = Y_train[TARGET_LABELS].values\n",
    "    x_train = X_train.drop(['diff'], axis=1).values\n",
    "    x_train = StandardScaler().fit_transform(x_train)\n",
    "    return x_train, y_train\n",
    "\n",
    "def prepare_to_test(X_val, Y_val=None):\n",
    "    if Y_val is not None:\n",
    "        y_val = Y_val[TARGET_LABELS].values\n",
    "    \n",
    "    x_val = []\n",
    "    x_val = X_val.drop(['diff'], axis=1).values    \n",
    "    x_val = StandardScaler().fit_transform(x_val)  \n",
    "    \n",
    "    if Y_val is not None:\n",
    "        return x_val, y_val\n",
    "    else:\n",
    "        return x_val\n",
    "\n",
    "def cross_val_score2(data, \n",
    "                     nb_folds=5, \n",
    "                     prepare_to_fit_func=prepare_to_fit, \n",
    "                     prepare_to_test_func=prepare_to_test, \n",
    "                     create_model_func=create_model):\n",
    "    \n",
    "    x_df, y_df, clients_last_choice_df = data\n",
    "    kf = KFold(n_splits=nb_folds)\n",
    "    scores = []\n",
    "    \n",
    "    for train_index, test_index in kf.split(range(x_df.shape[0])):\n",
    "        X_train, X_val = x_df.loc[x_df.index[train_index], :], x_df.loc[x_df.index[test_index], :]\n",
    "        Y_train, Y_val = y_df.loc[y_df.index[train_index], :], y_df.loc[y_df.index[test_index], :]\n",
    "        CLC_val = clients_last_choice_df.loc[clients_last_choice_df.index[test_index], :]\n",
    "                \n",
    "        x_train, y_train = prepare_to_fit_func(X_train, Y_train)\n",
    "        x_val, y_val = prepare_to_test_func(X_val, Y_val)\n",
    "        \n",
    "        logging.info(\"- Train/Val shapes : {}, {} | {}, {}\".format(\n",
    "                [i.shape for i in x_train] if isinstance(x_train, list) else x_train.shape, \n",
    "                [i.shape for i in x_val] if isinstance(x_val, list) else x_val.shape, \n",
    "                y_train.shape, \n",
    "                y_val.shape)\n",
    "        )                \n",
    "            \n",
    "        logging.info(\"- Create the model : \")\n",
    "        estimator = create_model_func(x_train.shape[1], len(TARGET_LABELS))\n",
    "        logging.info(\"- Fit the model\")\n",
    "        hist = estimator.fit(x_train, y_train, nb_epoch=250, batch_size=5000, verbose=0)        \n",
    "        for key in hist.history:            \n",
    "            logging.info(\"-- %s : min=%f, max=%f\" % (key, np.min(hist.history[key]), np.max(hist.history[key])))\n",
    "        \n",
    "        logging.info(\"- Predict using trained model\")\n",
    "        y_pred = estimator.predict(x_val, verbose=0)\n",
    "        logging.info(\"- Compute map7 score\")\n",
    "        scores.append(map7_score2(y_val, y_pred, CLC_val[TARGET_LABELS].values))        \n",
    "    \n",
    "    return np.array(scores)"
   ]
  },
  {
   "cell_type": "code",
   "execution_count": null,
   "metadata": {
    "collapsed": false
   },
   "outputs": [],
   "source": [
    "results = cross_val_score2((X.drop(['ncodpers'], axis=1), Y, clients_last_choice), \n",
    "                           nb_folds=nb_folds)\n",
    "print \"Cross-Validation \\n %i | %f | %f | %f | %.5f \" % (nb_folds, results.min(), results.mean(), results.max(), results.std())"
   ]
  },
  {
   "cell_type": "markdown",
   "metadata": {
    "collapsed": true
   },
   "source": [
    "### Test 1 : Train on active clients + feature engineering\n",
    "\n",
    "#### Data: \n",
    "\n",
    "- yearmonth_list = [201505, 201506]\n",
    "- nb_clients = 250000\n",
    "\n",
    "#### Feature engineering\n",
    "\n",
    "- age -> age group\n",
    "- income -> income group\n",
    "\n",
    "\n",
    "#### Model\n",
    "\n",
    "- 75 -> 50 -> 30 ->\n",
    "- sigmoid, binary_crossentropy, nadam, accuracy, \n",
    "\n",
    "**Conf:**\n",
    "- batch_size=2000\n",
    "\n",
    "*Cross-validation results :* \n",
    "\n",
    " Nb epoch | Nb folds | Min MAP@7 | Mean MAP@7 | Max MAP@7 | STD MAP@7\n",
    " --- | --- | --- | --- | --- | ---\n",
    " 150 | 3 | 0.025659 | 0.029959 | 0.037639 | 0.00544 \n",
    "\n",
    "\n",
    "#### Model 1 \n",
    "\n",
    "- 50 -> 30 ->\n",
    "- sigmoid, binary_crossentropy, nadam, accuracy, \n",
    "\n",
    "**Conf:**\n",
    "- batch_size=2000\n",
    "\n",
    "*Cross-validation results :* \n",
    "\n",
    " Nb epoch | Nb folds | Min MAP@7 | Mean MAP@7 | Max MAP@7 | STD MAP@7\n",
    " --- | --- | --- | --- | --- | ---\n",
    " 150 | 3 | 0.025802 | 0.030137 | 0.037217 | 0.00505 \n",
    "\n",
    "\n",
    "Kaggle : 0.0197579"
   ]
  },
  {
   "cell_type": "markdown",
   "metadata": {
    "collapsed": true
   },
   "source": [
    "## Train model for predictions"
   ]
  },
  {
   "cell_type": "code",
   "execution_count": null,
   "metadata": {
    "collapsed": false,
    "scrolled": true
   },
   "outputs": [],
   "source": [
    "def train_model(X_train, Y_train):\n",
    "\n",
    "    x_train, y_train = prepare_to_fit(X_train, Y_train)\n",
    "    logging.info(\"- Train data shapes : {}, {}\".format(\n",
    "            [i.shape for i in x_train] if isinstance(x_train, list) else x_train.shape, \n",
    "            y_train.shape)\n",
    "    )                \n",
    "\n",
    "    logging.info(\"- Create the model\")\n",
    "    \n",
    "    estimator = create_model(x_train.shape[1], len(TARGET_LABELS))\n",
    "    logging.info(\"- Fit the model\")\n",
    "    hist = estimator.fit(x_train, y_train, nb_epoch=150, batch_size=2000, verbose=0)        \n",
    "    for key in hist.history:            \n",
    "        logging.info(\"-- %s : min=%f, max=%f\" % (key, np.min(hist.history[key]), np.max(hist.history[key])))\n",
    "    return estimator\n",
    "\n",
    "estimator = train_model(X[['diff'] + features], Y)"
   ]
  },
  {
   "cell_type": "markdown",
   "metadata": {
    "collapsed": true
   },
   "source": [
    "Check score on the data 2016"
   ]
  },
  {
   "cell_type": "code",
   "execution_count": null,
   "metadata": {
    "collapsed": true
   },
   "outputs": [],
   "source": [
    "yearmonth_list = [201604, 201605] \n",
    "nb_months = len(yearmonth_list)\n",
    "nb_clients = 'max'"
   ]
  },
  {
   "cell_type": "code",
   "execution_count": null,
   "metadata": {
    "collapsed": false
   },
   "outputs": [],
   "source": [
    "val_df = load_data2(TRAIN_FILE_PATH, yearmonth_list, nb_clients)\n",
    "minimal_clean_data_inplace(val_df)\n",
    "preprocess_data_inplace(val_df)\n",
    "\n",
    "months = val_df['fecha_dato'].unique()\n",
    "clients = val_df['ncodpers'].unique()\n",
    "assert len(clients) == (val_df['ncodpers'].value_counts() == nb_months).sum()\n",
    "ll = len(clients)\n",
    "for m in months:\n",
    "    l = len(val_df[val_df['fecha_dato'] == m]['ncodpers'].unique())\n",
    "    assert l == ll, \"Number of clients should be identical for all monthes. (%s, %s, %s)\" % (m, l, ll)"
   ]
  },
  {
   "cell_type": "code",
   "execution_count": null,
   "metadata": {
    "collapsed": true
   },
   "outputs": [],
   "source": [
    "val_df = val_df.sort_values(['fecha_dato', 'ncodpers'])\n",
    "last_choice_mask = val_df['fecha_dato'] == months[-2]\n",
    "train_month_mask = trainval_df['fecha_dato'] == months[-1]"
   ]
  },
  {
   "cell_type": "code",
   "execution_count": null,
   "metadata": {
    "collapsed": false
   },
   "outputs": [],
   "source": [
    "def add_diff_inplace(df, last_choice_mask, train_month_mask):\n",
    "    tmp_df = df[['fecha_dato','ncodpers']]\n",
    "    tmp_df.loc[:,'target'] = df[TARGET_LABELS].sum(axis=1)\n",
    "    v1 = tmp_df[train_month_mask]['target'].values\n",
    "    v2 = tmp_df[last_choice_mask]['target'].values\n",
    "    ll = min(len(v1), len(v2))\n",
    "    indices = tmp_df.index[ll:]\n",
    "    df.loc[indices,'diff'] = pd.Series(v1 - v2, index=indices)\n",
    "    del tmp_df, v1, v2"
   ]
  },
  {
   "cell_type": "code",
   "execution_count": null,
   "metadata": {
    "collapsed": false
   },
   "outputs": [],
   "source": [
    "add_diff_inplace(trainval_df, last_choice_mask, train_month_mask)\n",
    "print trainval_df.shape"
   ]
  },
  {
   "cell_type": "code",
   "execution_count": null,
   "metadata": {
    "collapsed": false
   },
   "outputs": [],
   "source": [
    "clients_last_choice = trainval_df[last_choice_mask][['ncodpers'] + TARGET_LABELS].sort_values(['ncodpers'])\n",
    "X = trainval_df[train_month_mask][['ncodpers', 'diff'] + features]\n",
    "Y = trainval_df[train_month_mask][['ncodpers'] + TARGET_LABELS]"
   ]
  },
  {
   "cell_type": "code",
   "execution_count": null,
   "metadata": {
    "collapsed": false
   },
   "outputs": [],
   "source": [
    "# Select only clients from test data\n",
    "clients_last_choice = clients_last_choice[clients_last_choice['ncodpers'].isin(X['ncodpers'])]\n",
    "assert (X['ncodpers'].values == clients_last_choice['ncodpers'].values).all(), \"WTF\""
   ]
  },
  {
   "cell_type": "markdown",
   "metadata": {
    "collapsed": true
   },
   "source": [
    "## Prediction on test data"
   ]
  },
  {
   "cell_type": "markdown",
   "metadata": {},
   "source": [
    "Load the last month from the training dataset to get user last choice and remove it from predictions"
   ]
  },
  {
   "cell_type": "code",
   "execution_count": null,
   "metadata": {
    "collapsed": false
   },
   "outputs": [],
   "source": [
    "yearmonth_list = [201605]\n",
    "lastmonth_df = load_data2(TRAIN_FILE_PATH, yearmonth_list)\n",
    "minimal_clean_data_inplace(lastmonth_df)\n",
    "\n",
    "test_df = load_data2(TEST_FILE_PATH, [])\n",
    "minimal_clean_data_inplace(test_df)\n",
    "preprocess_data_inplace(test_df)\n",
    "test_df = test_df.sort_values(['ncodpers'])\n",
    "\n",
    "clients_last_choice_test = lastmonth_df[['ncodpers'] + TARGET_LABELS].sort_values(['ncodpers'])\n",
    "# Select only clients from test data\n",
    "clients_last_choice_test = clients_last_choice_test[clients_last_choice_test['ncodpers'].isin(test_df['ncodpers'])]\n",
    "assert (test_df['ncodpers'].values == clients_last_choice_test['ncodpers'].values).all(), \"WTF\""
   ]
  },
  {
   "cell_type": "code",
   "execution_count": null,
   "metadata": {
    "collapsed": false
   },
   "outputs": [],
   "source": [
    "X_test = test_df[['ncodpers'] + features]"
   ]
  },
  {
   "cell_type": "code",
   "execution_count": null,
   "metadata": {
    "collapsed": false
   },
   "outputs": [],
   "source": [
    "X_test.loc[:,'age'] = X_test['age'].apply(get_age_group_index)\n",
    "X_test.loc[:,'renta'] = X_test['renta'].apply(get_income_group_index)"
   ]
  },
  {
   "cell_type": "markdown",
   "metadata": {},
   "source": [
    "Make predictions"
   ]
  },
  {
   "cell_type": "code",
   "execution_count": null,
   "metadata": {
    "collapsed": true
   },
   "outputs": [],
   "source": [
    "def get_submission(y_pred, clients, clc, target_labels, n_highest=7):\n",
    "    predicted_added_products = np.argsort(y_pred, axis=1)\n",
    "    predicted_added_products = predicted_added_products[:,::-1][:,:n_highest]\n",
    "    added_products_col = []\n",
    "    count = 0 \n",
    "    for products, last_choice in zip(predicted_added_products, clc):\n",
    "        predictions = remove_last_choice(products, last_choice)\n",
    "        added_products_col.append(' '.join([target_labels[i] for i in predictions]))\n",
    "        count+=1\n",
    "        if count % 100000 == 0:\n",
    "            logging.info(\"Elapsed : %i\", count)\n",
    "            \n",
    "    out = pd.DataFrame(data={'ncodpers': clients, 'added_products': added_products_col}, columns=['ncodpers', 'added_products'])\n",
    "    return out"
   ]
  },
  {
   "cell_type": "code",
   "execution_count": null,
   "metadata": {
    "collapsed": false
   },
   "outputs": [],
   "source": [
    "\n",
    "data = {\n",
    "    0: {'x': X_test, 'clc': clients_last_choice_test},\n",
    "}\n",
    "\n",
    "submissions = []\n",
    "for i in data.keys():\n",
    "    x = data[i]['x']\n",
    "    clc = data[i]['clc']\n",
    "    x_test = prepare_to_test(x)\n",
    "    y_pred = estimator.predict(x_test, verbose=0)\n",
    "\n",
    "    clients = x['ncodpers']\n",
    "    submission = get_submission(y_pred, clients, clc[TARGET_LABELS].values, TARGET_LABELS, 7)\n",
    "    print submission.head()\n",
    "    submissions.append(submission)\n",
    "\n",
    "submission = pd.concat(submissions)"
   ]
  },
  {
   "cell_type": "code",
   "execution_count": null,
   "metadata": {
    "collapsed": false
   },
   "outputs": [],
   "source": [
    "submission.head()"
   ]
  },
  {
   "cell_type": "markdown",
   "metadata": {},
   "source": [
    "Get submission DataFrame and write csv file"
   ]
  },
  {
   "cell_type": "code",
   "execution_count": null,
   "metadata": {
    "collapsed": false
   },
   "outputs": [],
   "source": [
    "from datetime import datetime\n",
    "import csv\n",
    "\n",
    "logging.info('- Generate submission')\n",
    "submission_file = '../results/submission_' + \\\n",
    "                  str(datetime.now().strftime(\"%Y-%m-%d-%H-%M\")) + \\\n",
    "                  '.csv'\n",
    "\n",
    "submission.to_csv(submission_file, index=False, index_label=False)"
   ]
  },
  {
   "cell_type": "code",
   "execution_count": null,
   "metadata": {
    "collapsed": true
   },
   "outputs": [],
   "source": []
  },
  {
   "cell_type": "code",
   "execution_count": null,
   "metadata": {
    "collapsed": true
   },
   "outputs": [],
   "source": []
  },
  {
   "cell_type": "code",
   "execution_count": null,
   "metadata": {
    "collapsed": true
   },
   "outputs": [],
   "source": []
  }
 ],
 "metadata": {
  "kernelspec": {
   "display_name": "Python 2",
   "language": "python",
   "name": "python2"
  },
  "language_info": {
   "codemirror_mode": {
    "name": "ipython",
    "version": 2
   },
   "file_extension": ".py",
   "mimetype": "text/x-python",
   "name": "python",
   "nbconvert_exporter": "python",
   "pygments_lexer": "ipython2",
   "version": "2.7.12"
  }
 },
 "nbformat": 4,
 "nbformat_minor": 0
}
