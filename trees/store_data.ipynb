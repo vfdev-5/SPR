{
 "cells": [
  {
   "cell_type": "markdown",
   "metadata": {},
   "source": [
    "# Store train/val and test data"
   ]
  },
  {
   "cell_type": "code",
   "execution_count": 1,
   "metadata": {
    "collapsed": true
   },
   "outputs": [],
   "source": [
    "import os\n",
    "import numpy as np\n",
    "import pandas as pd\n",
    "\n",
    "import logging\n",
    "logging.getLogger().handlers = []\n",
    "logging.basicConfig(level=logging.INFO)"
   ]
  },
  {
   "cell_type": "code",
   "execution_count": 2,
   "metadata": {
    "collapsed": true
   },
   "outputs": [],
   "source": [
    "import sys\n",
    "sys.path.append(\"../common\")\n",
    "\n",
    "from dataset import load_trainval"
   ]
  },
  {
   "cell_type": "code",
   "execution_count": 3,
   "metadata": {
    "collapsed": false
   },
   "outputs": [
    {
     "name": "stderr",
     "output_type": "stream",
     "text": [
      "INFO:root:- Load training data : \n",
      "INFO:root:- Load data : [201504, 201505, 201601, 201602, 201604, 201605]\n",
      "INFO:root:-- Select 150000 clients\n",
      "INFO:root:- Number of lines with unknown data : 34\n",
      "INFO:root:- Number of columns with nan : 9\n",
      "INFO:root:-- Process date : 201505\n",
      "INFO:root:-- Process date : 201602\n",
      "INFO:root:-- Process date : 201605\n",
      "INFO:root:-- Add logCount columns\n",
      "INFO:root:-- Process month : 2015-04-28\n",
      "INFO:root:-- Process month : 2015-05-28\n",
      "INFO:root:-- Process month : 2016-01-28\n",
      "INFO:root:-- Process month : 2016-02-28\n",
      "INFO:root:-- Process month : 2016-04-28\n",
      "INFO:root:-- Process month : 2016-05-28\n",
      "INFO:root:-- Add logDecimal columns\n",
      "INFO:root:-- Transform age/renta/logdiff\n",
      "INFO:root:-- Add target values frequencies\n",
      "INFO:root:-- Add target diff\n"
     ]
    }
   ],
   "source": [
    "# train_yearmonths_list = [201504, 201505, 201604]\n",
    "train_yearmonths_list = [201505, 201602, 201605]\n",
    "#val_yearmonth = [201605]\n",
    "train_nb_clients = 150000\n",
    "#train_df, val_df = load_trainval(train_yearmonths_list, val_yearmonth, train_nb_clients, val_nb_clients=1500)\n",
    "train_df = load_trainval(train_yearmonths_list, train_nb_clients=train_nb_clients)"
   ]
  },
  {
   "cell_type": "code",
   "execution_count": 5,
   "metadata": {
    "collapsed": false
   },
   "outputs": [
    {
     "name": "stdout",
     "output_type": "stream",
     "text": [
      "trainval_201505+201602+201605__150000.csv\n"
     ]
    }
   ],
   "source": [
    "filename = \"trainval_%s__%i.csv\" % (\n",
    "    '+'.join([str(ym) for ym in train_yearmonths_list]),\n",
    "    train_nb_clients\n",
    ")\n",
    "train_df.to_csv('../data/generated/' + filename, index=False, index_label=False)\n",
    "print filename"
   ]
  },
  {
   "cell_type": "code",
   "execution_count": null,
   "metadata": {
    "collapsed": false
   },
   "outputs": [],
   "source": []
  },
  {
   "cell_type": "code",
   "execution_count": 6,
   "metadata": {
    "collapsed": false
   },
   "outputs": [
    {
     "name": "stdout",
     "output_type": "stream",
     "text": [
      "fecha_dato,ncodpers,ind_empleado,pais_residencia,sexo,age,fecha_alta,ind_nuevo,antiguedad,indrel,ult_fec_cli_1t,indrel_1mes,tiprel_1mes,indresi,indext,conyuemp,canal_entrada,indfall,nomprov,ind_actividad_cliente,renta,segmento,ind_ahor_fin_ult1,ind_aval_fin_ult1,ind_cco_fin_ult1,ind_cder_fin_ult1,ind_cno_fin_ult1,ind_ctju_fin_ult1,ind_ctma_fin_ult1,ind_ctop_fin_ult1,ind_ctpp_fin_ult1,ind_deco_fin_ult1,ind_deme_fin_ult1,ind_dela_fin_ult1,ind_ecue_fin_ult1,ind_fond_fin_ult1,ind_hip_fin_ult1,ind_plan_fin_ult1,ind_pres_fin_ult1,ind_reca_fin_ult1,ind_tjcr_fin_ult1,ind_valo_fin_ult1,ind_viv_fin_ult1,ind_nomina_ult1,ind_nom_pens_ult1,ind_recibo_ult1,targets_str,lc_ind_ahor_fin_ult1,lc_ind_aval_fin_ult1,lc_ind_cco_fin_ult1,lc_ind_cder_fin_ult1,lc_ind_cno_fin_ult1,lc_ind_ctju_fin_ult1,lc_ind_ctma_fin_ult1,lc_ind_ctop_fin_ult1,lc_ind_ctpp_fin_ult1,lc_ind_deco_fin_ult1,lc_ind_deme_fin_ult1,lc_ind_dela_fin_ult1,lc_ind_ecue_fin_ult1,lc_ind_fond_fin_ult1,lc_ind_hip_fin_ult1,lc_ind_plan_fin_ult1,lc_ind_pres_fin_ult1,lc_ind_reca_fin_ult1,lc_ind_tjcr_fin_ult1,lc_ind_valo_fin_ult1,lc_ind_viv_fin_ult1,lc_ind_nomina_ult1,lc_ind_nom_pens_ult1,lc_ind_recibo_ult1,lc_targets_str,targets_logcount1,targets_logcount2,lc_targets_logcount2,targets_logcount2_diff,targets_logDec,lc_targets_logDec,targets_diff,targets_logdiff,ind_ahor_fin_ult1_frq,ind_aval_fin_ult1_frq,ind_cco_fin_ult1_frq,ind_cder_fin_ult1_frq,ind_cno_fin_ult1_frq,ind_ctju_fin_ult1_frq,ind_ctma_fin_ult1_frq,ind_ctop_fin_ult1_frq,ind_ctpp_fin_ult1_frq,ind_deco_fin_ult1_frq,ind_deme_fin_ult1_frq,ind_dela_fin_ult1_frq,ind_ecue_fin_ult1_frq,ind_fond_fin_ult1_frq,ind_hip_fin_ult1_frq,ind_plan_fin_ult1_frq,ind_pres_fin_ult1_frq,ind_reca_fin_ult1_frq,ind_tjcr_fin_ult1_frq,ind_valo_fin_ult1_frq,ind_viv_fin_ult1_frq,ind_nomina_ult1_frq,ind_nom_pens_ult1_frq,ind_recibo_ult1_frq,ind_ahor_fin_ult1_diff,ind_aval_fin_ult1_diff,ind_cco_fin_ult1_diff,ind_cder_fin_ult1_diff,ind_cno_fin_ult1_diff,ind_ctju_fin_ult1_diff,ind_ctma_fin_ult1_diff,ind_ctop_fin_ult1_diff,ind_ctpp_fin_ult1_diff,ind_deco_fin_ult1_diff,ind_deme_fin_ult1_diff,ind_dela_fin_ult1_diff,ind_ecue_fin_ult1_diff,ind_fond_fin_ult1_diff,ind_hip_fin_ult1_diff,ind_plan_fin_ult1_diff,ind_pres_fin_ult1_diff,ind_reca_fin_ult1_diff,ind_tjcr_fin_ult1_diff,ind_valo_fin_ult1_diff,ind_viv_fin_ult1_diff,ind_nomina_ult1_diff,ind_nom_pens_ult1_diff,ind_recibo_ult1_diff\n",
      "\n",
      "2015-04-28,15889,0,0,0,9,1995-01-16,0,243,1.0,0,0,0,0,0,0,0,0,0,1.0,11,0,0,0,1,0,0,0,0,0,1,0,0,0,0,0,0,0,0,0,0,1,0,0.0,0.0,0,001000001000000000010000,,,,,,,,,,,,,,,,,,,,,,,,,,0.000473386983858,0.00046671956155,-99999.0,-99999.0,14.5716029598,-99999.0,-99999.0,-99999.0,0.999877763924,0.999984442681,0.771587446577,0.99949105343,0.897256133473,0.98846424817,0.990226670134,0.835913625766,0.0547173124065,0.998694296465,0.998174237525,0.948421932263,0.892556711983,0.976075066285,0.992618052268,0.987667491205,0.996794081107,0.93188672494,0.943390250895,0.0336427017284,0.995140560375,0.932789049426,0.927527341988,0.839655160918,-99999.0,-99999.0,-99999.0,-99999.0,-99999.0,-99999.0,-99999.0,-99999.0,-99999.0,-99999.0,-99999.0,-99999.0,-99999.0,-99999.0,-99999.0,-99999.0,-99999.0,-99999.0,-99999.0,-99999.0,-99999.0,-99999.0,-99999.0,-99999.0\n",
      "\n",
      "2015-05-28,15889,0,0,0,9,1995-01-16,0,244,1.0,0,0,0,0,0,0,0,0,0,1.0,11,0,0,0,1,0,0,0,0,0,1,0,0,0,0,0,0,0,0,0,1,1,0,0.0,0.0,0,001000001000000000110000,0.0,0.0,1.0,0.0,0.0,0.0,0.0,0.0,1.0,0.0,0.0,0.0,0.0,0.0,0.0,0.0,0.0,0.0,0.0,1.0,0.0,0.0,0.0,0.0,001000001000000000010000,5.33393784629e-05,4.6671956155e-05,0.00046671956155,-0.000420047605395,14.5716179836,2.74544989718,32.0,3.49650756147,0.999877763924,0.999984442681,0.771587446577,0.99949105343,0.897256133473,0.98846424817,0.990226670134,0.835913625766,0.0547173124065,0.998694296465,0.998174237525,0.948421932263,0.892556711983,0.976075066285,0.992618052268,0.987667491205,0.996794081107,0.93188672494,0.0566097491049,0.0336427017284,0.995140560375,0.932789049426,0.927527341988,0.839655160918,0.0,0.0,0.0,0.0,0.0,0.0,0.0,0.0,0.0,0.0,0.0,0.0,0.0,0.0,0.0,0.0,0.0,0.0,1.0,0.0,0.0,0.0,0.0,0.0\n",
      "\n"
     ]
    }
   ],
   "source": [
    "with open('../data/generated/' + filename, 'r') as r:\n",
    "    print r.readline()\n",
    "    print r.readline()\n",
    "    print r.readline()"
   ]
  },
  {
   "cell_type": "code",
   "execution_count": null,
   "metadata": {
    "collapsed": true
   },
   "outputs": [],
   "source": []
  }
 ],
 "metadata": {
  "kernelspec": {
   "display_name": "Python 2",
   "language": "python",
   "name": "python2"
  },
  "language_info": {
   "codemirror_mode": {
    "name": "ipython",
    "version": 2
   },
   "file_extension": ".py",
   "mimetype": "text/x-python",
   "name": "python",
   "nbconvert_exporter": "python",
   "pygments_lexer": "ipython2",
   "version": "2.7.12"
  }
 },
 "nbformat": 4,
 "nbformat_minor": 1
}
