{
 "cells": [
  {
   "cell_type": "markdown",
   "metadata": {},
   "source": [
    "# Store train/val and test data"
   ]
  },
  {
   "cell_type": "code",
   "execution_count": 1,
   "metadata": {
    "collapsed": true
   },
   "outputs": [],
   "source": [
    "import os\n",
    "import numpy as np\n",
    "import pandas as pd\n",
    "\n",
    "import logging\n",
    "logging.getLogger().handlers = []\n",
    "logging.basicConfig(level=logging.INFO)"
   ]
  },
  {
   "cell_type": "code",
   "execution_count": 2,
   "metadata": {
    "collapsed": true
   },
   "outputs": [],
   "source": [
    "import sys\n",
    "sys.path.append(\"../common\")\n",
    "\n",
    "from dataset import load_trainval"
   ]
  },
  {
   "cell_type": "code",
   "execution_count": 3,
   "metadata": {
    "collapsed": false
   },
   "outputs": [
    {
     "name": "stderr",
     "output_type": "stream",
     "text": [
      "INFO:root:- Load training data : \n",
      "INFO:root:- Load data : [201504, 201505, 201601, 201602, 201604, 201605]\n",
      "INFO:root:-- Select 150000 clients\n",
      "INFO:root:- Number of lines with unknown data : 40\n",
      "INFO:root:- Number of columns with nan : 10\n",
      "INFO:root:-- Process date : 201505\n",
      "INFO:root:-- Process date : 201602\n",
      "INFO:root:-- Process date : 201605\n",
      "INFO:root:-- Add logCount columns\n",
      "INFO:root:-- Process month : 2015-04-28\n",
      "INFO:root:-- Process month : 2015-05-28\n",
      "INFO:root:-- Process month : 2016-01-28\n",
      "INFO:root:-- Process month : 2016-02-28\n",
      "INFO:root:-- Process month : 2016-04-28\n",
      "INFO:root:-- Process month : 2016-05-28\n",
      "INFO:root:-- Add logDecimal columns\n",
      "INFO:root:-- Transform age/renta/logdiff\n",
      "INFO:root:-- Add target values frequencies\n",
      "INFO:root:-- Add target diff\n"
     ]
    }
   ],
   "source": [
    "# train_yearmonths_list = [201504, 201505, 201604]\n",
    "train_yearmonths_list = [201505, 201602, 201605]\n",
    "#val_yearmonth = [201605]\n",
    "train_nb_clients = 150000\n",
    "#train_df, val_df = load_trainval(train_yearmonths_list, val_yearmonth, train_nb_clients, val_nb_clients=1500)\n",
    "train_df = load_trainval(train_yearmonths_list, train_nb_clients=train_nb_clients)"
   ]
  },
  {
   "cell_type": "code",
   "execution_count": 4,
   "metadata": {
    "collapsed": false
   },
   "outputs": [],
   "source": [
    "filename = \"trainval_%s__%i.csv\" % (\n",
    "    '+'.join([str(ym) for ym in train_yearmonths_list]),\n",
    "    train_nb_clients\n",
    ")\n",
    "train_df.to_csv('../data/generated/' + filename, index=False, index_label=False)\n",
    "print filename"
   ]
  },
  {
   "cell_type": "code",
   "execution_count": 6,
   "metadata": {
    "collapsed": false
   },
   "outputs": [
    {
     "name": "stdout",
     "output_type": "stream",
     "text": [
      "trainval_201505+201602+201605__150000.csv\n"
     ]
    }
   ],
   "source": []
  },
  {
   "cell_type": "code",
   "execution_count": 5,
   "metadata": {
    "collapsed": false
   },
   "outputs": [
    {
     "name": "stdout",
     "output_type": "stream",
     "text": [
      "fecha_dato,ncodpers,ind_empleado,pais_residencia,sexo,age,fecha_alta,ind_nuevo,antiguedad,indrel,ult_fec_cli_1t,indrel_1mes,tiprel_1mes,indresi,indext,conyuemp,canal_entrada,indfall,nomprov,ind_actividad_cliente,renta,segmento,ind_ahor_fin_ult1,ind_aval_fin_ult1,ind_cco_fin_ult1,ind_cder_fin_ult1,ind_cno_fin_ult1,ind_ctju_fin_ult1,ind_ctma_fin_ult1,ind_ctop_fin_ult1,ind_ctpp_fin_ult1,ind_deco_fin_ult1,ind_deme_fin_ult1,ind_dela_fin_ult1,ind_ecue_fin_ult1,ind_fond_fin_ult1,ind_hip_fin_ult1,ind_plan_fin_ult1,ind_pres_fin_ult1,ind_reca_fin_ult1,ind_tjcr_fin_ult1,ind_valo_fin_ult1,ind_viv_fin_ult1,ind_nomina_ult1,ind_nom_pens_ult1,ind_recibo_ult1,targets_str,lc_ind_ahor_fin_ult1,lc_ind_aval_fin_ult1,lc_ind_cco_fin_ult1,lc_ind_cder_fin_ult1,lc_ind_cno_fin_ult1,lc_ind_ctju_fin_ult1,lc_ind_ctma_fin_ult1,lc_ind_ctop_fin_ult1,lc_ind_ctpp_fin_ult1,lc_ind_deco_fin_ult1,lc_ind_deme_fin_ult1,lc_ind_dela_fin_ult1,lc_ind_ecue_fin_ult1,lc_ind_fond_fin_ult1,lc_ind_hip_fin_ult1,lc_ind_plan_fin_ult1,lc_ind_pres_fin_ult1,lc_ind_reca_fin_ult1,lc_ind_tjcr_fin_ult1,lc_ind_valo_fin_ult1,lc_ind_viv_fin_ult1,lc_ind_nomina_ult1,lc_ind_nom_pens_ult1,lc_ind_recibo_ult1,lc_targets_str,targets_logcount1,targets_logcount2,lc_targets_logcount2,targets_logcount2_diff,targets_logDec,lc_targets_logDec,targets_diff,targets_logdiff,ind_ahor_fin_ult1_frq,ind_aval_fin_ult1_frq,ind_cco_fin_ult1_frq,ind_cder_fin_ult1_frq,ind_cno_fin_ult1_frq,ind_ctju_fin_ult1_frq,ind_ctma_fin_ult1_frq,ind_ctop_fin_ult1_frq,ind_ctpp_fin_ult1_frq,ind_deco_fin_ult1_frq,ind_deme_fin_ult1_frq,ind_dela_fin_ult1_frq,ind_ecue_fin_ult1_frq,ind_fond_fin_ult1_frq,ind_hip_fin_ult1_frq,ind_plan_fin_ult1_frq,ind_pres_fin_ult1_frq,ind_reca_fin_ult1_frq,ind_tjcr_fin_ult1_frq,ind_valo_fin_ult1_frq,ind_viv_fin_ult1_frq,ind_nomina_ult1_frq,ind_nom_pens_ult1_frq,ind_recibo_ult1_frq,ind_ahor_fin_ult1_diff,ind_aval_fin_ult1_diff,ind_cco_fin_ult1_diff,ind_cder_fin_ult1_diff,ind_cno_fin_ult1_diff,ind_ctju_fin_ult1_diff,ind_ctma_fin_ult1_diff,ind_ctop_fin_ult1_diff,ind_ctpp_fin_ult1_diff,ind_deco_fin_ult1_diff,ind_deme_fin_ult1_diff,ind_dela_fin_ult1_diff,ind_ecue_fin_ult1_diff,ind_fond_fin_ult1_diff,ind_hip_fin_ult1_diff,ind_plan_fin_ult1_diff,ind_pres_fin_ult1_diff,ind_reca_fin_ult1_diff,ind_tjcr_fin_ult1_diff,ind_valo_fin_ult1_diff,ind_viv_fin_ult1_diff,ind_nomina_ult1_diff,ind_nom_pens_ult1_diff,ind_recibo_ult1_diff\n",
      "\n",
      "2015-04-28,15890,1,0,0,11,1995-01-16,0,243,1.0,0,0,0,0,0,1,0,0,0,1.0,4,0,0,0,0,0,1,0,0,0,1,0,0,0,1,0,0,1,0,0,1,0,0,1.0,1.0,1,000010001000100100100111,,,,,,,,,,,,,,,,,,,,,,,,,,4.00053340445e-05,2.66702226964e-05,-99999.0,-99999.0,13.2346200597,-99999.0,-99999.0,-99999.0,0.999857758812,0.999964439703,0.228341556652,0.999446592879,0.102739254123,0.988305107348,0.989655287372,0.834098990977,0.0551829132773,0.998470907232,0.997904165,0.948368671378,0.105960794773,0.976262390541,0.992468995866,0.0119527048051,0.996865137574,0.932799928879,0.056547539672,0.96687669467,0.995204916211,0.066795572743,0.0720985020225,0.159832422101,-99999.0,-99999.0,-99999.0,-99999.0,-99999.0,-99999.0,-99999.0,-99999.0,-99999.0,-99999.0,-99999.0,-99999.0,-99999.0,-99999.0,-99999.0,-99999.0,-99999.0,-99999.0,-99999.0,-99999.0,-99999.0,-99999.0,-99999.0,-99999.0\n",
      "\n",
      "2015-05-28,15890,1,0,0,11,1995-01-16,0,244,1.0,0,0,0,0,0,1,0,0,0,1.0,4,0,0,0,0,0,1,0,0,0,1,0,0,0,1,0,0,1,0,0,1,0,0,1.0,1.0,1,000010001000100100100111,0.0,0.0,0.0,0.0,1.0,0.0,0.0,0.0,1.0,0.0,0.0,0.0,1.0,0.0,0.0,1.0,0.0,0.0,1.0,0.0,0.0,1.0,1.0,1.0,000010001000100100100111,3.33377783704e-05,2.66702226964e-05,2.66702226964e-05,0.0,13.2346200597,2.6556770298,0.0,0.0,0.999857758812,0.999964439703,0.228341556652,0.999446592879,0.102739254123,0.988305107348,0.989655287372,0.834098990977,0.0551829132773,0.998470907232,0.997904165,0.948368671378,0.105960794773,0.976262390541,0.992468995866,0.0119527048051,0.996865137574,0.932799928879,0.056547539672,0.96687669467,0.995204916211,0.066795572743,0.0720985020225,0.159832422101,0.0,0.0,0.0,0.0,0.0,0.0,0.0,0.0,0.0,0.0,0.0,0.0,0.0,0.0,0.0,0.0,0.0,0.0,0.0,0.0,0.0,0.0,0.0,0.0\n",
      "\n"
     ]
    }
   ],
   "source": [
    "with open('../data/generated/' + filename, 'r') as r:\n",
    "    print r.readline()\n",
    "    print r.readline()\n",
    "    print r.readline()"
   ]
  }
 ],
 "metadata": {
  "kernelspec": {
   "display_name": "Python 2",
   "language": "python",
   "name": "python2"
  },
  "language_info": {
   "codemirror_mode": {
    "name": "ipython",
    "version": 2
   },
   "file_extension": ".py",
   "mimetype": "text/x-python",
   "name": "python",
   "nbconvert_exporter": "python",
   "pygments_lexer": "ipython2",
   "version": "2.7.12"
  }
 },
 "nbformat": 4,
 "nbformat_minor": 1
}
