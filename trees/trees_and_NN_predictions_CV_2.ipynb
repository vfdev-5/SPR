{
 "cells": [
  {
   "cell_type": "markdown",
   "metadata": {
    "collapsed": true
   },
   "source": [
    "# Decision trees and NN tryouts on SPR data"
   ]
  },
  {
   "cell_type": "code",
   "execution_count": null,
   "metadata": {
    "collapsed": false
   },
   "outputs": [],
   "source": [
    "# https://ipython.org/ipython-doc/3/config/extensions/autoreload.html\n",
    "%load_ext autoreload\n",
    "%autoreload 2"
   ]
  },
  {
   "cell_type": "code",
   "execution_count": null,
   "metadata": {
    "collapsed": false
   },
   "outputs": [],
   "source": [
    "import os\n",
    "import numpy as np\n",
    "import pandas as pd\n",
    "\n",
    "import logging\n",
    "logging.getLogger().handlers = []\n",
    "logging.basicConfig(level=logging.INFO)\n",
    "\n",
    "import matplotlib.pylab as plt\n",
    "%matplotlib inline"
   ]
  },
  {
   "cell_type": "code",
   "execution_count": null,
   "metadata": {
    "collapsed": false
   },
   "outputs": [],
   "source": [
    "import sys\n",
    "sys.path.append(\"../common\")\n",
    "\n",
    "from dataset2 import load_trainval\n",
    "from dataset2 import FEATURES_NAMES, TARGET_GROUP_DEC_LABELS, FREQ_TARGET_LABELS, ADDED_TARGET_LABELS, LAST_TARGET_LABELS\n",
    "from dataset2 import PROCESSED_TARGETS, TARGET_GROUPS_DEC, TARGET_GROUPS, DIFF_TARGETS\n",
    "from utils import to_yearmonth, TARGET_LABELS, TARGET_LABELS2\n",
    "from utils import target_str_to_labels, decimal_to_dummies, targets_str_to_indices, targets_dec_to_indices"
   ]
  },
  {
   "cell_type": "code",
   "execution_count": null,
   "metadata": {
    "collapsed": true
   },
   "outputs": [],
   "source": []
  },
  {
   "cell_type": "code",
   "execution_count": 4,
   "metadata": {
    "collapsed": false
   },
   "outputs": [
    {
     "name": "stderr",
     "output_type": "stream",
     "text": [
      "INFO:root:- Load file : ../data/train_ver2.csv, yearmonth=201605, n_clients=500000\n",
      "INFO:root:-- Select 500000 clients\n",
      "INFO:root:- Number of lines with unknown data : 0\n",
      "INFO:root:- Number of columns with nan : 10\n",
      "INFO:root:- Add a supplementary data : 201603\n",
      "INFO:root:-- Select max clients\n",
      "INFO:root:- Number of lines with unknown data : 0\n",
      "INFO:root:- Number of columns with nan : 10\n",
      "INFO:root:-- Compute missing clients : 2446/500000\n",
      "INFO:root:--- Setup them with zero targets\n",
      "INFO:root:- Add a supplementary data : 201601\n",
      "INFO:root:-- Select max clients\n",
      "INFO:root:- Number of lines with unknown data : 0\n",
      "INFO:root:- Number of columns with nan : 10\n",
      "INFO:root:-- Compute missing clients : 8482/500000\n",
      "INFO:root:--- Setup them with zero targets\n",
      "INFO:root:- Add a supplementary data : 201505\n",
      "INFO:root:-- Select max clients\n",
      "INFO:root:- Number of lines with unknown data : 3597\n",
      "INFO:root:- Number of columns with nan : 10\n",
      "INFO:root:-- Compute missing clients : 164916/500000\n",
      "INFO:root:--- Setup them with zero targets\n",
      "INFO:root:Store computed data as file : ../data/generated/trainval_201605__500000.csv\n"
     ]
    }
   ],
   "source": [
    "X, Y = load_trainval(201605, 500000)"
   ]
  },
  {
   "cell_type": "code",
   "execution_count": 5,
   "metadata": {
    "collapsed": false
   },
   "outputs": [
    {
     "name": "stdout",
     "output_type": "stream",
     "text": [
      "(500000, 157) (500000, 76)\n"
     ]
    }
   ],
   "source": [
    "print X.shape, Y.shape"
   ]
  },
  {
   "cell_type": "code",
   "execution_count": 6,
   "metadata": {
    "collapsed": false
   },
   "outputs": [
    {
     "data": {
      "text/plain": [
       "{'fecha_alta', 'fecha_dato', 'ncodpers'}"
      ]
     },
     "execution_count": 6,
     "metadata": {},
     "output_type": "execute_result"
    }
   ],
   "source": [
    "set(X.columns) - \\\n",
    "set(FEATURES_NAMES + \n",
    "    PROCESSED_TARGETS(1) + \n",
    "    PROCESSED_TARGETS(2) + \n",
    "    PROCESSED_TARGETS(3) + \n",
    "    PROCESSED_TARGETS(4) + \n",
    "    DIFF_TARGETS(1, 2) + \n",
    "    DIFF_TARGETS(1, 3) + \n",
    "    DIFF_TARGETS(1, 4) \n",
    "   )"
   ]
  },
  {
   "cell_type": "code",
   "execution_count": 7,
   "metadata": {
    "collapsed": false
   },
   "outputs": [
    {
     "data": {
      "text/plain": [
       "{'added_targets_dec', 'added_targets_str', 'last_targets_str', 'targets_str'}"
      ]
     },
     "execution_count": 7,
     "metadata": {},
     "output_type": "execute_result"
    }
   ],
   "source": [
    "set(Y.columns) - set(TARGET_LABELS + LAST_TARGET_LABELS.tolist() + ADDED_TARGET_LABELS.tolist())"
   ]
  },
  {
   "cell_type": "code",
   "execution_count": 8,
   "metadata": {
    "collapsed": false
   },
   "outputs": [
    {
     "data": {
      "text/plain": [
       "(False, False)"
      ]
     },
     "execution_count": 8,
     "metadata": {},
     "output_type": "execute_result"
    }
   ],
   "source": [
    "X.isnull().any().all(), Y.isnull().any().all()"
   ]
  },
  {
   "cell_type": "code",
   "execution_count": 9,
   "metadata": {
    "collapsed": false
   },
   "outputs": [
    {
     "data": {
      "text/plain": [
       "['diff_targets_dec_12',\n",
       " 'diff_targets_dec_g0_12',\n",
       " 'diff_targets_dec_g1_12',\n",
       " 'diff_targets_dec_g2_12',\n",
       " 'diff_targets_dec_g3_12']"
      ]
     },
     "execution_count": 9,
     "metadata": {},
     "output_type": "execute_result"
    }
   ],
   "source": [
    "DIFF_TARGETS(1, 2)"
   ]
  },
  {
   "cell_type": "code",
   "execution_count": 10,
   "metadata": {
    "collapsed": false
   },
   "outputs": [
    {
     "data": {
      "text/plain": [
       "array([1, 0, 2, 3, 4, 5])"
      ]
     },
     "execution_count": 10,
     "metadata": {},
     "output_type": "execute_result"
    }
   ],
   "source": [
    "Y['added_targets_dec'].unique()"
   ]
  },
  {
   "cell_type": "code",
   "execution_count": 15,
   "metadata": {
    "collapsed": false
   },
   "outputs": [
    {
     "data": {
      "text/plain": [
       "[u'ind_empleado',\n",
       " u'pais_residencia',\n",
       " u'sexo',\n",
       " u'age',\n",
       " u'ind_nuevo',\n",
       " u'antiguedad',\n",
       " u'indrel',\n",
       " u'ult_fec_cli_1t',\n",
       " u'indrel_1mes',\n",
       " u'tiprel_1mes',\n",
       " u'indresi',\n",
       " u'indext',\n",
       " u'conyuemp',\n",
       " u'canal_entrada',\n",
       " u'indfall',\n",
       " u'nomprov',\n",
       " u'ind_actividad_cliente',\n",
       " u'renta',\n",
       " u'segmento']"
      ]
     },
     "execution_count": 15,
     "metadata": {},
     "output_type": "execute_result"
    }
   ],
   "source": [
    "FEATURES_NAMES"
   ]
  },
  {
   "cell_type": "code",
   "execution_count": 12,
   "metadata": {
    "collapsed": false
   },
   "outputs": [
    {
     "data": {
      "text/html": [
       "<div>\n",
       "<table border=\"1\" class=\"dataframe\">\n",
       "  <thead>\n",
       "    <tr style=\"text-align: right;\">\n",
       "      <th></th>\n",
       "      <th>ncodpers</th>\n",
       "      <th>targets_str_1</th>\n",
       "      <th>targets_str_2</th>\n",
       "      <th>diff_targets_dec_12</th>\n",
       "      <th>targets_logdec_1</th>\n",
       "      <th>targets_logdec_2</th>\n",
       "    </tr>\n",
       "  </thead>\n",
       "  <tbody>\n",
       "    <tr>\n",
       "      <th>310487</th>\n",
       "      <td>15889</td>\n",
       "      <td>001000001000000000010000</td>\n",
       "      <td>001000001000000000110000</td>\n",
       "      <td>-32</td>\n",
       "      <td>14.571603</td>\n",
       "      <td>14.571618</td>\n",
       "    </tr>\n",
       "    <tr>\n",
       "      <th>310486</th>\n",
       "      <td>15890</td>\n",
       "      <td>000010001000100100100111</td>\n",
       "      <td>000010001000100100100111</td>\n",
       "      <td>0</td>\n",
       "      <td>13.234620</td>\n",
       "      <td>13.234620</td>\n",
       "    </tr>\n",
       "    <tr>\n",
       "      <th>310484</th>\n",
       "      <td>15893</td>\n",
       "      <td>000000000000000000010000</td>\n",
       "      <td>000000000000000000010000</td>\n",
       "      <td>0</td>\n",
       "      <td>2.833213</td>\n",
       "      <td>2.833213</td>\n",
       "    </tr>\n",
       "    <tr>\n",
       "      <th>310482</th>\n",
       "      <td>15895</td>\n",
       "      <td>001000000000100101110001</td>\n",
       "      <td>001000000000100101110001</td>\n",
       "      <td>0</td>\n",
       "      <td>14.557243</td>\n",
       "      <td>14.557243</td>\n",
       "    </tr>\n",
       "    <tr>\n",
       "      <th>310480</th>\n",
       "      <td>15897</td>\n",
       "      <td>000010010000110101110011</td>\n",
       "      <td>000010010000110101110011</td>\n",
       "      <td>0</td>\n",
       "      <td>13.293402</td>\n",
       "      <td>13.293402</td>\n",
       "    </tr>\n",
       "    <tr>\n",
       "      <th>310479</th>\n",
       "      <td>15898</td>\n",
       "      <td>000000000000000000000000</td>\n",
       "      <td>000000000000000000000000</td>\n",
       "      <td>0</td>\n",
       "      <td>0.000000</td>\n",
       "      <td>0.000000</td>\n",
       "    </tr>\n",
       "    <tr>\n",
       "      <th>310477</th>\n",
       "      <td>15900</td>\n",
       "      <td>000010010000000001000001</td>\n",
       "      <td>000010010000000001000001</td>\n",
       "      <td>0</td>\n",
       "      <td>13.287691</td>\n",
       "      <td>13.287691</td>\n",
       "    </tr>\n",
       "    <tr>\n",
       "      <th>310488</th>\n",
       "      <td>15901</td>\n",
       "      <td>001000001000110000110001</td>\n",
       "      <td>001000001000110000110001</td>\n",
       "      <td>0</td>\n",
       "      <td>14.573060</td>\n",
       "      <td>14.573060</td>\n",
       "    </tr>\n",
       "    <tr>\n",
       "      <th>310474</th>\n",
       "      <td>15903</td>\n",
       "      <td>001000010000000000100000</td>\n",
       "      <td>001000010000000000100000</td>\n",
       "      <td>0</td>\n",
       "      <td>14.586878</td>\n",
       "      <td>14.586878</td>\n",
       "    </tr>\n",
       "    <tr>\n",
       "      <th>310473</th>\n",
       "      <td>15906</td>\n",
       "      <td>000010011001000000000011</td>\n",
       "      <td>000010011001000000000011</td>\n",
       "      <td>0</td>\n",
       "      <td>13.348210</td>\n",
       "      <td>13.348210</td>\n",
       "    </tr>\n",
       "  </tbody>\n",
       "</table>\n",
       "</div>"
      ],
      "text/plain": [
       "        ncodpers             targets_str_1             targets_str_2  \\\n",
       "310487     15889  001000001000000000010000  001000001000000000110000   \n",
       "310486     15890  000010001000100100100111  000010001000100100100111   \n",
       "310484     15893  000000000000000000010000  000000000000000000010000   \n",
       "310482     15895  001000000000100101110001  001000000000100101110001   \n",
       "310480     15897  000010010000110101110011  000010010000110101110011   \n",
       "310479     15898  000000000000000000000000  000000000000000000000000   \n",
       "310477     15900  000010010000000001000001  000010010000000001000001   \n",
       "310488     15901  001000001000110000110001  001000001000110000110001   \n",
       "310474     15903  001000010000000000100000  001000010000000000100000   \n",
       "310473     15906  000010011001000000000011  000010011001000000000011   \n",
       "\n",
       "        diff_targets_dec_12  targets_logdec_1  targets_logdec_2  \n",
       "310487                  -32         14.571603         14.571618  \n",
       "310486                    0         13.234620         13.234620  \n",
       "310484                    0          2.833213          2.833213  \n",
       "310482                    0         14.557243         14.557243  \n",
       "310480                    0         13.293402         13.293402  \n",
       "310479                    0          0.000000          0.000000  \n",
       "310477                    0         13.287691         13.287691  \n",
       "310488                    0         14.573060         14.573060  \n",
       "310474                    0         14.586878         14.586878  \n",
       "310473                    0         13.348210         13.348210  "
      ]
     },
     "execution_count": 12,
     "metadata": {},
     "output_type": "execute_result"
    }
   ],
   "source": [
    "X[['ncodpers', 'targets_str_1', 'targets_str_2', 'diff_targets_dec_12', 'targets_logdec_1', 'targets_logdec_2']].head(10)"
   ]
  },
  {
   "cell_type": "code",
   "execution_count": null,
   "metadata": {
    "collapsed": true
   },
   "outputs": [],
   "source": []
  },
  {
   "cell_type": "code",
   "execution_count": 13,
   "metadata": {
    "collapsed": false
   },
   "outputs": [
    {
     "data": {
      "text/html": [
       "<div>\n",
       "<table border=\"1\" class=\"dataframe\">\n",
       "  <thead>\n",
       "    <tr style=\"text-align: right;\">\n",
       "      <th></th>\n",
       "      <th>ncodpers</th>\n",
       "      <th>fecha_dato</th>\n",
       "      <th>targets_str_1</th>\n",
       "      <th>targets_str_2</th>\n",
       "      <th>targets_str_3</th>\n",
       "      <th>targets_str_4</th>\n",
       "      <th>diff_targets_dec_12</th>\n",
       "      <th>diff_targets_dec_g0_12</th>\n",
       "      <th>diff_targets_dec_g1_12</th>\n",
       "      <th>diff_targets_dec_g2_12</th>\n",
       "      <th>diff_targets_dec_g3_12</th>\n",
       "      <th>diff_targets_dec_13</th>\n",
       "      <th>diff_targets_dec_g0_13</th>\n",
       "      <th>diff_targets_dec_g1_13</th>\n",
       "      <th>diff_targets_dec_g2_13</th>\n",
       "      <th>diff_targets_dec_g3_13</th>\n",
       "    </tr>\n",
       "  </thead>\n",
       "  <tbody>\n",
       "    <tr>\n",
       "      <th>310487</th>\n",
       "      <td>15889</td>\n",
       "      <td>2016-05-28</td>\n",
       "      <td>001000001000000000010000</td>\n",
       "      <td>001000001000000000110000</td>\n",
       "      <td>001000001000000000110000</td>\n",
       "      <td>001000001000000000110000</td>\n",
       "      <td>-32</td>\n",
       "      <td>-8</td>\n",
       "      <td>0</td>\n",
       "      <td>0</td>\n",
       "      <td>0</td>\n",
       "      <td>-32</td>\n",
       "      <td>-8</td>\n",
       "      <td>0</td>\n",
       "      <td>0</td>\n",
       "      <td>0</td>\n",
       "    </tr>\n",
       "    <tr>\n",
       "      <th>310509</th>\n",
       "      <td>15929</td>\n",
       "      <td>2016-05-28</td>\n",
       "      <td>001000001000100000110000</td>\n",
       "      <td>001000001000100000110001</td>\n",
       "      <td>001000001000100000110001</td>\n",
       "      <td>001000001000100000110001</td>\n",
       "      <td>-1</td>\n",
       "      <td>-1</td>\n",
       "      <td>0</td>\n",
       "      <td>0</td>\n",
       "      <td>0</td>\n",
       "      <td>-1</td>\n",
       "      <td>-1</td>\n",
       "      <td>0</td>\n",
       "      <td>0</td>\n",
       "      <td>0</td>\n",
       "    </tr>\n",
       "    <tr>\n",
       "      <th>310460</th>\n",
       "      <td>15952</td>\n",
       "      <td>2016-05-28</td>\n",
       "      <td>001000000000000001000000</td>\n",
       "      <td>001000000000000001000001</td>\n",
       "      <td>001000000001000001000001</td>\n",
       "      <td>001000000001000001000001</td>\n",
       "      <td>-1</td>\n",
       "      <td>-1</td>\n",
       "      <td>0</td>\n",
       "      <td>0</td>\n",
       "      <td>0</td>\n",
       "      <td>-4097</td>\n",
       "      <td>-1</td>\n",
       "      <td>-8</td>\n",
       "      <td>0</td>\n",
       "      <td>0</td>\n",
       "    </tr>\n",
       "    <tr>\n",
       "      <th>310459</th>\n",
       "      <td>15988</td>\n",
       "      <td>2016-05-28</td>\n",
       "      <td>001000000000000000000000</td>\n",
       "      <td>001000000000000000000000</td>\n",
       "      <td>001000000000000000100000</td>\n",
       "      <td>001000000000000000100000</td>\n",
       "      <td>0</td>\n",
       "      <td>0</td>\n",
       "      <td>0</td>\n",
       "      <td>0</td>\n",
       "      <td>0</td>\n",
       "      <td>-32</td>\n",
       "      <td>-8</td>\n",
       "      <td>0</td>\n",
       "      <td>0</td>\n",
       "      <td>0</td>\n",
       "    </tr>\n",
       "    <tr>\n",
       "      <th>310550</th>\n",
       "      <td>16202</td>\n",
       "      <td>2016-05-28</td>\n",
       "      <td>001010000000010001000111</td>\n",
       "      <td>001010000000010001000111</td>\n",
       "      <td>001010000000000001000111</td>\n",
       "      <td>001010000000000001000111</td>\n",
       "      <td>0</td>\n",
       "      <td>0</td>\n",
       "      <td>0</td>\n",
       "      <td>0</td>\n",
       "      <td>0</td>\n",
       "      <td>1024</td>\n",
       "      <td>0</td>\n",
       "      <td>4</td>\n",
       "      <td>0</td>\n",
       "      <td>0</td>\n",
       "    </tr>\n",
       "    <tr>\n",
       "      <th>310240</th>\n",
       "      <td>16242</td>\n",
       "      <td>2016-05-28</td>\n",
       "      <td>000000001000000000000001</td>\n",
       "      <td>000000001000000000000001</td>\n",
       "      <td>000000001000000000000001</td>\n",
       "      <td>000010001000000000000001</td>\n",
       "      <td>0</td>\n",
       "      <td>0</td>\n",
       "      <td>0</td>\n",
       "      <td>0</td>\n",
       "      <td>0</td>\n",
       "      <td>0</td>\n",
       "      <td>0</td>\n",
       "      <td>0</td>\n",
       "      <td>0</td>\n",
       "      <td>0</td>\n",
       "    </tr>\n",
       "    <tr>\n",
       "      <th>310235</th>\n",
       "      <td>16294</td>\n",
       "      <td>2016-05-28</td>\n",
       "      <td>000010000000000000000111</td>\n",
       "      <td>000010000000000000000111</td>\n",
       "      <td>000010000000001000000111</td>\n",
       "      <td>000010000000001000000111</td>\n",
       "      <td>0</td>\n",
       "      <td>0</td>\n",
       "      <td>0</td>\n",
       "      <td>0</td>\n",
       "      <td>0</td>\n",
       "      <td>-512</td>\n",
       "      <td>0</td>\n",
       "      <td>0</td>\n",
       "      <td>-4</td>\n",
       "      <td>0</td>\n",
       "    </tr>\n",
       "    <tr>\n",
       "      <th>310212</th>\n",
       "      <td>16506</td>\n",
       "      <td>2016-05-28</td>\n",
       "      <td>000010000000001001000001</td>\n",
       "      <td>000010000000001001000111</td>\n",
       "      <td>000010000000001001000111</td>\n",
       "      <td>000010000000001001000111</td>\n",
       "      <td>-6</td>\n",
       "      <td>-6</td>\n",
       "      <td>0</td>\n",
       "      <td>0</td>\n",
       "      <td>0</td>\n",
       "      <td>-6</td>\n",
       "      <td>-6</td>\n",
       "      <td>0</td>\n",
       "      <td>0</td>\n",
       "      <td>0</td>\n",
       "    </tr>\n",
       "    <tr>\n",
       "      <th>310368</th>\n",
       "      <td>16525</td>\n",
       "      <td>2016-05-28</td>\n",
       "      <td>001010000000110100100111</td>\n",
       "      <td>001010000000110100100111</td>\n",
       "      <td>001010001000110100100111</td>\n",
       "      <td>001010000000110100100111</td>\n",
       "      <td>0</td>\n",
       "      <td>0</td>\n",
       "      <td>0</td>\n",
       "      <td>0</td>\n",
       "      <td>0</td>\n",
       "      <td>-32768</td>\n",
       "      <td>0</td>\n",
       "      <td>-16</td>\n",
       "      <td>0</td>\n",
       "      <td>0</td>\n",
       "    </tr>\n",
       "    <tr>\n",
       "      <th>310360</th>\n",
       "      <td>16536</td>\n",
       "      <td>2016-05-28</td>\n",
       "      <td>001000000000000000000011</td>\n",
       "      <td>001000000000000000000000</td>\n",
       "      <td>000000000000000000000000</td>\n",
       "      <td>000000000000000000000000</td>\n",
       "      <td>3</td>\n",
       "      <td>3</td>\n",
       "      <td>0</td>\n",
       "      <td>0</td>\n",
       "      <td>0</td>\n",
       "      <td>2097155</td>\n",
       "      <td>67</td>\n",
       "      <td>0</td>\n",
       "      <td>0</td>\n",
       "      <td>0</td>\n",
       "    </tr>\n",
       "  </tbody>\n",
       "</table>\n",
       "</div>"
      ],
      "text/plain": [
       "        ncodpers  fecha_dato             targets_str_1  \\\n",
       "310487     15889  2016-05-28  001000001000000000010000   \n",
       "310509     15929  2016-05-28  001000001000100000110000   \n",
       "310460     15952  2016-05-28  001000000000000001000000   \n",
       "310459     15988  2016-05-28  001000000000000000000000   \n",
       "310550     16202  2016-05-28  001010000000010001000111   \n",
       "310240     16242  2016-05-28  000000001000000000000001   \n",
       "310235     16294  2016-05-28  000010000000000000000111   \n",
       "310212     16506  2016-05-28  000010000000001001000001   \n",
       "310368     16525  2016-05-28  001010000000110100100111   \n",
       "310360     16536  2016-05-28  001000000000000000000011   \n",
       "\n",
       "                   targets_str_2             targets_str_3  \\\n",
       "310487  001000001000000000110000  001000001000000000110000   \n",
       "310509  001000001000100000110001  001000001000100000110001   \n",
       "310460  001000000000000001000001  001000000001000001000001   \n",
       "310459  001000000000000000000000  001000000000000000100000   \n",
       "310550  001010000000010001000111  001010000000000001000111   \n",
       "310240  000000001000000000000001  000000001000000000000001   \n",
       "310235  000010000000000000000111  000010000000001000000111   \n",
       "310212  000010000000001001000111  000010000000001001000111   \n",
       "310368  001010000000110100100111  001010001000110100100111   \n",
       "310360  001000000000000000000000  000000000000000000000000   \n",
       "\n",
       "                   targets_str_4  diff_targets_dec_12  diff_targets_dec_g0_12  \\\n",
       "310487  001000001000000000110000                  -32                      -8   \n",
       "310509  001000001000100000110001                   -1                      -1   \n",
       "310460  001000000001000001000001                   -1                      -1   \n",
       "310459  001000000000000000100000                    0                       0   \n",
       "310550  001010000000000001000111                    0                       0   \n",
       "310240  000010001000000000000001                    0                       0   \n",
       "310235  000010000000001000000111                    0                       0   \n",
       "310212  000010000000001001000111                   -6                      -6   \n",
       "310368  001010000000110100100111                    0                       0   \n",
       "310360  000000000000000000000000                    3                       3   \n",
       "\n",
       "        diff_targets_dec_g1_12  diff_targets_dec_g2_12  \\\n",
       "310487                       0                       0   \n",
       "310509                       0                       0   \n",
       "310460                       0                       0   \n",
       "310459                       0                       0   \n",
       "310550                       0                       0   \n",
       "310240                       0                       0   \n",
       "310235                       0                       0   \n",
       "310212                       0                       0   \n",
       "310368                       0                       0   \n",
       "310360                       0                       0   \n",
       "\n",
       "        diff_targets_dec_g3_12  diff_targets_dec_13  diff_targets_dec_g0_13  \\\n",
       "310487                       0                  -32                      -8   \n",
       "310509                       0                   -1                      -1   \n",
       "310460                       0                -4097                      -1   \n",
       "310459                       0                  -32                      -8   \n",
       "310550                       0                 1024                       0   \n",
       "310240                       0                    0                       0   \n",
       "310235                       0                 -512                       0   \n",
       "310212                       0                   -6                      -6   \n",
       "310368                       0               -32768                       0   \n",
       "310360                       0              2097155                      67   \n",
       "\n",
       "        diff_targets_dec_g1_13  diff_targets_dec_g2_13  diff_targets_dec_g3_13  \n",
       "310487                       0                       0                       0  \n",
       "310509                       0                       0                       0  \n",
       "310460                      -8                       0                       0  \n",
       "310459                       0                       0                       0  \n",
       "310550                       4                       0                       0  \n",
       "310240                       0                       0                       0  \n",
       "310235                       0                      -4                       0  \n",
       "310212                       0                       0                       0  \n",
       "310368                     -16                       0                       0  \n",
       "310360                       0                       0                       0  "
      ]
     },
     "execution_count": 13,
     "metadata": {},
     "output_type": "execute_result"
    }
   ],
   "source": [
    "mask = Y['added_targets_dec'] > 0\n",
    "X[mask][['ncodpers', 'fecha_dato', 'targets_str_1', 'targets_str_2', 'targets_str_3', 'targets_str_4'] + DIFF_TARGETS(1, 2) + DIFF_TARGETS(1, 3)].head(10)"
   ]
  },
  {
   "cell_type": "code",
   "execution_count": null,
   "metadata": {
    "collapsed": true
   },
   "outputs": [],
   "source": []
  },
  {
   "cell_type": "code",
   "execution_count": 14,
   "metadata": {
    "collapsed": false
   },
   "outputs": [
    {
     "data": {
      "text/html": [
       "<div>\n",
       "<table border=\"1\" class=\"dataframe\">\n",
       "  <thead>\n",
       "    <tr style=\"text-align: right;\">\n",
       "      <th></th>\n",
       "      <th>ncodpers</th>\n",
       "      <th>fecha_dato</th>\n",
       "      <th>diff_targets_dec_12</th>\n",
       "      <th>diff_targets_dec_g0_12</th>\n",
       "      <th>diff_targets_dec_g0_13</th>\n",
       "      <th>diff_targets_dec_g0_14</th>\n",
       "    </tr>\n",
       "  </thead>\n",
       "  <tbody>\n",
       "    <tr>\n",
       "      <th>310487</th>\n",
       "      <td>15889</td>\n",
       "      <td>2016-05-28</td>\n",
       "      <td>-32</td>\n",
       "      <td>-8</td>\n",
       "      <td>-8</td>\n",
       "      <td>-8</td>\n",
       "    </tr>\n",
       "    <tr>\n",
       "      <th>310486</th>\n",
       "      <td>15890</td>\n",
       "      <td>2016-05-28</td>\n",
       "      <td>0</td>\n",
       "      <td>0</td>\n",
       "      <td>0</td>\n",
       "      <td>0</td>\n",
       "    </tr>\n",
       "    <tr>\n",
       "      <th>310484</th>\n",
       "      <td>15893</td>\n",
       "      <td>2016-05-28</td>\n",
       "      <td>0</td>\n",
       "      <td>0</td>\n",
       "      <td>0</td>\n",
       "      <td>0</td>\n",
       "    </tr>\n",
       "    <tr>\n",
       "      <th>310482</th>\n",
       "      <td>15895</td>\n",
       "      <td>2016-05-28</td>\n",
       "      <td>0</td>\n",
       "      <td>0</td>\n",
       "      <td>0</td>\n",
       "      <td>-32</td>\n",
       "    </tr>\n",
       "    <tr>\n",
       "      <th>310480</th>\n",
       "      <td>15897</td>\n",
       "      <td>2016-05-28</td>\n",
       "      <td>0</td>\n",
       "      <td>0</td>\n",
       "      <td>-62</td>\n",
       "      <td>-62</td>\n",
       "    </tr>\n",
       "    <tr>\n",
       "      <th>310479</th>\n",
       "      <td>15898</td>\n",
       "      <td>2016-05-28</td>\n",
       "      <td>0</td>\n",
       "      <td>0</td>\n",
       "      <td>0</td>\n",
       "      <td>0</td>\n",
       "    </tr>\n",
       "    <tr>\n",
       "      <th>310477</th>\n",
       "      <td>15900</td>\n",
       "      <td>2016-05-28</td>\n",
       "      <td>0</td>\n",
       "      <td>0</td>\n",
       "      <td>0</td>\n",
       "      <td>0</td>\n",
       "    </tr>\n",
       "  </tbody>\n",
       "</table>\n",
       "</div>"
      ],
      "text/plain": [
       "        ncodpers  fecha_dato  diff_targets_dec_12  diff_targets_dec_g0_12  \\\n",
       "310487     15889  2016-05-28                  -32                      -8   \n",
       "310486     15890  2016-05-28                    0                       0   \n",
       "310484     15893  2016-05-28                    0                       0   \n",
       "310482     15895  2016-05-28                    0                       0   \n",
       "310480     15897  2016-05-28                    0                       0   \n",
       "310479     15898  2016-05-28                    0                       0   \n",
       "310477     15900  2016-05-28                    0                       0   \n",
       "\n",
       "        diff_targets_dec_g0_13  diff_targets_dec_g0_14  \n",
       "310487                      -8                      -8  \n",
       "310486                       0                       0  \n",
       "310484                       0                       0  \n",
       "310482                       0                     -32  \n",
       "310480                     -62                     -62  \n",
       "310479                       0                       0  \n",
       "310477                       0                       0  "
      ]
     },
     "execution_count": 14,
     "metadata": {},
     "output_type": "execute_result"
    }
   ],
   "source": [
    "X[['ncodpers', 'fecha_dato', 'diff_targets_dec_12', 'diff_targets_dec_g0_12', 'diff_targets_dec_g0_13', 'diff_targets_dec_g0_14']].head(7)"
   ]
  },
  {
   "cell_type": "code",
   "execution_count": null,
   "metadata": {
    "collapsed": true
   },
   "outputs": [],
   "source": []
  },
  {
   "cell_type": "code",
   "execution_count": null,
   "metadata": {
    "collapsed": true
   },
   "outputs": [],
   "source": []
  },
  {
   "cell_type": "code",
   "execution_count": null,
   "metadata": {
    "collapsed": true
   },
   "outputs": [],
   "source": []
  },
  {
   "cell_type": "code",
   "execution_count": null,
   "metadata": {
    "collapsed": true
   },
   "outputs": [],
   "source": []
  },
  {
   "cell_type": "markdown",
   "metadata": {},
   "source": [
    "### Train a model"
   ]
  },
  {
   "cell_type": "code",
   "execution_count": 16,
   "metadata": {
    "collapsed": false
   },
   "outputs": [],
   "source": [
    "from utils import get_added_products, remove_last_choice, apk, map7_score\n",
    "from visualization import visualize_train_test, visualize_folds, compare_two_datasets, compare_folds, compare_folds2"
   ]
  },
  {
   "cell_type": "markdown",
   "metadata": {},
   "source": [
    "## Another train/predict + CV implementation\n",
    "\n",
    "### Input\n",
    "\n",
    "- `X` : `[nb_samples, nb_features]` shaped pd.DataFrame\n",
    "    - `features_masks_list` : `{fm1_name: features_mask_1, fm2_name: features_mask_2, ...]` with `features_mask_i` is a list of feature column names. They can oversect.\n",
    "    \n",
    "- `Y` : `[nb_samples, nb_labels]` shaped pd.DataFrame\n",
    "    - `labels_masks_list` : `{lm1_name: labels_mask_1, lm2_name: labels_mask_2, ...}` with `labels_mask_i` is a list of labels column names. They can oversect.\n",
    "\n",
    "- `samples_masks_list` : `[samples_mask_1, samples_mask_2, ...]` with samples_mask_i is a function to produce a boolean pd.DataFrame . Used only for training. \n",
    "\n",
    "\n",
    "- Set of models `models` : list of functions to create a model, e.g. `[create_RF, create_NN, create_GBT]`\n",
    "\n",
    "\n",
    "### Training phase\n",
    "\n",
    "\n"
   ]
  },
  {
   "cell_type": "code",
   "execution_count": 17,
   "metadata": {
    "collapsed": true
   },
   "outputs": [],
   "source": [
    "from collections import defaultdict\n",
    "from sklearn.ensemble import RandomForestClassifier, GradientBoostingClassifier, ExtraTreesClassifier"
   ]
  },
  {
   "cell_type": "code",
   "execution_count": 18,
   "metadata": {
    "collapsed": false
   },
   "outputs": [
    {
     "name": "stderr",
     "output_type": "stream",
     "text": [
      "Using Theano backend.\n"
     ]
    }
   ],
   "source": [
    "from keras.models import Sequential\n",
    "from keras.layers import Dense, Dropout, Merge\n",
    "from keras.utils import np_utils\n",
    "\n",
    "from keras.wrappers.scikit_learn import KerasClassifier"
   ]
  },
  {
   "cell_type": "code",
   "execution_count": 19,
   "metadata": {
    "collapsed": false
   },
   "outputs": [
    {
     "data": {
      "text/plain": [
       "<matplotlib.axes._subplots.AxesSubplot at 0x10f34f710>"
      ]
     },
     "execution_count": 19,
     "metadata": {},
     "output_type": "execute_result"
    },
    {
     "data": {
      "image/png": "[encoded data removed]",
      "text/plain": [
       "<matplotlib.figure.Figure at 0x10f34f090>"
      ]
     },
     "metadata": {},
     "output_type": "display_data"
    }
   ],
   "source": [
    "mask = Y['added_targets_dec'] > 0\n",
    "targets_index_counts = np.zeros((len(TARGET_LABELS)))\n",
    "for i, c in enumerate(TARGET_LABELS):\n",
    "    s = (Y[mask][c] > 0).sum()\n",
    "    targets_index_counts[i] = s\n",
    "\n",
    "targets_index_counts = pd.Series(targets_index_counts)\n",
    "targets_index_counts.plot.bar()"
   ]
  },
  {
   "cell_type": "code",
   "execution_count": null,
   "metadata": {
    "collapsed": false
   },
   "outputs": [],
   "source": [
    "X.columns"
   ]
  },
  {
   "cell_type": "code",
   "execution_count": null,
   "metadata": {
    "collapsed": true
   },
   "outputs": [],
   "source": []
  },
  {
   "cell_type": "code",
   "execution_count": 20,
   "metadata": {
    "collapsed": false
   },
   "outputs": [],
   "source": [
    "samples_masks_list = [\n",
    "#     lambda x, y:  ~(x['targets_diff'].isin([0])) | ~(y['targets_diff'].isin([0])), \n",
    "#     lambda x, y:  (x['targets_diff'] > 0) | (y['targets_diff'] > 0), \n",
    "    lambda x, y:  (y['added_targets_dec'] > 0), \n",
    "]\n",
    "\n",
    "features_masks_dict = {\n",
    "#     'fm_all': FEATURES_NAMES  + \n",
    "#                 PROCESSED_TARGETS(1) + \n",
    "#                 PROCESSED_TARGETS(2) + \n",
    "#                 PROCESSED_TARGETS(3) + \n",
    "#                 PROCESSED_TARGETS(4) + \n",
    "#                 DIFF_TARGETS(1, 2) + \n",
    "#                 DIFF_TARGETS(1, 3) + \n",
    "#                 DIFF_TARGETS(1, 4),\n",
    "    \n",
    "#     'fm0': FEATURES_NAMES, \n",
    "#     'fm1': ['pais_residencia', 'sexo', 'age', 'ind_nuevo', 'segmento', 'ind_empleado', 'ind_actividad_cliente', 'indresi'] + \n",
    "#             PROCESSED_TARGETS(4),\n",
    "#     'fm2': PROCESSED_TARGETS(1) + PROCESSED_TARGETS(4) + DIFF_TARGETS(1, 4),\n",
    "#     'fm3': ['pais_residencia', 'sexo', 'age', 'segmento', 'renta'],\n",
    "#     'fm4': FEATURES_NAMES + PROCESSED_TARGETS(1) + PROCESSED_TARGETS(2) + DIFF_TARGETS(1, 2) + PROCESSED_TARGETS(4) + DIFF_TARGETS(1, 4),\n",
    "#     'fm41': FEATURES_NAMES + PROCESSED_TARGETS(1) + PROCESSED_TARGETS(3) + PROCESSED_TARGETS(4) + DIFF_TARGETS(1, 2) + DIFF_TARGETS(1, 3) + DIFF_TARGETS(1, 4),\n",
    "    'fm42': FEATURES_NAMES + PROCESSED_TARGETS(1) + PROCESSED_TARGETS(3) + PROCESSED_TARGETS(4) + DIFF_TARGETS(1, 3) + DIFF_TARGETS(1, 4),\n",
    "    \n",
    "#     'fm43': ['pais_residencia', 'sexo', 'age', 'ind_nuevo', 'segmento', 'ind_empleado', 'ind_actividad_cliente', 'indresi'] + \n",
    "#             PROCESSED_TARGETS(1) + PROCESSED_TARGETS(2) + PROCESSED_TARGETS(4) + DIFF_TARGETS(1, 2) + DIFF_TARGETS(1, 3) + DIFF_TARGETS(1, 4),\n",
    "#     'fm5': ['nomprov', 'ind_nuevo', 'renta', 'ind_actividad_cliente', 'canal_entrada'] + \n",
    "#             PROCESSED_TARGETS(1) + \n",
    "#             PROCESSED_TARGETS(4),\n",
    "#     'fm6': FEATURES_NAMES + PROCESSED_TARGETS(1) + \n",
    "#             PROCESSED_TARGETS(2) + \n",
    "#             PROCESSED_TARGETS(3) + \n",
    "#             PROCESSED_TARGETS(4) + \n",
    "#             DIFF_TARGETS(1, 2) + \n",
    "#             DIFF_TARGETS(1, 3) + \n",
    "#             DIFF_TARGETS(1, 4),\n",
    "}"
   ]
  },
  {
   "cell_type": "code",
   "execution_count": 21,
   "metadata": {
    "collapsed": false
   },
   "outputs": [],
   "source": [
    "# https://www.analyticsvidhya.com/blog/2016/02/complete-guide-parameter-tuning-gradient-boosting-gbm-python/\n",
    "\n",
    "def create_RF(input_shape, output_shape):        \n",
    "    # https://www.analyticsvidhya.com/blog/2015/06/tuning-random-forest-model/\n",
    "    return RandomForestClassifier(n_estimators=100, \n",
    "#                                   min_samples_split=100,\n",
    "#                                   min_samples_leaf=25,\n",
    "#                                   max_depth=10\n",
    "                                  max_features=1.0, \n",
    "#                                   oob_score=True,\n",
    "#                                   bootstrap=True,\n",
    "                                  n_jobs=-1\n",
    "                                 )\n",
    "\n",
    "def create_ET(input_shape, output_shape):\n",
    "    return ExtraTreesClassifier(n_estimators=100,\n",
    "#                                   min_samples_leaf=25,\n",
    "#                                   max_depth=10\n",
    "                                  max_features=1.0, \n",
    "#                                   oob_score=True,\n",
    "#                                   bootstrap=True,\n",
    "                                  n_jobs=-1\n",
    "\n",
    "                               )\n",
    "\n",
    "def create_GB(input_shape, output_shape):\n",
    "    return GradientBoostingClassifier(n_estimators=100)\n",
    "\n",
    "\n",
    "def create_NN0(input_shape, output_shape):\n",
    "        \n",
    "    assert len(input_shape) == 2, \"Input shape should be 2D\"\n",
    "    assert len(output_shape) == 2, \"Input shape should be 2D\"\n",
    "    n_features = input_shape[1]\n",
    "    output_dim = output_shape[1]\n",
    "    \n",
    "    print \"Create NN0 : \", input_shape, output_shape\n",
    "    \n",
    "    def create_model(input_dim=n_features, output_dim=output_dim):\n",
    "        model = Sequential()\n",
    "        model.add(Dense(30, init='uniform', input_shape=(input_dim,), activation='relu'))\n",
    "        model.add(Dropout(0.15))\n",
    "        model.add(Dense(output_dim, activation='sigmoid'))\n",
    "#         model.add(Dense(output_dim, activation='softmax'))\n",
    "#         model.compile(loss='categorical_crossentropy', optimizer='nadam', metrics=['accuracy'])\n",
    "        model.compile(loss='binary_crossentropy', optimizer='nadam', metrics=['accuracy'])\n",
    "        return model\n",
    "\n",
    "    return KerasClassifier(build_fn=create_model, nb_epoch=200, batch_size=2000, verbose=0)\n",
    "    \n",
    "\n",
    "models_dict = {\n",
    "    'rf': create_RF,\n",
    "    'et': create_ET,\n",
    "    'gb': create_GB,\n",
    "#     'nn0': create_NN0\n",
    "}"
   ]
  },
  {
   "cell_type": "code",
   "execution_count": 22,
   "metadata": {
    "collapsed": false
   },
   "outputs": [
    {
     "data": {
      "text/plain": [
       "array([12, 14, 22, 28, 31, 32, 33])"
      ]
     },
     "execution_count": 22,
     "metadata": {},
     "output_type": "execute_result"
    }
   ],
   "source": [
    "np.array(TARGET_GROUPS[0]) + 10"
   ]
  },
  {
   "cell_type": "code",
   "execution_count": 50,
   "metadata": {
    "collapsed": false,
    "scrolled": true
   },
   "outputs": [
    {
     "name": "stdout",
     "output_type": "stream",
     "text": [
      "lm_0  <=>  [2, 4, 12, 18, 21, 22, 23] <==> ['Current Accounts' 'Payroll Account' 'e-account' 'Credit Card' 'Payroll'\n",
      " 'Pensions' 'Direct Debit']\n",
      "lm_1  <=>  [7, 8, 11, 13, 17, 19] <==> ['particular Account' 'particular Plus Account' 'Long-term deposits'\n",
      " 'Funds' 'Taxes' 'Securities']\n",
      "lm_2  <=>  [5, 6, 14, 15, 20] <==> ['Junior Account' 'Mas particular Account' 'Mortgage' 'Pensions (plan fin)'\n",
      " 'Home Account']\n",
      "lm_3  <=>  [0, 1, 3, 9, 16] <==> ['Saving Account' 'Guarantees' 'Derivada Account' 'Short-term deposits'\n",
      " 'Loans']\n",
      "lm_4  <=>  [5] <==> ['Junior Account']\n",
      "lm_5  <=>  [6] <==> ['Mas particular Account']\n",
      "lm_6  <=>  [15] <==> ['Pensions (plan fin)']\n",
      "lm_7  <=>  [20] <==> ['Home Account']\n",
      "{'lm_0': array(['added_ind_cco_fin_ult1', 'added_ind_cno_fin_ult1',\n",
      "       'added_ind_ecue_fin_ult1', 'added_ind_tjcr_fin_ult1',\n",
      "       'added_ind_nomina_ult1', 'added_ind_nom_pens_ult1',\n",
      "       'added_ind_recibo_ult1'], \n",
      "      dtype='|S23'), 'lm_1': array(['added_ind_ctop_fin_ult1', 'added_ind_ctpp_fin_ult1',\n",
      "       'added_ind_dela_fin_ult1', 'added_ind_fond_fin_ult1',\n",
      "       'added_ind_reca_fin_ult1', 'added_ind_valo_fin_ult1'], \n",
      "      dtype='|S23'), 'lm_2': array(['added_ind_ctju_fin_ult1', 'added_ind_ctma_fin_ult1',\n",
      "       'added_ind_hip_fin_ult1', 'added_ind_plan_fin_ult1',\n",
      "       'added_ind_viv_fin_ult1'], \n",
      "      dtype='|S23'), 'lm_3': array(['added_ind_ahor_fin_ult1', 'added_ind_aval_fin_ult1',\n",
      "       'added_ind_cder_fin_ult1', 'added_ind_deco_fin_ult1',\n",
      "       'added_ind_pres_fin_ult1'], \n",
      "      dtype='|S23'), 'lm_4': array(['added_ind_ctju_fin_ult1'], \n",
      "      dtype='|S23'), 'lm_5': array(['added_ind_ctma_fin_ult1'], \n",
      "      dtype='|S23'), 'lm_6': array(['added_ind_plan_fin_ult1'], \n",
      "      dtype='|S23'), 'lm_7': array(['added_ind_viv_fin_ult1'], \n",
      "      dtype='|S23')}\n"
     ]
    }
   ],
   "source": [
    "NP_TARGET_LABELS = np.array(TARGET_LABELS)\n",
    "# target_labels = NP_TARGET_LABELS\n",
    "target_labels = ADDED_TARGET_LABELS\n",
    "# target_labels = np.array(TARGET_LABELS + ADDED_TARGET_LABELS.tolist())\n",
    "\n",
    "\n",
    "common_groups = [\n",
    "#     [2, 4, 7, 8, 11, 12, 13, 15, 17, 18, 19, 21, 22, 23],\n",
    "#     [2, 4],    \n",
    "#     [2, 6, 7, 8],\n",
    "#     [2, 18, 23, 12], \n",
    "#     [21, 22],\n",
    "#     [2, 12, 18],\n",
    "#     [2, 12, 23],\n",
    "#     [2, 18, 23],\n",
    "#     [18, 23, 21, 22],\n",
    "#     [21, 23, 22, 4],\n",
    "#     [3, 4], \n",
    "#     [22, 7, 8, 23],\n",
    "#     [0, 1, 14, 15, 17]    \n",
    "#     [2, 4, 21, 22],\n",
    "#     [12, 18, 23],\n",
    "]\n",
    "\n",
    "common_groups += TARGET_GROUPS\n",
    "# common_groups += [np.array(g) + len(TARGET_LABELS) for g in TARGET_GROUPS]\n",
    "\n",
    "# common_groups += [[i] for i in [2, 4, 7, 8, 11, 12, 13, 15, 17, 18, 19, 21, 22, 23]]\n",
    "common_groups += [[i] for i in [5, 6, 15, 20]]\n",
    "# common_groups += [[i + len(TARGET_LABELS)] for i in [5, 6, 14, 15, 20]]\n",
    "# common_groups += [[i] for i in [0, 1, 3, 9, 16]]\n",
    "\n",
    "\n",
    "\n",
    "def flatten(array):\n",
    "    out = []\n",
    "    for item in array:\n",
    "        out += item\n",
    "    return out\n",
    "\n",
    "# others = list(set(range(24)) - set(flatten(common_groups)))\n",
    "\n",
    "# for i, a in enumerate(zip(TARGET_LABELS2, TARGET_LABELS)):\n",
    "#     print i, a\n",
    "    \n",
    "s = set({})\n",
    "labels_masks_dict = {}\n",
    "for i, g in enumerate(common_groups):\n",
    "    print 'lm_%i' % i, \" <=> \", g, \"<==>\", TARGET_LABELS2[g]\n",
    "    labels_masks_dict['lm_%i' % i] = target_labels[g]\n",
    "    s |= set(g)\n",
    "    \n",
    "# print 'lm_others', \"<=>\", others, \"<==>\", TARGET_LABELS2[others]\n",
    "# labels_masks_dict['lm_others'] = target_labels[others]\n",
    "# s |= set(others)\n",
    "\n",
    "# assert len(s) == len(target_labels), \"Sum is not equal 24, s=%i\" % s\n",
    "print labels_masks_dict"
   ]
  },
  {
   "cell_type": "code",
   "execution_count": 51,
   "metadata": {
    "collapsed": false,
    "scrolled": true
   },
   "outputs": [
    {
     "data": {
      "text/plain": [
       "{'et': [(None, None, 'lm_0'),\n",
       "  (None, None, 'lm_1'),\n",
       "  (None, None, 'lm_2'),\n",
       "  (None, None, 'lm_3')],\n",
       " 'gb': [(None, None, 'lm_4'),\n",
       "  (None, None, 'lm_5'),\n",
       "  (None, None, 'lm_6'),\n",
       "  (None, None, 'lm_7')],\n",
       " 'nn0': [(None, None, 'lm_0'),\n",
       "  (None, None, 'lm_1'),\n",
       "  (None, None, 'lm_2'),\n",
       "  (None, None, 'lm_3')],\n",
       " 'rf': [(None, None, 'lm_0'),\n",
       "  (None, None, 'lm_1'),\n",
       "  (None, None, 'lm_2'),\n",
       "  (None, None, 'lm_3')]}"
      ]
     },
     "execution_count": 51,
     "metadata": {},
     "output_type": "execute_result"
    }
   ],
   "source": [
    "# {model_name: [(samples_mask_code, features_mask_name, labels_mask_name), ...]}\n",
    "models_pipelines = {\n",
    "    'gb' : [(None, None, key) for key in labels_masks_dict if len(labels_masks_dict[key]) == 1],    \n",
    "    'rf' : [(None, None, key) for key in labels_masks_dict if len(labels_masks_dict[key]) > 1],\n",
    "    'et' : [(None, None, key) for key in labels_masks_dict if len(labels_masks_dict[key]) > 1],\n",
    "    'nn0' : [(None, None, key) for key in labels_masks_dict if len(labels_masks_dict[key]) > 1],\n",
    "}\n",
    "models_pipelines"
   ]
  },
  {
   "cell_type": "code",
   "execution_count": 52,
   "metadata": {
    "collapsed": false
   },
   "outputs": [],
   "source": [
    "from trainval import train_all, predict_all, probas_to_indices, score_estimators\n",
    "from utils import map7_score0"
   ]
  },
  {
   "cell_type": "code",
   "execution_count": 53,
   "metadata": {
    "collapsed": false
   },
   "outputs": [
    {
     "name": "stdout",
     "output_type": "stream",
     "text": [
      "(333333, 157) (333333, 76)\n",
      "(166667, 157) (166667, 76)\n"
     ]
    }
   ],
   "source": [
    "ll = 500000\n",
    "# ll = 1100\n",
    "\n",
    "mask = (X.index.isin((X.index[:ll//3]))) | (X.index.isin((X.index[2*ll//3:])))\n",
    "\n",
    "X1 = X[mask]\n",
    "Y1 = Y[mask]\n",
    "print X1.shape, Y1.shape\n",
    "\n",
    "mask = X.index.isin(X.index[ll//3:2*ll//3])\n",
    "X2 = X[mask]\n",
    "Y2 = Y[mask]\n",
    "print X2.shape, Y2.shape"
   ]
  },
  {
   "cell_type": "code",
   "execution_count": 54,
   "metadata": {
    "collapsed": false
   },
   "outputs": [],
   "source": [
    "# res = Y1[labels_masks_dict['lm_0']].apply(dummies_to_decimal, axis=1)\n",
    "# res = pd.get_dummies(res)\n",
    "# res.head()"
   ]
  },
  {
   "cell_type": "code",
   "execution_count": 55,
   "metadata": {
    "collapsed": false
   },
   "outputs": [],
   "source": [
    "from utils import dummies_to_decimal\n",
    "from sklearn.preprocessing import StandardScaler\n",
    "\n",
    "\n",
    "def prepare_to_fit(X_train, Y_train):    \n",
    "    x_train = X_train.values\n",
    "    x_train = StandardScaler().fit_transform(x_train)\n",
    "    y_train = Y_train.apply(dummies_to_decimal, axis=1)\n",
    "    y_train = pd.get_dummies(y_train)\n",
    "    y_train = y_train.values    \n",
    "    return x_train, y_train\n",
    "\n",
    "\n",
    "def prepare_to_test(X_val, Y_val=None):\n",
    "    x_val = X_val.values\n",
    "    x_val = StandardScaler().fit_transform(x_val)\n",
    "    if Y_val is not None:\n",
    "        y_val = Y_val.apply(dummies_to_decimal, axis=1)\n",
    "        y_val = pd.get_dummies(y_val)\n",
    "        y_val = y_val.values \n",
    "    else:\n",
    "        y_val = None\n",
    "    return x_val, y_val\n",
    "\n",
    "\n",
    "def probas_to_labels_probas(y_probas, class_indices, labels):\n",
    "    l = len(labels)\n",
    "    out = np.zeros((len(y_probas), l))\n",
    "    i = 0\n",
    "    for probas in y_probas:\n",
    "        if np.sum(probas) > 0:\n",
    "            pr = np.zeros((l,))\n",
    "            for index, p in zip(class_indices, probas):\n",
    "                dummies_str = decimal_to_dummies(index, l)\n",
    "                pr += p * np.array([float(v) for v in dummies_str])\n",
    "            out[i, :] = pr    \n",
    "        i += 1\n",
    "    return out\n",
    "    "
   ]
  },
  {
   "cell_type": "code",
   "execution_count": 56,
   "metadata": {
    "collapsed": false
   },
   "outputs": [],
   "source": [
    "_kwargs = {\n",
    "    'samples_masks_list': samples_masks_list, \n",
    "    'features_masks_dict': features_masks_dict, \n",
    "    'labels_masks_dict': labels_masks_dict, \n",
    "    'models_dict': models_dict,\n",
    "    'labels': target_labels,\n",
    "    'transform_proba_func': probas_to_indices,\n",
    "#     'prepare_to_fit_func': prepare_to_fit,\n",
    "#     'prepare_to_test_func': prepare_to_test,   \n",
    "#     'probas_to_labels_probas_func': probas_to_labels_probas,\n",
    "    'threshold': 0.45,\n",
    "    'n_highest': 7,\n",
    "    'mode': 'sum',\n",
    "    'verbose': False,\n",
    "    'models_pipelines': models_pipelines,\n",
    "    'return_probas': True\n",
    "}"
   ]
  },
  {
   "cell_type": "code",
   "execution_count": 57,
   "metadata": {
    "collapsed": false,
    "scrolled": true
   },
   "outputs": [
    {
     "name": "stderr",
     "output_type": "stream",
     "text": [
      "INFO:root:-- Train all --\n",
      "INFO:root:-- Process : sample_mask=11448/333333, features_mask=fm42, labels_mask=lm_0\n",
      "INFO:root:--- Score : model='et', fit accuracy : 0.991527\n",
      "INFO:root:-- Process : sample_mask=11448/333333, features_mask=fm42, labels_mask=lm_0\n",
      "INFO:root:--- Score : model='rf', fit accuracy : 0.992750\n",
      "INFO:root:-- Process : sample_mask=11448/333333, features_mask=fm42, labels_mask=lm_1\n",
      "INFO:root:--- Score : model='et', fit accuracy : 0.999651\n",
      "INFO:root:-- Process : sample_mask=11448/333333, features_mask=fm42, labels_mask=lm_1\n",
      "INFO:root:--- Score : model='rf', fit accuracy : 0.999563\n",
      "INFO:root:-- Process : sample_mask=11448/333333, features_mask=fm42, labels_mask=lm_2\n",
      "INFO:root:--- Score : model='et', fit accuracy : 0.996593\n",
      "INFO:root:-- Process : sample_mask=11448/333333, features_mask=fm42, labels_mask=lm_2\n",
      "INFO:root:--- Score : model='rf', fit accuracy : 0.996506\n",
      "INFO:root:-- Process : sample_mask=11448/333333, features_mask=fm42, labels_mask=lm_3\n",
      "INFO:root:--- Score : model='et', fit accuracy : 1.000000\n",
      "INFO:root:-- Process : sample_mask=11448/333333, features_mask=fm42, labels_mask=lm_3\n",
      "INFO:root:--- Score : model='rf', fit accuracy : 1.000000\n",
      "INFO:root:-- Process : sample_mask=11448/333333, features_mask=fm42, labels_mask=lm_4\n",
      "INFO:root:--- Score : model='gb', fit accuracy : 1.000000\n",
      "INFO:root:-- Process : sample_mask=11448/333333, features_mask=fm42, labels_mask=lm_5\n",
      "INFO:root:--- Score : model='gb', fit accuracy : 0.980171\n",
      "INFO:root:-- Process : sample_mask=11448/333333, features_mask=fm42, labels_mask=lm_6\n",
      "INFO:root:--- Score : model='gb', fit accuracy : 0.999476\n",
      "INFO:root:-- Process : sample_mask=11448/333333, features_mask=fm42, labels_mask=lm_7\n",
      "INFO:root:--- Score : model='gb', fit accuracy : 1.000000\n"
     ]
    }
   ],
   "source": [
    "estimators = train_all(X1, Y1, **_kwargs)\n",
    "\n",
    "#print estimators"
   ]
  },
  {
   "cell_type": "code",
   "execution_count": 58,
   "metadata": {
    "collapsed": false
   },
   "outputs": [
    {
     "data": {
      "text/plain": [
       "{'et': 0.99694269741439556,\n",
       " 'gb': 0.9949117749825297,\n",
       " 'rf': 0.99720475192173308}"
      ]
     },
     "execution_count": 58,
     "metadata": {},
     "output_type": "execute_result"
    }
   ],
   "source": [
    "accuracies = defaultdict(list)\n",
    "for e in estimators:\n",
    "    accuracies[e[0][2]].append(e[2])\n",
    "\n",
    "mean_accuracy = {}\n",
    "for key in accuracies:\n",
    "    accuracy_list = accuracies[key]\n",
    "    mean_accuracy[key] = sum(accuracy_list)/len(accuracy_list)\n",
    "    \n",
    "mean_accuracy"
   ]
  },
  {
   "cell_type": "code",
   "execution_count": 59,
   "metadata": {
    "collapsed": false,
    "scrolled": true
   },
   "outputs": [
    {
     "name": "stderr",
     "output_type": "stream",
     "text": [
      "INFO:root:-- Score : model=et, features_mask=fm42, labels_mask=lm_0 -> 0.903028193944\n",
      "INFO:root:-- Score : model=rf, features_mask=fm42, labels_mask=lm_0 -> 0.592990814018\n",
      "INFO:root:-- Score : model=et, features_mask=fm42, labels_mask=lm_1 -> 0.997174005652\n",
      "INFO:root:-- Score : model=rf, features_mask=fm42, labels_mask=lm_1 -> 0.9845500309\n",
      "INFO:root:-- Score : model=et, features_mask=fm42, labels_mask=lm_2 -> 0.999718000564\n",
      "INFO:root:-- Score : model=rf, features_mask=fm42, labels_mask=lm_2 -> 0.990856018288\n",
      "INFO:root:-- Score : model=et, features_mask=fm42, labels_mask=lm_3 -> 0.999952000096\n",
      "INFO:root:-- Score : model=rf, features_mask=fm42, labels_mask=lm_3 -> 0.999934000132\n",
      "INFO:root:-- Score : model=gb, features_mask=fm42, labels_mask=lm_4 -> 0.999976000048\n",
      "INFO:root:-- Score : model=gb, features_mask=fm42, labels_mask=lm_5 -> 0.998938002124\n",
      "INFO:root:-- Score : model=gb, features_mask=fm42, labels_mask=lm_6 -> 0.999436001128\n",
      "INFO:root:-- Score : model=gb, features_mask=fm42, labels_mask=lm_7 -> 0.999958000084\n"
     ]
    }
   ],
   "source": [
    "_ = score_estimators(estimators, X2, Y2, **_kwargs)"
   ]
  },
  {
   "cell_type": "code",
   "execution_count": 60,
   "metadata": {
    "collapsed": false
   },
   "outputs": [
    {
     "name": "stderr",
     "output_type": "stream",
     "text": [
      "INFO:root:-- Predict all --\n"
     ]
    }
   ],
   "source": [
    "# logging.getLogger().setLevel(logging.DEBUG)\n",
    "y_preds, Y_probas = predict_all(estimators, X2, **_kwargs)\n",
    "#print y_preds[:5]\n",
    "# logging.getLogger().setLevel(logging.INFO)"
   ]
  },
  {
   "cell_type": "code",
   "execution_count": 61,
   "metadata": {
    "collapsed": false
   },
   "outputs": [
    {
     "name": "stdout",
     "output_type": "stream",
     "text": [
      "[[23] [2] [2] [] []]\n"
     ]
    },
    {
     "data": {
      "text/html": [
       "<div>\n",
       "<table border=\"1\" class=\"dataframe\">\n",
       "  <thead>\n",
       "    <tr style=\"text-align: right;\">\n",
       "      <th></th>\n",
       "      <th>added_ind_ahor_fin_ult1</th>\n",
       "      <th>added_ind_aval_fin_ult1</th>\n",
       "      <th>added_ind_cco_fin_ult1</th>\n",
       "      <th>added_ind_cder_fin_ult1</th>\n",
       "      <th>added_ind_cno_fin_ult1</th>\n",
       "      <th>added_ind_ctju_fin_ult1</th>\n",
       "      <th>added_ind_ctma_fin_ult1</th>\n",
       "      <th>added_ind_ctop_fin_ult1</th>\n",
       "      <th>added_ind_ctpp_fin_ult1</th>\n",
       "      <th>added_ind_deco_fin_ult1</th>\n",
       "      <th>...</th>\n",
       "      <th>added_ind_hip_fin_ult1</th>\n",
       "      <th>added_ind_plan_fin_ult1</th>\n",
       "      <th>added_ind_pres_fin_ult1</th>\n",
       "      <th>added_ind_reca_fin_ult1</th>\n",
       "      <th>added_ind_tjcr_fin_ult1</th>\n",
       "      <th>added_ind_valo_fin_ult1</th>\n",
       "      <th>added_ind_viv_fin_ult1</th>\n",
       "      <th>added_ind_nomina_ult1</th>\n",
       "      <th>added_ind_nom_pens_ult1</th>\n",
       "      <th>added_ind_recibo_ult1</th>\n",
       "    </tr>\n",
       "  </thead>\n",
       "  <tbody>\n",
       "    <tr>\n",
       "      <th>6289</th>\n",
       "      <td>0.0</td>\n",
       "      <td>0.0</td>\n",
       "      <td>0.0</td>\n",
       "      <td>0.0</td>\n",
       "      <td>0.0</td>\n",
       "      <td>0.0</td>\n",
       "      <td>0.0</td>\n",
       "      <td>0.0</td>\n",
       "      <td>0.0</td>\n",
       "      <td>0.0</td>\n",
       "      <td>...</td>\n",
       "      <td>0.0</td>\n",
       "      <td>0.0</td>\n",
       "      <td>0.0</td>\n",
       "      <td>0.0</td>\n",
       "      <td>0.0</td>\n",
       "      <td>0.0</td>\n",
       "      <td>0.0</td>\n",
       "      <td>0.0</td>\n",
       "      <td>0.0</td>\n",
       "      <td>1.0</td>\n",
       "    </tr>\n",
       "    <tr>\n",
       "      <th>6285</th>\n",
       "      <td>0.0</td>\n",
       "      <td>0.0</td>\n",
       "      <td>1.0</td>\n",
       "      <td>0.0</td>\n",
       "      <td>0.0</td>\n",
       "      <td>0.0</td>\n",
       "      <td>0.0</td>\n",
       "      <td>0.0</td>\n",
       "      <td>0.0</td>\n",
       "      <td>0.0</td>\n",
       "      <td>...</td>\n",
       "      <td>0.0</td>\n",
       "      <td>0.0</td>\n",
       "      <td>0.0</td>\n",
       "      <td>0.0</td>\n",
       "      <td>0.0</td>\n",
       "      <td>0.0</td>\n",
       "      <td>0.0</td>\n",
       "      <td>0.0</td>\n",
       "      <td>0.0</td>\n",
       "      <td>0.0</td>\n",
       "    </tr>\n",
       "    <tr>\n",
       "      <th>6284</th>\n",
       "      <td>0.0</td>\n",
       "      <td>0.0</td>\n",
       "      <td>1.0</td>\n",
       "      <td>0.0</td>\n",
       "      <td>0.0</td>\n",
       "      <td>0.0</td>\n",
       "      <td>0.0</td>\n",
       "      <td>0.0</td>\n",
       "      <td>0.0</td>\n",
       "      <td>0.0</td>\n",
       "      <td>...</td>\n",
       "      <td>0.0</td>\n",
       "      <td>0.0</td>\n",
       "      <td>0.0</td>\n",
       "      <td>0.0</td>\n",
       "      <td>0.0</td>\n",
       "      <td>0.0</td>\n",
       "      <td>0.0</td>\n",
       "      <td>0.0</td>\n",
       "      <td>0.0</td>\n",
       "      <td>0.0</td>\n",
       "    </tr>\n",
       "    <tr>\n",
       "      <th>6283</th>\n",
       "      <td>0.0</td>\n",
       "      <td>0.0</td>\n",
       "      <td>0.0</td>\n",
       "      <td>0.0</td>\n",
       "      <td>0.0</td>\n",
       "      <td>0.0</td>\n",
       "      <td>0.0</td>\n",
       "      <td>0.0</td>\n",
       "      <td>0.0</td>\n",
       "      <td>0.0</td>\n",
       "      <td>...</td>\n",
       "      <td>0.0</td>\n",
       "      <td>0.0</td>\n",
       "      <td>0.0</td>\n",
       "      <td>0.0</td>\n",
       "      <td>0.0</td>\n",
       "      <td>0.0</td>\n",
       "      <td>0.0</td>\n",
       "      <td>0.0</td>\n",
       "      <td>0.0</td>\n",
       "      <td>0.0</td>\n",
       "    </tr>\n",
       "    <tr>\n",
       "      <th>6282</th>\n",
       "      <td>0.0</td>\n",
       "      <td>0.0</td>\n",
       "      <td>0.0</td>\n",
       "      <td>0.0</td>\n",
       "      <td>0.0</td>\n",
       "      <td>0.0</td>\n",
       "      <td>0.0</td>\n",
       "      <td>0.0</td>\n",
       "      <td>0.0</td>\n",
       "      <td>0.0</td>\n",
       "      <td>...</td>\n",
       "      <td>0.0</td>\n",
       "      <td>0.0</td>\n",
       "      <td>0.0</td>\n",
       "      <td>0.0</td>\n",
       "      <td>0.0</td>\n",
       "      <td>0.0</td>\n",
       "      <td>0.0</td>\n",
       "      <td>0.0</td>\n",
       "      <td>0.0</td>\n",
       "      <td>0.0</td>\n",
       "    </tr>\n",
       "  </tbody>\n",
       "</table>\n",
       "<p>5 rows × 24 columns</p>\n",
       "</div>"
      ],
      "text/plain": [
       "      added_ind_ahor_fin_ult1  added_ind_aval_fin_ult1  \\\n",
       "6289                      0.0                      0.0   \n",
       "6285                      0.0                      0.0   \n",
       "6284                      0.0                      0.0   \n",
       "6283                      0.0                      0.0   \n",
       "6282                      0.0                      0.0   \n",
       "\n",
       "      added_ind_cco_fin_ult1  added_ind_cder_fin_ult1  added_ind_cno_fin_ult1  \\\n",
       "6289                     0.0                      0.0                     0.0   \n",
       "6285                     1.0                      0.0                     0.0   \n",
       "6284                     1.0                      0.0                     0.0   \n",
       "6283                     0.0                      0.0                     0.0   \n",
       "6282                     0.0                      0.0                     0.0   \n",
       "\n",
       "      added_ind_ctju_fin_ult1  added_ind_ctma_fin_ult1  \\\n",
       "6289                      0.0                      0.0   \n",
       "6285                      0.0                      0.0   \n",
       "6284                      0.0                      0.0   \n",
       "6283                      0.0                      0.0   \n",
       "6282                      0.0                      0.0   \n",
       "\n",
       "      added_ind_ctop_fin_ult1  added_ind_ctpp_fin_ult1  \\\n",
       "6289                      0.0                      0.0   \n",
       "6285                      0.0                      0.0   \n",
       "6284                      0.0                      0.0   \n",
       "6283                      0.0                      0.0   \n",
       "6282                      0.0                      0.0   \n",
       "\n",
       "      added_ind_deco_fin_ult1          ...            added_ind_hip_fin_ult1  \\\n",
       "6289                      0.0          ...                               0.0   \n",
       "6285                      0.0          ...                               0.0   \n",
       "6284                      0.0          ...                               0.0   \n",
       "6283                      0.0          ...                               0.0   \n",
       "6282                      0.0          ...                               0.0   \n",
       "\n",
       "      added_ind_plan_fin_ult1  added_ind_pres_fin_ult1  \\\n",
       "6289                      0.0                      0.0   \n",
       "6285                      0.0                      0.0   \n",
       "6284                      0.0                      0.0   \n",
       "6283                      0.0                      0.0   \n",
       "6282                      0.0                      0.0   \n",
       "\n",
       "      added_ind_reca_fin_ult1  added_ind_tjcr_fin_ult1  \\\n",
       "6289                      0.0                      0.0   \n",
       "6285                      0.0                      0.0   \n",
       "6284                      0.0                      0.0   \n",
       "6283                      0.0                      0.0   \n",
       "6282                      0.0                      0.0   \n",
       "\n",
       "      added_ind_valo_fin_ult1  added_ind_viv_fin_ult1  added_ind_nomina_ult1  \\\n",
       "6289                      0.0                     0.0                    0.0   \n",
       "6285                      0.0                     0.0                    0.0   \n",
       "6284                      0.0                     0.0                    0.0   \n",
       "6283                      0.0                     0.0                    0.0   \n",
       "6282                      0.0                     0.0                    0.0   \n",
       "\n",
       "      added_ind_nom_pens_ult1  added_ind_recibo_ult1  \n",
       "6289                      0.0                    1.0  \n",
       "6285                      0.0                    0.0  \n",
       "6284                      0.0                    0.0  \n",
       "6283                      0.0                    0.0  \n",
       "6282                      0.0                    0.0  \n",
       "\n",
       "[5 rows x 24 columns]"
      ]
     },
     "execution_count": 61,
     "metadata": {},
     "output_type": "execute_result"
    }
   ],
   "source": [
    "print y_preds[:5]\n",
    "Y_probas.head()"
   ]
  },
  {
   "cell_type": "code",
   "execution_count": 62,
   "metadata": {
    "collapsed": false
   },
   "outputs": [],
   "source": [
    "#labels_masks_dict['lm_0'], common_groups[0]"
   ]
  },
  {
   "cell_type": "code",
   "execution_count": 66,
   "metadata": {
    "collapsed": false
   },
   "outputs": [
    {
     "name": "stdout",
     "output_type": "stream",
     "text": [
      "[[] [] [] [] [] [] [] [] [] [] [] [] [] [] [] [] [] [] [] [] [] [] [] [] []\n",
      " [] [] [] [] [] [] [] [] [] [] [] [] [23] [] [] [] [] [] [] [] [] [] [] []\n",
      " [] [] [] [] [] [] [4] [] [] [] [] [] [] [] [] [] [] [] [] [] [] [] [] []\n",
      " [] [] [] [] [] [] [] [] [] [] [] [] [] [] [] [] [] [] [] [] [] [] [] [] []\n",
      " [] []]\n",
      "[[23] [2] [2] [] [] [] [] [2] [2] [] [] [] [] [2] [19, 17] [] [] [] [23] []\n",
      " [2] [] [2] [18] [] [23] [] [] [2] [2] [23] [2] [2] [] [] [] [2] [23] []\n",
      " [2] [] [2] [2] [23] [2] [2] [] [] [23] [18] [2] [23] [23] [] [18] [4, 12]\n",
      " [] [23] [] [] [] [] [] [2] [] [23] [] [] [21] [] [2] [] [2] [2] [23] [] []\n",
      " [2] [] [] [] [] [18] [2] [] [21, 22] [2] [23] [2] [] [19, 17] [2] [23]\n",
      " [21, 22] [12] [] [2] [] [] []]\n"
     ]
    }
   ],
   "source": [
    "y_val = targets_str_to_indices(Y2[target_labels].values)\n",
    "# y_val = targets_str_to_indices(Y2[labels_masks_dict['lm_0']].values, index_map=common_groups[0])\n",
    "print y_val[:100]\n",
    "print y_preds[:100]"
   ]
  },
  {
   "cell_type": "code",
   "execution_count": 67,
   "metadata": {
    "collapsed": false
   },
   "outputs": [],
   "source": [
    "#np.unique(y_preds)"
   ]
  },
  {
   "cell_type": "code",
   "execution_count": 68,
   "metadata": {
    "collapsed": false
   },
   "outputs": [
    {
     "name": "stderr",
     "output_type": "stream",
     "text": [
      "INFO:root:- Compute max map7 score\n",
      "INFO:root:-- Predicted map7 score: 0.0216179567641\n",
      "INFO:root:- Compute map7 score\n",
      "INFO:root:-- Predicted map7 score: 0.0122781754436\n"
     ]
    },
    {
     "data": {
      "text/plain": [
       "0.012278175443649106"
      ]
     },
     "execution_count": 68,
     "metadata": {},
     "output_type": "execute_result"
    }
   ],
   "source": [
    "logging.info(\"- Compute max map7 score\")\n",
    "map7_score(y_val, y_val, Y2[LAST_TARGET_LABELS].values)\n",
    "logging.info(\"- Compute map7 score\")\n",
    "map7_score(y_val, y_preds, Y2[LAST_TARGET_LABELS].values)"
   ]
  },
  {
   "cell_type": "markdown",
   "metadata": {},
   "source": [
    "\n",
    "250k\n",
    "ALL PRODUCTS\n",
    "\n",
    "FEATURES_NAMES + PROCESSED_TARGETS(1) + PROCESSED_TARGETS(2) + DIFF_TARGETS(1, 2) + PROCESSED_TARGETS(4) + DIFF_TARGETS(1, 4),\n",
    "\n",
    "INFO:root:- Compute max map7 score\n",
    "INFO:root:-- Predicted map7 score: 0.0216120864483\n",
    "INFO:root:- Compute map7 score\n",
    "INFO:root:-- Predicted map7 score: 0.0163852322076\n",
    "\n",
    "\n",
    "\n",
    "100k\n",
    "ALL PRODUCTS\n",
    "\n",
    "FEATURES_NAMES + PROCESSED_TARGETS(1) + PROCESSED_TARGETS(2) + DIFF_TARGETS(1, 2) + PROCESSED_TARGETS(4) + DIFF_TARGETS(1, 4),\n",
    "INFO:root:- Compute max map7 score\n",
    "INFO:root:-- Predicted map7 score: 0.0208802088021\n",
    "INFO:root:- Compute map7 score\n",
    "INFO:root:-- Predicted map7 score: 0.0156818234849\n",
    "\n",
    "\n",
    "\n",
    "ADDED PRODUCTS\n",
    "\n",
    "PROCESSED_TARGETS(1) + \n",
    "PROCESSED_TARGETS(2) + \n",
    "PROCESSED_TARGETS(3) + \n",
    "PROCESSED_TARGETS(4) + \n",
    "DIFF_TARGETS(1, 2) + \n",
    "DIFF_TARGETS(1, 3) + \n",
    "DIFF_TARGETS(1, 4),\n",
    "INFO:root:- Compute max map7 score\n",
    "INFO:root:-- Predicted map7 score: 0.0208802088021\n",
    "INFO:root:- Compute map7 score\n",
    "INFO:root:-- Predicted map7 score: 0.0136126361264\n",
    "\n",
    "\n",
    "\n",
    "\n",
    "FEATURES_NAMES + PROCESSED_TARGETS(1) + PROCESSED_TARGETS(2) + DIFF_TARGETS(1, 2) + PROCESSED_TARGETS(4) + DIFF_TARGETS(1, 4),\n",
    "INFO:root:- Compute max map7 score\n",
    "INFO:root:-- Predicted map7 score: 0.0208802088021\n",
    "INFO:root:- Compute map7 score\n",
    "INFO:root:-- Predicted map7 score: 0.0138176381764\n",
    "\n",
    "\n",
    "PROCESSED_TARGETS(1) + PROCESSED_TARGETS(4) + DIFF_TARGETS(1, 4),\n",
    "INFO:root:- Compute max map7 score\n",
    "INFO:root:-- Predicted map7 score: 0.0208802088021\n",
    "INFO:root:- Compute map7 score\n",
    "INFO:root:-- Predicted map7 score: 0.0136501365014\n",
    "\n",
    "\n",
    "features + last year\n",
    "INFO:root:- Compute max map7 score\n",
    "INFO:root:-- Predicted map7 score: 0.0208802088021\n",
    "INFO:root:- Compute map7 score\n",
    "INFO:root:-- Predicted map7 score: 0.00430504305043\n",
    "\n",
    "\n",
    "\n",
    "features only : \n",
    "INFO:root:- Compute max map7 score\n",
    "INFO:root:-- Predicted map7 score: 0.0208802088021\n",
    "INFO:root:- Compute map7 score\n",
    "INFO:root:-- Predicted map7 score: 0.00160001600016\n",
    "\n",
    "\n",
    "\n",
    "\n",
    "INFO:root:- Compute max map7 score\n",
    "INFO:root:-- Predicted map7 score: 0.0208802088021\n",
    "INFO:root:- Compute map7 score\n",
    "INFO:root:-- Predicted map7 score: 0.016747834145\n"
   ]
  },
  {
   "cell_type": "code",
   "execution_count": null,
   "metadata": {
    "collapsed": true
   },
   "outputs": [],
   "source": [
    "# print labels_masks_dict[estimators[0][0][1]]\n",
    "# print estimators[0][1].classes_\n",
    "# print estimators[0][1].n_classes_\n",
    "# print estimators[0][1].n_features_\n",
    "# print estimators[0][1].n_outputs_\n",
    "# print estimators[0][1].estimators_"
   ]
  },
  {
   "cell_type": "code",
   "execution_count": 69,
   "metadata": {
    "collapsed": false
   },
   "outputs": [],
   "source": [
    "from utils import targets_to_labels, targets_indices_to_labels, remove_last_choice"
   ]
  },
  {
   "cell_type": "code",
   "execution_count": 70,
   "metadata": {
    "collapsed": true
   },
   "outputs": [
    {
     "name": "stdout",
     "output_type": "stream",
     "text": [
      "--- Count =  1\n",
      "['e-account']\n",
      "[]\n",
      "--- Count =  2\n",
      "['particular Account']\n",
      "[]\n",
      "--- Count =  3\n",
      "['Payroll', 'Pensions']\n",
      "[]\n",
      "--- Count =  4\n",
      "['Payroll', 'Pensions']\n",
      "[]\n",
      "--- Count =  5\n",
      "['e-account']\n",
      "[]\n",
      "--- Count =  6\n",
      "['Credit Card']\n",
      "['Direct Debit']\n",
      "--- Count =  7\n",
      "['Direct Debit']\n",
      "['Securities', 'Taxes', 'Payroll Account']\n",
      "--- Count =  8\n",
      "['Direct Debit']\n",
      "[]\n",
      "--- Count =  9\n",
      "['particular Plus Account']\n",
      "[]\n",
      "--- Count =  10\n",
      "['Payroll', 'Pensions']\n",
      "[]\n",
      "--- Count =  11\n",
      "['Payroll', 'Pensions']\n",
      "[]\n",
      "--- Count =  12\n",
      "['Current Accounts']\n",
      "['e-account']\n",
      "--- Count =  13\n",
      "['Payroll Account', 'Payroll', 'Pensions']\n",
      "['Direct Debit']\n",
      "--- Count =  14\n",
      "['particular Plus Account']\n",
      "['Credit Card']\n",
      "--- Count =  15\n",
      "['Direct Debit']\n",
      "[]\n",
      "--- Count =  16\n",
      "['Current Accounts']\n",
      "['e-account']\n",
      "--- Count =  17\n",
      "['Current Accounts', 'Taxes']\n",
      "['e-account']\n",
      "--- Count =  18\n",
      "['Payroll Account', 'Payroll', 'Pensions']\n",
      "['e-account']\n",
      "--- Count =  19\n",
      "['Direct Debit']\n",
      "[]\n",
      "--- Count =  20\n",
      "['e-account']\n",
      "['Payroll', 'Pensions']\n",
      "--- Count =  21\n",
      "['e-account']\n",
      "['Securities', 'Taxes']\n",
      "--- Count =  22\n",
      "['e-account']\n",
      "[]\n",
      "--- Count =  23\n",
      "['Credit Card']\n",
      "['Direct Debit']\n",
      "--- Count =  24\n",
      "['e-account']\n",
      "[]\n"
     ]
    }
   ],
   "source": [
    "limit = 25\n",
    "count = 0\n",
    "\n",
    "not_predicted_predicted = defaultdict(int)\n",
    "for last_choice, targets, products, proba in zip(Y2[LAST_TARGET_LABELS].values, y_val, y_preds, Y_probas.values):\n",
    "    added_products = remove_last_choice(targets, last_choice)\n",
    "    predictions = remove_last_choice(products, last_choice)\n",
    "#     print \"---\", count, last_choice\n",
    "#     print targets, '->', added_products\n",
    "#     print products, '->', predictions\n",
    "#     if count == 3:\n",
    "#         break\n",
    "    \n",
    "    if len(added_products) == 0:\n",
    "        continue\n",
    "        \n",
    "    if len(set(added_products) & set(predictions)) > 0:\n",
    "#         print \"Predicted : \", added_products, predictions\n",
    "#         print set(added_products) & set(predictions)\n",
    "        continue\n",
    "\n",
    "    count += 1\n",
    "    if count < limit:\n",
    "        print \"--- Count = \", count\n",
    "        print targets_indices_to_labels(added_products, TARGET_LABELS2)#, targets_indices_to_labels(targets, TARGET_LABELS2)\n",
    "        print targets_indices_to_labels(predictions, TARGET_LABELS2)#, targets_indices_to_labels(products, TARGET_LABELS2)#, proba\n",
    "    \n",
    "    for p in added_products:\n",
    "        not_predicted_predicted[TARGET_LABELS2[p]] += 1\n",
    "    "
   ]
  },
  {
   "cell_type": "code",
   "execution_count": 71,
   "metadata": {
    "collapsed": false,
    "scrolled": false
   },
   "outputs": [
    {
     "name": "stdout",
     "output_type": "stream",
     "text": [
      "defaultdict(<type 'int'>, {'Securities': 11, 'Direct Debit': 343, 'particular Account': 7, 'particular Plus Account': 19, 'e-account': 199, 'Payroll': 318, 'Pensions': 345, 'Taxes': 32, 'Payroll Account': 142, 'Long-term deposits': 8, 'Mas particular Account': 23, 'Funds': 7, 'Credit Card': 232, 'Current Accounts': 193, 'Loans': 1, 'Junior Account': 4, 'Pensions (plan fin)': 3}) 166667\n"
     ]
    }
   ],
   "source": [
    "print not_predicted_predicted, y_val.shape[0]"
   ]
  },
  {
   "cell_type": "code",
   "execution_count": null,
   "metadata": {
    "collapsed": false
   },
   "outputs": [],
   "source": [
    "#print y_probas[:10, target_groups[0]]\n",
    "#print Y[np.array(TARGET_LABELS)[target_groups[0]]].head(10)"
   ]
  },
  {
   "cell_type": "markdown",
   "metadata": {},
   "source": [
    "### Run KFold Cross-validation "
   ]
  },
  {
   "cell_type": "code",
   "execution_count": 72,
   "metadata": {
    "collapsed": false
   },
   "outputs": [],
   "source": [
    "from trainval import cross_val_score0, cross_val_score"
   ]
  },
  {
   "cell_type": "code",
   "execution_count": 73,
   "metadata": {
    "collapsed": true
   },
   "outputs": [
    {
     "name": "stderr",
     "output_type": "stream",
     "text": [
      "INFO:root:- Cross validation : \n",
      "INFO:root:\n",
      "\n",
      "\t\t-- Fold : 1 / 3\n",
      "\n",
      "INFO:root:-- Train all --\n",
      "INFO:root:-- Process : sample_mask=9143/333333, features_mask=fm42, labels_mask=lm_0\n",
      "INFO:root:--- Score : model='et', fit accuracy : 0.989391\n",
      "INFO:root:-- Process : sample_mask=9143/333333, features_mask=fm42, labels_mask=lm_0\n",
      "INFO:root:--- Score : model='rf', fit accuracy : 0.991031\n",
      "INFO:root:-- Process : sample_mask=9143/333333, features_mask=fm42, labels_mask=lm_1\n",
      "INFO:root:--- Score : model='et', fit accuracy : 0.999672\n",
      "INFO:root:-- Process : sample_mask=9143/333333, features_mask=fm42, labels_mask=lm_1\n",
      "INFO:root:--- Score : model='rf', fit accuracy : 0.999672\n",
      "INFO:root:-- Process : sample_mask=9143/333333, features_mask=fm42, labels_mask=lm_2\n",
      "INFO:root:--- Score : model='et', fit accuracy : 0.995844\n",
      "INFO:root:-- Process : sample_mask=9143/333333, features_mask=fm42, labels_mask=lm_2\n",
      "INFO:root:--- Score : model='rf', fit accuracy : 0.995734\n",
      "INFO:root:-- Process : sample_mask=9143/333333, features_mask=fm42, labels_mask=lm_3\n",
      "INFO:root:--- Score : model='et', fit accuracy : 1.000000\n",
      "INFO:root:-- Process : sample_mask=9143/333333, features_mask=fm42, labels_mask=lm_3\n",
      "INFO:root:--- Score : model='rf', fit accuracy : 1.000000\n",
      "INFO:root:-- Process : sample_mask=9143/333333, features_mask=fm42, labels_mask=lm_4\n",
      "INFO:root:--- Score : model='gb', fit accuracy : 1.000000\n",
      "INFO:root:-- Process : sample_mask=9143/333333, features_mask=fm42, labels_mask=lm_5\n",
      "INFO:root:--- Score : model='gb', fit accuracy : 0.975610\n",
      "INFO:root:-- Process : sample_mask=9143/333333, features_mask=fm42, labels_mask=lm_6\n",
      "INFO:root:--- Score : model='gb', fit accuracy : 0.996391\n",
      "INFO:root:-- Process : sample_mask=9143/333333, features_mask=fm42, labels_mask=lm_7\n"
     ]
    },
    {
     "ename": "ValueError",
     "evalue": "BinomialDeviance requires 2 classes.",
     "output_type": "error",
     "traceback": [
      "\u001b[0;31m---------------------------------------------------------------------------\u001b[0m",
      "\u001b[0;31mValueError\u001b[0m                                Traceback (most recent call last)",
      "\u001b[0;32m<ipython-input-73-0b50c33074a0>\u001b[0m in \u001b[0;36m<module>\u001b[0;34m()\u001b[0m\n\u001b[1;32m      1\u001b[0m \u001b[0;31m# Unitary run\u001b[0m\u001b[0;34m\u001b[0m\u001b[0;34m\u001b[0m\u001b[0m\n\u001b[1;32m      2\u001b[0m \u001b[0mnb_folds\u001b[0m \u001b[0;34m=\u001b[0m \u001b[0;36m3\u001b[0m\u001b[0;34m\u001b[0m\u001b[0m\n\u001b[0;32m----> 3\u001b[0;31m \u001b[0mresults\u001b[0m \u001b[0;34m=\u001b[0m \u001b[0mcross_val_score\u001b[0m\u001b[0;34m(\u001b[0m\u001b[0;34m(\u001b[0m\u001b[0mX\u001b[0m\u001b[0;34m,\u001b[0m \u001b[0mY\u001b[0m\u001b[0;34m,\u001b[0m \u001b[0mY\u001b[0m\u001b[0;34m[\u001b[0m\u001b[0mLAST_TARGET_LABELS\u001b[0m\u001b[0;34m]\u001b[0m\u001b[0;34m.\u001b[0m\u001b[0mvalues\u001b[0m\u001b[0;34m)\u001b[0m\u001b[0;34m,\u001b[0m \u001b[0mnb_folds\u001b[0m\u001b[0;34m=\u001b[0m\u001b[0mnb_folds\u001b[0m\u001b[0;34m,\u001b[0m \u001b[0;34m**\u001b[0m\u001b[0m_kwargs\u001b[0m\u001b[0;34m)\u001b[0m\u001b[0;34m\u001b[0m\u001b[0m\n\u001b[0m\u001b[1;32m      4\u001b[0m \u001b[0;34m\u001b[0m\u001b[0m\n\u001b[1;32m      5\u001b[0m \u001b[0;32mprint\u001b[0m \u001b[0;34m\"Cross-Validation \\n %i | %f | %f | %f | %f | %.5f \"\u001b[0m \u001b[0;34m%\u001b[0m \u001b[0;34m(\u001b[0m\u001b[0mnb_folds\u001b[0m\u001b[0;34m,\u001b[0m \u001b[0mresults\u001b[0m\u001b[0;34m.\u001b[0m\u001b[0mmin\u001b[0m\u001b[0;34m(\u001b[0m\u001b[0;34m)\u001b[0m\u001b[0;34m,\u001b[0m \u001b[0mresults\u001b[0m\u001b[0;34m.\u001b[0m\u001b[0mmean\u001b[0m\u001b[0;34m(\u001b[0m\u001b[0;34m)\u001b[0m\u001b[0;34m,\u001b[0m \u001b[0mnp\u001b[0m\u001b[0;34m.\u001b[0m\u001b[0mmedian\u001b[0m\u001b[0;34m(\u001b[0m\u001b[0mresults\u001b[0m\u001b[0;34m)\u001b[0m\u001b[0;34m,\u001b[0m \u001b[0mresults\u001b[0m\u001b[0;34m.\u001b[0m\u001b[0mmax\u001b[0m\u001b[0;34m(\u001b[0m\u001b[0;34m)\u001b[0m\u001b[0;34m,\u001b[0m \u001b[0mresults\u001b[0m\u001b[0;34m.\u001b[0m\u001b[0mstd\u001b[0m\u001b[0;34m(\u001b[0m\u001b[0;34m)\u001b[0m\u001b[0;34m)\u001b[0m\u001b[0;34m\u001b[0m\u001b[0m\n",
      "\u001b[0;32m/Users/vfomin/Documents/TDS/SPR/trees/trainval.pyc\u001b[0m in \u001b[0;36mcross_val_score\u001b[0;34m(data, nb_folds, **kwargs)\u001b[0m\n\u001b[1;32m    371\u001b[0m         \u001b[0mclc_val\u001b[0m \u001b[0;34m=\u001b[0m \u001b[0mclients_last_choice\u001b[0m\u001b[0;34m[\u001b[0m\u001b[0mtest_index\u001b[0m\u001b[0;34m,\u001b[0m \u001b[0;34m:\u001b[0m\u001b[0;34m]\u001b[0m\u001b[0;34m\u001b[0m\u001b[0m\n\u001b[1;32m    372\u001b[0m \u001b[0;34m\u001b[0m\u001b[0m\n\u001b[0;32m--> 373\u001b[0;31m         \u001b[0mestimators\u001b[0m \u001b[0;34m=\u001b[0m \u001b[0mtrain_all\u001b[0m\u001b[0;34m(\u001b[0m\u001b[0mX_train\u001b[0m\u001b[0;34m,\u001b[0m \u001b[0mY_train\u001b[0m\u001b[0;34m,\u001b[0m \u001b[0;34m**\u001b[0m\u001b[0mkwargs\u001b[0m\u001b[0;34m)\u001b[0m\u001b[0;34m\u001b[0m\u001b[0m\n\u001b[0m\u001b[1;32m    374\u001b[0m         \u001b[0;32mif\u001b[0m \u001b[0;34m'return_probas'\u001b[0m \u001b[0;32min\u001b[0m \u001b[0mkwargs\u001b[0m\u001b[0;34m:\u001b[0m\u001b[0;34m\u001b[0m\u001b[0m\n\u001b[1;32m    375\u001b[0m             \u001b[0my_preds\u001b[0m\u001b[0;34m,\u001b[0m \u001b[0mY_probas\u001b[0m \u001b[0;34m=\u001b[0m \u001b[0mpredict_all\u001b[0m\u001b[0;34m(\u001b[0m\u001b[0mestimators\u001b[0m\u001b[0;34m,\u001b[0m \u001b[0mX_val\u001b[0m\u001b[0;34m,\u001b[0m \u001b[0;34m**\u001b[0m\u001b[0mkwargs\u001b[0m\u001b[0;34m)\u001b[0m\u001b[0;34m\u001b[0m\u001b[0m\n",
      "\u001b[0;32m/Users/vfomin/Documents/TDS/SPR/trees/trainval.pyc\u001b[0m in \u001b[0;36mtrain_all\u001b[0;34m(X_train, Y_train, samples_masks_list, features_masks_dict, labels_masks_dict, models_dict, **kwargs)\u001b[0m\n\u001b[1;32m    148\u001b[0m                     \u001b[0mestimator\u001b[0m \u001b[0;34m=\u001b[0m \u001b[0mmodels_dict\u001b[0m\u001b[0;34m[\u001b[0m\u001b[0mmodel_name\u001b[0m\u001b[0;34m]\u001b[0m\u001b[0;34m(\u001b[0m\u001b[0minput_shape\u001b[0m\u001b[0;34m=\u001b[0m\u001b[0mx_train\u001b[0m\u001b[0;34m.\u001b[0m\u001b[0mshape\u001b[0m\u001b[0;34m,\u001b[0m \u001b[0moutput_shape\u001b[0m\u001b[0;34m=\u001b[0m\u001b[0my_train\u001b[0m\u001b[0;34m.\u001b[0m\u001b[0mshape\u001b[0m\u001b[0;34m)\u001b[0m\u001b[0;34m\u001b[0m\u001b[0m\n\u001b[1;32m    149\u001b[0m                     \u001b[0mlogging\u001b[0m\u001b[0;34m.\u001b[0m\u001b[0mdebug\u001b[0m\u001b[0;34m(\u001b[0m\u001b[0;34m\"--- Fit the model\"\u001b[0m\u001b[0;34m)\u001b[0m\u001b[0;34m\u001b[0m\u001b[0m\n\u001b[0;32m--> 150\u001b[0;31m                     \u001b[0mestimator\u001b[0m\u001b[0;34m.\u001b[0m\u001b[0mfit\u001b[0m\u001b[0;34m(\u001b[0m\u001b[0mx_train\u001b[0m\u001b[0;34m,\u001b[0m \u001b[0my_train\u001b[0m\u001b[0;34m)\u001b[0m\u001b[0;34m\u001b[0m\u001b[0m\n\u001b[0m\u001b[1;32m    151\u001b[0m                     \u001b[0macc\u001b[0m \u001b[0;34m=\u001b[0m \u001b[0mestimator\u001b[0m\u001b[0;34m.\u001b[0m\u001b[0mscore\u001b[0m\u001b[0;34m(\u001b[0m\u001b[0mx_train\u001b[0m\u001b[0;34m,\u001b[0m \u001b[0my_train\u001b[0m\u001b[0;34m)\u001b[0m\u001b[0;34m\u001b[0m\u001b[0m\n\u001b[1;32m    152\u001b[0m                     \u001b[0mlogging\u001b[0m\u001b[0;34m.\u001b[0m\u001b[0minfo\u001b[0m\u001b[0;34m(\u001b[0m\u001b[0;34m\"--- Score : model='%s', fit accuracy : %f\"\u001b[0m \u001b[0;34m%\u001b[0m \u001b[0;34m(\u001b[0m\u001b[0mmodel_name\u001b[0m\u001b[0;34m,\u001b[0m \u001b[0macc\u001b[0m\u001b[0;34m)\u001b[0m\u001b[0;34m)\u001b[0m\u001b[0;34m\u001b[0m\u001b[0m\n",
      "\u001b[0;32m/usr/local/lib/python2.7/site-packages/sklearn/ensemble/gradient_boosting.pyc\u001b[0m in \u001b[0;36mfit\u001b[0;34m(self, X, y, sample_weight, monitor)\u001b[0m\n\u001b[1;32m    983\u001b[0m \u001b[0;34m\u001b[0m\u001b[0m\n\u001b[1;32m    984\u001b[0m         \u001b[0mrandom_state\u001b[0m \u001b[0;34m=\u001b[0m \u001b[0mcheck_random_state\u001b[0m\u001b[0;34m(\u001b[0m\u001b[0mself\u001b[0m\u001b[0;34m.\u001b[0m\u001b[0mrandom_state\u001b[0m\u001b[0;34m)\u001b[0m\u001b[0;34m\u001b[0m\u001b[0m\n\u001b[0;32m--> 985\u001b[0;31m         \u001b[0mself\u001b[0m\u001b[0;34m.\u001b[0m\u001b[0m_check_params\u001b[0m\u001b[0;34m(\u001b[0m\u001b[0;34m)\u001b[0m\u001b[0;34m\u001b[0m\u001b[0m\n\u001b[0m\u001b[1;32m    986\u001b[0m \u001b[0;34m\u001b[0m\u001b[0m\n\u001b[1;32m    987\u001b[0m         \u001b[0;32mif\u001b[0m \u001b[0;32mnot\u001b[0m \u001b[0mself\u001b[0m\u001b[0;34m.\u001b[0m\u001b[0m_is_initialized\u001b[0m\u001b[0;34m(\u001b[0m\u001b[0;34m)\u001b[0m\u001b[0;34m:\u001b[0m\u001b[0;34m\u001b[0m\u001b[0m\n",
      "\u001b[0;32m/usr/local/lib/python2.7/site-packages/sklearn/ensemble/gradient_boosting.pyc\u001b[0m in \u001b[0;36m_check_params\u001b[0;34m(self)\u001b[0m\n\u001b[1;32m    826\u001b[0m             \u001b[0mself\u001b[0m\u001b[0;34m.\u001b[0m\u001b[0mloss_\u001b[0m \u001b[0;34m=\u001b[0m \u001b[0mloss_class\u001b[0m\u001b[0;34m(\u001b[0m\u001b[0mself\u001b[0m\u001b[0;34m.\u001b[0m\u001b[0mn_classes_\u001b[0m\u001b[0;34m,\u001b[0m \u001b[0mself\u001b[0m\u001b[0;34m.\u001b[0m\u001b[0malpha\u001b[0m\u001b[0;34m)\u001b[0m\u001b[0;34m\u001b[0m\u001b[0m\n\u001b[1;32m    827\u001b[0m         \u001b[0;32melse\u001b[0m\u001b[0;34m:\u001b[0m\u001b[0;34m\u001b[0m\u001b[0m\n\u001b[0;32m--> 828\u001b[0;31m             \u001b[0mself\u001b[0m\u001b[0;34m.\u001b[0m\u001b[0mloss_\u001b[0m \u001b[0;34m=\u001b[0m \u001b[0mloss_class\u001b[0m\u001b[0;34m(\u001b[0m\u001b[0mself\u001b[0m\u001b[0;34m.\u001b[0m\u001b[0mn_classes_\u001b[0m\u001b[0;34m)\u001b[0m\u001b[0;34m\u001b[0m\u001b[0m\n\u001b[0m\u001b[1;32m    829\u001b[0m \u001b[0;34m\u001b[0m\u001b[0m\n\u001b[1;32m    830\u001b[0m         \u001b[0;32mif\u001b[0m \u001b[0;32mnot\u001b[0m \u001b[0;34m(\u001b[0m\u001b[0;36m0.0\u001b[0m \u001b[0;34m<\u001b[0m \u001b[0mself\u001b[0m\u001b[0;34m.\u001b[0m\u001b[0msubsample\u001b[0m \u001b[0;34m<=\u001b[0m \u001b[0;36m1.0\u001b[0m\u001b[0;34m)\u001b[0m\u001b[0;34m:\u001b[0m\u001b[0;34m\u001b[0m\u001b[0m\n",
      "\u001b[0;32m/usr/local/lib/python2.7/site-packages/sklearn/ensemble/gradient_boosting.pyc\u001b[0m in \u001b[0;36m__init__\u001b[0;34m(self, n_classes)\u001b[0m\n\u001b[1;32m    473\u001b[0m         \u001b[0;32mif\u001b[0m \u001b[0mn_classes\u001b[0m \u001b[0;34m!=\u001b[0m \u001b[0;36m2\u001b[0m\u001b[0;34m:\u001b[0m\u001b[0;34m\u001b[0m\u001b[0m\n\u001b[1;32m    474\u001b[0m             raise ValueError(\"{0:s} requires 2 classes.\".format(\n\u001b[0;32m--> 475\u001b[0;31m                 self.__class__.__name__))\n\u001b[0m\u001b[1;32m    476\u001b[0m         \u001b[0;31m# we only need to fit one tree for binary clf.\u001b[0m\u001b[0;34m\u001b[0m\u001b[0;34m\u001b[0m\u001b[0m\n\u001b[1;32m    477\u001b[0m         \u001b[0msuper\u001b[0m\u001b[0;34m(\u001b[0m\u001b[0mBinomialDeviance\u001b[0m\u001b[0;34m,\u001b[0m \u001b[0mself\u001b[0m\u001b[0;34m)\u001b[0m\u001b[0;34m.\u001b[0m\u001b[0m__init__\u001b[0m\u001b[0;34m(\u001b[0m\u001b[0;36m1\u001b[0m\u001b[0;34m)\u001b[0m\u001b[0;34m\u001b[0m\u001b[0m\n",
      "\u001b[0;31mValueError\u001b[0m: BinomialDeviance requires 2 classes."
     ]
    }
   ],
   "source": [
    "# Unitary run\n",
    "nb_folds = 3\n",
    "results = cross_val_score((X, Y, Y[LAST_TARGET_LABELS].values), nb_folds=nb_folds, **_kwargs)\n",
    "\n",
    "print \"Cross-Validation \\n %i | %f | %f | %f | %f | %.5f \" % (nb_folds, results.min(), results.mean(), np.median(results), results.max(), results.std())\n"
   ]
  },
  {
   "cell_type": "code",
   "execution_count": null,
   "metadata": {
    "collapsed": true
   },
   "outputs": [],
   "source": []
  },
  {
   "cell_type": "markdown",
   "metadata": {},
   "source": [
    "\n",
    "### 201505 -> 201605 \n",
    "\n",
    "\n",
    "gb only\n",
    "Cross-Validation \n",
    " 3 | 0.016073 | 0.019272 | 0.016320 | 0.025423 | 0.00435 \n",
    "\n",
    "\n",
    "rf + et + gb\n",
    "Cross-Validation \n",
    " 3 | 0.016979 | 0.022598 | 0.024123 | 0.026691 | 0.00411 \n",
    "\n",
    "\n",
    "Cross-Validation \n",
    " 5 | 0.014585 | 0.018385 | 0.019147 | 0.022227 | 0.00294 "
   ]
  },
  {
   "cell_type": "markdown",
   "metadata": {},
   "source": [
    "Compute cross-validation across several months"
   ]
  },
  {
   "cell_type": "markdown",
   "metadata": {
    "collapsed": true
   },
   "source": [
    "## Train model for predictions"
   ]
  },
  {
   "cell_type": "code",
   "execution_count": 74,
   "metadata": {
    "collapsed": false,
    "scrolled": true
   },
   "outputs": [
    {
     "name": "stderr",
     "output_type": "stream",
     "text": [
      "INFO:root:-- Train all --\n",
      "INFO:root:-- Process : sample_mask=15051/500000, features_mask=fm42, labels_mask=lm_0\n",
      "INFO:root:--- Score : model='et', fit accuracy : 0.993157\n",
      "INFO:root:-- Process : sample_mask=15051/500000, features_mask=fm42, labels_mask=lm_0\n",
      "INFO:root:--- Score : model='rf', fit accuracy : 0.994153\n",
      "INFO:root:-- Process : sample_mask=15051/500000, features_mask=fm42, labels_mask=lm_1\n",
      "INFO:root:--- Score : model='et', fit accuracy : 0.999734\n",
      "INFO:root:-- Process : sample_mask=15051/500000, features_mask=fm42, labels_mask=lm_1\n",
      "INFO:root:--- Score : model='rf', fit accuracy : 0.999535\n",
      "INFO:root:-- Process : sample_mask=15051/500000, features_mask=fm42, labels_mask=lm_2\n",
      "INFO:root:--- Score : model='et', fit accuracy : 0.997342\n",
      "INFO:root:-- Process : sample_mask=15051/500000, features_mask=fm42, labels_mask=lm_2\n",
      "INFO:root:--- Score : model='rf', fit accuracy : 0.997276\n",
      "INFO:root:-- Process : sample_mask=15051/500000, features_mask=fm42, labels_mask=lm_3\n",
      "INFO:root:--- Score : model='et', fit accuracy : 1.000000\n",
      "INFO:root:-- Process : sample_mask=15051/500000, features_mask=fm42, labels_mask=lm_3\n",
      "INFO:root:--- Score : model='rf', fit accuracy : 1.000000\n",
      "INFO:root:-- Process : sample_mask=15051/500000, features_mask=fm42, labels_mask=lm_4\n",
      "INFO:root:--- Score : model='gb', fit accuracy : 1.000000\n",
      "INFO:root:-- Process : sample_mask=15051/500000, features_mask=fm42, labels_mask=lm_5\n",
      "INFO:root:--- Score : model='gb', fit accuracy : 0.983124\n",
      "INFO:root:-- Process : sample_mask=15051/500000, features_mask=fm42, labels_mask=lm_6\n",
      "INFO:root:--- Score : model='gb', fit accuracy : 0.999801\n",
      "INFO:root:-- Process : sample_mask=15051/500000, features_mask=fm42, labels_mask=lm_7\n",
      "INFO:root:--- Score : model='gb', fit accuracy : 1.000000\n"
     ]
    }
   ],
   "source": [
    "estimators = train_all(X, Y, **_kwargs)"
   ]
  },
  {
   "cell_type": "code",
   "execution_count": null,
   "metadata": {
    "collapsed": false
   },
   "outputs": [],
   "source": [
    "y_preds, Y_probas = predict_all(estimators, X, **_kwargs)"
   ]
  },
  {
   "cell_type": "markdown",
   "metadata": {
    "collapsed": true
   },
   "source": [
    "Check score on the data 2016/05"
   ]
  },
  {
   "cell_type": "code",
   "execution_count": null,
   "metadata": {
    "collapsed": false
   },
   "outputs": [],
   "source": [
    "y_val = targets_str_to_indices(Y[target_labels].values)\n",
    "logging.info(\"- Compute map7 score\")\n",
    "print map7_score(y_val, y_preds, Y[LAST_TARGET_LABELS].values)\n",
    "logging.info(\"- Compute max map7 score\")\n",
    "print map7_score(y_val, y_val, Y[LAST_TARGET_LABELS].values)"
   ]
  },
  {
   "cell_type": "markdown",
   "metadata": {
    "collapsed": true
   },
   "source": [
    "## Prediction for 2016/06"
   ]
  },
  {
   "cell_type": "code",
   "execution_count": 75,
   "metadata": {
    "collapsed": true
   },
   "outputs": [],
   "source": [
    "from dataset2 import load_test"
   ]
  },
  {
   "cell_type": "code",
   "execution_count": 76,
   "metadata": {
    "collapsed": false
   },
   "outputs": [],
   "source": [
    "# del X, Y \n",
    "# del X1, Y1, X2, Y2\n",
    "# del Y_probas, y_val, y_preds"
   ]
  },
  {
   "cell_type": "code",
   "execution_count": null,
   "metadata": {
    "collapsed": true
   },
   "outputs": [],
   "source": []
  },
  {
   "cell_type": "code",
   "execution_count": 77,
   "metadata": {
    "collapsed": false
   },
   "outputs": [
    {
     "name": "stderr",
     "output_type": "stream",
     "text": [
      "INFO:root:- Found already generated file, load it\n",
      "/usr/local/lib/python2.7/site-packages/IPython/core/interactiveshell.py:2809: DtypeWarning: Columns (112,147) have mixed types. Specify dtype option on import or set low_memory=False.\n",
      "  if self.run_code(code, result):\n"
     ]
    }
   ],
   "source": [
    "X_test, Y_test = load_test()"
   ]
  },
  {
   "cell_type": "code",
   "execution_count": 78,
   "metadata": {
    "collapsed": false
   },
   "outputs": [
    {
     "name": "stdout",
     "output_type": "stream",
     "text": [
      "(929615, 157) (929615, 25)\n"
     ]
    }
   ],
   "source": [
    "print X_test.shape, Y_test.shape"
   ]
  },
  {
   "cell_type": "code",
   "execution_count": 79,
   "metadata": {
    "collapsed": false
   },
   "outputs": [
    {
     "data": {
      "text/html": [
       "<div>\n",
       "<table border=\"1\" class=\"dataframe\">\n",
       "  <thead>\n",
       "    <tr style=\"text-align: right;\">\n",
       "      <th></th>\n",
       "      <th>ncodpers</th>\n",
       "      <th>fecha_dato</th>\n",
       "      <th>fecha_alta</th>\n",
       "      <th>ind_empleado</th>\n",
       "      <th>pais_residencia</th>\n",
       "      <th>sexo</th>\n",
       "      <th>age</th>\n",
       "      <th>ind_nuevo</th>\n",
       "      <th>antiguedad</th>\n",
       "      <th>indrel</th>\n",
       "      <th>...</th>\n",
       "      <th>diff_targets_dec_13</th>\n",
       "      <th>diff_targets_dec_g0_13</th>\n",
       "      <th>diff_targets_dec_g1_13</th>\n",
       "      <th>diff_targets_dec_g2_13</th>\n",
       "      <th>diff_targets_dec_g3_13</th>\n",
       "      <th>diff_targets_dec_14</th>\n",
       "      <th>diff_targets_dec_g0_14</th>\n",
       "      <th>diff_targets_dec_g1_14</th>\n",
       "      <th>diff_targets_dec_g2_14</th>\n",
       "      <th>diff_targets_dec_g3_14</th>\n",
       "    </tr>\n",
       "  </thead>\n",
       "  <tbody>\n",
       "    <tr>\n",
       "      <th>0</th>\n",
       "      <td>15889</td>\n",
       "      <td>2016-06-28</td>\n",
       "      <td>1995-01-16</td>\n",
       "      <td>2</td>\n",
       "      <td>0</td>\n",
       "      <td>1</td>\n",
       "      <td>9</td>\n",
       "      <td>0</td>\n",
       "      <td>257</td>\n",
       "      <td>1</td>\n",
       "      <td>...</td>\n",
       "      <td>0</td>\n",
       "      <td>0</td>\n",
       "      <td>0</td>\n",
       "      <td>0</td>\n",
       "      <td>0</td>\n",
       "      <td>0</td>\n",
       "      <td>0</td>\n",
       "      <td>0</td>\n",
       "      <td>0</td>\n",
       "      <td>0</td>\n",
       "    </tr>\n",
       "    <tr>\n",
       "      <th>1</th>\n",
       "      <td>15890</td>\n",
       "      <td>2016-06-28</td>\n",
       "      <td>1995-01-16</td>\n",
       "      <td>1</td>\n",
       "      <td>0</td>\n",
       "      <td>1</td>\n",
       "      <td>11</td>\n",
       "      <td>0</td>\n",
       "      <td>257</td>\n",
       "      <td>1</td>\n",
       "      <td>...</td>\n",
       "      <td>0</td>\n",
       "      <td>0</td>\n",
       "      <td>0</td>\n",
       "      <td>0</td>\n",
       "      <td>0</td>\n",
       "      <td>0</td>\n",
       "      <td>0</td>\n",
       "      <td>0</td>\n",
       "      <td>0</td>\n",
       "      <td>0</td>\n",
       "    </tr>\n",
       "    <tr>\n",
       "      <th>2</th>\n",
       "      <td>15892</td>\n",
       "      <td>2016-06-28</td>\n",
       "      <td>1995-01-16</td>\n",
       "      <td>2</td>\n",
       "      <td>0</td>\n",
       "      <td>0</td>\n",
       "      <td>11</td>\n",
       "      <td>0</td>\n",
       "      <td>257</td>\n",
       "      <td>1</td>\n",
       "      <td>...</td>\n",
       "      <td>0</td>\n",
       "      <td>0</td>\n",
       "      <td>0</td>\n",
       "      <td>0</td>\n",
       "      <td>0</td>\n",
       "      <td>0</td>\n",
       "      <td>0</td>\n",
       "      <td>0</td>\n",
       "      <td>0</td>\n",
       "      <td>0</td>\n",
       "    </tr>\n",
       "    <tr>\n",
       "      <th>3</th>\n",
       "      <td>15893</td>\n",
       "      <td>2016-06-28</td>\n",
       "      <td>1997-10-03</td>\n",
       "      <td>0</td>\n",
       "      <td>0</td>\n",
       "      <td>1</td>\n",
       "      <td>11</td>\n",
       "      <td>0</td>\n",
       "      <td>224</td>\n",
       "      <td>1</td>\n",
       "      <td>...</td>\n",
       "      <td>0</td>\n",
       "      <td>0</td>\n",
       "      <td>0</td>\n",
       "      <td>0</td>\n",
       "      <td>0</td>\n",
       "      <td>0</td>\n",
       "      <td>0</td>\n",
       "      <td>0</td>\n",
       "      <td>0</td>\n",
       "      <td>0</td>\n",
       "    </tr>\n",
       "    <tr>\n",
       "      <th>4</th>\n",
       "      <td>15894</td>\n",
       "      <td>2016-06-28</td>\n",
       "      <td>1995-01-16</td>\n",
       "      <td>1</td>\n",
       "      <td>0</td>\n",
       "      <td>1</td>\n",
       "      <td>11</td>\n",
       "      <td>0</td>\n",
       "      <td>257</td>\n",
       "      <td>1</td>\n",
       "      <td>...</td>\n",
       "      <td>0</td>\n",
       "      <td>0</td>\n",
       "      <td>0</td>\n",
       "      <td>0</td>\n",
       "      <td>0</td>\n",
       "      <td>0</td>\n",
       "      <td>0</td>\n",
       "      <td>0</td>\n",
       "      <td>0</td>\n",
       "      <td>0</td>\n",
       "    </tr>\n",
       "    <tr>\n",
       "      <th>5</th>\n",
       "      <td>15895</td>\n",
       "      <td>2016-06-28</td>\n",
       "      <td>1995-01-16</td>\n",
       "      <td>1</td>\n",
       "      <td>0</td>\n",
       "      <td>0</td>\n",
       "      <td>8</td>\n",
       "      <td>0</td>\n",
       "      <td>257</td>\n",
       "      <td>1</td>\n",
       "      <td>...</td>\n",
       "      <td>0</td>\n",
       "      <td>0</td>\n",
       "      <td>0</td>\n",
       "      <td>0</td>\n",
       "      <td>0</td>\n",
       "      <td>-4096</td>\n",
       "      <td>0</td>\n",
       "      <td>-8</td>\n",
       "      <td>0</td>\n",
       "      <td>0</td>\n",
       "    </tr>\n",
       "    <tr>\n",
       "      <th>6</th>\n",
       "      <td>15896</td>\n",
       "      <td>2016-06-28</td>\n",
       "      <td>1995-01-16</td>\n",
       "      <td>2</td>\n",
       "      <td>0</td>\n",
       "      <td>1</td>\n",
       "      <td>8</td>\n",
       "      <td>0</td>\n",
       "      <td>257</td>\n",
       "      <td>1</td>\n",
       "      <td>...</td>\n",
       "      <td>2064</td>\n",
       "      <td>16</td>\n",
       "      <td>1</td>\n",
       "      <td>0</td>\n",
       "      <td>0</td>\n",
       "      <td>67600</td>\n",
       "      <td>16</td>\n",
       "      <td>33</td>\n",
       "      <td>0</td>\n",
       "      <td>0</td>\n",
       "    </tr>\n",
       "    <tr>\n",
       "      <th>7</th>\n",
       "      <td>15897</td>\n",
       "      <td>2016-06-28</td>\n",
       "      <td>1995-01-16</td>\n",
       "      <td>1</td>\n",
       "      <td>0</td>\n",
       "      <td>1</td>\n",
       "      <td>11</td>\n",
       "      <td>0</td>\n",
       "      <td>257</td>\n",
       "      <td>1</td>\n",
       "      <td>...</td>\n",
       "      <td>-2097150</td>\n",
       "      <td>-62</td>\n",
       "      <td>0</td>\n",
       "      <td>0</td>\n",
       "      <td>0</td>\n",
       "      <td>-2097152</td>\n",
       "      <td>-64</td>\n",
       "      <td>0</td>\n",
       "      <td>0</td>\n",
       "      <td>0</td>\n",
       "    </tr>\n",
       "    <tr>\n",
       "      <th>8</th>\n",
       "      <td>15898</td>\n",
       "      <td>2016-06-28</td>\n",
       "      <td>2000-01-26</td>\n",
       "      <td>0</td>\n",
       "      <td>0</td>\n",
       "      <td>0</td>\n",
       "      <td>11</td>\n",
       "      <td>0</td>\n",
       "      <td>197</td>\n",
       "      <td>1</td>\n",
       "      <td>...</td>\n",
       "      <td>0</td>\n",
       "      <td>0</td>\n",
       "      <td>0</td>\n",
       "      <td>0</td>\n",
       "      <td>0</td>\n",
       "      <td>0</td>\n",
       "      <td>0</td>\n",
       "      <td>0</td>\n",
       "      <td>0</td>\n",
       "      <td>0</td>\n",
       "    </tr>\n",
       "    <tr>\n",
       "      <th>9</th>\n",
       "      <td>15899</td>\n",
       "      <td>2016-06-28</td>\n",
       "      <td>1995-01-16</td>\n",
       "      <td>3</td>\n",
       "      <td>0</td>\n",
       "      <td>1</td>\n",
       "      <td>10</td>\n",
       "      <td>0</td>\n",
       "      <td>257</td>\n",
       "      <td>1</td>\n",
       "      <td>...</td>\n",
       "      <td>0</td>\n",
       "      <td>0</td>\n",
       "      <td>0</td>\n",
       "      <td>0</td>\n",
       "      <td>0</td>\n",
       "      <td>0</td>\n",
       "      <td>0</td>\n",
       "      <td>0</td>\n",
       "      <td>0</td>\n",
       "      <td>0</td>\n",
       "    </tr>\n",
       "  </tbody>\n",
       "</table>\n",
       "<p>10 rows × 157 columns</p>\n",
       "</div>"
      ],
      "text/plain": [
       "   ncodpers  fecha_dato  fecha_alta  ind_empleado  pais_residencia  sexo  age  \\\n",
       "0     15889  2016-06-28  1995-01-16             2                0     1    9   \n",
       "1     15890  2016-06-28  1995-01-16             1                0     1   11   \n",
       "2     15892  2016-06-28  1995-01-16             2                0     0   11   \n",
       "3     15893  2016-06-28  1997-10-03             0                0     1   11   \n",
       "4     15894  2016-06-28  1995-01-16             1                0     1   11   \n",
       "5     15895  2016-06-28  1995-01-16             1                0     0    8   \n",
       "6     15896  2016-06-28  1995-01-16             2                0     1    8   \n",
       "7     15897  2016-06-28  1995-01-16             1                0     1   11   \n",
       "8     15898  2016-06-28  2000-01-26             0                0     0   11   \n",
       "9     15899  2016-06-28  1995-01-16             3                0     1   10   \n",
       "\n",
       "   ind_nuevo  antiguedad  indrel           ...            diff_targets_dec_13  \\\n",
       "0          0         257       1           ...                              0   \n",
       "1          0         257       1           ...                              0   \n",
       "2          0         257       1           ...                              0   \n",
       "3          0         224       1           ...                              0   \n",
       "4          0         257       1           ...                              0   \n",
       "5          0         257       1           ...                              0   \n",
       "6          0         257       1           ...                           2064   \n",
       "7          0         257       1           ...                       -2097150   \n",
       "8          0         197       1           ...                              0   \n",
       "9          0         257       1           ...                              0   \n",
       "\n",
       "   diff_targets_dec_g0_13  diff_targets_dec_g1_13  diff_targets_dec_g2_13  \\\n",
       "0                       0                       0                       0   \n",
       "1                       0                       0                       0   \n",
       "2                       0                       0                       0   \n",
       "3                       0                       0                       0   \n",
       "4                       0                       0                       0   \n",
       "5                       0                       0                       0   \n",
       "6                      16                       1                       0   \n",
       "7                     -62                       0                       0   \n",
       "8                       0                       0                       0   \n",
       "9                       0                       0                       0   \n",
       "\n",
       "   diff_targets_dec_g3_13  diff_targets_dec_14  diff_targets_dec_g0_14  \\\n",
       "0                       0                    0                       0   \n",
       "1                       0                    0                       0   \n",
       "2                       0                    0                       0   \n",
       "3                       0                    0                       0   \n",
       "4                       0                    0                       0   \n",
       "5                       0                -4096                       0   \n",
       "6                       0                67600                      16   \n",
       "7                       0             -2097152                     -64   \n",
       "8                       0                    0                       0   \n",
       "9                       0                    0                       0   \n",
       "\n",
       "   diff_targets_dec_g1_14  diff_targets_dec_g2_14  diff_targets_dec_g3_14  \n",
       "0                       0                       0                       0  \n",
       "1                       0                       0                       0  \n",
       "2                       0                       0                       0  \n",
       "3                       0                       0                       0  \n",
       "4                       0                       0                       0  \n",
       "5                      -8                       0                       0  \n",
       "6                      33                       0                       0  \n",
       "7                       0                       0                       0  \n",
       "8                       0                       0                       0  \n",
       "9                       0                       0                       0  \n",
       "\n",
       "[10 rows x 157 columns]"
      ]
     },
     "execution_count": 79,
     "metadata": {},
     "output_type": "execute_result"
    }
   ],
   "source": [
    "X_test.head(10)"
   ]
  },
  {
   "cell_type": "code",
   "execution_count": 80,
   "metadata": {
    "collapsed": false
   },
   "outputs": [
    {
     "data": {
      "text/html": [
       "<div>\n",
       "<table border=\"1\" class=\"dataframe\">\n",
       "  <thead>\n",
       "    <tr style=\"text-align: right;\">\n",
       "      <th></th>\n",
       "      <th>last_ind_ahor_fin_ult1</th>\n",
       "      <th>last_ind_aval_fin_ult1</th>\n",
       "      <th>last_ind_cco_fin_ult1</th>\n",
       "      <th>last_ind_cder_fin_ult1</th>\n",
       "      <th>last_ind_cno_fin_ult1</th>\n",
       "      <th>last_ind_ctju_fin_ult1</th>\n",
       "      <th>last_ind_ctma_fin_ult1</th>\n",
       "      <th>last_ind_ctop_fin_ult1</th>\n",
       "      <th>last_ind_ctpp_fin_ult1</th>\n",
       "      <th>last_ind_deco_fin_ult1</th>\n",
       "      <th>...</th>\n",
       "      <th>last_ind_hip_fin_ult1</th>\n",
       "      <th>last_ind_plan_fin_ult1</th>\n",
       "      <th>last_ind_pres_fin_ult1</th>\n",
       "      <th>last_ind_reca_fin_ult1</th>\n",
       "      <th>last_ind_tjcr_fin_ult1</th>\n",
       "      <th>last_ind_valo_fin_ult1</th>\n",
       "      <th>last_ind_viv_fin_ult1</th>\n",
       "      <th>last_ind_nomina_ult1</th>\n",
       "      <th>last_ind_nom_pens_ult1</th>\n",
       "      <th>last_ind_recibo_ult1</th>\n",
       "    </tr>\n",
       "  </thead>\n",
       "  <tbody>\n",
       "    <tr>\n",
       "      <th>0</th>\n",
       "      <td>0</td>\n",
       "      <td>0</td>\n",
       "      <td>1</td>\n",
       "      <td>0</td>\n",
       "      <td>0</td>\n",
       "      <td>0</td>\n",
       "      <td>0</td>\n",
       "      <td>0</td>\n",
       "      <td>1</td>\n",
       "      <td>0</td>\n",
       "      <td>...</td>\n",
       "      <td>0</td>\n",
       "      <td>0</td>\n",
       "      <td>0</td>\n",
       "      <td>0</td>\n",
       "      <td>1</td>\n",
       "      <td>1</td>\n",
       "      <td>0</td>\n",
       "      <td>0</td>\n",
       "      <td>0</td>\n",
       "      <td>0</td>\n",
       "    </tr>\n",
       "    <tr>\n",
       "      <th>1</th>\n",
       "      <td>0</td>\n",
       "      <td>0</td>\n",
       "      <td>0</td>\n",
       "      <td>0</td>\n",
       "      <td>1</td>\n",
       "      <td>0</td>\n",
       "      <td>0</td>\n",
       "      <td>0</td>\n",
       "      <td>1</td>\n",
       "      <td>0</td>\n",
       "      <td>...</td>\n",
       "      <td>0</td>\n",
       "      <td>1</td>\n",
       "      <td>0</td>\n",
       "      <td>0</td>\n",
       "      <td>1</td>\n",
       "      <td>0</td>\n",
       "      <td>0</td>\n",
       "      <td>1</td>\n",
       "      <td>1</td>\n",
       "      <td>1</td>\n",
       "    </tr>\n",
       "    <tr>\n",
       "      <th>2</th>\n",
       "      <td>0</td>\n",
       "      <td>0</td>\n",
       "      <td>1</td>\n",
       "      <td>0</td>\n",
       "      <td>0</td>\n",
       "      <td>0</td>\n",
       "      <td>0</td>\n",
       "      <td>0</td>\n",
       "      <td>0</td>\n",
       "      <td>0</td>\n",
       "      <td>...</td>\n",
       "      <td>0</td>\n",
       "      <td>0</td>\n",
       "      <td>0</td>\n",
       "      <td>1</td>\n",
       "      <td>1</td>\n",
       "      <td>1</td>\n",
       "      <td>0</td>\n",
       "      <td>0</td>\n",
       "      <td>0</td>\n",
       "      <td>1</td>\n",
       "    </tr>\n",
       "    <tr>\n",
       "      <th>3</th>\n",
       "      <td>0</td>\n",
       "      <td>0</td>\n",
       "      <td>0</td>\n",
       "      <td>0</td>\n",
       "      <td>0</td>\n",
       "      <td>0</td>\n",
       "      <td>0</td>\n",
       "      <td>0</td>\n",
       "      <td>0</td>\n",
       "      <td>0</td>\n",
       "      <td>...</td>\n",
       "      <td>0</td>\n",
       "      <td>0</td>\n",
       "      <td>0</td>\n",
       "      <td>0</td>\n",
       "      <td>0</td>\n",
       "      <td>1</td>\n",
       "      <td>0</td>\n",
       "      <td>0</td>\n",
       "      <td>0</td>\n",
       "      <td>0</td>\n",
       "    </tr>\n",
       "    <tr>\n",
       "      <th>4</th>\n",
       "      <td>0</td>\n",
       "      <td>0</td>\n",
       "      <td>1</td>\n",
       "      <td>0</td>\n",
       "      <td>0</td>\n",
       "      <td>0</td>\n",
       "      <td>0</td>\n",
       "      <td>0</td>\n",
       "      <td>0</td>\n",
       "      <td>0</td>\n",
       "      <td>...</td>\n",
       "      <td>0</td>\n",
       "      <td>0</td>\n",
       "      <td>0</td>\n",
       "      <td>1</td>\n",
       "      <td>1</td>\n",
       "      <td>1</td>\n",
       "      <td>0</td>\n",
       "      <td>1</td>\n",
       "      <td>1</td>\n",
       "      <td>1</td>\n",
       "    </tr>\n",
       "    <tr>\n",
       "      <th>5</th>\n",
       "      <td>0</td>\n",
       "      <td>0</td>\n",
       "      <td>1</td>\n",
       "      <td>0</td>\n",
       "      <td>0</td>\n",
       "      <td>0</td>\n",
       "      <td>0</td>\n",
       "      <td>0</td>\n",
       "      <td>0</td>\n",
       "      <td>0</td>\n",
       "      <td>...</td>\n",
       "      <td>0</td>\n",
       "      <td>1</td>\n",
       "      <td>0</td>\n",
       "      <td>1</td>\n",
       "      <td>1</td>\n",
       "      <td>1</td>\n",
       "      <td>0</td>\n",
       "      <td>0</td>\n",
       "      <td>0</td>\n",
       "      <td>1</td>\n",
       "    </tr>\n",
       "    <tr>\n",
       "      <th>6</th>\n",
       "      <td>0</td>\n",
       "      <td>0</td>\n",
       "      <td>1</td>\n",
       "      <td>0</td>\n",
       "      <td>0</td>\n",
       "      <td>0</td>\n",
       "      <td>0</td>\n",
       "      <td>1</td>\n",
       "      <td>0</td>\n",
       "      <td>0</td>\n",
       "      <td>...</td>\n",
       "      <td>0</td>\n",
       "      <td>0</td>\n",
       "      <td>0</td>\n",
       "      <td>0</td>\n",
       "      <td>0</td>\n",
       "      <td>1</td>\n",
       "      <td>0</td>\n",
       "      <td>0</td>\n",
       "      <td>0</td>\n",
       "      <td>0</td>\n",
       "    </tr>\n",
       "    <tr>\n",
       "      <th>7</th>\n",
       "      <td>0</td>\n",
       "      <td>0</td>\n",
       "      <td>0</td>\n",
       "      <td>0</td>\n",
       "      <td>1</td>\n",
       "      <td>0</td>\n",
       "      <td>0</td>\n",
       "      <td>1</td>\n",
       "      <td>0</td>\n",
       "      <td>0</td>\n",
       "      <td>...</td>\n",
       "      <td>0</td>\n",
       "      <td>1</td>\n",
       "      <td>0</td>\n",
       "      <td>1</td>\n",
       "      <td>1</td>\n",
       "      <td>1</td>\n",
       "      <td>0</td>\n",
       "      <td>0</td>\n",
       "      <td>1</td>\n",
       "      <td>1</td>\n",
       "    </tr>\n",
       "    <tr>\n",
       "      <th>8</th>\n",
       "      <td>0</td>\n",
       "      <td>0</td>\n",
       "      <td>0</td>\n",
       "      <td>0</td>\n",
       "      <td>0</td>\n",
       "      <td>0</td>\n",
       "      <td>0</td>\n",
       "      <td>0</td>\n",
       "      <td>0</td>\n",
       "      <td>0</td>\n",
       "      <td>...</td>\n",
       "      <td>0</td>\n",
       "      <td>0</td>\n",
       "      <td>0</td>\n",
       "      <td>0</td>\n",
       "      <td>0</td>\n",
       "      <td>0</td>\n",
       "      <td>0</td>\n",
       "      <td>0</td>\n",
       "      <td>0</td>\n",
       "      <td>0</td>\n",
       "    </tr>\n",
       "    <tr>\n",
       "      <th>9</th>\n",
       "      <td>0</td>\n",
       "      <td>0</td>\n",
       "      <td>1</td>\n",
       "      <td>0</td>\n",
       "      <td>0</td>\n",
       "      <td>0</td>\n",
       "      <td>0</td>\n",
       "      <td>1</td>\n",
       "      <td>1</td>\n",
       "      <td>0</td>\n",
       "      <td>...</td>\n",
       "      <td>0</td>\n",
       "      <td>1</td>\n",
       "      <td>0</td>\n",
       "      <td>0</td>\n",
       "      <td>0</td>\n",
       "      <td>1</td>\n",
       "      <td>0</td>\n",
       "      <td>0</td>\n",
       "      <td>0</td>\n",
       "      <td>1</td>\n",
       "    </tr>\n",
       "  </tbody>\n",
       "</table>\n",
       "<p>10 rows × 24 columns</p>\n",
       "</div>"
      ],
      "text/plain": [
       "   last_ind_ahor_fin_ult1  last_ind_aval_fin_ult1  last_ind_cco_fin_ult1  \\\n",
       "0                       0                       0                      1   \n",
       "1                       0                       0                      0   \n",
       "2                       0                       0                      1   \n",
       "3                       0                       0                      0   \n",
       "4                       0                       0                      1   \n",
       "5                       0                       0                      1   \n",
       "6                       0                       0                      1   \n",
       "7                       0                       0                      0   \n",
       "8                       0                       0                      0   \n",
       "9                       0                       0                      1   \n",
       "\n",
       "   last_ind_cder_fin_ult1  last_ind_cno_fin_ult1  last_ind_ctju_fin_ult1  \\\n",
       "0                       0                      0                       0   \n",
       "1                       0                      1                       0   \n",
       "2                       0                      0                       0   \n",
       "3                       0                      0                       0   \n",
       "4                       0                      0                       0   \n",
       "5                       0                      0                       0   \n",
       "6                       0                      0                       0   \n",
       "7                       0                      1                       0   \n",
       "8                       0                      0                       0   \n",
       "9                       0                      0                       0   \n",
       "\n",
       "   last_ind_ctma_fin_ult1  last_ind_ctop_fin_ult1  last_ind_ctpp_fin_ult1  \\\n",
       "0                       0                       0                       1   \n",
       "1                       0                       0                       1   \n",
       "2                       0                       0                       0   \n",
       "3                       0                       0                       0   \n",
       "4                       0                       0                       0   \n",
       "5                       0                       0                       0   \n",
       "6                       0                       1                       0   \n",
       "7                       0                       1                       0   \n",
       "8                       0                       0                       0   \n",
       "9                       0                       1                       1   \n",
       "\n",
       "   last_ind_deco_fin_ult1          ...           last_ind_hip_fin_ult1  \\\n",
       "0                       0          ...                               0   \n",
       "1                       0          ...                               0   \n",
       "2                       0          ...                               0   \n",
       "3                       0          ...                               0   \n",
       "4                       0          ...                               0   \n",
       "5                       0          ...                               0   \n",
       "6                       0          ...                               0   \n",
       "7                       0          ...                               0   \n",
       "8                       0          ...                               0   \n",
       "9                       0          ...                               0   \n",
       "\n",
       "   last_ind_plan_fin_ult1  last_ind_pres_fin_ult1  last_ind_reca_fin_ult1  \\\n",
       "0                       0                       0                       0   \n",
       "1                       1                       0                       0   \n",
       "2                       0                       0                       1   \n",
       "3                       0                       0                       0   \n",
       "4                       0                       0                       1   \n",
       "5                       1                       0                       1   \n",
       "6                       0                       0                       0   \n",
       "7                       1                       0                       1   \n",
       "8                       0                       0                       0   \n",
       "9                       1                       0                       0   \n",
       "\n",
       "   last_ind_tjcr_fin_ult1  last_ind_valo_fin_ult1  last_ind_viv_fin_ult1  \\\n",
       "0                       1                       1                      0   \n",
       "1                       1                       0                      0   \n",
       "2                       1                       1                      0   \n",
       "3                       0                       1                      0   \n",
       "4                       1                       1                      0   \n",
       "5                       1                       1                      0   \n",
       "6                       0                       1                      0   \n",
       "7                       1                       1                      0   \n",
       "8                       0                       0                      0   \n",
       "9                       0                       1                      0   \n",
       "\n",
       "   last_ind_nomina_ult1  last_ind_nom_pens_ult1  last_ind_recibo_ult1  \n",
       "0                     0                       0                     0  \n",
       "1                     1                       1                     1  \n",
       "2                     0                       0                     1  \n",
       "3                     0                       0                     0  \n",
       "4                     1                       1                     1  \n",
       "5                     0                       0                     1  \n",
       "6                     0                       0                     0  \n",
       "7                     0                       1                     1  \n",
       "8                     0                       0                     0  \n",
       "9                     0                       0                     1  \n",
       "\n",
       "[10 rows x 24 columns]"
      ]
     },
     "execution_count": 80,
     "metadata": {},
     "output_type": "execute_result"
    }
   ],
   "source": [
    "Y_test[LAST_TARGET_LABELS].head(10)"
   ]
  },
  {
   "cell_type": "code",
   "execution_count": 81,
   "metadata": {
    "collapsed": true
   },
   "outputs": [],
   "source": [
    "def get_submission(predicted_added_products, clients, clc, target_labels):\n",
    "    added_products_col = []\n",
    "    count = 0 \n",
    "    for products, last_choice in zip(predicted_added_products, clc):\n",
    "        predictions = remove_last_choice(products, last_choice)\n",
    "        added_products_col.append(' '.join([target_labels[i] for i in predictions]))\n",
    "        count+=1\n",
    "        if count % 100000 == 0:\n",
    "            logging.info(\"Elapsed : %i\", count)\n",
    "            \n",
    "    out = pd.DataFrame(data={'ncodpers': clients, 'added_products': added_products_col}, columns=['ncodpers', 'added_products'])\n",
    "    return out"
   ]
  },
  {
   "cell_type": "code",
   "execution_count": 82,
   "metadata": {
    "collapsed": false
   },
   "outputs": [
    {
     "name": "stderr",
     "output_type": "stream",
     "text": [
      "INFO:root:-- Predict all --\n",
      "INFO:root:- Get submission dataframe:\n"
     ]
    }
   ],
   "source": [
    "y_test_preds, Y_test_probas = predict_all(estimators, X_test, **_kwargs)\n",
    "\n",
    "logging.info(\"- Get submission dataframe:\")\n",
    "clients = X_test['ncodpers'].values\n",
    "#submission = get_submission(y_preds, clients, clients_last_choice[LC_TARGET_LABELS].values, TARGET_LABELS)"
   ]
  },
  {
   "cell_type": "code",
   "execution_count": 83,
   "metadata": {
    "collapsed": false
   },
   "outputs": [
    {
     "name": "stderr",
     "output_type": "stream",
     "text": [
      "INFO:root:Elapsed : 100000\n",
      "INFO:root:Elapsed : 200000\n",
      "INFO:root:Elapsed : 300000\n",
      "INFO:root:Elapsed : 400000\n",
      "INFO:root:Elapsed : 500000\n",
      "INFO:root:Elapsed : 600000\n",
      "INFO:root:Elapsed : 700000\n",
      "INFO:root:Elapsed : 800000\n",
      "INFO:root:Elapsed : 900000\n"
     ]
    }
   ],
   "source": [
    "submission = get_submission(y_test_preds, clients, Y_test[LAST_TARGET_LABELS].values, TARGET_LABELS)"
   ]
  },
  {
   "cell_type": "code",
   "execution_count": 84,
   "metadata": {
    "collapsed": false
   },
   "outputs": [
    {
     "name": "stdout",
     "output_type": "stream",
     "text": [
      "(929615, 2)\n"
     ]
    },
    {
     "data": {
      "text/html": [
       "<div>\n",
       "<table border=\"1\" class=\"dataframe\">\n",
       "  <thead>\n",
       "    <tr style=\"text-align: right;\">\n",
       "      <th></th>\n",
       "      <th>ncodpers</th>\n",
       "      <th>added_products</th>\n",
       "    </tr>\n",
       "  </thead>\n",
       "  <tbody>\n",
       "    <tr>\n",
       "      <th>0</th>\n",
       "      <td>15889</td>\n",
       "      <td>ind_recibo_ult1</td>\n",
       "    </tr>\n",
       "    <tr>\n",
       "      <th>1</th>\n",
       "      <td>15890</td>\n",
       "      <td>ind_cco_fin_ult1</td>\n",
       "    </tr>\n",
       "    <tr>\n",
       "      <th>2</th>\n",
       "      <td>15892</td>\n",
       "      <td></td>\n",
       "    </tr>\n",
       "    <tr>\n",
       "      <th>3</th>\n",
       "      <td>15893</td>\n",
       "      <td></td>\n",
       "    </tr>\n",
       "    <tr>\n",
       "      <th>4</th>\n",
       "      <td>15894</td>\n",
       "      <td>ind_cno_fin_ult1</td>\n",
       "    </tr>\n",
       "  </tbody>\n",
       "</table>\n",
       "</div>"
      ],
      "text/plain": [
       "   ncodpers    added_products\n",
       "0     15889   ind_recibo_ult1\n",
       "1     15890  ind_cco_fin_ult1\n",
       "2     15892                  \n",
       "3     15893                  \n",
       "4     15894  ind_cno_fin_ult1"
      ]
     },
     "execution_count": 84,
     "metadata": {},
     "output_type": "execute_result"
    }
   ],
   "source": [
    "print submission.shape\n",
    "submission.head()"
   ]
  },
  {
   "cell_type": "code",
   "execution_count": null,
   "metadata": {
    "collapsed": false
   },
   "outputs": [],
   "source": [
    "# selected_estimators = []\n",
    "# for e in estimators:\n",
    "#     # estimators = [([features_mask_name, labels_mask_name, model_name], estimator_object, accuracy), ...]\n",
    "#     features_mask_name, labels_mask_name, model_name = e[0]\n",
    "# #     print features_mask_name, labels_mask_name, model_name\n",
    "#     if set(features_masks_dict[features_mask_name]).issubset(test_df.columns):\n",
    "# #         print \"Append the estimator\"\n",
    "#         selected_estimators.append(e)"
   ]
  },
  {
   "cell_type": "code",
   "execution_count": null,
   "metadata": {
    "collapsed": false
   },
   "outputs": [],
   "source": [
    "# submission_clients = set(submission['ncodpers'].unique())\n",
    "# test_clients = set(test_df['ncodpers'].unique())\n",
    "# if submission_clients != test_clients:\n",
    "#     missing_clients = list(test_clients - submission_clients)\n",
    "#     missing_clients_mask = test_df['ncodpers'].isin(missing_clients)\n",
    "    \n",
    "#     X1 = test_df[missing_clients_mask]\n",
    "        \n",
    "#     y_preds, Y_probas = predict_all(selected_estimators, X1, **_kwargs)    \n",
    "#     submission2 = get_submission(y_preds, missing_clients, X1[LC_TARGET_LABELS].values, TARGET_LABELS)\n",
    "    \n",
    "# #     submission = pd.concat([submission, submission2])"
   ]
  },
  {
   "cell_type": "code",
   "execution_count": null,
   "metadata": {
    "collapsed": true
   },
   "outputs": [],
   "source": [
    "# submission2 = get_submission(y_preds, missing_clients, X1[LC_TARGET_LABELS].values, TARGET_LABELS)\n",
    "#submission = pd.concat([submission, submission2])"
   ]
  },
  {
   "cell_type": "code",
   "execution_count": null,
   "metadata": {
    "collapsed": true
   },
   "outputs": [],
   "source": [
    "# print submission2.shape\n",
    "# submission2.head()"
   ]
  },
  {
   "cell_type": "markdown",
   "metadata": {},
   "source": [
    "Get submission DataFrame and write csv file"
   ]
  },
  {
   "cell_type": "code",
   "execution_count": null,
   "metadata": {
    "collapsed": false
   },
   "outputs": [],
   "source": [
    "print submission.shape\n",
    "submission.head()"
   ]
  },
  {
   "cell_type": "code",
   "execution_count": 85,
   "metadata": {
    "collapsed": false
   },
   "outputs": [
    {
     "name": "stderr",
     "output_type": "stream",
     "text": [
      "INFO:root:- Generate submission\n"
     ]
    }
   ],
   "source": [
    "from datetime import datetime\n",
    "import csv\n",
    "\n",
    "logging.info('- Generate submission')\n",
    "submission_file = '../results/submission_' + \\\n",
    "                  str(datetime.now().strftime(\"%Y-%m-%d-%H-%M\")) + \\\n",
    "                  '.csv'\n",
    "\n",
    "submission.to_csv(submission_file, index=False, index_label=False)"
   ]
  },
  {
   "cell_type": "code",
   "execution_count": null,
   "metadata": {
    "collapsed": true
   },
   "outputs": [],
   "source": []
  },
  {
   "cell_type": "code",
   "execution_count": null,
   "metadata": {
    "collapsed": false
   },
   "outputs": [],
   "source": [
    "with open(submission_file, 'r') as r:\n",
    "    print r.readline()\n",
    "    print r.readline()\n",
    "    print r.readline()\n",
    "    print r.readline()\n",
    "    print r.readline()\n",
    "    "
   ]
  },
  {
   "cell_type": "code",
   "execution_count": null,
   "metadata": {
    "collapsed": true
   },
   "outputs": [],
   "source": []
  }
 ],
 "metadata": {
  "kernelspec": {
   "display_name": "Python 2",
   "language": "python",
   "name": "python2"
  },
  "language_info": {
   "codemirror_mode": {
    "name": "ipython",
    "version": 2
   },
   "file_extension": ".py",
   "mimetype": "text/x-python",
   "name": "python",
   "nbconvert_exporter": "python",
   "pygments_lexer": "ipython2",
   "version": "2.7.12"
  }
 },
 "nbformat": 4,
 "nbformat_minor": 0
}
