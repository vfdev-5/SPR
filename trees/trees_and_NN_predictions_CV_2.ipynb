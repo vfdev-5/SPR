{
 "cells": [
  {
   "cell_type": "markdown",
   "metadata": {
    "collapsed": true
   },
   "source": [
    "# Decision trees and NN tryouts on SPR data"
   ]
  },
  {
   "cell_type": "markdown",
   "metadata": {},
   "source": [
    "Load training and validation data as \n",
    "    month : [ Features | Targets| Difference | Last Choice Targets  ]\n",
    "    "
   ]
  },
  {
   "cell_type": "code",
   "execution_count": 1,
   "metadata": {
    "collapsed": false
   },
   "outputs": [],
   "source": [
    "# https://ipython.org/ipython-doc/3/config/extensions/autoreload.html\n",
    "%load_ext autoreload\n",
    "%autoreload 2"
   ]
  },
  {
   "cell_type": "code",
   "execution_count": 2,
   "metadata": {
    "collapsed": false
   },
   "outputs": [],
   "source": [
    "import os\n",
    "import numpy as np\n",
    "import pandas as pd\n",
    "\n",
    "import logging\n",
    "logging.getLogger().handlers = []\n",
    "logging.basicConfig(level=logging.INFO)\n",
    "\n",
    "import matplotlib.pylab as plt\n",
    "%matplotlib inline"
   ]
  },
  {
   "cell_type": "code",
   "execution_count": 3,
   "metadata": {
    "collapsed": false
   },
   "outputs": [],
   "source": [
    "import sys\n",
    "sys.path.append(\"../common\")\n",
    "\n",
    "from dataset2 import load_X, FEATURES_NAMES\n",
    "from utils import to_yearmonth, TARGET_LABELS, TARGET_LABELS2\n",
    "from utils import target_str_to_labels, decimal_to_dummies, targets_str_to_indices, targets_dec_to_indices"
   ]
  },
  {
   "cell_type": "code",
   "execution_count": 4,
   "metadata": {
    "collapsed": true
   },
   "outputs": [],
   "source": [
    "features = [\n",
    "    u'ind_empleado', u'pais_residencia',\n",
    "    u'sexo', u'age', u'ind_nuevo', u'antiguedad', u'indrel',\n",
    "    u'ult_fec_cli_1t', u'indrel_1mes', u'tiprel_1mes', u'indresi',\n",
    "    u'indext', u'conyuemp', u'canal_entrada', u'indfall', u'nomprov',\n",
    "    u'ind_actividad_cliente', u'renta', u'segmento'    \n",
    "]"
   ]
  },
  {
   "cell_type": "code",
   "execution_count": 63,
   "metadata": {
    "collapsed": false,
    "scrolled": true
   },
   "outputs": [
    {
     "name": "stderr",
     "output_type": "stream",
     "text": [
      "INFO:root:- Load file : ../data/train_ver2.csv, yearmonth=201605, n_clients=1500\n",
      "INFO:root:-- Select 1500 clients\n",
      "INFO:root:- Number of lines with unknown data : 0\n",
      "INFO:root:- Number of columns with nan : 9\n",
      "INFO:root:- Process targets for one yearmonth : 201605\n"
     ]
    }
   ],
   "source": [
    "X_train = load_X(201605, [201505, 201604], 1500)"
   ]
  },
  {
   "cell_type": "code",
   "execution_count": 64,
   "metadata": {
    "collapsed": false
   },
   "outputs": [
    {
     "data": {
      "text/plain": [
       "Index([u'fecha_dato', u'ncodpers', u'ind_empleado', u'pais_residencia',\n",
       "       u'sexo', u'age', u'fecha_alta', u'ind_nuevo', u'antiguedad', u'indrel',\n",
       "       u'ult_fec_cli_1t', u'indrel_1mes', u'tiprel_1mes', u'indresi',\n",
       "       u'indext', u'conyuemp', u'canal_entrada', u'indfall', u'nomprov',\n",
       "       u'ind_actividad_cliente', u'renta', u'segmento', u'ind_ahor_fin_ult1',\n",
       "       u'ind_aval_fin_ult1', u'ind_cco_fin_ult1', u'ind_cder_fin_ult1',\n",
       "       u'ind_cno_fin_ult1', u'ind_ctju_fin_ult1', u'ind_ctma_fin_ult1',\n",
       "       u'ind_ctop_fin_ult1', u'ind_ctpp_fin_ult1', u'ind_deco_fin_ult1',\n",
       "       u'ind_deme_fin_ult1', u'ind_dela_fin_ult1', u'ind_ecue_fin_ult1',\n",
       "       u'ind_fond_fin_ult1', u'ind_hip_fin_ult1', u'ind_plan_fin_ult1',\n",
       "       u'ind_pres_fin_ult1', u'ind_reca_fin_ult1', u'ind_tjcr_fin_ult1',\n",
       "       u'ind_valo_fin_ult1', u'ind_viv_fin_ult1', u'ind_nomina_ult1',\n",
       "       u'ind_nom_pens_ult1', u'ind_recibo_ult1', u'targets_str',\n",
       "       u'targets_logdec', u'targets_dec_g0', u'targets_dec_g1',\n",
       "       u'targets_dec_g2', u'targets_dec_g3'],\n",
       "      dtype='object')"
      ]
     },
     "execution_count": 64,
     "metadata": {},
     "output_type": "execute_result"
    }
   ],
   "source": [
    "X_train.columns"
   ]
  },
  {
   "cell_type": "code",
   "execution_count": 65,
   "metadata": {
    "collapsed": true
   },
   "outputs": [],
   "source": [
    "from dataset2 import TARGET_GROUP_DEC_LABELS"
   ]
  },
  {
   "cell_type": "code",
   "execution_count": 66,
   "metadata": {
    "collapsed": false
   },
   "outputs": [
    {
     "data": {
      "text/html": [
       "<div>\n",
       "<table border=\"1\" class=\"dataframe\">\n",
       "  <thead>\n",
       "    <tr style=\"text-align: right;\">\n",
       "      <th></th>\n",
       "      <th>targets_str</th>\n",
       "      <th>targets_logdec</th>\n",
       "      <th>targets_dec_g0</th>\n",
       "      <th>targets_dec_g1</th>\n",
       "      <th>targets_dec_g2</th>\n",
       "      <th>targets_dec_g3</th>\n",
       "      <th>ind_empleado</th>\n",
       "      <th>pais_residencia</th>\n",
       "      <th>sexo</th>\n",
       "      <th>age</th>\n",
       "      <th>...</th>\n",
       "      <th>tiprel_1mes</th>\n",
       "      <th>indresi</th>\n",
       "      <th>indext</th>\n",
       "      <th>conyuemp</th>\n",
       "      <th>canal_entrada</th>\n",
       "      <th>indfall</th>\n",
       "      <th>nomprov</th>\n",
       "      <th>ind_actividad_cliente</th>\n",
       "      <th>renta</th>\n",
       "      <th>segmento</th>\n",
       "    </tr>\n",
       "  </thead>\n",
       "  <tbody>\n",
       "    <tr>\n",
       "      <th>250</th>\n",
       "      <td>001000000000000000000000</td>\n",
       "      <td>14.556091</td>\n",
       "      <td>64</td>\n",
       "      <td>0</td>\n",
       "      <td>0</td>\n",
       "      <td>0</td>\n",
       "      <td>0</td>\n",
       "      <td>0</td>\n",
       "      <td>1</td>\n",
       "      <td>6</td>\n",
       "      <td>...</td>\n",
       "      <td>1</td>\n",
       "      <td>0</td>\n",
       "      <td>1</td>\n",
       "      <td>0</td>\n",
       "      <td>10</td>\n",
       "      <td>0</td>\n",
       "      <td>0</td>\n",
       "      <td>0</td>\n",
       "      <td>3</td>\n",
       "      <td>0</td>\n",
       "    </tr>\n",
       "    <tr>\n",
       "      <th>264</th>\n",
       "      <td>000010000000000000000111</td>\n",
       "      <td>13.169812</td>\n",
       "      <td>39</td>\n",
       "      <td>0</td>\n",
       "      <td>0</td>\n",
       "      <td>0</td>\n",
       "      <td>0</td>\n",
       "      <td>0</td>\n",
       "      <td>1</td>\n",
       "      <td>6</td>\n",
       "      <td>...</td>\n",
       "      <td>0</td>\n",
       "      <td>0</td>\n",
       "      <td>0</td>\n",
       "      <td>0</td>\n",
       "      <td>28</td>\n",
       "      <td>0</td>\n",
       "      <td>2</td>\n",
       "      <td>1</td>\n",
       "      <td>-1</td>\n",
       "      <td>0</td>\n",
       "    </tr>\n",
       "    <tr>\n",
       "      <th>376</th>\n",
       "      <td>001000000000100000100001</td>\n",
       "      <td>14.557083</td>\n",
       "      <td>89</td>\n",
       "      <td>0</td>\n",
       "      <td>0</td>\n",
       "      <td>0</td>\n",
       "      <td>0</td>\n",
       "      <td>0</td>\n",
       "      <td>1</td>\n",
       "      <td>7</td>\n",
       "      <td>...</td>\n",
       "      <td>0</td>\n",
       "      <td>0</td>\n",
       "      <td>0</td>\n",
       "      <td>0</td>\n",
       "      <td>12</td>\n",
       "      <td>0</td>\n",
       "      <td>9</td>\n",
       "      <td>1</td>\n",
       "      <td>7</td>\n",
       "      <td>0</td>\n",
       "    </tr>\n",
       "    <tr>\n",
       "      <th>611</th>\n",
       "      <td>000000000000000000000000</td>\n",
       "      <td>0.000000</td>\n",
       "      <td>0</td>\n",
       "      <td>0</td>\n",
       "      <td>0</td>\n",
       "      <td>0</td>\n",
       "      <td>0</td>\n",
       "      <td>0</td>\n",
       "      <td>1</td>\n",
       "      <td>8</td>\n",
       "      <td>...</td>\n",
       "      <td>1</td>\n",
       "      <td>0</td>\n",
       "      <td>0</td>\n",
       "      <td>0</td>\n",
       "      <td>33</td>\n",
       "      <td>0</td>\n",
       "      <td>2</td>\n",
       "      <td>0</td>\n",
       "      <td>8</td>\n",
       "      <td>0</td>\n",
       "    </tr>\n",
       "    <tr>\n",
       "      <th>711</th>\n",
       "      <td>001000000000000000000000</td>\n",
       "      <td>14.556091</td>\n",
       "      <td>64</td>\n",
       "      <td>0</td>\n",
       "      <td>0</td>\n",
       "      <td>0</td>\n",
       "      <td>0</td>\n",
       "      <td>0</td>\n",
       "      <td>0</td>\n",
       "      <td>9</td>\n",
       "      <td>...</td>\n",
       "      <td>1</td>\n",
       "      <td>0</td>\n",
       "      <td>0</td>\n",
       "      <td>0</td>\n",
       "      <td>3</td>\n",
       "      <td>0</td>\n",
       "      <td>35</td>\n",
       "      <td>0</td>\n",
       "      <td>4</td>\n",
       "      <td>0</td>\n",
       "    </tr>\n",
       "  </tbody>\n",
       "</table>\n",
       "<p>5 rows × 25 columns</p>\n",
       "</div>"
      ],
      "text/plain": [
       "                  targets_str  targets_logdec  targets_dec_g0  targets_dec_g1  \\\n",
       "250  001000000000000000000000       14.556091              64               0   \n",
       "264  000010000000000000000111       13.169812              39               0   \n",
       "376  001000000000100000100001       14.557083              89               0   \n",
       "611  000000000000000000000000        0.000000               0               0   \n",
       "711  001000000000000000000000       14.556091              64               0   \n",
       "\n",
       "     targets_dec_g2  targets_dec_g3  ind_empleado  pais_residencia  sexo  age  \\\n",
       "250               0               0             0                0     1    6   \n",
       "264               0               0             0                0     1    6   \n",
       "376               0               0             0                0     1    7   \n",
       "611               0               0             0                0     1    8   \n",
       "711               0               0             0                0     0    9   \n",
       "\n",
       "       ...     tiprel_1mes  indresi  indext  conyuemp  canal_entrada  indfall  \\\n",
       "250    ...               1        0       1         0             10        0   \n",
       "264    ...               0        0       0         0             28        0   \n",
       "376    ...               0        0       0         0             12        0   \n",
       "611    ...               1        0       0         0             33        0   \n",
       "711    ...               1        0       0         0              3        0   \n",
       "\n",
       "     nomprov  ind_actividad_cliente  renta  segmento  \n",
       "250        0                      0      3         0  \n",
       "264        2                      1     -1         0  \n",
       "376        9                      1      7         0  \n",
       "611        2                      0      8         0  \n",
       "711       35                      0      4         0  \n",
       "\n",
       "[5 rows x 25 columns]"
      ]
     },
     "execution_count": 66,
     "metadata": {},
     "output_type": "execute_result"
    }
   ],
   "source": [
    "X_train[['targets_str', 'targets_logdec'] + TARGET_GROUP_DEC_LABELS + FEATURES_NAMES].head()"
   ]
  },
  {
   "cell_type": "code",
   "execution_count": 67,
   "metadata": {
    "collapsed": true
   },
   "outputs": [],
   "source": [
    "X = X_train\n",
    "from dataset2 import TARGET_GROUP_DEC_LABELS, FEATURES_NAMES\n",
    "from dataset2 import TRAIN_FILE_PATH, load_data2, minimal_clean_data_inplace, preprocess_data_inplace, process_features, process_targets\n",
    "\n",
    "supp_yearmonths_list = [201505, 201604]"
   ]
  },
  {
   "cell_type": "code",
   "execution_count": 68,
   "metadata": {
    "collapsed": false
   },
   "outputs": [
    {
     "name": "stderr",
     "output_type": "stream",
     "text": [
      "INFO:root:- Number of lines with unknown data : 3597\n",
      "INFO:root:- Number of columns with nan : 10\n"
     ]
    }
   ],
   "source": [
    "ref_clients = X['ncodpers'].unique()\n",
    "# for ym in supp_yearmonths_list:\n",
    "ym = supp_yearmonths_list[0]\n",
    "fname = TEST_FILE_PATH if ym == 201606 else TRAIN_FILE_PATH\n",
    "X_ym = load_data2(fname, [ym])\n",
    "minimal_clean_data_inplace(X_ym)\n",
    "preprocess_data_inplace(X_ym)\n",
    "process_targets(X_ym)\n",
    "process_features(X_ym)\n",
    "\n"
   ]
  },
  {
   "cell_type": "code",
   "execution_count": 69,
   "metadata": {
    "collapsed": false
   },
   "outputs": [
    {
     "name": "stdout",
     "output_type": "stream",
     "text": [
      "(1015,) (485,)\n"
     ]
    }
   ],
   "source": [
    "clients = X_ym['ncodpers'].unique()\n",
    "common_clients = np.array(list(set(ref_clients) & set(clients)))\n",
    "missing_clients = np.array(list(set(ref_clients) - set(clients)))\n",
    "print common_clients.shape, missing_clients.shape"
   ]
  },
  {
   "cell_type": "code",
   "execution_count": 70,
   "metadata": {
    "collapsed": false
   },
   "outputs": [
    {
     "name": "stdout",
     "output_type": "stream",
     "text": [
      "(485, 52)\n"
     ]
    },
    {
     "data": {
      "text/html": [
       "<div>\n",
       "<table border=\"1\" class=\"dataframe\">\n",
       "  <thead>\n",
       "    <tr style=\"text-align: right;\">\n",
       "      <th></th>\n",
       "      <th>fecha_dato</th>\n",
       "      <th>ncodpers</th>\n",
       "      <th>ind_empleado</th>\n",
       "      <th>pais_residencia</th>\n",
       "      <th>sexo</th>\n",
       "      <th>age</th>\n",
       "      <th>fecha_alta</th>\n",
       "      <th>ind_nuevo</th>\n",
       "      <th>antiguedad</th>\n",
       "      <th>indrel</th>\n",
       "      <th>...</th>\n",
       "      <th>ind_viv_fin_ult1</th>\n",
       "      <th>ind_nomina_ult1</th>\n",
       "      <th>ind_nom_pens_ult1</th>\n",
       "      <th>ind_recibo_ult1</th>\n",
       "      <th>targets_str</th>\n",
       "      <th>targets_logdec</th>\n",
       "      <th>targets_dec_g0</th>\n",
       "      <th>targets_dec_g1</th>\n",
       "      <th>targets_dec_g2</th>\n",
       "      <th>targets_dec_g3</th>\n",
       "    </tr>\n",
       "  </thead>\n",
       "  <tbody>\n",
       "    <tr>\n",
       "      <th>306356</th>\n",
       "      <td>2016-05-28</td>\n",
       "      <td>26170</td>\n",
       "      <td>0</td>\n",
       "      <td>0</td>\n",
       "      <td>1</td>\n",
       "      <td>9</td>\n",
       "      <td>1995-10-28</td>\n",
       "      <td>0</td>\n",
       "      <td>247</td>\n",
       "      <td>1</td>\n",
       "      <td>...</td>\n",
       "      <td>0</td>\n",
       "      <td>0</td>\n",
       "      <td>0</td>\n",
       "      <td>0</td>\n",
       "      <td>000000000000000000000000</td>\n",
       "      <td>0.0</td>\n",
       "      <td>0</td>\n",
       "      <td>0</td>\n",
       "      <td>0</td>\n",
       "      <td>0</td>\n",
       "    </tr>\n",
       "    <tr>\n",
       "      <th>309133</th>\n",
       "      <td>2016-05-28</td>\n",
       "      <td>28090</td>\n",
       "      <td>0</td>\n",
       "      <td>0</td>\n",
       "      <td>1</td>\n",
       "      <td>10</td>\n",
       "      <td>1995-11-28</td>\n",
       "      <td>0</td>\n",
       "      <td>246</td>\n",
       "      <td>1</td>\n",
       "      <td>...</td>\n",
       "      <td>0</td>\n",
       "      <td>0</td>\n",
       "      <td>0</td>\n",
       "      <td>0</td>\n",
       "      <td>000000000000000000000000</td>\n",
       "      <td>0.0</td>\n",
       "      <td>0</td>\n",
       "      <td>0</td>\n",
       "      <td>0</td>\n",
       "      <td>0</td>\n",
       "    </tr>\n",
       "    <tr>\n",
       "      <th>307668</th>\n",
       "      <td>2016-05-28</td>\n",
       "      <td>29823</td>\n",
       "      <td>0</td>\n",
       "      <td>0</td>\n",
       "      <td>1</td>\n",
       "      <td>11</td>\n",
       "      <td>1995-12-21</td>\n",
       "      <td>0</td>\n",
       "      <td>245</td>\n",
       "      <td>1</td>\n",
       "      <td>...</td>\n",
       "      <td>0</td>\n",
       "      <td>0</td>\n",
       "      <td>0</td>\n",
       "      <td>0</td>\n",
       "      <td>000000000000000000000000</td>\n",
       "      <td>0.0</td>\n",
       "      <td>0</td>\n",
       "      <td>0</td>\n",
       "      <td>0</td>\n",
       "      <td>0</td>\n",
       "    </tr>\n",
       "    <tr>\n",
       "      <th>317010</th>\n",
       "      <td>2016-05-28</td>\n",
       "      <td>34379</td>\n",
       "      <td>0</td>\n",
       "      <td>0</td>\n",
       "      <td>1</td>\n",
       "      <td>9</td>\n",
       "      <td>1996-03-13</td>\n",
       "      <td>0</td>\n",
       "      <td>242</td>\n",
       "      <td>1</td>\n",
       "      <td>...</td>\n",
       "      <td>0</td>\n",
       "      <td>0</td>\n",
       "      <td>0</td>\n",
       "      <td>0</td>\n",
       "      <td>000000000000000000000000</td>\n",
       "      <td>0.0</td>\n",
       "      <td>0</td>\n",
       "      <td>0</td>\n",
       "      <td>0</td>\n",
       "      <td>0</td>\n",
       "    </tr>\n",
       "    <tr>\n",
       "      <th>318975</th>\n",
       "      <td>2016-05-28</td>\n",
       "      <td>38697</td>\n",
       "      <td>0</td>\n",
       "      <td>0</td>\n",
       "      <td>1</td>\n",
       "      <td>12</td>\n",
       "      <td>1996-09-20</td>\n",
       "      <td>0</td>\n",
       "      <td>236</td>\n",
       "      <td>1</td>\n",
       "      <td>...</td>\n",
       "      <td>0</td>\n",
       "      <td>0</td>\n",
       "      <td>0</td>\n",
       "      <td>0</td>\n",
       "      <td>000000000000000000000000</td>\n",
       "      <td>0.0</td>\n",
       "      <td>0</td>\n",
       "      <td>0</td>\n",
       "      <td>0</td>\n",
       "      <td>0</td>\n",
       "    </tr>\n",
       "  </tbody>\n",
       "</table>\n",
       "<p>5 rows × 52 columns</p>\n",
       "</div>"
      ],
      "text/plain": [
       "        fecha_dato  ncodpers  ind_empleado  pais_residencia  sexo  age  \\\n",
       "306356  2016-05-28     26170             0                0     1    9   \n",
       "309133  2016-05-28     28090             0                0     1   10   \n",
       "307668  2016-05-28     29823             0                0     1   11   \n",
       "317010  2016-05-28     34379             0                0     1    9   \n",
       "318975  2016-05-28     38697             0                0     1   12   \n",
       "\n",
       "        fecha_alta  ind_nuevo  antiguedad  indrel       ...        \\\n",
       "306356  1995-10-28          0         247       1       ...         \n",
       "309133  1995-11-28          0         246       1       ...         \n",
       "307668  1995-12-21          0         245       1       ...         \n",
       "317010  1996-03-13          0         242       1       ...         \n",
       "318975  1996-09-20          0         236       1       ...         \n",
       "\n",
       "        ind_viv_fin_ult1  ind_nomina_ult1  ind_nom_pens_ult1  ind_recibo_ult1  \\\n",
       "306356                 0                0                  0                0   \n",
       "309133                 0                0                  0                0   \n",
       "307668                 0                0                  0                0   \n",
       "317010                 0                0                  0                0   \n",
       "318975                 0                0                  0                0   \n",
       "\n",
       "                     targets_str  targets_logdec  targets_dec_g0  \\\n",
       "306356  000000000000000000000000             0.0               0   \n",
       "309133  000000000000000000000000             0.0               0   \n",
       "307668  000000000000000000000000             0.0               0   \n",
       "317010  000000000000000000000000             0.0               0   \n",
       "318975  000000000000000000000000             0.0               0   \n",
       "\n",
       "        targets_dec_g1  targets_dec_g2  targets_dec_g3  \n",
       "306356               0               0               0  \n",
       "309133               0               0               0  \n",
       "307668               0               0               0  \n",
       "317010               0               0               0  \n",
       "318975               0               0               0  \n",
       "\n",
       "[5 rows x 52 columns]"
      ]
     },
     "execution_count": 70,
     "metadata": {},
     "output_type": "execute_result"
    }
   ],
   "source": [
    "print X[X['ncodpers'].isin(missing_clients)].shape\n",
    "X[X['ncodpers'].isin(missing_clients)].sort_values(['ncodpers']).head()"
   ]
  },
  {
   "cell_type": "code",
   "execution_count": 71,
   "metadata": {
    "collapsed": false
   },
   "outputs": [
    {
     "name": "stdout",
     "output_type": "stream",
     "text": [
      "(0, 52)\n"
     ]
    },
    {
     "data": {
      "text/html": [
       "<div>\n",
       "<table border=\"1\" class=\"dataframe\">\n",
       "  <thead>\n",
       "    <tr style=\"text-align: right;\">\n",
       "      <th></th>\n",
       "      <th>fecha_dato</th>\n",
       "      <th>ncodpers</th>\n",
       "      <th>ind_empleado</th>\n",
       "      <th>pais_residencia</th>\n",
       "      <th>sexo</th>\n",
       "      <th>age</th>\n",
       "      <th>fecha_alta</th>\n",
       "      <th>ind_nuevo</th>\n",
       "      <th>antiguedad</th>\n",
       "      <th>indrel</th>\n",
       "      <th>...</th>\n",
       "      <th>ind_viv_fin_ult1</th>\n",
       "      <th>ind_nomina_ult1</th>\n",
       "      <th>ind_nom_pens_ult1</th>\n",
       "      <th>ind_recibo_ult1</th>\n",
       "      <th>targets_str</th>\n",
       "      <th>targets_logdec</th>\n",
       "      <th>targets_dec_g0</th>\n",
       "      <th>targets_dec_g1</th>\n",
       "      <th>targets_dec_g2</th>\n",
       "      <th>targets_dec_g3</th>\n",
       "    </tr>\n",
       "  </thead>\n",
       "  <tbody>\n",
       "  </tbody>\n",
       "</table>\n",
       "<p>0 rows × 52 columns</p>\n",
       "</div>"
      ],
      "text/plain": [
       "Empty DataFrame\n",
       "Columns: [fecha_dato, ncodpers, ind_empleado, pais_residencia, sexo, age, fecha_alta, ind_nuevo, antiguedad, indrel, ult_fec_cli_1t, indrel_1mes, tiprel_1mes, indresi, indext, conyuemp, canal_entrada, indfall, nomprov, ind_actividad_cliente, renta, segmento, ind_ahor_fin_ult1, ind_aval_fin_ult1, ind_cco_fin_ult1, ind_cder_fin_ult1, ind_cno_fin_ult1, ind_ctju_fin_ult1, ind_ctma_fin_ult1, ind_ctop_fin_ult1, ind_ctpp_fin_ult1, ind_deco_fin_ult1, ind_deme_fin_ult1, ind_dela_fin_ult1, ind_ecue_fin_ult1, ind_fond_fin_ult1, ind_hip_fin_ult1, ind_plan_fin_ult1, ind_pres_fin_ult1, ind_reca_fin_ult1, ind_tjcr_fin_ult1, ind_valo_fin_ult1, ind_viv_fin_ult1, ind_nomina_ult1, ind_nom_pens_ult1, ind_recibo_ult1, targets_str, targets_logdec, targets_dec_g0, targets_dec_g1, targets_dec_g2, targets_dec_g3]\n",
       "Index: []\n",
       "\n",
       "[0 rows x 52 columns]"
      ]
     },
     "execution_count": 71,
     "metadata": {},
     "output_type": "execute_result"
    }
   ],
   "source": [
    "print X_ym[X_ym['ncodpers'].isin(missing_clients)].shape\n",
    "X_ym[X_ym['ncodpers'].isin(missing_clients)].sort_values(['ncodpers']).head()"
   ]
  },
  {
   "cell_type": "code",
   "execution_count": 72,
   "metadata": {
    "collapsed": true
   },
   "outputs": [],
   "source": [
    "def features_to_str(features):\n",
    "    return '_'.join([str(int(f)) for f in features])"
   ]
  },
  {
   "cell_type": "code",
   "execution_count": 73,
   "metadata": {
    "collapsed": false,
    "scrolled": true
   },
   "outputs": [],
   "source": [
    "from time import time\n",
    "\n",
    "def _match_replace_clients(ref_data, out_data):\n",
    "    _X, _x_features_str = ref_data\n",
    "    _X_ym_, _x_ym_features_str = out_data\n",
    "    \n",
    "    _x_ym_features_str = _x_ym_features_str.drop_duplicates()\n",
    "    \n",
    "    _X_sorted = _x_features_str.sort_values()\n",
    "    _X_ym_sorted = _x_ym_features_str.sort_values()\n",
    "    \n",
    "    print _X_sorted.shape, _X_ym_sorted.shape\n",
    "    \n",
    "    tic = time()\n",
    "    for index in _X_sorted.index:\n",
    "        m = _X_ym_sorted.eq(_X_sorted[index])\n",
    "        if m.any():\n",
    "            _X_ym_sorted_m = _X_ym_sorted[m]\n",
    "            # Choose randomly an index from matches and assign ncodpers to this line\n",
    "            ll = len(_X_ym_sorted_m.index)\n",
    "            ii = _X_ym_sorted_m.index[np.random.randint(ll)]\n",
    "            logging.debug(\"Match found : %i <-> %i | Replace ncodpers : %i <-> %i\" % (index, _X_ym_sorted_m.index[0], _X_ym_.loc[ii, 'ncodpers'], _X.loc[index, 'ncodpers']))\n",
    "            _X_ym_.loc[ii, 'ncodpers'] = _X.loc[index, 'ncodpers']\n",
    "\n",
    "    print time() - tic\n",
    "    \n",
    "    \n",
    "def match_replace_clients(ref_data, out_data):\n",
    "    _X, _x_features_str = ref_data\n",
    "    _X_ym_, _x_ym_features_str = out_data\n",
    "    \n",
    "    tic = time()\n",
    "    r1 = _x_ym_features_str[_x_ym_features_str.isin(_x_features_str)]\n",
    "    r1 = r1.sort_values()\n",
    "    r2 = _x_features_str[_x_features_str.isin(r1)].sort_values()\n",
    "    \n",
    "    assert r1.shape == r2.shape, \"WTF\"\n",
    "    \n",
    "    _X_ym_\n",
    "    \n",
    "#     for index in _X_sorted.index:\n",
    "#         m = _X_ym_sorted.eq(_X_sorted[index])\n",
    "#         if m.any():\n",
    "#             _X_ym_sorted_m = _X_ym_sorted[m]\n",
    "#             # Choose randomly an index from matches and assign ncodpers to this line\n",
    "#             ll = len(_X_ym_sorted_m.index)\n",
    "#             ii = _X_ym_sorted_m.index[np.random.randint(ll)]\n",
    "#             logging.debug(\"Match found : %i <-> %i | Replace ncodpers : %i <-> %i\" % (index, _X_ym_sorted_m.index[0], _X_ym_.loc[ii, 'ncodpers'], _X.loc[index, 'ncodpers']))\n",
    "#             _X_ym_.loc[ii, 'ncodpers'] = _X.loc[index, 'ncodpers']\n",
    "\n",
    "    print time() - tic\n",
    "    "
   ]
  },
  {
   "cell_type": "code",
   "execution_count": 112,
   "metadata": {
    "collapsed": false
   },
   "outputs": [
    {
     "data": {
      "text/plain": [
       "((63,), (64,))"
      ]
     },
     "execution_count": 112,
     "metadata": {},
     "output_type": "execute_result"
    }
   ],
   "source": [
    "assert r1.shape == r2.shape"
   ]
  },
  {
   "cell_type": "code",
   "execution_count": 110,
   "metadata": {
    "collapsed": false
   },
   "outputs": [
    {
     "name": "stdout",
     "output_type": "stream",
     "text": [
      "283203    1229628\n",
      "307619    1221732\n",
      "237043    1181015\n",
      "45498     1109027\n",
      "70236     1102215\n",
      "Name: ncodpers, dtype: int64\n",
      "476115    1368678\n",
      "468627    1360061\n",
      "568367    1308874\n",
      "871356    1232784\n",
      "824464    1222441\n",
      "Name: ncodpers, dtype: int64\n"
     ]
    }
   ],
   "source": [
    "print X_ym_.loc[r1.index[:5], 'ncodpers']\n",
    "print X.loc[r2.index[:5], 'ncodpers']"
   ]
  },
  {
   "cell_type": "code",
   "execution_count": 134,
   "metadata": {
    "collapsed": false
   },
   "outputs": [
    {
     "data": {
      "text/plain": [
       "(485,)"
      ]
     },
     "execution_count": 134,
     "metadata": {},
     "output_type": "execute_result"
    }
   ],
   "source": [
    "_x_features_str.shape"
   ]
  },
  {
   "cell_type": "code",
   "execution_count": 135,
   "metadata": {
    "collapsed": false
   },
   "outputs": [
    {
     "name": "stdout",
     "output_type": "stream",
     "text": [
      "(434,)\n",
      "283450      0_0_0_0_0_17_1_0_0_1_0_0_0_25_0_0_0_9_1\n",
      "283203      0_0_0_0_0_17_1_0_0_1_0_0_0_25_0_0_0_9_1\n",
      "309046      0_0_0_0_0_17_1_0_0_1_0_0_0_25_0_0_0_9_1\n",
      "283234      0_0_0_0_0_17_1_0_0_1_0_0_0_25_0_0_0_9_1\n",
      "309954    0_0_0_0_0_18_1_0_0_1_0_0_0_25_0_19_0_-1_1\n",
      "dtype: object\n",
      "532744    0_0_1_8_0_62_1_0_0_1_0_0_0_0_0_0_0_10_0\n",
      "487935     0_0_1_8_0_87_1_0_0_1_0_0_0_0_0_0_0_8_0\n",
      "484037     0_0_1_8_0_87_1_0_0_1_0_0_0_0_0_0_0_8_0\n",
      "349892    0_0_1_9_0_166_1_0_0_1_0_0_0_0_0_0_0_6_0\n",
      "530650     0_0_1_9_0_64_1_0_0_1_0_0_0_0_0_0_0_9_0\n",
      "dtype: object\n"
     ]
    }
   ],
   "source": [
    "r1 = _x_ym_features_str[_x_ym_features_str.isin(_x_features_str)]\n",
    "r1 = r1.sort_values()\n",
    "print r1.shape\n",
    "print r1.head()\n",
    "print r1.tail()"
   ]
  },
  {
   "cell_type": "code",
   "execution_count": 136,
   "metadata": {
    "collapsed": false,
    "scrolled": true
   },
   "outputs": [
    {
     "name": "stdout",
     "output_type": "stream",
     "text": [
      "(64,)\n",
      "476115      0_0_0_0_0_17_1_0_0_1_0_0_0_25_0_0_0_9_1\n",
      "468627    0_0_0_0_0_18_1_0_0_1_0_0_0_25_0_19_0_-1_1\n",
      "568367     0_0_0_0_0_20_1_0_0_1_0_0_0_25_0_0_0_11_1\n",
      "871356    0_0_0_0_0_29_1_0_0_1_0_0_0_25_0_18_0_-1_1\n",
      "824464      0_0_0_0_0_30_1_0_0_1_0_0_0_25_0_1_0_4_1\n",
      "dtype: object\n",
      "138710    0_0_1_8_0_62_1_0_0_1_0_0_0_0_0_0_0_10_0\n",
      "138884    0_0_1_8_0_62_1_0_0_1_0_0_0_0_0_0_0_10_0\n",
      "220671     0_0_1_8_0_87_1_0_0_1_0_0_0_0_0_0_0_8_0\n",
      "446171    0_0_1_9_0_166_1_0_0_1_0_0_0_0_0_0_0_6_0\n",
      "145375     0_0_1_9_0_64_1_0_0_1_0_0_0_0_0_0_0_9_0\n",
      "dtype: object\n"
     ]
    }
   ],
   "source": [
    "r2 = _x_features_str[_x_features_str.isin(r1)].sort_values()\n",
    "print r2.shape\n",
    "print r2.head()\n",
    "print r2.tail()"
   ]
  },
  {
   "cell_type": "code",
   "execution_count": 139,
   "metadata": {
    "collapsed": false
   },
   "outputs": [
    {
     "name": "stdout",
     "output_type": "stream",
     "text": [
      "(434,)\n"
     ]
    },
    {
     "data": {
      "text/plain": [
       "283450      0_0_0_0_0_17_1_0_0_1_0_0_0_25_0_0_0_9_1\n",
       "283203      0_0_0_0_0_17_1_0_0_1_0_0_0_25_0_0_0_9_1\n",
       "309046      0_0_0_0_0_17_1_0_0_1_0_0_0_25_0_0_0_9_1\n",
       "283234      0_0_0_0_0_17_1_0_0_1_0_0_0_25_0_0_0_9_1\n",
       "309954    0_0_0_0_0_18_1_0_0_1_0_0_0_25_0_19_0_-1_1\n",
       "308122    0_0_0_0_0_18_1_0_0_1_0_0_0_25_0_19_0_-1_1\n",
       "307639    0_0_0_0_0_18_1_0_0_1_0_0_0_25_0_19_0_-1_1\n",
       "307628    0_0_0_0_0_18_1_0_0_1_0_0_0_25_0_19_0_-1_1\n",
       "307619    0_0_0_0_0_18_1_0_0_1_0_0_0_25_0_19_0_-1_1\n",
       "242742     0_0_0_0_0_20_1_0_0_1_0_0_0_25_0_0_0_11_1\n",
       "253289     0_0_0_0_0_20_1_0_0_1_0_0_0_25_0_0_0_11_1\n",
       "241144     0_0_0_0_0_20_1_0_0_1_0_0_0_25_0_0_0_11_1\n",
       "239694     0_0_0_0_0_20_1_0_0_1_0_0_0_25_0_0_0_11_1\n",
       "240049     0_0_0_0_0_20_1_0_0_1_0_0_0_25_0_0_0_11_1\n",
       "254033     0_0_0_0_0_20_1_0_0_1_0_0_0_25_0_0_0_11_1\n",
       "242774     0_0_0_0_0_20_1_0_0_1_0_0_0_25_0_0_0_11_1\n",
       "239330     0_0_0_0_0_20_1_0_0_1_0_0_0_25_0_0_0_11_1\n",
       "240510     0_0_0_0_0_20_1_0_0_1_0_0_0_25_0_0_0_11_1\n",
       "242784     0_0_0_0_0_20_1_0_0_1_0_0_0_25_0_0_0_11_1\n",
       "242776     0_0_0_0_0_20_1_0_0_1_0_0_0_25_0_0_0_11_1\n",
       "243131     0_0_0_0_0_20_1_0_0_1_0_0_0_25_0_0_0_11_1\n",
       "243147     0_0_0_0_0_20_1_0_0_1_0_0_0_25_0_0_0_11_1\n",
       "246473     0_0_0_0_0_20_1_0_0_1_0_0_0_25_0_0_0_11_1\n",
       "246395     0_0_0_0_0_20_1_0_0_1_0_0_0_25_0_0_0_11_1\n",
       "246302     0_0_0_0_0_20_1_0_0_1_0_0_0_25_0_0_0_11_1\n",
       "246286     0_0_0_0_0_20_1_0_0_1_0_0_0_25_0_0_0_11_1\n",
       "246243     0_0_0_0_0_20_1_0_0_1_0_0_0_25_0_0_0_11_1\n",
       "246061     0_0_0_0_0_20_1_0_0_1_0_0_0_25_0_0_0_11_1\n",
       "245600     0_0_0_0_0_20_1_0_0_1_0_0_0_25_0_0_0_11_1\n",
       "245520     0_0_0_0_0_20_1_0_0_1_0_0_0_25_0_0_0_11_1\n",
       "                            ...                    \n",
       "12937       0_0_1_2_0_31_1_0_0_1_0_0_0_25_0_0_0_8_1\n",
       "63584       0_0_1_2_0_31_1_0_0_1_0_0_0_25_0_0_0_8_1\n",
       "13346       0_0_1_2_0_31_1_0_0_1_0_0_0_25_0_0_0_8_1\n",
       "67520       0_0_1_2_0_31_1_0_0_1_0_0_0_25_0_0_0_8_1\n",
       "235         0_0_1_2_0_32_1_0_0_1_0_0_0_25_0_0_0_8_1\n",
       "3778        0_0_1_2_0_32_1_0_0_1_0_0_0_25_0_0_0_8_1\n",
       "1035        0_0_1_2_0_32_1_0_0_1_0_0_0_25_0_0_0_8_1\n",
       "154428     0_0_1_4_0_42_1_0_0_1_0_0_0_25_0_24_0_1_1\n",
       "149596     0_0_1_4_0_42_1_0_0_1_0_0_0_25_0_24_0_1_1\n",
       "141204     0_0_1_4_0_42_1_0_0_1_0_0_0_25_0_24_0_1_1\n",
       "559083      0_0_1_5_0_133_1_0_0_1_0_0_0_0_0_2_0_5_0\n",
       "62647       0_0_1_5_0_31_1_0_0_1_0_0_0_0_0_0_0_10_0\n",
       "12786       0_0_1_5_0_31_1_0_0_1_0_0_0_0_0_0_0_10_0\n",
       "462985     0_0_1_6_0_194_1_0_0_1_0_0_0_0_0_0_0_10_0\n",
       "51431       0_0_1_6_0_22_1_0_0_0_0_0_0_0_0_0_1_-1_0\n",
       "521691       0_0_1_6_0_71_1_0_0_1_0_0_0_0_0_0_0_6_0\n",
       "509930      0_0_1_7_0_102_1_0_0_1_0_0_0_3_0_0_0_9_0\n",
       "610659      0_0_1_7_0_108_1_0_0_1_0_0_0_0_0_2_0_6_0\n",
       "610564      0_0_1_7_0_108_1_0_0_1_0_0_0_0_0_2_0_6_0\n",
       "623213     0_0_1_7_0_116_1_0_0_1_0_0_0_0_0_0_0_10_0\n",
       "624111     0_0_1_7_0_116_1_0_0_1_0_0_0_0_0_0_0_10_0\n",
       "396445      0_0_1_7_0_208_1_0_0_1_0_0_0_3_0_0_0_6_0\n",
       "524287      0_0_1_7_0_60_1_0_0_1_0_0_0_0_0_0_0_-1_0\n",
       "508199      0_0_1_7_0_97_1_0_0_1_0_0_0_0_0_0_0_-1_0\n",
       "498749    0_0_1_8_0_105_1_0_0_1_0_0_0_3_0_17_0_-1_0\n",
       "532744      0_0_1_8_0_62_1_0_0_1_0_0_0_0_0_0_0_10_0\n",
       "487935       0_0_1_8_0_87_1_0_0_1_0_0_0_0_0_0_0_8_0\n",
       "484037       0_0_1_8_0_87_1_0_0_1_0_0_0_0_0_0_0_8_0\n",
       "349892      0_0_1_9_0_166_1_0_0_1_0_0_0_0_0_0_0_6_0\n",
       "530650       0_0_1_9_0_64_1_0_0_1_0_0_0_0_0_0_0_9_0\n",
       "dtype: object"
      ]
     },
     "execution_count": 139,
     "metadata": {},
     "output_type": "execute_result"
    }
   ],
   "source": [
    "r3 = r1[r1.isin(r2)]\n",
    "print r3.shape\n",
    "r3"
   ]
  },
  {
   "cell_type": "code",
   "execution_count": 130,
   "metadata": {
    "collapsed": false
   },
   "outputs": [],
   "source": [
    "logging.getLogger().setLevel(logging.DEBUG)\n",
    "\n",
    "_X, _x_features_str = (X[missing_clients_mask], x_features_str)\n",
    "_X_ym_, _x_ym_features_str = (X_ym_, x_ym_features_str)\n",
    "\n",
    "# _x_ym_features_str = _x_ym_features_str.drop_duplicates()\n",
    "# _X_sorted = _x_features_str.sort_values()\n",
    "# _X_ym_sorted = _x_ym_features_str.sort_values()\n",
    "\n",
    "# print _X_sorted.shape, _X_ym_sorted.shape\n",
    "\n",
    "\n",
    "\n",
    "# tic = time()\n",
    "# for index in _X_sorted.index:\n",
    "\n",
    "#     for index2 in _X_ym_sorted.index:\n",
    "#         print index.equals(index2)\n",
    "#         print index, _X_sorted[index]\n",
    "#         print index2, _X_ym_sorted[index2]\n",
    "#         break\n",
    "# #     if m.any():\n",
    "# #         _X_ym_sorted_m = _X_ym_sorted[m]\n",
    "# #         # Choose randomly an index from matches and assign ncodpers to this line\n",
    "# #         ll = len(_X_ym_sorted_m.index)\n",
    "# #         ii = _X_ym_sorted_m.index[np.random.randint(ll)]\n",
    "# #         logging.debug(\"Match found : %i <-> %i | Replace ncodpers : %i <-> %i\" % (index, _X_ym_sorted_m.index[0], _X_ym_.loc[ii, 'ncodpers'], _X.loc[index, 'ncodpers']))\n",
    "# #         _X_ym_.loc[ii, 'ncodpers'] = _X.loc[index, 'ncodpers']\n",
    "#     break\n",
    "    \n",
    "# print time() - tic "
   ]
  },
  {
   "cell_type": "code",
   "execution_count": 113,
   "metadata": {
    "collapsed": false
   },
   "outputs": [
    {
     "name": "stdout",
     "output_type": "stream",
     "text": [
      "- Compute missing clients : \n",
      "(1015,) (485,)\n",
      "- Feature group :  [u'ind_empleado', u'pais_residencia', u'sexo', u'age', u'ind_nuevo', u'antiguedad', u'indrel', u'ult_fec_cli_1t', u'indrel_1mes', u'tiprel_1mes', u'indresi', u'indext', u'conyuemp', u'canal_entrada', u'indfall', u'nomprov', u'ind_actividad_cliente', u'renta', u'segmento']\n",
      "- Match and replace\n"
     ]
    }
   ],
   "source": [
    "X_ym_ = X_ym.copy()\n",
    "\n",
    "fg = match_features_groups[0]\n",
    "print \"- Compute missing clients : \"\n",
    "clients = X_ym_['ncodpers'].unique()\n",
    "common_clients = np.array(list(set(ref_clients) & set(clients)))\n",
    "missing_clients = np.array(list(set(ref_clients) - set(clients)))\n",
    "print common_clients.shape, missing_clients.shape\n",
    "print \"- Feature group : \", fg\n",
    "missing_clients_mask = X['ncodpers'].isin(missing_clients)\n",
    "x_features_str = X[missing_clients_mask][fg].apply(features_to_str, axis=1)\n",
    "x_ym_features_str = X_ym_[fg].apply(features_to_str, axis=1)\n",
    "print \"- Match and replace\""
   ]
  },
  {
   "cell_type": "code",
   "execution_count": 75,
   "metadata": {
    "collapsed": false
   },
   "outputs": [
    {
     "name": "stdout",
     "output_type": "stream",
     "text": [
      "(485,) (451742,)\n",
      "27.6519601345\n"
     ]
    }
   ],
   "source": [
    "_match_replace_clients((X[missing_clients_mask], x_features_str), (X_ym_, x_ym_features_str))"
   ]
  },
  {
   "cell_type": "code",
   "execution_count": null,
   "metadata": {
    "collapsed": true
   },
   "outputs": [],
   "source": []
  },
  {
   "cell_type": "code",
   "execution_count": null,
   "metadata": {
    "collapsed": true
   },
   "outputs": [],
   "source": []
  },
  {
   "cell_type": "code",
   "execution_count": null,
   "metadata": {
    "collapsed": true
   },
   "outputs": [],
   "source": []
  },
  {
   "cell_type": "code",
   "execution_count": 46,
   "metadata": {
    "collapsed": false
   },
   "outputs": [
    {
     "name": "stdout",
     "output_type": "stream",
     "text": [
      "0 ind_empleado\n",
      "1 pais_residencia\n",
      "2 sexo\n",
      "3 age\n",
      "4 ind_nuevo\n",
      "5 antiguedad\n",
      "6 indrel\n",
      "7 ult_fec_cli_1t\n",
      "8 indrel_1mes\n",
      "9 tiprel_1mes\n",
      "10 indresi\n",
      "11 indext\n",
      "12 conyuemp\n",
      "13 canal_entrada\n",
      "14 indfall\n",
      "15 nomprov\n",
      "16 ind_actividad_cliente\n",
      "17 renta\n",
      "18 segmento\n"
     ]
    }
   ],
   "source": [
    "for i,f in enumerate(FEATURES_NAMES):\n",
    "    print i, f"
   ]
  },
  {
   "cell_type": "code",
   "execution_count": 47,
   "metadata": {
    "collapsed": false,
    "scrolled": true
   },
   "outputs": [
    {
     "data": {
      "text/plain": [
       "array([u'pais_residencia', u'sexo', u'age', u'indrel', u'ult_fec_cli_1t',\n",
       "       u'indrel_1mes', u'nomprov'], \n",
       "      dtype='<U21')"
      ]
     },
     "execution_count": 47,
     "metadata": {},
     "output_type": "execute_result"
    }
   ],
   "source": [
    "NP_FEATURES_NAMES = np.array(FEATURES_NAMES)\n",
    "NP_FEATURES_NAMES[[1, 2, 3, 6, 7, 8, 15]]"
   ]
  },
  {
   "cell_type": "code",
   "execution_count": 48,
   "metadata": {
    "collapsed": true
   },
   "outputs": [],
   "source": [
    "NP_FEATURES_NAMES = np.array(FEATURES_NAMES)\n",
    "match_features_groups = [\n",
    "    FEATURES_NAMES,\n",
    "    NP_FEATURES_NAMES[[0, 1, 2, 3, 4, 5, 6, 7, 8, 15, 16, 17, 18]],  # [u'ind_empleado', u'pais_residencia', u'sexo', u'age',  u'ind_nuevo', u'antiguedad', u'indrel', u'ult_fec_cli_1t', u'indrel_1mes', u'nomprov', u'ind_actividad_cliente', u'renta', u'segmento']\n",
    "    NP_FEATURES_NAMES[[1, 2, 3, 4, 6, 7, 8, 15, 16, 17, 18]],  # [u'pais_residencia', u'sexo', u'age',  u'ind_nuevo', u'indrel', u'ult_fec_cli_1t', u'indrel_1mes', u'nomprov', u'ind_actividad_cliente', u'renta', u'segmento']\n",
    "    NP_FEATURES_NAMES[[1, 2, 3, 4, 6, 7, 8, 15, 16, 18]],  # [u'pais_residencia', u'sexo', u'age', u'ind_nuevo', u'indrel', uult_fec_cli_1t', u'indrel_1mes', u'nomprov', u'ind_actividad_cliente', u'segmento']\n",
    "    NP_FEATURES_NAMES[[1, 2, 3, 6, 7, 8, 15, 16, 18]],  # [u'pais_residencia', u'sexo', u'age', u'indrel', uult_fec_cli_1t', u'indrel_1mes', u'nomprov', u'ind_actividad_cliente', u'segmento']\n",
    "    NP_FEATURES_NAMES[[1, 2, 3, 6, 7, 8, 15]],  # [u'pais_residencia', u'sexo', u'age', u'indrel', u'ult_fec_cli_1t', u'indrel_1mes', u'nomprov']\n",
    "    ## Last try\n",
    "    NP_FEATURES_NAMES[[1, 2, 3, 6, 15]],  # [u'pais_residencia', u'sexo', u'age', u'indrel', u'nomprov', u'segmento']\n",
    "    NP_FEATURES_NAMES[[1, 2, 3, 15]],  # [u'pais_residencia', u'sexo', u'age', u'nomprov', u'segmento']\n",
    "]"
   ]
  },
  {
   "cell_type": "code",
   "execution_count": 60,
   "metadata": {
    "collapsed": false,
    "scrolled": true
   },
   "outputs": [
    {
     "name": "stdout",
     "output_type": "stream",
     "text": [
      "- Compute missing clients : \n",
      "(10039,) (4961,)\n",
      "- Feature group :  [u'ind_empleado', u'pais_residencia', u'sexo', u'age', u'ind_nuevo', u'antiguedad', u'indrel', u'ult_fec_cli_1t', u'indrel_1mes', u'tiprel_1mes', u'indresi', u'indext', u'conyuemp', u'canal_entrada', u'indfall', u'nomprov', u'ind_actividad_cliente', u'renta', u'segmento']\n",
      "- Match and replace\n",
      "(4961,) (451742,)\n"
     ]
    },
    {
     "ename": "KeyboardInterrupt",
     "evalue": "",
     "output_type": "error",
     "traceback": [
      "\u001b[0;31m\u001b[0m",
      "\u001b[0;31mKeyboardInterrupt\u001b[0mTraceback (most recent call last)",
      "\u001b[0;32m<ipython-input-60-8cd873f184ae>\u001b[0m in \u001b[0;36m<module>\u001b[0;34m()\u001b[0m\n\u001b[1;32m     14\u001b[0m     \u001b[0mx_ym_features_str\u001b[0m \u001b[0;34m=\u001b[0m \u001b[0mX_ym_\u001b[0m\u001b[0;34m[\u001b[0m\u001b[0mfg\u001b[0m\u001b[0;34m]\u001b[0m\u001b[0;34m.\u001b[0m\u001b[0mapply\u001b[0m\u001b[0;34m(\u001b[0m\u001b[0mfeatures_to_str\u001b[0m\u001b[0;34m,\u001b[0m \u001b[0maxis\u001b[0m\u001b[0;34m=\u001b[0m\u001b[0;36m1\u001b[0m\u001b[0;34m)\u001b[0m\u001b[0;34m\u001b[0m\u001b[0m\n\u001b[1;32m     15\u001b[0m     \u001b[0;32mprint\u001b[0m \u001b[0;34m\"- Match and replace\"\u001b[0m\u001b[0;34m\u001b[0m\u001b[0m\n\u001b[0;32m---> 16\u001b[0;31m     \u001b[0mmatch_replace_clients\u001b[0m\u001b[0;34m(\u001b[0m\u001b[0;34m(\u001b[0m\u001b[0mX\u001b[0m\u001b[0;34m[\u001b[0m\u001b[0mmissing_clients_mask\u001b[0m\u001b[0;34m]\u001b[0m\u001b[0;34m,\u001b[0m \u001b[0mx_features_str\u001b[0m\u001b[0;34m)\u001b[0m\u001b[0;34m,\u001b[0m \u001b[0;34m(\u001b[0m\u001b[0mX_ym_\u001b[0m\u001b[0;34m,\u001b[0m \u001b[0mx_ym_features_str\u001b[0m\u001b[0;34m)\u001b[0m\u001b[0;34m)\u001b[0m\u001b[0;34m\u001b[0m\u001b[0m\n\u001b[0m\u001b[1;32m     17\u001b[0m \u001b[0;34m\u001b[0m\u001b[0m\n\u001b[1;32m     18\u001b[0m     \u001b[0;32mprint\u001b[0m \u001b[0mX_ym_\u001b[0m\u001b[0;34m[\u001b[0m\u001b[0;34m'ncodpers'\u001b[0m\u001b[0;34m]\u001b[0m\u001b[0;34m.\u001b[0m\u001b[0misin\u001b[0m\u001b[0;34m(\u001b[0m\u001b[0mmissing_clients\u001b[0m\u001b[0;34m)\u001b[0m\u001b[0;34m.\u001b[0m\u001b[0msum\u001b[0m\u001b[0;34m(\u001b[0m\u001b[0;34m)\u001b[0m\u001b[0;34m,\u001b[0m \u001b[0mX\u001b[0m\u001b[0;34m[\u001b[0m\u001b[0;34m'ncodpers'\u001b[0m\u001b[0;34m]\u001b[0m\u001b[0;34m.\u001b[0m\u001b[0misin\u001b[0m\u001b[0;34m(\u001b[0m\u001b[0mmissing_clients\u001b[0m\u001b[0;34m)\u001b[0m\u001b[0;34m.\u001b[0m\u001b[0msum\u001b[0m\u001b[0;34m(\u001b[0m\u001b[0;34m)\u001b[0m\u001b[0;34m\u001b[0m\u001b[0m\n",
      "\u001b[0;32m<ipython-input-59-ac3cd1c5881d>\u001b[0m in \u001b[0;36mmatch_replace_clients\u001b[0;34m(ref_data, out_data)\u001b[0m\n\u001b[1;32m     14\u001b[0m     \u001b[0mtic\u001b[0m \u001b[0;34m=\u001b[0m \u001b[0mtime\u001b[0m\u001b[0;34m(\u001b[0m\u001b[0;34m)\u001b[0m\u001b[0;34m\u001b[0m\u001b[0m\n\u001b[1;32m     15\u001b[0m     \u001b[0;32mfor\u001b[0m \u001b[0mindex\u001b[0m \u001b[0;32min\u001b[0m \u001b[0m_X_sorted\u001b[0m\u001b[0;34m.\u001b[0m\u001b[0mindex\u001b[0m\u001b[0;34m:\u001b[0m\u001b[0;34m\u001b[0m\u001b[0m\n\u001b[0;32m---> 16\u001b[0;31m         \u001b[0mm\u001b[0m \u001b[0;34m=\u001b[0m \u001b[0m_X_ym_sorted\u001b[0m\u001b[0;34m.\u001b[0m\u001b[0meq\u001b[0m\u001b[0;34m(\u001b[0m\u001b[0m_X_sorted\u001b[0m\u001b[0;34m[\u001b[0m\u001b[0mindex\u001b[0m\u001b[0;34m]\u001b[0m\u001b[0;34m)\u001b[0m\u001b[0;34m\u001b[0m\u001b[0m\n\u001b[0m\u001b[1;32m     17\u001b[0m         \u001b[0;32mif\u001b[0m \u001b[0mm\u001b[0m\u001b[0;34m.\u001b[0m\u001b[0many\u001b[0m\u001b[0;34m(\u001b[0m\u001b[0;34m)\u001b[0m\u001b[0;34m:\u001b[0m\u001b[0;34m\u001b[0m\u001b[0m\n\u001b[1;32m     18\u001b[0m             \u001b[0m_X_ym_sorted_m\u001b[0m \u001b[0;34m=\u001b[0m \u001b[0m_X_ym_sorted\u001b[0m\u001b[0;34m[\u001b[0m\u001b[0mm\u001b[0m\u001b[0;34m]\u001b[0m\u001b[0;34m\u001b[0m\u001b[0m\n",
      "\u001b[0;32m/home/osboxes/Documents/TDS/venv/local/lib/python2.7/site-packages/pandas/core/ops.pyc\u001b[0m in \u001b[0;36mflex_wrapper\u001b[0;34m(self, other, level, fill_value, axis)\u001b[0m\n\u001b[1;32m   1053\u001b[0m                 \u001b[0mself\u001b[0m \u001b[0;34m=\u001b[0m \u001b[0mself\u001b[0m\u001b[0;34m.\u001b[0m\u001b[0mfillna\u001b[0m\u001b[0;34m(\u001b[0m\u001b[0mfill_value\u001b[0m\u001b[0;34m)\u001b[0m\u001b[0;34m\u001b[0m\u001b[0m\n\u001b[1;32m   1054\u001b[0m \u001b[0;34m\u001b[0m\u001b[0m\n\u001b[0;32m-> 1055\u001b[0;31m             return self._constructor(op(self, other),\n\u001b[0m\u001b[1;32m   1056\u001b[0m                                      self.index).__finalize__(self)\n\u001b[1;32m   1057\u001b[0m \u001b[0;34m\u001b[0m\u001b[0m\n",
      "\u001b[0;32m/home/osboxes/Documents/TDS/venv/local/lib/python2.7/site-packages/pandas/core/ops.pyc\u001b[0m in \u001b[0;36mwrapper\u001b[0;34m(self, other, axis)\u001b[0m\n\u001b[1;32m    853\u001b[0m \u001b[0;34m\u001b[0m\u001b[0m\n\u001b[1;32m    854\u001b[0m             \u001b[0;32mwith\u001b[0m \u001b[0mnp\u001b[0m\u001b[0;34m.\u001b[0m\u001b[0merrstate\u001b[0m\u001b[0;34m(\u001b[0m\u001b[0mall\u001b[0m\u001b[0;34m=\u001b[0m\u001b[0;34m'ignore'\u001b[0m\u001b[0;34m)\u001b[0m\u001b[0;34m:\u001b[0m\u001b[0;34m\u001b[0m\u001b[0m\n\u001b[0;32m--> 855\u001b[0;31m                 \u001b[0mres\u001b[0m \u001b[0;34m=\u001b[0m \u001b[0mna_op\u001b[0m\u001b[0;34m(\u001b[0m\u001b[0mvalues\u001b[0m\u001b[0;34m,\u001b[0m \u001b[0mother\u001b[0m\u001b[0;34m)\u001b[0m\u001b[0;34m\u001b[0m\u001b[0m\n\u001b[0m\u001b[1;32m    856\u001b[0m             \u001b[0;32mif\u001b[0m \u001b[0misscalar\u001b[0m\u001b[0;34m(\u001b[0m\u001b[0mres\u001b[0m\u001b[0;34m)\u001b[0m\u001b[0;34m:\u001b[0m\u001b[0;34m\u001b[0m\u001b[0m\n\u001b[1;32m    857\u001b[0m                 raise TypeError('Could not compare %s type with Series' %\n",
      "\u001b[0;32m/home/osboxes/Documents/TDS/venv/local/lib/python2.7/site-packages/pandas/core/ops.pyc\u001b[0m in \u001b[0;36mna_op\u001b[0;34m(x, y)\u001b[0m\n\u001b[1;32m    757\u001b[0m \u001b[0;34m\u001b[0m\u001b[0m\n\u001b[1;32m    758\u001b[0m         \u001b[0;32mif\u001b[0m \u001b[0mis_object_dtype\u001b[0m\u001b[0;34m(\u001b[0m\u001b[0mx\u001b[0m\u001b[0;34m.\u001b[0m\u001b[0mdtype\u001b[0m\u001b[0;34m)\u001b[0m\u001b[0;34m:\u001b[0m\u001b[0;34m\u001b[0m\u001b[0m\n\u001b[0;32m--> 759\u001b[0;31m             \u001b[0mresult\u001b[0m \u001b[0;34m=\u001b[0m \u001b[0m_comp_method_OBJECT_ARRAY\u001b[0m\u001b[0;34m(\u001b[0m\u001b[0mop\u001b[0m\u001b[0;34m,\u001b[0m \u001b[0mx\u001b[0m\u001b[0;34m,\u001b[0m \u001b[0my\u001b[0m\u001b[0;34m)\u001b[0m\u001b[0;34m\u001b[0m\u001b[0m\n\u001b[0m\u001b[1;32m    760\u001b[0m         \u001b[0;32melse\u001b[0m\u001b[0;34m:\u001b[0m\u001b[0;34m\u001b[0m\u001b[0m\n\u001b[1;32m    761\u001b[0m \u001b[0;34m\u001b[0m\u001b[0m\n",
      "\u001b[0;32m/home/osboxes/Documents/TDS/venv/local/lib/python2.7/site-packages/pandas/core/ops.pyc\u001b[0m in \u001b[0;36m_comp_method_OBJECT_ARRAY\u001b[0;34m(op, x, y)\u001b[0m\n\u001b[1;32m    737\u001b[0m         \u001b[0mresult\u001b[0m \u001b[0;34m=\u001b[0m \u001b[0mlib\u001b[0m\u001b[0;34m.\u001b[0m\u001b[0mvec_compare\u001b[0m\u001b[0;34m(\u001b[0m\u001b[0mx\u001b[0m\u001b[0;34m,\u001b[0m \u001b[0my\u001b[0m\u001b[0;34m,\u001b[0m \u001b[0mop\u001b[0m\u001b[0;34m)\u001b[0m\u001b[0;34m\u001b[0m\u001b[0m\n\u001b[1;32m    738\u001b[0m     \u001b[0;32melse\u001b[0m\u001b[0;34m:\u001b[0m\u001b[0;34m\u001b[0m\u001b[0m\n\u001b[0;32m--> 739\u001b[0;31m         \u001b[0mresult\u001b[0m \u001b[0;34m=\u001b[0m \u001b[0mlib\u001b[0m\u001b[0;34m.\u001b[0m\u001b[0mscalar_compare\u001b[0m\u001b[0;34m(\u001b[0m\u001b[0mx\u001b[0m\u001b[0;34m,\u001b[0m \u001b[0my\u001b[0m\u001b[0;34m,\u001b[0m \u001b[0mop\u001b[0m\u001b[0;34m)\u001b[0m\u001b[0;34m\u001b[0m\u001b[0m\n\u001b[0m\u001b[1;32m    740\u001b[0m     \u001b[0;32mreturn\u001b[0m \u001b[0mresult\u001b[0m\u001b[0;34m\u001b[0m\u001b[0m\n\u001b[1;32m    741\u001b[0m \u001b[0;34m\u001b[0m\u001b[0m\n",
      "\u001b[0;31mKeyboardInterrupt\u001b[0m: "
     ]
    }
   ],
   "source": [
    "logging.getLogger().setLevel(logging.INFO)\n",
    "\n",
    "X_ym_ = X_ym.copy()\n",
    "\n",
    "for fg in match_features_groups:\n",
    "    print \"- Compute missing clients : \"\n",
    "    clients = X_ym_['ncodpers'].unique()\n",
    "    common_clients = np.array(list(set(ref_clients) & set(clients)))\n",
    "    missing_clients = np.array(list(set(ref_clients) - set(clients)))\n",
    "    print common_clients.shape, missing_clients.shape\n",
    "    print \"- Feature group : \", fg\n",
    "    missing_clients_mask = X['ncodpers'].isin(missing_clients)\n",
    "    x_features_str = X[missing_clients_mask][fg].apply(features_to_str, axis=1)\n",
    "    x_ym_features_str = X_ym_[fg].apply(features_to_str, axis=1)\n",
    "    print \"- Match and replace\"\n",
    "    match_replace_clients((X[missing_clients_mask], x_features_str), (X_ym_, x_ym_features_str))\n",
    "    \n",
    "    print X_ym_['ncodpers'].isin(missing_clients).sum(), X['ncodpers'].isin(missing_clients).sum()\n",
    "    if X_ym_['ncodpers'].isin(missing_clients).sum() == X['ncodpers'].isin(missing_clients).sum():\n",
    "        break\n",
    "        \n",
    "\n",
    "print \"Compute missing clients : \"\n",
    "clients = X_ym_['ncodpers'].unique()\n",
    "common_clients = np.array(list(set(ref_clients) & set(clients)))\n",
    "missing_clients = np.array(list(set(ref_clients) - set(clients)))\n",
    "print common_clients.shape, missing_clients.shape\n",
    "        \n",
    "# logging.getLogger().setLevel(logging.INFO)"
   ]
  },
  {
   "cell_type": "code",
   "execution_count": null,
   "metadata": {
    "collapsed": true
   },
   "outputs": [],
   "source": [
    "# If remains missing clients, setup them with zero targets \n",
    "if missing_clients.shape[0] > 0:\n",
    "    pass\n",
    "    "
   ]
  },
  {
   "cell_type": "code",
   "execution_count": null,
   "metadata": {
    "collapsed": true
   },
   "outputs": [],
   "source": [
    "print \"Compute missing clients : \"\n",
    "clients = X_ym_['ncodpers'].unique()\n",
    "common_clients = np.array(list(set(ref_clients) & set(clients)))\n",
    "missing_clients = np.array(list(set(ref_clients) - set(clients)))\n",
    "print common_clients.shape, missing_clients.shape"
   ]
  },
  {
   "cell_type": "code",
   "execution_count": null,
   "metadata": {
    "collapsed": true
   },
   "outputs": [],
   "source": []
  },
  {
   "cell_type": "code",
   "execution_count": null,
   "metadata": {
    "collapsed": true
   },
   "outputs": [],
   "source": []
  },
  {
   "cell_type": "code",
   "execution_count": null,
   "metadata": {
    "collapsed": true
   },
   "outputs": [],
   "source": []
  },
  {
   "cell_type": "markdown",
   "metadata": {},
   "source": [
    "Display loaded data"
   ]
  },
  {
   "cell_type": "code",
   "execution_count": null,
   "metadata": {
    "collapsed": false
   },
   "outputs": [],
   "source": [
    "# train_df[['fecha_dato', 'ncodpers'] + TARGET_LABELS_FRQ.tolist()].head(10)"
   ]
  },
  {
   "cell_type": "markdown",
   "metadata": {},
   "source": [
    "Useful structures"
   ]
  },
  {
   "cell_type": "code",
   "execution_count": null,
   "metadata": {
    "collapsed": true
   },
   "outputs": [],
   "source": [
    "def get_common_clients(df1, mask1, mask2, df2=None):\n",
    "    active_clients1 = df1[mask1]['ncodpers'].unique()\n",
    "    if df2 is not None:\n",
    "        active_clients2 = df2[mask2]['ncodpers'].unique()\n",
    "    else:\n",
    "        active_clients2 = df1[mask2]['ncodpers'].unique()\n",
    "    active_clients = list(set(active_clients1) & set(active_clients2)) \n",
    "    \n",
    "    if df2 is not None:\n",
    "        return df1['ncodpers'].isin(active_clients), df2['ncodpers'].isin(active_clients)\n",
    "    return df1['ncodpers'].isin(active_clients)"
   ]
  },
  {
   "cell_type": "code",
   "execution_count": null,
   "metadata": {
    "collapsed": false
   },
   "outputs": [],
   "source": [
    "months_ym_map = {}\n",
    "# months = list(set(train_df['fecha_dato'].unique()) | set(val_df['fecha_dato'].unique()))\n",
    "months = train_df['fecha_dato'].unique()\n",
    "for m in months:\n",
    "    months_ym_map[to_yearmonth(m)] = m\n",
    "\n",
    "        \n",
    "train_months = train_df['fecha_dato'].unique()\n",
    "# val_months = val_df['fecha_dato'].unique()\n",
    "    "
   ]
  },
  {
   "cell_type": "markdown",
   "metadata": {},
   "source": [
    "### Train a model"
   ]
  },
  {
   "cell_type": "code",
   "execution_count": null,
   "metadata": {
    "collapsed": false
   },
   "outputs": [],
   "source": [
    "from utils import get_added_products, remove_last_choice, apk, map7_score\n",
    "from visualization import visualize_train_test, visualize_folds, compare_two_datasets, compare_folds, compare_folds2"
   ]
  },
  {
   "cell_type": "code",
   "execution_count": null,
   "metadata": {
    "collapsed": true
   },
   "outputs": [],
   "source": [
    "target_features = ['targets_diff', 'targets_logdiff', 'targets_logcount2_diff', 'targets_logcount2', 'targets_logcount1', 'targets_logDec']\n",
    "TARGET_LABELS_FRQ_PREV = [c + '_prev' for c in TARGET_LABELS_FRQ]"
   ]
  },
  {
   "cell_type": "code",
   "execution_count": null,
   "metadata": {
    "collapsed": false
   },
   "outputs": [],
   "source": [
    "def get_XY(current_month, df1, next_year_month, df2, months_ym_map):\n",
    "    month_mask = df1['fecha_dato'] == months_ym_map[current_month]\n",
    "    next_year_month_mask = df2['fecha_dato'] == months_ym_map[next_year_month]\n",
    "    next_year_prev_month_mask = df2['fecha_dato'] == months_ym_map[next_year_month - 1]\n",
    "    \n",
    "    # get common clients from df1 at this month and df2 at next year month\n",
    "    common_clients_mask1, common_clients_mask2 = get_common_clients(df1, month_mask, next_year_month_mask, df2)\n",
    "    common_clients_mask2, common_clients_mask3 = get_common_clients(df2, common_clients_mask2 & next_year_month_mask, next_year_prev_month_mask, df2)\n",
    "        \n",
    "    c1 = df1[common_clients_mask1 & month_mask]['ncodpers'].values\n",
    "    c2 = df2[common_clients_mask2 & next_year_month_mask]['ncodpers'].values\n",
    "    c3 = df2[common_clients_mask3 & next_year_prev_month_mask]['ncodpers'].values\n",
    "    assert (c1 == c2).all() and (c2 == c3).all(), \"Problem with common clients\" \n",
    "    \n",
    "    X = df1[common_clients_mask1 & month_mask][['ncodpers', 'fecha_dato'] + target_features + features + TARGET_LABELS_FRQ.tolist()]            \n",
    "   \n",
    "    if TARGET_LABELS[0] in df2.columns and TARGET_LABELS_DIFF[0] in df2.columns and not df2[next_year_month_mask][TARGET_LABELS].isnull().all().all():\n",
    "        Y = df2[common_clients_mask2 & next_year_month_mask][['ncodpers', 'fecha_dato', 'targets_str', 'lc_targets_str', 'targets_diff'] + TARGET_LABELS + TARGET_LABELS_DIFF.tolist()]    \n",
    "        assert (X['ncodpers'].values == Y['ncodpers'].values).all(), \"There is a problem in alignment\"\n",
    "        Y.index = X.index                \n",
    "    else:\n",
    "        Y = None\n",
    "        \n",
    "    if TARGET_LABELS_FRQ[0] in df2.columns and not df2[next_year_prev_month_mask][TARGET_LABELS].isnull().all().all():\n",
    "        # Add TARGET_LABELS_FRQ from previous month to X:\n",
    "        target_labels_frq = df2[common_clients_mask3 & next_year_prev_month_mask][['ncodpers'] + TARGET_LABELS_FRQ.tolist()]\n",
    "        assert (X['ncodpers'].values == target_labels_frq['ncodpers'].values).all(), \"There is a problem in alignment\"\n",
    "        target_labels_frq = target_labels_frq[TARGET_LABELS_FRQ]\n",
    "        target_labels_frq.columns = TARGET_LABELS_FRQ_PREV\n",
    "        target_labels_frq.index = X.index\n",
    "        X = pd.concat([X, target_labels_frq], axis=1)        \n",
    "\n",
    "    \n",
    "    if LC_TARGET_LABELS[0] in df2.columns:\n",
    "        clients_last_choice = df2[common_clients_mask2 & next_year_month_mask][['ncodpers', 'fecha_dato', 'targets_str'] + LC_TARGET_LABELS.tolist()]\n",
    "    else:\n",
    "        clients_last_choice = None\n",
    "        \n",
    "    return X, Y, clients_last_choice\n"
   ]
  },
  {
   "cell_type": "code",
   "execution_count": null,
   "metadata": {
    "collapsed": false
   },
   "outputs": [],
   "source": [
    "current_month = 201505\n",
    "next_year_month = current_month + 100\n",
    "\n",
    "df1 = train_df if months_ym_map[current_month] in train_months else val_df\n",
    "#df1 = train_df\n",
    "df2 = train_df if months_ym_map[next_year_month] in train_months else val_df\n",
    "#df2 = train_df\n",
    "\n",
    "X, Y, clients_last_choice = get_XY(current_month, df1, next_year_month, df2, months_ym_map)"
   ]
  },
  {
   "cell_type": "code",
   "execution_count": null,
   "metadata": {
    "collapsed": true
   },
   "outputs": [],
   "source": [
    "assert (X['ncodpers'].values == Y['ncodpers'].values).all(), \"WTF\"\n",
    "assert (X['ncodpers'].values == clients_last_choice['ncodpers'].values).all(), \"WTF\""
   ]
  },
  {
   "cell_type": "code",
   "execution_count": null,
   "metadata": {
    "collapsed": false
   },
   "outputs": [],
   "source": [
    "print X.shape\n",
    "X.head(10)"
   ]
  },
  {
   "cell_type": "code",
   "execution_count": null,
   "metadata": {
    "collapsed": false,
    "scrolled": true
   },
   "outputs": [],
   "source": [
    "print Y.shape\n",
    "Y[Y['targets_diff'] > 0][['fecha_dato', 'ncodpers', 'targets_str', 'lc_targets_str'] + TARGET_LABELS_DIFF.tolist() ].head(10)"
   ]
  },
  {
   "cell_type": "code",
   "execution_count": null,
   "metadata": {
    "collapsed": false
   },
   "outputs": [],
   "source": [
    "print clients_last_choice.shape\n",
    "clients_last_choice.head(10)"
   ]
  },
  {
   "cell_type": "markdown",
   "metadata": {},
   "source": [
    "## Another train/predict + CV implementation\n",
    "\n",
    "### Input\n",
    "\n",
    "- `X` : `[nb_samples, nb_features]` shaped pd.DataFrame\n",
    "    - `features_masks_list` : `{fm1_name: features_mask_1, fm2_name: features_mask_2, ...]` with `features_mask_i` is a list of feature column names. They can oversect.\n",
    "    \n",
    "- `Y` : `[nb_samples, nb_labels]` shaped pd.DataFrame\n",
    "    - `labels_masks_list` : `{lm1_name: labels_mask_1, lm2_name: labels_mask_2, ...}` with `labels_mask_i` is a list of labels column names. They can oversect.\n",
    "\n",
    "- `samples_masks_list` : `[samples_mask_1, samples_mask_2, ...]` with samples_mask_i is a function to produce a boolean pd.DataFrame . Used only for training. \n",
    "\n",
    "\n",
    "- Set of models `models` : list of functions to create a model, e.g. `[create_RF, create_NN, create_GBT]`\n",
    "\n",
    "\n",
    "### Training phase\n",
    "\n",
    "\n"
   ]
  },
  {
   "cell_type": "code",
   "execution_count": null,
   "metadata": {
    "collapsed": true
   },
   "outputs": [],
   "source": [
    "from collections import defaultdict\n",
    "from sklearn.ensemble import RandomForestClassifier, GradientBoostingClassifier, ExtraTreesClassifier"
   ]
  },
  {
   "cell_type": "code",
   "execution_count": null,
   "metadata": {
    "collapsed": false
   },
   "outputs": [],
   "source": [
    "from keras.models import Sequential\n",
    "from keras.layers import Dense, Dropout, Merge\n",
    "from keras.utils import np_utils\n",
    "\n",
    "from keras.wrappers.scikit_learn import KerasClassifier"
   ]
  },
  {
   "cell_type": "code",
   "execution_count": null,
   "metadata": {
    "collapsed": false
   },
   "outputs": [],
   "source": [
    "mask = Y['targets_diff'] > 0\n",
    "targets_index_counts = np.zeros((len(TARGET_LABELS)))\n",
    "for i, c in enumerate(TARGET_LABELS):\n",
    "    s = (Y[mask][c] > 0).sum()\n",
    "    targets_index_counts[i] = s\n",
    "\n",
    "targets_index_counts = pd.Series(targets_index_counts)\n",
    "targets_index_counts.plot.bar()"
   ]
  },
  {
   "cell_type": "code",
   "execution_count": null,
   "metadata": {
    "collapsed": false
   },
   "outputs": [],
   "source": [
    "samples_masks_list = [\n",
    "#     lambda x, y:  ~(x['targets_diff'].isin([0])) | ~(y['targets_diff'].isin([0])), \n",
    "#     lambda x, y:  (x['targets_diff'] > 0) | (y['targets_diff'] > 0), \n",
    "    lambda x, y:  (y['targets_diff'] > 0), \n",
    "]\n",
    "\n",
    "features_masks_dict = {\n",
    "    'fm_all': features + target_features + TARGET_LABELS_FRQ.tolist() + TARGET_LABELS_FRQ_PREV,\n",
    "#     'fm0': features + TARGET_LABELS_FRQ.tolist(),\n",
    "#     'fm1': ['pais_residencia', 'sexo', 'age', 'ind_nuevo', 'segmento', 'ind_empleado', 'ind_actividad_cliente', 'indresi'],\n",
    "#     'fm1': TARGET_LABELS_FRQ_PREV,\n",
    "#     'fm2': target_features,\n",
    "#     'fm3': ['pais_residencia', 'sexo', 'age', 'segmento', 'renta'],\n",
    "#     'fm4': ['pais_residencia', 'sexo', 'age', 'renta', 'targets_logdiff', 'targets_logcount2_diff','targets_logcount2','targets_logcount1'],\n",
    "#     'fm5': ['nomprov', 'ind_nuevo', 'renta', 'ind_actividad_cliente', 'canal_entrada'],\n",
    "#     'fm6': TARGET_LABELS_FRQ,\n",
    "}"
   ]
  },
  {
   "cell_type": "code",
   "execution_count": null,
   "metadata": {
    "collapsed": false
   },
   "outputs": [],
   "source": [
    "# https://www.analyticsvidhya.com/blog/2016/02/complete-guide-parameter-tuning-gradient-boosting-gbm-python/\n",
    "\n",
    "def create_RF(input_shape, output_shape):        \n",
    "    # https://www.analyticsvidhya.com/blog/2015/06/tuning-random-forest-model/\n",
    "    return RandomForestClassifier(n_estimators=100, \n",
    "#                                   min_samples_split=100,\n",
    "#                                   min_samples_leaf=25,\n",
    "#                                   max_depth=10\n",
    "                                  max_features=1.0, \n",
    "#                                   oob_score=True,\n",
    "#                                   bootstrap=True,\n",
    "                                  n_jobs=-1\n",
    "                                 )\n",
    "\n",
    "def create_ET(input_shape, output_shape):\n",
    "    return ExtraTreesClassifier(n_estimators=100,\n",
    "#                                   min_samples_leaf=25,\n",
    "#                                   max_depth=10\n",
    "                                  max_features=1.0, \n",
    "                                  oob_score=True,\n",
    "                                  bootstrap=True,\n",
    "                                  n_jobs=-1\n",
    "\n",
    "                               )\n",
    "\n",
    "def create_GB(input_shape, output_shape):\n",
    "    return GradientBoostingClassifier(n_estimators=75)\n",
    "\n",
    "\n",
    "def create_NN0(input_shape, output_shape):\n",
    "        \n",
    "    assert len(input_shape) == 2, \"Input shape should be 2D\"\n",
    "    assert len(output_shape) == 2, \"Input shape should be 2D\"\n",
    "    n_features = input_shape[1]\n",
    "    output_dim = output_shape[1]\n",
    "    \n",
    "    def create_model(input_dim=n_features, output_dim=output_dim):\n",
    "        model = Sequential()\n",
    "        model.add(Dense(30, init='uniform', input_shape=(input_dim,), activation='relu'))\n",
    "        model.add(Dropout(0.15))\n",
    "#         model.add(Dense(output_dim, activation='sigmoid'))\n",
    "        model.add(Dense(output_dim, activation='softmax'))\n",
    "#         model.compile(loss='categorical_crossentropy', optimizer='nadam', metrics=['accuracy'])\n",
    "        model.compile(loss='binary_crossentropy', optimizer='nadam', metrics=['accuracy'])\n",
    "        return model\n",
    "\n",
    "    return KerasClassifier(build_fn=create_model, nb_epoch=200, batch_size=2000, verbose=0)\n",
    "    \n",
    "\n",
    "models_dict = {\n",
    "    'rf': create_RF,\n",
    "    'et': create_ET,\n",
    "    'gb': create_GB,\n",
    "#     'nn0': create_NN0\n",
    "}"
   ]
  },
  {
   "cell_type": "code",
   "execution_count": null,
   "metadata": {
    "collapsed": false
   },
   "outputs": [],
   "source": [
    "print mask.sum()\n",
    "print targets_index_counts[targets_index_counts > 100].index"
   ]
  },
  {
   "cell_type": "code",
   "execution_count": null,
   "metadata": {
    "collapsed": false,
    "scrolled": true
   },
   "outputs": [],
   "source": [
    "NP_TARGET_LABELS = np.array(TARGET_LABELS)\n",
    "target_labels = NP_TARGET_LABELS\n",
    "\n",
    "common_groups = [\n",
    "    [2, 4, 7, 8, 11, 12, 13, 15, 17, 18, 19, 21, 22, 23],\n",
    "#     [2, 4],    \n",
    "#     [2, 6, 7, 8],\n",
    "#     [2, 18, 23, 12], \n",
    "#     [21, 22],\n",
    "#     [2, 12, 18],\n",
    "#     [2, 12, 23],\n",
    "#     [2, 18, 23],\n",
    "#     [18, 23, 21, 22],\n",
    "#     [21, 23, 22, 4],\n",
    "#     [3, 4], \n",
    "#     [22, 7, 8, 23],\n",
    "#     [0, 1, 14, 15, 17]\n",
    "]\n",
    "\n",
    "common_groups += [[i] for i in [2, 4, 7, 8, 11, 12, 13, 15, 17, 18, 19, 21, 22, 23]]\n",
    "\n",
    "\n",
    "\n",
    "def flatten(array):\n",
    "    out = []\n",
    "    for item in array:\n",
    "        out += item\n",
    "    return out\n",
    "\n",
    "others = list(set(range(24)) - set(flatten(common_groups)))\n",
    "\n",
    "# for i, a in enumerate(zip(TARGET_LABELS2, TARGET_LABELS)):\n",
    "#     print i, a\n",
    "    \n",
    "s = set({})\n",
    "labels_masks_dict = {}\n",
    "for i, g in enumerate(common_groups):\n",
    "    print 'lm_%i' % i, \" <=> \", g, \"<==>\", TARGET_LABELS2[g]\n",
    "    labels_masks_dict['lm_%i' % i] = target_labels[g]\n",
    "    s |= set(g)\n",
    "    \n",
    "# print 'lm_others', \"<=>\", others, \"<==>\", TARGET_LABELS2[others]\n",
    "# labels_masks_dict['lm_others'] = target_labels[others]\n",
    "# s |= set(others)\n",
    "\n",
    "# assert len(s) == len(target_labels), \"Sum is not equal 24, s=%i\" % s\n",
    "print labels_masks_dict"
   ]
  },
  {
   "cell_type": "code",
   "execution_count": null,
   "metadata": {
    "collapsed": false,
    "scrolled": true
   },
   "outputs": [],
   "source": [
    "# {model_name: [(samples_mask_code, features_mask_name, labels_mask_name), ...]}\n",
    "models_pipelines = {\n",
    "    'gb' : [(None, None, key) for key in labels_masks_dict if len(labels_masks_dict[key]) == 1],    \n",
    "    'rf' : [(None, None, key) for key in labels_masks_dict if len(labels_masks_dict[key]) > 1],\n",
    "    'et' : [(None, None, key) for key in labels_masks_dict if len(labels_masks_dict[key]) > 1],\n",
    "}\n",
    "models_pipelines"
   ]
  },
  {
   "cell_type": "code",
   "execution_count": null,
   "metadata": {
    "collapsed": false
   },
   "outputs": [],
   "source": [
    "from trainval import train_all, predict_all, probas_to_indices, score_estimators\n",
    "from utils import map7_score0"
   ]
  },
  {
   "cell_type": "code",
   "execution_count": null,
   "metadata": {
    "collapsed": false
   },
   "outputs": [],
   "source": [
    "ll = 140000\n",
    "# ll = 1100\n",
    "\n",
    "mask = (X.index.isin((X.index[:ll//3]))) | (X.index.isin((X.index[2*ll//3:])))\n",
    "\n",
    "X1 = X[mask]\n",
    "Y1 = Y[mask]\n",
    "clc1 = clients_last_choice[mask]\n",
    "print X1.shape, Y1.shape, clc1.shape\n",
    "\n",
    "mask = X.index.isin(X.index[ll//3:2*ll//3])\n",
    "X2 = X[mask]\n",
    "Y2 = Y[mask]\n",
    "clc2 = clients_last_choice[mask]\n",
    "print X2.shape, Y2.shape, clc2.shape"
   ]
  },
  {
   "cell_type": "code",
   "execution_count": null,
   "metadata": {
    "collapsed": false
   },
   "outputs": [],
   "source": [
    "# res = Y1[labels_masks_dict['lm_0']].apply(dummies_to_decimal, axis=1)\n",
    "# res = pd.get_dummies(res)\n",
    "# res.head()"
   ]
  },
  {
   "cell_type": "code",
   "execution_count": null,
   "metadata": {
    "collapsed": false
   },
   "outputs": [],
   "source": [
    "from utils import dummies_to_decimal\n",
    "from sklearn.preprocessing import StandardScaler\n",
    "\n",
    "\n",
    "def prepare_to_fit(X_train, Y_train):    \n",
    "    x_train = X_train.values\n",
    "    x_train = StandardScaler().fit_transform(x_train)\n",
    "    y_train = Y_train.apply(dummies_to_decimal, axis=1)\n",
    "    y_train = pd.get_dummies(y_train)\n",
    "    y_train = y_train.values    \n",
    "    return x_train, y_train\n",
    "\n",
    "\n",
    "def prepare_to_test(X_val, Y_val=None):\n",
    "    x_val = X_val.values\n",
    "    x_val = StandardScaler().fit_transform(x_val)\n",
    "    if Y_val is not None:\n",
    "        y_val = Y_val.apply(dummies_to_decimal, axis=1)\n",
    "        y_val = pd.get_dummies(y_val)\n",
    "        y_val = y_val.values \n",
    "    else:\n",
    "        y_val = None\n",
    "    return x_val, y_val\n",
    "\n",
    "\n",
    "def probas_to_labels_probas(y_probas, class_indices, labels):\n",
    "    l = len(labels)\n",
    "    out = np.zeros((len(y_probas), l))\n",
    "    i = 0\n",
    "    for probas in y_probas:\n",
    "        if np.sum(probas) > 0:\n",
    "            pr = np.zeros((l,))\n",
    "            for index, p in zip(class_indices, probas):\n",
    "                dummies_str = decimal_to_dummies(index, l)\n",
    "                pr += p * np.array([float(v) for v in dummies_str])\n",
    "            out[i, :] = pr    \n",
    "        i += 1\n",
    "    return out\n",
    "    "
   ]
  },
  {
   "cell_type": "code",
   "execution_count": null,
   "metadata": {
    "collapsed": false
   },
   "outputs": [],
   "source": [
    "_kwargs = {\n",
    "    'samples_masks_list': samples_masks_list, \n",
    "    'features_masks_dict': features_masks_dict, \n",
    "    'labels_masks_dict': labels_masks_dict, \n",
    "    'models_dict': models_dict,\n",
    "    'labels': target_labels,\n",
    "    'transform_proba_func': probas_to_indices,\n",
    "#     'prepare_to_fit_func': prepare_to_fit,\n",
    "#     'prepare_to_test_func': prepare_to_test,   \n",
    "#     'probas_to_labels_probas_func': probas_to_labels_probas,\n",
    "    'threshold': 0.15,\n",
    "    'n_highest': 7,\n",
    "    'mode': 'sum',\n",
    "    'verbose': True,\n",
    "    'models_pipelines': models_pipelines,\n",
    "    'return_probas': True\n",
    "}"
   ]
  },
  {
   "cell_type": "code",
   "execution_count": null,
   "metadata": {
    "collapsed": true
   },
   "outputs": [],
   "source": [
    "estimators = train_all(X1, Y1, **_kwargs)\n",
    "\n",
    "#print estimators"
   ]
  },
  {
   "cell_type": "code",
   "execution_count": null,
   "metadata": {
    "collapsed": false,
    "scrolled": true
   },
   "outputs": [],
   "source": [
    "accuracies = defaultdict(list)\n",
    "for e in estimators:\n",
    "    accuracies[e[0][2]].append(e[2])\n",
    "\n",
    "mean_accuracy = {}\n",
    "for key in accuracies:\n",
    "    accuracy_list = accuracies[key]\n",
    "    mean_accuracy[key] = sum(accuracy_list)/len(accuracy_list)\n",
    "    \n",
    "mean_accuracy"
   ]
  },
  {
   "cell_type": "code",
   "execution_count": null,
   "metadata": {
    "collapsed": true
   },
   "outputs": [],
   "source": [
    "_ = score_estimators(estimators, X2, Y2, **_kwargs)"
   ]
  },
  {
   "cell_type": "code",
   "execution_count": null,
   "metadata": {
    "collapsed": false
   },
   "outputs": [],
   "source": [
    "y_preds, Y_probas = predict_all(estimators, X2, **_kwargs)\n",
    "#print y_preds[:5]"
   ]
  },
  {
   "cell_type": "code",
   "execution_count": null,
   "metadata": {
    "collapsed": false
   },
   "outputs": [],
   "source": [
    "print y_preds[:5]\n",
    "Y_probas.head()"
   ]
  },
  {
   "cell_type": "code",
   "execution_count": null,
   "metadata": {
    "collapsed": false
   },
   "outputs": [],
   "source": [
    "#labels_masks_dict['lm_0'], common_groups[0]"
   ]
  },
  {
   "cell_type": "code",
   "execution_count": null,
   "metadata": {
    "collapsed": false,
    "scrolled": true
   },
   "outputs": [],
   "source": [
    "y_val = targets_str_to_indices(Y2[target_labels].values)\n",
    "# y_val = targets_str_to_indices(Y2[labels_masks_dict['lm_0']].values, index_map=common_groups[0])\n",
    "#print y_val[:100]\n",
    "#print y_preds[:100]"
   ]
  },
  {
   "cell_type": "code",
   "execution_count": null,
   "metadata": {
    "collapsed": false
   },
   "outputs": [],
   "source": [
    "#np.unique(y_preds)"
   ]
  },
  {
   "cell_type": "code",
   "execution_count": null,
   "metadata": {
    "collapsed": false
   },
   "outputs": [],
   "source": [
    "logging.info(\"- Compute max map7 score\")\n",
    "map7_score(y_val, y_val, clc2[LC_TARGET_LABELS].values)\n",
    "# map7_score0(y_val, y_val)\n",
    "logging.info(\"- Compute map7 score\")\n",
    "map7_score(y_val, y_preds, clc2[LC_TARGET_LABELS].values)\n",
    "# map7_score0(y_val, y_preds)"
   ]
  },
  {
   "cell_type": "markdown",
   "metadata": {},
   "source": [
    "\n",
    "On columns lm_0=['ind_cco_fin_ult1', 'ind_cder_fin_ult1', 'ind_cno_fin_ult1','ind_ctju_fin_ult1']\n",
    "\n",
    "- Feature mask: all : 'fm6', 'fm4', 'fm5', 'fm2', 'fm3', 'fm0', 'fm1'\n",
    "- threshold = 0.0\n",
    "\n",
    "Model | Map@7 | Max Map@7 | Labels mask | Samples mask\n",
    "--- | --- | --- | ---\n",
    "et | 0.007074370518592629 | 0.0075787893947 | lm_0 | all \n",
    "\n",
    "\n",
    "\n",
    "- Feature mask: fm0, fm1, fm3, fm4, fm5\n",
    "- threshold = 0.0\n",
    "\n",
    "Model | Map@7 | Max Map@7 | Labels mask | Samples mask\n",
    "--- | --- | --- | ---\n",
    "rf + et + gb | 0.006920126730031681 | 0.0075787893947 | lm_0 | all\n",
    "rf | 0.0068805235951309 | 0.0075787893947 | lm_0 | all\n",
    "et | 0.006936801734200433 | 0.0075787893947 | lm_0 | all \n",
    "gb | 0.0068805235951309 | 0.0075787893947 | lm_0 | all\n",
    "\n",
    "\n",
    "- Feature mask: fm0, fm1\n",
    "\n",
    "Model | Map@7 | Max Map@7 | Labels mask | Samples mask\n",
    "--- | --- | --- | ---\n",
    "rf + et + gb | 0.004627313656828414 | 0.0075787893947 | lm_0 | all\n",
    "rf | 0.004664832416208104 | 0.0075787893947 | lm_0 | all\n",
    "et | 0.004952476238119059 | 0.0075787893947 | lm_0 | all \n",
    "gb | 0.004489744872436218 | 0.0075787893947 | lm_0 | all\n",
    "\n",
    "- Features mask: fm0\n",
    "\n",
    "Model | Map@7 | Max Map@7 | Labels mask | Samples mask\n",
    "--- | --- | --- | --- | ---\n",
    "rf + et + gb | 0.0021010505252626313 | 0.0075787893947 | lm_0 | all\n",
    "rf + et | 0.001950975487743872 | 0.0075787893947 | lm_0 | all\n",
    "rf | 0.001550775387693847 | 0.0075787893947 | lm_0 | all\n",
    "gb | 0.0013006503251625813 | 0.0075787893947 | lm_0 | all\n",
    "et | 0.0017008504252126063 | 0.0075787893947 | lm_0 | all\n",
    "et |  0.0014007003501750874 | 0.0075787893947 | lm_0 | x>0 or y>0\n",
    "rf |  0.0008254127063531766 | 0.0075787893947 | lm_0 | .\n",
    "\n",
    "--------------------------------------\n",
    "\n",
    "0.021295269099703414 (GB on 'all')\n",
    "\n",
    "0.021271936353906683 (RF tunning)\n",
    "\n",
    "0.021668245671284416 (RF tunning)\n",
    "\n",
    "0.02136609107928888\n",
    "\n",
    "0.0211362663776694"
   ]
  },
  {
   "cell_type": "code",
   "execution_count": null,
   "metadata": {
    "collapsed": true
   },
   "outputs": [],
   "source": [
    "# print labels_masks_dict[estimators[0][0][1]]\n",
    "# print estimators[0][1].classes_\n",
    "# print estimators[0][1].n_classes_\n",
    "# print estimators[0][1].n_features_\n",
    "# print estimators[0][1].n_outputs_\n",
    "# print estimators[0][1].estimators_"
   ]
  },
  {
   "cell_type": "code",
   "execution_count": null,
   "metadata": {
    "collapsed": false
   },
   "outputs": [],
   "source": [
    "from utils import targets_to_labels, targets_indices_to_labels, remove_last_choice"
   ]
  },
  {
   "cell_type": "code",
   "execution_count": null,
   "metadata": {
    "collapsed": false,
    "scrolled": true
   },
   "outputs": [],
   "source": [
    "limit = 25\n",
    "count = 0\n",
    "\n",
    "not_predicted_predicted = defaultdict(int)\n",
    "for last_choice, targets, products, proba in zip(clc2[LC_TARGET_LABELS].values, y_val, y_preds, Y_probas.values):\n",
    "    added_products = remove_last_choice(targets, last_choice)\n",
    "    predictions = remove_last_choice(products, last_choice)\n",
    "#     print \"---\", count, last_choice\n",
    "#     print targets, '->', added_products\n",
    "#     print products, '->', predictions\n",
    "#     if count == 3:\n",
    "#         break\n",
    "    \n",
    "    if len(added_products) == 0:\n",
    "        continue\n",
    "        \n",
    "    if len(set(added_products) & set(predictions)) > 0:\n",
    "#         print \"Predicted : \", added_products, predictions\n",
    "#         print set(added_products) & set(predictions)\n",
    "        continue\n",
    "\n",
    "    count += 1\n",
    "    if count < limit:\n",
    "        print \"--- Count = \", count\n",
    "        print targets_indices_to_labels(added_products, TARGET_LABELS2)#, targets_indices_to_labels(targets, TARGET_LABELS2)\n",
    "        print targets_indices_to_labels(predictions, TARGET_LABELS2)#, targets_indices_to_labels(products, TARGET_LABELS2)#, proba\n",
    "    \n",
    "    for p in added_products:\n",
    "        not_predicted_predicted[TARGET_LABELS2[p]] += 1\n",
    "    "
   ]
  },
  {
   "cell_type": "code",
   "execution_count": null,
   "metadata": {
    "collapsed": false,
    "scrolled": false
   },
   "outputs": [],
   "source": [
    "print not_predicted_predicted, y_val.shape[0]"
   ]
  },
  {
   "cell_type": "code",
   "execution_count": null,
   "metadata": {
    "collapsed": false
   },
   "outputs": [],
   "source": [
    "#print y_probas[:10, target_groups[0]]\n",
    "#print Y[np.array(TARGET_LABELS)[target_groups[0]]].head(10)"
   ]
  },
  {
   "cell_type": "markdown",
   "metadata": {},
   "source": [
    "### Run KFold Cross-validation "
   ]
  },
  {
   "cell_type": "code",
   "execution_count": null,
   "metadata": {
    "collapsed": false
   },
   "outputs": [],
   "source": [
    "from trainval import cross_val_score0, cross_val_score"
   ]
  },
  {
   "cell_type": "code",
   "execution_count": null,
   "metadata": {
    "collapsed": true
   },
   "outputs": [],
   "source": [
    "# Unitary run\n",
    "nb_folds = 5\n",
    "results = cross_val_score((X, Y, clients_last_choice[LC_TARGET_LABELS].values), nb_folds=nb_folds, **_kwargs)\n",
    "\n",
    "print \"Cross-Validation \\n %i | %f | %f | %f | %f | %.5f \" % (nb_folds, results.min(), results.mean(), np.median(results), results.max(), results.std())\n"
   ]
  },
  {
   "cell_type": "code",
   "execution_count": null,
   "metadata": {
    "collapsed": true
   },
   "outputs": [],
   "source": []
  },
  {
   "cell_type": "code",
   "execution_count": null,
   "metadata": {
    "collapsed": false
   },
   "outputs": [],
   "source": [
    "from itertools import combinations\n",
    "# CV on various combinations :\n",
    "\n",
    "_samples_masks_list = [\n",
    "    'all',\n",
    "#     lambda x, y:  ~(x['targets_diff'].isin([0])), \n",
    "#     lambda x, y:  x['targets_diff'] > 0, \n",
    "#     lambda x, y:  x['targets_diff'] < 0, \n",
    "    lambda x, y:  ~(x['targets_diff'].isin([0])) | ~(y['targets_diff'].isin([0])), \n",
    "    lambda x, y:  (x['targets_diff'] > 0) | (y['targets_diff'] > 0), \n",
    "#     lambda x, y:  (x['targets_diff'] < 0) | (y['targets_diff'] < 0), \n",
    "#     lambda x, y:  (y['targets_diff'] > 0), \n",
    "#     lambda x, y:  y['targets_diff'] < 0, \n",
    "]\n",
    "\n",
    "_features_masks_dict = {\n",
    "    'fm0': features + target_features + TARGET_LABELS_FRQ.tolist() + TARGET_LABELS_FRQ_PREV,\n",
    "    'fm1': ['pais_residencia', 'sexo', 'age', 'ind_nuevo', 'segmento', 'ind_empleado', 'ind_actividad_cliente', 'indresi'],\n",
    "    'fm2': target_features,\n",
    "    'fm3': ['pais_residencia', 'sexo', 'age', 'segmento', 'renta'],\n",
    "    'fm4': ['pais_residencia', 'sexo', 'age', 'renta', 'targets_logdiff', 'targets_logcount2_diff','targets_logcount2','targets_logcount1'],\n",
    "    'fm5': ['nomprov', 'ind_nuevo', 'renta', 'ind_actividad_cliente', 'canal_entrada'],\n",
    "    'fm6': TARGET_LABELS_FRQ,\n",
    "}\n",
    "\n",
    "_models_dict = {\n",
    "    'rf': create_RF,\n",
    "    'et': create_ET,\n",
    "    'gb': create_GB,\n",
    "}\n",
    "\n",
    "_labels_masks_dict = {\n",
    "    'lm_0': labels_masks_dict['lm_0']\n",
    "}\n",
    "\n",
    "nb_folds = 5\n",
    "\n",
    "def BruteForceSearchCV():\n",
    "    \n",
    "    def get_models_combinations(items):\n",
    "        combins = list(combinations(items, 1))\n",
    "        combins += list(combinations(items, len(items)))\n",
    "        return combins\n",
    "    \n",
    "    def get_combinations(items):\n",
    "        combins = list(combinations(items, 1))\n",
    "        for i in range(2, len(items)+1):\n",
    "            combins += list(combinations(items, i))\n",
    "        return combins\n",
    "    \n",
    "    def get_items(items):\n",
    "        out = [[items[0],], ]\n",
    "        for i in items[1:]:\n",
    "            tmp = list(out[-1])\n",
    "            tmp.append(i)\n",
    "            out.append(tmp)        \n",
    "        return out\n",
    "\n",
    "    \n",
    "    _labels_masks_combinations = get_items(sorted(_labels_masks_dict.keys()))\n",
    "    _features_masks_combinations = get_items(sorted(_features_masks_dict.keys()))\n",
    "    _models_combinations = get_models_combinations(_models_dict.keys())\n",
    "\n",
    "    # Very big loop:\n",
    "    for lm_keys in _labels_masks_combinations:\n",
    "        __labels_masks_dict = {}\n",
    "        for lm_key in lm_keys:\n",
    "            __labels_masks_dict[lm_key] = _labels_masks_dict[lm_key]\n",
    "\n",
    "        for i, sm in enumerate(_samples_masks_list):\n",
    "            __samples_masks_list = [sm]\n",
    "              \n",
    "            for fm_keys in _features_masks_combinations:\n",
    "                __features_masks_dict = {}\n",
    "                for fm_key in fm_keys:\n",
    "                    __features_masks_dict[fm_key] = _features_masks_dict[fm_key]\n",
    "                    \n",
    "                for m_keys in _models_combinations:\n",
    "                    __models_dict = {}\n",
    "                    for m_key in m_keys:\n",
    "                        __models_dict[m_key] = _models_dict[m_key]\n",
    "                    \n",
    "                    print \"\\n\\n---------------------------------------------------------------\" \n",
    "                    print \"--- PROCESS : \", __labels_masks_dict.keys(), i, __features_masks_dict.keys(), __models_dict.keys()\n",
    "                    print \"---------------------------------------------------------------\\n\" \n",
    "                    \n",
    "                    __kwargs = {\n",
    "                        'samples_masks_list': __samples_masks_list, \n",
    "                        'features_masks_dict': __features_masks_dict, \n",
    "                        'labels_masks_dict': __labels_masks_dict, \n",
    "                        'models_dict': __models_dict,\n",
    "                        'labels': target_labels,\n",
    "                        'transform_proba_func': probas_to_indices,\n",
    "                        'prepare_to_fit_func': prepare_to_fit,\n",
    "                        'prepare_to_test_func': prepare_to_test,   \n",
    "                        'probas_to_labels_probas_func': probas_to_labels_probas,\n",
    "                        'threshold': 0.0,\n",
    "                        'n_highest': 7,\n",
    "                        'mode': 'sum',\n",
    "                        'verbose': False,\n",
    "                        'return_probas': True\n",
    "                    }\n",
    "                    #  DEBUG : results = cross_val_score((X1, Y1, clc1[LC_TARGET_LABELS].values), nb_folds=nb_folds, **__kwargs)\n",
    "                    results = cross_val_score((X, Y, clients_last_choice[LC_TARGET_LABELS].values), nb_folds=nb_folds, **__kwargs)\n",
    "                    print \"=> CV : \", results"
   ]
  },
  {
   "cell_type": "code",
   "execution_count": null,
   "metadata": {
    "collapsed": false
   },
   "outputs": [],
   "source": [
    "logging.getLogger().setLevel(logging.WARNING)\n",
    "BruteForceSearchCV()\n",
    "logging.getLogger().setLevel(logging.INFO)"
   ]
  },
  {
   "cell_type": "markdown",
   "metadata": {},
   "source": [
    "\n",
    "### 201505 -> 201605 \n",
    "\n",
    "Cross-Validation \n",
    " 5 | 0.014585 | 0.018385 | 0.019147 | 0.022227 | 0.00294 "
   ]
  },
  {
   "cell_type": "markdown",
   "metadata": {},
   "source": [
    "Compute cross-validation across several months"
   ]
  },
  {
   "cell_type": "code",
   "execution_count": null,
   "metadata": {
    "collapsed": true
   },
   "outputs": [],
   "source": [
    "nb_folds = 3\n",
    "yms = [201504, 201505]\n",
    "#yms = [201505]\n",
    "\n",
    "for ym in yms:\n",
    "    logging.info(\"\\n-------------------------\")\n",
    "    logging.info(\"- Process month : %s\" % ym)\n",
    "    logging.info(\"-------------------------\\n\")\n",
    "    \n",
    "    ym1 = ym + 100    \n",
    "    df1 = train_df if months_ym_map[ym] in train_months else val_df\n",
    "    df2 = train_df if months_ym_map[ym1] in train_months else val_df\n",
    "    X, Y, clients_last_choice = get_XY(ym, df1, ym1, df2) \n",
    "    results = cross_val_score2((X, Y, clients_last_choice[LC_TARGET_LABELS].values), \n",
    "                                profiles=profiles,\n",
    "                                nb_folds=nb_folds)\n",
    "    print \"Cross-Validation \\n %i | %f | %f | %f | %.5f \" % (nb_folds, results.min(), results.mean(), results.max(), results.std())"
   ]
  },
  {
   "cell_type": "markdown",
   "metadata": {
    "collapsed": true
   },
   "source": [
    "## Train model for predictions"
   ]
  },
  {
   "cell_type": "code",
   "execution_count": null,
   "metadata": {
    "collapsed": false
   },
   "outputs": [],
   "source": [
    "current_month = 201505\n",
    "next_year_month = current_month + 100\n",
    "\n",
    "df1 = train_df\n",
    "#df1 = val_df\n",
    "df2 = train_df #if months_ym_map[next_year_month] in train_months else val_df\n",
    "#df2 = val_df\n",
    "\n",
    "X, Y, clients_last_choice = get_XY(current_month, df1, next_year_month, df2, months_ym_map)"
   ]
  },
  {
   "cell_type": "code",
   "execution_count": null,
   "metadata": {
    "collapsed": true
   },
   "outputs": [],
   "source": [
    "estimators = train_all(X, Y, **_kwargs)"
   ]
  },
  {
   "cell_type": "code",
   "execution_count": null,
   "metadata": {
    "collapsed": false
   },
   "outputs": [],
   "source": [
    "y_preds, Y_probas = predict_all(estimators, X, **_kwargs)"
   ]
  },
  {
   "cell_type": "markdown",
   "metadata": {
    "collapsed": true
   },
   "source": [
    "Check score on the data 2016/05"
   ]
  },
  {
   "cell_type": "code",
   "execution_count": null,
   "metadata": {
    "collapsed": false
   },
   "outputs": [],
   "source": [
    "logging.info(\"- Compute map7 score\")\n",
    "print map7_score(y_val, y_preds, clients_last_choice[LC_TARGET_LABELS].values)\n",
    "logging.info(\"- Compute max map7 score\")\n",
    "print map7_score(y_val, y_val, clients_last_choice[LC_TARGET_LABELS].values)"
   ]
  },
  {
   "cell_type": "markdown",
   "metadata": {
    "collapsed": true
   },
   "source": [
    "## Prediction for 2016/06"
   ]
  },
  {
   "cell_type": "code",
   "execution_count": null,
   "metadata": {
    "collapsed": true
   },
   "outputs": [],
   "source": [
    "from dataset import load_train_test"
   ]
  },
  {
   "cell_type": "code",
   "execution_count": null,
   "metadata": {
    "collapsed": false
   },
   "outputs": [],
   "source": [
    "full_train_df, test_df = load_train_test([201506])"
   ]
  },
  {
   "cell_type": "code",
   "execution_count": null,
   "metadata": {
    "collapsed": false
   },
   "outputs": [],
   "source": [
    "full_train_df.head()"
   ]
  },
  {
   "cell_type": "code",
   "execution_count": null,
   "metadata": {
    "collapsed": false
   },
   "outputs": [],
   "source": [
    "test_df.head()"
   ]
  },
  {
   "cell_type": "code",
   "execution_count": null,
   "metadata": {
    "collapsed": true
   },
   "outputs": [],
   "source": [
    "months_ym_map = {}\n",
    "months = list(set(full_train_df['fecha_dato'].unique()) | set(test_df['fecha_dato'].unique()))\n",
    "for m in months:\n",
    "    months_ym_map[to_yearmonth(m)] = m\n",
    "    \n",
    "full_train_months = full_train_df['fecha_dato'].unique()\n",
    "test_months = test_df['fecha_dato'].unique()"
   ]
  },
  {
   "cell_type": "code",
   "execution_count": null,
   "metadata": {
    "collapsed": false
   },
   "outputs": [],
   "source": [
    "current_month = 201506\n",
    "next_year_month = current_month + 100\n",
    "\n",
    "df1 = full_train_df\n",
    "df2 = test_df\n",
    "X, _, clients_last_choice = get_XY(current_month, df1, next_year_month, df2, months_ym_map)"
   ]
  },
  {
   "cell_type": "code",
   "execution_count": null,
   "metadata": {
    "collapsed": false
   },
   "outputs": [],
   "source": [
    "print X.shape, test_df.shape"
   ]
  },
  {
   "cell_type": "code",
   "execution_count": null,
   "metadata": {
    "collapsed": true
   },
   "outputs": [],
   "source": [
    "X.head(10)"
   ]
  },
  {
   "cell_type": "code",
   "execution_count": null,
   "metadata": {
    "collapsed": true
   },
   "outputs": [],
   "source": [
    "clients_last_choice.head(10)"
   ]
  },
  {
   "cell_type": "code",
   "execution_count": null,
   "metadata": {
    "collapsed": true
   },
   "outputs": [],
   "source": [
    "def get_submission(predicted_added_products, clients, clc, target_labels):\n",
    "    added_products_col = []\n",
    "    count = 0 \n",
    "    for products, last_choice in zip(predicted_added_products, clc):\n",
    "        predictions = remove_last_choice(products, last_choice)\n",
    "        added_products_col.append(' '.join([target_labels[i] for i in predictions]))\n",
    "        count+=1\n",
    "        if count % 100000 == 0:\n",
    "            logging.info(\"Elapsed : %i\", count)\n",
    "            \n",
    "    out = pd.DataFrame(data={'ncodpers': clients, 'added_products': added_products_col}, columns=['ncodpers', 'added_products'])\n",
    "    return out"
   ]
  },
  {
   "cell_type": "code",
   "execution_count": null,
   "metadata": {
    "collapsed": true
   },
   "outputs": [],
   "source": [
    "y_preds, Y_probas = predict_all(estimators, X, **_kwargs)\n",
    "\n",
    "logging.info(\"- Get submission dataframe:\")\n",
    "clients = X['ncodpers'].values\n",
    "#submission = get_submission(y_preds, clients, clients_last_choice[LC_TARGET_LABELS].values, TARGET_LABELS)"
   ]
  },
  {
   "cell_type": "code",
   "execution_count": null,
   "metadata": {
    "collapsed": false
   },
   "outputs": [],
   "source": [
    "submission = get_submission(y_preds, clients, clients_last_choice[LC_TARGET_LABELS].values, TARGET_LABELS)"
   ]
  },
  {
   "cell_type": "code",
   "execution_count": null,
   "metadata": {
    "collapsed": true
   },
   "outputs": [],
   "source": [
    "print submission.shape\n",
    "submission.head()"
   ]
  },
  {
   "cell_type": "code",
   "execution_count": null,
   "metadata": {
    "collapsed": false
   },
   "outputs": [],
   "source": [
    "selected_estimators = []\n",
    "for e in estimators:\n",
    "    # estimators = [([features_mask_name, labels_mask_name, model_name], estimator_object, accuracy), ...]\n",
    "    features_mask_name, labels_mask_name, model_name = e[0]\n",
    "#     print features_mask_name, labels_mask_name, model_name\n",
    "    if set(features_masks_dict[features_mask_name]).issubset(test_df.columns):\n",
    "#         print \"Append the estimator\"\n",
    "        selected_estimators.append(e)"
   ]
  },
  {
   "cell_type": "code",
   "execution_count": null,
   "metadata": {
    "collapsed": false
   },
   "outputs": [],
   "source": [
    "submission_clients = set(submission['ncodpers'].unique())\n",
    "test_clients = set(test_df['ncodpers'].unique())\n",
    "if submission_clients != test_clients:\n",
    "    missing_clients = list(test_clients - submission_clients)\n",
    "    missing_clients_mask = test_df['ncodpers'].isin(missing_clients)\n",
    "    \n",
    "    X1 = test_df[missing_clients_mask]\n",
    "        \n",
    "    y_preds, Y_probas = predict_all(selected_estimators, X1, **_kwargs)    \n",
    "    submission2 = get_submission(y_preds, missing_clients, X1[LC_TARGET_LABELS].values, TARGET_LABELS)\n",
    "    \n",
    "#     submission = pd.concat([submission, submission2])"
   ]
  },
  {
   "cell_type": "code",
   "execution_count": null,
   "metadata": {
    "collapsed": true
   },
   "outputs": [],
   "source": [
    "submission2 = get_submission(y_preds, missing_clients, X1[LC_TARGET_LABELS].values, TARGET_LABELS)\n",
    "#submission = pd.concat([submission, submission2])"
   ]
  },
  {
   "cell_type": "code",
   "execution_count": null,
   "metadata": {
    "collapsed": true
   },
   "outputs": [],
   "source": [
    "print submission2.shape\n",
    "submission2.head()"
   ]
  },
  {
   "cell_type": "markdown",
   "metadata": {},
   "source": [
    "Get submission DataFrame and write csv file"
   ]
  },
  {
   "cell_type": "code",
   "execution_count": null,
   "metadata": {
    "collapsed": false
   },
   "outputs": [],
   "source": [
    "print submission.shape\n",
    "submission.head()"
   ]
  },
  {
   "cell_type": "code",
   "execution_count": null,
   "metadata": {
    "collapsed": false
   },
   "outputs": [],
   "source": [
    "from datetime import datetime\n",
    "import csv\n",
    "\n",
    "logging.info('- Generate submission')\n",
    "submission_file = '../results/submission_' + \\\n",
    "                  str(datetime.now().strftime(\"%Y-%m-%d-%H-%M\")) + \\\n",
    "                  '.csv'\n",
    "\n",
    "submission.to_csv(submission_file, index=False, index_label=False)"
   ]
  },
  {
   "cell_type": "code",
   "execution_count": null,
   "metadata": {
    "collapsed": true
   },
   "outputs": [],
   "source": []
  },
  {
   "cell_type": "code",
   "execution_count": null,
   "metadata": {
    "collapsed": false
   },
   "outputs": [],
   "source": [
    "with open('../results/submission_2016-11-17-16-37.csv', 'r') as r:\n",
    "    print r.readline()\n",
    "    print r.readline()\n",
    "    print r.readline()\n",
    "    print r.readline()\n",
    "    print r.readline()\n",
    "    "
   ]
  },
  {
   "cell_type": "code",
   "execution_count": null,
   "metadata": {
    "collapsed": true
   },
   "outputs": [],
   "source": []
  }
 ],
 "metadata": {
  "kernelspec": {
   "display_name": "Python 2",
   "language": "python",
   "name": "python2"
  },
  "language_info": {
   "codemirror_mode": {
    "name": "ipython",
    "version": 2
   },
   "file_extension": ".py",
   "mimetype": "text/x-python",
   "name": "python",
   "nbconvert_exporter": "python",
   "pygments_lexer": "ipython2",
   "version": "2.7.12"
  }
 },
 "nbformat": 4,
 "nbformat_minor": 0
}
