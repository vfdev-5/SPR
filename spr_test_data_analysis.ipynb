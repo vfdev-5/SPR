{
 "cells": [
  {
   "cell_type": "markdown",
   "metadata": {},
   "source": [
    "# SPR Data analysis"
   ]
  },
  {
   "cell_type": "code",
   "execution_count": 1,
   "metadata": {
    "collapsed": false
   },
   "outputs": [
    {
     "name": "stderr",
     "output_type": "stream",
     "text": [
      "/usr/local/lib/python2.7/site-packages/matplotlib/font_manager.py:273: UserWarning: Matplotlib is building the font cache using fc-list. This may take a moment.\n",
      "  warnings.warn('Matplotlib is building the font cache using fc-list. This may take a moment.')\n"
     ]
    },
    {
     "name": "stdout",
     "output_type": "stream",
     "text": [
      "Populating the interactive namespace from numpy and matplotlib\n"
     ]
    }
   ],
   "source": [
    "import numpy as np\n",
    "import pandas as pd\n",
    "import seaborn as sns\n",
    "import matplotlib.pyplot as plt\n",
    "%pylab inline\n",
    "pylab.rcParams['figure.figsize'] = (10, 6)\n",
    "color = sns.color_palette()"
   ]
  },
  {
   "cell_type": "markdown",
   "metadata": {},
   "source": [
    "**Dataset Size:**\n",
    "\n",
    "First let us check the number of rows in train and test file :\n",
    "- Number of rows in train :  13'647'309\n",
    "- Number of rows in test :  929'615\n",
    "- Number of clients (train dataset) : 956645"
   ]
  },
  {
   "cell_type": "markdown",
   "metadata": {},
   "source": [
    "**Dataset columns:**\n",
    "  \n",
    "  \n",
    "Main columns :   \n",
    "\n",
    "- fecha_dato \tThe table is partitioned for this column\n",
    "- ncodpers \tCustomer code\n",
    "- ind_empleado \tEmployee index: A active, B ex employed, F filial, N not employee, P pasive\n",
    "- pais_residencia \tCustomer's Country residence\n",
    "- sexo \tCustomer's sex\n",
    "- age \tAge\n",
    "- fecha_alta \tThe date in which the customer became as the first holder of a contract in the bank\n",
    "- ind_nuevo \tNew customer Index. 1 if the customer registered in the last 6 months.\n",
    "- antiguedad \tCustomer seniority (in months)\n",
    "- indrel \t1 (First/Primary), 99 (Primary customer during the month but not at the end of the month)\n",
    "- ult_fec_cli_1t \tLast date as primary customer (if he isn't at the end of the month)\n",
    "- indrel_1mes \tCustomer type at the beginning of the month ,1 (First/Primary customer), 2 (co-owner ),P (Potential),3 (former primary), 4(former co-owner)\n",
    "- tiprel_1mes \tCustomer relation type at the beginning of the month, A (active), I (inactive), P (former customer),R (Potential)\n",
    "- indresi \tResidence index (S (Yes) or N (No) if the residence country is the same than the bank country)\n",
    "- indext \tForeigner index (S (Yes) or N (No) if the customer's birth country is different than the bank country)\n",
    "- conyuemp \tSpouse index. 1 if the customer is spouse of an employee\n",
    "- canal_entrada \tchannel used by the customer to join\n",
    "- indfall \tDeceased index. N/S\n",
    "- tipodom \tAddres type. 1, primary address\n",
    "- cod_prov \tProvince code (customer's address)\n",
    "- nomprov \tProvince name\n",
    "- ind_actividad_cliente \tActivity index (1, active customer; 0, inactive customer)\n",
    "- renta \tGross income of the household\n",
    "- segmento \tsegmentation: 01 - VIP, 02 - Individuals 03 - college graduated    \n",
    "    \n",
    "    \n",
    "target columns : \n",
    "    \n",
    "- ind_ahor_fin_ult1 \tSaving Account\n",
    "- ind_aval_fin_ult1 \tGuarantees\n",
    "- ind_cco_fin_ult1 \tCurrent Accounts\n",
    "- ind_cder_fin_ult1 \tDerivada Account\n",
    "- ind_cno_fin_ult1 \tPayroll Account\n",
    "- ind_ctju_fin_ult1 \tJunior Account\n",
    "- ind_ctma_fin_ult1 \tMás particular Account\n",
    "- ind_ctop_fin_ult1 \tparticular Account\n",
    "- ind_ctpp_fin_ult1 \tparticular Plus Account\n",
    "- ind_deco_fin_ult1 \tShort-term deposits\n",
    "- ind_deme_fin_ult1 \tMedium-term deposits\n",
    "- ind_dela_fin_ult1 \tLong-term deposits\n",
    "- ind_ecue_fin_ult1 \te-account\n",
    "- ind_fond_fin_ult1 \tFunds\n",
    "- ind_hip_fin_ult1 \tMortgage\n",
    "- ind_plan_fin_ult1 \tPensions\n",
    "- ind_pres_fin_ult1 \tLoans\n",
    "- ind_reca_fin_ult1 \tTaxes\n",
    "- ind_tjcr_fin_ult1 \tCredit Card\n",
    "- ind_valo_fin_ult1 \tSecurities\n",
    "- ind_viv_fin_ult1 \tHome Account\n",
    "- ind_nomina_ult1 \tPayroll\n",
    "- ind_nom_pens_ult1 \tPensions\n",
    "- ind_recibo_ult1 \tDirect Debit    \n",
    "    "
   ]
  },
  {
   "cell_type": "markdown",
   "metadata": {},
   "source": [
    "## Data stats"
   ]
  },
  {
   "cell_type": "code",
   "execution_count": 3,
   "metadata": {
    "collapsed": false
   },
   "outputs": [],
   "source": [
    "data_path = \"data/\"\n",
    "test_df = pd.read_csv(data_path+\"test_ver2.csv\")"
   ]
  },
  {
   "cell_type": "markdown",
   "metadata": {},
   "source": [
    "Number of clients"
   ]
  },
  {
   "cell_type": "code",
   "execution_count": 4,
   "metadata": {
    "collapsed": false
   },
   "outputs": [
    {
     "data": {
      "text/plain": [
       "929615"
      ]
     },
     "execution_count": 4,
     "metadata": {},
     "output_type": "execute_result"
    }
   ],
   "source": [
    "len(test_df['ncodpers'].unique())"
   ]
  },
  {
   "cell_type": "code",
   "execution_count": 9,
   "metadata": {
    "collapsed": false
   },
   "outputs": [
    {
     "data": {
      "text/plain": [
       "fecha_dato                object\n",
       "ncodpers                   int64\n",
       "ind_empleado              object\n",
       "pais_residencia           object\n",
       "sexo                      object\n",
       "age                        int64\n",
       "fecha_alta                object\n",
       "ind_nuevo                  int64\n",
       "antiguedad                 int64\n",
       "indrel                     int64\n",
       "ult_fec_cli_1t            object\n",
       "indrel_1mes              float64\n",
       "tiprel_1mes               object\n",
       "indresi                   object\n",
       "indext                    object\n",
       "conyuemp                  object\n",
       "canal_entrada             object\n",
       "indfall                   object\n",
       "tipodom                    int64\n",
       "cod_prov                 float64\n",
       "nomprov                   object\n",
       "ind_actividad_cliente      int64\n",
       "renta                     object\n",
       "segmento                  object\n",
       "dtype: object"
      ]
     },
     "execution_count": 9,
     "metadata": {},
     "output_type": "execute_result"
    }
   ],
   "source": [
    "test_df.dtypes"
   ]
  },
  {
   "cell_type": "markdown",
   "metadata": {},
   "source": [
    "Comparing with train : \n",
    "```\n",
    "fecha_dato               datetime64[ns]\n",
    "ncodpers                          int64\n",
    "ind_empleado                     object\n",
    "pais_residencia                  object\n",
    "sexo                             object\n",
    "age                              object\n",
    "fecha_alta               datetime64[ns]\n",
    "ind_nuevo                       float64\n",
    "antiguedad                       object\n",
    "indrel                          float64\n",
    "ult_fec_cli_1t                   object\n",
    "indrel_1mes                     float64\n",
    "tiprel_1mes                      object\n",
    "indresi                          object\n",
    "indext                           object\n",
    "conyuemp                        float64\n",
    "canal_entrada                    object\n",
    "indfall                          object\n",
    "tipodom                         float64\n",
    "cod_prov                        float64\n",
    "nomprov                          object\n",
    "ind_actividad_cliente           float64\n",
    "renta                           float64\n",
    "segmento                         object\n",
    "ind_ahor_fin_ult1                 int64\n",
    "ind_aval_fin_ult1                 int64\n",
    "ind_cco_fin_ult1                  int64\n",
    "ind_cder_fin_ult1                 int64\n",
    "ind_cno_fin_ult1                  int64\n",
    "ind_ctju_fin_ult1                 int64\n",
    "ind_ctma_fin_ult1                 int64\n",
    "ind_ctop_fin_ult1                 int64\n",
    "ind_ctpp_fin_ult1                 int64\n",
    "ind_deco_fin_ult1                 int64\n",
    "ind_deme_fin_ult1                 int64\n",
    "ind_dela_fin_ult1                 int64\n",
    "ind_ecue_fin_ult1                 int64\n",
    "ind_fond_fin_ult1                 int64\n",
    "ind_hip_fin_ult1                  int64\n",
    "ind_plan_fin_ult1                 int64\n",
    "ind_pres_fin_ult1                 int64\n",
    "ind_reca_fin_ult1                 int64\n",
    "ind_tjcr_fin_ult1                 int64\n",
    "ind_valo_fin_ult1                 int64\n",
    "ind_viv_fin_ult1                  int64\n",
    "ind_nomina_ult1                 float64\n",
    "ind_nom_pens_ult1               float64\n",
    "ind_recibo_ult1                   int64\n",
    "dtype: object\n",
    "```"
   ]
  },
  {
   "cell_type": "code",
   "execution_count": 10,
   "metadata": {
    "collapsed": false
   },
   "outputs": [],
   "source": [
    "test_df[\"age\"] = pd.to_numeric(test_df[\"age\"], errors=\"coerce\")\n",
    "test_df[\"renta\"] = pd.to_numeric(test_df[\"renta\"], errors=\"coerce\")"
   ]
  },
  {
   "cell_type": "code",
   "execution_count": 13,
   "metadata": {
    "collapsed": false
   },
   "outputs": [
    {
     "name": "stdout",
     "output_type": "stream",
     "text": [
      "227965 701650 929615\n"
     ]
    }
   ],
   "source": [
    "print test_df['renta'].isnull().sum(), (~test_df['renta'].isnull()).sum(), test_df['renta'].shape[0]"
   ]
  },
  {
   "cell_type": "code",
   "execution_count": 11,
   "metadata": {
    "collapsed": false,
    "scrolled": true
   },
   "outputs": [
    {
     "data": {
      "text/plain": [
       "451931.22    354\n",
       "463625.16    111\n",
       "181042.20     91\n",
       "128318.52     91\n",
       "105260.88     90\n",
       "488798.49     84\n",
       "127141.50     73\n",
       "283325.67     70\n",
       "132335.73     67\n",
       "236690.34     67\n",
       "104563.80     63\n",
       "227267.49     56\n",
       "111933.69     55\n",
       "273387.54     55\n",
       "227397.72     53\n",
       "174407.10     53\n",
       "155930.43     51\n",
       "218030.01     50\n",
       "163432.47     44\n",
       "208961.79     43\n",
       "168733.62     43\n",
       "135522.15     42\n",
       "555605.55     41\n",
       "152601.99     41\n",
       "148736.19     41\n",
       "248233.11     39\n",
       "91673.25      38\n",
       "288997.44     38\n",
       "47550.39      38\n",
       "326853.09     37\n",
       "            ... \n",
       "131759.64      1\n",
       "94696.23       1\n",
       "203864.91      1\n",
       "361948.38      1\n",
       "102371.79      1\n",
       "65207.94       1\n",
       "67300.74       1\n",
       "52590.42       1\n",
       "160343.28      1\n",
       "129977.07      1\n",
       "144322.65      1\n",
       "40388.10       1\n",
       "88111.74       1\n",
       "80455.77       1\n",
       "74479.98       1\n",
       "107185.83      1\n",
       "66941.49       1\n",
       "47097.72       1\n",
       "68218.74       1\n",
       "28025.40       1\n",
       "57714.39       1\n",
       "54004.59       1\n",
       "119457.39      1\n",
       "86670.87       1\n",
       "319321.71      1\n",
       "193227.72      1\n",
       "110094.21      1\n",
       "141067.95      1\n",
       "58387.86       1\n",
       "27832.50       1\n",
       "Name: renta, dtype: int64"
      ]
     },
     "execution_count": 11,
     "metadata": {},
     "output_type": "execute_result"
    }
   ],
   "source": [
    "test_df[\"renta\"].value_counts()"
   ]
  },
  {
   "cell_type": "code",
   "execution_count": 14,
   "metadata": {
    "collapsed": false
   },
   "outputs": [
    {
     "data": {
      "text/plain": [
       "count    7.016500e+05\n",
       "mean     1.340879e+05\n",
       "std      2.323120e+05\n",
       "min      1.202730e+03\n",
       "25%      6.849114e+04\n",
       "50%      1.014905e+05\n",
       "75%      1.555408e+05\n",
       "max      2.889440e+07\n",
       "Name: renta, dtype: float64"
      ]
     },
     "execution_count": 14,
     "metadata": {},
     "output_type": "execute_result"
    }
   ],
   "source": [
    "test_df[(~test_df['renta'].isnull())]['renta'].describe()"
   ]
  },
  {
   "cell_type": "code",
   "execution_count": null,
   "metadata": {
    "collapsed": true
   },
   "outputs": [],
   "source": []
  }
 ],
 "metadata": {
  "kernelspec": {
   "display_name": "Python 2",
   "language": "python",
   "name": "python2"
  },
  "language_info": {
   "codemirror_mode": {
    "name": "ipython",
    "version": 2
   },
   "file_extension": ".py",
   "mimetype": "text/x-python",
   "name": "python",
   "nbconvert_exporter": "python",
   "pygments_lexer": "ipython2",
   "version": "2.7.12"
  }
 },
 "nbformat": 4,
 "nbformat_minor": 1
}
