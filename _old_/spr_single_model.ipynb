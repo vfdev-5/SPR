{
 "cells": [
  {
   "cell_type": "markdown",
   "metadata": {},
   "source": [
    "# SPR single model predictions"
   ]
  },
  {
   "cell_type": "code",
   "execution_count": 22,
   "metadata": {
    "collapsed": false
   },
   "outputs": [
    {
     "name": "stdout",
     "output_type": "stream",
     "text": [
      "Populating the interactive namespace from numpy and matplotlib\n"
     ]
    }
   ],
   "source": [
    "import numpy as np\n",
    "import pandas as pd\n",
    "import seaborn as sns\n",
    "import matplotlib.pyplot as plt\n",
    "\n",
    "from sklearn.preprocessing import LabelEncoder\n",
    "from sklearn.model_selection import train_test_split\n",
    "from sklearn.preprocessing import StandardScaler\n",
    "from sklearn.model_selection import cross_val_score\n",
    "from sklearn.metrics import make_scorer, average_precision_score, accuracy_score, mean_absolute_error\n",
    "from sklearn.ensemble import ExtraTreesClassifier, RandomForestClassifier, GradientBoostingClassifier\n",
    "from sklearn.svm import SVC\n",
    "\n",
    "%pylab inline\n",
    "pylab.rcParams['figure.figsize'] = (10, 6)\n",
    "color = sns.color_palette()"
   ]
  },
  {
   "cell_type": "code",
   "execution_count": 2,
   "metadata": {
    "collapsed": true
   },
   "outputs": [],
   "source": [
    "from load_data import TARGET_LABELS, load_all_encoded"
   ]
  },
  {
   "cell_type": "code",
   "execution_count": 3,
   "metadata": {
    "collapsed": false
   },
   "outputs": [],
   "source": [
    "train_df = load_all_encoded()"
   ]
  },
  {
   "cell_type": "code",
   "execution_count": 4,
   "metadata": {
    "collapsed": false
   },
   "outputs": [
    {
     "data": {
      "text/plain": [
       "(4250000, 45)"
      ]
     },
     "execution_count": 4,
     "metadata": {},
     "output_type": "execute_result"
    }
   ],
   "source": [
    "train_df.shape"
   ]
  },
  {
   "cell_type": "markdown",
   "metadata": {},
   "source": [
    "## Try a simple model to predict targets from the current and previous months"
   ]
  },
  {
   "cell_type": "markdown",
   "metadata": {},
   "source": [
    "Let we have 201503, 201504 as training data and we want to predict on 201505\n",
    "\n",
    "- Do we need to identify clients ? -> if No => remove 'ncodpers' column => Lose all history information \n",
    "    -> if Yes => need to identify the client on the data\n",
    "\n",
    "\n",
    "Idea 1: \n",
    "\n",
    "    a) client's properties -> `TARGET_LABELS` on the current month\n",
    "    b) For existing clients : client's target_labels of the previous month -> client's target_labels on the current month\n",
    "    c) For new clients : recommendations ?\n",
    "        \n",
    "    \n",
    "Case a) :\n",
    "\n",
    "- Remove `ncodpers` from train data 201503, 201504 \n",
    "- Train `TARGET_LABELS` from other features for 201503, 201504 \n",
    "- Validate `TARGET_LABELS` for 201505\n",
    "\n",
    "\n",
    "Case b) :\n",
    "\n",
    "- Get unique `ncodpers` from test data 201505\n",
    "- Remove other clients from train data 201502, 201503, 201504 \n",
    "- Drop non `TARGET_LABELS` features from train data 201502, 201503, 201504 \n",
    "- Train on `TARGET_LABELS` (or target_value) from 201503 to predict on 201504\n",
    "- Train on diff of `TARGET_LABELS` (diff of target_value) from 201502, 201503 to predict on 201504\n",
    "- Validate `TARGET_LABELS` for 201505\n",
    "\n",
    "\n"
   ]
  },
  {
   "cell_type": "code",
   "execution_count": 5,
   "metadata": {
    "collapsed": true
   },
   "outputs": [],
   "source": [
    "train_df['yearmonth'] = train_df['fecha_dato'].apply(lambda x: int(100*x.year + x.month))"
   ]
  },
  {
   "cell_type": "code",
   "execution_count": 153,
   "metadata": {
    "collapsed": true
   },
   "outputs": [],
   "source": [
    "drop_cols = ['ncodpers']; drop_cols.extend(TARGET_LABELS)\n",
    "mask_train = (train_df['yearmonth'] == 201503) | (train_df['yearmonth'] == 201504)\n",
    "mask_test = train_df['yearmonth'] == 201505"
   ]
  },
  {
   "cell_type": "code",
   "execution_count": 154,
   "metadata": {
    "collapsed": false
   },
   "outputs": [
    {
     "name": "stdout",
     "output_type": "stream",
     "text": [
      "(500000, 21) (500000, 24)\n"
     ]
    }
   ],
   "source": [
    "X = train_df[mask_train].drop(drop_cols, axis=1)\n",
    "Y = train_df[mask_train][TARGET_LABELS]\n",
    "print X.shape, Y.shape"
   ]
  },
  {
   "cell_type": "code",
   "execution_count": 155,
   "metadata": {
    "collapsed": true
   },
   "outputs": [],
   "source": [
    "Z = train_df[mask_test]\n",
    "ZX = Z.drop(drop_cols, axis=1)\n",
    "ZY = Z[TARGET_LABELS]"
   ]
  },
  {
   "cell_type": "code",
   "execution_count": 156,
   "metadata": {
    "collapsed": true
   },
   "outputs": [],
   "source": [
    "def transform_data(X):\n",
    "    date_cols = ['fecha_dato', 'fecha_alta']\n",
    "    out = X.drop(date_cols, axis=1)\n",
    "    out['duration'] = (X['fecha_dato'] - X['fecha_alta']).dt.days\n",
    "    cols = out.columns\n",
    "    out = pd.DataFrame(StandardScaler().fit_transform(out), columns=cols)\n",
    "    return out"
   ]
  },
  {
   "cell_type": "code",
   "execution_count": 157,
   "metadata": {
    "collapsed": true
   },
   "outputs": [],
   "source": [
    "X = transform_data(X)"
   ]
  },
  {
   "cell_type": "code",
   "execution_count": 158,
   "metadata": {
    "collapsed": true
   },
   "outputs": [],
   "source": [
    "ZX = transform_data(ZX)"
   ]
  },
  {
   "cell_type": "markdown",
   "metadata": {},
   "source": [
    "Case \"a\""
   ]
  },
  {
   "cell_type": "code",
   "execution_count": 159,
   "metadata": {
    "collapsed": false
   },
   "outputs": [
    {
     "name": "stdout",
     "output_type": "stream",
     "text": [
      "(400000, 20) (100000, 20) (400000, 24) (100000, 24)\n"
     ]
    }
   ],
   "source": [
    "X_train, X_test, Y_train, Y_test = train_test_split(X, Y, train_size=0.8)\n",
    "print X_train.shape, X_test.shape, Y_train.shape, Y_test.shape"
   ]
  },
  {
   "cell_type": "code",
   "execution_count": 160,
   "metadata": {
    "collapsed": true
   },
   "outputs": [],
   "source": [
    "rf = RandomForestClassifier(n_estimators = 100, n_jobs = -1, verbose = 0)"
   ]
  },
  {
   "cell_type": "code",
   "execution_count": 161,
   "metadata": {
    "collapsed": false
   },
   "outputs": [
    {
     "name": "stdout",
     "output_type": "stream",
     "text": [
      "0.9994675\n"
     ]
    }
   ],
   "source": [
    "rf.fit(X_train, Y_train)\n",
    "score = rf.score(X_train, Y_train)\n",
    "print score"
   ]
  },
  {
   "cell_type": "code",
   "execution_count": 162,
   "metadata": {
    "collapsed": false
   },
   "outputs": [],
   "source": [
    "Y_pred = rf.predict(X_test)"
   ]
  },
  {
   "cell_type": "code",
   "execution_count": 166,
   "metadata": {
    "collapsed": false
   },
   "outputs": [
    {
     "name": "stdout",
     "output_type": "stream",
     "text": [
      "0.0480120833333\n",
      "Number of wrong predictions :  49873.0  from  100000\n"
     ]
    }
   ],
   "source": [
    "print mean_absolute_error(Y_test, Y_pred)\n",
    "print \"Number of wrong predictions : \", (Y_test - Y_pred).sum(1).sum(), \" from \", Y_test.shape[0]"
   ]
  },
  {
   "cell_type": "code",
   "execution_count": 24,
   "metadata": {
    "collapsed": false
   },
   "outputs": [
    {
     "name": "stdout",
     "output_type": "stream",
     "text": [
      "Feature ranking:\n",
      "1. feature 19 'duration' (0.302219)\n",
      "2. feature 17 'logrenta' (0.227699)\n",
      "3. feature 3 'age' (0.182293)\n",
      "4. feature 14 'nomprov' (0.084306)\n",
      "5. feature 12 'canal_entrada' (0.074296)\n",
      "6. feature 16 'segmento' (0.035586)\n",
      "7. feature 15 'ind_actividad_cliente' (0.028525)\n",
      "8. feature 8 'tiprel_1mes' (0.026116)\n",
      "9. feature 18 'yearmonth' (0.016707)\n",
      "10. feature 2 'sexo' (0.011906)\n",
      "11. feature 10 'indext' (0.005071)\n",
      "12. feature 4 'ind_nuevo' (0.001189)\n",
      "13. feature 1 'pais_residencia' (0.001039)\n",
      "14. feature 13 'indfall' (0.000950)\n",
      "15. feature 0 'ind_empleado' (0.000863)\n",
      "16. feature 9 'indresi' (0.000571)\n",
      "17. feature 6 'ult_fec_cli_1t' (0.000323)\n",
      "18. feature 5 'indrel' (0.000210)\n",
      "19. feature 11 'conyuemp' (0.000126)\n",
      "20. feature 7 'indrel_1mes' (0.000005)\n"
     ]
    },
    {
     "data": {
      "image/png": "[encoded data removed]",
      "text/plain": [
       "<matplotlib.figure.Figure at 0x1116abd90>"
      ]
     },
     "metadata": {},
     "output_type": "display_data"
    }
   ],
   "source": [
    "importances = rf.feature_importances_\n",
    "std = np.std([tree.feature_importances_ for tree in rf.estimators_],\n",
    "             axis=0)\n",
    "indices = np.argsort(importances)[::-1]\n",
    "print(\"Feature ranking:\")\n",
    "features = X_train.columns.values\n",
    "\n",
    "for f in range(X.shape[1]):\n",
    "    print(\"%d. feature %d '%s' (%f)\" % (f + 1, indices[f], features[indices[f]], importances[indices[f]]))\n",
    "\n",
    "# Plot the feature importances of the forest\n",
    "plt.figure()\n",
    "plt.title(\"Feature importances\")\n",
    "plt.bar(range(X_train.shape[1]), importances[indices],\n",
    "       color=\"r\", yerr=std[indices], align=\"center\")\n",
    "plt.xticks(range(X_train.shape[1]), indices)\n",
    "plt.xlim([-1, X_train.shape[1]])\n",
    "plt.show()"
   ]
  },
  {
   "cell_type": "code",
   "execution_count": null,
   "metadata": {
    "collapsed": true
   },
   "outputs": [],
   "source": [
    ""
   ]
  },
  {
   "cell_type": "code",
   "execution_count": 164,
   "metadata": {
    "collapsed": true
   },
   "outputs": [],
   "source": [
    "ZY_pred = rf.predict(ZX)"
   ]
  },
  {
   "cell_type": "code",
   "execution_count": 167,
   "metadata": {
    "collapsed": false
   },
   "outputs": [
    {
     "name": "stdout",
     "output_type": "stream",
     "text": [
      "0.036514\n",
      "Number of wrong predictions :  95324.0  from  250000\n"
     ]
    }
   ],
   "source": [
    "print mean_absolute_error(ZY, ZY_pred)\n",
    "print \"Number of wrong predictions : \", (ZY - ZY_pred).sum(1).sum(), \" from \", ZY.shape[0]"
   ]
  },
  {
   "cell_type": "markdown",
   "metadata": {},
   "source": [
    "Case \"b\""
   ]
  },
  {
   "cell_type": "markdown",
   "metadata": {},
   "source": [
    "Train on `TARGET_LABELS` (or target_value) from 201503 to predict on 201504"
   ]
  },
  {
   "cell_type": "markdown",
   "metadata": {},
   "source": [
    "No personalization -> very bad results"
   ]
  },
  {
   "cell_type": "code",
   "execution_count": 168,
   "metadata": {
    "collapsed": true
   },
   "outputs": [],
   "source": [
    "def dummies_to_decimal(row):\n",
    "    output = ''\n",
    "    for v in row.values:\n",
    "        output += str(int(v))\n",
    "    return log(int(output,2)+1)"
   ]
  },
  {
   "cell_type": "code",
   "execution_count": 169,
   "metadata": {
    "collapsed": true
   },
   "outputs": [],
   "source": [
    "X = train_df[train_df['yearmonth'] == 201503][TARGET_LABELS]\n",
    "Y = train_df[train_df['yearmonth'] == 201504][TARGET_LABELS]"
   ]
  },
  {
   "cell_type": "code",
   "execution_count": 170,
   "metadata": {
    "collapsed": true
   },
   "outputs": [],
   "source": [
    "X.loc[:, 'target_value'] = X.apply(dummies_to_decimal, axis=1)"
   ]
  },
  {
   "cell_type": "code",
   "execution_count": 174,
   "metadata": {
    "collapsed": true
   },
   "outputs": [],
   "source": [
    "def transform_data(X):\n",
    "    cols = X.columns\n",
    "    out = pd.DataFrame(StandardScaler().fit_transform(X), columns=cols)\n",
    "    return out"
   ]
  },
  {
   "cell_type": "code",
   "execution_count": 175,
   "metadata": {
    "collapsed": false
   },
   "outputs": [],
   "source": [
    "X = transform_data(X)"
   ]
  },
  {
   "cell_type": "code",
   "execution_count": 176,
   "metadata": {
    "collapsed": false
   },
   "outputs": [
    {
     "name": "stdout",
     "output_type": "stream",
     "text": [
      "(200000, 25) (50000, 25) (200000, 24) (50000, 24)\n"
     ]
    }
   ],
   "source": [
    "X_train, X_test, Y_train, Y_test = train_test_split(X, Y, train_size=0.8)\n",
    "print X_train.shape, X_test.shape, Y_train.shape, Y_test.shape"
   ]
  },
  {
   "cell_type": "code",
   "execution_count": 177,
   "metadata": {
    "collapsed": true
   },
   "outputs": [],
   "source": [
    "rf = RandomForestClassifier(n_estimators = 100, n_jobs = -1, verbose = 0)"
   ]
  },
  {
   "cell_type": "code",
   "execution_count": 178,
   "metadata": {
    "collapsed": false
   },
   "outputs": [
    {
     "name": "stdout",
     "output_type": "stream",
     "text": [
      "0.525035\n"
     ]
    }
   ],
   "source": [
    "rf.fit(X_train, Y_train)\n",
    "score = rf.score(X_train, Y_train)\n",
    "print score"
   ]
  },
  {
   "cell_type": "code",
   "execution_count": 179,
   "metadata": {
    "collapsed": false
   },
   "outputs": [],
   "source": [
    "Y_pred = rf.predict(X_test)"
   ]
  },
  {
   "cell_type": "code",
   "execution_count": 180,
   "metadata": {
    "collapsed": false
   },
   "outputs": [
    {
     "name": "stdout",
     "output_type": "stream",
     "text": [
      "Number of wrong predictions :  38406.0  from  50000\n"
     ]
    }
   ],
   "source": [
    "print \"Number of wrong predictions : \", (Y_test - Y_pred).sum(1).sum(), \" from \", Y_test.shape[0]"
   ]
  },
  {
   "cell_type": "code",
   "execution_count": 181,
   "metadata": {
    "collapsed": false
   },
   "outputs": [
    {
     "name": "stdout",
     "output_type": "stream",
     "text": [
      "0.0516433333333\n"
     ]
    }
   ],
   "source": [
    "print mean_absolute_error(Y_test, Y_pred)"
   ]
  },
  {
   "cell_type": "code",
   "execution_count": null,
   "metadata": {
    "collapsed": true
   },
   "outputs": [],
   "source": [
    ""
   ]
  },
  {
   "cell_type": "markdown",
   "metadata": {},
   "source": [
    "Work with existing clients"
   ]
  },
  {
   "cell_type": "code",
   "execution_count": 183,
   "metadata": {
    "collapsed": false
   },
   "outputs": [],
   "source": [
    "unique_clients = train_df[train_df['yearmonth'] == 201504]['ncodpers'].unique()"
   ]
  },
  {
   "cell_type": "code",
   "execution_count": 184,
   "metadata": {
    "collapsed": true
   },
   "outputs": [],
   "source": [
    "common_clients = set(unique_clients)\n",
    "for y in [201503]:\n",
    "    old_clients = train_df[train_df['yearmonth'] == y]['ncodpers'].unique()\n",
    "    common_clients &= set(old_clients)"
   ]
  },
  {
   "cell_type": "code",
   "execution_count": 185,
   "metadata": {
    "collapsed": false
   },
   "outputs": [
    {
     "name": "stdout",
     "output_type": "stream",
     "text": [
      "250000 99771\n"
     ]
    }
   ],
   "source": [
    "print len(unique_clients), len(common_clients)"
   ]
  },
  {
   "cell_type": "code",
   "execution_count": 186,
   "metadata": {
    "collapsed": true
   },
   "outputs": [],
   "source": [
    "mask_train = (train_df['yearmonth'] == 201504) | (train_df['yearmonth'] == 201503)\n",
    "df = train_df[mask_train]\n",
    "df = df[df['ncodpers'].isin(common_clients)]\n",
    "cols = ['ncodpers', 'yearmonth']; cols.extend(TARGET_LABELS)\n",
    "df = df[cols]"
   ]
  },
  {
   "cell_type": "code",
   "execution_count": 187,
   "metadata": {
    "collapsed": false
   },
   "outputs": [],
   "source": [
    "df.loc[:, 'target_value'] = df[TARGET_LABELS].apply(dummies_to_decimal, axis=1)"
   ]
  },
  {
   "cell_type": "code",
   "execution_count": 188,
   "metadata": {
    "collapsed": true
   },
   "outputs": [
    {
     "data": {
      "text/html": [
       "<div>\n",
       "<table border=\"1\" class=\"dataframe\">\n",
       "  <thead>\n",
       "    <tr style=\"text-align: right;\">\n",
       "      <th></th>\n",
       "      <th>ncodpers</th>\n",
       "      <th>yearmonth</th>\n",
       "      <th>ind_ahor_fin_ult1</th>\n",
       "      <th>ind_aval_fin_ult1</th>\n",
       "      <th>ind_cco_fin_ult1</th>\n",
       "      <th>ind_cder_fin_ult1</th>\n",
       "      <th>ind_cno_fin_ult1</th>\n",
       "      <th>ind_ctju_fin_ult1</th>\n",
       "      <th>ind_ctma_fin_ult1</th>\n",
       "      <th>ind_ctop_fin_ult1</th>\n",
       "      <th>...</th>\n",
       "      <th>ind_plan_fin_ult1</th>\n",
       "      <th>ind_pres_fin_ult1</th>\n",
       "      <th>ind_reca_fin_ult1</th>\n",
       "      <th>ind_tjcr_fin_ult1</th>\n",
       "      <th>ind_valo_fin_ult1</th>\n",
       "      <th>ind_viv_fin_ult1</th>\n",
       "      <th>ind_nomina_ult1</th>\n",
       "      <th>ind_nom_pens_ult1</th>\n",
       "      <th>ind_recibo_ult1</th>\n",
       "      <th>target_value</th>\n",
       "    </tr>\n",
       "  </thead>\n",
       "  <tbody>\n",
       "    <tr>\n",
       "      <th>1250000</th>\n",
       "      <td>558662</td>\n",
       "      <td>201503</td>\n",
       "      <td>0</td>\n",
       "      <td>0</td>\n",
       "      <td>1</td>\n",
       "      <td>0</td>\n",
       "      <td>0</td>\n",
       "      <td>0</td>\n",
       "      <td>0</td>\n",
       "      <td>0</td>\n",
       "      <td>...</td>\n",
       "      <td>0</td>\n",
       "      <td>0</td>\n",
       "      <td>0</td>\n",
       "      <td>0</td>\n",
       "      <td>0</td>\n",
       "      <td>0</td>\n",
       "      <td>0.0</td>\n",
       "      <td>0.0</td>\n",
       "      <td>0</td>\n",
       "      <td>14.556091</td>\n",
       "    </tr>\n",
       "    <tr>\n",
       "      <th>1250004</th>\n",
       "      <td>558631</td>\n",
       "      <td>201503</td>\n",
       "      <td>0</td>\n",
       "      <td>0</td>\n",
       "      <td>1</td>\n",
       "      <td>0</td>\n",
       "      <td>0</td>\n",
       "      <td>0</td>\n",
       "      <td>0</td>\n",
       "      <td>0</td>\n",
       "      <td>...</td>\n",
       "      <td>0</td>\n",
       "      <td>0</td>\n",
       "      <td>0</td>\n",
       "      <td>0</td>\n",
       "      <td>0</td>\n",
       "      <td>0</td>\n",
       "      <td>0.0</td>\n",
       "      <td>0.0</td>\n",
       "      <td>0</td>\n",
       "      <td>14.571595</td>\n",
       "    </tr>\n",
       "    <tr>\n",
       "      <th>1250006</th>\n",
       "      <td>558678</td>\n",
       "      <td>201503</td>\n",
       "      <td>0</td>\n",
       "      <td>0</td>\n",
       "      <td>1</td>\n",
       "      <td>0</td>\n",
       "      <td>0</td>\n",
       "      <td>0</td>\n",
       "      <td>0</td>\n",
       "      <td>0</td>\n",
       "      <td>...</td>\n",
       "      <td>0</td>\n",
       "      <td>0</td>\n",
       "      <td>0</td>\n",
       "      <td>0</td>\n",
       "      <td>0</td>\n",
       "      <td>0</td>\n",
       "      <td>0.0</td>\n",
       "      <td>0.0</td>\n",
       "      <td>0</td>\n",
       "      <td>14.556091</td>\n",
       "    </tr>\n",
       "    <tr>\n",
       "      <th>1250008</th>\n",
       "      <td>558730</td>\n",
       "      <td>201503</td>\n",
       "      <td>0</td>\n",
       "      <td>0</td>\n",
       "      <td>0</td>\n",
       "      <td>0</td>\n",
       "      <td>0</td>\n",
       "      <td>0</td>\n",
       "      <td>0</td>\n",
       "      <td>0</td>\n",
       "      <td>...</td>\n",
       "      <td>0</td>\n",
       "      <td>0</td>\n",
       "      <td>0</td>\n",
       "      <td>0</td>\n",
       "      <td>0</td>\n",
       "      <td>0</td>\n",
       "      <td>0.0</td>\n",
       "      <td>0.0</td>\n",
       "      <td>0</td>\n",
       "      <td>0.000000</td>\n",
       "    </tr>\n",
       "    <tr>\n",
       "      <th>1250010</th>\n",
       "      <td>558684</td>\n",
       "      <td>201503</td>\n",
       "      <td>0</td>\n",
       "      <td>0</td>\n",
       "      <td>1</td>\n",
       "      <td>0</td>\n",
       "      <td>0</td>\n",
       "      <td>0</td>\n",
       "      <td>0</td>\n",
       "      <td>0</td>\n",
       "      <td>...</td>\n",
       "      <td>0</td>\n",
       "      <td>0</td>\n",
       "      <td>0</td>\n",
       "      <td>0</td>\n",
       "      <td>0</td>\n",
       "      <td>0</td>\n",
       "      <td>0.0</td>\n",
       "      <td>0.0</td>\n",
       "      <td>0</td>\n",
       "      <td>14.556091</td>\n",
       "    </tr>\n",
       "  </tbody>\n",
       "</table>\n",
       "<p>5 rows × 27 columns</p>\n",
       "</div>"
      ],
      "text/plain": [
       "         ncodpers  yearmonth  ind_ahor_fin_ult1  ind_aval_fin_ult1  \\\n",
       "1250000    558662     201503                  0                  0   \n",
       "1250004    558631     201503                  0                  0   \n",
       "1250006    558678     201503                  0                  0   \n",
       "1250008    558730     201503                  0                  0   \n",
       "1250010    558684     201503                  0                  0   \n",
       "\n",
       "         ind_cco_fin_ult1  ind_cder_fin_ult1  ind_cno_fin_ult1  \\\n",
       "1250000                 1                  0                 0   \n",
       "1250004                 1                  0                 0   \n",
       "1250006                 1                  0                 0   \n",
       "1250008                 0                  0                 0   \n",
       "1250010                 1                  0                 0   \n",
       "\n",
       "         ind_ctju_fin_ult1  ind_ctma_fin_ult1  ind_ctop_fin_ult1  \\\n",
       "1250000                  0                  0                  0   \n",
       "1250004                  0                  0                  0   \n",
       "1250006                  0                  0                  0   \n",
       "1250008                  0                  0                  0   \n",
       "1250010                  0                  0                  0   \n",
       "\n",
       "             ...       ind_plan_fin_ult1  ind_pres_fin_ult1  \\\n",
       "1250000      ...                       0                  0   \n",
       "1250004      ...                       0                  0   \n",
       "1250006      ...                       0                  0   \n",
       "1250008      ...                       0                  0   \n",
       "1250010      ...                       0                  0   \n",
       "\n",
       "         ind_reca_fin_ult1  ind_tjcr_fin_ult1  ind_valo_fin_ult1  \\\n",
       "1250000                  0                  0                  0   \n",
       "1250004                  0                  0                  0   \n",
       "1250006                  0                  0                  0   \n",
       "1250008                  0                  0                  0   \n",
       "1250010                  0                  0                  0   \n",
       "\n",
       "         ind_viv_fin_ult1  ind_nomina_ult1  ind_nom_pens_ult1  \\\n",
       "1250000                 0              0.0                0.0   \n",
       "1250004                 0              0.0                0.0   \n",
       "1250006                 0              0.0                0.0   \n",
       "1250008                 0              0.0                0.0   \n",
       "1250010                 0              0.0                0.0   \n",
       "\n",
       "         ind_recibo_ult1  target_value  \n",
       "1250000                0     14.556091  \n",
       "1250004                0     14.571595  \n",
       "1250006                0     14.556091  \n",
       "1250008                0      0.000000  \n",
       "1250010                0     14.556091  \n",
       "\n",
       "[5 rows x 27 columns]"
      ]
     },
     "execution_count": 188,
     "metadata": {},
     "output_type": "execute_result"
    }
   ],
   "source": [
    "df.head()"
   ]
  },
  {
   "cell_type": "code",
   "execution_count": 189,
   "metadata": {
    "collapsed": false
   },
   "outputs": [],
   "source": [
    "X = df[df['yearmonth'] == 201503]\n",
    "Y = df[df['yearmonth'] == 201504][TARGET_LABELS]"
   ]
  },
  {
   "cell_type": "code",
   "execution_count": 190,
   "metadata": {
    "collapsed": false
   },
   "outputs": [],
   "source": [
    "def transform_data(X):\n",
    "    date_cols = ['yearmonth', 'ncodpers']\n",
    "    out = X.drop(date_cols, axis=1)\n",
    "    cols = out.columns\n",
    "    out = pd.DataFrame(StandardScaler().fit_transform(out), columns=cols)\n",
    "    return out"
   ]
  },
  {
   "cell_type": "code",
   "execution_count": 191,
   "metadata": {
    "collapsed": false
   },
   "outputs": [],
   "source": [
    "X = transform_data(X)"
   ]
  },
  {
   "cell_type": "code",
   "execution_count": 192,
   "metadata": {
    "collapsed": false
   },
   "outputs": [
    {
     "name": "stdout",
     "output_type": "stream",
     "text": [
      "(79816, 25) (19955, 25) (79816, 24) (19955, 24)\n"
     ]
    }
   ],
   "source": [
    "X_train, X_test, Y_train, Y_test = train_test_split(X, Y, train_size=0.8)\n",
    "print X_train.shape, X_test.shape, Y_train.shape, Y_test.shape"
   ]
  },
  {
   "cell_type": "code",
   "execution_count": 193,
   "metadata": {
    "collapsed": true
   },
   "outputs": [],
   "source": [
    "rf = RandomForestClassifier(n_estimators = 100, n_jobs = -1, verbose = 0)"
   ]
  },
  {
   "cell_type": "code",
   "execution_count": 194,
   "metadata": {
    "collapsed": false
   },
   "outputs": [
    {
     "name": "stdout",
     "output_type": "stream",
     "text": [
      "0.53089606094\n"
     ]
    }
   ],
   "source": [
    "rf.fit(X_train, Y_train)\n",
    "score = rf.score(X_train, Y_train)\n",
    "print score"
   ]
  },
  {
   "cell_type": "code",
   "execution_count": 195,
   "metadata": {
    "collapsed": false
   },
   "outputs": [],
   "source": [
    "Y_pred = rf.predict(X_test)"
   ]
  },
  {
   "cell_type": "code",
   "execution_count": 196,
   "metadata": {
    "collapsed": false
   },
   "outputs": [
    {
     "name": "stdout",
     "output_type": "stream",
     "text": [
      "Number of wrong predictions :  15774.0  from  19955\n"
     ]
    }
   ],
   "source": [
    "print \"Number of wrong predictions : \", (Y_test - Y_pred).sum(1).sum(), \" from \", Y_test.shape[0]"
   ]
  },
  {
   "cell_type": "code",
   "execution_count": 197,
   "metadata": {
    "collapsed": false
   },
   "outputs": [
    {
     "name": "stdout",
     "output_type": "stream",
     "text": [
      "0.0535413012612\n"
     ]
    }
   ],
   "source": [
    "print mean_absolute_error(Y_test, Y_pred)"
   ]
  },
  {
   "cell_type": "code",
   "execution_count": null,
   "metadata": {
    "collapsed": true
   },
   "outputs": [],
   "source": [
    ""
   ]
  },
  {
   "cell_type": "code",
   "execution_count": null,
   "metadata": {
    "collapsed": true
   },
   "outputs": [],
   "source": [
    ""
   ]
  },
  {
   "cell_type": "code",
   "execution_count": null,
   "metadata": {
    "collapsed": true
   },
   "outputs": [],
   "source": [
    ""
   ]
  },
  {
   "cell_type": "code",
   "execution_count": null,
   "metadata": {
    "collapsed": true
   },
   "outputs": [],
   "source": [
    ""
   ]
  },
  {
   "cell_type": "code",
   "execution_count": null,
   "metadata": {
    "collapsed": true
   },
   "outputs": [],
   "source": [
    ""
   ]
  },
  {
   "cell_type": "code",
   "execution_count": 142,
   "metadata": {
    "collapsed": false
   },
   "outputs": [
    {
     "name": "stdout",
     "output_type": "stream",
     "text": [
      "Feature ranking:\n",
      "1. feature 24 'target_value' (0.339995)\n",
      "2. feature 7 'ind_ctop_fin_ult1' (0.132382)\n",
      "3. feature 2 'ind_cco_fin_ult1' (0.050941)\n",
      "4. feature 17 'ind_reca_fin_ult1' (0.042007)\n",
      "5. feature 12 'ind_ecue_fin_ult1' (0.041447)\n",
      "6. feature 18 'ind_tjcr_fin_ult1' (0.040482)\n",
      "7. feature 23 'ind_recibo_ult1' (0.040092)\n",
      "8. feature 8 'ind_ctpp_fin_ult1' (0.038817)\n",
      "9. feature 19 'ind_valo_fin_ult1' (0.038296)\n",
      "10. feature 11 'ind_dela_fin_ult1' (0.036027)\n",
      "11. feature 13 'ind_fond_fin_ult1' (0.033966)\n",
      "12. feature 15 'ind_plan_fin_ult1' (0.029081)\n",
      "13. feature 14 'ind_hip_fin_ult1' (0.022588)\n",
      "14. feature 22 'ind_nom_pens_ult1' (0.022310)\n",
      "15. feature 21 'ind_nomina_ult1' (0.020946)\n",
      "16. feature 4 'ind_cno_fin_ult1' (0.019816)\n",
      "17. feature 20 'ind_viv_fin_ult1' (0.016715)\n",
      "18. feature 6 'ind_ctma_fin_ult1' (0.010269)\n",
      "19. feature 10 'ind_deme_fin_ult1' (0.008388)\n",
      "20. feature 16 'ind_pres_fin_ult1' (0.006663)\n",
      "21. feature 9 'ind_deco_fin_ult1' (0.004510)\n",
      "22. feature 3 'ind_cder_fin_ult1' (0.002273)\n",
      "23. feature 5 'ind_ctju_fin_ult1' (0.001278)\n",
      "24. feature 1 'ind_aval_fin_ult1' (0.000422)\n",
      "25. feature 0 'ind_ahor_fin_ult1' (0.000292)\n"
     ]
    },
    {
     "data": {
      "image/png": "[encoded data removed]",
      "text/plain": [
       "<matplotlib.figure.Figure at 0x157c0c290>"
      ]
     },
     "metadata": {},
     "output_type": "display_data"
    }
   ],
   "source": [
    "importances = rf.feature_importances_\n",
    "std = np.std([tree.feature_importances_ for tree in rf.estimators_],\n",
    "             axis=0)\n",
    "indices = np.argsort(importances)[::-1]\n",
    "print(\"Feature ranking:\")\n",
    "features = X_train.columns.values\n",
    "\n",
    "for f in range(X.shape[1]):\n",
    "    print(\"%d. feature %d '%s' (%f)\" % (f + 1, indices[f], features[indices[f]], importances[indices[f]]))\n",
    "\n",
    "# Plot the feature importances of the forest\n",
    "plt.figure()\n",
    "plt.title(\"Feature importances\")\n",
    "plt.bar(range(X_train.shape[1]), importances[indices],\n",
    "       color=\"r\", yerr=std[indices], align=\"center\")\n",
    "plt.xticks(range(X_train.shape[1]), indices)\n",
    "plt.xlim([-1, X_train.shape[1]])\n",
    "plt.show()"
   ]
  },
  {
   "cell_type": "code",
   "execution_count": null,
   "metadata": {
    "collapsed": true
   },
   "outputs": [],
   "source": [
    ""
   ]
  },
  {
   "cell_type": "code",
   "execution_count": null,
   "metadata": {
    "collapsed": true
   },
   "outputs": [],
   "source": [
    ""
   ]
  },
  {
   "cell_type": "code",
   "execution_count": null,
   "metadata": {
    "collapsed": true
   },
   "outputs": [],
   "source": [
    ""
   ]
  },
  {
   "cell_type": "code",
   "execution_count": null,
   "metadata": {
    "collapsed": true
   },
   "outputs": [],
   "source": [
    ""
   ]
  }
 ],
 "metadata": {
  "kernelspec": {
   "display_name": "Python 2",
   "language": "python",
   "name": "python2"
  },
  "language_info": {
   "codemirror_mode": {
    "name": "ipython",
    "version": 2.0
   },
   "file_extension": ".py",
   "mimetype": "text/x-python",
   "name": "python",
   "nbconvert_exporter": "python",
   "pygments_lexer": "ipython2",
   "version": "2.7.12"
  }
 },
 "nbformat": 4,
 "nbformat_minor": 0
}