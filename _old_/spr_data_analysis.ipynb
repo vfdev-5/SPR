{
 "cells": [
  {
   "cell_type": "markdown",
   "metadata": {},
   "source": [
    "# SPR Data analysis"
   ]
  },
  {
   "cell_type": "code",
   "execution_count": 1,
   "metadata": {
    "collapsed": false
   },
   "outputs": [
    {
     "name": "stderr",
     "output_type": "stream",
     "text": [
      "/usr/local/lib/python2.7/site-packages/matplotlib/font_manager.py:273: UserWarning: Matplotlib is building the font cache using fc-list. This may take a moment.\n",
      "  warnings.warn('Matplotlib is building the font cache using fc-list. This may take a moment.')\n"
     ]
    },
    {
     "name": "stdout",
     "output_type": "stream",
     "text": [
      "Populating the interactive namespace from numpy and matplotlib\n"
     ]
    }
   ],
   "source": [
    "import numpy as np\n",
    "import pandas as pd\n",
    "import seaborn as sns\n",
    "import matplotlib.pyplot as plt\n",
    "%pylab inline\n",
    "pylab.rcParams['figure.figsize'] = (10, 6)\n",
    "color = sns.color_palette()"
   ]
  },
  {
   "cell_type": "markdown",
   "metadata": {},
   "source": [
    "**Dataset Size:**\n",
    "\n",
    "First let us check the number of rows in train and test file :\n",
    "- Number of rows in train :  13'647309\n",
    "- Number of rows in test :  929615\n",
    "- Number of clients (train dataset) : 956645"
   ]
  },
  {
   "cell_type": "markdown",
   "metadata": {},
   "source": [
    "**Dataset columns:**\n",
    "  \n",
    "  \n",
    "Main columns :   \n",
    "\n",
    "- fecha_dato \tThe table is partitioned for this column\n",
    "- ncodpers \tCustomer code\n",
    "- ind_empleado \tEmployee index: A active, B ex employed, F filial, N not employee, P pasive\n",
    "- pais_residencia \tCustomer's Country residence\n",
    "- sexo \tCustomer's sex\n",
    "- age \tAge\n",
    "- fecha_alta \tThe date in which the customer became as the first holder of a contract in the bank\n",
    "- ind_nuevo \tNew customer Index. 1 if the customer registered in the last 6 months.\n",
    "- antiguedad \tCustomer seniority (in months)\n",
    "- indrel \t1 (First/Primary), 99 (Primary customer during the month but not at the end of the month)\n",
    "- ult_fec_cli_1t \tLast date as primary customer (if he isn't at the end of the month)\n",
    "- indrel_1mes \tCustomer type at the beginning of the month ,1 (First/Primary customer), 2 (co-owner ),P (Potential),3 (former primary), 4(former co-owner)\n",
    "- tiprel_1mes \tCustomer relation type at the beginning of the month, A (active), I (inactive), P (former customer),R (Potential)\n",
    "- indresi \tResidence index (S (Yes) or N (No) if the residence country is the same than the bank country)\n",
    "- indext \tForeigner index (S (Yes) or N (No) if the customer's birth country is different than the bank country)\n",
    "- conyuemp \tSpouse index. 1 if the customer is spouse of an employee\n",
    "- canal_entrada \tchannel used by the customer to join\n",
    "- indfall \tDeceased index. N/S\n",
    "- tipodom \tAddres type. 1, primary address\n",
    "- cod_prov \tProvince code (customer's address)\n",
    "- nomprov \tProvince name\n",
    "- ind_actividad_cliente \tActivity index (1, active customer; 0, inactive customer)\n",
    "- renta \tGross income of the household\n",
    "- segmento \tsegmentation: 01 - VIP, 02 - Individuals 03 - college graduated    \n",
    "    \n",
    "    \n",
    "target columns : \n",
    "    \n",
    "- ind_ahor_fin_ult1 \tSaving Account\n",
    "- ind_aval_fin_ult1 \tGuarantees\n",
    "- ind_cco_fin_ult1 \tCurrent Accounts\n",
    "- ind_cder_fin_ult1 \tDerivada Account\n",
    "- ind_cno_fin_ult1 \tPayroll Account\n",
    "- ind_ctju_fin_ult1 \tJunior Account\n",
    "- ind_ctma_fin_ult1 \tMás particular Account\n",
    "- ind_ctop_fin_ult1 \tparticular Account\n",
    "- ind_ctpp_fin_ult1 \tparticular Plus Account\n",
    "- ind_deco_fin_ult1 \tShort-term deposits\n",
    "- ind_deme_fin_ult1 \tMedium-term deposits\n",
    "- ind_dela_fin_ult1 \tLong-term deposits\n",
    "- ind_ecue_fin_ult1 \te-account\n",
    "- ind_fond_fin_ult1 \tFunds\n",
    "- ind_hip_fin_ult1 \t    Mortgage\n",
    "- ind_plan_fin_ult1 \tPensions\n",
    "- ind_pres_fin_ult1 \tLoans\n",
    "- ind_reca_fin_ult1 \tTaxes\n",
    "- ind_tjcr_fin_ult1 \tCredit Card\n",
    "- ind_valo_fin_ult1 \tSecurities\n",
    "- ind_viv_fin_ult1 \tHome Account\n",
    "- ind_nomina_ult1 \tPayroll\n",
    "- ind_nom_pens_ult1 \tPensions\n",
    "- ind_recibo_ult1 \tDirect Debit    \n",
    "    "
   ]
  },
  {
   "cell_type": "code",
   "execution_count": 2,
   "metadata": {
    "collapsed": true
   },
   "outputs": [],
   "source": [
    "TARGET_LABELS = ['ind_ahor_fin_ult1', 'ind_aval_fin_ult1', 'ind_cco_fin_ult1',\n",
    " 'ind_cder_fin_ult1', 'ind_cno_fin_ult1', 'ind_ctju_fin_ult1',\n",
    " 'ind_ctma_fin_ult1', 'ind_ctop_fin_ult1', 'ind_ctpp_fin_ult1',\n",
    " 'ind_deco_fin_ult1', 'ind_deme_fin_ult1', 'ind_dela_fin_ult1',\n",
    " 'ind_ecue_fin_ult1', 'ind_fond_fin_ult1', 'ind_hip_fin_ult1',\n",
    " 'ind_plan_fin_ult1', 'ind_pres_fin_ult1', 'ind_reca_fin_ult1',\n",
    " 'ind_tjcr_fin_ult1', 'ind_valo_fin_ult1', 'ind_viv_fin_ult1',\n",
    " 'ind_nomina_ult1', 'ind_nom_pens_ult1', 'ind_recibo_ult1']\n",
    "\n",
    "#TARGET_LABELS = [column for column in train.columns if column.endswith('ult1')]"
   ]
  },
  {
   "cell_type": "markdown",
   "metadata": {},
   "source": [
    "## Data stats: data per month representations"
   ]
  },
  {
   "cell_type": "code",
   "execution_count": 3,
   "metadata": {
    "collapsed": false
   },
   "outputs": [],
   "source": [
    "data_path = \"data/\"\n",
    "train = pd.read_csv(data_path+\"train_ver2.csv\", usecols=['fecha_dato', 'ncodpers'], parse_dates=['fecha_dato'])"
   ]
  },
  {
   "cell_type": "markdown",
   "metadata": {},
   "source": [
    "Number of clients"
   ]
  },
  {
   "cell_type": "code",
   "execution_count": 4,
   "metadata": {
    "collapsed": false
   },
   "outputs": [
    {
     "data": {
      "text/plain": [
       "956645"
      ]
     },
     "execution_count": 4,
     "metadata": {},
     "output_type": "execute_result"
    }
   ],
   "source": [
    "len(train['ncodpers'].unique())"
   ]
  },
  {
   "cell_type": "markdown",
   "metadata": {},
   "source": [
    "Setup month start/end row indices"
   ]
  },
  {
   "cell_type": "code",
   "execution_count": 5,
   "metadata": {
    "collapsed": false
   },
   "outputs": [],
   "source": [
    "gb = train.groupby('fecha_dato')\n",
    "data_count_per_month = gb.agg('size')"
   ]
  },
  {
   "cell_type": "code",
   "execution_count": 6,
   "metadata": {
    "collapsed": false
   },
   "outputs": [
    {
     "data": {
      "text/plain": [
       "{Timestamp('2015-01-28 00:00:00'): [0, 625456],\n",
       " Timestamp('2015-02-28 00:00:00'): [625457, 1252850],\n",
       " Timestamp('2015-03-28 00:00:00'): [1252851, 1882059],\n",
       " Timestamp('2015-04-28 00:00:00'): [1882060, 2512426],\n",
       " Timestamp('2015-05-28 00:00:00'): [2512427, 3144383],\n",
       " Timestamp('2015-06-28 00:00:00'): [3144384, 3776493],\n",
       " Timestamp('2015-07-28 00:00:00'): [3776494, 4606310],\n",
       " Timestamp('2015-08-28 00:00:00'): [4606311, 5449511],\n",
       " Timestamp('2015-09-28 00:00:00'): [5449512, 6314951],\n",
       " Timestamp('2015-10-28 00:00:00'): [6314952, 7207202],\n",
       " Timestamp('2015-11-28 00:00:00'): [7207203, 8113311],\n",
       " Timestamp('2015-12-28 00:00:00'): [8113312, 9025332],\n",
       " Timestamp('2016-01-28 00:00:00'): [9025333, 9941601],\n",
       " Timestamp('2016-02-28 00:00:00'): [9941602, 10862505],\n",
       " Timestamp('2016-03-28 00:00:00'): [10862506, 11787581],\n",
       " Timestamp('2016-04-28 00:00:00'): [11787582, 12715855],\n",
       " Timestamp('2016-05-28 00:00:00'): [12715856, 13647308]}"
      ]
     },
     "execution_count": 6,
     "metadata": {},
     "output_type": "execute_result"
    }
   ],
   "source": [
    "month_start_end_row_indices = {}\n",
    "for key, group_value in gb:\n",
    "    month_start_end_row_indices[key] = [group_value.index[0], group_value.index[-1]]\n",
    "    \n",
    "month_start_end_row_indices    "
   ]
  },
  {
   "cell_type": "code",
   "execution_count": 7,
   "metadata": {
    "collapsed": false,
    "scrolled": false
   },
   "outputs": [
    {
     "data": {
      "image/png": "[encoded data removed]",
      "text/plain": [
       "<matplotlib.figure.Figure at 0x10e1a6450>"
      ]
     },
     "metadata": {},
     "output_type": "display_data"
    }
   ],
   "source": [
    "plt.figure(figsize=(12,4))\n",
    "\n",
    "#values = np.log((data_count_per_month.values - np.min(data_count_per_month.values)) + 1)\n",
    "values = data_count_per_month.values\n",
    "\n",
    "sns.barplot(data_count_per_month.index, values, alpha=0.8, color=color[2])\n",
    "plt.ylabel('Data quantity, counts', fontsize=12)\n",
    "plt.xlabel('Data time span, months', fontsize=12)\n",
    "plt.xticks(rotation='vertical')\n",
    "plt.show()"
   ]
  },
  {
   "cell_type": "code",
   "execution_count": 8,
   "metadata": {
    "collapsed": true
   },
   "outputs": [],
   "source": [
    "del train\n",
    "del gb"
   ]
  },
  {
   "cell_type": "markdown",
   "metadata": {},
   "source": [
    "### Analyse a month"
   ]
  },
  {
   "cell_type": "markdown",
   "metadata": {},
   "source": [
    "Read a month"
   ]
  },
  {
   "cell_type": "code",
   "execution_count": 9,
   "metadata": {
    "collapsed": true
   },
   "outputs": [],
   "source": [
    "month_key=pd.Timestamp('2015-01-28 00:00:00')"
   ]
  },
  {
   "cell_type": "code",
   "execution_count": 10,
   "metadata": {
    "collapsed": false
   },
   "outputs": [
    {
     "name": "stderr",
     "output_type": "stream",
     "text": [
      "/usr/local/lib/python2.7/site-packages/IPython/core/interactiveshell.py:2705: DtypeWarning: Columns (15) have mixed types. Specify dtype option on import or set low_memory=False.\n",
      "  interactivity=interactivity, compiler=compiler, result=result)\n"
     ]
    }
   ],
   "source": [
    "skiprows = month_start_end_row_indices[month_key][0]\n",
    "nrows = month_start_end_row_indices[month_key][1] - skiprows + 1\n",
    "train_month = pd.read_csv(data_path+\"train_ver2.csv\", skiprows=range(1, skiprows+1), nrows=nrows)"
   ]
  },
  {
   "cell_type": "code",
   "execution_count": 11,
   "metadata": {
    "collapsed": false
   },
   "outputs": [
    {
     "name": "stderr",
     "output_type": "stream",
     "text": [
      "/usr/local/lib/python2.7/site-packages/numpy/lib/function_base.py:3834: RuntimeWarning: Invalid value encountered in percentile\n",
      "  RuntimeWarning)\n"
     ]
    },
    {
     "data": {
      "text/html": [
       "<div>\n",
       "<table border=\"1\" class=\"dataframe\">\n",
       "  <thead>\n",
       "    <tr style=\"text-align: right;\">\n",
       "      <th></th>\n",
       "      <th>ncodpers</th>\n",
       "      <th>ind_nuevo</th>\n",
       "      <th>indrel</th>\n",
       "      <th>indrel_1mes</th>\n",
       "      <th>tipodom</th>\n",
       "      <th>cod_prov</th>\n",
       "      <th>ind_actividad_cliente</th>\n",
       "      <th>renta</th>\n",
       "      <th>ind_ahor_fin_ult1</th>\n",
       "      <th>ind_aval_fin_ult1</th>\n",
       "      <th>...</th>\n",
       "      <th>ind_hip_fin_ult1</th>\n",
       "      <th>ind_plan_fin_ult1</th>\n",
       "      <th>ind_pres_fin_ult1</th>\n",
       "      <th>ind_reca_fin_ult1</th>\n",
       "      <th>ind_tjcr_fin_ult1</th>\n",
       "      <th>ind_valo_fin_ult1</th>\n",
       "      <th>ind_viv_fin_ult1</th>\n",
       "      <th>ind_nomina_ult1</th>\n",
       "      <th>ind_nom_pens_ult1</th>\n",
       "      <th>ind_recibo_ult1</th>\n",
       "    </tr>\n",
       "  </thead>\n",
       "  <tbody>\n",
       "    <tr>\n",
       "      <th>count</th>\n",
       "      <td>6.254570e+05</td>\n",
       "      <td>618504.000000</td>\n",
       "      <td>618504.000000</td>\n",
       "      <td>618504.000000</td>\n",
       "      <td>618504.0</td>\n",
       "      <td>614826.000000</td>\n",
       "      <td>618504.000000</td>\n",
       "      <td>5.138790e+05</td>\n",
       "      <td>625457.000000</td>\n",
       "      <td>625457.000000</td>\n",
       "      <td>...</td>\n",
       "      <td>625457.000000</td>\n",
       "      <td>625457.000000</td>\n",
       "      <td>625457.000000</td>\n",
       "      <td>625457.000000</td>\n",
       "      <td>625457.000000</td>\n",
       "      <td>625457.000000</td>\n",
       "      <td>625457.000000</td>\n",
       "      <td>622346.000000</td>\n",
       "      <td>622346.000000</td>\n",
       "      <td>625457.000000</td>\n",
       "    </tr>\n",
       "    <tr>\n",
       "      <th>mean</th>\n",
       "      <td>7.763354e+05</td>\n",
       "      <td>0.000296</td>\n",
       "      <td>1.120895</td>\n",
       "      <td>1.000095</td>\n",
       "      <td>1.0</td>\n",
       "      <td>26.669173</td>\n",
       "      <td>0.537777</td>\n",
       "      <td>1.345990e+05</td>\n",
       "      <td>0.000141</td>\n",
       "      <td>0.000030</td>\n",
       "      <td>...</td>\n",
       "      <td>0.008005</td>\n",
       "      <td>0.011879</td>\n",
       "      <td>0.003756</td>\n",
       "      <td>0.061216</td>\n",
       "      <td>0.056939</td>\n",
       "      <td>0.032397</td>\n",
       "      <td>0.005171</td>\n",
       "      <td>0.062658</td>\n",
       "      <td>0.069625</td>\n",
       "      <td>0.152850</td>\n",
       "    </tr>\n",
       "    <tr>\n",
       "      <th>std</th>\n",
       "      <td>4.055675e+05</td>\n",
       "      <td>0.017198</td>\n",
       "      <td>3.439928</td>\n",
       "      <td>0.013753</td>\n",
       "      <td>0.0</td>\n",
       "      <td>12.676776</td>\n",
       "      <td>0.498571</td>\n",
       "      <td>2.257587e+05</td>\n",
       "      <td>0.011861</td>\n",
       "      <td>0.005512</td>\n",
       "      <td>...</td>\n",
       "      <td>0.089114</td>\n",
       "      <td>0.108343</td>\n",
       "      <td>0.061168</td>\n",
       "      <td>0.239726</td>\n",
       "      <td>0.231727</td>\n",
       "      <td>0.177053</td>\n",
       "      <td>0.071721</td>\n",
       "      <td>0.242347</td>\n",
       "      <td>0.254515</td>\n",
       "      <td>0.359843</td>\n",
       "    </tr>\n",
       "    <tr>\n",
       "      <th>min</th>\n",
       "      <td>1.588900e+04</td>\n",
       "      <td>0.000000</td>\n",
       "      <td>1.000000</td>\n",
       "      <td>1.000000</td>\n",
       "      <td>1.0</td>\n",
       "      <td>1.000000</td>\n",
       "      <td>0.000000</td>\n",
       "      <td>1.202730e+03</td>\n",
       "      <td>0.000000</td>\n",
       "      <td>0.000000</td>\n",
       "      <td>...</td>\n",
       "      <td>0.000000</td>\n",
       "      <td>0.000000</td>\n",
       "      <td>0.000000</td>\n",
       "      <td>0.000000</td>\n",
       "      <td>0.000000</td>\n",
       "      <td>0.000000</td>\n",
       "      <td>0.000000</td>\n",
       "      <td>0.000000</td>\n",
       "      <td>0.000000</td>\n",
       "      <td>0.000000</td>\n",
       "    </tr>\n",
       "    <tr>\n",
       "      <th>25%</th>\n",
       "      <td>4.137720e+05</td>\n",
       "      <td>NaN</td>\n",
       "      <td>NaN</td>\n",
       "      <td>NaN</td>\n",
       "      <td>NaN</td>\n",
       "      <td>NaN</td>\n",
       "      <td>NaN</td>\n",
       "      <td>NaN</td>\n",
       "      <td>0.000000</td>\n",
       "      <td>0.000000</td>\n",
       "      <td>...</td>\n",
       "      <td>0.000000</td>\n",
       "      <td>0.000000</td>\n",
       "      <td>0.000000</td>\n",
       "      <td>0.000000</td>\n",
       "      <td>0.000000</td>\n",
       "      <td>0.000000</td>\n",
       "      <td>0.000000</td>\n",
       "      <td>NaN</td>\n",
       "      <td>NaN</td>\n",
       "      <td>0.000000</td>\n",
       "    </tr>\n",
       "    <tr>\n",
       "      <th>50%</th>\n",
       "      <td>8.739230e+05</td>\n",
       "      <td>NaN</td>\n",
       "      <td>NaN</td>\n",
       "      <td>NaN</td>\n",
       "      <td>NaN</td>\n",
       "      <td>NaN</td>\n",
       "      <td>NaN</td>\n",
       "      <td>NaN</td>\n",
       "      <td>0.000000</td>\n",
       "      <td>0.000000</td>\n",
       "      <td>...</td>\n",
       "      <td>0.000000</td>\n",
       "      <td>0.000000</td>\n",
       "      <td>0.000000</td>\n",
       "      <td>0.000000</td>\n",
       "      <td>0.000000</td>\n",
       "      <td>0.000000</td>\n",
       "      <td>0.000000</td>\n",
       "      <td>NaN</td>\n",
       "      <td>NaN</td>\n",
       "      <td>0.000000</td>\n",
       "    </tr>\n",
       "    <tr>\n",
       "      <th>75%</th>\n",
       "      <td>1.133417e+06</td>\n",
       "      <td>NaN</td>\n",
       "      <td>NaN</td>\n",
       "      <td>NaN</td>\n",
       "      <td>NaN</td>\n",
       "      <td>NaN</td>\n",
       "      <td>NaN</td>\n",
       "      <td>NaN</td>\n",
       "      <td>0.000000</td>\n",
       "      <td>0.000000</td>\n",
       "      <td>...</td>\n",
       "      <td>0.000000</td>\n",
       "      <td>0.000000</td>\n",
       "      <td>0.000000</td>\n",
       "      <td>0.000000</td>\n",
       "      <td>0.000000</td>\n",
       "      <td>0.000000</td>\n",
       "      <td>0.000000</td>\n",
       "      <td>NaN</td>\n",
       "      <td>NaN</td>\n",
       "      <td>0.000000</td>\n",
       "    </tr>\n",
       "    <tr>\n",
       "      <th>max</th>\n",
       "      <td>1.379131e+06</td>\n",
       "      <td>1.000000</td>\n",
       "      <td>99.000000</td>\n",
       "      <td>3.000000</td>\n",
       "      <td>1.0</td>\n",
       "      <td>52.000000</td>\n",
       "      <td>1.000000</td>\n",
       "      <td>2.889440e+07</td>\n",
       "      <td>1.000000</td>\n",
       "      <td>1.000000</td>\n",
       "      <td>...</td>\n",
       "      <td>1.000000</td>\n",
       "      <td>1.000000</td>\n",
       "      <td>1.000000</td>\n",
       "      <td>1.000000</td>\n",
       "      <td>1.000000</td>\n",
       "      <td>1.000000</td>\n",
       "      <td>1.000000</td>\n",
       "      <td>1.000000</td>\n",
       "      <td>1.000000</td>\n",
       "      <td>1.000000</td>\n",
       "    </tr>\n",
       "  </tbody>\n",
       "</table>\n",
       "<p>8 rows × 32 columns</p>\n",
       "</div>"
      ],
      "text/plain": [
       "           ncodpers      ind_nuevo         indrel    indrel_1mes   tipodom  \\\n",
       "count  6.254570e+05  618504.000000  618504.000000  618504.000000  618504.0   \n",
       "mean   7.763354e+05       0.000296       1.120895       1.000095       1.0   \n",
       "std    4.055675e+05       0.017198       3.439928       0.013753       0.0   \n",
       "min    1.588900e+04       0.000000       1.000000       1.000000       1.0   \n",
       "25%    4.137720e+05            NaN            NaN            NaN       NaN   \n",
       "50%    8.739230e+05            NaN            NaN            NaN       NaN   \n",
       "75%    1.133417e+06            NaN            NaN            NaN       NaN   \n",
       "max    1.379131e+06       1.000000      99.000000       3.000000       1.0   \n",
       "\n",
       "            cod_prov  ind_actividad_cliente         renta  ind_ahor_fin_ult1  \\\n",
       "count  614826.000000          618504.000000  5.138790e+05      625457.000000   \n",
       "mean       26.669173               0.537777  1.345990e+05           0.000141   \n",
       "std        12.676776               0.498571  2.257587e+05           0.011861   \n",
       "min         1.000000               0.000000  1.202730e+03           0.000000   \n",
       "25%              NaN                    NaN           NaN           0.000000   \n",
       "50%              NaN                    NaN           NaN           0.000000   \n",
       "75%              NaN                    NaN           NaN           0.000000   \n",
       "max        52.000000               1.000000  2.889440e+07           1.000000   \n",
       "\n",
       "       ind_aval_fin_ult1       ...         ind_hip_fin_ult1  \\\n",
       "count      625457.000000       ...            625457.000000   \n",
       "mean            0.000030       ...                 0.008005   \n",
       "std             0.005512       ...                 0.089114   \n",
       "min             0.000000       ...                 0.000000   \n",
       "25%             0.000000       ...                 0.000000   \n",
       "50%             0.000000       ...                 0.000000   \n",
       "75%             0.000000       ...                 0.000000   \n",
       "max             1.000000       ...                 1.000000   \n",
       "\n",
       "       ind_plan_fin_ult1  ind_pres_fin_ult1  ind_reca_fin_ult1  \\\n",
       "count      625457.000000      625457.000000      625457.000000   \n",
       "mean            0.011879           0.003756           0.061216   \n",
       "std             0.108343           0.061168           0.239726   \n",
       "min             0.000000           0.000000           0.000000   \n",
       "25%             0.000000           0.000000           0.000000   \n",
       "50%             0.000000           0.000000           0.000000   \n",
       "75%             0.000000           0.000000           0.000000   \n",
       "max             1.000000           1.000000           1.000000   \n",
       "\n",
       "       ind_tjcr_fin_ult1  ind_valo_fin_ult1  ind_viv_fin_ult1  \\\n",
       "count      625457.000000      625457.000000     625457.000000   \n",
       "mean            0.056939           0.032397          0.005171   \n",
       "std             0.231727           0.177053          0.071721   \n",
       "min             0.000000           0.000000          0.000000   \n",
       "25%             0.000000           0.000000          0.000000   \n",
       "50%             0.000000           0.000000          0.000000   \n",
       "75%             0.000000           0.000000          0.000000   \n",
       "max             1.000000           1.000000          1.000000   \n",
       "\n",
       "       ind_nomina_ult1  ind_nom_pens_ult1  ind_recibo_ult1  \n",
       "count    622346.000000      622346.000000    625457.000000  \n",
       "mean          0.062658           0.069625         0.152850  \n",
       "std           0.242347           0.254515         0.359843  \n",
       "min           0.000000           0.000000         0.000000  \n",
       "25%                NaN                NaN         0.000000  \n",
       "50%                NaN                NaN         0.000000  \n",
       "75%                NaN                NaN         0.000000  \n",
       "max           1.000000           1.000000         1.000000  \n",
       "\n",
       "[8 rows x 32 columns]"
      ]
     },
     "execution_count": 11,
     "metadata": {},
     "output_type": "execute_result"
    }
   ],
   "source": [
    "month_full_stats = train_month.describe()\n",
    "month_full_stats"
   ]
  },
  {
   "cell_type": "code",
   "execution_count": 12,
   "metadata": {
    "collapsed": false
   },
   "outputs": [
    {
     "name": "stdout",
     "output_type": "stream",
     "text": [
      "indrel_1mes conyuemp\n"
     ]
    }
   ],
   "source": [
    "print train_month.columns.values[11], train_month.columns.values[15]"
   ]
  },
  {
   "cell_type": "code",
   "execution_count": 13,
   "metadata": {
    "collapsed": true
   },
   "outputs": [],
   "source": [
    "train_month[\"fecha_dato\"] = pd.to_datetime(train_month[\"fecha_dato\"],format=\"%Y-%m-%d\")\n",
    "train_month[\"fecha_alta\"] = pd.to_datetime(train_month[\"fecha_alta\"],format=\"%Y-%m-%d\")\n",
    "train_month[\"age\"] = pd.to_numeric(train_month[\"age\"], errors=\"coerce\")"
   ]
  },
  {
   "cell_type": "code",
   "execution_count": 14,
   "metadata": {
    "collapsed": false,
    "scrolled": true
   },
   "outputs": [
    {
     "data": {
      "text/plain": [
       "fecha_dato               False\n",
       "ncodpers                 False\n",
       "ind_empleado              True\n",
       "pais_residencia           True\n",
       "sexo                      True\n",
       "age                       True\n",
       "fecha_alta                True\n",
       "ind_nuevo                 True\n",
       "antiguedad               False\n",
       "indrel                    True\n",
       "ult_fec_cli_1t            True\n",
       "indrel_1mes               True\n",
       "tiprel_1mes               True\n",
       "indresi                   True\n",
       "indext                    True\n",
       "conyuemp                  True\n",
       "canal_entrada             True\n",
       "indfall                   True\n",
       "tipodom                   True\n",
       "cod_prov                  True\n",
       "nomprov                   True\n",
       "ind_actividad_cliente     True\n",
       "renta                     True\n",
       "segmento                  True\n",
       "ind_ahor_fin_ult1        False\n",
       "ind_aval_fin_ult1        False\n",
       "ind_cco_fin_ult1         False\n",
       "ind_cder_fin_ult1        False\n",
       "ind_cno_fin_ult1         False\n",
       "ind_ctju_fin_ult1        False\n",
       "ind_ctma_fin_ult1        False\n",
       "ind_ctop_fin_ult1        False\n",
       "ind_ctpp_fin_ult1        False\n",
       "ind_deco_fin_ult1        False\n",
       "ind_deme_fin_ult1        False\n",
       "ind_dela_fin_ult1        False\n",
       "ind_ecue_fin_ult1        False\n",
       "ind_fond_fin_ult1        False\n",
       "ind_hip_fin_ult1         False\n",
       "ind_plan_fin_ult1        False\n",
       "ind_pres_fin_ult1        False\n",
       "ind_reca_fin_ult1        False\n",
       "ind_tjcr_fin_ult1        False\n",
       "ind_valo_fin_ult1        False\n",
       "ind_viv_fin_ult1         False\n",
       "ind_nomina_ult1           True\n",
       "ind_nom_pens_ult1         True\n",
       "ind_recibo_ult1          False\n",
       "dtype: bool"
      ]
     },
     "execution_count": 14,
     "metadata": {},
     "output_type": "execute_result"
    }
   ],
   "source": [
    "train_month.isnull().any()"
   ]
  },
  {
   "cell_type": "code",
   "execution_count": 15,
   "metadata": {
    "collapsed": false
   },
   "outputs": [
    {
     "name": "stdout",
     "output_type": "stream",
     "text": [
      "Unique values for ind_empleado:\n",
      "['N' nan 'A' 'B' 'F' 'S']\n",
      "\n",
      "Unique values for pais_residencia:\n",
      "['ES' nan 'CA' 'CH' 'CL' 'IE' 'AT' 'NL' 'FR' 'GB' 'DE' 'DO' 'BE' 'AR' 'VE'\n",
      " 'US' 'MX' 'BR' 'IT' 'EC' 'PE' 'CO' 'HN' 'FI' 'SE' 'AL' 'PT' 'MZ' 'CN' 'TW'\n",
      " 'PL' 'IN' 'CR' 'NI' 'HK' 'AD' 'CZ' 'AE' 'MA' 'GR' 'PR' 'RO' 'IL' 'RU' 'GT'\n",
      " 'GA' 'NO' 'SN' 'MR' 'UA' 'BG' 'PY' 'EE' 'SV' 'ET' 'CM' 'SA' 'CI' 'QA' 'LU'\n",
      " 'PA' 'BA' 'BO' 'AU' 'BY' 'KE' 'SG' 'HR' 'MD' 'SK' 'TR' 'AO' 'CU' 'GQ' 'EG'\n",
      " 'ZA' 'DK' 'UY' 'GE' 'TH' 'DZ' 'LB' 'JP' 'NG' 'PK' 'TN' 'TG' 'KR' 'GH' 'RS'\n",
      " 'VN' 'PH' 'KW' 'NZ' 'MM' 'KH' 'GI' 'SL' 'GN' 'GW' 'OM' 'CG' 'LV' 'LT' 'ML'\n",
      " 'MK' 'HU' 'IS' 'LY' 'CF' 'GM' 'KZ' 'CD' 'BZ']\n",
      "\n",
      "Unique values for sexo:\n",
      "['H' 'V' nan]\n",
      "\n",
      "Unique values for ult_fec_cli_1t:\n",
      "[nan '2015-07-02' '2015-07-23' '2015-07-06' '2015-07-30' '2015-07-20'\n",
      " '2015-07-08' '2015-07-22' '2015-07-17' '2015-07-09' '2015-07-03'\n",
      " '2015-07-29' '2015-07-13' '2015-07-21' '2015-07-27' '2015-07-14'\n",
      " '2015-07-01' '2015-07-24' '2015-07-15' '2015-07-16' '2015-07-28'\n",
      " '2015-07-07' '2015-07-10']\n",
      "\n",
      "Unique values for tiprel_1mes:\n",
      "['A' 'I' nan 'P']\n",
      "\n",
      "Unique values for indresi:\n",
      "['S' nan 'N']\n",
      "\n",
      "Unique values for indext:\n",
      "['N' 'S' nan]\n",
      "\n",
      "Unique values for conyuemp:\n",
      "[nan 'N' 'S']\n",
      "\n",
      "Unique values for canal_entrada:\n",
      "['KHL' 'KHE' 'KHD' 'KFA' 'KFC' 'KAT' nan 'KAZ' 'RED' 'KHC' 'KHK' 'KGN'\n",
      " 'KHM' 'KHO' 'KDH' 'KEH' 'KAD' 'KBG' 'KGC' 'KHF' 'KFK' 'KHN' 'KHA' 'KAF'\n",
      " 'KGX' 'KFD' 'KAG' 'KFG' 'KAB' 'KCC' 'KAE' 'KAH' 'KAR' 'KFJ' 'KFL' 'KAI'\n",
      " 'KFU' 'KAQ' 'KFS' 'KAA' 'KFP' 'KAJ' 'KFN' 'KGV' 'KGY' 'KFF' 'KAP' 'KDE'\n",
      " 'KFV' '013' 'K00' 'KAK' 'KCK' 'KCL' 'KAY' 'KBU' 'KDR' 'KAC' 'KDT' 'KCG'\n",
      " 'KDO' 'KDY' 'KBQ' 'KDA' 'KBO' 'KCI' 'KEC' 'KBZ' 'KES' 'KDX' 'KAS' '007'\n",
      " 'KEU' 'KCA' 'KAL' 'KDC' 'KAW' 'KCS' 'KCB' 'KDU' 'KDQ' 'KCN' 'KCM' '004'\n",
      " 'KCH' 'KCD' 'KCE' 'KEV' 'KBL' 'KEA' 'KBH' 'KDV' 'KFT' 'KEY' 'KAO' 'KEJ'\n",
      " 'KEO' 'KEI' 'KEW' 'KDZ' 'KBV' 'KBR' 'KBF' 'KDP' 'KCO' 'KCF' 'KCV' 'KAM'\n",
      " 'KEZ' 'KBD' 'KAN' 'KBY' 'KCT' 'KDD' 'KBW' 'KCU' 'KBX' 'KDB' 'KBS' 'KBE'\n",
      " 'KCX' 'KBP' 'KBN' 'KEB' 'KDS' 'KEL' 'KDG' 'KDF' 'KEF' 'KCP' 'KDM' 'KBB'\n",
      " 'KDW' 'KBJ' 'KFI' 'KBM' 'KEG' 'KEN' 'KEQ' 'KAV' 'KFH' 'KFM' 'KAU' 'KED'\n",
      " 'KFR' 'KEK' 'KFB' 'KGW' 'KFE' 'KGU' 'KDI' 'KDN' 'KEE' 'KCR' 'KCQ' 'KEM'\n",
      " 'KCJ']\n",
      "\n",
      "Unique values for indfall:\n",
      "['N' nan 'S']\n",
      "\n",
      "Unique values for nomprov:\n",
      "['MALAGA' 'CIUDAD REAL' 'ZARAGOZA' 'TOLEDO' 'LEON' 'GIPUZKOA' 'CACERES'\n",
      " 'GIRONA' 'ZAMORA' 'BARCELONA' 'SALAMANCA' 'BURGOS' 'HUESCA' 'NAVARRA'\n",
      " 'AVILA' 'SEGOVIA' 'LUGO' 'LERIDA' 'MADRID' 'ALICANTE' 'SORIA' 'SEVILLA'\n",
      " 'CANTABRIA' 'BALEARS, ILLES' 'VALLADOLID' 'PONTEVEDRA' 'VALENCIA' 'TERUEL'\n",
      " 'CORU\\xc3\\x91A, A' 'OURENSE' 'JAEN' 'CUENCA' 'BIZKAIA' 'CASTELLON'\n",
      " 'RIOJA, LA' 'ALBACETE' 'BADAJOZ' 'MURCIA' 'CADIZ' nan 'ALMERIA'\n",
      " 'GUADALAJARA' 'PALENCIA' 'PALMAS, LAS' 'CORDOBA' 'HUELVA' 'GRANADA'\n",
      " 'ASTURIAS' 'SANTA CRUZ DE TENERIFE' 'MELILLA' 'TARRAGONA' 'ALAVA' 'CEUTA']\n",
      "\n",
      "Unique values for segmento:\n",
      "['02 - PARTICULARES' '03 - UNIVERSITARIO' nan '01 - TOP']\n",
      "\n"
     ]
    }
   ],
   "source": [
    "string_data = train_month.select_dtypes(include=[\"object\"])\n",
    "missing_columns = [col for col in string_data if string_data[col].isnull().any()]\n",
    "for col in missing_columns:\n",
    "    print(\"Unique values for {0}:\\n{1}\\n\".format(col,string_data[col].unique()))\n",
    "del string_data"
   ]
  },
  {
   "cell_type": "markdown",
   "metadata": {
    "collapsed": true
   },
   "source": [
    "### Load test dataset"
   ]
  },
  {
   "cell_type": "code",
   "execution_count": 16,
   "metadata": {
    "collapsed": false
   },
   "outputs": [],
   "source": [
    "#data_path = \"data/\"\n",
    "#test = pd.read_csv(data_path+\"test_ver2.csv\")"
   ]
  },
  {
   "cell_type": "code",
   "execution_count": null,
   "metadata": {
    "collapsed": true
   },
   "outputs": [],
   "source": []
  },
  {
   "cell_type": "markdown",
   "metadata": {},
   "source": [
    "### Data Cleaning"
   ]
  },
  {
   "cell_type": "code",
   "execution_count": 16,
   "metadata": {
    "collapsed": true
   },
   "outputs": [],
   "source": [
    "df = train_month\n",
    "#df = test"
   ]
  },
  {
   "cell_type": "markdown",
   "metadata": {},
   "source": [
    "There are some 'unknown' users in train dataset only"
   ]
  },
  {
   "cell_type": "code",
   "execution_count": 17,
   "metadata": {
    "collapsed": false
   },
   "outputs": [
    {
     "name": "stdout",
     "output_type": "stream",
     "text": [
      "6955 6953 6953 6953 6953\n"
     ]
    }
   ],
   "source": [
    "print np.sum(df['sexo'].isnull()), np.sum(df['pais_residencia'].isnull()), np.sum(df['ind_empleado'].isnull()), np.sum(df['age'].isnull()), np.sum(df['fecha_alta'].isnull())\n"
   ]
  },
  {
   "cell_type": "code",
   "execution_count": 18,
   "metadata": {
    "collapsed": false
   },
   "outputs": [],
   "source": [
    "unknown_users = df['sexo'].isnull() & df['age'].isnull() & df['ind_empleado'].isnull() & df['fecha_alta'].isnull() & df['pais_residencia'].isnull()"
   ]
  },
  {
   "cell_type": "code",
   "execution_count": 19,
   "metadata": {
    "collapsed": false
   },
   "outputs": [
    {
     "data": {
      "text/plain": [
       "6953"
      ]
     },
     "execution_count": 19,
     "metadata": {},
     "output_type": "execute_result"
    }
   ],
   "source": [
    "np.sum(unknown_users)"
   ]
  },
  {
   "cell_type": "code",
   "execution_count": 20,
   "metadata": {
    "collapsed": false
   },
   "outputs": [
    {
     "data": {
      "text/html": [
       "<div>\n",
       "<table border=\"1\" class=\"dataframe\">\n",
       "  <thead>\n",
       "    <tr style=\"text-align: right;\">\n",
       "      <th></th>\n",
       "      <th>fecha_dato</th>\n",
       "      <th>ncodpers</th>\n",
       "      <th>ind_empleado</th>\n",
       "      <th>pais_residencia</th>\n",
       "      <th>sexo</th>\n",
       "      <th>age</th>\n",
       "      <th>fecha_alta</th>\n",
       "      <th>ind_nuevo</th>\n",
       "      <th>antiguedad</th>\n",
       "      <th>indrel</th>\n",
       "      <th>...</th>\n",
       "      <th>ind_hip_fin_ult1</th>\n",
       "      <th>ind_plan_fin_ult1</th>\n",
       "      <th>ind_pres_fin_ult1</th>\n",
       "      <th>ind_reca_fin_ult1</th>\n",
       "      <th>ind_tjcr_fin_ult1</th>\n",
       "      <th>ind_valo_fin_ult1</th>\n",
       "      <th>ind_viv_fin_ult1</th>\n",
       "      <th>ind_nomina_ult1</th>\n",
       "      <th>ind_nom_pens_ult1</th>\n",
       "      <th>ind_recibo_ult1</th>\n",
       "    </tr>\n",
       "  </thead>\n",
       "  <tbody>\n",
       "    <tr>\n",
       "      <th>261</th>\n",
       "      <td>2015-01-28</td>\n",
       "      <td>1050741</td>\n",
       "      <td>NaN</td>\n",
       "      <td>NaN</td>\n",
       "      <td>NaN</td>\n",
       "      <td>NaN</td>\n",
       "      <td>NaT</td>\n",
       "      <td>NaN</td>\n",
       "      <td>NA</td>\n",
       "      <td>NaN</td>\n",
       "      <td>...</td>\n",
       "      <td>0</td>\n",
       "      <td>0</td>\n",
       "      <td>0</td>\n",
       "      <td>0</td>\n",
       "      <td>0</td>\n",
       "      <td>0</td>\n",
       "      <td>0</td>\n",
       "      <td>0.0</td>\n",
       "      <td>0.0</td>\n",
       "      <td>0</td>\n",
       "    </tr>\n",
       "    <tr>\n",
       "      <th>1029</th>\n",
       "      <td>2015-01-28</td>\n",
       "      <td>1051017</td>\n",
       "      <td>NaN</td>\n",
       "      <td>NaN</td>\n",
       "      <td>NaN</td>\n",
       "      <td>NaN</td>\n",
       "      <td>NaT</td>\n",
       "      <td>NaN</td>\n",
       "      <td>NA</td>\n",
       "      <td>NaN</td>\n",
       "      <td>...</td>\n",
       "      <td>0</td>\n",
       "      <td>0</td>\n",
       "      <td>0</td>\n",
       "      <td>0</td>\n",
       "      <td>0</td>\n",
       "      <td>0</td>\n",
       "      <td>0</td>\n",
       "      <td>0.0</td>\n",
       "      <td>0.0</td>\n",
       "      <td>0</td>\n",
       "    </tr>\n",
       "    <tr>\n",
       "      <th>1063</th>\n",
       "      <td>2015-01-28</td>\n",
       "      <td>1051064</td>\n",
       "      <td>NaN</td>\n",
       "      <td>NaN</td>\n",
       "      <td>NaN</td>\n",
       "      <td>NaN</td>\n",
       "      <td>NaT</td>\n",
       "      <td>NaN</td>\n",
       "      <td>NA</td>\n",
       "      <td>NaN</td>\n",
       "      <td>...</td>\n",
       "      <td>0</td>\n",
       "      <td>0</td>\n",
       "      <td>0</td>\n",
       "      <td>0</td>\n",
       "      <td>0</td>\n",
       "      <td>0</td>\n",
       "      <td>0</td>\n",
       "      <td>0.0</td>\n",
       "      <td>0.0</td>\n",
       "      <td>0</td>\n",
       "    </tr>\n",
       "    <tr>\n",
       "      <th>1154</th>\n",
       "      <td>2015-01-28</td>\n",
       "      <td>1051387</td>\n",
       "      <td>NaN</td>\n",
       "      <td>NaN</td>\n",
       "      <td>NaN</td>\n",
       "      <td>NaN</td>\n",
       "      <td>NaT</td>\n",
       "      <td>NaN</td>\n",
       "      <td>NA</td>\n",
       "      <td>NaN</td>\n",
       "      <td>...</td>\n",
       "      <td>0</td>\n",
       "      <td>0</td>\n",
       "      <td>0</td>\n",
       "      <td>0</td>\n",
       "      <td>0</td>\n",
       "      <td>0</td>\n",
       "      <td>0</td>\n",
       "      <td>0.0</td>\n",
       "      <td>0.0</td>\n",
       "      <td>0</td>\n",
       "    </tr>\n",
       "    <tr>\n",
       "      <th>1779</th>\n",
       "      <td>2015-01-28</td>\n",
       "      <td>1048660</td>\n",
       "      <td>NaN</td>\n",
       "      <td>NaN</td>\n",
       "      <td>NaN</td>\n",
       "      <td>NaN</td>\n",
       "      <td>NaT</td>\n",
       "      <td>NaN</td>\n",
       "      <td>NA</td>\n",
       "      <td>NaN</td>\n",
       "      <td>...</td>\n",
       "      <td>0</td>\n",
       "      <td>0</td>\n",
       "      <td>0</td>\n",
       "      <td>0</td>\n",
       "      <td>0</td>\n",
       "      <td>0</td>\n",
       "      <td>0</td>\n",
       "      <td>0.0</td>\n",
       "      <td>0.0</td>\n",
       "      <td>0</td>\n",
       "    </tr>\n",
       "  </tbody>\n",
       "</table>\n",
       "<p>5 rows × 48 columns</p>\n",
       "</div>"
      ],
      "text/plain": [
       "     fecha_dato  ncodpers ind_empleado pais_residencia sexo  age fecha_alta  \\\n",
       "261  2015-01-28   1050741          NaN             NaN  NaN  NaN        NaT   \n",
       "1029 2015-01-28   1051017          NaN             NaN  NaN  NaN        NaT   \n",
       "1063 2015-01-28   1051064          NaN             NaN  NaN  NaN        NaT   \n",
       "1154 2015-01-28   1051387          NaN             NaN  NaN  NaN        NaT   \n",
       "1779 2015-01-28   1048660          NaN             NaN  NaN  NaN        NaT   \n",
       "\n",
       "      ind_nuevo antiguedad  indrel       ...        ind_hip_fin_ult1  \\\n",
       "261         NaN         NA     NaN       ...                       0   \n",
       "1029        NaN         NA     NaN       ...                       0   \n",
       "1063        NaN         NA     NaN       ...                       0   \n",
       "1154        NaN         NA     NaN       ...                       0   \n",
       "1779        NaN         NA     NaN       ...                       0   \n",
       "\n",
       "      ind_plan_fin_ult1 ind_pres_fin_ult1 ind_reca_fin_ult1 ind_tjcr_fin_ult1  \\\n",
       "261                   0                 0                 0                 0   \n",
       "1029                  0                 0                 0                 0   \n",
       "1063                  0                 0                 0                 0   \n",
       "1154                  0                 0                 0                 0   \n",
       "1779                  0                 0                 0                 0   \n",
       "\n",
       "     ind_valo_fin_ult1 ind_viv_fin_ult1 ind_nomina_ult1  ind_nom_pens_ult1  \\\n",
       "261                  0                0             0.0                0.0   \n",
       "1029                 0                0             0.0                0.0   \n",
       "1063                 0                0             0.0                0.0   \n",
       "1154                 0                0             0.0                0.0   \n",
       "1779                 0                0             0.0                0.0   \n",
       "\n",
       "      ind_recibo_ult1  \n",
       "261                 0  \n",
       "1029                0  \n",
       "1063                0  \n",
       "1154                0  \n",
       "1779                0  \n",
       "\n",
       "[5 rows x 48 columns]"
      ]
     },
     "execution_count": 20,
     "metadata": {},
     "output_type": "execute_result"
    }
   ],
   "source": [
    "df[unknown_users].head()"
   ]
  },
  {
   "cell_type": "code",
   "execution_count": 21,
   "metadata": {
    "collapsed": false
   },
   "outputs": [
    {
     "data": {
      "text/html": [
       "<div>\n",
       "<table border=\"1\" class=\"dataframe\">\n",
       "  <thead>\n",
       "    <tr style=\"text-align: right;\">\n",
       "      <th></th>\n",
       "      <th>ind_ahor_fin_ult1</th>\n",
       "      <th>ind_aval_fin_ult1</th>\n",
       "      <th>ind_cco_fin_ult1</th>\n",
       "      <th>ind_cder_fin_ult1</th>\n",
       "      <th>ind_cno_fin_ult1</th>\n",
       "      <th>ind_ctju_fin_ult1</th>\n",
       "      <th>ind_ctma_fin_ult1</th>\n",
       "      <th>ind_ctop_fin_ult1</th>\n",
       "      <th>ind_ctpp_fin_ult1</th>\n",
       "      <th>ind_deco_fin_ult1</th>\n",
       "      <th>...</th>\n",
       "      <th>ind_hip_fin_ult1</th>\n",
       "      <th>ind_plan_fin_ult1</th>\n",
       "      <th>ind_pres_fin_ult1</th>\n",
       "      <th>ind_reca_fin_ult1</th>\n",
       "      <th>ind_tjcr_fin_ult1</th>\n",
       "      <th>ind_valo_fin_ult1</th>\n",
       "      <th>ind_viv_fin_ult1</th>\n",
       "      <th>ind_nomina_ult1</th>\n",
       "      <th>ind_nom_pens_ult1</th>\n",
       "      <th>ind_recibo_ult1</th>\n",
       "    </tr>\n",
       "  </thead>\n",
       "  <tbody>\n",
       "    <tr>\n",
       "      <th>625112</th>\n",
       "      <td>0</td>\n",
       "      <td>0</td>\n",
       "      <td>0</td>\n",
       "      <td>0</td>\n",
       "      <td>0</td>\n",
       "      <td>0</td>\n",
       "      <td>0</td>\n",
       "      <td>0</td>\n",
       "      <td>0</td>\n",
       "      <td>0</td>\n",
       "      <td>...</td>\n",
       "      <td>0</td>\n",
       "      <td>0</td>\n",
       "      <td>0</td>\n",
       "      <td>1</td>\n",
       "      <td>0</td>\n",
       "      <td>0</td>\n",
       "      <td>0</td>\n",
       "      <td>NaN</td>\n",
       "      <td>NaN</td>\n",
       "      <td>0</td>\n",
       "    </tr>\n",
       "    <tr>\n",
       "      <th>625150</th>\n",
       "      <td>0</td>\n",
       "      <td>0</td>\n",
       "      <td>0</td>\n",
       "      <td>0</td>\n",
       "      <td>0</td>\n",
       "      <td>0</td>\n",
       "      <td>0</td>\n",
       "      <td>0</td>\n",
       "      <td>0</td>\n",
       "      <td>0</td>\n",
       "      <td>...</td>\n",
       "      <td>0</td>\n",
       "      <td>0</td>\n",
       "      <td>0</td>\n",
       "      <td>1</td>\n",
       "      <td>0</td>\n",
       "      <td>0</td>\n",
       "      <td>0</td>\n",
       "      <td>NaN</td>\n",
       "      <td>NaN</td>\n",
       "      <td>0</td>\n",
       "    </tr>\n",
       "    <tr>\n",
       "      <th>625268</th>\n",
       "      <td>0</td>\n",
       "      <td>0</td>\n",
       "      <td>0</td>\n",
       "      <td>0</td>\n",
       "      <td>0</td>\n",
       "      <td>0</td>\n",
       "      <td>0</td>\n",
       "      <td>0</td>\n",
       "      <td>0</td>\n",
       "      <td>0</td>\n",
       "      <td>...</td>\n",
       "      <td>0</td>\n",
       "      <td>0</td>\n",
       "      <td>0</td>\n",
       "      <td>0</td>\n",
       "      <td>0</td>\n",
       "      <td>0</td>\n",
       "      <td>0</td>\n",
       "      <td>0.0</td>\n",
       "      <td>0.0</td>\n",
       "      <td>0</td>\n",
       "    </tr>\n",
       "    <tr>\n",
       "      <th>625307</th>\n",
       "      <td>0</td>\n",
       "      <td>0</td>\n",
       "      <td>0</td>\n",
       "      <td>0</td>\n",
       "      <td>0</td>\n",
       "      <td>1</td>\n",
       "      <td>0</td>\n",
       "      <td>0</td>\n",
       "      <td>0</td>\n",
       "      <td>0</td>\n",
       "      <td>...</td>\n",
       "      <td>0</td>\n",
       "      <td>0</td>\n",
       "      <td>0</td>\n",
       "      <td>0</td>\n",
       "      <td>0</td>\n",
       "      <td>0</td>\n",
       "      <td>0</td>\n",
       "      <td>0.0</td>\n",
       "      <td>0.0</td>\n",
       "      <td>0</td>\n",
       "    </tr>\n",
       "    <tr>\n",
       "      <th>625374</th>\n",
       "      <td>0</td>\n",
       "      <td>0</td>\n",
       "      <td>0</td>\n",
       "      <td>0</td>\n",
       "      <td>0</td>\n",
       "      <td>1</td>\n",
       "      <td>0</td>\n",
       "      <td>0</td>\n",
       "      <td>0</td>\n",
       "      <td>0</td>\n",
       "      <td>...</td>\n",
       "      <td>0</td>\n",
       "      <td>0</td>\n",
       "      <td>0</td>\n",
       "      <td>0</td>\n",
       "      <td>0</td>\n",
       "      <td>0</td>\n",
       "      <td>0</td>\n",
       "      <td>0.0</td>\n",
       "      <td>0.0</td>\n",
       "      <td>0</td>\n",
       "    </tr>\n",
       "  </tbody>\n",
       "</table>\n",
       "<p>5 rows × 24 columns</p>\n",
       "</div>"
      ],
      "text/plain": [
       "        ind_ahor_fin_ult1  ind_aval_fin_ult1  ind_cco_fin_ult1  \\\n",
       "625112                  0                  0                 0   \n",
       "625150                  0                  0                 0   \n",
       "625268                  0                  0                 0   \n",
       "625307                  0                  0                 0   \n",
       "625374                  0                  0                 0   \n",
       "\n",
       "        ind_cder_fin_ult1  ind_cno_fin_ult1  ind_ctju_fin_ult1  \\\n",
       "625112                  0                 0                  0   \n",
       "625150                  0                 0                  0   \n",
       "625268                  0                 0                  0   \n",
       "625307                  0                 0                  1   \n",
       "625374                  0                 0                  1   \n",
       "\n",
       "        ind_ctma_fin_ult1  ind_ctop_fin_ult1  ind_ctpp_fin_ult1  \\\n",
       "625112                  0                  0                  0   \n",
       "625150                  0                  0                  0   \n",
       "625268                  0                  0                  0   \n",
       "625307                  0                  0                  0   \n",
       "625374                  0                  0                  0   \n",
       "\n",
       "        ind_deco_fin_ult1       ...         ind_hip_fin_ult1  \\\n",
       "625112                  0       ...                        0   \n",
       "625150                  0       ...                        0   \n",
       "625268                  0       ...                        0   \n",
       "625307                  0       ...                        0   \n",
       "625374                  0       ...                        0   \n",
       "\n",
       "        ind_plan_fin_ult1  ind_pres_fin_ult1  ind_reca_fin_ult1  \\\n",
       "625112                  0                  0                  1   \n",
       "625150                  0                  0                  1   \n",
       "625268                  0                  0                  0   \n",
       "625307                  0                  0                  0   \n",
       "625374                  0                  0                  0   \n",
       "\n",
       "        ind_tjcr_fin_ult1  ind_valo_fin_ult1  ind_viv_fin_ult1  \\\n",
       "625112                  0                  0                 0   \n",
       "625150                  0                  0                 0   \n",
       "625268                  0                  0                 0   \n",
       "625307                  0                  0                 0   \n",
       "625374                  0                  0                 0   \n",
       "\n",
       "        ind_nomina_ult1  ind_nom_pens_ult1  ind_recibo_ult1  \n",
       "625112              NaN                NaN                0  \n",
       "625150              NaN                NaN                0  \n",
       "625268              0.0                0.0                0  \n",
       "625307              0.0                0.0                0  \n",
       "625374              0.0                0.0                0  \n",
       "\n",
       "[5 rows x 24 columns]"
      ]
     },
     "execution_count": 21,
     "metadata": {},
     "output_type": "execute_result"
    }
   ],
   "source": [
    "df[unknown_users][TARGET_LABELS].tail()"
   ]
  },
  {
   "cell_type": "markdown",
   "metadata": {},
   "source": [
    "**Remove these users** !"
   ]
  },
  {
   "cell_type": "code",
   "execution_count": 22,
   "metadata": {
    "collapsed": true
   },
   "outputs": [],
   "source": [
    "df.drop(df[unknown_users].index, inplace=True)"
   ]
  },
  {
   "cell_type": "code",
   "execution_count": 23,
   "metadata": {
    "collapsed": false
   },
   "outputs": [
    {
     "data": {
      "text/plain": [
       "0"
      ]
     },
     "execution_count": 23,
     "metadata": {},
     "output_type": "execute_result"
    }
   ],
   "source": [
    "unknown_users = df['sexo'].isnull() & df['age'].isnull() & df['ind_empleado'].isnull() & df['fecha_alta'].isnull() & df['pais_residencia'].isnull()\n",
    "np.sum(unknown_users)"
   ]
  },
  {
   "cell_type": "code",
   "execution_count": 24,
   "metadata": {
    "collapsed": false,
    "scrolled": true
   },
   "outputs": [
    {
     "data": {
      "text/plain": [
       "fecha_dato               False\n",
       "ncodpers                 False\n",
       "ind_empleado             False\n",
       "pais_residencia          False\n",
       "sexo                      True\n",
       "age                      False\n",
       "fecha_alta               False\n",
       "ind_nuevo                False\n",
       "antiguedad               False\n",
       "indrel                   False\n",
       "ult_fec_cli_1t            True\n",
       "indrel_1mes              False\n",
       "tiprel_1mes              False\n",
       "indresi                  False\n",
       "indext                   False\n",
       "conyuemp                  True\n",
       "canal_entrada             True\n",
       "indfall                  False\n",
       "tipodom                  False\n",
       "cod_prov                  True\n",
       "nomprov                   True\n",
       "ind_actividad_cliente    False\n",
       "renta                     True\n",
       "segmento                  True\n",
       "ind_ahor_fin_ult1        False\n",
       "ind_aval_fin_ult1        False\n",
       "ind_cco_fin_ult1         False\n",
       "ind_cder_fin_ult1        False\n",
       "ind_cno_fin_ult1         False\n",
       "ind_ctju_fin_ult1        False\n",
       "ind_ctma_fin_ult1        False\n",
       "ind_ctop_fin_ult1        False\n",
       "ind_ctpp_fin_ult1        False\n",
       "ind_deco_fin_ult1        False\n",
       "ind_deme_fin_ult1        False\n",
       "ind_dela_fin_ult1        False\n",
       "ind_ecue_fin_ult1        False\n",
       "ind_fond_fin_ult1        False\n",
       "ind_hip_fin_ult1         False\n",
       "ind_plan_fin_ult1        False\n",
       "ind_pres_fin_ult1        False\n",
       "ind_reca_fin_ult1        False\n",
       "ind_tjcr_fin_ult1        False\n",
       "ind_valo_fin_ult1        False\n",
       "ind_viv_fin_ult1         False\n",
       "ind_nomina_ult1           True\n",
       "ind_nom_pens_ult1         True\n",
       "ind_recibo_ult1          False\n",
       "dtype: bool"
      ]
     },
     "execution_count": 24,
     "metadata": {},
     "output_type": "execute_result"
    }
   ],
   "source": [
    "df.isnull().any()"
   ]
  },
  {
   "cell_type": "markdown",
   "metadata": {},
   "source": [
    "Start with gender -> replace nan with UNKNOWN"
   ]
  },
  {
   "cell_type": "code",
   "execution_count": 25,
   "metadata": {
    "collapsed": false
   },
   "outputs": [
    {
     "data": {
      "text/plain": [
       "array(['H', 'V', nan], dtype=object)"
      ]
     },
     "execution_count": 25,
     "metadata": {},
     "output_type": "execute_result"
    }
   ],
   "source": [
    "df['sexo'].unique()"
   ]
  },
  {
   "cell_type": "code",
   "execution_count": 26,
   "metadata": {
    "collapsed": true
   },
   "outputs": [],
   "source": [
    "df.loc[df['sexo'].isnull(),'sexo'] = \"UNKNOWN\""
   ]
  },
  {
   "cell_type": "code",
   "execution_count": 27,
   "metadata": {
    "collapsed": false
   },
   "outputs": [
    {
     "data": {
      "text/plain": [
       "array(['H', 'V', 'UNKNOWN'], dtype=object)"
      ]
     },
     "execution_count": 27,
     "metadata": {},
     "output_type": "execute_result"
    }
   ],
   "source": [
    "df['sexo'].unique()"
   ]
  },
  {
   "cell_type": "code",
   "execution_count": 28,
   "metadata": {
    "collapsed": false
   },
   "outputs": [
    {
     "data": {
      "text/plain": [
       "V          339272\n",
       "H          279230\n",
       "UNKNOWN         2\n",
       "Name: sexo, dtype: int64"
      ]
     },
     "execution_count": 28,
     "metadata": {},
     "output_type": "execute_result"
    }
   ],
   "source": [
    "df['sexo'].value_counts()"
   ]
  },
  {
   "cell_type": "code",
   "execution_count": 29,
   "metadata": {
    "collapsed": false
   },
   "outputs": [
    {
     "data": {
      "image/png": "[encoded data removed]",
      "text/plain": [
       "<matplotlib.figure.Figure at 0x10731ed90>"
      ]
     },
     "metadata": {},
     "output_type": "display_data"
    }
   ],
   "source": [
    "with sns.plotting_context(\"notebook\",font_scale=1.5):\n",
    "    sns.set_style(\"whitegrid\")\n",
    "    sns.countplot(x=\"sexo\", \n",
    "                  data=df, \n",
    "                  palette=\"Greens_d\");\n",
    "    sns.plt.title(\"Gender Distribution\")\n",
    "    plt.ylabel(\"Count\")"
   ]
  },
  {
   "cell_type": "markdown",
   "metadata": {},
   "source": [
    "Continue with age -> replace nan with mean , less 18 -> mean between 18, 30 and greater than 90 -> mean between 30, 90"
   ]
  },
  {
   "cell_type": "code",
   "execution_count": 30,
   "metadata": {
    "collapsed": false
   },
   "outputs": [
    {
     "data": {
      "text/plain": [
       "array([  35.,   23.,   22.,   24.,   65.,   28.,   25.,   26.,   53.,\n",
       "         27.,   32.,   37.,   31.,   39.,   63.,   33.,   55.,   42.,\n",
       "         58.,   38.,   50.,   30.,   45.,   44.,   36.,   29.,   60.,\n",
       "         57.,   67.,   47.,   34.,   48.,   46.,   54.,   84.,   15.,\n",
       "         12.,    8.,    6.,   83.,   40.,   77.,   69.,   52.,   59.,\n",
       "         43.,   10.,    9.,   49.,   41.,   51.,   78.,   16.,   11.,\n",
       "         73.,   62.,   66.,   17.,   68.,   82.,   95.,   96.,   56.,\n",
       "         61.,   79.,   72.,   14.,   19.,   13.,   86.,   64.,   20.,\n",
       "         89.,   71.,    7.,   70.,   74.,   21.,   18.,   75.,    4.,\n",
       "         80.,   81.,    5.,   76.,   92.,   93.,   85.,   91.,   87.,\n",
       "         90.,   94.,   99.,   98.,   88.,   97.,  100.,  101.,  106.,\n",
       "        103.,    3.,    2.,  102.,  104.,  111.,  107.,  109.,  105.,\n",
       "        112.,  115.,  110.,  116.,  108.,  113.])"
      ]
     },
     "execution_count": 30,
     "metadata": {},
     "output_type": "execute_result"
    }
   ],
   "source": [
    "df['age'].unique()"
   ]
  },
  {
   "cell_type": "code",
   "execution_count": 31,
   "metadata": {
    "collapsed": false
   },
   "outputs": [
    {
     "data": {
      "image/png": "[encoded data removed]",
      "text/plain": [
       "<matplotlib.figure.Figure at 0x154504350>"
      ]
     },
     "metadata": {},
     "output_type": "display_data"
    }
   ],
   "source": [
    "with sns.plotting_context(\"notebook\",font_scale=1.5):\n",
    "    sns.set_style(\"whitegrid\")\n",
    "    sns.distplot(df[df['sexo'] == \"H\"][\"age\"].dropna(),\n",
    "                 bins=120,\n",
    "                 kde=False,\n",
    "                 color=\"tomato\")\n",
    "    sns.distplot(df[df['sexo'] == \"V\"][\"age\"].dropna(),\n",
    "                 bins=120,\n",
    "                 kde=False)\n",
    "    sns.distplot(df[df['sexo'] == \"UNKNOWN\"][\"age\"].dropna(),\n",
    "                 bins=120,\n",
    "                 kde=False,\n",
    "                 color=\"green\")\n",
    "    sns.plt.title(\"Age Distribution\")\n",
    "    plt.ylabel(\"Count\")"
   ]
  },
  {
   "cell_type": "code",
   "execution_count": 32,
   "metadata": {
    "collapsed": true
   },
   "outputs": [],
   "source": [
    "df.loc[df.age < 18,\"age\"]  = df.loc[(df.age >= 18) & (df.age <= 30),\"age\"].mean(skipna=True)\n",
    "df.loc[df.age > 90,\"age\"] = df.loc[(df.age >= 30) & (df.age <= 90),\"age\"].mean(skipna=True)\n",
    "df[\"age\"].fillna(df[\"age\"].mean(),inplace=True)\n",
    "df[\"age\"] = df[\"age\"].astype(int)"
   ]
  },
  {
   "cell_type": "code",
   "execution_count": 33,
   "metadata": {
    "collapsed": false
   },
   "outputs": [
    {
     "data": {
      "image/png": "[encoded data removed]",
      "text/plain": [
       "<matplotlib.figure.Figure at 0x10e49d290>"
      ]
     },
     "metadata": {},
     "output_type": "display_data"
    }
   ],
   "source": [
    "with sns.plotting_context(\"notebook\",font_scale=1.5):\n",
    "    sns.set_style(\"whitegrid\")\n",
    "    sns.distplot(df[df['sexo'] == \"H\"][\"age\"].dropna(),\n",
    "                 bins=100,\n",
    "                 kde=False,\n",
    "                 color=\"tomato\")\n",
    "    sns.distplot(df[df['sexo'] == \"V\"][\"age\"].dropna(),\n",
    "                 bins=100,\n",
    "                 kde=False,\n",
    "                 color='yellow')\n",
    "    sns.distplot(df[df['sexo'] == \"UNKNOWN\"][\"age\"].dropna(),\n",
    "                 bins=100,\n",
    "                 kde=False,\n",
    "                 color=\"green\")\n",
    "    sns.plt.title(\"Age Distribution\")\n",
    "    plt.ylabel(\"Count\")"
   ]
  },
  {
   "cell_type": "code",
   "execution_count": null,
   "metadata": {
    "collapsed": true
   },
   "outputs": [],
   "source": []
  },
  {
   "cell_type": "markdown",
   "metadata": {
    "collapsed": true
   },
   "source": [
    "Next `ind_empleado` : nan -> UNKNOWN"
   ]
  },
  {
   "cell_type": "code",
   "execution_count": 34,
   "metadata": {
    "collapsed": false
   },
   "outputs": [
    {
     "data": {
      "text/plain": [
       "array(['N', 'A', 'B', 'F', 'S'], dtype=object)"
      ]
     },
     "execution_count": 34,
     "metadata": {},
     "output_type": "execute_result"
    }
   ],
   "source": [
    "df['ind_empleado'].unique()"
   ]
  },
  {
   "cell_type": "code",
   "execution_count": 35,
   "metadata": {
    "collapsed": true
   },
   "outputs": [],
   "source": [
    "df['ind_empleado'].fillna(\"UNKNOWN\",inplace=True)"
   ]
  },
  {
   "cell_type": "code",
   "execution_count": 36,
   "metadata": {
    "collapsed": false
   },
   "outputs": [
    {
     "data": {
      "text/plain": [
       "array(['N', 'A', 'B', 'F', 'S'], dtype=object)"
      ]
     },
     "execution_count": 36,
     "metadata": {},
     "output_type": "execute_result"
    }
   ],
   "source": [
    "df['ind_empleado'].unique()"
   ]
  },
  {
   "cell_type": "code",
   "execution_count": 37,
   "metadata": {
    "collapsed": false
   },
   "outputs": [
    {
     "data": {
      "text/plain": [
       "N    618024\n",
       "B       194\n",
       "A       144\n",
       "F       141\n",
       "S         1\n",
       "Name: ind_empleado, dtype: int64"
      ]
     },
     "execution_count": 37,
     "metadata": {},
     "output_type": "execute_result"
    }
   ],
   "source": [
    "df['ind_empleado'].value_counts()"
   ]
  },
  {
   "cell_type": "code",
   "execution_count": 38,
   "metadata": {
    "collapsed": false
   },
   "outputs": [
    {
     "data": {
      "image/png": "[encoded data removed]",
      "text/plain": [
       "<matplotlib.figure.Figure at 0x10f3fb110>"
      ]
     },
     "metadata": {},
     "output_type": "display_data"
    }
   ],
   "source": [
    "with sns.plotting_context(\"notebook\", font_scale=1.5):\n",
    "    sns.set_style(\"whitegrid\")\n",
    "    sns.countplot(x=\"ind_empleado\", \n",
    "                  data=df, \n",
    "                  palette=\"Greens_d\");\n",
    "    sns.plt.title(\"Employee index distribution\")\n",
    "    plt.ylabel(\"Count\")"
   ]
  },
  {
   "cell_type": "markdown",
   "metadata": {},
   "source": [
    "Next `pais_residencia` : nan -> UNKNOWN"
   ]
  },
  {
   "cell_type": "code",
   "execution_count": 39,
   "metadata": {
    "collapsed": false
   },
   "outputs": [
    {
     "data": {
      "text/plain": [
       "array(['ES', 'CA', 'CH', 'CL', 'IE', 'AT', 'NL', 'FR', 'GB', 'DE', 'DO',\n",
       "       'BE', 'AR', 'VE', 'US', 'MX', 'BR', 'IT', 'EC', 'PE', 'CO', 'HN',\n",
       "       'FI', 'SE', 'AL', 'PT', 'MZ', 'CN', 'TW', 'PL', 'IN', 'CR', 'NI',\n",
       "       'HK', 'AD', 'CZ', 'AE', 'MA', 'GR', 'PR', 'RO', 'IL', 'RU', 'GT',\n",
       "       'GA', 'NO', 'SN', 'MR', 'UA', 'BG', 'PY', 'EE', 'SV', 'ET', 'CM',\n",
       "       'SA', 'CI', 'QA', 'LU', 'PA', 'BA', 'BO', 'AU', 'BY', 'KE', 'SG',\n",
       "       'HR', 'MD', 'SK', 'TR', 'AO', 'CU', 'GQ', 'EG', 'ZA', 'DK', 'UY',\n",
       "       'GE', 'TH', 'DZ', 'LB', 'JP', 'NG', 'PK', 'TN', 'TG', 'KR', 'GH',\n",
       "       'RS', 'VN', 'PH', 'KW', 'NZ', 'MM', 'KH', 'GI', 'SL', 'GN', 'GW',\n",
       "       'OM', 'CG', 'LV', 'LT', 'ML', 'MK', 'HU', 'IS', 'LY', 'CF', 'GM',\n",
       "       'KZ', 'CD', 'BZ'], dtype=object)"
      ]
     },
     "execution_count": 39,
     "metadata": {},
     "output_type": "execute_result"
    }
   ],
   "source": [
    "df['pais_residencia'].unique()"
   ]
  },
  {
   "cell_type": "code",
   "execution_count": 40,
   "metadata": {
    "collapsed": true
   },
   "outputs": [],
   "source": [
    "df['pais_residencia'].fillna('UNKNOWN', inplace=True)"
   ]
  },
  {
   "cell_type": "code",
   "execution_count": 41,
   "metadata": {
    "collapsed": false
   },
   "outputs": [
    {
     "data": {
      "text/plain": [
       "array(['ES', 'CA', 'CH', 'CL', 'IE', 'AT', 'NL', 'FR', 'GB', 'DE', 'DO',\n",
       "       'BE', 'AR', 'VE', 'US', 'MX', 'BR', 'IT', 'EC', 'PE', 'CO', 'HN',\n",
       "       'FI', 'SE', 'AL', 'PT', 'MZ', 'CN', 'TW', 'PL', 'IN', 'CR', 'NI',\n",
       "       'HK', 'AD', 'CZ', 'AE', 'MA', 'GR', 'PR', 'RO', 'IL', 'RU', 'GT',\n",
       "       'GA', 'NO', 'SN', 'MR', 'UA', 'BG', 'PY', 'EE', 'SV', 'ET', 'CM',\n",
       "       'SA', 'CI', 'QA', 'LU', 'PA', 'BA', 'BO', 'AU', 'BY', 'KE', 'SG',\n",
       "       'HR', 'MD', 'SK', 'TR', 'AO', 'CU', 'GQ', 'EG', 'ZA', 'DK', 'UY',\n",
       "       'GE', 'TH', 'DZ', 'LB', 'JP', 'NG', 'PK', 'TN', 'TG', 'KR', 'GH',\n",
       "       'RS', 'VN', 'PH', 'KW', 'NZ', 'MM', 'KH', 'GI', 'SL', 'GN', 'GW',\n",
       "       'OM', 'CG', 'LV', 'LT', 'ML', 'MK', 'HU', 'IS', 'LY', 'CF', 'GM',\n",
       "       'KZ', 'CD', 'BZ'], dtype=object)"
      ]
     },
     "execution_count": 41,
     "metadata": {},
     "output_type": "execute_result"
    }
   ],
   "source": [
    "df['pais_residencia'].unique()"
   ]
  },
  {
   "cell_type": "code",
   "execution_count": 42,
   "metadata": {
    "collapsed": false,
    "scrolled": true
   },
   "outputs": [
    {
     "data": {
      "text/plain": [
       "ES    614825\n",
       "FR       288\n",
       "AR       275\n",
       "DE       257\n",
       "GB       254\n",
       "CO       201\n",
       "US       196\n",
       "RO       168\n",
       "IT       160\n",
       "MX       143\n",
       "BR       132\n",
       "VE       130\n",
       "EC       125\n",
       "CH       112\n",
       "BO        83\n",
       "BE        83\n",
       "PY        79\n",
       "PT        77\n",
       "CL        56\n",
       "PE        50\n",
       "RU        44\n",
       "CU        44\n",
       "NL        43\n",
       "PL        32\n",
       "CN        32\n",
       "SE        32\n",
       "UY        30\n",
       "UA        29\n",
       "AT        28\n",
       "BG        28\n",
       "       ...  \n",
       "TW         2\n",
       "GW         2\n",
       "VN         2\n",
       "ET         2\n",
       "MZ         2\n",
       "EE         2\n",
       "BA         2\n",
       "LT         2\n",
       "MM         1\n",
       "LY         1\n",
       "ML         1\n",
       "LV         1\n",
       "KZ         1\n",
       "OM         1\n",
       "GE         1\n",
       "KH         1\n",
       "IS         1\n",
       "HU         1\n",
       "GH         1\n",
       "GI         1\n",
       "GM         1\n",
       "CD         1\n",
       "SL         1\n",
       "CF         1\n",
       "BZ         1\n",
       "KW         1\n",
       "AL         1\n",
       "TG         1\n",
       "TN         1\n",
       "LB         1\n",
       "Name: pais_residencia, dtype: int64"
      ]
     },
     "execution_count": 42,
     "metadata": {},
     "output_type": "execute_result"
    }
   ],
   "source": [
    "df['pais_residencia'].value_counts()"
   ]
  },
  {
   "cell_type": "code",
   "execution_count": null,
   "metadata": {
    "collapsed": true
   },
   "outputs": [],
   "source": []
  },
  {
   "cell_type": "markdown",
   "metadata": {},
   "source": [
    "Next `fecha_alta` : "
   ]
  },
  {
   "cell_type": "code",
   "execution_count": 43,
   "metadata": {
    "collapsed": false,
    "scrolled": true
   },
   "outputs": [
    {
     "data": {
      "text/plain": [
       "0"
      ]
     },
     "execution_count": 43,
     "metadata": {},
     "output_type": "execute_result"
    }
   ],
   "source": [
    "df['fecha_alta'].isnull().sum()"
   ]
  },
  {
   "cell_type": "code",
   "execution_count": 44,
   "metadata": {
    "collapsed": true
   },
   "outputs": [],
   "source": [
    "## something in the middle of the pack\n",
    "# dates=df.loc[:,\"fecha_alta\"].sort_values().reset_index()\n",
    "# median_date = int(np.median(dates.index.values))\n",
    "# df.loc[df.fecha_alta.isnull(),\"fecha_alta\"] = dates.loc[median_date,\"fecha_alta\"]\n",
    "# df[\"fecha_alta\"].describe()"
   ]
  },
  {
   "cell_type": "markdown",
   "metadata": {},
   "source": [
    "#### Display number of customers joined per year/month "
   ]
  },
  {
   "cell_type": "code",
   "execution_count": 45,
   "metadata": {
    "collapsed": true
   },
   "outputs": [],
   "source": [
    "to_yearmonth = lambda x: int(100 * x.year + x.month)\n",
    "yearmonth = df['fecha_alta'].apply(to_yearmonth)"
   ]
  },
  {
   "cell_type": "code",
   "execution_count": 46,
   "metadata": {
    "collapsed": false
   },
   "outputs": [
    {
     "name": "stdout",
     "output_type": "stream",
     "text": [
      "('Minimum value of fecha_alta : ', 199501)\n",
      "('Maximum value of fecha_alta : ', 201501)\n"
     ]
    },
    {
     "data": {
      "image/png": "[encoded data removed]",
      "text/plain": [
       "<matplotlib.figure.Figure at 0x10e6576d0>"
      ]
     },
     "metadata": {},
     "output_type": "display_data"
    }
   ],
   "source": [
    "yearmonth_counts = yearmonth.value_counts()\n",
    "print(\"Minimum value of fecha_alta : \", min(yearmonth_counts.index))\n",
    "print(\"Maximum value of fecha_alta : \", max(yearmonth_counts.index))\n",
    "\n",
    "with sns.plotting_context(\"notebook\", font_scale=1.5):\n",
    "    plt.figure(figsize=(16,4))\n",
    "    sns.set_style(\"whitegrid\")\n",
    "    sns.barplot(yearmonth_counts.index, yearmonth_counts.values, \n",
    "                  alpha=0.8, \n",
    "                  color='tomato');\n",
    "    plt.xlabel(\"Year and month of joining\")\n",
    "    plt.xticks(rotation='vertical')\n",
    "    plt.ylabel('Number of customers joined per year/month', fontsize=12)"
   ]
  },
  {
   "cell_type": "code",
   "execution_count": 47,
   "metadata": {
    "collapsed": false
   },
   "outputs": [
    {
     "data": {
      "image/png": "[encoded data removed]",
      "text/plain": [
       "<matplotlib.figure.Figure at 0x1104b8b50>"
      ]
     },
     "metadata": {},
     "output_type": "display_data"
    }
   ],
   "source": [
    "zoom_yearmonth_counts = yearmonth_counts.sort_index()\n",
    "zoom_yearmonth_counts = zoom_yearmonth_counts[185:]\n",
    "\n",
    "with sns.plotting_context(\"notebook\", font_scale=1.5):\n",
    "    plt.figure(figsize=(16,4))\n",
    "    sns.set_style(\"whitegrid\")\n",
    "    sns.barplot(zoom_yearmonth_counts.index, zoom_yearmonth_counts.values, \n",
    "                  alpha=0.8, \n",
    "                  color='tomato');\n",
    "    plt.xlabel(\"Year and month of joining\")\n",
    "    plt.xticks(rotation='vertical')\n",
    "    plt.ylabel('Number of customers joined per year/month', fontsize=12)"
   ]
  },
  {
   "cell_type": "code",
   "execution_count": null,
   "metadata": {
    "collapsed": true
   },
   "outputs": [],
   "source": []
  },
  {
   "cell_type": "markdown",
   "metadata": {},
   "source": [
    "Next `ult_fec_cli_1t` (Last date as primary customer (if he isn't at the end of the month)) : nan -> UNKNOWN"
   ]
  },
  {
   "cell_type": "code",
   "execution_count": 48,
   "metadata": {
    "collapsed": false
   },
   "outputs": [
    {
     "name": "stdout",
     "output_type": "stream",
     "text": [
      "617741 (618504,)\n"
     ]
    }
   ],
   "source": [
    "print df['ult_fec_cli_1t'].isnull().sum(), df['ult_fec_cli_1t'].shape"
   ]
  },
  {
   "cell_type": "code",
   "execution_count": 49,
   "metadata": {
    "collapsed": false
   },
   "outputs": [
    {
     "data": {
      "text/plain": [
       "array([nan, '2015-07-02', '2015-07-23', '2015-07-06', '2015-07-30',\n",
       "       '2015-07-20', '2015-07-08', '2015-07-22', '2015-07-17',\n",
       "       '2015-07-09', '2015-07-03', '2015-07-29', '2015-07-13',\n",
       "       '2015-07-21', '2015-07-27', '2015-07-14', '2015-07-01',\n",
       "       '2015-07-24', '2015-07-15', '2015-07-16', '2015-07-28',\n",
       "       '2015-07-07', '2015-07-10'], dtype=object)"
      ]
     },
     "execution_count": 49,
     "metadata": {},
     "output_type": "execute_result"
    }
   ],
   "source": [
    "df['ult_fec_cli_1t'].unique()"
   ]
  },
  {
   "cell_type": "code",
   "execution_count": 50,
   "metadata": {
    "collapsed": true
   },
   "outputs": [],
   "source": [
    "df['ult_fec_cli_1t'].fillna('UNKNOWN', inplace=True)"
   ]
  },
  {
   "cell_type": "code",
   "execution_count": 51,
   "metadata": {
    "collapsed": false,
    "scrolled": true
   },
   "outputs": [
    {
     "data": {
      "text/plain": [
       "array(['UNKNOWN', '2015-07-02', '2015-07-23', '2015-07-06', '2015-07-30',\n",
       "       '2015-07-20', '2015-07-08', '2015-07-22', '2015-07-17',\n",
       "       '2015-07-09', '2015-07-03', '2015-07-29', '2015-07-13',\n",
       "       '2015-07-21', '2015-07-27', '2015-07-14', '2015-07-01',\n",
       "       '2015-07-24', '2015-07-15', '2015-07-16', '2015-07-28',\n",
       "       '2015-07-07', '2015-07-10'], dtype=object)"
      ]
     },
     "execution_count": 51,
     "metadata": {},
     "output_type": "execute_result"
    }
   ],
   "source": [
    "df['ult_fec_cli_1t'].unique()"
   ]
  },
  {
   "cell_type": "code",
   "execution_count": null,
   "metadata": {
    "collapsed": true
   },
   "outputs": [],
   "source": []
  },
  {
   "cell_type": "code",
   "execution_count": null,
   "metadata": {
    "collapsed": true
   },
   "outputs": [],
   "source": []
  },
  {
   "cell_type": "code",
   "execution_count": null,
   "metadata": {
    "collapsed": true
   },
   "outputs": [],
   "source": []
  },
  {
   "cell_type": "markdown",
   "metadata": {},
   "source": [
    "Next `conyuemp` (Spouse index. 1 if the customer is spouse of an employee) : nan -> UNKNOWN"
   ]
  },
  {
   "cell_type": "code",
   "execution_count": 52,
   "metadata": {
    "collapsed": false
   },
   "outputs": [
    {
     "name": "stdout",
     "output_type": "stream",
     "text": [
      "618415 (618504,)\n"
     ]
    }
   ],
   "source": [
    "print df['conyuemp'].isnull().sum(), df['conyuemp'].shape"
   ]
  },
  {
   "cell_type": "code",
   "execution_count": 53,
   "metadata": {
    "collapsed": false
   },
   "outputs": [
    {
     "data": {
      "text/plain": [
       "array([nan, 'N', 'S'], dtype=object)"
      ]
     },
     "execution_count": 53,
     "metadata": {},
     "output_type": "execute_result"
    }
   ],
   "source": [
    "df['conyuemp'].unique()"
   ]
  },
  {
   "cell_type": "code",
   "execution_count": 54,
   "metadata": {
    "collapsed": true
   },
   "outputs": [],
   "source": [
    "df['conyuemp'].fillna('UNKNOWN', inplace=True)"
   ]
  },
  {
   "cell_type": "code",
   "execution_count": 55,
   "metadata": {
    "collapsed": false
   },
   "outputs": [
    {
     "data": {
      "text/plain": [
       "array(['UNKNOWN', 'N', 'S'], dtype=object)"
      ]
     },
     "execution_count": 55,
     "metadata": {},
     "output_type": "execute_result"
    }
   ],
   "source": [
    "df['conyuemp'].unique()"
   ]
  },
  {
   "cell_type": "code",
   "execution_count": 56,
   "metadata": {
    "collapsed": false
   },
   "outputs": [
    {
     "data": {
      "text/plain": [
       "UNKNOWN    618415\n",
       "N              88\n",
       "S               1\n",
       "Name: conyuemp, dtype: int64"
      ]
     },
     "execution_count": 56,
     "metadata": {},
     "output_type": "execute_result"
    }
   ],
   "source": [
    "df['conyuemp'].value_counts()"
   ]
  },
  {
   "cell_type": "code",
   "execution_count": null,
   "metadata": {
    "collapsed": true
   },
   "outputs": [],
   "source": []
  },
  {
   "cell_type": "markdown",
   "metadata": {},
   "source": [
    "Next `canal_entrada` (channel used by the customer to join) : nan -> UNKNOWN"
   ]
  },
  {
   "cell_type": "code",
   "execution_count": 57,
   "metadata": {
    "collapsed": false
   },
   "outputs": [
    {
     "name": "stdout",
     "output_type": "stream",
     "text": [
      "51 (618504,)\n"
     ]
    }
   ],
   "source": [
    "print df['canal_entrada'].isnull().sum(), df['canal_entrada'].shape"
   ]
  },
  {
   "cell_type": "code",
   "execution_count": 58,
   "metadata": {
    "collapsed": false
   },
   "outputs": [
    {
     "data": {
      "text/plain": [
       "array(['KHL', 'KHE', 'KHD', 'KFA', 'KFC', 'KAT', 'KAZ', 'RED', 'KHC',\n",
       "       'KHK', 'KGN', 'KHM', 'KHO', 'KDH', 'KEH', 'KAD', 'KBG', nan, 'KGC',\n",
       "       'KHF', 'KFK', 'KHN', 'KHA', 'KAF', 'KGX', 'KFD', 'KAG', 'KFG',\n",
       "       'KAB', 'KCC', 'KAE', 'KAH', 'KAR', 'KFJ', 'KFL', 'KAI', 'KFU',\n",
       "       'KAQ', 'KFS', 'KAA', 'KFP', 'KAJ', 'KFN', 'KGV', 'KGY', 'KFF',\n",
       "       'KAP', 'KDE', 'KFV', '013', 'K00', 'KAK', 'KCK', 'KCL', 'KAY',\n",
       "       'KBU', 'KDR', 'KAC', 'KDT', 'KCG', 'KDO', 'KDY', 'KBQ', 'KDA',\n",
       "       'KBO', 'KCI', 'KEC', 'KBZ', 'KES', 'KDX', 'KAS', '007', 'KEU',\n",
       "       'KCA', 'KAL', 'KDC', 'KAW', 'KCS', 'KCB', 'KDU', 'KDQ', 'KCN',\n",
       "       'KCM', '004', 'KCH', 'KCD', 'KCE', 'KEV', 'KBL', 'KEA', 'KBH',\n",
       "       'KDV', 'KFT', 'KEY', 'KAO', 'KEJ', 'KEO', 'KEI', 'KEW', 'KDZ',\n",
       "       'KBV', 'KBR', 'KBF', 'KDP', 'KCO', 'KCF', 'KCV', 'KAM', 'KEZ',\n",
       "       'KBD', 'KAN', 'KBY', 'KCT', 'KDD', 'KBW', 'KCU', 'KBX', 'KDB',\n",
       "       'KBS', 'KBE', 'KCX', 'KBP', 'KBN', 'KEB', 'KDS', 'KEL', 'KDG',\n",
       "       'KDF', 'KEF', 'KCP', 'KDM', 'KBB', 'KDW', 'KBJ', 'KFI', 'KBM',\n",
       "       'KEG', 'KEN', 'KEQ', 'KAV', 'KFH', 'KFM', 'KAU', 'KED', 'KFR',\n",
       "       'KEK', 'KFB', 'KGW', 'KFE', 'KGU', 'KDI', 'KDN', 'KEE', 'KCR',\n",
       "       'KCQ', 'KEM', 'KCJ'], dtype=object)"
      ]
     },
     "execution_count": 58,
     "metadata": {},
     "output_type": "execute_result"
    }
   ],
   "source": [
    "df['canal_entrada'].unique()"
   ]
  },
  {
   "cell_type": "code",
   "execution_count": 59,
   "metadata": {
    "collapsed": true
   },
   "outputs": [],
   "source": [
    "df['canal_entrada'].fillna('UNKNOWN', inplace=True)"
   ]
  },
  {
   "cell_type": "code",
   "execution_count": 60,
   "metadata": {
    "collapsed": false
   },
   "outputs": [
    {
     "data": {
      "text/plain": [
       "array(['KHL', 'KHE', 'KHD', 'KFA', 'KFC', 'KAT', 'KAZ', 'RED', 'KHC',\n",
       "       'KHK', 'KGN', 'KHM', 'KHO', 'KDH', 'KEH', 'KAD', 'KBG', 'UNKNOWN',\n",
       "       'KGC', 'KHF', 'KFK', 'KHN', 'KHA', 'KAF', 'KGX', 'KFD', 'KAG',\n",
       "       'KFG', 'KAB', 'KCC', 'KAE', 'KAH', 'KAR', 'KFJ', 'KFL', 'KAI',\n",
       "       'KFU', 'KAQ', 'KFS', 'KAA', 'KFP', 'KAJ', 'KFN', 'KGV', 'KGY',\n",
       "       'KFF', 'KAP', 'KDE', 'KFV', '013', 'K00', 'KAK', 'KCK', 'KCL',\n",
       "       'KAY', 'KBU', 'KDR', 'KAC', 'KDT', 'KCG', 'KDO', 'KDY', 'KBQ',\n",
       "       'KDA', 'KBO', 'KCI', 'KEC', 'KBZ', 'KES', 'KDX', 'KAS', '007',\n",
       "       'KEU', 'KCA', 'KAL', 'KDC', 'KAW', 'KCS', 'KCB', 'KDU', 'KDQ',\n",
       "       'KCN', 'KCM', '004', 'KCH', 'KCD', 'KCE', 'KEV', 'KBL', 'KEA',\n",
       "       'KBH', 'KDV', 'KFT', 'KEY', 'KAO', 'KEJ', 'KEO', 'KEI', 'KEW',\n",
       "       'KDZ', 'KBV', 'KBR', 'KBF', 'KDP', 'KCO', 'KCF', 'KCV', 'KAM',\n",
       "       'KEZ', 'KBD', 'KAN', 'KBY', 'KCT', 'KDD', 'KBW', 'KCU', 'KBX',\n",
       "       'KDB', 'KBS', 'KBE', 'KCX', 'KBP', 'KBN', 'KEB', 'KDS', 'KEL',\n",
       "       'KDG', 'KDF', 'KEF', 'KCP', 'KDM', 'KBB', 'KDW', 'KBJ', 'KFI',\n",
       "       'KBM', 'KEG', 'KEN', 'KEQ', 'KAV', 'KFH', 'KFM', 'KAU', 'KED',\n",
       "       'KFR', 'KEK', 'KFB', 'KGW', 'KFE', 'KGU', 'KDI', 'KDN', 'KEE',\n",
       "       'KCR', 'KCQ', 'KEM', 'KCJ'], dtype=object)"
      ]
     },
     "execution_count": 60,
     "metadata": {},
     "output_type": "execute_result"
    }
   ],
   "source": [
    "df['canal_entrada'].unique()"
   ]
  },
  {
   "cell_type": "code",
   "execution_count": 61,
   "metadata": {
    "collapsed": false
   },
   "outputs": [
    {
     "data": {
      "text/plain": [
       "KHE    212481\n",
       "KAT    165377\n",
       "KFC    147071\n",
       "KFA     20842\n",
       "KHD      5866\n",
       "KHK      5492\n",
       "KAS      4096\n",
       "KAG      3794\n",
       "KAA      3206\n",
       "RED      3108\n",
       "KAY      3065\n",
       "KAB      3018\n",
       "KCC      2465\n",
       "KAE      2416\n",
       "KBZ      2211\n",
       "KFD      1984\n",
       "KAI      1808\n",
       "KEY      1684\n",
       "KAW      1653\n",
       "KAF      1559\n",
       "KAR      1503\n",
       "013      1490\n",
       "KAZ      1418\n",
       "KAH      1209\n",
       "KCI      1151\n",
       "007       999\n",
       "KCH       990\n",
       "KAJ       972\n",
       "KHF       829\n",
       "KAQ       790\n",
       "        ...  \n",
       "KFE        11\n",
       "KCS        10\n",
       "KDN         9\n",
       "004         9\n",
       "KEE         9\n",
       "KEF         9\n",
       "KBD         9\n",
       "KCP         8\n",
       "KDH         8\n",
       "KBE         8\n",
       "KCV         7\n",
       "K00         7\n",
       "KEQ         6\n",
       "KBX         6\n",
       "KAV         6\n",
       "KCO         6\n",
       "KFB         5\n",
       "KBP         5\n",
       "KEM         4\n",
       "KHA         3\n",
       "KCX         2\n",
       "KFV         2\n",
       "KHO         2\n",
       "KGC         1\n",
       "KGN         1\n",
       "KDI         1\n",
       "KDB         1\n",
       "KCT         1\n",
       "KGU         1\n",
       "KBN         1\n",
       "Name: canal_entrada, dtype: int64"
      ]
     },
     "execution_count": 61,
     "metadata": {},
     "output_type": "execute_result"
    }
   ],
   "source": [
    "df['canal_entrada'].value_counts()"
   ]
  },
  {
   "cell_type": "code",
   "execution_count": null,
   "metadata": {
    "collapsed": true
   },
   "outputs": [],
   "source": []
  },
  {
   "cell_type": "markdown",
   "metadata": {},
   "source": [
    "Next `cod_prov` : nan -> UNKNOWN"
   ]
  },
  {
   "cell_type": "code",
   "execution_count": 62,
   "metadata": {
    "collapsed": false
   },
   "outputs": [
    {
     "data": {
      "text/plain": [
       "array([ 29.,  13.,  50.,  45.,  24.,  20.,  10.,  17.,  49.,   8.,  37.,\n",
       "         9.,  22.,  31.,   5.,  40.,  27.,  25.,  28.,   3.,  42.,  41.,\n",
       "        39.,   7.,  47.,  36.,  46.,  44.,  15.,  32.,  23.,  16.,  48.,\n",
       "        12.,  26.,   2.,   6.,  30.,  11.,   4.,  19.,  34.,  35.,  14.,\n",
       "        21.,  18.,  33.,  38.,  52.,  43.,   1.,  nan,  51.])"
      ]
     },
     "execution_count": 62,
     "metadata": {},
     "output_type": "execute_result"
    }
   ],
   "source": [
    "df['cod_prov'].unique()"
   ]
  },
  {
   "cell_type": "code",
   "execution_count": 63,
   "metadata": {
    "collapsed": false
   },
   "outputs": [
    {
     "data": {
      "text/plain": [
       "3678"
      ]
     },
     "execution_count": 63,
     "metadata": {},
     "output_type": "execute_result"
    }
   ],
   "source": [
    "df['cod_prov'].isnull().sum()"
   ]
  },
  {
   "cell_type": "code",
   "execution_count": 64,
   "metadata": {
    "collapsed": false
   },
   "outputs": [
    {
     "name": "stdout",
     "output_type": "stream",
     "text": [
      "3678 53\n",
      "3678 53\n",
      "0 1\n"
     ]
    }
   ],
   "source": [
    "print df['cod_prov'].isnull().sum(), len(df['cod_prov'].unique())\n",
    "print df['nomprov'].isnull().sum(), len(df['nomprov'].unique())\n",
    "print df['tipodom'].isnull().sum(), len(df['tipodom'].unique())"
   ]
  },
  {
   "cell_type": "markdown",
   "metadata": {},
   "source": [
    "**Remove 'tipodom' and 'cod_prov' columns**"
   ]
  },
  {
   "cell_type": "code",
   "execution_count": 65,
   "metadata": {
    "collapsed": true
   },
   "outputs": [],
   "source": [
    "df.drop([\"tipodom\",\"cod_prov\"],axis=1,inplace=True)"
   ]
  },
  {
   "cell_type": "code",
   "execution_count": null,
   "metadata": {
    "collapsed": true
   },
   "outputs": [],
   "source": []
  },
  {
   "cell_type": "markdown",
   "metadata": {},
   "source": [
    "Next `nomprov` : nan -> UNKNOWN"
   ]
  },
  {
   "cell_type": "code",
   "execution_count": 66,
   "metadata": {
    "collapsed": false
   },
   "outputs": [
    {
     "data": {
      "text/plain": [
       "array(['MALAGA', 'CIUDAD REAL', 'ZARAGOZA', 'TOLEDO', 'LEON', 'GIPUZKOA',\n",
       "       'CACERES', 'GIRONA', 'ZAMORA', 'BARCELONA', 'SALAMANCA', 'BURGOS',\n",
       "       'HUESCA', 'NAVARRA', 'AVILA', 'SEGOVIA', 'LUGO', 'LERIDA', 'MADRID',\n",
       "       'ALICANTE', 'SORIA', 'SEVILLA', 'CANTABRIA', 'BALEARS, ILLES',\n",
       "       'VALLADOLID', 'PONTEVEDRA', 'VALENCIA', 'TERUEL',\n",
       "       'CORU\\xc3\\x91A, A', 'OURENSE', 'JAEN', 'CUENCA', 'BIZKAIA',\n",
       "       'CASTELLON', 'RIOJA, LA', 'ALBACETE', 'BADAJOZ', 'MURCIA', 'CADIZ',\n",
       "       'ALMERIA', 'GUADALAJARA', 'PALENCIA', 'PALMAS, LAS', 'CORDOBA',\n",
       "       'HUELVA', 'GRANADA', 'ASTURIAS', 'SANTA CRUZ DE TENERIFE',\n",
       "       'MELILLA', 'TARRAGONA', 'ALAVA', nan, 'CEUTA'], dtype=object)"
      ]
     },
     "execution_count": 66,
     "metadata": {},
     "output_type": "execute_result"
    }
   ],
   "source": [
    "df['nomprov'].unique()"
   ]
  },
  {
   "cell_type": "code",
   "execution_count": 67,
   "metadata": {
    "collapsed": true
   },
   "outputs": [],
   "source": [
    "df.loc[df['nomprov']==\"CORU\\xc3\\x91A, A\",\"nomprov\"] = \"CORUNA\""
   ]
  },
  {
   "cell_type": "code",
   "execution_count": 68,
   "metadata": {
    "collapsed": true
   },
   "outputs": [],
   "source": [
    "df['nomprov'].fillna('UNKNOWN', inplace=True)"
   ]
  },
  {
   "cell_type": "code",
   "execution_count": 69,
   "metadata": {
    "collapsed": false
   },
   "outputs": [
    {
     "data": {
      "text/plain": [
       "MADRID                    201579\n",
       "BARCELONA                  53910\n",
       "VALENCIA                   29201\n",
       "SEVILLA                    28894\n",
       "CORUNA                     20340\n",
       "MURCIA                     18066\n",
       "MALAGA                     17583\n",
       "ZARAGOZA                   15780\n",
       "CADIZ                      14130\n",
       "ALICANTE                   13481\n",
       "PONTEVEDRA                 13199\n",
       "ASTURIAS                   12164\n",
       "VALLADOLID                 11015\n",
       "PALMAS, LAS                10686\n",
       "BADAJOZ                     9205\n",
       "BIZKAIA                     8460\n",
       "TOLEDO                      8205\n",
       "GRANADA                     7924\n",
       "SALAMANCA                   7754\n",
       "CANTABRIA                   6940\n",
       "CORDOBA                     6852\n",
       "CACERES                     6396\n",
       "HUELVA                      6061\n",
       "CIUDAD REAL                 5538\n",
       "ALBACETE                    5244\n",
       "BALEARS, ILLES              5043\n",
       "CASTELLON                   4742\n",
       "BURGOS                      4373\n",
       "LUGO                        4081\n",
       "OURENSE                     4055\n",
       "NAVARRA                     3983\n",
       "GIRONA                      3834\n",
       "TARRAGONA                   3823\n",
       "RIOJA, LA                   3806\n",
       "LEON                        3703\n",
       "UNKNOWN                     3678\n",
       "LERIDA                      3433\n",
       "GIPUZKOA                    3195\n",
       "SANTA CRUZ DE TENERIFE      2990\n",
       "JAEN                        2844\n",
       "CUENCA                      2778\n",
       "ALMERIA                     2568\n",
       "GUADALAJARA                 2567\n",
       "ZAMORA                      2388\n",
       "PALENCIA                    2276\n",
       "SEGOVIA                     1923\n",
       "HUESCA                      1797\n",
       "AVILA                       1786\n",
       "ALAVA                       1669\n",
       "TERUEL                      1053\n",
       "SORIA                        758\n",
       "MELILLA                      437\n",
       "CEUTA                        314\n",
       "Name: nomprov, dtype: int64"
      ]
     },
     "execution_count": 69,
     "metadata": {},
     "output_type": "execute_result"
    }
   ],
   "source": [
    "df['nomprov'].value_counts()"
   ]
  },
  {
   "cell_type": "markdown",
   "metadata": {},
   "source": [
    "Number of clients with unknown `nomprov` staying in Spain"
   ]
  },
  {
   "cell_type": "code",
   "execution_count": 70,
   "metadata": {
    "collapsed": false
   },
   "outputs": [
    {
     "data": {
      "text/plain": [
       "5"
      ]
     },
     "execution_count": 70,
     "metadata": {},
     "output_type": "execute_result"
    }
   ],
   "source": [
    "((df['nomprov'] == \"UNKNOWN\") & (df['pais_residencia'] == \"ES\")).sum()"
   ]
  },
  {
   "cell_type": "markdown",
   "metadata": {},
   "source": [
    "Number of clients with unknown `nomprov` not staying in Spain"
   ]
  },
  {
   "cell_type": "code",
   "execution_count": 71,
   "metadata": {
    "collapsed": false
   },
   "outputs": [
    {
     "data": {
      "text/plain": [
       "3673"
      ]
     },
     "execution_count": 71,
     "metadata": {},
     "output_type": "execute_result"
    }
   ],
   "source": [
    "((df['nomprov'] == \"UNKNOWN\") & (df['pais_residencia'] != \"ES\")).sum()"
   ]
  },
  {
   "cell_type": "markdown",
   "metadata": {},
   "source": [
    "Number of clients not staying in Spain\n",
    "\n"
   ]
  },
  {
   "cell_type": "code",
   "execution_count": 72,
   "metadata": {
    "collapsed": false
   },
   "outputs": [
    {
     "data": {
      "text/plain": [
       "3679"
      ]
     },
     "execution_count": 72,
     "metadata": {},
     "output_type": "execute_result"
    }
   ],
   "source": [
    "((df['pais_residencia'] != \"ES\")).sum()"
   ]
  },
  {
   "cell_type": "markdown",
   "metadata": {},
   "source": [
    "Number of clients not staying in Spain with known (spanish) `nomprov`"
   ]
  },
  {
   "cell_type": "code",
   "execution_count": 73,
   "metadata": {
    "collapsed": false
   },
   "outputs": [
    {
     "name": "stdout",
     "output_type": "stream",
     "text": [
      "6\n"
     ]
    },
    {
     "data": {
      "text/html": [
       "<div>\n",
       "<table border=\"1\" class=\"dataframe\">\n",
       "  <thead>\n",
       "    <tr style=\"text-align: right;\">\n",
       "      <th></th>\n",
       "      <th>nomprov</th>\n",
       "      <th>pais_residencia</th>\n",
       "      <th>renta</th>\n",
       "      <th>ind_empleado</th>\n",
       "      <th>segmento</th>\n",
       "    </tr>\n",
       "  </thead>\n",
       "  <tbody>\n",
       "    <tr>\n",
       "      <th>438152</th>\n",
       "      <td>MADRID</td>\n",
       "      <td>IT</td>\n",
       "      <td>669790.32</td>\n",
       "      <td>N</td>\n",
       "      <td>02 - PARTICULARES</td>\n",
       "    </tr>\n",
       "    <tr>\n",
       "      <th>463230</th>\n",
       "      <td>MADRID</td>\n",
       "      <td>IT</td>\n",
       "      <td>149309.34</td>\n",
       "      <td>N</td>\n",
       "      <td>02 - PARTICULARES</td>\n",
       "    </tr>\n",
       "    <tr>\n",
       "      <th>464669</th>\n",
       "      <td>MADRID</td>\n",
       "      <td>DE</td>\n",
       "      <td>141913.68</td>\n",
       "      <td>N</td>\n",
       "      <td>02 - PARTICULARES</td>\n",
       "    </tr>\n",
       "    <tr>\n",
       "      <th>467187</th>\n",
       "      <td>MADRID</td>\n",
       "      <td>BO</td>\n",
       "      <td>94299.96</td>\n",
       "      <td>N</td>\n",
       "      <td>02 - PARTICULARES</td>\n",
       "    </tr>\n",
       "    <tr>\n",
       "      <th>568577</th>\n",
       "      <td>GUADALAJARA</td>\n",
       "      <td>PY</td>\n",
       "      <td>128107.92</td>\n",
       "      <td>N</td>\n",
       "      <td>02 - PARTICULARES</td>\n",
       "    </tr>\n",
       "    <tr>\n",
       "      <th>573165</th>\n",
       "      <td>PALMAS, LAS</td>\n",
       "      <td>PY</td>\n",
       "      <td>NaN</td>\n",
       "      <td>N</td>\n",
       "      <td>02 - PARTICULARES</td>\n",
       "    </tr>\n",
       "  </tbody>\n",
       "</table>\n",
       "</div>"
      ],
      "text/plain": [
       "            nomprov pais_residencia      renta ind_empleado           segmento\n",
       "438152       MADRID              IT  669790.32            N  02 - PARTICULARES\n",
       "463230       MADRID              IT  149309.34            N  02 - PARTICULARES\n",
       "464669       MADRID              DE  141913.68            N  02 - PARTICULARES\n",
       "467187       MADRID              BO   94299.96            N  02 - PARTICULARES\n",
       "568577  GUADALAJARA              PY  128107.92            N  02 - PARTICULARES\n",
       "573165  PALMAS, LAS              PY        NaN            N  02 - PARTICULARES"
      ]
     },
     "execution_count": 73,
     "metadata": {},
     "output_type": "execute_result"
    }
   ],
   "source": [
    "mask = (df['nomprov'] != \"UNKNOWN\") & (df['pais_residencia'] != \"ES\")\n",
    "print mask.sum()\n",
    "df[mask][['nomprov', 'pais_residencia', 'renta', 'ind_empleado', 'segmento']]"
   ]
  },
  {
   "cell_type": "code",
   "execution_count": null,
   "metadata": {
    "collapsed": true
   },
   "outputs": [],
   "source": []
  },
  {
   "cell_type": "markdown",
   "metadata": {},
   "source": [
    "**Remove clients not staying in Spain with known (spanish) `nomprov`**"
   ]
  },
  {
   "cell_type": "code",
   "execution_count": 74,
   "metadata": {
    "collapsed": true
   },
   "outputs": [],
   "source": [
    "mask = (df['nomprov'] != \"UNKNOWN\") & (df['pais_residencia'] != \"ES\")\n",
    "df.drop(df[mask].index, inplace=True)"
   ]
  },
  {
   "cell_type": "code",
   "execution_count": null,
   "metadata": {
    "collapsed": true
   },
   "outputs": [],
   "source": []
  },
  {
   "cell_type": "code",
   "execution_count": null,
   "metadata": {
    "collapsed": true
   },
   "outputs": [],
   "source": []
  },
  {
   "cell_type": "markdown",
   "metadata": {},
   "source": [
    "Target labels : `ind_nomina_ult1`, `ind_nom_pens_ult1` : nan -> 0"
   ]
  },
  {
   "cell_type": "code",
   "execution_count": 75,
   "metadata": {
    "collapsed": false
   },
   "outputs": [
    {
     "name": "stdout",
     "output_type": "stream",
     "text": [
      "60 60\n"
     ]
    }
   ],
   "source": [
    "print df.ind_nomina_ult1.isnull().sum(), df.ind_nom_pens_ult1.isnull().sum()"
   ]
  },
  {
   "cell_type": "markdown",
   "metadata": {},
   "source": [
    "I could try to fill in missing values for products by looking at previous months, but since it's such a small number of values for now I'll take the cheap way out."
   ]
  },
  {
   "cell_type": "code",
   "execution_count": 76,
   "metadata": {
    "collapsed": true
   },
   "outputs": [],
   "source": [
    "df.loc[df.ind_nomina_ult1.isnull(), \"ind_nomina_ult1\"] = 0\n",
    "df.loc[df.ind_nom_pens_ult1.isnull(), \"ind_nom_pens_ult1\"] = 0"
   ]
  },
  {
   "cell_type": "code",
   "execution_count": null,
   "metadata": {
    "collapsed": true
   },
   "outputs": [],
   "source": []
  },
  {
   "cell_type": "markdown",
   "metadata": {},
   "source": [
    "Fix nan for `segmento` by \"UNKNOWN\""
   ]
  },
  {
   "cell_type": "code",
   "execution_count": 77,
   "metadata": {
    "collapsed": false
   },
   "outputs": [
    {
     "name": "stdout",
     "output_type": "stream",
     "text": [
      "71 4\n"
     ]
    }
   ],
   "source": [
    "print df['segmento'].isnull().sum(), len(df['segmento'].unique())"
   ]
  },
  {
   "cell_type": "code",
   "execution_count": 78,
   "metadata": {
    "collapsed": true
   },
   "outputs": [],
   "source": [
    "df['segmento'].fillna('UNKNOWN', inplace=True)"
   ]
  },
  {
   "cell_type": "code",
   "execution_count": 79,
   "metadata": {
    "collapsed": false
   },
   "outputs": [
    {
     "data": {
      "text/plain": [
       "02 - PARTICULARES     360893\n",
       "03 - UNIVERSITARIO    227026\n",
       "01 - TOP               30508\n",
       "UNKNOWN                   71\n",
       "Name: segmento, dtype: int64"
      ]
     },
     "execution_count": 79,
     "metadata": {},
     "output_type": "execute_result"
    }
   ],
   "source": [
    "df['segmento'].value_counts()"
   ]
  },
  {
   "cell_type": "code",
   "execution_count": null,
   "metadata": {
    "collapsed": true
   },
   "outputs": [],
   "source": []
  },
  {
   "cell_type": "markdown",
   "metadata": {},
   "source": [
    "### Now for gross income, aka `renta`"
   ]
  },
  {
   "cell_type": "code",
   "execution_count": 80,
   "metadata": {
    "collapsed": false
   },
   "outputs": [
    {
     "name": "stdout",
     "output_type": "stream",
     "text": [
      "104624 395390\n"
     ]
    }
   ],
   "source": [
    "print df['renta'].isnull().sum(), len(df['renta'].unique())"
   ]
  },
  {
   "cell_type": "code",
   "execution_count": 83,
   "metadata": {
    "collapsed": false
   },
   "outputs": [
    {
     "data": {
      "text/plain": [
       "0"
      ]
     },
     "execution_count": 83,
     "metadata": {},
     "output_type": "execute_result"
    }
   ],
   "source": [
    "(df['renta'] == 1.0).sum()"
   ]
  },
  {
   "cell_type": "markdown",
   "metadata": {},
   "source": [
    "Display mean, std, median income in a region"
   ]
  },
  {
   "cell_type": "code",
   "execution_count": 81,
   "metadata": {
    "collapsed": false
   },
   "outputs": [],
   "source": [
    "incomes_gb = df[df['renta'].notnull()].groupby('nomprov')"
   ]
  },
  {
   "cell_type": "code",
   "execution_count": 82,
   "metadata": {
    "collapsed": false
   },
   "outputs": [],
   "source": [
    "incomes = incomes_gb.agg({\"renta\":{\"count\": size, \"median\":median, \"mean\": mean, \"std\": std, \"min\": min, \"max\": max}})\n",
    "incomes.sort_values(by=(\"renta\",\"median\"),inplace=True)\n",
    "incomes.reset_index(inplace=True)"
   ]
  },
  {
   "cell_type": "code",
   "execution_count": 83,
   "metadata": {
    "collapsed": false
   },
   "outputs": [
    {
     "data": {
      "text/html": [
       "<div>\n",
       "<table border=\"1\" class=\"dataframe\">\n",
       "  <thead>\n",
       "    <tr>\n",
       "      <th></th>\n",
       "      <th>nomprov</th>\n",
       "      <th colspan=\"6\" halign=\"left\">renta</th>\n",
       "    </tr>\n",
       "    <tr>\n",
       "      <th></th>\n",
       "      <th></th>\n",
       "      <th>count</th>\n",
       "      <th>std</th>\n",
       "      <th>min</th>\n",
       "      <th>max</th>\n",
       "      <th>median</th>\n",
       "      <th>mean</th>\n",
       "    </tr>\n",
       "  </thead>\n",
       "  <tbody>\n",
       "    <tr>\n",
       "      <th>48</th>\n",
       "      <td>CEUTA</td>\n",
       "      <td>330.0</td>\n",
       "      <td>316217.504480</td>\n",
       "      <td>33429.72</td>\n",
       "      <td>4082464.26</td>\n",
       "      <td>127590.900</td>\n",
       "      <td>199917.223636</td>\n",
       "    </tr>\n",
       "    <tr>\n",
       "      <th>49</th>\n",
       "      <td>UNKNOWN</td>\n",
       "      <td>9.0</td>\n",
       "      <td>100656.617502</td>\n",
       "      <td>80362.29</td>\n",
       "      <td>385514.46</td>\n",
       "      <td>130473.660</td>\n",
       "      <td>175744.956667</td>\n",
       "    </tr>\n",
       "    <tr>\n",
       "      <th>50</th>\n",
       "      <td>BARCELONA</td>\n",
       "      <td>72358.0</td>\n",
       "      <td>150729.246577</td>\n",
       "      <td>1471.23</td>\n",
       "      <td>5752268.34</td>\n",
       "      <td>130887.135</td>\n",
       "      <td>164565.345974</td>\n",
       "    </tr>\n",
       "    <tr>\n",
       "      <th>51</th>\n",
       "      <td>MADRID</td>\n",
       "      <td>255050.0</td>\n",
       "      <td>337877.797303</td>\n",
       "      <td>3796.86</td>\n",
       "      <td>28894395.51</td>\n",
       "      <td>138050.850</td>\n",
       "      <td>178452.491832</td>\n",
       "    </tr>\n",
       "    <tr>\n",
       "      <th>52</th>\n",
       "      <td>GIPUZKOA</td>\n",
       "      <td>4.0</td>\n",
       "      <td>163012.658309</td>\n",
       "      <td>53028.75</td>\n",
       "      <td>387346.17</td>\n",
       "      <td>184472.865</td>\n",
       "      <td>202330.162500</td>\n",
       "    </tr>\n",
       "  </tbody>\n",
       "</table>\n",
       "</div>"
      ],
      "text/plain": [
       "      nomprov     renta                                                    \\\n",
       "                  count            std       min          max      median   \n",
       "48      CEUTA     330.0  316217.504480  33429.72   4082464.26  127590.900   \n",
       "49    UNKNOWN       9.0  100656.617502  80362.29    385514.46  130473.660   \n",
       "50  BARCELONA   72358.0  150729.246577   1471.23   5752268.34  130887.135   \n",
       "51     MADRID  255050.0  337877.797303   3796.86  28894395.51  138050.850   \n",
       "52   GIPUZKOA       4.0  163012.658309  53028.75    387346.17  184472.865   \n",
       "\n",
       "                   \n",
       "             mean  \n",
       "48  199917.223636  \n",
       "49  175744.956667  \n",
       "50  164565.345974  \n",
       "51  178452.491832  \n",
       "52  202330.162500  "
      ]
     },
     "execution_count": 83,
     "metadata": {},
     "output_type": "execute_result"
    }
   ],
   "source": [
    "incomes.tail()"
   ]
  },
  {
   "cell_type": "code",
   "execution_count": 84,
   "metadata": {
    "collapsed": false
   },
   "outputs": [
    {
     "name": "stdout",
     "output_type": "stream",
     "text": [
      "53 53\n"
     ]
    }
   ],
   "source": [
    "print len(incomes['nomprov'].unique()), len(incomes['nomprov'])"
   ]
  },
  {
   "cell_type": "code",
   "execution_count": 85,
   "metadata": {
    "collapsed": false
   },
   "outputs": [
    {
     "data": {
      "image/png": "[encoded data removed]",
      "text/plain": [
       "<matplotlib.figure.Figure at 0x7f94baa1f290>"
      ]
     },
     "metadata": {},
     "output_type": "display_data"
    }
   ],
   "source": [
    "with sns.plotting_context(\"notebook\", font_scale=1.5):\n",
    "    plt.figure(figsize=(16,4))\n",
    "    sns.set_style(\"whitegrid\")\n",
    "    sns.boxplot(x=\"nomprov\", y=\"renta\", data=df[df['renta'].notnull()])\n",
    "    plt.xlabel(\"Region\")\n",
    "    plt.xticks(rotation='vertical')\n",
    "    plt.ylabel('Income', fontsize=12)"
   ]
  },
  {
   "cell_type": "markdown",
   "metadata": {},
   "source": [
    "Display income per region, employee index, segment, gender"
   ]
  },
  {
   "cell_type": "code",
   "execution_count": 86,
   "metadata": {
    "collapsed": false
   },
   "outputs": [],
   "source": [
    "incomes_gb = df[df['renta'].notnull()].groupby(['nomprov', 'ind_empleado', 'segmento', 'sexo'])"
   ]
  },
  {
   "cell_type": "code",
   "execution_count": 87,
   "metadata": {
    "collapsed": true
   },
   "outputs": [],
   "source": [
    "incomes_stats = incomes_gb.agg({\"renta\":{\"count\": size, \"median\":median, \"mean\": mean, \"std\": std, \"min\": min, \"max\": max}})\n",
    "incomes_stats.sort_values(by=(\"renta\",\"median\"),inplace=True)"
   ]
  },
  {
   "cell_type": "code",
   "execution_count": 88,
   "metadata": {
    "collapsed": false,
    "scrolled": true
   },
   "outputs": [
    {
     "data": {
      "text/html": [
       "<div>\n",
       "<table border=\"1\" class=\"dataframe\">\n",
       "  <thead>\n",
       "    <tr>\n",
       "      <th></th>\n",
       "      <th></th>\n",
       "      <th></th>\n",
       "      <th colspan=\"6\" halign=\"left\">renta</th>\n",
       "    </tr>\n",
       "    <tr>\n",
       "      <th></th>\n",
       "      <th></th>\n",
       "      <th></th>\n",
       "      <th>count</th>\n",
       "      <th>std</th>\n",
       "      <th>min</th>\n",
       "      <th>max</th>\n",
       "      <th>median</th>\n",
       "      <th>mean</th>\n",
       "    </tr>\n",
       "    <tr>\n",
       "      <th>ind_empleado</th>\n",
       "      <th>segmento</th>\n",
       "      <th>sexo</th>\n",
       "      <th></th>\n",
       "      <th></th>\n",
       "      <th></th>\n",
       "      <th></th>\n",
       "      <th></th>\n",
       "      <th></th>\n",
       "    </tr>\n",
       "  </thead>\n",
       "  <tbody>\n",
       "    <tr>\n",
       "      <th>S</th>\n",
       "      <th>02 - PARTICULARES</th>\n",
       "      <th>H</th>\n",
       "      <td>1.0</td>\n",
       "      <td>NaN</td>\n",
       "      <td>87798.24</td>\n",
       "      <td>87798.24</td>\n",
       "      <td>87798.240</td>\n",
       "      <td>87798.240000</td>\n",
       "    </tr>\n",
       "    <tr>\n",
       "      <th rowspan=\"4\" valign=\"top\">N</th>\n",
       "      <th rowspan=\"2\" valign=\"top\">02 - PARTICULARES</th>\n",
       "      <th>UNKNOWN</th>\n",
       "      <td>3.0</td>\n",
       "      <td>82626.279999</td>\n",
       "      <td>89991.42</td>\n",
       "      <td>239719.71</td>\n",
       "      <td>104296.620</td>\n",
       "      <td>144669.250000</td>\n",
       "    </tr>\n",
       "    <tr>\n",
       "      <th>V</th>\n",
       "      <td>110270.0</td>\n",
       "      <td>327150.512736</td>\n",
       "      <td>12854.04</td>\n",
       "      <td>28894395.51</td>\n",
       "      <td>134852.430</td>\n",
       "      <td>174021.966409</td>\n",
       "    </tr>\n",
       "    <tr>\n",
       "      <th>03 - UNIVERSITARIO</th>\n",
       "      <th>H</th>\n",
       "      <td>23143.0</td>\n",
       "      <td>347977.385479</td>\n",
       "      <td>3796.86</td>\n",
       "      <td>24253236.93</td>\n",
       "      <td>134854.110</td>\n",
       "      <td>180112.660102</td>\n",
       "    </tr>\n",
       "    <tr>\n",
       "      <th>02 - PARTICULARES</th>\n",
       "      <th>H</th>\n",
       "      <td>81879.0</td>\n",
       "      <td>363968.653630</td>\n",
       "      <td>3796.86</td>\n",
       "      <td>28894395.51</td>\n",
       "      <td>136353.090</td>\n",
       "      <td>177286.511452</td>\n",
       "    </tr>\n",
       "    <tr>\n",
       "      <th>A</th>\n",
       "      <th>02 - PARTICULARES</th>\n",
       "      <th>H</th>\n",
       "      <td>60.0</td>\n",
       "      <td>75781.245413</td>\n",
       "      <td>67261.98</td>\n",
       "      <td>462806.76</td>\n",
       "      <td>141818.535</td>\n",
       "      <td>157931.778500</td>\n",
       "    </tr>\n",
       "    <tr>\n",
       "      <th>N</th>\n",
       "      <th>03 - UNIVERSITARIO</th>\n",
       "      <th>V</th>\n",
       "      <td>19288.0</td>\n",
       "      <td>324470.127496</td>\n",
       "      <td>5163.75</td>\n",
       "      <td>28894395.51</td>\n",
       "      <td>142966.320</td>\n",
       "      <td>187212.473443</td>\n",
       "    </tr>\n",
       "    <tr>\n",
       "      <th rowspan=\"2\" valign=\"top\">F</th>\n",
       "      <th>01 - TOP</th>\n",
       "      <th>H</th>\n",
       "      <td>13.0</td>\n",
       "      <td>106776.950255</td>\n",
       "      <td>44353.17</td>\n",
       "      <td>430477.41</td>\n",
       "      <td>143215.290</td>\n",
       "      <td>166869.410769</td>\n",
       "    </tr>\n",
       "    <tr>\n",
       "      <th>02 - PARTICULARES</th>\n",
       "      <th>H</th>\n",
       "      <td>56.0</td>\n",
       "      <td>70626.883299</td>\n",
       "      <td>36015.60</td>\n",
       "      <td>357297.66</td>\n",
       "      <td>144884.520</td>\n",
       "      <td>149441.933571</td>\n",
       "    </tr>\n",
       "    <tr>\n",
       "      <th>A</th>\n",
       "      <th>01 - TOP</th>\n",
       "      <th>H</th>\n",
       "      <td>22.0</td>\n",
       "      <td>75742.833684</td>\n",
       "      <td>46730.31</td>\n",
       "      <td>326467.83</td>\n",
       "      <td>147637.695</td>\n",
       "      <td>159543.714545</td>\n",
       "    </tr>\n",
       "    <tr>\n",
       "      <th>N</th>\n",
       "      <th>UNKNOWN</th>\n",
       "      <th>V</th>\n",
       "      <td>607.0</td>\n",
       "      <td>132579.528182</td>\n",
       "      <td>34397.94</td>\n",
       "      <td>1484823.99</td>\n",
       "      <td>148421.340</td>\n",
       "      <td>183479.101977</td>\n",
       "    </tr>\n",
       "    <tr>\n",
       "      <th>A</th>\n",
       "      <th>02 - PARTICULARES</th>\n",
       "      <th>V</th>\n",
       "      <td>30.0</td>\n",
       "      <td>104786.540027</td>\n",
       "      <td>54742.41</td>\n",
       "      <td>632662.26</td>\n",
       "      <td>148797.270</td>\n",
       "      <td>178559.424000</td>\n",
       "    </tr>\n",
       "    <tr>\n",
       "      <th>N</th>\n",
       "      <th>UNKNOWN</th>\n",
       "      <th>H</th>\n",
       "      <td>460.0</td>\n",
       "      <td>211522.818007</td>\n",
       "      <td>35362.08</td>\n",
       "      <td>2693433.69</td>\n",
       "      <td>150652.305</td>\n",
       "      <td>207416.350761</td>\n",
       "    </tr>\n",
       "    <tr>\n",
       "      <th>B</th>\n",
       "      <th>UNKNOWN</th>\n",
       "      <th>H</th>\n",
       "      <td>1.0</td>\n",
       "      <td>NaN</td>\n",
       "      <td>154092.24</td>\n",
       "      <td>154092.24</td>\n",
       "      <td>154092.240</td>\n",
       "      <td>154092.240000</td>\n",
       "    </tr>\n",
       "    <tr>\n",
       "      <th>F</th>\n",
       "      <th>02 - PARTICULARES</th>\n",
       "      <th>V</th>\n",
       "      <td>46.0</td>\n",
       "      <td>129092.387305</td>\n",
       "      <td>42831.69</td>\n",
       "      <td>894900.18</td>\n",
       "      <td>158349.960</td>\n",
       "      <td>176957.411739</td>\n",
       "    </tr>\n",
       "    <tr>\n",
       "      <th rowspan=\"2\" valign=\"top\">N</th>\n",
       "      <th rowspan=\"2\" valign=\"top\">01 - TOP</th>\n",
       "      <th>V</th>\n",
       "      <td>11528.0</td>\n",
       "      <td>301635.072100</td>\n",
       "      <td>3796.86</td>\n",
       "      <td>19849331.97</td>\n",
       "      <td>161222.925</td>\n",
       "      <td>196914.668033</td>\n",
       "    </tr>\n",
       "    <tr>\n",
       "      <th>H</th>\n",
       "      <td>7440.0</td>\n",
       "      <td>269222.649097</td>\n",
       "      <td>21921.27</td>\n",
       "      <td>11139895.56</td>\n",
       "      <td>163463.955</td>\n",
       "      <td>198001.870476</td>\n",
       "    </tr>\n",
       "    <tr>\n",
       "      <th rowspan=\"2\" valign=\"top\">B</th>\n",
       "      <th rowspan=\"2\" valign=\"top\">02 - PARTICULARES</th>\n",
       "      <th>V</th>\n",
       "      <td>59.0</td>\n",
       "      <td>98175.508902</td>\n",
       "      <td>44560.92</td>\n",
       "      <td>493081.80</td>\n",
       "      <td>164164.320</td>\n",
       "      <td>191499.488644</td>\n",
       "    </tr>\n",
       "    <tr>\n",
       "      <th>H</th>\n",
       "      <td>81.0</td>\n",
       "      <td>135148.263290</td>\n",
       "      <td>18185.58</td>\n",
       "      <td>771167.16</td>\n",
       "      <td>179536.440</td>\n",
       "      <td>196419.032593</td>\n",
       "    </tr>\n",
       "    <tr>\n",
       "      <th>A</th>\n",
       "      <th>01 - TOP</th>\n",
       "      <th>V</th>\n",
       "      <td>13.0</td>\n",
       "      <td>66775.621090</td>\n",
       "      <td>63729.33</td>\n",
       "      <td>281757.72</td>\n",
       "      <td>179785.680</td>\n",
       "      <td>187843.022308</td>\n",
       "    </tr>\n",
       "    <tr>\n",
       "      <th>B</th>\n",
       "      <th>01 - TOP</th>\n",
       "      <th>V</th>\n",
       "      <td>14.0</td>\n",
       "      <td>90936.548478</td>\n",
       "      <td>36034.77</td>\n",
       "      <td>377353.11</td>\n",
       "      <td>217463.295</td>\n",
       "      <td>224680.787143</td>\n",
       "    </tr>\n",
       "    <tr>\n",
       "      <th>F</th>\n",
       "      <th>01 - TOP</th>\n",
       "      <th>V</th>\n",
       "      <td>17.0</td>\n",
       "      <td>114697.180364</td>\n",
       "      <td>77310.99</td>\n",
       "      <td>513379.29</td>\n",
       "      <td>219023.400</td>\n",
       "      <td>222085.058824</td>\n",
       "    </tr>\n",
       "    <tr>\n",
       "      <th>B</th>\n",
       "      <th>01 - TOP</th>\n",
       "      <th>H</th>\n",
       "      <td>19.0</td>\n",
       "      <td>190107.579042</td>\n",
       "      <td>87444.96</td>\n",
       "      <td>784577.49</td>\n",
       "      <td>230408.250</td>\n",
       "      <td>281290.514211</td>\n",
       "    </tr>\n",
       "  </tbody>\n",
       "</table>\n",
       "</div>"
      ],
      "text/plain": [
       "                                            renta                            \\\n",
       "                                            count            std        min   \n",
       "ind_empleado segmento           sexo                                          \n",
       "S            02 - PARTICULARES  H             1.0            NaN   87798.24   \n",
       "N            02 - PARTICULARES  UNKNOWN       3.0   82626.279999   89991.42   \n",
       "                                V        110270.0  327150.512736   12854.04   \n",
       "             03 - UNIVERSITARIO H         23143.0  347977.385479    3796.86   \n",
       "             02 - PARTICULARES  H         81879.0  363968.653630    3796.86   \n",
       "A            02 - PARTICULARES  H            60.0   75781.245413   67261.98   \n",
       "N            03 - UNIVERSITARIO V         19288.0  324470.127496    5163.75   \n",
       "F            01 - TOP           H            13.0  106776.950255   44353.17   \n",
       "             02 - PARTICULARES  H            56.0   70626.883299   36015.60   \n",
       "A            01 - TOP           H            22.0   75742.833684   46730.31   \n",
       "N            UNKNOWN            V           607.0  132579.528182   34397.94   \n",
       "A            02 - PARTICULARES  V            30.0  104786.540027   54742.41   \n",
       "N            UNKNOWN            H           460.0  211522.818007   35362.08   \n",
       "B            UNKNOWN            H             1.0            NaN  154092.24   \n",
       "F            02 - PARTICULARES  V            46.0  129092.387305   42831.69   \n",
       "N            01 - TOP           V         11528.0  301635.072100    3796.86   \n",
       "                                H          7440.0  269222.649097   21921.27   \n",
       "B            02 - PARTICULARES  V            59.0   98175.508902   44560.92   \n",
       "                                H            81.0  135148.263290   18185.58   \n",
       "A            01 - TOP           V            13.0   66775.621090   63729.33   \n",
       "B            01 - TOP           V            14.0   90936.548478   36034.77   \n",
       "F            01 - TOP           V            17.0  114697.180364   77310.99   \n",
       "B            01 - TOP           H            19.0  190107.579042   87444.96   \n",
       "\n",
       "                                                                  \\\n",
       "                                                 max      median   \n",
       "ind_empleado segmento           sexo                               \n",
       "S            02 - PARTICULARES  H           87798.24   87798.240   \n",
       "N            02 - PARTICULARES  UNKNOWN    239719.71  104296.620   \n",
       "                                V        28894395.51  134852.430   \n",
       "             03 - UNIVERSITARIO H        24253236.93  134854.110   \n",
       "             02 - PARTICULARES  H        28894395.51  136353.090   \n",
       "A            02 - PARTICULARES  H          462806.76  141818.535   \n",
       "N            03 - UNIVERSITARIO V        28894395.51  142966.320   \n",
       "F            01 - TOP           H          430477.41  143215.290   \n",
       "             02 - PARTICULARES  H          357297.66  144884.520   \n",
       "A            01 - TOP           H          326467.83  147637.695   \n",
       "N            UNKNOWN            V         1484823.99  148421.340   \n",
       "A            02 - PARTICULARES  V          632662.26  148797.270   \n",
       "N            UNKNOWN            H         2693433.69  150652.305   \n",
       "B            UNKNOWN            H          154092.24  154092.240   \n",
       "F            02 - PARTICULARES  V          894900.18  158349.960   \n",
       "N            01 - TOP           V        19849331.97  161222.925   \n",
       "                                H        11139895.56  163463.955   \n",
       "B            02 - PARTICULARES  V          493081.80  164164.320   \n",
       "                                H          771167.16  179536.440   \n",
       "A            01 - TOP           V          281757.72  179785.680   \n",
       "B            01 - TOP           V          377353.11  217463.295   \n",
       "F            01 - TOP           V          513379.29  219023.400   \n",
       "B            01 - TOP           H          784577.49  230408.250   \n",
       "\n",
       "                                                        \n",
       "                                                  mean  \n",
       "ind_empleado segmento           sexo                    \n",
       "S            02 - PARTICULARES  H         87798.240000  \n",
       "N            02 - PARTICULARES  UNKNOWN  144669.250000  \n",
       "                                V        174021.966409  \n",
       "             03 - UNIVERSITARIO H        180112.660102  \n",
       "             02 - PARTICULARES  H        177286.511452  \n",
       "A            02 - PARTICULARES  H        157931.778500  \n",
       "N            03 - UNIVERSITARIO V        187212.473443  \n",
       "F            01 - TOP           H        166869.410769  \n",
       "             02 - PARTICULARES  H        149441.933571  \n",
       "A            01 - TOP           H        159543.714545  \n",
       "N            UNKNOWN            V        183479.101977  \n",
       "A            02 - PARTICULARES  V        178559.424000  \n",
       "N            UNKNOWN            H        207416.350761  \n",
       "B            UNKNOWN            H        154092.240000  \n",
       "F            02 - PARTICULARES  V        176957.411739  \n",
       "N            01 - TOP           V        196914.668033  \n",
       "                                H        198001.870476  \n",
       "B            02 - PARTICULARES  V        191499.488644  \n",
       "                                H        196419.032593  \n",
       "A            01 - TOP           V        187843.022308  \n",
       "B            01 - TOP           V        224680.787143  \n",
       "F            01 - TOP           V        222085.058824  \n",
       "B            01 - TOP           H        281290.514211  "
      ]
     },
     "execution_count": 88,
     "metadata": {},
     "output_type": "execute_result"
    }
   ],
   "source": [
    "incomes_stats.loc['MADRID']"
   ]
  },
  {
   "cell_type": "code",
   "execution_count": null,
   "metadata": {
    "collapsed": true
   },
   "outputs": [],
   "source": []
  },
  {
   "cell_type": "markdown",
   "metadata": {},
   "source": [
    "Analyze those who do not declare their incomes"
   ]
  },
  {
   "cell_type": "code",
   "execution_count": 89,
   "metadata": {
    "collapsed": false
   },
   "outputs": [
    {
     "name": "stdout",
     "output_type": "stream",
     "text": [
      "36666 255050\n"
     ]
    }
   ],
   "source": [
    "print ((df['renta'].isnull()) & (df['nomprov'] == \"MADRID\")).sum(), ((df['renta'].notnull()) & (df['nomprov'] == \"MADRID\")).sum()"
   ]
  },
  {
   "cell_type": "code",
   "execution_count": 90,
   "metadata": {
    "collapsed": true
   },
   "outputs": [],
   "source": [
    "nan_incomes_gb = df[df['renta'].isnull()].groupby(['nomprov', 'ind_empleado', 'segmento', 'sexo'])"
   ]
  },
  {
   "cell_type": "code",
   "execution_count": 91,
   "metadata": {
    "collapsed": true
   },
   "outputs": [],
   "source": [
    "nan_incomes_stats = nan_incomes_gb.agg('size')"
   ]
  },
  {
   "cell_type": "code",
   "execution_count": 92,
   "metadata": {
    "collapsed": false
   },
   "outputs": [
    {
     "data": {
      "text/plain": [
       "ind_empleado  segmento            sexo\n",
       "N             01 - TOP            H         44\n",
       "                                  V        107\n",
       "              02 - PARTICULARES   H        680\n",
       "                                  V       1252\n",
       "              03 - UNIVERSITARIO  H        211\n",
       "                                  V        142\n",
       "              UNKNOWN             H         23\n",
       "                                  V         31\n",
       "dtype: int64"
      ]
     },
     "execution_count": 92,
     "metadata": {},
     "output_type": "execute_result"
    }
   ],
   "source": [
    "nan_incomes_stats.loc['ALAVA']"
   ]
  },
  {
   "cell_type": "code",
   "execution_count": null,
   "metadata": {
    "collapsed": true
   },
   "outputs": [],
   "source": []
  },
  {
   "cell_type": "markdown",
   "metadata": {},
   "source": [
    "Fill `renta` nan -> median per region, employee index, segment, gender if not defined replace by -99"
   ]
  },
  {
   "cell_type": "code",
   "execution_count": 93,
   "metadata": {
    "collapsed": true
   },
   "outputs": [],
   "source": [
    "incomes_gb = df[df['renta'].notnull()].groupby(['nomprov', 'ind_empleado', 'segmento', 'sexo'])\n",
    "incomes_stats = incomes_gb.agg(\"median\")\n",
    "nan_incomes_gb = df[df['renta'].isnull()].groupby(['nomprov', 'ind_empleado', 'segmento', 'sexo'])\n",
    "nan_incomes_stats = nan_incomes_gb.agg(\"size\")"
   ]
  },
  {
   "cell_type": "code",
   "execution_count": 94,
   "metadata": {
    "collapsed": false
   },
   "outputs": [],
   "source": [
    "for key, group_value in nan_incomes_gb:\n",
    "    if key in incomes_stats.index:\n",
    "        df.loc[group_value.index, 'renta'] = incomes_stats.loc[key]['renta']\n",
    "#         print \"Set value : \", incomes_stats.loc[key]['renta']\n",
    "    else:\n",
    "#         print \"Key is not found : \", key, \"Count = \", nan_incomes_stats.loc[key]\n",
    "#         print \"Set invalid value : -99\"\n",
    "        df.loc[group_value.index, 'renta'] = -99\n",
    "    "
   ]
  },
  {
   "cell_type": "code",
   "execution_count": 95,
   "metadata": {
    "collapsed": false
   },
   "outputs": [
    {
     "name": "stdout",
     "output_type": "stream",
     "text": [
      "0 520207\n"
     ]
    }
   ],
   "source": [
    "print df['renta'].isnull().sum(), len(df['renta'].unique())"
   ]
  },
  {
   "cell_type": "code",
   "execution_count": null,
   "metadata": {
    "collapsed": true
   },
   "outputs": [],
   "source": []
  },
  {
   "cell_type": "code",
   "execution_count": 96,
   "metadata": {
    "collapsed": false,
    "scrolled": true
   },
   "outputs": [
    {
     "data": {
      "text/plain": [
       "2"
      ]
     },
     "execution_count": 96,
     "metadata": {},
     "output_type": "execute_result"
    }
   ],
   "source": [
    "df.isnull().any().sum()"
   ]
  },
  {
   "cell_type": "code",
   "execution_count": 97,
   "metadata": {
    "collapsed": false
   },
   "outputs": [
    {
     "data": {
      "text/plain": [
       "fecha_dato               False\n",
       "ncodpers                 False\n",
       "ind_empleado             False\n",
       "pais_residencia          False\n",
       "sexo                     False\n",
       "age                      False\n",
       "fecha_alta               False\n",
       "ind_nuevo                False\n",
       "antiguedad               False\n",
       "indrel                   False\n",
       "ult_fec_cli_1t           False\n",
       "indrel_1mes               True\n",
       "tiprel_1mes               True\n",
       "indresi                  False\n",
       "indext                   False\n",
       "conyuemp                 False\n",
       "canal_entrada            False\n",
       "indfall                  False\n",
       "nomprov                  False\n",
       "ind_actividad_cliente    False\n",
       "renta                    False\n",
       "segmento                 False\n",
       "ind_ahor_fin_ult1        False\n",
       "ind_aval_fin_ult1        False\n",
       "ind_cco_fin_ult1         False\n",
       "ind_cder_fin_ult1        False\n",
       "ind_cno_fin_ult1         False\n",
       "ind_ctju_fin_ult1        False\n",
       "ind_ctma_fin_ult1        False\n",
       "ind_ctop_fin_ult1        False\n",
       "ind_ctpp_fin_ult1        False\n",
       "ind_deco_fin_ult1        False\n",
       "ind_deme_fin_ult1        False\n",
       "ind_dela_fin_ult1        False\n",
       "ind_ecue_fin_ult1        False\n",
       "ind_fond_fin_ult1        False\n",
       "ind_hip_fin_ult1         False\n",
       "ind_plan_fin_ult1        False\n",
       "ind_pres_fin_ult1        False\n",
       "ind_reca_fin_ult1        False\n",
       "ind_tjcr_fin_ult1        False\n",
       "ind_valo_fin_ult1        False\n",
       "ind_viv_fin_ult1         False\n",
       "ind_nomina_ult1          False\n",
       "ind_nom_pens_ult1        False\n",
       "ind_recibo_ult1          False\n",
       "dtype: bool"
      ]
     },
     "execution_count": 97,
     "metadata": {},
     "output_type": "execute_result"
    }
   ],
   "source": [
    "df.isnull().any()"
   ]
  },
  {
   "cell_type": "code",
   "execution_count": null,
   "metadata": {
    "collapsed": true
   },
   "outputs": [],
   "source": []
  },
  {
   "cell_type": "code",
   "execution_count": 98,
   "metadata": {
    "collapsed": false
   },
   "outputs": [
    {
     "data": {
      "text/plain": [
       "array(['1', 'P', '1.0', nan, '2.0', '3', '3.0', '4.0', 1.0, 2.0, 3.0, '2',\n",
       "       4.0, '4'], dtype=object)"
      ]
     },
     "execution_count": 98,
     "metadata": {},
     "output_type": "execute_result"
    }
   ],
   "source": [
    "df['indrel_1mes'].unique()"
   ]
  },
  {
   "cell_type": "code",
   "execution_count": 99,
   "metadata": {
    "collapsed": true
   },
   "outputs": [],
   "source": [
    "df['indrel_1mes'].fillna('UNKNOWN', inplace=True)"
   ]
  },
  {
   "cell_type": "code",
   "execution_count": 100,
   "metadata": {
    "collapsed": false
   },
   "outputs": [
    {
     "data": {
      "text/plain": [
       "1.0        360734\n",
       "1.0        332423\n",
       "1          198208\n",
       "UNKNOWN     14007\n",
       "3.0           186\n",
       "3.0           178\n",
       "3             118\n",
       "P              79\n",
       "2.0            50\n",
       "2              48\n",
       "2.0            40\n",
       "4.0            15\n",
       "4.0            10\n",
       "4               7\n",
       "Name: indrel_1mes, dtype: int64"
      ]
     },
     "execution_count": 100,
     "metadata": {},
     "output_type": "execute_result"
    }
   ],
   "source": [
    "df['indrel_1mes'].value_counts()"
   ]
  },
  {
   "cell_type": "code",
   "execution_count": 101,
   "metadata": {
    "collapsed": false
   },
   "outputs": [],
   "source": [
    "df['indrel_1mes'] = df['indrel_1mes'].astype(str).str.replace('.0', '')"
   ]
  },
  {
   "cell_type": "code",
   "execution_count": 102,
   "metadata": {
    "collapsed": false
   },
   "outputs": [
    {
     "data": {
      "text/plain": [
       "1          891365\n",
       "UNKNOWN     14007\n",
       "3             482\n",
       "2             138\n",
       "P              79\n",
       "4              32\n",
       "Name: indrel_1mes, dtype: int64"
      ]
     },
     "execution_count": 102,
     "metadata": {},
     "output_type": "execute_result"
    }
   ],
   "source": [
    "df['indrel_1mes'].value_counts()"
   ]
  },
  {
   "cell_type": "code",
   "execution_count": null,
   "metadata": {
    "collapsed": true
   },
   "outputs": [],
   "source": []
  },
  {
   "cell_type": "code",
   "execution_count": 129,
   "metadata": {
    "collapsed": false
   },
   "outputs": [
    {
     "data": {
      "text/plain": [
       "0"
      ]
     },
     "execution_count": 129,
     "metadata": {},
     "output_type": "execute_result"
    }
   ],
   "source": [
    "df['antiguedad'] = pd.to_numeric(df['antiguedad'],errors=\"coerce\")\n",
    "np.sum(df[\"antiguedad\"].isnull())"
   ]
  },
  {
   "cell_type": "code",
   "execution_count": null,
   "metadata": {
    "collapsed": true
   },
   "outputs": [],
   "source": [
    "#df.loc[df.antiguedad.isnull(),\"antiguedad\"] = df.antiguedad.min()\n",
    "#df.loc[df.antiguedad <0] = 0"
   ]
  },
  {
   "cell_type": "code",
   "execution_count": 137,
   "metadata": {
    "collapsed": false
   },
   "outputs": [
    {
     "data": {
      "text/plain": [
       "array([      4,      17,       0,       3,       1,       2,      12,\n",
       "           140,     183,      81,     120,     132,     139,     131,\n",
       "           137,     118,     141,     127,     126,      99,      57,\n",
       "            74,     123,     101,     119,     135,     124,      23,\n",
       "           156,     136,      13,     133,     121,     143,     128,\n",
       "            96,     138,     125,      86,      68,     134,       8,\n",
       "           102,     169,      16,      75,     113,      56,      25,\n",
       "             7,      10,      64,      37,      84,      21,      45,\n",
       "           116,      97,      98,      50,      85,      82,      31,\n",
       "           104,     100,      20,     117,      83,      46,     130,\n",
       "            87,      65,     103,      28,     107,      14,      60,\n",
       "            92,     210,     129,      73,      66,     218,     106,\n",
       "            44,     211,      11,      27,     199,     165,     108,\n",
       "            58,      55,       6,      93,      88,     115,      15,\n",
       "            18,     167,     205,      33,     202,     111,       9,\n",
       "            62,      19,      34,     160,      72,     110,      47,\n",
       "           187,      38,      41,      32,      80,      67,      91,\n",
       "            89,      94,     142,      29,      90,     105,     161,\n",
       "           153,      69,      43,     168,      54,     122,      22,\n",
       "            78,      63,      42,      30,     109,     114,      61,\n",
       "           164,     155,      76,      49,     144,     180,     227,\n",
       "           112,      40,     181,      79,      59,      26,      77,\n",
       "            51,      24,      71,      95,      70,       5,      48,\n",
       "           172,     185,     204,     214,      53,     177,     159,\n",
       "           173,      36,     175,     154,      39,     184,     158,\n",
       "           236,     166,     235,     150,     170,     222,     163,\n",
       "            52,     241,     193,     145,     146,     179,     226,\n",
       "           174,     147,     192,     233,     157,     148,     213,\n",
       "           228,     162,     149,     152,     203,      35,     178,\n",
       "           188,     171,     176,     198,     194,     182,     221,\n",
       "           200,     206,     230,     190,     242,     212,     231,\n",
       "           151,     208,     189,     229,     186,     197,     224,\n",
       "           196,     191,     223,     195,     239,     237,     209,\n",
       "           245,     246,     215,     234,     240,     217,     232,\n",
       "           238,     220,     225,     201,     207,     216,     219,\n",
       "           243,     250,     244,     247,     249,     248, -999999])"
      ]
     },
     "execution_count": 137,
     "metadata": {},
     "output_type": "execute_result"
    }
   ],
   "source": [
    "df['antiguedad'].unique()"
   ]
  },
  {
   "cell_type": "code",
   "execution_count": 130,
   "metadata": {
    "collapsed": false
   },
   "outputs": [
    {
     "data": {
      "text/plain": [
       "2"
      ]
     },
     "execution_count": 130,
     "metadata": {},
     "output_type": "execute_result"
    }
   ],
   "source": [
    "mask = df['antiguedad'] < 0\n",
    "mask.sum()"
   ]
  },
  {
   "cell_type": "code",
   "execution_count": 138,
   "metadata": {
    "collapsed": false
   },
   "outputs": [
    {
     "data": {
      "text/html": [
       "<div>\n",
       "<table border=\"1\" class=\"dataframe\">\n",
       "  <thead>\n",
       "    <tr style=\"text-align: right;\">\n",
       "      <th></th>\n",
       "      <th>fecha_alta</th>\n",
       "      <th>fecha_dato</th>\n",
       "      <th>antiguedad</th>\n",
       "      <th>age</th>\n",
       "    </tr>\n",
       "  </thead>\n",
       "  <tbody>\n",
       "    <tr>\n",
       "      <th>243279</th>\n",
       "      <td>1995-01-16</td>\n",
       "      <td>2015-11-28</td>\n",
       "      <td>248</td>\n",
       "      <td>51</td>\n",
       "    </tr>\n",
       "    <tr>\n",
       "      <th>243577</th>\n",
       "      <td>1995-04-04</td>\n",
       "      <td>2015-11-28</td>\n",
       "      <td>248</td>\n",
       "      <td>49</td>\n",
       "    </tr>\n",
       "    <tr>\n",
       "      <th>243578</th>\n",
       "      <td>1995-04-04</td>\n",
       "      <td>2015-11-28</td>\n",
       "      <td>248</td>\n",
       "      <td>47</td>\n",
       "    </tr>\n",
       "    <tr>\n",
       "      <th>243580</th>\n",
       "      <td>1995-04-04</td>\n",
       "      <td>2015-11-28</td>\n",
       "      <td>248</td>\n",
       "      <td>71</td>\n",
       "    </tr>\n",
       "    <tr>\n",
       "      <th>243581</th>\n",
       "      <td>1995-04-04</td>\n",
       "      <td>2015-11-28</td>\n",
       "      <td>248</td>\n",
       "      <td>68</td>\n",
       "    </tr>\n",
       "    <tr>\n",
       "      <th>243583</th>\n",
       "      <td>1998-04-21</td>\n",
       "      <td>2015-11-28</td>\n",
       "      <td>248</td>\n",
       "      <td>56</td>\n",
       "    </tr>\n",
       "    <tr>\n",
       "      <th>243584</th>\n",
       "      <td>1995-04-03</td>\n",
       "      <td>2015-11-28</td>\n",
       "      <td>248</td>\n",
       "      <td>56</td>\n",
       "    </tr>\n",
       "    <tr>\n",
       "      <th>243586</th>\n",
       "      <td>1995-04-01</td>\n",
       "      <td>2015-11-28</td>\n",
       "      <td>248</td>\n",
       "      <td>47</td>\n",
       "    </tr>\n",
       "    <tr>\n",
       "      <th>243589</th>\n",
       "      <td>1995-04-01</td>\n",
       "      <td>2015-11-28</td>\n",
       "      <td>248</td>\n",
       "      <td>46</td>\n",
       "    </tr>\n",
       "    <tr>\n",
       "      <th>243593</th>\n",
       "      <td>1995-03-31</td>\n",
       "      <td>2015-11-28</td>\n",
       "      <td>248</td>\n",
       "      <td>55</td>\n",
       "    </tr>\n",
       "    <tr>\n",
       "      <th>243594</th>\n",
       "      <td>1995-03-31</td>\n",
       "      <td>2015-11-28</td>\n",
       "      <td>248</td>\n",
       "      <td>48</td>\n",
       "    </tr>\n",
       "    <tr>\n",
       "      <th>243595</th>\n",
       "      <td>1995-03-31</td>\n",
       "      <td>2015-11-28</td>\n",
       "      <td>248</td>\n",
       "      <td>49</td>\n",
       "    </tr>\n",
       "    <tr>\n",
       "      <th>243596</th>\n",
       "      <td>1995-03-31</td>\n",
       "      <td>2015-11-28</td>\n",
       "      <td>248</td>\n",
       "      <td>52</td>\n",
       "    </tr>\n",
       "    <tr>\n",
       "      <th>243597</th>\n",
       "      <td>1995-03-31</td>\n",
       "      <td>2015-11-28</td>\n",
       "      <td>248</td>\n",
       "      <td>50</td>\n",
       "    </tr>\n",
       "    <tr>\n",
       "      <th>243598</th>\n",
       "      <td>1995-03-30</td>\n",
       "      <td>2015-11-28</td>\n",
       "      <td>248</td>\n",
       "      <td>62</td>\n",
       "    </tr>\n",
       "    <tr>\n",
       "      <th>243628</th>\n",
       "      <td>1995-03-29</td>\n",
       "      <td>2015-11-28</td>\n",
       "      <td>248</td>\n",
       "      <td>71</td>\n",
       "    </tr>\n",
       "    <tr>\n",
       "      <th>243629</th>\n",
       "      <td>1995-03-29</td>\n",
       "      <td>2015-11-28</td>\n",
       "      <td>248</td>\n",
       "      <td>48</td>\n",
       "    </tr>\n",
       "    <tr>\n",
       "      <th>243631</th>\n",
       "      <td>1995-03-21</td>\n",
       "      <td>2015-11-28</td>\n",
       "      <td>248</td>\n",
       "      <td>60</td>\n",
       "    </tr>\n",
       "    <tr>\n",
       "      <th>243632</th>\n",
       "      <td>1998-01-29</td>\n",
       "      <td>2015-11-28</td>\n",
       "      <td>248</td>\n",
       "      <td>74</td>\n",
       "    </tr>\n",
       "    <tr>\n",
       "      <th>243633</th>\n",
       "      <td>1995-03-17</td>\n",
       "      <td>2015-11-28</td>\n",
       "      <td>248</td>\n",
       "      <td>54</td>\n",
       "    </tr>\n",
       "    <tr>\n",
       "      <th>243634</th>\n",
       "      <td>1995-03-17</td>\n",
       "      <td>2015-11-28</td>\n",
       "      <td>248</td>\n",
       "      <td>89</td>\n",
       "    </tr>\n",
       "    <tr>\n",
       "      <th>243635</th>\n",
       "      <td>1995-03-17</td>\n",
       "      <td>2015-11-28</td>\n",
       "      <td>248</td>\n",
       "      <td>59</td>\n",
       "    </tr>\n",
       "    <tr>\n",
       "      <th>243636</th>\n",
       "      <td>1995-03-17</td>\n",
       "      <td>2015-11-28</td>\n",
       "      <td>248</td>\n",
       "      <td>58</td>\n",
       "    </tr>\n",
       "    <tr>\n",
       "      <th>243637</th>\n",
       "      <td>1995-03-16</td>\n",
       "      <td>2015-11-28</td>\n",
       "      <td>248</td>\n",
       "      <td>56</td>\n",
       "    </tr>\n",
       "    <tr>\n",
       "      <th>243638</th>\n",
       "      <td>1995-03-16</td>\n",
       "      <td>2015-11-28</td>\n",
       "      <td>248</td>\n",
       "      <td>64</td>\n",
       "    </tr>\n",
       "    <tr>\n",
       "      <th>243640</th>\n",
       "      <td>1995-03-16</td>\n",
       "      <td>2015-11-28</td>\n",
       "      <td>248</td>\n",
       "      <td>46</td>\n",
       "    </tr>\n",
       "    <tr>\n",
       "      <th>243643</th>\n",
       "      <td>1995-03-15</td>\n",
       "      <td>2015-11-28</td>\n",
       "      <td>248</td>\n",
       "      <td>63</td>\n",
       "    </tr>\n",
       "    <tr>\n",
       "      <th>243644</th>\n",
       "      <td>1995-03-21</td>\n",
       "      <td>2015-11-28</td>\n",
       "      <td>248</td>\n",
       "      <td>77</td>\n",
       "    </tr>\n",
       "    <tr>\n",
       "      <th>243645</th>\n",
       "      <td>1995-03-14</td>\n",
       "      <td>2015-11-28</td>\n",
       "      <td>248</td>\n",
       "      <td>69</td>\n",
       "    </tr>\n",
       "    <tr>\n",
       "      <th>243649</th>\n",
       "      <td>1995-03-14</td>\n",
       "      <td>2015-11-28</td>\n",
       "      <td>248</td>\n",
       "      <td>55</td>\n",
       "    </tr>\n",
       "    <tr>\n",
       "      <th>...</th>\n",
       "      <td>...</td>\n",
       "      <td>...</td>\n",
       "      <td>...</td>\n",
       "      <td>...</td>\n",
       "    </tr>\n",
       "    <tr>\n",
       "      <th>243812</th>\n",
       "      <td>1995-01-16</td>\n",
       "      <td>2015-11-28</td>\n",
       "      <td>248</td>\n",
       "      <td>53</td>\n",
       "    </tr>\n",
       "    <tr>\n",
       "      <th>243903</th>\n",
       "      <td>1995-01-16</td>\n",
       "      <td>2015-11-28</td>\n",
       "      <td>248</td>\n",
       "      <td>56</td>\n",
       "    </tr>\n",
       "    <tr>\n",
       "      <th>243928</th>\n",
       "      <td>1995-03-01</td>\n",
       "      <td>2015-11-28</td>\n",
       "      <td>248</td>\n",
       "      <td>48</td>\n",
       "    </tr>\n",
       "    <tr>\n",
       "      <th>243932</th>\n",
       "      <td>1995-03-07</td>\n",
       "      <td>2015-11-28</td>\n",
       "      <td>248</td>\n",
       "      <td>53</td>\n",
       "    </tr>\n",
       "    <tr>\n",
       "      <th>243933</th>\n",
       "      <td>1995-03-10</td>\n",
       "      <td>2015-11-28</td>\n",
       "      <td>248</td>\n",
       "      <td>44</td>\n",
       "    </tr>\n",
       "    <tr>\n",
       "      <th>243934</th>\n",
       "      <td>1995-03-10</td>\n",
       "      <td>2015-11-28</td>\n",
       "      <td>248</td>\n",
       "      <td>51</td>\n",
       "    </tr>\n",
       "    <tr>\n",
       "      <th>243935</th>\n",
       "      <td>1995-03-10</td>\n",
       "      <td>2015-11-28</td>\n",
       "      <td>248</td>\n",
       "      <td>48</td>\n",
       "    </tr>\n",
       "    <tr>\n",
       "      <th>243936</th>\n",
       "      <td>1995-03-10</td>\n",
       "      <td>2015-11-28</td>\n",
       "      <td>248</td>\n",
       "      <td>47</td>\n",
       "    </tr>\n",
       "    <tr>\n",
       "      <th>243938</th>\n",
       "      <td>1995-03-10</td>\n",
       "      <td>2015-11-28</td>\n",
       "      <td>248</td>\n",
       "      <td>71</td>\n",
       "    </tr>\n",
       "    <tr>\n",
       "      <th>243939</th>\n",
       "      <td>1995-03-24</td>\n",
       "      <td>2015-11-28</td>\n",
       "      <td>248</td>\n",
       "      <td>50</td>\n",
       "    </tr>\n",
       "    <tr>\n",
       "      <th>243940</th>\n",
       "      <td>1995-03-10</td>\n",
       "      <td>2015-11-28</td>\n",
       "      <td>248</td>\n",
       "      <td>47</td>\n",
       "    </tr>\n",
       "    <tr>\n",
       "      <th>243941</th>\n",
       "      <td>1995-03-10</td>\n",
       "      <td>2015-11-28</td>\n",
       "      <td>248</td>\n",
       "      <td>46</td>\n",
       "    </tr>\n",
       "    <tr>\n",
       "      <th>243942</th>\n",
       "      <td>2001-02-20</td>\n",
       "      <td>2015-11-28</td>\n",
       "      <td>248</td>\n",
       "      <td>54</td>\n",
       "    </tr>\n",
       "    <tr>\n",
       "      <th>243943</th>\n",
       "      <td>1995-03-09</td>\n",
       "      <td>2015-11-28</td>\n",
       "      <td>248</td>\n",
       "      <td>53</td>\n",
       "    </tr>\n",
       "    <tr>\n",
       "      <th>243945</th>\n",
       "      <td>1995-03-09</td>\n",
       "      <td>2015-11-28</td>\n",
       "      <td>248</td>\n",
       "      <td>50</td>\n",
       "    </tr>\n",
       "    <tr>\n",
       "      <th>243946</th>\n",
       "      <td>1995-03-09</td>\n",
       "      <td>2015-11-28</td>\n",
       "      <td>248</td>\n",
       "      <td>47</td>\n",
       "    </tr>\n",
       "    <tr>\n",
       "      <th>243947</th>\n",
       "      <td>1995-03-08</td>\n",
       "      <td>2015-11-28</td>\n",
       "      <td>248</td>\n",
       "      <td>52</td>\n",
       "    </tr>\n",
       "    <tr>\n",
       "      <th>243949</th>\n",
       "      <td>1995-03-08</td>\n",
       "      <td>2015-11-28</td>\n",
       "      <td>248</td>\n",
       "      <td>61</td>\n",
       "    </tr>\n",
       "    <tr>\n",
       "      <th>243950</th>\n",
       "      <td>1995-03-07</td>\n",
       "      <td>2015-11-28</td>\n",
       "      <td>248</td>\n",
       "      <td>59</td>\n",
       "    </tr>\n",
       "    <tr>\n",
       "      <th>243951</th>\n",
       "      <td>1995-03-07</td>\n",
       "      <td>2015-11-28</td>\n",
       "      <td>248</td>\n",
       "      <td>65</td>\n",
       "    </tr>\n",
       "    <tr>\n",
       "      <th>243952</th>\n",
       "      <td>1995-03-07</td>\n",
       "      <td>2015-11-28</td>\n",
       "      <td>248</td>\n",
       "      <td>53</td>\n",
       "    </tr>\n",
       "    <tr>\n",
       "      <th>243953</th>\n",
       "      <td>1995-03-07</td>\n",
       "      <td>2015-11-28</td>\n",
       "      <td>248</td>\n",
       "      <td>65</td>\n",
       "    </tr>\n",
       "    <tr>\n",
       "      <th>243954</th>\n",
       "      <td>1995-03-07</td>\n",
       "      <td>2015-11-28</td>\n",
       "      <td>248</td>\n",
       "      <td>54</td>\n",
       "    </tr>\n",
       "    <tr>\n",
       "      <th>243955</th>\n",
       "      <td>2000-12-02</td>\n",
       "      <td>2015-11-28</td>\n",
       "      <td>248</td>\n",
       "      <td>53</td>\n",
       "    </tr>\n",
       "    <tr>\n",
       "      <th>243956</th>\n",
       "      <td>1995-03-07</td>\n",
       "      <td>2015-11-28</td>\n",
       "      <td>248</td>\n",
       "      <td>51</td>\n",
       "    </tr>\n",
       "    <tr>\n",
       "      <th>243957</th>\n",
       "      <td>2000-10-14</td>\n",
       "      <td>2015-11-28</td>\n",
       "      <td>248</td>\n",
       "      <td>45</td>\n",
       "    </tr>\n",
       "    <tr>\n",
       "      <th>243962</th>\n",
       "      <td>1995-03-24</td>\n",
       "      <td>2015-11-28</td>\n",
       "      <td>248</td>\n",
       "      <td>54</td>\n",
       "    </tr>\n",
       "    <tr>\n",
       "      <th>244003</th>\n",
       "      <td>1995-03-08</td>\n",
       "      <td>2015-11-28</td>\n",
       "      <td>248</td>\n",
       "      <td>48</td>\n",
       "    </tr>\n",
       "    <tr>\n",
       "      <th>244404</th>\n",
       "      <td>1995-07-12</td>\n",
       "      <td>2015-11-28</td>\n",
       "      <td>248</td>\n",
       "      <td>50</td>\n",
       "    </tr>\n",
       "    <tr>\n",
       "      <th>274331</th>\n",
       "      <td>1996-06-06</td>\n",
       "      <td>2015-11-28</td>\n",
       "      <td>248</td>\n",
       "      <td>43</td>\n",
       "    </tr>\n",
       "  </tbody>\n",
       "</table>\n",
       "<p>85 rows × 4 columns</p>\n",
       "</div>"
      ],
      "text/plain": [
       "       fecha_alta fecha_dato  antiguedad  age\n",
       "243279 1995-01-16 2015-11-28         248   51\n",
       "243577 1995-04-04 2015-11-28         248   49\n",
       "243578 1995-04-04 2015-11-28         248   47\n",
       "243580 1995-04-04 2015-11-28         248   71\n",
       "243581 1995-04-04 2015-11-28         248   68\n",
       "243583 1998-04-21 2015-11-28         248   56\n",
       "243584 1995-04-03 2015-11-28         248   56\n",
       "243586 1995-04-01 2015-11-28         248   47\n",
       "243589 1995-04-01 2015-11-28         248   46\n",
       "243593 1995-03-31 2015-11-28         248   55\n",
       "243594 1995-03-31 2015-11-28         248   48\n",
       "243595 1995-03-31 2015-11-28         248   49\n",
       "243596 1995-03-31 2015-11-28         248   52\n",
       "243597 1995-03-31 2015-11-28         248   50\n",
       "243598 1995-03-30 2015-11-28         248   62\n",
       "243628 1995-03-29 2015-11-28         248   71\n",
       "243629 1995-03-29 2015-11-28         248   48\n",
       "243631 1995-03-21 2015-11-28         248   60\n",
       "243632 1998-01-29 2015-11-28         248   74\n",
       "243633 1995-03-17 2015-11-28         248   54\n",
       "243634 1995-03-17 2015-11-28         248   89\n",
       "243635 1995-03-17 2015-11-28         248   59\n",
       "243636 1995-03-17 2015-11-28         248   58\n",
       "243637 1995-03-16 2015-11-28         248   56\n",
       "243638 1995-03-16 2015-11-28         248   64\n",
       "243640 1995-03-16 2015-11-28         248   46\n",
       "243643 1995-03-15 2015-11-28         248   63\n",
       "243644 1995-03-21 2015-11-28         248   77\n",
       "243645 1995-03-14 2015-11-28         248   69\n",
       "243649 1995-03-14 2015-11-28         248   55\n",
       "...           ...        ...         ...  ...\n",
       "243812 1995-01-16 2015-11-28         248   53\n",
       "243903 1995-01-16 2015-11-28         248   56\n",
       "243928 1995-03-01 2015-11-28         248   48\n",
       "243932 1995-03-07 2015-11-28         248   53\n",
       "243933 1995-03-10 2015-11-28         248   44\n",
       "243934 1995-03-10 2015-11-28         248   51\n",
       "243935 1995-03-10 2015-11-28         248   48\n",
       "243936 1995-03-10 2015-11-28         248   47\n",
       "243938 1995-03-10 2015-11-28         248   71\n",
       "243939 1995-03-24 2015-11-28         248   50\n",
       "243940 1995-03-10 2015-11-28         248   47\n",
       "243941 1995-03-10 2015-11-28         248   46\n",
       "243942 2001-02-20 2015-11-28         248   54\n",
       "243943 1995-03-09 2015-11-28         248   53\n",
       "243945 1995-03-09 2015-11-28         248   50\n",
       "243946 1995-03-09 2015-11-28         248   47\n",
       "243947 1995-03-08 2015-11-28         248   52\n",
       "243949 1995-03-08 2015-11-28         248   61\n",
       "243950 1995-03-07 2015-11-28         248   59\n",
       "243951 1995-03-07 2015-11-28         248   65\n",
       "243952 1995-03-07 2015-11-28         248   53\n",
       "243953 1995-03-07 2015-11-28         248   65\n",
       "243954 1995-03-07 2015-11-28         248   54\n",
       "243955 2000-12-02 2015-11-28         248   53\n",
       "243956 1995-03-07 2015-11-28         248   51\n",
       "243957 2000-10-14 2015-11-28         248   45\n",
       "243962 1995-03-24 2015-11-28         248   54\n",
       "244003 1995-03-08 2015-11-28         248   48\n",
       "244404 1995-07-12 2015-11-28         248   50\n",
       "274331 1996-06-06 2015-11-28         248   43\n",
       "\n",
       "[85 rows x 4 columns]"
      ]
     },
     "execution_count": 138,
     "metadata": {},
     "output_type": "execute_result"
    }
   ],
   "source": [
    "df[df['antiguedad'] == 248][['fecha_alta', 'fecha_dato', 'antiguedad', 'age']]"
   ]
  },
  {
   "cell_type": "code",
   "execution_count": null,
   "metadata": {
    "collapsed": true
   },
   "outputs": [],
   "source": []
  },
  {
   "cell_type": "code",
   "execution_count": null,
   "metadata": {
    "collapsed": true
   },
   "outputs": [],
   "source": []
  },
  {
   "cell_type": "code",
   "execution_count": null,
   "metadata": {
    "collapsed": true
   },
   "outputs": [],
   "source": []
  },
  {
   "cell_type": "code",
   "execution_count": 103,
   "metadata": {
    "collapsed": false
   },
   "outputs": [
    {
     "data": {
      "text/plain": [
       "array([ 1, 99])"
      ]
     },
     "execution_count": 103,
     "metadata": {},
     "output_type": "execute_result"
    }
   ],
   "source": [
    "df['indrel'].unique()"
   ]
  },
  {
   "cell_type": "code",
   "execution_count": null,
   "metadata": {
    "collapsed": true
   },
   "outputs": [],
   "source": []
  },
  {
   "cell_type": "code",
   "execution_count": 104,
   "metadata": {
    "collapsed": false
   },
   "outputs": [
    {
     "data": {
      "text/plain": [
       "array(['A', 'I', 'R', nan, 'P'], dtype=object)"
      ]
     },
     "execution_count": 104,
     "metadata": {},
     "output_type": "execute_result"
    }
   ],
   "source": [
    "df['tiprel_1mes'].unique()"
   ]
  },
  {
   "cell_type": "code",
   "execution_count": 105,
   "metadata": {
    "collapsed": true
   },
   "outputs": [],
   "source": [
    "df['tiprel_1mes'].fillna('UNKNOWN', inplace=True)"
   ]
  },
  {
   "cell_type": "code",
   "execution_count": 106,
   "metadata": {
    "collapsed": false
   },
   "outputs": [
    {
     "data": {
      "text/plain": [
       "I          494038\n",
       "A          397465\n",
       "UNKNOWN     14007\n",
       "P             514\n",
       "R              79\n",
       "Name: tiprel_1mes, dtype: int64"
      ]
     },
     "execution_count": 106,
     "metadata": {},
     "output_type": "execute_result"
    }
   ],
   "source": [
    "df['tiprel_1mes'].value_counts()"
   ]
  },
  {
   "cell_type": "code",
   "execution_count": 107,
   "metadata": {
    "collapsed": false
   },
   "outputs": [],
   "source": [
    "df['fecha_alta'] = pd.to_datetime(df['fecha_alta'])\n",
    "df['fecha_dato'] = pd.to_datetime(df['fecha_dato'])"
   ]
  },
  {
   "cell_type": "code",
   "execution_count": 108,
   "metadata": {
    "collapsed": false
   },
   "outputs": [
    {
     "data": {
      "text/plain": [
       "14006"
      ]
     },
     "execution_count": 108,
     "metadata": {},
     "output_type": "execute_result"
    }
   ],
   "source": [
    "((df['indrel_1mes'] == \"UNKNOWN\") & (df['tiprel_1mes'] == \"UNKNOWN\") & (df['fecha_dato'].dt.month == df['fecha_alta'].dt.month)).sum()"
   ]
  },
  {
   "cell_type": "code",
   "execution_count": 109,
   "metadata": {
    "collapsed": false
   },
   "outputs": [],
   "source": [
    "mask = (df['indrel_1mes'] == \"UNKNOWN\") & (df['tiprel_1mes'] == \"UNKNOWN\") & (df['fecha_dato'].dt.month == df['fecha_alta'].dt.month)"
   ]
  },
  {
   "cell_type": "code",
   "execution_count": 110,
   "metadata": {
    "collapsed": false
   },
   "outputs": [
    {
     "data": {
      "text/html": [
       "<div>\n",
       "<table border=\"1\" class=\"dataframe\">\n",
       "  <thead>\n",
       "    <tr style=\"text-align: right;\">\n",
       "      <th></th>\n",
       "      <th>fecha_dato</th>\n",
       "      <th>fecha_alta</th>\n",
       "      <th>ult_fec_cli_1t</th>\n",
       "      <th>indrel</th>\n",
       "    </tr>\n",
       "  </thead>\n",
       "  <tbody>\n",
       "    <tr>\n",
       "      <th>1712</th>\n",
       "      <td>2015-11-28</td>\n",
       "      <td>2015-11-11</td>\n",
       "      <td>2015-11-12</td>\n",
       "      <td>99</td>\n",
       "    </tr>\n",
       "    <tr>\n",
       "      <th>3463</th>\n",
       "      <td>2015-11-28</td>\n",
       "      <td>2015-11-30</td>\n",
       "      <td>UNKNOWN</td>\n",
       "      <td>1</td>\n",
       "    </tr>\n",
       "    <tr>\n",
       "      <th>45072</th>\n",
       "      <td>2015-11-28</td>\n",
       "      <td>2015-11-15</td>\n",
       "      <td>UNKNOWN</td>\n",
       "      <td>1</td>\n",
       "    </tr>\n",
       "    <tr>\n",
       "      <th>134245</th>\n",
       "      <td>2015-11-28</td>\n",
       "      <td>2015-11-11</td>\n",
       "      <td>UNKNOWN</td>\n",
       "      <td>1</td>\n",
       "    </tr>\n",
       "    <tr>\n",
       "      <th>136235</th>\n",
       "      <td>2015-11-28</td>\n",
       "      <td>2015-11-16</td>\n",
       "      <td>UNKNOWN</td>\n",
       "      <td>1</td>\n",
       "    </tr>\n",
       "    <tr>\n",
       "      <th>151333</th>\n",
       "      <td>2015-11-28</td>\n",
       "      <td>2015-11-17</td>\n",
       "      <td>UNKNOWN</td>\n",
       "      <td>1</td>\n",
       "    </tr>\n",
       "    <tr>\n",
       "      <th>206062</th>\n",
       "      <td>2015-11-28</td>\n",
       "      <td>2015-11-13</td>\n",
       "      <td>UNKNOWN</td>\n",
       "      <td>1</td>\n",
       "    </tr>\n",
       "    <tr>\n",
       "      <th>291742</th>\n",
       "      <td>2015-11-28</td>\n",
       "      <td>2015-11-06</td>\n",
       "      <td>UNKNOWN</td>\n",
       "      <td>1</td>\n",
       "    </tr>\n",
       "    <tr>\n",
       "      <th>291988</th>\n",
       "      <td>2015-11-28</td>\n",
       "      <td>2015-11-06</td>\n",
       "      <td>UNKNOWN</td>\n",
       "      <td>1</td>\n",
       "    </tr>\n",
       "    <tr>\n",
       "      <th>301971</th>\n",
       "      <td>2015-11-28</td>\n",
       "      <td>2015-11-19</td>\n",
       "      <td>UNKNOWN</td>\n",
       "      <td>1</td>\n",
       "    </tr>\n",
       "  </tbody>\n",
       "</table>\n",
       "</div>"
      ],
      "text/plain": [
       "       fecha_dato fecha_alta ult_fec_cli_1t  indrel\n",
       "1712   2015-11-28 2015-11-11     2015-11-12      99\n",
       "3463   2015-11-28 2015-11-30        UNKNOWN       1\n",
       "45072  2015-11-28 2015-11-15        UNKNOWN       1\n",
       "134245 2015-11-28 2015-11-11        UNKNOWN       1\n",
       "136235 2015-11-28 2015-11-16        UNKNOWN       1\n",
       "151333 2015-11-28 2015-11-17        UNKNOWN       1\n",
       "206062 2015-11-28 2015-11-13        UNKNOWN       1\n",
       "291742 2015-11-28 2015-11-06        UNKNOWN       1\n",
       "291988 2015-11-28 2015-11-06        UNKNOWN       1\n",
       "301971 2015-11-28 2015-11-19        UNKNOWN       1"
      ]
     },
     "execution_count": 110,
     "metadata": {},
     "output_type": "execute_result"
    }
   ],
   "source": [
    "df[mask][['fecha_dato', 'fecha_alta', 'ult_fec_cli_1t', 'indrel']].head(10)"
   ]
  },
  {
   "cell_type": "code",
   "execution_count": 111,
   "metadata": {
    "collapsed": false
   },
   "outputs": [],
   "source": [
    "#df.loc[df.age < 18,\"age\"]  = df.loc[(df.age >= 18) & (df.age <= 30),\"age\"].mean(skipna=True)\n",
    "#df.loc[df.age > 90,\"age\"] = df.loc[(df.age >= 30) & (df.age <= 90),\"age\"].mean(skipna=True)\n",
    "df.loc[mask & (df['indrel'] == 1), 'indrel_1mes'] = '1'\n",
    "df.loc[mask & (df['indrel'] == 99), 'indrel_1mes'] = '3'\n",
    "df.loc[mask, 'tiprel_1mes'] = 'A'"
   ]
  },
  {
   "cell_type": "code",
   "execution_count": 112,
   "metadata": {
    "collapsed": false
   },
   "outputs": [
    {
     "data": {
      "text/plain": [
       "I          494038\n",
       "A          411471\n",
       "P             514\n",
       "R              79\n",
       "UNKNOWN         1\n",
       "Name: tiprel_1mes, dtype: int64"
      ]
     },
     "execution_count": 112,
     "metadata": {},
     "output_type": "execute_result"
    }
   ],
   "source": [
    "df['tiprel_1mes'].value_counts()"
   ]
  },
  {
   "cell_type": "code",
   "execution_count": 113,
   "metadata": {
    "collapsed": false
   },
   "outputs": [
    {
     "data": {
      "text/plain": [
       "1          904967\n",
       "3             886\n",
       "2             138\n",
       "P              79\n",
       "4              32\n",
       "UNKNOWN         1\n",
       "Name: indrel_1mes, dtype: int64"
      ]
     },
     "execution_count": 113,
     "metadata": {},
     "output_type": "execute_result"
    }
   ],
   "source": [
    "df['indrel_1mes'].value_counts()"
   ]
  },
  {
   "cell_type": "code",
   "execution_count": null,
   "metadata": {
    "collapsed": true
   },
   "outputs": [],
   "source": []
  },
  {
   "cell_type": "code",
   "execution_count": null,
   "metadata": {
    "collapsed": true
   },
   "outputs": [],
   "source": []
  },
  {
   "cell_type": "code",
   "execution_count": 114,
   "metadata": {
    "collapsed": false
   },
   "outputs": [
    {
     "data": {
      "text/plain": [
       "0"
      ]
     },
     "execution_count": 114,
     "metadata": {},
     "output_type": "execute_result"
    }
   ],
   "source": [
    "df.isnull().any().sum()"
   ]
  },
  {
   "cell_type": "code",
   "execution_count": null,
   "metadata": {
    "collapsed": true
   },
   "outputs": [],
   "source": []
  },
  {
   "cell_type": "code",
   "execution_count": null,
   "metadata": {
    "collapsed": true
   },
   "outputs": [],
   "source": []
  },
  {
   "cell_type": "code",
   "execution_count": 117,
   "metadata": {
    "collapsed": false
   },
   "outputs": [],
   "source": [
    "df['logrenta'] = np.log(df[df['renta'] > 0]['renta'] + 1)"
   ]
  },
  {
   "cell_type": "code",
   "execution_count": 120,
   "metadata": {
    "collapsed": false
   },
   "outputs": [],
   "source": [
    "df.loc[df['logrenta'].isnull(), 'logrenta'] = -99"
   ]
  },
  {
   "cell_type": "code",
   "execution_count": 128,
   "metadata": {
    "collapsed": false
   },
   "outputs": [
    {
     "data": {
      "text/html": [
       "<div>\n",
       "<table border=\"1\" class=\"dataframe\">\n",
       "  <thead>\n",
       "    <tr style=\"text-align: right;\">\n",
       "      <th></th>\n",
       "      <th>ncodpers</th>\n",
       "      <th>age</th>\n",
       "      <th>ind_nuevo</th>\n",
       "      <th>antiguedad</th>\n",
       "      <th>indrel</th>\n",
       "      <th>ind_actividad_cliente</th>\n",
       "      <th>renta</th>\n",
       "      <th>ind_ahor_fin_ult1</th>\n",
       "      <th>ind_aval_fin_ult1</th>\n",
       "      <th>ind_cco_fin_ult1</th>\n",
       "      <th>...</th>\n",
       "      <th>ind_plan_fin_ult1</th>\n",
       "      <th>ind_pres_fin_ult1</th>\n",
       "      <th>ind_reca_fin_ult1</th>\n",
       "      <th>ind_tjcr_fin_ult1</th>\n",
       "      <th>ind_valo_fin_ult1</th>\n",
       "      <th>ind_viv_fin_ult1</th>\n",
       "      <th>ind_nomina_ult1</th>\n",
       "      <th>ind_nom_pens_ult1</th>\n",
       "      <th>ind_recibo_ult1</th>\n",
       "      <th>logrenta</th>\n",
       "    </tr>\n",
       "  </thead>\n",
       "  <tbody>\n",
       "    <tr>\n",
       "      <th>count</th>\n",
       "      <td>9.061030e+05</td>\n",
       "      <td>906103.000000</td>\n",
       "      <td>906103.00000</td>\n",
       "      <td>906103.000000</td>\n",
       "      <td>906103.000000</td>\n",
       "      <td>906103.000000</td>\n",
       "      <td>9.061030e+05</td>\n",
       "      <td>906103.000000</td>\n",
       "      <td>906103.000000</td>\n",
       "      <td>906103.000000</td>\n",
       "      <td>...</td>\n",
       "      <td>906103.000000</td>\n",
       "      <td>906103.000000</td>\n",
       "      <td>906103.000000</td>\n",
       "      <td>906103.000000</td>\n",
       "      <td>906103.000000</td>\n",
       "      <td>906103.000000</td>\n",
       "      <td>906103.000000</td>\n",
       "      <td>906103.000000</td>\n",
       "      <td>906103.000000</td>\n",
       "      <td>906103.000000</td>\n",
       "    </tr>\n",
       "    <tr>\n",
       "      <th>mean</th>\n",
       "      <td>8.602711e+05</td>\n",
       "      <td>39.492091</td>\n",
       "      <td>0.11066</td>\n",
       "      <td>74.209649</td>\n",
       "      <td>1.195112</td>\n",
       "      <td>0.421301</td>\n",
       "      <td>1.257928e+05</td>\n",
       "      <td>0.000089</td>\n",
       "      <td>0.000020</td>\n",
       "      <td>0.608978</td>\n",
       "      <td>...</td>\n",
       "      <td>0.008066</td>\n",
       "      <td>0.002226</td>\n",
       "      <td>0.047689</td>\n",
       "      <td>0.040025</td>\n",
       "      <td>0.022930</td>\n",
       "      <td>0.003374</td>\n",
       "      <td>0.049617</td>\n",
       "      <td>0.054329</td>\n",
       "      <td>0.115869</td>\n",
       "      <td>10.585827</td>\n",
       "    </tr>\n",
       "    <tr>\n",
       "      <th>std</th>\n",
       "      <td>4.396582e+05</td>\n",
       "      <td>16.517070</td>\n",
       "      <td>0.31371</td>\n",
       "      <td>1487.295815</td>\n",
       "      <td>4.368406</td>\n",
       "      <td>0.493768</td>\n",
       "      <td>2.067982e+05</td>\n",
       "      <td>0.009454</td>\n",
       "      <td>0.004457</td>\n",
       "      <td>0.487980</td>\n",
       "      <td>...</td>\n",
       "      <td>0.089450</td>\n",
       "      <td>0.047128</td>\n",
       "      <td>0.213107</td>\n",
       "      <td>0.196019</td>\n",
       "      <td>0.149681</td>\n",
       "      <td>0.057986</td>\n",
       "      <td>0.217152</td>\n",
       "      <td>0.226667</td>\n",
       "      <td>0.320068</td>\n",
       "      <td>10.259563</td>\n",
       "    </tr>\n",
       "    <tr>\n",
       "      <th>min</th>\n",
       "      <td>1.588900e+04</td>\n",
       "      <td>18.000000</td>\n",
       "      <td>0.00000</td>\n",
       "      <td>-999999.000000</td>\n",
       "      <td>1.000000</td>\n",
       "      <td>0.000000</td>\n",
       "      <td>-9.900000e+01</td>\n",
       "      <td>0.000000</td>\n",
       "      <td>0.000000</td>\n",
       "      <td>0.000000</td>\n",
       "      <td>...</td>\n",
       "      <td>0.000000</td>\n",
       "      <td>0.000000</td>\n",
       "      <td>0.000000</td>\n",
       "      <td>0.000000</td>\n",
       "      <td>0.000000</td>\n",
       "      <td>0.000000</td>\n",
       "      <td>0.000000</td>\n",
       "      <td>0.000000</td>\n",
       "      <td>0.000000</td>\n",
       "      <td>-99.000000</td>\n",
       "    </tr>\n",
       "    <tr>\n",
       "      <th>25%</th>\n",
       "      <td>4.715475e+05</td>\n",
       "      <td>24.000000</td>\n",
       "      <td>0.00000</td>\n",
       "      <td>21.000000</td>\n",
       "      <td>1.000000</td>\n",
       "      <td>0.000000</td>\n",
       "      <td>6.950172e+04</td>\n",
       "      <td>0.000000</td>\n",
       "      <td>0.000000</td>\n",
       "      <td>0.000000</td>\n",
       "      <td>...</td>\n",
       "      <td>0.000000</td>\n",
       "      <td>0.000000</td>\n",
       "      <td>0.000000</td>\n",
       "      <td>0.000000</td>\n",
       "      <td>0.000000</td>\n",
       "      <td>0.000000</td>\n",
       "      <td>0.000000</td>\n",
       "      <td>0.000000</td>\n",
       "      <td>0.000000</td>\n",
       "      <td>11.149121</td>\n",
       "    </tr>\n",
       "    <tr>\n",
       "      <th>50%</th>\n",
       "      <td>9.512530e+05</td>\n",
       "      <td>38.000000</td>\n",
       "      <td>0.00000</td>\n",
       "      <td>49.000000</td>\n",
       "      <td>1.000000</td>\n",
       "      <td>0.000000</td>\n",
       "      <td>9.771036e+04</td>\n",
       "      <td>0.000000</td>\n",
       "      <td>0.000000</td>\n",
       "      <td>1.000000</td>\n",
       "      <td>...</td>\n",
       "      <td>0.000000</td>\n",
       "      <td>0.000000</td>\n",
       "      <td>0.000000</td>\n",
       "      <td>0.000000</td>\n",
       "      <td>0.000000</td>\n",
       "      <td>0.000000</td>\n",
       "      <td>0.000000</td>\n",
       "      <td>0.000000</td>\n",
       "      <td>0.000000</td>\n",
       "      <td>11.489773</td>\n",
       "    </tr>\n",
       "    <tr>\n",
       "      <th>75%</th>\n",
       "      <td>1.233788e+06</td>\n",
       "      <td>50.000000</td>\n",
       "      <td>0.00000</td>\n",
       "      <td>131.000000</td>\n",
       "      <td>1.000000</td>\n",
       "      <td>1.000000</td>\n",
       "      <td>1.405830e+05</td>\n",
       "      <td>0.000000</td>\n",
       "      <td>0.000000</td>\n",
       "      <td>1.000000</td>\n",
       "      <td>...</td>\n",
       "      <td>0.000000</td>\n",
       "      <td>0.000000</td>\n",
       "      <td>0.000000</td>\n",
       "      <td>0.000000</td>\n",
       "      <td>0.000000</td>\n",
       "      <td>0.000000</td>\n",
       "      <td>0.000000</td>\n",
       "      <td>0.000000</td>\n",
       "      <td>0.000000</td>\n",
       "      <td>11.853561</td>\n",
       "    </tr>\n",
       "    <tr>\n",
       "      <th>max</th>\n",
       "      <td>1.511973e+06</td>\n",
       "      <td>90.000000</td>\n",
       "      <td>1.00000</td>\n",
       "      <td>250.000000</td>\n",
       "      <td>99.000000</td>\n",
       "      <td>1.000000</td>\n",
       "      <td>2.889440e+07</td>\n",
       "      <td>1.000000</td>\n",
       "      <td>1.000000</td>\n",
       "      <td>1.000000</td>\n",
       "      <td>...</td>\n",
       "      <td>1.000000</td>\n",
       "      <td>1.000000</td>\n",
       "      <td>1.000000</td>\n",
       "      <td>1.000000</td>\n",
       "      <td>1.000000</td>\n",
       "      <td>1.000000</td>\n",
       "      <td>1.000000</td>\n",
       "      <td>1.000000</td>\n",
       "      <td>1.000000</td>\n",
       "      <td>17.179158</td>\n",
       "    </tr>\n",
       "  </tbody>\n",
       "</table>\n",
       "<p>8 rows × 32 columns</p>\n",
       "</div>"
      ],
      "text/plain": [
       "           ncodpers            age     ind_nuevo     antiguedad  \\\n",
       "count  9.061030e+05  906103.000000  906103.00000  906103.000000   \n",
       "mean   8.602711e+05      39.492091       0.11066      74.209649   \n",
       "std    4.396582e+05      16.517070       0.31371    1487.295815   \n",
       "min    1.588900e+04      18.000000       0.00000 -999999.000000   \n",
       "25%    4.715475e+05      24.000000       0.00000      21.000000   \n",
       "50%    9.512530e+05      38.000000       0.00000      49.000000   \n",
       "75%    1.233788e+06      50.000000       0.00000     131.000000   \n",
       "max    1.511973e+06      90.000000       1.00000     250.000000   \n",
       "\n",
       "              indrel  ind_actividad_cliente         renta  ind_ahor_fin_ult1  \\\n",
       "count  906103.000000          906103.000000  9.061030e+05      906103.000000   \n",
       "mean        1.195112               0.421301  1.257928e+05           0.000089   \n",
       "std         4.368406               0.493768  2.067982e+05           0.009454   \n",
       "min         1.000000               0.000000 -9.900000e+01           0.000000   \n",
       "25%         1.000000               0.000000  6.950172e+04           0.000000   \n",
       "50%         1.000000               0.000000  9.771036e+04           0.000000   \n",
       "75%         1.000000               1.000000  1.405830e+05           0.000000   \n",
       "max        99.000000               1.000000  2.889440e+07           1.000000   \n",
       "\n",
       "       ind_aval_fin_ult1  ind_cco_fin_ult1      ...        ind_plan_fin_ult1  \\\n",
       "count      906103.000000     906103.000000      ...            906103.000000   \n",
       "mean            0.000020          0.608978      ...                 0.008066   \n",
       "std             0.004457          0.487980      ...                 0.089450   \n",
       "min             0.000000          0.000000      ...                 0.000000   \n",
       "25%             0.000000          0.000000      ...                 0.000000   \n",
       "50%             0.000000          1.000000      ...                 0.000000   \n",
       "75%             0.000000          1.000000      ...                 0.000000   \n",
       "max             1.000000          1.000000      ...                 1.000000   \n",
       "\n",
       "       ind_pres_fin_ult1  ind_reca_fin_ult1  ind_tjcr_fin_ult1  \\\n",
       "count      906103.000000      906103.000000      906103.000000   \n",
       "mean            0.002226           0.047689           0.040025   \n",
       "std             0.047128           0.213107           0.196019   \n",
       "min             0.000000           0.000000           0.000000   \n",
       "25%             0.000000           0.000000           0.000000   \n",
       "50%             0.000000           0.000000           0.000000   \n",
       "75%             0.000000           0.000000           0.000000   \n",
       "max             1.000000           1.000000           1.000000   \n",
       "\n",
       "       ind_valo_fin_ult1  ind_viv_fin_ult1  ind_nomina_ult1  \\\n",
       "count      906103.000000     906103.000000    906103.000000   \n",
       "mean            0.022930          0.003374         0.049617   \n",
       "std             0.149681          0.057986         0.217152   \n",
       "min             0.000000          0.000000         0.000000   \n",
       "25%             0.000000          0.000000         0.000000   \n",
       "50%             0.000000          0.000000         0.000000   \n",
       "75%             0.000000          0.000000         0.000000   \n",
       "max             1.000000          1.000000         1.000000   \n",
       "\n",
       "       ind_nom_pens_ult1  ind_recibo_ult1       logrenta  \n",
       "count      906103.000000    906103.000000  906103.000000  \n",
       "mean            0.054329         0.115869      10.585827  \n",
       "std             0.226667         0.320068      10.259563  \n",
       "min             0.000000         0.000000     -99.000000  \n",
       "25%             0.000000         0.000000      11.149121  \n",
       "50%             0.000000         0.000000      11.489773  \n",
       "75%             0.000000         0.000000      11.853561  \n",
       "max             1.000000         1.000000      17.179158  \n",
       "\n",
       "[8 rows x 32 columns]"
      ]
     },
     "execution_count": 128,
     "metadata": {},
     "output_type": "execute_result"
    }
   ],
   "source": [
    "full_stats = df.describe()\n",
    "full_stats"
   ]
  },
  {
   "cell_type": "code",
   "execution_count": 126,
   "metadata": {
    "collapsed": false
   },
   "outputs": [
    {
     "data": {
      "text/html": [
       "<div>\n",
       "<table border=\"1\" class=\"dataframe\">\n",
       "  <thead>\n",
       "    <tr style=\"text-align: right;\">\n",
       "      <th></th>\n",
       "      <th>ncodpers</th>\n",
       "      <th>age</th>\n",
       "      <th>ind_nuevo</th>\n",
       "      <th>antiguedad</th>\n",
       "      <th>indrel</th>\n",
       "      <th>ind_actividad_cliente</th>\n",
       "      <th>renta</th>\n",
       "      <th>ind_ahor_fin_ult1</th>\n",
       "      <th>ind_aval_fin_ult1</th>\n",
       "      <th>ind_cco_fin_ult1</th>\n",
       "      <th>...</th>\n",
       "      <th>ind_plan_fin_ult1</th>\n",
       "      <th>ind_pres_fin_ult1</th>\n",
       "      <th>ind_reca_fin_ult1</th>\n",
       "      <th>ind_tjcr_fin_ult1</th>\n",
       "      <th>ind_valo_fin_ult1</th>\n",
       "      <th>ind_viv_fin_ult1</th>\n",
       "      <th>ind_nomina_ult1</th>\n",
       "      <th>ind_nom_pens_ult1</th>\n",
       "      <th>ind_recibo_ult1</th>\n",
       "      <th>logrenta</th>\n",
       "    </tr>\n",
       "  </thead>\n",
       "  <tbody>\n",
       "    <tr>\n",
       "      <th>count</th>\n",
       "      <td>1.000000e+04</td>\n",
       "      <td>10000.000000</td>\n",
       "      <td>10000.000000</td>\n",
       "      <td>10000.000000</td>\n",
       "      <td>10000.000000</td>\n",
       "      <td>10000.000000</td>\n",
       "      <td>1.000000e+04</td>\n",
       "      <td>10000.000000</td>\n",
       "      <td>10000.0</td>\n",
       "      <td>10000.000000</td>\n",
       "      <td>...</td>\n",
       "      <td>10000.000000</td>\n",
       "      <td>10000.000000</td>\n",
       "      <td>10000.00000</td>\n",
       "      <td>10000.000000</td>\n",
       "      <td>10000.000000</td>\n",
       "      <td>10000.000000</td>\n",
       "      <td>10000.000000</td>\n",
       "      <td>10000.000000</td>\n",
       "      <td>10000.000000</td>\n",
       "      <td>10000.000000</td>\n",
       "    </tr>\n",
       "    <tr>\n",
       "      <th>mean</th>\n",
       "      <td>8.704294e+05</td>\n",
       "      <td>39.260800</td>\n",
       "      <td>0.113100</td>\n",
       "      <td>75.093400</td>\n",
       "      <td>1.156800</td>\n",
       "      <td>0.421000</td>\n",
       "      <td>1.254234e+05</td>\n",
       "      <td>0.000200</td>\n",
       "      <td>0.0</td>\n",
       "      <td>0.613300</td>\n",
       "      <td>...</td>\n",
       "      <td>0.007800</td>\n",
       "      <td>0.001500</td>\n",
       "      <td>0.04380</td>\n",
       "      <td>0.037700</td>\n",
       "      <td>0.019500</td>\n",
       "      <td>0.003000</td>\n",
       "      <td>0.050000</td>\n",
       "      <td>0.055300</td>\n",
       "      <td>0.113100</td>\n",
       "      <td>10.638204</td>\n",
       "    </tr>\n",
       "    <tr>\n",
       "      <th>std</th>\n",
       "      <td>4.375874e+05</td>\n",
       "      <td>16.641883</td>\n",
       "      <td>0.316731</td>\n",
       "      <td>66.534764</td>\n",
       "      <td>3.917059</td>\n",
       "      <td>0.493744</td>\n",
       "      <td>2.302994e+05</td>\n",
       "      <td>0.014141</td>\n",
       "      <td>0.0</td>\n",
       "      <td>0.487018</td>\n",
       "      <td>...</td>\n",
       "      <td>0.087977</td>\n",
       "      <td>0.038703</td>\n",
       "      <td>0.20466</td>\n",
       "      <td>0.190479</td>\n",
       "      <td>0.138281</td>\n",
       "      <td>0.054693</td>\n",
       "      <td>0.217956</td>\n",
       "      <td>0.228576</td>\n",
       "      <td>0.316731</td>\n",
       "      <td>9.924976</td>\n",
       "    </tr>\n",
       "    <tr>\n",
       "      <th>min</th>\n",
       "      <td>1.599500e+04</td>\n",
       "      <td>18.000000</td>\n",
       "      <td>0.000000</td>\n",
       "      <td>0.000000</td>\n",
       "      <td>1.000000</td>\n",
       "      <td>0.000000</td>\n",
       "      <td>-9.900000e+01</td>\n",
       "      <td>0.000000</td>\n",
       "      <td>0.0</td>\n",
       "      <td>0.000000</td>\n",
       "      <td>...</td>\n",
       "      <td>0.000000</td>\n",
       "      <td>0.000000</td>\n",
       "      <td>0.00000</td>\n",
       "      <td>0.000000</td>\n",
       "      <td>0.000000</td>\n",
       "      <td>0.000000</td>\n",
       "      <td>0.000000</td>\n",
       "      <td>0.000000</td>\n",
       "      <td>0.000000</td>\n",
       "      <td>-99.000000</td>\n",
       "    </tr>\n",
       "    <tr>\n",
       "      <th>25%</th>\n",
       "      <td>4.867568e+05</td>\n",
       "      <td>24.000000</td>\n",
       "      <td>0.000000</td>\n",
       "      <td>21.000000</td>\n",
       "      <td>1.000000</td>\n",
       "      <td>0.000000</td>\n",
       "      <td>6.934904e+04</td>\n",
       "      <td>0.000000</td>\n",
       "      <td>0.0</td>\n",
       "      <td>0.000000</td>\n",
       "      <td>...</td>\n",
       "      <td>0.000000</td>\n",
       "      <td>0.000000</td>\n",
       "      <td>0.00000</td>\n",
       "      <td>0.000000</td>\n",
       "      <td>0.000000</td>\n",
       "      <td>0.000000</td>\n",
       "      <td>0.000000</td>\n",
       "      <td>0.000000</td>\n",
       "      <td>0.000000</td>\n",
       "      <td>11.146922</td>\n",
       "    </tr>\n",
       "    <tr>\n",
       "      <th>50%</th>\n",
       "      <td>9.625190e+05</td>\n",
       "      <td>37.000000</td>\n",
       "      <td>0.000000</td>\n",
       "      <td>48.000000</td>\n",
       "      <td>1.000000</td>\n",
       "      <td>0.000000</td>\n",
       "      <td>9.706968e+04</td>\n",
       "      <td>0.000000</td>\n",
       "      <td>0.0</td>\n",
       "      <td>1.000000</td>\n",
       "      <td>...</td>\n",
       "      <td>0.000000</td>\n",
       "      <td>0.000000</td>\n",
       "      <td>0.00000</td>\n",
       "      <td>0.000000</td>\n",
       "      <td>0.000000</td>\n",
       "      <td>0.000000</td>\n",
       "      <td>0.000000</td>\n",
       "      <td>0.000000</td>\n",
       "      <td>0.000000</td>\n",
       "      <td>11.483195</td>\n",
       "    </tr>\n",
       "    <tr>\n",
       "      <th>75%</th>\n",
       "      <td>1.235262e+06</td>\n",
       "      <td>50.000000</td>\n",
       "      <td>0.000000</td>\n",
       "      <td>129.000000</td>\n",
       "      <td>1.000000</td>\n",
       "      <td>1.000000</td>\n",
       "      <td>1.390603e+05</td>\n",
       "      <td>0.000000</td>\n",
       "      <td>0.0</td>\n",
       "      <td>1.000000</td>\n",
       "      <td>...</td>\n",
       "      <td>0.000000</td>\n",
       "      <td>0.000000</td>\n",
       "      <td>0.00000</td>\n",
       "      <td>0.000000</td>\n",
       "      <td>0.000000</td>\n",
       "      <td>0.000000</td>\n",
       "      <td>0.000000</td>\n",
       "      <td>0.000000</td>\n",
       "      <td>0.000000</td>\n",
       "      <td>11.842670</td>\n",
       "    </tr>\n",
       "    <tr>\n",
       "      <th>max</th>\n",
       "      <td>1.511492e+06</td>\n",
       "      <td>90.000000</td>\n",
       "      <td>1.000000</td>\n",
       "      <td>250.000000</td>\n",
       "      <td>99.000000</td>\n",
       "      <td>1.000000</td>\n",
       "      <td>1.326862e+07</td>\n",
       "      <td>1.000000</td>\n",
       "      <td>0.0</td>\n",
       "      <td>1.000000</td>\n",
       "      <td>...</td>\n",
       "      <td>1.000000</td>\n",
       "      <td>1.000000</td>\n",
       "      <td>1.00000</td>\n",
       "      <td>1.000000</td>\n",
       "      <td>1.000000</td>\n",
       "      <td>1.000000</td>\n",
       "      <td>1.000000</td>\n",
       "      <td>1.000000</td>\n",
       "      <td>1.000000</td>\n",
       "      <td>16.400913</td>\n",
       "    </tr>\n",
       "  </tbody>\n",
       "</table>\n",
       "<p>8 rows × 32 columns</p>\n",
       "</div>"
      ],
      "text/plain": [
       "           ncodpers           age     ind_nuevo    antiguedad        indrel  \\\n",
       "count  1.000000e+04  10000.000000  10000.000000  10000.000000  10000.000000   \n",
       "mean   8.704294e+05     39.260800      0.113100     75.093400      1.156800   \n",
       "std    4.375874e+05     16.641883      0.316731     66.534764      3.917059   \n",
       "min    1.599500e+04     18.000000      0.000000      0.000000      1.000000   \n",
       "25%    4.867568e+05     24.000000      0.000000     21.000000      1.000000   \n",
       "50%    9.625190e+05     37.000000      0.000000     48.000000      1.000000   \n",
       "75%    1.235262e+06     50.000000      0.000000    129.000000      1.000000   \n",
       "max    1.511492e+06     90.000000      1.000000    250.000000     99.000000   \n",
       "\n",
       "       ind_actividad_cliente         renta  ind_ahor_fin_ult1  \\\n",
       "count           10000.000000  1.000000e+04       10000.000000   \n",
       "mean                0.421000  1.254234e+05           0.000200   \n",
       "std                 0.493744  2.302994e+05           0.014141   \n",
       "min                 0.000000 -9.900000e+01           0.000000   \n",
       "25%                 0.000000  6.934904e+04           0.000000   \n",
       "50%                 0.000000  9.706968e+04           0.000000   \n",
       "75%                 1.000000  1.390603e+05           0.000000   \n",
       "max                 1.000000  1.326862e+07           1.000000   \n",
       "\n",
       "       ind_aval_fin_ult1  ind_cco_fin_ult1      ...       ind_plan_fin_ult1  \\\n",
       "count            10000.0      10000.000000      ...            10000.000000   \n",
       "mean                 0.0          0.613300      ...                0.007800   \n",
       "std                  0.0          0.487018      ...                0.087977   \n",
       "min                  0.0          0.000000      ...                0.000000   \n",
       "25%                  0.0          0.000000      ...                0.000000   \n",
       "50%                  0.0          1.000000      ...                0.000000   \n",
       "75%                  0.0          1.000000      ...                0.000000   \n",
       "max                  0.0          1.000000      ...                1.000000   \n",
       "\n",
       "       ind_pres_fin_ult1  ind_reca_fin_ult1  ind_tjcr_fin_ult1  \\\n",
       "count       10000.000000        10000.00000       10000.000000   \n",
       "mean            0.001500            0.04380           0.037700   \n",
       "std             0.038703            0.20466           0.190479   \n",
       "min             0.000000            0.00000           0.000000   \n",
       "25%             0.000000            0.00000           0.000000   \n",
       "50%             0.000000            0.00000           0.000000   \n",
       "75%             0.000000            0.00000           0.000000   \n",
       "max             1.000000            1.00000           1.000000   \n",
       "\n",
       "       ind_valo_fin_ult1  ind_viv_fin_ult1  ind_nomina_ult1  \\\n",
       "count       10000.000000      10000.000000     10000.000000   \n",
       "mean            0.019500          0.003000         0.050000   \n",
       "std             0.138281          0.054693         0.217956   \n",
       "min             0.000000          0.000000         0.000000   \n",
       "25%             0.000000          0.000000         0.000000   \n",
       "50%             0.000000          0.000000         0.000000   \n",
       "75%             0.000000          0.000000         0.000000   \n",
       "max             1.000000          1.000000         1.000000   \n",
       "\n",
       "       ind_nom_pens_ult1  ind_recibo_ult1      logrenta  \n",
       "count       10000.000000     10000.000000  10000.000000  \n",
       "mean            0.055300         0.113100     10.638204  \n",
       "std             0.228576         0.316731      9.924976  \n",
       "min             0.000000         0.000000    -99.000000  \n",
       "25%             0.000000         0.000000     11.146922  \n",
       "50%             0.000000         0.000000     11.483195  \n",
       "75%             0.000000         0.000000     11.842670  \n",
       "max             1.000000         1.000000     16.400913  \n",
       "\n",
       "[8 rows x 32 columns]"
      ]
     },
     "execution_count": 126,
     "metadata": {},
     "output_type": "execute_result"
    }
   ],
   "source": [
    "unique_ids   = pd.Series(df[\"ncodpers\"].unique())\n",
    "limit_people = 10000\n",
    "unique_id    = unique_ids.sample(n=limit_people)\n",
    "reduced_df = df[df.ncodpers.isin(unique_id)]\n",
    "reduced_stats = reduced_df.describe()\n",
    "reduced_stats"
   ]
  },
  {
   "cell_type": "code",
   "execution_count": 127,
   "metadata": {
    "collapsed": false
   },
   "outputs": [
    {
     "name": "stdout",
     "output_type": "stream",
     "text": [
      "mean         1.245209\n",
      "std       1421.782061\n",
      "min     999999.000000\n",
      "max          1.778246\n",
      "dtype: float64\n",
      "1001423.80552\n"
     ]
    },
    {
     "data": {
      "text/html": [
       "<div>\n",
       "<table border=\"1\" class=\"dataframe\">\n",
       "  <thead>\n",
       "    <tr style=\"text-align: right;\">\n",
       "      <th></th>\n",
       "      <th>age</th>\n",
       "      <th>ind_nuevo</th>\n",
       "      <th>antiguedad</th>\n",
       "      <th>indrel</th>\n",
       "      <th>ind_actividad_cliente</th>\n",
       "      <th>ind_ahor_fin_ult1</th>\n",
       "      <th>ind_aval_fin_ult1</th>\n",
       "      <th>ind_cco_fin_ult1</th>\n",
       "      <th>ind_cder_fin_ult1</th>\n",
       "      <th>ind_cno_fin_ult1</th>\n",
       "      <th>...</th>\n",
       "      <th>ind_plan_fin_ult1</th>\n",
       "      <th>ind_pres_fin_ult1</th>\n",
       "      <th>ind_reca_fin_ult1</th>\n",
       "      <th>ind_tjcr_fin_ult1</th>\n",
       "      <th>ind_valo_fin_ult1</th>\n",
       "      <th>ind_viv_fin_ult1</th>\n",
       "      <th>ind_nomina_ult1</th>\n",
       "      <th>ind_nom_pens_ult1</th>\n",
       "      <th>ind_recibo_ult1</th>\n",
       "      <th>logrenta</th>\n",
       "    </tr>\n",
       "  </thead>\n",
       "  <tbody>\n",
       "    <tr>\n",
       "      <th>mean</th>\n",
       "      <td>0.231291</td>\n",
       "      <td>0.002440</td>\n",
       "      <td>0.883751</td>\n",
       "      <td>0.038312</td>\n",
       "      <td>0.000301</td>\n",
       "      <td>0.000111</td>\n",
       "      <td>0.000020</td>\n",
       "      <td>0.004322</td>\n",
       "      <td>0.000248</td>\n",
       "      <td>0.002135</td>\n",
       "      <td>...</td>\n",
       "      <td>0.000266</td>\n",
       "      <td>0.000726</td>\n",
       "      <td>0.003889</td>\n",
       "      <td>0.002325</td>\n",
       "      <td>0.00343</td>\n",
       "      <td>0.000374</td>\n",
       "      <td>0.000383</td>\n",
       "      <td>0.000971</td>\n",
       "      <td>0.002769</td>\n",
       "      <td>0.052377</td>\n",
       "    </tr>\n",
       "    <tr>\n",
       "      <th>std</th>\n",
       "      <td>0.124813</td>\n",
       "      <td>0.003021</td>\n",
       "      <td>1420.761051</td>\n",
       "      <td>0.451348</td>\n",
       "      <td>0.000024</td>\n",
       "      <td>0.004687</td>\n",
       "      <td>0.004457</td>\n",
       "      <td>0.000961</td>\n",
       "      <td>0.005729</td>\n",
       "      <td>0.003446</td>\n",
       "      <td>...</td>\n",
       "      <td>0.001473</td>\n",
       "      <td>0.008425</td>\n",
       "      <td>0.008447</td>\n",
       "      <td>0.005539</td>\n",
       "      <td>0.01140</td>\n",
       "      <td>0.003294</td>\n",
       "      <td>0.000804</td>\n",
       "      <td>0.001910</td>\n",
       "      <td>0.003337</td>\n",
       "      <td>0.334587</td>\n",
       "    </tr>\n",
       "    <tr>\n",
       "      <th>min</th>\n",
       "      <td>0.000000</td>\n",
       "      <td>0.000000</td>\n",
       "      <td>999999.000000</td>\n",
       "      <td>0.000000</td>\n",
       "      <td>0.000000</td>\n",
       "      <td>0.000000</td>\n",
       "      <td>0.000000</td>\n",
       "      <td>0.000000</td>\n",
       "      <td>0.000000</td>\n",
       "      <td>0.000000</td>\n",
       "      <td>...</td>\n",
       "      <td>0.000000</td>\n",
       "      <td>0.000000</td>\n",
       "      <td>0.000000</td>\n",
       "      <td>0.000000</td>\n",
       "      <td>0.00000</td>\n",
       "      <td>0.000000</td>\n",
       "      <td>0.000000</td>\n",
       "      <td>0.000000</td>\n",
       "      <td>0.000000</td>\n",
       "      <td>0.000000</td>\n",
       "    </tr>\n",
       "    <tr>\n",
       "      <th>max</th>\n",
       "      <td>0.000000</td>\n",
       "      <td>0.000000</td>\n",
       "      <td>0.000000</td>\n",
       "      <td>0.000000</td>\n",
       "      <td>0.000000</td>\n",
       "      <td>0.000000</td>\n",
       "      <td>1.000000</td>\n",
       "      <td>0.000000</td>\n",
       "      <td>0.000000</td>\n",
       "      <td>0.000000</td>\n",
       "      <td>...</td>\n",
       "      <td>0.000000</td>\n",
       "      <td>0.000000</td>\n",
       "      <td>0.000000</td>\n",
       "      <td>0.000000</td>\n",
       "      <td>0.00000</td>\n",
       "      <td>0.000000</td>\n",
       "      <td>0.000000</td>\n",
       "      <td>0.000000</td>\n",
       "      <td>0.000000</td>\n",
       "      <td>0.778246</td>\n",
       "    </tr>\n",
       "  </tbody>\n",
       "</table>\n",
       "<p>4 rows × 30 columns</p>\n",
       "</div>"
      ],
      "text/plain": [
       "           age  ind_nuevo     antiguedad    indrel  ind_actividad_cliente  \\\n",
       "mean  0.231291   0.002440       0.883751  0.038312               0.000301   \n",
       "std   0.124813   0.003021    1420.761051  0.451348               0.000024   \n",
       "min   0.000000   0.000000  999999.000000  0.000000               0.000000   \n",
       "max   0.000000   0.000000       0.000000  0.000000               0.000000   \n",
       "\n",
       "      ind_ahor_fin_ult1  ind_aval_fin_ult1  ind_cco_fin_ult1  \\\n",
       "mean           0.000111           0.000020          0.004322   \n",
       "std            0.004687           0.004457          0.000961   \n",
       "min            0.000000           0.000000          0.000000   \n",
       "max            0.000000           1.000000          0.000000   \n",
       "\n",
       "      ind_cder_fin_ult1  ind_cno_fin_ult1    ...     ind_plan_fin_ult1  \\\n",
       "mean           0.000248          0.002135    ...              0.000266   \n",
       "std            0.005729          0.003446    ...              0.001473   \n",
       "min            0.000000          0.000000    ...              0.000000   \n",
       "max            0.000000          0.000000    ...              0.000000   \n",
       "\n",
       "      ind_pres_fin_ult1  ind_reca_fin_ult1  ind_tjcr_fin_ult1  \\\n",
       "mean           0.000726           0.003889           0.002325   \n",
       "std            0.008425           0.008447           0.005539   \n",
       "min            0.000000           0.000000           0.000000   \n",
       "max            0.000000           0.000000           0.000000   \n",
       "\n",
       "      ind_valo_fin_ult1  ind_viv_fin_ult1  ind_nomina_ult1  ind_nom_pens_ult1  \\\n",
       "mean            0.00343          0.000374         0.000383           0.000971   \n",
       "std             0.01140          0.003294         0.000804           0.001910   \n",
       "min             0.00000          0.000000         0.000000           0.000000   \n",
       "max             0.00000          0.000000         0.000000           0.000000   \n",
       "\n",
       "      ind_recibo_ult1  logrenta  \n",
       "mean         0.002769  0.052377  \n",
       "std          0.003337  0.334587  \n",
       "min          0.000000  0.000000  \n",
       "max          0.000000  0.778246  \n",
       "\n",
       "[4 rows x 30 columns]"
      ]
     },
     "execution_count": 127,
     "metadata": {},
     "output_type": "execute_result"
    }
   ],
   "source": [
    "res = np.abs(full_stats - reduced_stats).drop(['count', '25%', '50%', '75%']).drop(['ncodpers', 'renta'], axis=1)\n",
    "print np.sum(res, axis=1)\n",
    "print np.sum(np.sum(res, axis=1))\n",
    "res"
   ]
  },
  {
   "cell_type": "code",
   "execution_count": 123,
   "metadata": {
    "collapsed": false
   },
   "outputs": [
    {
     "name": "stdout",
     "output_type": "stream",
     "text": [
      "counter :  99  err =  1001512.20103\n",
      "counter :  98  err =  1001512.08385\n",
      "counter :  97  err =  1001512.15738\n",
      "counter :  96  err =  1001512.36711\n",
      "counter :  95  err =  1001513.11963\n",
      "counter :  94  err =  1001511.8682\n",
      "counter :  93  err =  1001512.78152\n",
      "counter :  92  err =  1001512.78701\n",
      "counter :  91  err =  1001511.76676\n",
      "counter :  90  err =  3093.74235283\n",
      "counter :  89  err =  1001511.67383\n",
      "counter :  88  err =  1001511.83236\n",
      "counter :  87  err =  1001512.47843\n",
      "counter :  86  err =  1001512.38606\n",
      "counter :  85  err =  1001513.14778\n",
      "counter :  84  err =  1001513.17638\n",
      "counter :  83  err =  1001512.10869\n",
      "counter :  82  err =  1001513.33904\n",
      "counter :  81  err =  1001512.02603\n",
      "counter :  80  err =  1001513.3544\n",
      "counter :  79  err =  1001511.72122\n",
      "counter :  78  err =  1001512.17708\n",
      "counter :  77  err =  1001511.97592\n",
      "counter :  76  err =  1001512.21311\n",
      "counter :  75  err =  1001512.8229\n",
      "counter :  74  err =  1001511.92277\n",
      "counter :  73  err =  1001512.85702\n",
      "counter :  72  err =  1001511.70482\n",
      "counter :  71  err =  1001512.71086\n",
      "counter :  70  err =  3093.91740862\n",
      "counter :  69  err =  1001511.83168\n",
      "counter :  68  err =  1001511.70584\n",
      "counter :  67  err =  1001511.6649\n",
      "counter :  66  err =  1001511.4642\n",
      "counter :  65  err =  1001513.30543\n",
      "counter :  64  err =  3093.5157014\n",
      "counter :  63  err =  1001511.98914\n",
      "counter :  62  err =  1001512.37212\n"
     ]
    },
    {
     "ename": "KeyboardInterrupt",
     "evalue": "",
     "output_type": "error",
     "traceback": [
      "\u001b[0;31m\u001b[0m",
      "\u001b[0;31mKeyboardInterrupt\u001b[0mTraceback (most recent call last)",
      "\u001b[0;32m<ipython-input-123-5e9be9787855>\u001b[0m in \u001b[0;36m<module>\u001b[0;34m()\u001b[0m\n\u001b[1;32m      8\u001b[0m     \u001b[0mcounter\u001b[0m \u001b[0;34m-=\u001b[0m \u001b[0;36m1\u001b[0m\u001b[0;34m\u001b[0m\u001b[0m\n\u001b[1;32m      9\u001b[0m     \u001b[0munique_id\u001b[0m \u001b[0;34m=\u001b[0m \u001b[0munique_ids\u001b[0m\u001b[0;34m.\u001b[0m\u001b[0msample\u001b[0m\u001b[0;34m(\u001b[0m\u001b[0mn\u001b[0m\u001b[0;34m=\u001b[0m\u001b[0mlimit_people\u001b[0m\u001b[0;34m)\u001b[0m\u001b[0;34m\u001b[0m\u001b[0m\n\u001b[0;32m---> 10\u001b[0;31m     \u001b[0mreduced_train_month\u001b[0m \u001b[0;34m=\u001b[0m \u001b[0mtrain_month\u001b[0m\u001b[0;34m[\u001b[0m\u001b[0mtrain_month\u001b[0m\u001b[0;34m.\u001b[0m\u001b[0mncodpers\u001b[0m\u001b[0;34m.\u001b[0m\u001b[0misin\u001b[0m\u001b[0;34m(\u001b[0m\u001b[0munique_id\u001b[0m\u001b[0;34m)\u001b[0m\u001b[0;34m]\u001b[0m\u001b[0;34m\u001b[0m\u001b[0m\n\u001b[0m\u001b[1;32m     11\u001b[0m     \u001b[0mmonth_reduced_stats\u001b[0m \u001b[0;34m=\u001b[0m \u001b[0mreduced_train_month\u001b[0m\u001b[0;34m.\u001b[0m\u001b[0mdescribe\u001b[0m\u001b[0;34m(\u001b[0m\u001b[0;34m)\u001b[0m\u001b[0;34m\u001b[0m\u001b[0m\n\u001b[1;32m     12\u001b[0m     \u001b[0merr\u001b[0m \u001b[0;34m=\u001b[0m \u001b[0mnp\u001b[0m\u001b[0;34m.\u001b[0m\u001b[0mabs\u001b[0m\u001b[0;34m(\u001b[0m\u001b[0mmonth_full_stats\u001b[0m \u001b[0;34m-\u001b[0m \u001b[0mmonth_reduced_stats\u001b[0m\u001b[0;34m)\u001b[0m\u001b[0;34m.\u001b[0m\u001b[0mdrop\u001b[0m\u001b[0;34m(\u001b[0m\u001b[0;34m[\u001b[0m\u001b[0;34m'count'\u001b[0m\u001b[0;34m,\u001b[0m \u001b[0;34m'25%'\u001b[0m\u001b[0;34m,\u001b[0m \u001b[0;34m'50%'\u001b[0m\u001b[0;34m,\u001b[0m \u001b[0;34m'75%'\u001b[0m\u001b[0;34m]\u001b[0m\u001b[0;34m)\u001b[0m\u001b[0;34m.\u001b[0m\u001b[0mdrop\u001b[0m\u001b[0;34m(\u001b[0m\u001b[0;34m[\u001b[0m\u001b[0;34m'ncodpers'\u001b[0m\u001b[0;34m,\u001b[0m \u001b[0;34m'renta'\u001b[0m\u001b[0;34m]\u001b[0m\u001b[0;34m,\u001b[0m \u001b[0maxis\u001b[0m\u001b[0;34m=\u001b[0m\u001b[0;36m1\u001b[0m\u001b[0;34m)\u001b[0m\u001b[0;34m\u001b[0m\u001b[0m\n",
      "\u001b[0;32m/home/osboxes/Documents/TDS/venv/local/lib/python2.7/site-packages/pandas/core/frame.pyc\u001b[0m in \u001b[0;36m__getitem__\u001b[0;34m(self, key)\u001b[0m\n\u001b[1;32m   2049\u001b[0m         \u001b[0;32mif\u001b[0m \u001b[0misinstance\u001b[0m\u001b[0;34m(\u001b[0m\u001b[0mkey\u001b[0m\u001b[0;34m,\u001b[0m \u001b[0;34m(\u001b[0m\u001b[0mSeries\u001b[0m\u001b[0;34m,\u001b[0m \u001b[0mnp\u001b[0m\u001b[0;34m.\u001b[0m\u001b[0mndarray\u001b[0m\u001b[0;34m,\u001b[0m \u001b[0mIndex\u001b[0m\u001b[0;34m,\u001b[0m \u001b[0mlist\u001b[0m\u001b[0;34m)\u001b[0m\u001b[0;34m)\u001b[0m\u001b[0;34m:\u001b[0m\u001b[0;34m\u001b[0m\u001b[0m\n\u001b[1;32m   2050\u001b[0m             \u001b[0;31m# either boolean or fancy integer index\u001b[0m\u001b[0;34m\u001b[0m\u001b[0;34m\u001b[0m\u001b[0m\n\u001b[0;32m-> 2051\u001b[0;31m             \u001b[0;32mreturn\u001b[0m \u001b[0mself\u001b[0m\u001b[0;34m.\u001b[0m\u001b[0m_getitem_array\u001b[0m\u001b[0;34m(\u001b[0m\u001b[0mkey\u001b[0m\u001b[0;34m)\u001b[0m\u001b[0;34m\u001b[0m\u001b[0m\n\u001b[0m\u001b[1;32m   2052\u001b[0m         \u001b[0;32melif\u001b[0m \u001b[0misinstance\u001b[0m\u001b[0;34m(\u001b[0m\u001b[0mkey\u001b[0m\u001b[0;34m,\u001b[0m \u001b[0mDataFrame\u001b[0m\u001b[0;34m)\u001b[0m\u001b[0;34m:\u001b[0m\u001b[0;34m\u001b[0m\u001b[0m\n\u001b[1;32m   2053\u001b[0m             \u001b[0;32mreturn\u001b[0m \u001b[0mself\u001b[0m\u001b[0;34m.\u001b[0m\u001b[0m_getitem_frame\u001b[0m\u001b[0;34m(\u001b[0m\u001b[0mkey\u001b[0m\u001b[0;34m)\u001b[0m\u001b[0;34m\u001b[0m\u001b[0m\n",
      "\u001b[0;32m/home/osboxes/Documents/TDS/venv/local/lib/python2.7/site-packages/pandas/core/frame.pyc\u001b[0m in \u001b[0;36m_getitem_array\u001b[0;34m(self, key)\u001b[0m\n\u001b[1;32m   2091\u001b[0m             \u001b[0mkey\u001b[0m \u001b[0;34m=\u001b[0m \u001b[0mcheck_bool_indexer\u001b[0m\u001b[0;34m(\u001b[0m\u001b[0mself\u001b[0m\u001b[0;34m.\u001b[0m\u001b[0mindex\u001b[0m\u001b[0;34m,\u001b[0m \u001b[0mkey\u001b[0m\u001b[0;34m)\u001b[0m\u001b[0;34m\u001b[0m\u001b[0m\n\u001b[1;32m   2092\u001b[0m             \u001b[0mindexer\u001b[0m \u001b[0;34m=\u001b[0m \u001b[0mkey\u001b[0m\u001b[0;34m.\u001b[0m\u001b[0mnonzero\u001b[0m\u001b[0;34m(\u001b[0m\u001b[0;34m)\u001b[0m\u001b[0;34m[\u001b[0m\u001b[0;36m0\u001b[0m\u001b[0;34m]\u001b[0m\u001b[0;34m\u001b[0m\u001b[0m\n\u001b[0;32m-> 2093\u001b[0;31m             \u001b[0;32mreturn\u001b[0m \u001b[0mself\u001b[0m\u001b[0;34m.\u001b[0m\u001b[0mtake\u001b[0m\u001b[0;34m(\u001b[0m\u001b[0mindexer\u001b[0m\u001b[0;34m,\u001b[0m \u001b[0maxis\u001b[0m\u001b[0;34m=\u001b[0m\u001b[0;36m0\u001b[0m\u001b[0;34m,\u001b[0m \u001b[0mconvert\u001b[0m\u001b[0;34m=\u001b[0m\u001b[0mFalse\u001b[0m\u001b[0;34m)\u001b[0m\u001b[0;34m\u001b[0m\u001b[0m\n\u001b[0m\u001b[1;32m   2094\u001b[0m         \u001b[0;32melse\u001b[0m\u001b[0;34m:\u001b[0m\u001b[0;34m\u001b[0m\u001b[0m\n\u001b[1;32m   2095\u001b[0m             \u001b[0mindexer\u001b[0m \u001b[0;34m=\u001b[0m \u001b[0mself\u001b[0m\u001b[0;34m.\u001b[0m\u001b[0mix\u001b[0m\u001b[0;34m.\u001b[0m\u001b[0m_convert_to_indexer\u001b[0m\u001b[0;34m(\u001b[0m\u001b[0mkey\u001b[0m\u001b[0;34m,\u001b[0m \u001b[0maxis\u001b[0m\u001b[0;34m=\u001b[0m\u001b[0;36m1\u001b[0m\u001b[0;34m)\u001b[0m\u001b[0;34m\u001b[0m\u001b[0m\n",
      "\u001b[0;32m/home/osboxes/Documents/TDS/venv/local/lib/python2.7/site-packages/pandas/core/generic.pyc\u001b[0m in \u001b[0;36mtake\u001b[0;34m(self, indices, axis, convert, is_copy, **kwargs)\u001b[0m\n\u001b[1;32m   1667\u001b[0m         new_data = self._data.take(indices,\n\u001b[1;32m   1668\u001b[0m                                    \u001b[0maxis\u001b[0m\u001b[0;34m=\u001b[0m\u001b[0mself\u001b[0m\u001b[0;34m.\u001b[0m\u001b[0m_get_block_manager_axis\u001b[0m\u001b[0;34m(\u001b[0m\u001b[0maxis\u001b[0m\u001b[0;34m)\u001b[0m\u001b[0;34m,\u001b[0m\u001b[0;34m\u001b[0m\u001b[0m\n\u001b[0;32m-> 1669\u001b[0;31m                                    convert=True, verify=True)\n\u001b[0m\u001b[1;32m   1670\u001b[0m         \u001b[0mresult\u001b[0m \u001b[0;34m=\u001b[0m \u001b[0mself\u001b[0m\u001b[0;34m.\u001b[0m\u001b[0m_constructor\u001b[0m\u001b[0;34m(\u001b[0m\u001b[0mnew_data\u001b[0m\u001b[0;34m)\u001b[0m\u001b[0;34m.\u001b[0m\u001b[0m__finalize__\u001b[0m\u001b[0;34m(\u001b[0m\u001b[0mself\u001b[0m\u001b[0;34m)\u001b[0m\u001b[0;34m\u001b[0m\u001b[0m\n\u001b[1;32m   1671\u001b[0m \u001b[0;34m\u001b[0m\u001b[0m\n",
      "\u001b[0;32m/home/osboxes/Documents/TDS/venv/local/lib/python2.7/site-packages/pandas/core/internals.pyc\u001b[0m in \u001b[0;36mtake\u001b[0;34m(self, indexer, axis, verify, convert)\u001b[0m\n\u001b[1;32m   3939\u001b[0m         \u001b[0mnew_labels\u001b[0m \u001b[0;34m=\u001b[0m \u001b[0mself\u001b[0m\u001b[0;34m.\u001b[0m\u001b[0maxes\u001b[0m\u001b[0;34m[\u001b[0m\u001b[0maxis\u001b[0m\u001b[0;34m]\u001b[0m\u001b[0;34m.\u001b[0m\u001b[0mtake\u001b[0m\u001b[0;34m(\u001b[0m\u001b[0mindexer\u001b[0m\u001b[0;34m)\u001b[0m\u001b[0;34m\u001b[0m\u001b[0m\n\u001b[1;32m   3940\u001b[0m         return self.reindex_indexer(new_axis=new_labels, indexer=indexer,\n\u001b[0;32m-> 3941\u001b[0;31m                                     axis=axis, allow_dups=True)\n\u001b[0m\u001b[1;32m   3942\u001b[0m \u001b[0;34m\u001b[0m\u001b[0m\n\u001b[1;32m   3943\u001b[0m     \u001b[0;32mdef\u001b[0m \u001b[0mmerge\u001b[0m\u001b[0;34m(\u001b[0m\u001b[0mself\u001b[0m\u001b[0;34m,\u001b[0m \u001b[0mother\u001b[0m\u001b[0;34m,\u001b[0m \u001b[0mlsuffix\u001b[0m\u001b[0;34m=\u001b[0m\u001b[0;34m''\u001b[0m\u001b[0;34m,\u001b[0m \u001b[0mrsuffix\u001b[0m\u001b[0;34m=\u001b[0m\u001b[0;34m''\u001b[0m\u001b[0;34m)\u001b[0m\u001b[0;34m:\u001b[0m\u001b[0;34m\u001b[0m\u001b[0m\n",
      "\u001b[0;32m/home/osboxes/Documents/TDS/venv/local/lib/python2.7/site-packages/pandas/core/internals.pyc\u001b[0m in \u001b[0;36mreindex_indexer\u001b[0;34m(self, new_axis, indexer, axis, fill_value, allow_dups, copy)\u001b[0m\n\u001b[1;32m   3825\u001b[0m             new_blocks = [blk.take_nd(indexer, axis=axis, fill_tuple=(\n\u001b[1;32m   3826\u001b[0m                 fill_value if fill_value is not None else blk.fill_value,))\n\u001b[0;32m-> 3827\u001b[0;31m                 for blk in self.blocks]\n\u001b[0m\u001b[1;32m   3828\u001b[0m \u001b[0;34m\u001b[0m\u001b[0m\n\u001b[1;32m   3829\u001b[0m         \u001b[0mnew_axes\u001b[0m \u001b[0;34m=\u001b[0m \u001b[0mlist\u001b[0m\u001b[0;34m(\u001b[0m\u001b[0mself\u001b[0m\u001b[0;34m.\u001b[0m\u001b[0maxes\u001b[0m\u001b[0;34m)\u001b[0m\u001b[0;34m\u001b[0m\u001b[0m\n",
      "\u001b[0;32m/home/osboxes/Documents/TDS/venv/local/lib/python2.7/site-packages/pandas/core/internals.pyc\u001b[0m in \u001b[0;36mtake_nd\u001b[0;34m(self, indexer, axis, new_mgr_locs, fill_tuple)\u001b[0m\n\u001b[1;32m   1022\u001b[0m             \u001b[0mfill_value\u001b[0m \u001b[0;34m=\u001b[0m \u001b[0mfill_tuple\u001b[0m\u001b[0;34m[\u001b[0m\u001b[0;36m0\u001b[0m\u001b[0;34m]\u001b[0m\u001b[0;34m\u001b[0m\u001b[0m\n\u001b[1;32m   1023\u001b[0m             new_values = algos.take_nd(values, indexer, axis=axis,\n\u001b[0;32m-> 1024\u001b[0;31m                                        allow_fill=True, fill_value=fill_value)\n\u001b[0m\u001b[1;32m   1025\u001b[0m \u001b[0;34m\u001b[0m\u001b[0m\n\u001b[1;32m   1026\u001b[0m         \u001b[0;32mif\u001b[0m \u001b[0mnew_mgr_locs\u001b[0m \u001b[0;32mis\u001b[0m \u001b[0mNone\u001b[0m\u001b[0;34m:\u001b[0m\u001b[0;34m\u001b[0m\u001b[0m\n",
      "\u001b[0;32m/home/osboxes/Documents/TDS/venv/local/lib/python2.7/site-packages/pandas/core/algorithms.pyc\u001b[0m in \u001b[0;36mtake_nd\u001b[0;34m(arr, indexer, axis, out, fill_value, mask_info, allow_fill)\u001b[0m\n\u001b[1;32m   1072\u001b[0m                                  mask_info=mask_info)\n\u001b[1;32m   1073\u001b[0m     \u001b[0mindexer\u001b[0m \u001b[0;34m=\u001b[0m \u001b[0m_ensure_int64\u001b[0m\u001b[0;34m(\u001b[0m\u001b[0mindexer\u001b[0m\u001b[0;34m)\u001b[0m\u001b[0;34m\u001b[0m\u001b[0m\n\u001b[0;32m-> 1074\u001b[0;31m     \u001b[0mfunc\u001b[0m\u001b[0;34m(\u001b[0m\u001b[0marr\u001b[0m\u001b[0;34m,\u001b[0m \u001b[0mindexer\u001b[0m\u001b[0;34m,\u001b[0m \u001b[0mout\u001b[0m\u001b[0;34m,\u001b[0m \u001b[0mfill_value\u001b[0m\u001b[0;34m)\u001b[0m\u001b[0;34m\u001b[0m\u001b[0m\n\u001b[0m\u001b[1;32m   1075\u001b[0m \u001b[0;34m\u001b[0m\u001b[0m\n\u001b[1;32m   1076\u001b[0m     \u001b[0;32mif\u001b[0m \u001b[0mflip_order\u001b[0m\u001b[0;34m:\u001b[0m\u001b[0;34m\u001b[0m\u001b[0m\n",
      "\u001b[0;31mKeyboardInterrupt\u001b[0m: "
     ]
    }
   ],
   "source": [
    "unique_ids   = pd.Series(train_month[\"ncodpers\"].unique())\n",
    "limit_people = 50000\n",
    "\n",
    "counter = 100\n",
    "found = False\n",
    "tol = 0.1\n",
    "while counter > 0 and not found:\n",
    "    counter -= 1\n",
    "    unique_id = unique_ids.sample(n=limit_people)\n",
    "    reduced_train_month = train_month[train_month.ncodpers.isin(unique_id)]\n",
    "    month_reduced_stats = reduced_train_month.describe()\n",
    "    err = np.abs(month_full_stats - month_reduced_stats).drop(['count', '25%', '50%', '75%']).drop(['ncodpers', 'renta'], axis=1)\n",
    "    q = np.sum(np.sum(err, axis=1))\n",
    "    print \"counter : \", counter, \" err = \", q\n",
    "    if q < tol:\n",
    "        found = True\n",
    "    \n",
    "assert found, \"Failed to reduce\"\n",
    "\n",
    "month_reduced_stats"
   ]
  },
  {
   "cell_type": "code",
   "execution_count": null,
   "metadata": {
    "collapsed": true
   },
   "outputs": [],
   "source": [
    "renta = np.log(train_month['renta'] + 1)\n",
    "renta.hist(bins=1000)"
   ]
  },
  {
   "cell_type": "code",
   "execution_count": null,
   "metadata": {
    "collapsed": true
   },
   "outputs": [],
   "source": [
    "renta = np.log(reduced_train_month['renta'] + 1)\n",
    "renta.hist(bins=1000)"
   ]
  },
  {
   "cell_type": "code",
   "execution_count": null,
   "metadata": {
    "collapsed": true
   },
   "outputs": [],
   "source": []
  },
  {
   "cell_type": "code",
   "execution_count": null,
   "metadata": {
    "collapsed": true
   },
   "outputs": [],
   "source": []
  },
  {
   "cell_type": "code",
   "execution_count": null,
   "metadata": {
    "collapsed": true
   },
   "outputs": [],
   "source": []
  },
  {
   "cell_type": "code",
   "execution_count": null,
   "metadata": {
    "collapsed": true
   },
   "outputs": [],
   "source": []
  },
  {
   "cell_type": "markdown",
   "metadata": {},
   "source": []
  }
 ],
 "metadata": {
  "kernelspec": {
   "display_name": "Python 2",
   "language": "python",
   "name": "python2"
  },
  "language_info": {
   "codemirror_mode": {
    "name": "ipython",
    "version": 2
   },
   "file_extension": ".py",
   "mimetype": "text/x-python",
   "name": "python",
   "nbconvert_exporter": "python",
   "pygments_lexer": "ipython2",
   "version": "2.7.12"
  }
 },
 "nbformat": 4,
 "nbformat_minor": 1
}
