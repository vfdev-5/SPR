{
 "cells": [
  {
   "cell_type": "code",
   "execution_count": 80,
   "metadata": {
    "collapsed": false
   },
   "outputs": [],
   "source": [
    "\"\"\"\n",
    "__author__ = 'ZFTurbo: https://kaggle.com/zfturbo'\n",
    "Fork of ZFTurbo 'Mass hashes' code : https://www.kaggle.com/zfturbo/santander-product-recommendation/mass-hashes/code\n",
    "\n",
    "Added personal recommendations based on previous user's choices\n",
    "\n",
    "\"\"\"\n",
    "import logging\n",
    "logging.getLogger().handlers = []\n",
    "logging.basicConfig(level=logging.DEBUG)\n",
    "\n",
    "from datetime import datetime\n",
    "from operator import itemgetter\n",
    "\n",
    "from copy import deepcopy\n",
    "import numpy as np\n",
    "\n",
    "# Project\n",
    "from zfturbo_script_mass_hashes_personal_recommendations import read_data, \\\n",
    "            personal_recommendations_to_proba, \\\n",
    "            common_recommendations_to_proba, \\\n",
    "            get_target_labels, predict_score, process_row, \\\n",
    "            ZFTURBO_COMMON_WEIGHT, MINE_COMMON_WEIGHT    "
   ]
  },
  {
   "cell_type": "markdown",
   "metadata": {},
   "source": [
    "### Define train/test files"
   ]
  },
  {
   "cell_type": "code",
   "execution_count": 3,
   "metadata": {
    "collapsed": true
   },
   "outputs": [],
   "source": [
    "train_filename = \"../data/train_ver2_201601-201605.csv\"\n",
    "# test_filename = \"../data/test_ver2.csv\"\n",
    "test_filename = None"
   ]
  },
  {
   "cell_type": "code",
   "execution_count": null,
   "metadata": {
    "collapsed": true
   },
   "outputs": [],
   "source": []
  },
  {
   "cell_type": "code",
   "execution_count": null,
   "metadata": {
    "collapsed": true
   },
   "outputs": [],
   "source": []
  },
  {
   "cell_type": "markdown",
   "metadata": {},
   "source": [
    "### Compute recommendations from training data"
   ]
  },
  {
   "cell_type": "code",
   "execution_count": 12,
   "metadata": {
    "collapsed": true
   },
   "outputs": [],
   "source": [
    "def get_profiles(row):\n",
    "\n",
    "    (fecha_dato, ncodpers, ind_empleado,  # 0\n",
    "     pais_residencia, sexo, age,  # 3\n",
    "     fecha_alta, ind_nuevo, antiguedad,  # 6\n",
    "     indrel, ult_fec_cli_1t, indrel_1mes,  # 9\n",
    "     tiprel_1mes, indresi, indext,  # 12\n",
    "     conyuemp, canal_entrada, indfall,  # 15\n",
    "     tipodom, cod_prov, nomprov,  # 18\n",
    "     ind_actividad_cliente, renta, segmento) = row[:24]\n",
    "\n",
    "    # if renta == '' or renta == 'NA':\n",
    "    #     renta1 = '-1'\n",
    "    # elif float(renta) < 45542.97:\n",
    "    #     renta1 = '1'\n",
    "    # elif float(renta) < 57629.67:\n",
    "    #     renta1 = '2'\n",
    "    # elif float(renta) < 68211.78:\n",
    "    #     renta1 = '3'\n",
    "    # elif float(renta) < 78852.39:\n",
    "    #     renta1 = '4'\n",
    "    # elif float(renta) < 90461.97:\n",
    "    #     renta1 = '5'\n",
    "    # elif float(renta) < 103855.23:\n",
    "    #     renta1 = '6'\n",
    "    # elif float(renta) < 120063.00:\n",
    "    #     renta1 = '7'\n",
    "    # elif float(renta) < 141347.49:\n",
    "    #     renta1 = '8'\n",
    "    # elif float(renta) < 173418.36:\n",
    "    #     renta1 = '9'\n",
    "    # elif float(renta) < 234687.12:\n",
    "    #     renta1 = '10'\n",
    "    # else:\n",
    "    #     renta1 = '11'\n",
    "\n",
    "    profiles = [\n",
    "        (0, pais_residencia, nomprov, sexo, age, renta, segmento, ind_empleado),\n",
    "        (1, pais_residencia, nomprov, renta, ind_empleado),\n",
    "        (2, sexo, age, renta, segmento),\n",
    "        (10, antiguedad, indrel_1mes, indrel, indresi, canal_entrada, ind_actividad_cliente, ind_nuevo),\n",
    "        (11, antiguedad, indrel_1mes, indrel, indresi),\n",
    "        (12, canal_entrada, ind_actividad_cliente, ind_nuevo),\n",
    "        (100, sexo, age, renta, antiguedad, indrel, ind_actividad_cliente),\n",
    "\n",
    "        ## ZFTurbo\n",
    "        (1001, pais_residencia, sexo, age, ind_nuevo, segmento, ind_empleado, ind_actividad_cliente, indresi),\n",
    "        (1002, pais_residencia, sexo, age, segmento, nomprov),\n",
    "        (1003, pais_residencia, sexo, age, segmento, ncodpers),\n",
    "        (1004, pais_residencia, sexo, age, segmento, antiguedad),\n",
    "        (1005, pais_residencia, sexo, age, segmento, ind_nuevo),\n",
    "        (1006, pais_residencia, sexo, age, segmento, ind_actividad_cliente),\n",
    "        (1007, pais_residencia, sexo, age, segmento, canal_entrada),\n",
    "        (1008, pais_residencia, sexo, age, segmento, ind_nuevo,canal_entrada),\n",
    "        (1009, pais_residencia, sexo, age, segmento, ind_empleado),\n",
    "        (10010, pais_residencia, sexo, renta, age, segmento),\n",
    "        (10011, sexo, age, segmento)\n",
    "    ]\n",
    "\n",
    "    return profiles    "
   ]
  },
  {
   "cell_type": "code",
   "execution_count": 13,
   "metadata": {
    "collapsed": false
   },
   "outputs": [
    {
     "name": "stderr",
     "output_type": "stream",
     "text": [
      "INFO:root:--- Run solution ---\n",
      "INFO:root:- READ DATA : months to read ['2016-03']\n",
      "DEBUG:root:--- Time analysis : mean row processing : 2.85895442963e-05, mean update : 5.1945567131e-05\n",
      "INFO:root:-- Processed 100000 lines : Elapsed 29.8093628883 s. Current month : 2016-03\n",
      "DEBUG:root:--- Time analysis : mean row processing : 1.4491935865e-05, mean update : 2.75006662315e-05\n",
      "INFO:root:-- Processed 200000 lines : Elapsed 9.70020580292 s. Current month : 2016-03\n",
      "DEBUG:root:--- Time analysis : mean row processing : 9.41018007881e-06, mean update : 2.48728063473e-05\n",
      "INFO:root:-- Processed 300000 lines : Elapsed 11.5550940037 s. Current month : 2016-03\n",
      "DEBUG:root:--- Time analysis : mean row processing : 7.24330155203e-06, mean update : 1.56429614568e-05\n",
      "INFO:root:-- Processed 400000 lines : Elapsed 10.4632530212 s. Current month : 2016-03\n",
      "DEBUG:root:--- Time analysis : mean row processing : 5.29151886969e-06, mean update : 1.10523107583e-05\n",
      "INFO:root:-- Processed 500000 lines : Elapsed 9.3608648777 s. Current month : 2016-03\n",
      "DEBUG:root:--- Time analysis : mean row processing : 4.50468150546e-06, mean update : 8.95015094946e-06\n",
      "INFO:root:-- Processed 600000 lines : Elapsed 9.29283499718 s. Current month : 2016-03\n",
      "DEBUG:root:--- Time analysis : mean row processing : 4.19241833483e-06, mean update : 1.2394426734e-05\n",
      "INFO:root:-- Processed 700000 lines : Elapsed 12.9365961552 s. Current month : 2016-03\n",
      "DEBUG:root:--- Time analysis : mean row processing : 3.29464929827e-06, mean update : 6.25085740864e-06\n",
      "INFO:root:-- Processed 800000 lines : Elapsed 8.81971693039 s. Current month : 2016-03\n",
      "DEBUG:root:--- Time analysis : mean row processing : 2.89180459414e-06, mean update : 5.44694032086e-06\n",
      "INFO:root:-- Processed 900000 lines : Elapsed 8.66980004311 s. Current month : 2016-03\n",
      "DEBUG:root:-- Removed rows : 6\n",
      "DEBUG:root:-- common_recommendations_validation : 1019116 \n",
      "DEBUG:root:-- personal_recommendations_validation : 925070 \n",
      "DEBUG:root:-- product_stats_validation : 24 \n"
     ]
    }
   ],
   "source": [
    "logging.info('--- Run solution ---')\n",
    "reader = open(train_filename, \"r\")\n",
    "target_labels = get_target_labels(reader.readline())\n",
    "\n",
    "# Read data and create recommendations structures\n",
    "\n",
    "nb_months_validation = 1\n",
    "(personal_recommendations_validation,\n",
    " common_recommendations_validation,\n",
    " product_stats_validation) = read_data(reader, 201603, nb_months_validation,\n",
    "                                       process_row, get_profiles)\n",
    "\n",
    "logging.debug(\"-- common_recommendations_validation : %s \" % len(common_recommendations_validation))\n",
    "logging.debug(\"-- personal_recommendations_validation : %s \" % len(personal_recommendations_validation))\n",
    "logging.debug(\"-- product_stats_validation : %s \" % len(product_stats_validation))\n"
   ]
  },
  {
   "cell_type": "code",
   "execution_count": 14,
   "metadata": {
    "collapsed": true
   },
   "outputs": [],
   "source": [
    "personal_recommendations_to_proba(personal_recommendations_validation, nb_months_validation)\n",
    "common_recommendations_to_proba(common_recommendations_validation)\n",
    "product_stats_validation = sorted(product_stats_validation.items(), key=itemgetter(1), reverse=True)"
   ]
  },
  {
   "cell_type": "code",
   "execution_count": null,
   "metadata": {
    "collapsed": true
   },
   "outputs": [],
   "source": []
  },
  {
   "cell_type": "code",
   "execution_count": 5,
   "metadata": {
    "collapsed": true
   },
   "outputs": [
    {
     "name": "stderr",
     "output_type": "stream",
     "text": [
      "INFO:root:--- Run solution ---\n",
      "INFO:root:- READ DATA : months to read ['2016-03', '2016-04']\n",
      "DEBUG:root:--- Time analysis : mean row processing : 2.53415942192e-05, mean update : 1.73092675209e-05\n",
      "INFO:root:-- Processed 100000 lines : Elapsed 23.2783670425 s. Current month : 2016-03\n",
      "DEBUG:root:--- Time analysis : mean row processing : 1.24912408475e-05, mean update : 8.87111854593e-06\n",
      "INFO:root:-- Processed 200000 lines : Elapsed 5.34472799301 s. Current month : 2016-03\n",
      "DEBUG:root:--- Time analysis : mean row processing : 8.27553859716e-06, mean update : 6.83052238478e-06\n",
      "INFO:root:-- Processed 300000 lines : Elapsed 5.60310220718 s. Current month : 2016-03\n",
      "DEBUG:root:--- Time analysis : mean row processing : 6.27681536086e-06, mean update : 5.12922325688e-06\n",
      "INFO:root:-- Processed 400000 lines : Elapsed 5.63736987114 s. Current month : 2016-03\n",
      "DEBUG:root:--- Time analysis : mean row processing : 5.0020987162e-06, mean update : 4.08363700558e-06\n",
      "INFO:root:-- Processed 500000 lines : Elapsed 5.61618709564 s. Current month : 2016-03\n",
      "DEBUG:root:--- Time analysis : mean row processing : 4.44083014342e-06, mean update : 3.23546057066e-06\n",
      "INFO:root:-- Processed 600000 lines : Elapsed 5.76005387306 s. Current month : 2016-03\n",
      "DEBUG:root:--- Time analysis : mean row processing : 4.13049412666e-06, mean update : 3.63119281037e-06\n",
      "INFO:root:-- Processed 700000 lines : Elapsed 6.69397783279 s. Current month : 2016-03\n",
      "DEBUG:root:--- Time analysis : mean row processing : 3.70215485232e-06, mean update : 2.63017810295e-06\n",
      "INFO:root:-- Processed 800000 lines : Elapsed 6.36044216156 s. Current month : 2016-03\n",
      "DEBUG:root:--- Time analysis : mean row processing : 3.01872876696e-06, mean update : 2.48020835234e-06\n",
      "INFO:root:-- Processed 900000 lines : Elapsed 6.12861800194 s. Current month : 2016-03\n",
      "DEBUG:root:--- Time analysis : mean row processing : 2.63350287949e-06, mean update : 2.38671073979e-06\n",
      "INFO:root:-- Processed 1000000 lines : Elapsed 6.23644709587 s. Current month : 2016-04\n",
      "DEBUG:root:--- Time analysis : mean row processing : 2.41283070948e-06, mean update : 2.23389452384e-06\n",
      "INFO:root:-- Processed 1100000 lines : Elapsed 6.32466506958 s. Current month : 2016-04\n",
      "DEBUG:root:--- Time analysis : mean row processing : 2.26489725116e-06, mean update : 2.33445055676e-06\n",
      "INFO:root:-- Processed 1200000 lines : Elapsed 6.80208182335 s. Current month : 2016-04\n",
      "DEBUG:root:--- Time analysis : mean row processing : 2.0980894565e-06, mean update : 2.22952050271e-06\n",
      "INFO:root:-- Processed 1300000 lines : Elapsed 6.91761779785 s. Current month : 2016-04\n",
      "DEBUG:root:--- Time analysis : mean row processing : 1.92210347312e-06, mean update : 1.96280894131e-06\n",
      "INFO:root:-- Processed 1400000 lines : Elapsed 6.70808601379 s. Current month : 2016-04\n",
      "DEBUG:root:--- Time analysis : mean row processing : 1.71266668032e-06, mean update : 1.6135605546e-06\n",
      "INFO:root:-- Processed 1500000 lines : Elapsed 6.20136904716 s. Current month : 2016-04\n",
      "DEBUG:root:--- Time analysis : mean row processing : 1.61147746197e-06, mean update : 1.50599461314e-06\n",
      "INFO:root:-- Processed 1600000 lines : Elapsed 6.2031390667 s. Current month : 2016-04\n",
      "DEBUG:root:--- Time analysis : mean row processing : 1.52666523303e-06, mean update : 1.40357134154e-06\n",
      "INFO:root:-- Processed 1700000 lines : Elapsed 6.19069385529 s. Current month : 2016-04\n",
      "DEBUG:root:--- Time analysis : mean row processing : 1.49821843085e-06, mean update : 1.39840349714e-06\n",
      "INFO:root:-- Processed 1800000 lines : Elapsed 6.48838710785 s. Current month : 2016-04\n",
      "DEBUG:root:-- Removed rows : 12\n",
      "DEBUG:root:-- common_recommendations_validation : 46396 \n",
      "DEBUG:root:-- personal_recommendations_validation : 929930 \n",
      "DEBUG:root:-- product_stats_validation : 24 \n",
      "INFO:root:- READ DATA : months to read ['2016-05']\n",
      "DEBUG:root:--- Time analysis : mean row processing : 2.78175735474e-05, mean update : 2.70782828331e-05\n",
      "INFO:root:-- Processed 100000 lines : Elapsed 6.76169419289 s. Current month : 2016-05\n",
      "DEBUG:root:--- Time analysis : mean row processing : 1.38258644049e-05, mean update : 1.32023591692e-05\n",
      "INFO:root:-- Processed 200000 lines : Elapsed 6.69336891174 s. Current month : 2016-05\n",
      "DEBUG:root:--- Time analysis : mean row processing : 9.09379163573e-06, mean update : 1.21255845823e-05\n",
      "INFO:root:-- Processed 300000 lines : Elapsed 7.64177703857 s. Current month : 2016-05\n",
      "DEBUG:root:--- Time analysis : mean row processing : 7.08593198188e-06, mean update : 7.57309368753e-06\n",
      "INFO:root:-- Processed 400000 lines : Elapsed 7.19812107086 s. Current month : 2016-05\n",
      "DEBUG:root:--- Time analysis : mean row processing : 5.99157987621e-06, mean update : 6.01339042847e-06\n",
      "INFO:root:-- Processed 500000 lines : Elapsed 7.41605782509 s. Current month : 2016-05\n",
      "DEBUG:root:--- Time analysis : mean row processing : 5.44893468639e-06, mean update : 5.12637544552e-06\n",
      "INFO:root:-- Processed 600000 lines : Elapsed 7.8783659935 s. Current month : 2016-05\n",
      "DEBUG:root:--- Time analysis : mean row processing : 4.62165623205e-06, mean update : 4.18735861832e-06\n",
      "INFO:root:-- Processed 700000 lines : Elapsed 7.65446782112 s. Current month : 2016-05\n",
      "DEBUG:root:--- Time analysis : mean row processing : 3.8982383563e-06, mean update : 3.68193225952e-06\n",
      "INFO:root:-- Processed 800000 lines : Elapsed 7.53029608727 s. Current month : 2016-05\n",
      "DEBUG:root:--- Time analysis : mean row processing : 3.11098055055e-06, mean update : 4.46116777079e-06\n",
      "INFO:root:-- Processed 900000 lines : Elapsed 8.13091206551 s. Current month : 2016-05\n",
      "DEBUG:root:-- Removed rows : 5\n",
      "DEBUG:root:-- common_recommendations : 50680 \n",
      "DEBUG:root:-- personal_recommendations : 934707 \n",
      "DEBUG:root:-- product_stats : 24 \n"
     ]
    }
   ],
   "source": [
    "personal_recommendations = deepcopy(personal_recommendations_validation)\n",
    "common_recommendations = deepcopy(common_recommendations_validation)\n",
    "product_stats = deepcopy(product_stats_validation)\n",
    "\n",
    "(personal_recommendations,\n",
    " common_recommendations,\n",
    " product_stats,\n",
    " validation_data) = read_data(reader, 201605, 1,\n",
    "                              process_row,\n",
    "                              get_profiles,\n",
    "                              return_raw_data=True,\n",
    "                              personal_recommendations=personal_recommendations,\n",
    "                              common_recommendations=common_recommendations,\n",
    "                              product_stats=product_stats)\n",
    "\n",
    "logging.debug(\"-- common_recommendations : %s \" % len(common_recommendations))\n",
    "logging.debug(\"-- personal_recommendations : %s \" % len(personal_recommendations))\n",
    "logging.debug(\"-- product_stats : %s \" % len(product_stats))\n"
   ]
  },
  {
   "cell_type": "code",
   "execution_count": null,
   "metadata": {
    "collapsed": true
   },
   "outputs": [],
   "source": [
    "personal_recommendations_to_proba(personal_recommendations, nb_months_validation+1)\n",
    "common_recommendations_to_proba(common_recommendations)\n",
    "# Sort product stats:\n",
    "product_stats = sorted(product_stats.items(), key=itemgetter(1), reverse=True)"
   ]
  },
  {
   "cell_type": "code",
   "execution_count": 9,
   "metadata": {
    "collapsed": true
   },
   "outputs": [],
   "source": [
    "reader.close()"
   ]
  },
  {
   "cell_type": "markdown",
   "metadata": {},
   "source": [
    "### Compute the score "
   ]
  },
  {
   "cell_type": "code",
   "execution_count": 72,
   "metadata": {
    "collapsed": true
   },
   "outputs": [],
   "source": [
    "def _get_profiles(row):\n",
    "\n",
    "    (fecha_dato, ncodpers, ind_empleado,  # 0\n",
    "     pais_residencia, sexo, age,  # 3\n",
    "     fecha_alta, ind_nuevo, antiguedad,  # 6\n",
    "     indrel, ult_fec_cli_1t, indrel_1mes,  # 9\n",
    "     tiprel_1mes, indresi, indext,  # 12\n",
    "     conyuemp, canal_entrada, indfall,  # 15\n",
    "     tipodom, cod_prov, nomprov,  # 18\n",
    "     ind_actividad_cliente, renta, segmento) = row[:24]\n",
    "\n",
    "    profiles = [\n",
    "#          (0, pais_residencia, nomprov, sexo, age, renta, segmento, ind_empleado),\n",
    "#        (1, pais_residencia, nomprov, renta, ind_empleado),\n",
    "#          (2, sexo, age, renta, segmento),\n",
    "#         (10, antiguedad, indrel_1mes, indrel, indresi, canal_entrada, ind_actividad_cliente, ind_nuevo),\n",
    "#         (11, antiguedad, indrel_1mes, indrel, indresi),\n",
    "#          (12, canal_entrada, ind_actividad_cliente, ind_nuevo),\n",
    "#         (100, sexo, age, renta, antiguedad, indrel, ind_actividad_cliente),\n",
    "\n",
    "#         ## ZFTurbo\n",
    "        (1001, pais_residencia, sexo, age, ind_nuevo, segmento, ind_empleado, ind_actividad_cliente, indresi),\n",
    "        (1002, pais_residencia, sexo, age, segmento, nomprov),\n",
    "        (1003, pais_residencia, sexo, age, segmento, ncodpers),\n",
    "        (1004, pais_residencia, sexo, age, segmento, antiguedad),\n",
    "        (1005, pais_residencia, sexo, age, segmento, ind_nuevo),\n",
    "        (1006, pais_residencia, sexo, age, segmento, ind_actividad_cliente),\n",
    "        (1007, pais_residencia, sexo, age, segmento, canal_entrada),\n",
    "        (1008, pais_residencia, sexo, age, segmento, ind_nuevo,canal_entrada),\n",
    "        (1009, pais_residencia, sexo, age, segmento, ind_empleado),\n",
    "        (10010, pais_residencia, sexo, renta, age, segmento),\n",
    "        (10011, sexo, age, segmento)\n",
    "    ]\n",
    "\n",
    "    return profiles    "
   ]
  },
  {
   "cell_type": "code",
   "execution_count": 81,
   "metadata": {
    "collapsed": true
   },
   "outputs": [],
   "source": [
    "#ZFTURBO_COMMON_WEIGHT = 0.5\n",
    "#MINE_COMMON_WEIGHT = 1.0 - ZFTURBO_COMMON_WEIGHT"
   ]
  },
  {
   "cell_type": "code",
   "execution_count": 89,
   "metadata": {
    "collapsed": false
   },
   "outputs": [
    {
     "name": "stderr",
     "output_type": "stream",
     "text": [
      "DEBUG:root:-- predict_score : personal_recommendations_weight=0.0\n",
      "DEBUG:root:--- predict_score : map7=0.0163794047619\n"
     ]
    },
    {
     "name": "stdout",
     "output_type": "stream",
     "text": [
      "0.0163794047619\n"
     ]
    }
   ],
   "source": [
    "map7 = predict_score(validation_data[10000:20000],\n",
    "                     process_row,\n",
    "                     _get_profiles,\n",
    "                     personal_recommendations_validation,\n",
    "                     common_recommendations_validation,\n",
    "                     product_stats_validation,\n",
    "                     0.0)\n",
    "print map7"
   ]
  },
  {
   "cell_type": "code",
   "execution_count": null,
   "metadata": {
    "collapsed": true
   },
   "outputs": [],
   "source": [
    "0.0148373611111"
   ]
  },
  {
   "cell_type": "code",
   "execution_count": null,
   "metadata": {
    "collapsed": true
   },
   "outputs": [],
   "source": []
  },
  {
   "cell_type": "markdown",
   "metadata": {},
   "source": [
    "ZFTurbo : 0.0148373611111\n",
    "Mine : 0.0144725793651\n",
    "Both : 0.0149396230159\n",
    "\n",
    "\n",
    "\n",
    "0 : 0.0140291468254\n",
    "1 : 0.013452281746\n",
    "2 : 0.0147912698413\n",
    "\n",
    "10 : 0.0121430555556\n",
    "11 : 0.0125974404762\n",
    "12 : 0.0143200992063\n",
    "\n",
    "100 : 0.0127614484127\n",
    "\n",
    "1001 : 0.0152238293651\n",
    "1002 : 0.0145385119048\n",
    "1003 : 0.00232928571429\n",
    "1004 : 0.0128844246032\n",
    "1005 : 0.0143448015873\n",
    "1006 : 0.0151566865079\n",
    "1007 : 0.0143549801587\n",
    "1008 : 0.0144190277778\n",
    "1009 : 0.0145933730159\n",
    "1010 : 0.0146814484127\n",
    "1011 : 0.0147400396825\n",
    "\n",
    "\n"
   ]
  },
  {
   "cell_type": "markdown",
   "metadata": {},
   "source": [
    "ZFTurbo profiles : \n",
    "DEBUG:root:-- predict_score : personal_recommendations_weight=0.0\n",
    "DEBUG:root:--- predict_score : map7=0.0209900993714\n",
    "\n",
    "My profiles :\n",
    "DEBUG:root:-- predict_score : personal_recommendations_weight=0.0\n",
    "DEBUG:root:--- predict_score : map7=0.0197835926963\n",
    "\n",
    "Both : \n",
    "DEBUG:root:-- predict_score : personal_recommendations_weight=0.0\n",
    "DEBUG:root:--- predict_score : map7=0.0255465612777\n",
    "\n",
    "0.0250303816124"
   ]
  },
  {
   "cell_type": "code",
   "execution_count": null,
   "metadata": {
    "collapsed": true
   },
   "outputs": [],
   "source": []
  },
  {
   "cell_type": "code",
   "execution_count": null,
   "metadata": {
    "collapsed": true
   },
   "outputs": [],
   "source": []
  }
 ],
 "metadata": {
  "kernelspec": {
   "display_name": "Python 2",
   "language": "python",
   "name": "python2"
  },
  "language_info": {
   "codemirror_mode": {
    "name": "ipython",
    "version": 2
   },
   "file_extension": ".py",
   "mimetype": "text/x-python",
   "name": "python",
   "nbconvert_exporter": "python",
   "pygments_lexer": "ipython2",
   "version": "2.7.12"
  }
 },
 "nbformat": 4,
 "nbformat_minor": 1
}
