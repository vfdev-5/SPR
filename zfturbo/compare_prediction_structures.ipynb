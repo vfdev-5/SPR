{
 "cells": [
  {
   "cell_type": "markdown",
   "metadata": {},
   "source": [
    "# Compare my code with zfturbo "
   ]
  },
  {
   "cell_type": "code",
   "execution_count": 1,
   "metadata": {
    "collapsed": true
   },
   "outputs": [],
   "source": [
    "import datetime\n",
    "import os\n",
    "from collections import defaultdict\n",
    "import operator"
   ]
  },
  {
   "cell_type": "code",
   "execution_count": 2,
   "metadata": {
    "collapsed": true
   },
   "outputs": [],
   "source": [
    "from datetime import datetime\n",
    "import logging\n",
    "logging.basicConfig(level=logging.DEBUG)\n",
    "\n",
    "from operator import itemgetter\n",
    "\n",
    "from copy import deepcopy\n",
    "import numpy as np\n",
    "from zfturbo_script_mass_hashes_personal_recommendations import read_data, get_profiles, personal_recommendations_to_proba, common_recommendations_to_proba, get_target_labels, predict_score"
   ]
  },
  {
   "cell_type": "code",
   "execution_count": 3,
   "metadata": {
    "collapsed": true
   },
   "outputs": [],
   "source": [
    "DATA_PATH = \"../data\""
   ]
  },
  {
   "cell_type": "markdown",
   "metadata": {},
   "source": [
    "## Small test"
   ]
  },
  {
   "cell_type": "markdown",
   "metadata": {},
   "source": [
    "ZFTurbo"
   ]
  },
  {
   "cell_type": "code",
   "execution_count": 4,
   "metadata": {
    "collapsed": false
   },
   "outputs": [
    {
     "name": "stdout",
     "output_type": "stream",
     "text": [
      "Current set of hash indexes: [(7, 8, 14, 19, 23), (4, 5, 7, 9, 16)]\n"
     ]
    }
   ],
   "source": [
    "from zfturbo_script_mass_hashes import get_hashes as zf_get_hashes\n",
    "from zfturbo_script_mass_hashes import sort_main_arrays as zf_sort_main_arrays\n",
    "from zfturbo_script_mass_hashes import add_data_to_main_arrays as zf_add_data_to_main_arrays"
   ]
  },
  {
   "cell_type": "code",
   "execution_count": 5,
   "metadata": {
    "collapsed": true
   },
   "outputs": [],
   "source": [
    "from zfturbo_script_mass_hashes import get_predictions as zf_get_predictions\n",
    "from zfturbo_script_mass_hashes import get_real_values as zf_get_real_values\n",
    "from zfturbo_script_mass_hashes import apk as zf_apk"
   ]
  },
  {
   "cell_type": "code",
   "execution_count": 6,
   "metadata": {
    "collapsed": true
   },
   "outputs": [],
   "source": [
    "f = open(os.path.join(DATA_PATH, \"train_ver2.csv\"), 'r')\n",
    "first_line = f.readline().strip()\n",
    "# Remove \" symbols in the header. Header is like : \"a\",\"b\",\"c\"...\n",
    "first_line = first_line.replace(\"\\\"\", \"\")\n",
    "# map names <-> target labels\n",
    "map_names = first_line.split(\",\")[24:]"
   ]
  },
  {
   "cell_type": "code",
   "execution_count": 7,
   "metadata": {
    "collapsed": true
   },
   "outputs": [],
   "source": [
    "# Normal variables\n",
    "customer = dict()\n",
    "best = defaultdict(lambda: defaultdict(int))\n",
    "overallbest = defaultdict(int)\n",
    "\n",
    "# Validation variables\n",
    "customer_valid = dict()\n",
    "best_valid = defaultdict(lambda: defaultdict(int))\n",
    "overallbest_valid = defaultdict(int)\n",
    "\n",
    "valid_part = []"
   ]
  },
  {
   "cell_type": "code",
   "execution_count": 8,
   "metadata": {
    "collapsed": false
   },
   "outputs": [
    {
     "name": "stdout",
     "output_type": "stream",
     "text": [
      "Process 100000 lines | current month : 2015-01-28\n",
      "Process 200000 lines | current month : 2015-01-28\n",
      "Process 300000 lines | current month : 2015-01-28\n",
      "Process 400000 lines | current month : 2015-01-28\n",
      "Process 500000 lines | current month : 2015-01-28\n",
      "Process 600000 lines | current month : 2015-01-28\n",
      "Process 700000 lines | current month : 2015-02-28\n",
      "Process 800000 lines | current month : 2015-02-28\n",
      "Process 900000 lines | current month : 2015-02-28\n",
      "Process 1000000 lines | current month : 2015-02-28\n",
      "Process 1100000 lines | current month : 2015-02-28\n",
      "Process 1200000 lines | current month : 2015-02-28\n",
      "TOTAL :  1252852\n"
     ]
    }
   ],
   "source": [
    "# Calc counts\n",
    "total = 0\n",
    "while 1:\n",
    "    line = f.readline()[:-1]\n",
    "    total += 1\n",
    "\n",
    "    if line == '':\n",
    "        break\n",
    "\n",
    "    # Parse line : \n",
    "    if \"\\\"\" in line:\n",
    "        tmp1 = line.split(\"\\\"\")\n",
    "        arr = tmp1[0][:-1].split(\",\") + [tmp1[1]] + tmp1[2][1:].split(',')\n",
    "    else:\n",
    "        arr = line.split(\",\")\n",
    "    arr = [a.strip() for a in arr]\n",
    "\n",
    "    # Normal part\n",
    "    zf_add_data_to_main_arrays(arr, best, overallbest, customer)\n",
    "\n",
    "    \n",
    "    # Valid part\n",
    "    if '2015-02' not in arr[0]:\n",
    "        zf_add_data_to_main_arrays(arr, best_valid, overallbest_valid, customer_valid)\n",
    "    else:\n",
    "        valid_part.append(arr)\n",
    "\n",
    "    if total % 100000 == 0:\n",
    "        print('Process {} lines | current month : {}'.format(total, arr[0]))\n",
    "#         break\n",
    "        \n",
    "    if '2015-03' in arr[0]:\n",
    "        break\n",
    "        \n",
    "print \"TOTAL : \", total"
   ]
  },
  {
   "cell_type": "code",
   "execution_count": 9,
   "metadata": {
    "collapsed": true
   },
   "outputs": [],
   "source": [
    "f.close()"
   ]
  },
  {
   "cell_type": "code",
   "execution_count": 10,
   "metadata": {
    "collapsed": false
   },
   "outputs": [
    {
     "name": "stdout",
     "output_type": "stream",
     "text": [
      "Sort best arrays...\n",
      "('Hashes num: ', 734434)\n",
      "('Hashes valid num: ', 727939)\n",
      "('Valid part: ', 627394)\n"
     ]
    }
   ],
   "source": [
    "print('Sort best arrays...')\n",
    "print('Hashes num: ', len(best))\n",
    "print('Hashes valid num: ', len(best_valid))\n",
    "print('Valid part: ', len(valid_part))"
   ]
  },
  {
   "cell_type": "code",
   "execution_count": 11,
   "metadata": {
    "collapsed": false
   },
   "outputs": [],
   "source": [
    "# Normal\n",
    "best, overallbest = zf_sort_main_arrays(best, overallbest)\n",
    "\n",
    "# Valid\n",
    "best_valid, overallbest_valid = zf_sort_main_arrays(best_valid, overallbest_valid)"
   ]
  },
  {
   "cell_type": "code",
   "execution_count": null,
   "metadata": {
    "collapsed": false
   },
   "outputs": [
    {
     "name": "stdout",
     "output_type": "stream",
     "text": [
      "Validation...\n"
     ]
    }
   ],
   "source": [
    "map7 = 0.0\n",
    "print('Validation...')\n",
    "count = -1\n",
    "for i, arr1 in enumerate(valid_part):\n",
    "    \n",
    "    predicted = zf_get_predictions(arr1, best_valid, overallbest_valid, customer_valid)\n",
    "    real = zf_get_real_values(arr1, customer_valid)\n",
    "    score = zf_apk(real, predicted)\n",
    "    #print \"-- i : \", i, arr1[1], \" score : \", score, \" | predicted : \", predicted, \", real : \", real\n",
    "    map7 += score\n",
    "    \n",
    "    count-= 1\n",
    "    if count == 0:\n",
    "        break\n",
    "\n",
    "if len(valid_part) > 0:\n",
    "    map7 /= len(valid_part)\n",
    "print('Predicted score: {}'.format(map7))"
   ]
  },
  {
   "cell_type": "code",
   "execution_count": null,
   "metadata": {
    "collapsed": true
   },
   "outputs": [],
   "source": []
  },
  {
   "cell_type": "markdown",
   "metadata": {},
   "source": [
    "My code"
   ]
  },
  {
   "cell_type": "code",
   "execution_count": null,
   "metadata": {
    "collapsed": false
   },
   "outputs": [],
   "source": [
    "train_filename = os.path.join(DATA_PATH, \"train_ver2.csv\")"
   ]
  },
  {
   "cell_type": "code",
   "execution_count": null,
   "metadata": {
    "collapsed": true
   },
   "outputs": [],
   "source": [
    "import math\n",
    "from common import parse_line, clean_data, process_data, get_choices, get_user\n",
    "from zfturbo_script_mass_hashes_personal_recommendations import update_common_recommendations, update_personal_recommendations, update_product_stats, get_last_choice, to_yearmonth"
   ]
  },
  {
   "cell_type": "code",
   "execution_count": null,
   "metadata": {
    "collapsed": true
   },
   "outputs": [],
   "source": [
    "# def update_common_recommendations(common_recommendations, row, get_profiles_func):\n",
    "#     profiles = get_profiles_func(row)\n",
    "#     choices = get_choices(row)\n",
    "#     for profile in profiles:\n",
    "#         # Update common recommendations\n",
    "#         for i, t in enumerate(choices):\n",
    "#             if t == \"1\":\n",
    "#                 common_recommendations[profile][i] += 1\n",
    "#         common_recommendations[profile]['total'] += 1\n",
    "\n",
    "\n",
    "def read_data(reader, yearmonth_begin, nb_months, get_profiles_func, return_raw_data=False,\n",
    "              personal_recommendations=None, common_recommendations=None, product_stats=None):\n",
    "    \"\"\"\n",
    "    :param reader:\n",
    "    :param yearmonth_begin: e.g. 201501\n",
    "    :param nb_months: e.g. 5 -> 201501, 201502, 201503, 201504, 201505\n",
    "    :return:\n",
    "    (personal_recommendations,\n",
    "     common_recommendations,\n",
    "     product_stats)\n",
    "\n",
    "     or if return_raw_data == True:\n",
    "\n",
    "     (personal_recommendations,\n",
    "     common_recommendations,\n",
    "     product_stats,\n",
    "     raw_data)\n",
    "\n",
    "     raw_data : list of read and parsed lines\n",
    "\n",
    "    \"\"\"\n",
    "\n",
    "    def _to_yearmonth_str(yearmonth):\n",
    "        year = int(math.floor(yearmonth * 0.01))\n",
    "        month = yearmonth - year * 100\n",
    "        return \"%s-%s\" % (str(year), str(month).zfill(2))\n",
    "\n",
    "    year = int(math.floor(yearmonth_begin * 0.01)) * 100\n",
    "    dates = [_to_yearmonth_str(yearmonth_begin), ]\n",
    "    current_yearmonth = yearmonth_begin\n",
    "    for i in range(1, nb_months):\n",
    "        current_yearmonth += 1\n",
    "        if current_yearmonth - year > 12:\n",
    "            year += 100\n",
    "            current_yearmonth = year + 1\n",
    "        dates.append(_to_yearmonth_str(current_yearmonth))\n",
    "\n",
    "    logging.info(\"- READ DATA : months to read {}\".format(dates))\n",
    "\n",
    "    raw_data = []\n",
    "\n",
    "    if common_recommendations is None:\n",
    "        common_recommendations = defaultdict(lambda: defaultdict(float))\n",
    "    if personal_recommendations is None:\n",
    "        personal_recommendations = defaultdict(lambda: defaultdict(float))\n",
    "    if product_stats is None:\n",
    "        product_stats = defaultdict(int)\n",
    "\n",
    "    # Loop on lines in the file reader:\n",
    "    removed_rows = 0\n",
    "    total = 0\n",
    "    while True:\n",
    "        line = reader.readline()[:-1]\n",
    "        total += 1\n",
    "\n",
    "        if line == '':\n",
    "            break\n",
    "        row = parse_line(line)\n",
    "\n",
    "        # data : ['2015-01-28',\n",
    "        #  user id -> '1375586',\n",
    "        #  profile -> 'N', 'ES', 'H', '35', '2015-01-12', '0', '6', '1', '', '1.0', 'A', 'S', 'N', '', 'KHL', 'N', '1', '29', 'MALAGA', '1', '87218.1', '02 - PARTICULARES',\n",
    "        #  choices -> '0', '0', '1', '0', '0', '0', '0', '0', '0', '0', '0', '0', '0', '0', '0', '0', '0', '0', '0', '0', '0', '0', '0', '0']\n",
    "\n",
    "        yearmonth_str = row[0][:7]\n",
    "        if yearmonth_str not in dates:\n",
    "            yearmonth = to_yearmonth(yearmonth_str)\n",
    "            if yearmonth - yearmonth_begin < 0:\n",
    "                total = 0\n",
    "                continue\n",
    "            else:\n",
    "                break\n",
    "\n",
    "        row = clean_data(row)\n",
    "\n",
    "        if len(row) == 0:\n",
    "            removed_rows += 1\n",
    "            continue\n",
    "\n",
    "        if return_raw_data:\n",
    "            raw_data.append(row)\n",
    "\n",
    "        processed_row = process_data(row)\n",
    "        #processed_row = row\n",
    "\n",
    "        last_choice = get_last_choice(get_user(processed_row), personal_recommendations)\n",
    "        update_common_recommendations(common_recommendations, processed_row, get_profiles_func, last_choice)\n",
    "        update_product_stats(product_stats, row, last_choice)\n",
    "        update_personal_recommendations(personal_recommendations, processed_row)\n",
    "\n",
    "        if total % 100000 == 0:\n",
    "            logging.info('-- Processed {} lines . Current month : {}'.format(total, yearmonth_str))\n",
    "    \n",
    "    logging.debug(\"-- Removed rows : %s\" % removed_rows)\n",
    "    print \"TOTAL : \", total\n",
    "    \n",
    "    if return_raw_data:\n",
    "        return personal_recommendations, common_recommendations, product_stats, raw_data\n",
    "    return personal_recommendations, common_recommendations, product_stats\n"
   ]
  },
  {
   "cell_type": "code",
   "execution_count": null,
   "metadata": {
    "collapsed": false
   },
   "outputs": [],
   "source": [
    "logging.info('--- Run solution ---')\n",
    "reader = open(train_filename, \"r\")\n",
    "target_labels = get_target_labels(reader.readline())\n",
    "\n",
    "nb_months_validation = 1\n",
    "\n",
    "(personal_recommendations_validation,\n",
    " common_recommendations_validation,\n",
    " product_stats_validation) = read_data(reader, 201501, nb_months_validation, get_profiles)\n",
    "\n",
    "logging.debug(\"-- common_recommendations_validation : %s \" % len(common_recommendations_validation))\n",
    "logging.debug(\"-- personal_recommendations_validation : %s \" % len(personal_recommendations_validation))\n",
    "logging.debug(\"-- product_stats_validation : %s \" % len(product_stats_validation))\n",
    "\n",
    "personal_recommendations = deepcopy(personal_recommendations_validation)\n",
    "common_recommendations = deepcopy(common_recommendations_validation)\n",
    "product_stats = deepcopy(product_stats_validation)\n",
    "\n",
    "(personal_recommendations,\n",
    " common_recommendations,\n",
    " product_stats,\n",
    " validation_data) = read_data(reader, 201502, 1, get_profiles,\n",
    "                              return_raw_data=True,\n",
    "                              personal_recommendations=personal_recommendations,\n",
    "                              common_recommendations=common_recommendations,\n",
    "                              product_stats=product_stats)\n",
    "\n",
    "logging.debug(\"-- common_recommendations : %s \" % len(common_recommendations))\n",
    "logging.debug(\"-- personal_recommendations : %s \" % len(personal_recommendations))\n",
    "logging.debug(\"-- product_stats : %s \" % len(product_stats))\n",
    "\n",
    "reader.close()"
   ]
  },
  {
   "cell_type": "code",
   "execution_count": null,
   "metadata": {
    "collapsed": true
   },
   "outputs": [],
   "source": [
    "#personal_recommendations_to_proba(personal_recommendations_validation, nb_months_validation+1)"
   ]
  },
  {
   "cell_type": "code",
   "execution_count": null,
   "metadata": {
    "collapsed": false
   },
   "outputs": [],
   "source": [
    "print('Hashes num: ', len(common_recommendations))\n",
    "print('Hashes valid num: ', len(common_recommendations_validation))\n",
    "print('Valid part: ', len(validation_data))"
   ]
  },
  {
   "cell_type": "code",
   "execution_count": null,
   "metadata": {
    "collapsed": true
   },
   "outputs": [],
   "source": [
    "PERSONAL_RECOMMENDATIONS_WEIGHT = 0.0\n",
    "COMMON_RECOMMENDATIONS_WEIGHT = 1.0 - PERSONAL_RECOMMENDATIONS_WEIGHT\n",
    "\n",
    "ZFTURBO_COMMON_WEIGHT = 1.0\n",
    "MINE_COMMON_WEIGHT = 1.0 - ZFTURBO_COMMON_WEIGHT"
   ]
  },
  {
   "cell_type": "code",
   "execution_count": null,
   "metadata": {
    "collapsed": true
   },
   "outputs": [],
   "source": []
  },
  {
   "cell_type": "code",
   "execution_count": null,
   "metadata": {
    "collapsed": false
   },
   "outputs": [],
   "source": [
    "from zfturbo_script_mass_hashes_personal_recommendations import predict_score"
   ]
  },
  {
   "cell_type": "code",
   "execution_count": null,
   "metadata": {
    "collapsed": false
   },
   "outputs": [],
   "source": [
    "logging.info(\"- Validation\")\n",
    "map7 = predict_score(validation_data,\n",
    "                     get_profiles,\n",
    "                     personal_recommendations_validation,\n",
    "                     common_recommendations_validation,\n",
    "                     product_stats_validation,\n",
    "                     PERSONAL_RECOMMENDATIONS_WEIGHT)\n",
    "\n",
    "logging.info(\"Predicted score: {}\".format(map7))"
   ]
  },
  {
   "cell_type": "code",
   "execution_count": null,
   "metadata": {
    "collapsed": true
   },
   "outputs": [],
   "source": []
  },
  {
   "cell_type": "code",
   "execution_count": null,
   "metadata": {
    "collapsed": true
   },
   "outputs": [],
   "source": []
  },
  {
   "cell_type": "markdown",
   "metadata": {},
   "source": [
    "## Compare predictions"
   ]
  },
  {
   "cell_type": "code",
   "execution_count": null,
   "metadata": {
    "collapsed": true
   },
   "outputs": [],
   "source": [
    "from zfturbo_script_mass_hashes_personal_recommendations import apk, get_real_values, compute_predictions\n",
    "from common import clean_data, process_data"
   ]
  },
  {
   "cell_type": "code",
   "execution_count": null,
   "metadata": {
    "collapsed": false
   },
   "outputs": [],
   "source": [
    "map71 = 0.0\n",
    "map72 = 0.0\n",
    "print('Validation...')\n",
    "count = 1\n",
    "\n",
    "personal_recommendations_weight = 0.0\n",
    "\n",
    "res1 = []\n",
    "res2 = []\n",
    "\n",
    "for row in valid_part:\n",
    "\n",
    "    user = row[1]\n",
    "    \n",
    "    predicted2 = zf_get_predictions(arr1, best_valid, overallbest_valid, customer_valid)\n",
    "    res2.append((user, predicted2))\n",
    "    real2 = zf_get_real_values(arr1, customer_valid)\n",
    "    score2 = zf_apk(real2, predicted2)\n",
    "    map72 += score2\n",
    "    \n",
    "    print \"ROW : \", row\n",
    "    prow = clean_data(row)\n",
    "    if len(prow) > 0:\n",
    "        prow = process_data(prow)\n",
    "        predicted1 = compute_predictions(prow, get_profiles,\n",
    "                                    personal_recommendations_validation,\n",
    "                                    common_recommendations_validation,\n",
    "                                    product_stats_validation,\n",
    "                                    personal_recommendations_weight)\n",
    "\n",
    "        real1 = get_real_values(prow, personal_recommendations_validation)\n",
    "        score1 = apk(real1, predicted1)\n",
    "        map71 += score\n",
    "        res1.append((user, predicted1))\n",
    "        \n",
    "        \n",
    "    \n",
    "    count-= 1\n",
    "    if count == 0:\n",
    "        break\n",
    "    \n",
    "if len(valid_part) > 0:\n",
    "    map71 /= len(valid_part)\n",
    "    map72 /= len(valid_part)\n",
    "    \n",
    "    \n",
    "print('Predicted score: {}, {}'.format(map71, map72))    "
   ]
  },
  {
   "cell_type": "code",
   "execution_count": null,
   "metadata": {
    "collapsed": true
   },
   "outputs": [],
   "source": [
    "print res1[:10]\n",
    "print res2[:10]"
   ]
  },
  {
   "cell_type": "code",
   "execution_count": null,
   "metadata": {
    "collapsed": true
   },
   "outputs": [],
   "source": []
  },
  {
   "cell_type": "code",
   "execution_count": null,
   "metadata": {
    "collapsed": true
   },
   "outputs": [],
   "source": []
  },
  {
   "cell_type": "markdown",
   "metadata": {},
   "source": [
    "## Compare prediction structures"
   ]
  },
  {
   "cell_type": "code",
   "execution_count": null,
   "metadata": {
    "collapsed": false
   },
   "outputs": [],
   "source": [
    "common_recommendations_validation.keys()[:10]"
   ]
  },
  {
   "cell_type": "code",
   "execution_count": null,
   "metadata": {
    "collapsed": false
   },
   "outputs": [],
   "source": [
    "best_valid.keys()[:10]"
   ]
  },
  {
   "cell_type": "code",
   "execution_count": null,
   "metadata": {
    "collapsed": true
   },
   "outputs": [],
   "source": [
    "import pandas as pd"
   ]
  },
  {
   "cell_type": "code",
   "execution_count": null,
   "metadata": {
    "collapsed": false
   },
   "outputs": [],
   "source": [
    "df1 = pd.DataFrame(best_valid.keys(), columns=['key', 'country', 'gender', 'age', 'type', 'id', 'mode', '7', '8'])"
   ]
  },
  {
   "cell_type": "code",
   "execution_count": null,
   "metadata": {
    "collapsed": true
   },
   "outputs": [],
   "source": [
    "df2 = pd.DataFrame(common_recommendations_validation.keys(), columns=['key', 'country', 'gender', 'age', 'type', 'id', 'mode', '7', '8'])"
   ]
  },
  {
   "cell_type": "code",
   "execution_count": null,
   "metadata": {
    "collapsed": false
   },
   "outputs": [],
   "source": [
    "df2.head()"
   ]
  },
  {
   "cell_type": "code",
   "execution_count": null,
   "metadata": {
    "collapsed": false
   },
   "outputs": [],
   "source": [
    "df1['key'].value_counts()"
   ]
  },
  {
   "cell_type": "code",
   "execution_count": null,
   "metadata": {
    "collapsed": false
   },
   "outputs": [],
   "source": [
    "df2['key'].value_counts()"
   ]
  },
  {
   "cell_type": "code",
   "execution_count": null,
   "metadata": {
    "collapsed": false
   },
   "outputs": [],
   "source": [
    "set(df2[df2['key'] == 3]['id']) - set(df1[df1['key'] == 3]['id'])"
   ]
  },
  {
   "cell_type": "code",
   "execution_count": null,
   "metadata": {
    "collapsed": true
   },
   "outputs": [],
   "source": []
  }
 ],
 "metadata": {
  "kernelspec": {
   "display_name": "Python 2",
   "language": "python",
   "name": "python2"
  },
  "language_info": {
   "codemirror_mode": {
    "name": "ipython",
    "version": 2
   },
   "file_extension": ".py",
   "mimetype": "text/x-python",
   "name": "python",
   "nbconvert_exporter": "python",
   "pygments_lexer": "ipython2",
   "version": "2.7.12"
  }
 },
 "nbformat": 4,
 "nbformat_minor": 1
}
