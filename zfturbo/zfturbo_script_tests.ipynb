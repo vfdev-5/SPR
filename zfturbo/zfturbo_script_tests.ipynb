{
 "cells": [
  {
   "cell_type": "code",
   "execution_count": null,
   "metadata": {
    "collapsed": true
   },
   "outputs": [],
   "source": [
    "# Tests of zfturbo script \"Santander Battle\""
   ]
  },
  {
   "cell_type": "code",
   "execution_count": 1,
   "metadata": {
    "collapsed": true
   },
   "outputs": [],
   "source": [
    "import datetime\n",
    "import os\n",
    "from collections import defaultdict\n",
    "import operator"
   ]
  },
  {
   "cell_type": "code",
   "execution_count": 2,
   "metadata": {
    "collapsed": true
   },
   "outputs": [],
   "source": [
    "DATA_PATH = \"../data\""
   ]
  },
  {
   "cell_type": "code",
   "execution_count": 3,
   "metadata": {
    "collapsed": false
   },
   "outputs": [
    {
     "name": "stdout",
     "output_type": "stream",
     "text": [
      "MAP NAMES :  ['ind_ahor_fin_ult1', 'ind_aval_fin_ult1', 'ind_cco_fin_ult1', 'ind_cder_fin_ult1', 'ind_cno_fin_ult1', 'ind_ctju_fin_ult1', 'ind_ctma_fin_ult1', 'ind_ctop_fin_ult1', 'ind_ctpp_fin_ult1', 'ind_deco_fin_ult1', 'ind_deme_fin_ult1', 'ind_dela_fin_ult1', 'ind_ecue_fin_ult1', 'ind_fond_fin_ult1', 'ind_hip_fin_ult1', 'ind_plan_fin_ult1', 'ind_pres_fin_ult1', 'ind_reca_fin_ult1', 'ind_tjcr_fin_ult1', 'ind_valo_fin_ult1', 'ind_viv_fin_ult1', 'ind_nomina_ult1', 'ind_nom_pens_ult1', 'ind_recibo_ult1']\n"
     ]
    }
   ],
   "source": [
    "f = open(os.path.join(DATA_PATH, \"train_ver2_201601-201605.csv\"), 'r')\n",
    "first_line = f.readline().strip()\n",
    "# Remove \" symbols in the header. Header is like : \"a\",\"b\",\"c\"...\n",
    "first_line = first_line.replace(\"\\\"\", \"\")\n",
    "# map names <-> target labels\n",
    "map_names = first_line.split(\",\")[24:]\n",
    "print \"MAP NAMES : \", map_names"
   ]
  },
  {
   "cell_type": "code",
   "execution_count": 4,
   "metadata": {
    "collapsed": false
   },
   "outputs": [],
   "source": [
    "# Normal variables\n",
    "customer = dict()\n",
    "best = defaultdict(lambda: defaultdict(int))\n",
    "overallbest = defaultdict(int)\n",
    "\n",
    "# Validation variables\n",
    "customer_valid = dict()\n",
    "best_valid = defaultdict(lambda: defaultdict(int))\n",
    "overallbest_valid = defaultdict(int)\n",
    "\n",
    "valid_part = []"
   ]
  },
  {
   "cell_type": "code",
   "execution_count": 5,
   "metadata": {
    "collapsed": false,
    "scrolled": true
   },
   "outputs": [
    {
     "ename": "NameError",
     "evalue": "name 'add_data_to_main_arrays' is not defined",
     "output_type": "error",
     "traceback": [
      "\u001b[0;31m\u001b[0m",
      "\u001b[0;31mNameError\u001b[0mTraceback (most recent call last)",
      "\u001b[0;32m<ipython-input-5-57038f0ebf85>\u001b[0m in \u001b[0;36m<module>\u001b[0;34m()\u001b[0m\n\u001b[1;32m     17\u001b[0m \u001b[0;34m\u001b[0m\u001b[0m\n\u001b[1;32m     18\u001b[0m     \u001b[0;31m# Normal part\u001b[0m\u001b[0;34m\u001b[0m\u001b[0;34m\u001b[0m\u001b[0m\n\u001b[0;32m---> 19\u001b[0;31m     \u001b[0madd_data_to_main_arrays\u001b[0m\u001b[0;34m(\u001b[0m\u001b[0marr\u001b[0m\u001b[0;34m,\u001b[0m \u001b[0mbest\u001b[0m\u001b[0;34m,\u001b[0m \u001b[0moverallbest\u001b[0m\u001b[0;34m,\u001b[0m \u001b[0mcustomer\u001b[0m\u001b[0;34m)\u001b[0m\u001b[0;34m\u001b[0m\u001b[0m\n\u001b[0m\u001b[1;32m     20\u001b[0m \u001b[0;34m\u001b[0m\u001b[0m\n\u001b[1;32m     21\u001b[0m \u001b[0;34m\u001b[0m\u001b[0m\n",
      "\u001b[0;31mNameError\u001b[0m: name 'add_data_to_main_arrays' is not defined"
     ]
    }
   ],
   "source": [
    "# Calc counts\n",
    "total = 0\n",
    "while 1:\n",
    "    line = f.readline()[:-1]\n",
    "    total += 1\n",
    "\n",
    "    if line == '':\n",
    "        break\n",
    "\n",
    "    # Parse line : \n",
    "    if \"\\\"\" in line:\n",
    "        tmp1 = line.split(\"\\\"\")\n",
    "        arr = tmp1[0][:-1].split(\",\") + [tmp1[1]] + tmp1[2][1:].split(',')\n",
    "    else:\n",
    "        arr = line.split(\",\")\n",
    "    arr = [a.strip() for a in arr]\n",
    "\n",
    "    # Normal part\n",
    "    add_data_to_main_arrays(arr, best, overallbest, customer)\n",
    "\n",
    "    \n",
    "    # Valid part\n",
    "    if arr[0] != '2016-05-28':\n",
    "        add_data_to_main_arrays(arr, best_valid, overallbest_valid, customer_valid)\n",
    "    else:\n",
    "        valid_part.append(arr)\n",
    "\n",
    "    if total % 1000000 == 0:\n",
    "        print('Process {} lines ...'.format(total))\n",
    "        #break"
   ]
  },
  {
   "cell_type": "code",
   "execution_count": 14,
   "metadata": {
    "collapsed": true
   },
   "outputs": [],
   "source": [
    "f.close()"
   ]
  },
  {
   "cell_type": "code",
   "execution_count": 15,
   "metadata": {
    "collapsed": false
   },
   "outputs": [
    {
     "name": "stdout",
     "output_type": "stream",
     "text": [
      "Sort best arrays...\n",
      "('Hashes num: ', 43536)\n",
      "('Hashes valid num: ', 42684)\n",
      "('Valid part: ', 931453)\n"
     ]
    }
   ],
   "source": [
    "print('Sort best arrays...')\n",
    "print('Hashes num: ', len(best))\n",
    "print('Hashes valid num: ', len(best_valid))\n",
    "print('Valid part: ', len(valid_part))"
   ]
  },
  {
   "cell_type": "code",
   "execution_count": 17,
   "metadata": {
    "collapsed": true
   },
   "outputs": [],
   "source": [
    "# Normal\n",
    "best, overallbest = sort_main_arrays(best, overallbest)\n",
    "\n",
    "# Valid\n",
    "best_valid, overallbest_valid = sort_main_arrays(best_valid, overallbest_valid)"
   ]
  },
  {
   "cell_type": "code",
   "execution_count": null,
   "metadata": {
    "collapsed": false,
    "scrolled": true
   },
   "outputs": [],
   "source": [
    "map7 = 0.0\n",
    "print('Validation...')\n",
    "count = -1\n",
    "for i, arr1 in enumerate(valid_part):\n",
    "    \n",
    "    predicted = get_predictions(arr1, best_valid, overallbest_valid, customer_valid)\n",
    "    real = get_real_values(arr1, customer_valid)\n",
    "    score = apk(real, predicted)\n",
    "    #print \"-- i : \", i, arr1[1], \" score : \", score, \" | predicted : \", predicted, \", real : \", real\n",
    "    map7 += score\n",
    "    \n",
    "    count-= 1\n",
    "    if count == 0:\n",
    "        break\n",
    "\n",
    "if len(valid_part) > 0:\n",
    "    map7 /= len(valid_part)\n",
    "print('Predicted score: {}'.format(map7))"
   ]
  },
  {
   "cell_type": "code",
   "execution_count": 19,
   "metadata": {
    "collapsed": false
   },
   "outputs": [
    {
     "name": "stdout",
     "output_type": "stream",
     "text": [
      "Generate submission...\n",
      "('Total cases:', '929616')\n"
     ]
    }
   ],
   "source": [
    "print('Generate submission...')\n",
    "sub_file = os.path.join('../results','zft_0711_02.csv')\n",
    "out = open(sub_file, \"w\")\n",
    "f = open(DATA_PATH+\"/test_ver2.csv\", \"r\")\n",
    "f.readline()\n",
    "total = 0\n",
    "out.write(\"ncodpers,added_products\\n\")\n",
    "\n",
    "while 1:\n",
    "    line = f.readline()[:-1]\n",
    "    total += 1\n",
    "\n",
    "    if line == '':\n",
    "        break\n",
    "\n",
    "    tmp1 = line.split(\"\\\"\")\n",
    "    arr = tmp1[0][:-1].split(\",\") + [tmp1[1]] + tmp1[2][1:].split(',')\n",
    "    arr = [a.strip() for a in arr]\n",
    "    ncodpers = arr[1]\n",
    "    out.write(ncodpers + ',')\n",
    "\n",
    "    predicted = get_predictions(arr, best, overallbest, customer)\n",
    "\n",
    "    for p in predicted:\n",
    "        out.write(map_names[p] + ' ')\n",
    "\n",
    "    if total % 1000000 == 0:\n",
    "        print('Read {} lines ...'.format(total))\n",
    "        # break\n",
    "\n",
    "    out.write(\"\\n\")\n",
    "\n",
    "print('Total cases:', str(total))\n",
    "out.close()\n",
    "f.close()"
   ]
  },
  {
   "cell_type": "code",
   "execution_count": null,
   "metadata": {
    "collapsed": true
   },
   "outputs": [],
   "source": []
  },
  {
   "cell_type": "code",
   "execution_count": null,
   "metadata": {
    "collapsed": true
   },
   "outputs": [],
   "source": []
  },
  {
   "cell_type": "code",
   "execution_count": null,
   "metadata": {
    "collapsed": true
   },
   "outputs": [],
   "source": []
  },
  {
   "cell_type": "code",
   "execution_count": 6,
   "metadata": {
    "collapsed": true
   },
   "outputs": [],
   "source": [
    "def get_predictions(arr1, best, overallbest, customer):\n",
    "\n",
    "    predicted = []\n",
    "\n",
    "    hash1 = get_hash(arr1, 0)\n",
    "    hash2 = get_hash(arr1, 1)\n",
    "    ncodpers = arr1[1]\n",
    "\n",
    "    # hash 1\n",
    "    if len(predicted) < 7:\n",
    "        if hash1 in best:\n",
    "            for a in best[hash1]:\n",
    "                # If user is not new\n",
    "                if ncodpers in customer:\n",
    "                    if customer[ncodpers][a[0]] == '1':\n",
    "                        continue\n",
    "                if a[0] not in predicted:\n",
    "                    predicted.append(a[0])\n",
    "                    if len(predicted) == 7:\n",
    "                        break\n",
    "\n",
    "    # hash 2\n",
    "    if len(predicted) < 7:\n",
    "        if hash2 in best:\n",
    "            for a in best[hash2]:\n",
    "                # If user is not new\n",
    "                if ncodpers in customer:\n",
    "                    if customer[ncodpers][a[0]] == '1':\n",
    "                        continue\n",
    "                if a[0] not in predicted:\n",
    "                    predicted.append(a[0])\n",
    "                    if len(predicted) == 7:\n",
    "                        break\n",
    "\n",
    "    # overall\n",
    "    if len(predicted) < 7:\n",
    "        for a in overallbest:\n",
    "            # If user is not new\n",
    "            if ncodpers in customer:\n",
    "                if customer[ncodpers][a[0]] == '1':\n",
    "                    continue\n",
    "            if a[0] not in predicted:\n",
    "                predicted.append(a[0])\n",
    "                if len(predicted) == 7:\n",
    "                    break\n",
    "\n",
    "    return predicted"
   ]
  },
  {
   "cell_type": "code",
   "execution_count": 7,
   "metadata": {
    "collapsed": true
   },
   "outputs": [],
   "source": [
    "def get_real_values(arr1, customer):\n",
    "    real = []\n",
    "    ncodpers = arr1[1]\n",
    "    arr2 = arr1[24:]\n",
    "\n",
    "    for i in range(len(arr2)):\n",
    "        if arr2[i] == '1':\n",
    "            if ncodpers in customer:\n",
    "                if customer[ncodpers][i] == '0':\n",
    "                    real.append(i)\n",
    "            else:\n",
    "                real.append(i)\n",
    "    return real"
   ]
  },
  {
   "cell_type": "code",
   "execution_count": 8,
   "metadata": {
    "collapsed": true
   },
   "outputs": [],
   "source": [
    "def apk(actual, predicted, k=7):\n",
    "    if len(predicted) > k:\n",
    "        predicted = predicted[:k]\n",
    "\n",
    "    score = 0.0\n",
    "    num_hits = 0.0\n",
    "\n",
    "    for i, p in enumerate(predicted):\n",
    "        if p in actual and p not in predicted[:i]:\n",
    "            num_hits += 1.0\n",
    "            score += num_hits / (i+1.0)\n",
    "\n",
    "    if not actual:\n",
    "        return 0.0\n",
    "\n",
    "    return score / min(len(actual), k)"
   ]
  },
  {
   "cell_type": "code",
   "execution_count": 9,
   "metadata": {
    "collapsed": true
   },
   "outputs": [],
   "source": [
    "def get_hash(arr, type = 0):\n",
    "    (fecha_dato, ncodpers, ind_empleado,\n",
    "    pais_residencia, sexo, age,\n",
    "    fecha_alta, ind_nuevo, antiguedad,\n",
    "    indrel, ult_fec_cli_1t, indrel_1mes,\n",
    "    tiprel_1mes, indresi, indext,\n",
    "    conyuemp, canal_entrada, indfall,\n",
    "    tipodom, cod_prov, nomprov,\n",
    "    ind_actividad_cliente, renta, segmento) = arr[:24]\n",
    "\n",
    "    if type == 0:\n",
    "        return (pais_residencia, sexo, age, ind_nuevo, segmento, ind_empleado, ind_actividad_cliente, indresi, nomprov)\n",
    "    else:\n",
    "        return (pais_residencia, sexo, age, ind_nuevo, segmento, ind_empleado, ind_actividad_cliente, indresi)"
   ]
  },
  {
   "cell_type": "markdown",
   "metadata": {},
   "source": [
    "hash : client description (place of residence, gender, age, etc)\n",
    "\n",
    "best : map between client description and stat of popular products\n",
    "\n",
    "overallbest : stats of popular products\n",
    "\n",
    "customer : latest command"
   ]
  },
  {
   "cell_type": "code",
   "execution_count": 10,
   "metadata": {
    "collapsed": true
   },
   "outputs": [],
   "source": [
    "def sort_main_arrays(best, overallbest):\n",
    "    out = dict()\n",
    "    for b in best:\n",
    "        arr = best[b]\n",
    "        srtd = sorted(arr.items(), key=operator.itemgetter(1), reverse=True)\n",
    "        out[b] = srtd\n",
    "    best = out\n",
    "    overallbest = sorted(overallbest.items(), key=operator.itemgetter(1), reverse=True)\n",
    "    return best, overallbest"
   ]
  },
  {
   "cell_type": "code",
   "execution_count": 11,
   "metadata": {
    "collapsed": true
   },
   "outputs": [],
   "source": [
    "def add_data_to_main_arrays(arr, best, overallbest, customer):\n",
    "    ncodpers = arr[1]\n",
    "    #print \"CLIENT : \", ncodpers\n",
    "    hash1 = get_hash(arr, 0)\n",
    "    #print \"HASH 1 : \", hash1\n",
    "    hash2 = get_hash(arr, 1)\n",
    "    #print \"HASH 2 : \", hash2\n",
    "    part = arr[24:]\n",
    "    for i in range(24):\n",
    "        if part[i] == '1':\n",
    "            if ncodpers in customer:\n",
    "                if customer[ncodpers][i] == '0':\n",
    "                    best[hash1][i] += 1\n",
    "                    best[hash2][i] += 1\n",
    "                    overallbest[i] += 1\n",
    "            else:\n",
    "                best[hash1][i] += 1\n",
    "                best[hash2][i] += 1\n",
    "                overallbest[i] += 1\n",
    "    customer[ncodpers] = part"
   ]
  },
  {
   "cell_type": "code",
   "execution_count": 12,
   "metadata": {
    "collapsed": false
   },
   "outputs": [],
   "source": [
    "def verbose():\n",
    "    print \"\\nBEST : \", best.items()\n",
    "    print \"\\nOVERALLBEST : \", overallbest.items()\n",
    "    print \"\\nCUSTOMER : \",customer.items()"
   ]
  },
  {
   "cell_type": "code",
   "execution_count": null,
   "metadata": {
    "collapsed": false
   },
   "outputs": [],
   "source": [
    "verbose()"
   ]
  },
  {
   "cell_type": "code",
   "execution_count": null,
   "metadata": {
    "collapsed": true
   },
   "outputs": [],
   "source": []
  },
  {
   "cell_type": "code",
   "execution_count": null,
   "metadata": {
    "collapsed": true
   },
   "outputs": [],
   "source": []
  },
  {
   "cell_type": "code",
   "execution_count": null,
   "metadata": {
    "collapsed": true
   },
   "outputs": [],
   "source": []
  },
  {
   "cell_type": "markdown",
   "metadata": {},
   "source": [
    "## Compare csv files"
   ]
  },
  {
   "cell_type": "code",
   "execution_count": 15,
   "metadata": {
    "collapsed": true
   },
   "outputs": [],
   "source": [
    "file1 = '../results/zft_0711_02.csv'\n",
    "file2 = '../results/submission_2016-11-16-13-31.csv'\n",
    "#file2 = '../results/submission_2016-11-16-14-06.csv'"
   ]
  },
  {
   "cell_type": "code",
   "execution_count": 9,
   "metadata": {
    "collapsed": true
   },
   "outputs": [],
   "source": [
    "import numpy as np\n",
    "import pandas as pd"
   ]
  },
  {
   "cell_type": "code",
   "execution_count": 10,
   "metadata": {
    "collapsed": false
   },
   "outputs": [],
   "source": [
    "df_1 = pd.read_csv(file1)"
   ]
  },
  {
   "cell_type": "code",
   "execution_count": 16,
   "metadata": {
    "collapsed": false
   },
   "outputs": [],
   "source": [
    "df_2 = pd.read_csv(file2)"
   ]
  },
  {
   "cell_type": "code",
   "execution_count": 12,
   "metadata": {
    "collapsed": false
   },
   "outputs": [
    {
     "data": {
      "text/html": [
       "<div>\n",
       "<table border=\"1\" class=\"dataframe\">\n",
       "  <thead>\n",
       "    <tr style=\"text-align: right;\">\n",
       "      <th></th>\n",
       "      <th>ncodpers</th>\n",
       "      <th>added_products</th>\n",
       "    </tr>\n",
       "  </thead>\n",
       "  <tbody>\n",
       "    <tr>\n",
       "      <th>0</th>\n",
       "      <td>15889</td>\n",
       "      <td>ind_ecue_fin_ult1 ind_fond_fin_ult1 ind_recibo...</td>\n",
       "    </tr>\n",
       "    <tr>\n",
       "      <th>1</th>\n",
       "      <td>1170544</td>\n",
       "      <td>ind_ctop_fin_ult1 ind_ctpp_fin_ult1 ind_ecue_f...</td>\n",
       "    </tr>\n",
       "    <tr>\n",
       "      <th>2</th>\n",
       "      <td>1170545</td>\n",
       "      <td>ind_recibo_ult1 ind_cno_fin_ult1 ind_nom_pens_...</td>\n",
       "    </tr>\n",
       "    <tr>\n",
       "      <th>3</th>\n",
       "      <td>1170547</td>\n",
       "      <td>ind_cno_fin_ult1 ind_recibo_ult1 ind_ecue_fin_...</td>\n",
       "    </tr>\n",
       "    <tr>\n",
       "      <th>4</th>\n",
       "      <td>1170548</td>\n",
       "      <td>ind_recibo_ult1 ind_cno_fin_ult1 ind_ecue_fin_...</td>\n",
       "    </tr>\n",
       "  </tbody>\n",
       "</table>\n",
       "</div>"
      ],
      "text/plain": [
       "   ncodpers                                     added_products\n",
       "0     15889  ind_ecue_fin_ult1 ind_fond_fin_ult1 ind_recibo...\n",
       "1   1170544  ind_ctop_fin_ult1 ind_ctpp_fin_ult1 ind_ecue_f...\n",
       "2   1170545  ind_recibo_ult1 ind_cno_fin_ult1 ind_nom_pens_...\n",
       "3   1170547  ind_cno_fin_ult1 ind_recibo_ult1 ind_ecue_fin_...\n",
       "4   1170548  ind_recibo_ult1 ind_cno_fin_ult1 ind_ecue_fin_..."
      ]
     },
     "execution_count": 12,
     "metadata": {},
     "output_type": "execute_result"
    }
   ],
   "source": [
    "df_1.head()"
   ]
  },
  {
   "cell_type": "code",
   "execution_count": 17,
   "metadata": {
    "collapsed": false
   },
   "outputs": [
    {
     "data": {
      "text/html": [
       "<div>\n",
       "<table border=\"1\" class=\"dataframe\">\n",
       "  <thead>\n",
       "    <tr style=\"text-align: right;\">\n",
       "      <th></th>\n",
       "      <th>ncodpers</th>\n",
       "      <th>added_products</th>\n",
       "    </tr>\n",
       "  </thead>\n",
       "  <tbody>\n",
       "    <tr>\n",
       "      <th>0</th>\n",
       "      <td>15889</td>\n",
       "      <td>ind_cco_fin_ult1 ind_dela_fin_ult1 ind_ecue_fi...</td>\n",
       "    </tr>\n",
       "    <tr>\n",
       "      <th>1</th>\n",
       "      <td>1170544</td>\n",
       "      <td>ind_cco_fin_ult1 ind_ctop_fin_ult1 ind_ecue_fi...</td>\n",
       "    </tr>\n",
       "    <tr>\n",
       "      <th>2</th>\n",
       "      <td>1170545</td>\n",
       "      <td>ind_cno_fin_ult1 ind_nom_pens_ult1 ind_recibo_...</td>\n",
       "    </tr>\n",
       "    <tr>\n",
       "      <th>3</th>\n",
       "      <td>1170547</td>\n",
       "      <td>ind_cno_fin_ult1 ind_recibo_ult1 ind_nom_pens_...</td>\n",
       "    </tr>\n",
       "    <tr>\n",
       "      <th>4</th>\n",
       "      <td>1170548</td>\n",
       "      <td>ind_cno_fin_ult1 ind_recibo_ult1 ind_nom_pens_...</td>\n",
       "    </tr>\n",
       "  </tbody>\n",
       "</table>\n",
       "</div>"
      ],
      "text/plain": [
       "   ncodpers                                     added_products\n",
       "0     15889  ind_cco_fin_ult1 ind_dela_fin_ult1 ind_ecue_fi...\n",
       "1   1170544  ind_cco_fin_ult1 ind_ctop_fin_ult1 ind_ecue_fi...\n",
       "2   1170545  ind_cno_fin_ult1 ind_nom_pens_ult1 ind_recibo_...\n",
       "3   1170547  ind_cno_fin_ult1 ind_recibo_ult1 ind_nom_pens_...\n",
       "4   1170548  ind_cno_fin_ult1 ind_recibo_ult1 ind_nom_pens_..."
      ]
     },
     "execution_count": 17,
     "metadata": {},
     "output_type": "execute_result"
    }
   ],
   "source": [
    "df_2.head()"
   ]
  },
  {
   "cell_type": "code",
   "execution_count": 14,
   "metadata": {
    "collapsed": false
   },
   "outputs": [
    {
     "name": "stdout",
     "output_type": "stream",
     "text": [
      "[15889\n",
      " 'ind_ecue_fin_ult1 ind_fond_fin_ult1 ind_recibo_ult1 ind_ctop_fin_ult1 ind_cno_fin_ult1 ind_nom_pens_ult1 ind_nomina_ult1 ']\n",
      "[15889\n",
      " 'ind_cco_fin_ult1 ind_dela_fin_ult1 ind_recibo_ult1 ind_ecue_fin_ult1 ind_ctop_fin_ult1 ind_fond_fin_ult1 ind_cno_fin_ult1 ']\n"
     ]
    }
   ],
   "source": [
    "print df_1.loc[0].values\n",
    "print df_2.loc[0].values"
   ]
  },
  {
   "cell_type": "code",
   "execution_count": null,
   "metadata": {
    "collapsed": true
   },
   "outputs": [],
   "source": []
  }
 ],
 "metadata": {
  "kernelspec": {
   "display_name": "Python 2",
   "language": "python",
   "name": "python2"
  },
  "language_info": {
   "codemirror_mode": {
    "name": "ipython",
    "version": 2
   },
   "file_extension": ".py",
   "mimetype": "text/x-python",
   "name": "python",
   "nbconvert_exporter": "python",
   "pygments_lexer": "ipython2",
   "version": "2.7.12"
  }
 },
 "nbformat": 4,
 "nbformat_minor": 0
}
