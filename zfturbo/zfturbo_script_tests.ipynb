{
 "cells": [
  {
   "cell_type": "markdown",
   "metadata": {},
   "source": [
    "# Tests of zfturbo script \"Santander Battle\""
   ]
  },
  {
   "cell_type": "code",
   "execution_count": 15,
   "metadata": {
    "collapsed": true
   },
   "outputs": [],
   "source": [
    "import datetime\n",
    "import os\n",
    "from collections import defaultdict\n",
    "import operator"
   ]
  },
  {
   "cell_type": "code",
   "execution_count": 16,
   "metadata": {
    "collapsed": true
   },
   "outputs": [],
   "source": [
    "DATA_PATH = \"data\""
   ]
  },
  {
   "cell_type": "code",
   "execution_count": 17,
   "metadata": {
    "collapsed": false
   },
   "outputs": [
    {
     "name": "stdout",
     "output_type": "stream",
     "text": [
      "MAP NAMES :  ['ind_ahor_fin_ult1', 'ind_aval_fin_ult1', 'ind_cco_fin_ult1', 'ind_cder_fin_ult1', 'ind_cno_fin_ult1', 'ind_ctju_fin_ult1', 'ind_ctma_fin_ult1', 'ind_ctop_fin_ult1', 'ind_ctpp_fin_ult1', 'ind_deco_fin_ult1', 'ind_deme_fin_ult1', 'ind_dela_fin_ult1', 'ind_ecue_fin_ult1', 'ind_fond_fin_ult1', 'ind_hip_fin_ult1', 'ind_plan_fin_ult1', 'ind_pres_fin_ult1', 'ind_reca_fin_ult1', 'ind_tjcr_fin_ult1', 'ind_valo_fin_ult1', 'ind_viv_fin_ult1', 'ind_nomina_ult1', 'ind_nom_pens_ult1', 'ind_recibo_ult1']\n"
     ]
    }
   ],
   "source": [
    "f = open(os.path.join(DATA_PATH, \"train_ver2.csv\"), 'r')\n",
    "first_line = f.readline().strip()\n",
    "# Remove \" symbols in the header. Header is like : \"a\",\"b\",\"c\"...\n",
    "first_line = first_line.replace(\"\\\"\", \"\")\n",
    "# map names <-> target labels\n",
    "map_names = first_line.split(\",\")[24:]\n",
    "print \"MAP NAMES : \", map_names"
   ]
  },
  {
   "cell_type": "code",
   "execution_count": 18,
   "metadata": {
    "collapsed": false
   },
   "outputs": [],
   "source": [
    "# Normal variables\n",
    "customer = dict()\n",
    "best = defaultdict(lambda: defaultdict(int))\n",
    "overallbest = defaultdict(int)\n",
    "\n",
    "# Validation variables\n",
    "customer_valid = dict()\n",
    "best_valid = defaultdict(lambda: defaultdict(int))\n",
    "overallbest_valid = defaultdict(int)\n",
    "\n",
    "valid_part = []"
   ]
  },
  {
   "cell_type": "code",
   "execution_count": 23,
   "metadata": {
    "collapsed": false,
    "scrolled": true
   },
   "outputs": [
    {
     "name": "stdout",
     "output_type": "stream",
     "text": [
      "Process 1000000 lines ...\n"
     ]
    }
   ],
   "source": [
    "# Calc counts\n",
    "total = 0\n",
    "while 1:\n",
    "    line = f.readline()[:-1]\n",
    "    total += 1\n",
    "\n",
    "    if line == '':\n",
    "        break\n",
    "\n",
    "    # Parse line : \n",
    "    tmp1 = line.split(\"\\\"\")\n",
    "    arr = tmp1[0][:-1].split(\",\") + [tmp1[1]] + tmp1[2][1:].split(',')\n",
    "    arr = [a.strip() for a in arr]\n",
    "\n",
    "    # Normal part\n",
    "    add_data_to_main_arrays(arr, best, overallbest, customer)\n",
    "\n",
    "    \n",
    "    # Valid part\n",
    "    if arr[0] != '2016-05-28':\n",
    "        add_data_to_main_arrays(arr, best_valid, overallbest_valid, customer_valid)\n",
    "    else:\n",
    "        valid_part.append(arr)\n",
    "\n",
    "    if total % 1000000 == 0:\n",
    "        print('Process {} lines ...'.format(total))\n",
    "        break"
   ]
  },
  {
   "cell_type": "code",
   "execution_count": null,
   "metadata": {
    "collapsed": true
   },
   "outputs": [],
   "source": [
    "f.close()"
   ]
  },
  {
   "cell_type": "code",
   "execution_count": 25,
   "metadata": {
    "collapsed": false
   },
   "outputs": [
    {
     "name": "stdout",
     "output_type": "stream",
     "text": [
      "Sort best arrays...\n",
      "('Hashes num: ', 28639)\n",
      "('Hashes valid num: ', 28639)\n",
      "('Valid part: ', 0)\n"
     ]
    }
   ],
   "source": [
    "print('Sort best arrays...')\n",
    "print('Hashes num: ', len(best))\n",
    "print('Hashes valid num: ', len(best_valid))\n",
    "print('Valid part: ', len(valid_part))"
   ]
  },
  {
   "cell_type": "code",
   "execution_count": 28,
   "metadata": {
    "collapsed": false
   },
   "outputs": [
    {
     "name": "stdout",
     "output_type": "stream",
     "text": [
      "defaultdict(<type 'int'>, {0: 89, 1: 20, 2: 489653, 3: 313, 4: 59848, 5: 7766, 6: 8508, 7: 106732, 8: 36368, 9: 1625, 10: 1648, 11: 36589, 12: 61106, 13: 14227, 14: 5012, 15: 7448, 16: 2359, 17: 38414, 18: 38652, 19: 20471, 20: 3242, 21: 42838, 22: 47143, 23: 100539})\n",
      "[(0, 89), (1, 20), (2, 489653), (3, 313), (4, 59848), (5, 7766), (6, 8508), (7, 106732), (8, 36368), (9, 1625), (10, 1648), (11, 36589), (12, 61106), (13, 14227), (14, 5012), (15, 7448), (16, 2359), (17, 38414), (18, 38652), (19, 20471), (20, 3242), (21, 42838), (22, 47143), (23, 100539)]\n",
      "[(2, 489653), (7, 106732), (23, 100539), (12, 61106), (4, 59848), (22, 47143), (21, 42838), (18, 38652), (17, 38414), (11, 36589), (8, 36368), (19, 20471), (13, 14227), (6, 8508), (5, 7766), (15, 7448), (14, 5012), (20, 3242), (16, 2359), (10, 1648), (9, 1625), (3, 313), (0, 89), (1, 20)]\n"
     ]
    }
   ],
   "source": [
    "print overallbest\n",
    "print overallbest.items()\n",
    "print sorted(overallbest.items(), key=operator.itemgetter(1), reverse=True)"
   ]
  },
  {
   "cell_type": "code",
   "execution_count": 30,
   "metadata": {
    "collapsed": true
   },
   "outputs": [],
   "source": [
    "# Normal\n",
    "best, overallbest = sort_main_arrays(best, overallbest)\n",
    "\n",
    "# Valid\n",
    "best_valid, overallbest_valid = sort_main_arrays(best_valid, overallbest_valid)"
   ]
  },
  {
   "cell_type": "code",
   "execution_count": null,
   "metadata": {
    "collapsed": true
   },
   "outputs": [],
   "source": [
    "map7 = 0.0\n",
    "print('Validation...')\n",
    "for arr1 in valid_part:\n",
    "    predicted = get_predictions(arr1, best_valid, overallbest_valid, customer_valid)\n",
    "    real = get_real_values(arr1, customer_valid)\n",
    "\n",
    "    score = apk(real, predicted)\n",
    "    map7 += score\n",
    "\n",
    "if len(valid_part) > 0:\n",
    "    map7 /= len(valid_part)\n",
    "print('Predicted score: {}'.format(map7))"
   ]
  },
  {
   "cell_type": "code",
   "execution_count": null,
   "metadata": {
    "collapsed": true
   },
   "outputs": [],
   "source": [
    ""
   ]
  },
  {
   "cell_type": "code",
   "execution_count": null,
   "metadata": {
    "collapsed": true
   },
   "outputs": [],
   "source": [
    ""
   ]
  },
  {
   "cell_type": "code",
   "execution_count": 34,
   "metadata": {
    "collapsed": false
   },
   "outputs": [
    {
     "name": "stdout",
     "output_type": "stream",
     "text": [
      "(12, 1)\n",
      "(18, 1)\n",
      "(11, 1)\n",
      "(4, 1)\n",
      "(22, 1)\n"
     ]
    }
   ],
   "source": [
    "for a in best_valid[('ES', 'V', '86', '0', '01 - TOP', 'N', '1', 'S', 'SEGOVIA')]:\n",
    "    print a"
   ]
  },
  {
   "cell_type": "code",
   "execution_count": null,
   "metadata": {
    "collapsed": true
   },
   "outputs": [],
   "source": [
    ""
   ]
  },
  {
   "cell_type": "code",
   "execution_count": null,
   "metadata": {
    "collapsed": true
   },
   "outputs": [],
   "source": [
    ""
   ]
  },
  {
   "cell_type": "code",
   "execution_count": null,
   "metadata": {
    "collapsed": true
   },
   "outputs": [],
   "source": [
    "def get_predictions(arr1, best, overallbest, customer):\n",
    "\n",
    "    predicted = []\n",
    "\n",
    "    hash1 = get_hash(arr1, 0)\n",
    "    hash2 = get_hash(arr1, 1)\n",
    "    ncodpers = arr1[1]\n",
    "\n",
    "    # hash 1\n",
    "    if len(predicted) < 7:\n",
    "        if hash1 in best:\n",
    "            for a in best[hash1]:\n",
    "                # If user is not new\n",
    "                if ncodpers in customer:\n",
    "                    if customer[ncodpers][a[0]] == '1':\n",
    "                        continue\n",
    "                if a[0] not in predicted:\n",
    "                    predicted.append(a[0])\n",
    "                    if len(predicted) == 7:\n",
    "                        break\n",
    "\n",
    "    # hash 2\n",
    "    if len(predicted) < 7:\n",
    "        if hash2 in best:\n",
    "            for a in best[hash2]:\n",
    "                # If user is not new\n",
    "                if ncodpers in customer:\n",
    "                    if customer[ncodpers][a[0]] == '1':\n",
    "                        continue\n",
    "                if a[0] not in predicted:\n",
    "                    predicted.append(a[0])\n",
    "                    if len(predicted) == 7:\n",
    "                        break\n",
    "\n",
    "    # overall\n",
    "    if len(predicted) < 7:\n",
    "        for a in overallbest:\n",
    "            # If user is not new\n",
    "            if ncodpers in customer:\n",
    "                if customer[ncodpers][a[0]] == '1':\n",
    "                    continue\n",
    "            if a[0] not in predicted:\n",
    "                predicted.append(a[0])\n",
    "                if len(predicted) == 7:\n",
    "                    break\n",
    "\n",
    "    return predicted"
   ]
  },
  {
   "cell_type": "code",
   "execution_count": null,
   "metadata": {
    "collapsed": true
   },
   "outputs": [],
   "source": [
    "def get_real_values(arr1, customer):\n",
    "    real = []\n",
    "    ncodpers = arr1[1]\n",
    "    arr2 = arr1[24:]\n",
    "\n",
    "    for i in range(len(arr2)):\n",
    "        if arr2[i] == '1':\n",
    "            if ncodpers in customer:\n",
    "                if customer[ncodpers][i] == '0':\n",
    "                    real.append(i)\n",
    "            else:\n",
    "                real.append(i)\n",
    "    return real"
   ]
  },
  {
   "cell_type": "code",
   "execution_count": null,
   "metadata": {
    "collapsed": true
   },
   "outputs": [],
   "source": [
    "def apk(actual, predicted, k=7):\n",
    "    if len(predicted) > k:\n",
    "        predicted = predicted[:k]\n",
    "\n",
    "    score = 0.0\n",
    "    num_hits = 0.0\n",
    "\n",
    "    for i, p in enumerate(predicted):\n",
    "        if p in actual and p not in predicted[:i]:\n",
    "            num_hits += 1.0\n",
    "            score += num_hits / (i+1.0)\n",
    "\n",
    "    if not actual:\n",
    "        return 0.0\n",
    "\n",
    "    return score / min(len(actual), k)"
   ]
  },
  {
   "cell_type": "code",
   "execution_count": 6,
   "metadata": {
    "collapsed": true
   },
   "outputs": [],
   "source": [
    "def get_hash(arr, type = 0):\n",
    "    (fecha_dato, ncodpers, ind_empleado,\n",
    "    pais_residencia, sexo, age,\n",
    "    fecha_alta, ind_nuevo, antiguedad,\n",
    "    indrel, ult_fec_cli_1t, indrel_1mes,\n",
    "    tiprel_1mes, indresi, indext,\n",
    "    conyuemp, canal_entrada, indfall,\n",
    "    tipodom, cod_prov, nomprov,\n",
    "    ind_actividad_cliente, renta, segmento) = arr[:24]\n",
    "\n",
    "    if type == 0:\n",
    "        return (pais_residencia, sexo, age, ind_nuevo, segmento, ind_empleado, ind_actividad_cliente, indresi, nomprov)\n",
    "    else:\n",
    "        return (pais_residencia, sexo, age, ind_nuevo, segmento, ind_empleado, ind_actividad_cliente, indresi)"
   ]
  },
  {
   "cell_type": "markdown",
   "metadata": {},
   "source": [
    "hash : client description (place of residence, gender, age, etc)\n",
    "\n",
    "best : map between client description and stat of popular products\n",
    "\n",
    "overallbest : stats of popular products\n",
    "\n",
    "customer : latest command"
   ]
  },
  {
   "cell_type": "code",
   "execution_count": 19,
   "metadata": {
    "collapsed": true
   },
   "outputs": [],
   "source": [
    "def sort_main_arrays(best, overallbest):\n",
    "    out = dict()\n",
    "    for b in best:\n",
    "        arr = best[b]\n",
    "        srtd = sorted(arr.items(), key=operator.itemgetter(1), reverse=True)\n",
    "        out[b] = srtd\n",
    "    best = out\n",
    "    overallbest = sorted(overallbest.items(), key=operator.itemgetter(1), reverse=True)\n",
    "    return best, overallbest"
   ]
  },
  {
   "cell_type": "code",
   "execution_count": 20,
   "metadata": {
    "collapsed": true
   },
   "outputs": [],
   "source": [
    "def add_data_to_main_arrays(arr, best, overallbest, customer):\n",
    "    ncodpers = arr[1]\n",
    "    #print \"CLIENT : \", ncodpers\n",
    "    hash1 = get_hash(arr, 0)\n",
    "    #print \"HASH 1 : \", hash1\n",
    "    hash2 = get_hash(arr, 1)\n",
    "    #print \"HASH 2 : \", hash2\n",
    "    part = arr[24:]\n",
    "    for i in range(24):\n",
    "        if part[i] == '1':\n",
    "            if ncodpers in customer:\n",
    "                if customer[ncodpers][i] == '0':\n",
    "                    best[hash1][i] += 1\n",
    "                    best[hash2][i] += 1\n",
    "                    overallbest[i] += 1\n",
    "            else:\n",
    "                best[hash1][i] += 1\n",
    "                best[hash2][i] += 1\n",
    "                overallbest[i] += 1\n",
    "    customer[ncodpers] = part"
   ]
  },
  {
   "cell_type": "code",
   "execution_count": 21,
   "metadata": {
    "collapsed": false
   },
   "outputs": [],
   "source": [
    "def verbose():\n",
    "    print \"\\nBEST : \", best.items()\n",
    "    print \"\\nOVERALLBEST : \", overallbest.items()\n",
    "    print \"\\nCUSTOMER : \",customer.items()"
   ]
  },
  {
   "cell_type": "code",
   "execution_count": 22,
   "metadata": {
    "collapsed": false
   },
   "outputs": [
    {
     "name": "stdout",
     "output_type": "stream",
     "text": [
      "\n",
      "BEST :  []\n",
      "\n",
      "OVERALLBEST :  []\n",
      "\n",
      "CUSTOMER :  []\n"
     ]
    }
   ],
   "source": [
    "verbose()"
   ]
  },
  {
   "cell_type": "code",
   "execution_count": null,
   "metadata": {
    "collapsed": true
   },
   "outputs": [],
   "source": [
    ""
   ]
  },
  {
   "cell_type": "code",
   "execution_count": null,
   "metadata": {
    "collapsed": true
   },
   "outputs": [],
   "source": [
    ""
   ]
  },
  {
   "cell_type": "code",
   "execution_count": 35,
   "metadata": {
    "collapsed": true
   },
   "outputs": [],
   "source": [
    "import pandas as pd\n",
    "import numpy as np"
   ]
  },
  {
   "cell_type": "code",
   "execution_count": null,
   "metadata": {
    "collapsed": true
   },
   "outputs": [],
   "source": [
    "data = pd.DataFrame"
   ]
  },
  {
   "cell_type": "code",
   "execution_count": null,
   "metadata": {
    "collapsed": true
   },
   "outputs": [],
   "source": [
    ""
   ]
  },
  {
   "cell_type": "code",
   "execution_count": null,
   "metadata": {
    "collapsed": true
   },
   "outputs": [],
   "source": [
    ""
   ]
  },
  {
   "cell_type": "code",
   "execution_count": null,
   "metadata": {
    "collapsed": true
   },
   "outputs": [],
   "source": [
    ""
   ]
  },
  {
   "cell_type": "code",
   "execution_count": null,
   "metadata": {
    "collapsed": true
   },
   "outputs": [],
   "source": [
    ""
   ]
  },
  {
   "cell_type": "code",
   "execution_count": null,
   "metadata": {
    "collapsed": true
   },
   "outputs": [],
   "source": [
    ""
   ]
  },
  {
   "cell_type": "code",
   "execution_count": null,
   "metadata": {
    "collapsed": true
   },
   "outputs": [],
   "source": [
    ""
   ]
  },
  {
   "cell_type": "code",
   "execution_count": null,
   "metadata": {
    "collapsed": true
   },
   "outputs": [],
   "source": [
    ""
   ]
  }
 ],
 "metadata": {
  "kernelspec": {
   "display_name": "Python 2",
   "language": "python",
   "name": "python2"
  },
  "language_info": {
   "codemirror_mode": {
    "name": "ipython",
    "version": 2.0
   },
   "file_extension": ".py",
   "mimetype": "text/x-python",
   "name": "python",
   "nbconvert_exporter": "python",
   "pygments_lexer": "ipython2",
   "version": "2.7.12"
  }
 },
 "nbformat": 4,
 "nbformat_minor": 0
}