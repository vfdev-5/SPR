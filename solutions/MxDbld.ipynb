{
 "cells": [
  {
   "cell_type": "markdown",
   "metadata": {},
   "source": [
    "# Simple model solution: 0.0305221- Top 5%\n",
    "from https://www.kaggle.com/c/santander-product-recommendation/forums/t/26789/simple-model-solution-0-0305221-top-5"
   ]
  },
  {
   "cell_type": "markdown",
   "metadata": {},
   "source": [
    "\n",
    "Hi Kagglers !\n",
    "\n",
    "First, thanks to everybody and all the help that was shared on the forum.\n",
    "\n",
    "I wanted to expose my solution as it is a single xgboost model which got me quite far. I think, by its simplicity, that it can be interesting to some.\n",
    "\n",
    "Overview : Single XGBoost model trained on May to December, lag5& lag3 of all products, lag-1 of consumer characteristics from the test file and... that's pretty much it\n",
    "\n",
    "1. Cleaning : Stripping of all columns, split of dates, removing consumer with missing rows and once the featuring is done, those who will buy nothing. As XGBoost handles NA, i did not go any farther\n",
    "\n",
    "2. Features : missing renta filled with average of the province (Thanks Alan (AJ) Pryor, Jr. !), 'will_buy' column with the bought products of next month, total products, Lag5 & 3 of all products (did not have time to add all the lags, unfortunately), lag2 of age, renta, total_products and future characteristics from next month.\n",
    "\n",
    "All categoricals where One Hot encoded, and their values with the less impact (canal_entrada & nomprov) agregated in an \"other\" column instead of being ignored\n",
    "\n",
    "-- Cleaning and feature generation were processed in chunks to allow fast iteration / testing\n",
    "\n",
    "3. Fit : With may to December, 5 folds CV, mlogloss metric\n",
    "\n",
    "So, pretty simple and in the end, quite efficient\n",
    "\n",
    "Special thanks to Alan (AJ) Pryor, Jr. !, Tom Van de Wiele and BreakfastPirate for their huge help on the forum\n",
    "\n",
    "*Additional info:*\n",
    "\n",
    "Lag for products was a binary indicator saying \"Did I have this product in the last n months\". For total_products, renta and age it was the minimum of the last n months. \n",
    "\n",
    "The \"will_buy\" was what I wanted to predict, it was the positive difference of current and futur owned products, concatenated as bytes, splitted later if more than one product was added (to only have one product per line, then encoded to be fed to the model\n",
    "\n",
    "I dropped the users with missing months. I did not have time to see this it was relevant or not, but as my lagged feature were done with a rolling max or min it seemed more correct like that.\n",
    "\n"
   ]
  },
  {
   "cell_type": "code",
   "execution_count": null,
   "metadata": {
    "collapsed": true
   },
   "outputs": [],
   "source": [
    "# https://ipython.org/ipython-doc/3/config/extensions/autoreload.html\n",
    "%load_ext autoreload\n",
    "%autoreload 2"
   ]
  },
  {
   "cell_type": "code",
   "execution_count": 47,
   "metadata": {
    "collapsed": false
   },
   "outputs": [],
   "source": [
    "import os\n",
    "import numpy as np\n",
    "import pandas as pd\n",
    "\n",
    "import logging\n",
    "logging.getLogger().handlers = []\n",
    "logging.basicConfig(level=logging.INFO)\n",
    "\n",
    "import matplotlib.pylab as plt\n",
    "%matplotlib inline\n",
    "\n",
    "import sys\n",
    "sys.path.append(\"../common\")\n",
    "\n",
    "from utils import to_yearmonth, _sub_months_ym, _add_months_ym, TARGET_LABELS, dummies_to_str\n",
    "from utils import target_str_to_labels, decimal_to_dummies, targets_str_to_indices, targets_dec_to_indices\n",
    "from utils import load_data2, minimal_clean_data_inplace, preprocess_data_inplace"
   ]
  },
  {
   "cell_type": "code",
   "execution_count": 37,
   "metadata": {
    "collapsed": false
   },
   "outputs": [],
   "source": [
    "from utils import FEATURES_NAMES\n",
    "from dataset import TRAIN_FILE_PATH, TEST_FILE_PATH"
   ]
  },
  {
   "cell_type": "code",
   "execution_count": 41,
   "metadata": {
    "collapsed": true
   },
   "outputs": [],
   "source": [
    "training_months = [\n",
    "    201505,\n",
    "    201506,\n",
    "    201507,\n",
    "    201508,\n",
    "    201509,\n",
    "    201510,\n",
    "    201511,\n",
    "    201512,\n",
    "]\n",
    "\n",
    "user_lag_indices = [2, 3, 5]\n",
    "\n",
    "# used_training_months = []\n",
    "# for ym in training_months:\n",
    "    \n",
    "#     for lag in user_lag_indices:\n",
    "#         ym_lag = _sub_months_ym(ym, lag)\n",
    "#         used_training_months.append(ym_lag)\n",
    "#     used_training_months.append(ym)\n",
    "    \n",
    "# used_training_months = sorted(list(set(used_training_months)))\n",
    "# print used_training_months"
   ]
  },
  {
   "cell_type": "code",
   "execution_count": 40,
   "metadata": {
    "collapsed": true
   },
   "outputs": [],
   "source": [
    "NEXT_FEATURES_NAMES = ['next_' + s for s in FEATURES_NAMES]\n",
    "def LAG_TARGETS(i):\n",
    "    return ['lag_%i_' + s for s in TARGET_LABELS]"
   ]
  },
  {
   "cell_type": "code",
   "execution_count": 42,
   "metadata": {
    "collapsed": true
   },
   "outputs": [],
   "source": [
    "# list of N_MAX_USERS * len(training_months) lines\n",
    "# Each line contains : \n",
    "# - 'ncodpers', \n",
    "# - 'yearmonth', \n",
    "# - user features (22), \n",
    "# - 'will_buy' column with the bought products of next month (24)\n",
    "# - total products, \n",
    "# - Lag 5 of all products (24), \n",
    "# - Lag 3 of all products (24), \n",
    "# - lag2 of age, renta, total_products and \n",
    "# - future characteristics from next month.\n",
    "\n",
    "columns = ['ncodpers', 'yearmonth'] +\\\n",
    "        FEATURES_NAMES +\\\n",
    "        ['will_buy', 'total_products'] +\\\n",
    "        LAG_TARGETS(3) + LAG_TARGETS(5) +\\\n",
    "        ['lag_2_age', 'lag_2_renta', 'lag_2_total_products'] +\\\n",
    "        NEXT_FEATURES_NAMES\n",
    "\n",
    "final_df = pd.DataFrame(columns=columns)"
   ]
  },
  {
   "cell_type": "code",
   "execution_count": 43,
   "metadata": {
    "collapsed": false
   },
   "outputs": [
    {
     "name": "stderr",
     "output_type": "stream",
     "text": [
      "INFO:root:- Number of lines with unknown data : 14628\n",
      "INFO:root:- Number of columns with nan : 10\n"
     ]
    }
   ],
   "source": [
    "df = None\n",
    "for ym in training_months:\n",
    "    ym_list = []\n",
    "    for lag in user_lag_indices:\n",
    "        ym_lag = _sub_months_ym(ym, lag)\n",
    "        ym_list.append(ym_lag)\n",
    "    ym_list.append(ym)\n",
    "    ym_list.append(_add_months_ym(ym))\n",
    "    \n",
    "    df = load_data2(TRAIN_FILE_PATH, ym_list)\n",
    "    minimal_clean_data_inplace(df)\n",
    "    preprocess_data_inplace(df)\n",
    "    \n",
    "    df.loc[:, 'fecha_dato'] = df['fecha_dato'].apply(to_yearmonth)\n",
    "    df.loc[:, 'total_products'] = df[TARGET_LABELS].sum(axis=1)\n",
    "    \n",
    "    df = df.sort_values(['ncodpers', 'fecha_dato'])\n",
    "    \n",
    "    break"
   ]
  },
  {
   "cell_type": "code",
   "execution_count": 53,
   "metadata": {
    "collapsed": false
   },
   "outputs": [
    {
     "data": {
      "text/html": [
       "<div>\n",
       "<table border=\"1\" class=\"dataframe\">\n",
       "  <thead>\n",
       "    <tr style=\"text-align: right;\">\n",
       "      <th></th>\n",
       "      <th>fecha_dato</th>\n",
       "      <th>ncodpers</th>\n",
       "      <th>ind_empleado</th>\n",
       "      <th>pais_residencia</th>\n",
       "      <th>sexo</th>\n",
       "      <th>age</th>\n",
       "      <th>fecha_alta</th>\n",
       "      <th>ind_nuevo</th>\n",
       "      <th>antiguedad</th>\n",
       "      <th>indrel</th>\n",
       "      <th>...</th>\n",
       "      <th>ind_plan_fin_ult1</th>\n",
       "      <th>ind_pres_fin_ult1</th>\n",
       "      <th>ind_reca_fin_ult1</th>\n",
       "      <th>ind_tjcr_fin_ult1</th>\n",
       "      <th>ind_valo_fin_ult1</th>\n",
       "      <th>ind_viv_fin_ult1</th>\n",
       "      <th>ind_nomina_ult1</th>\n",
       "      <th>ind_nom_pens_ult1</th>\n",
       "      <th>ind_recibo_ult1</th>\n",
       "      <th>total_products</th>\n",
       "    </tr>\n",
       "  </thead>\n",
       "  <tbody>\n",
       "    <tr>\n",
       "      <th>839976</th>\n",
       "      <td>201502</td>\n",
       "      <td>15889</td>\n",
       "      <td>1</td>\n",
       "      <td>0</td>\n",
       "      <td>0</td>\n",
       "      <td>56.0</td>\n",
       "      <td>1995-01-16</td>\n",
       "      <td>0</td>\n",
       "      <td>241</td>\n",
       "      <td>1.0</td>\n",
       "      <td>...</td>\n",
       "      <td>0</td>\n",
       "      <td>0</td>\n",
       "      <td>0</td>\n",
       "      <td>0</td>\n",
       "      <td>1</td>\n",
       "      <td>0</td>\n",
       "      <td>0.0</td>\n",
       "      <td>0.0</td>\n",
       "      <td>0</td>\n",
       "      <td>3.0</td>\n",
       "    </tr>\n",
       "    <tr>\n",
       "      <th>421110</th>\n",
       "      <td>201503</td>\n",
       "      <td>15889</td>\n",
       "      <td>1</td>\n",
       "      <td>0</td>\n",
       "      <td>0</td>\n",
       "      <td>56.0</td>\n",
       "      <td>1995-01-16</td>\n",
       "      <td>0</td>\n",
       "      <td>242</td>\n",
       "      <td>1.0</td>\n",
       "      <td>...</td>\n",
       "      <td>0</td>\n",
       "      <td>0</td>\n",
       "      <td>0</td>\n",
       "      <td>0</td>\n",
       "      <td>1</td>\n",
       "      <td>0</td>\n",
       "      <td>0.0</td>\n",
       "      <td>0.0</td>\n",
       "      <td>0</td>\n",
       "      <td>3.0</td>\n",
       "    </tr>\n",
       "    <tr>\n",
       "      <th>1888558</th>\n",
       "      <td>201505</td>\n",
       "      <td>15889</td>\n",
       "      <td>1</td>\n",
       "      <td>0</td>\n",
       "      <td>0</td>\n",
       "      <td>56.0</td>\n",
       "      <td>1995-01-16</td>\n",
       "      <td>0</td>\n",
       "      <td>244</td>\n",
       "      <td>1.0</td>\n",
       "      <td>...</td>\n",
       "      <td>0</td>\n",
       "      <td>0</td>\n",
       "      <td>0</td>\n",
       "      <td>1</td>\n",
       "      <td>1</td>\n",
       "      <td>0</td>\n",
       "      <td>0.0</td>\n",
       "      <td>0.0</td>\n",
       "      <td>0</td>\n",
       "      <td>4.0</td>\n",
       "    </tr>\n",
       "    <tr>\n",
       "      <th>839975</th>\n",
       "      <td>201502</td>\n",
       "      <td>15890</td>\n",
       "      <td>2</td>\n",
       "      <td>0</td>\n",
       "      <td>0</td>\n",
       "      <td>62.0</td>\n",
       "      <td>1995-01-16</td>\n",
       "      <td>0</td>\n",
       "      <td>241</td>\n",
       "      <td>1.0</td>\n",
       "      <td>...</td>\n",
       "      <td>1</td>\n",
       "      <td>0</td>\n",
       "      <td>0</td>\n",
       "      <td>1</td>\n",
       "      <td>0</td>\n",
       "      <td>0</td>\n",
       "      <td>1.0</td>\n",
       "      <td>1.0</td>\n",
       "      <td>1</td>\n",
       "      <td>8.0</td>\n",
       "    </tr>\n",
       "    <tr>\n",
       "      <th>421109</th>\n",
       "      <td>201503</td>\n",
       "      <td>15890</td>\n",
       "      <td>2</td>\n",
       "      <td>0</td>\n",
       "      <td>0</td>\n",
       "      <td>62.0</td>\n",
       "      <td>1995-01-16</td>\n",
       "      <td>0</td>\n",
       "      <td>242</td>\n",
       "      <td>1.0</td>\n",
       "      <td>...</td>\n",
       "      <td>1</td>\n",
       "      <td>0</td>\n",
       "      <td>0</td>\n",
       "      <td>1</td>\n",
       "      <td>0</td>\n",
       "      <td>0</td>\n",
       "      <td>1.0</td>\n",
       "      <td>1.0</td>\n",
       "      <td>1</td>\n",
       "      <td>8.0</td>\n",
       "    </tr>\n",
       "  </tbody>\n",
       "</table>\n",
       "<p>5 rows × 47 columns</p>\n",
       "</div>"
      ],
      "text/plain": [
       "         fecha_dato  ncodpers  ind_empleado  pais_residencia  sexo   age  \\\n",
       "839976       201502     15889             1                0     0  56.0   \n",
       "421110       201503     15889             1                0     0  56.0   \n",
       "1888558      201505     15889             1                0     0  56.0   \n",
       "839975       201502     15890             2                0     0  62.0   \n",
       "421109       201503     15890             2                0     0  62.0   \n",
       "\n",
       "         fecha_alta  ind_nuevo  antiguedad  indrel       ...        \\\n",
       "839976   1995-01-16          0         241     1.0       ...         \n",
       "421110   1995-01-16          0         242     1.0       ...         \n",
       "1888558  1995-01-16          0         244     1.0       ...         \n",
       "839975   1995-01-16          0         241     1.0       ...         \n",
       "421109   1995-01-16          0         242     1.0       ...         \n",
       "\n",
       "         ind_plan_fin_ult1  ind_pres_fin_ult1  ind_reca_fin_ult1  \\\n",
       "839976                   0                  0                  0   \n",
       "421110                   0                  0                  0   \n",
       "1888558                  0                  0                  0   \n",
       "839975                   1                  0                  0   \n",
       "421109                   1                  0                  0   \n",
       "\n",
       "         ind_tjcr_fin_ult1  ind_valo_fin_ult1  ind_viv_fin_ult1  \\\n",
       "839976                   0                  1                 0   \n",
       "421110                   0                  1                 0   \n",
       "1888558                  1                  1                 0   \n",
       "839975                   1                  0                 0   \n",
       "421109                   1                  0                 0   \n",
       "\n",
       "         ind_nomina_ult1  ind_nom_pens_ult1  ind_recibo_ult1  total_products  \n",
       "839976               0.0                0.0                0             3.0  \n",
       "421110               0.0                0.0                0             3.0  \n",
       "1888558              0.0                0.0                0             4.0  \n",
       "839975               1.0                1.0                1             8.0  \n",
       "421109               1.0                1.0                1             8.0  \n",
       "\n",
       "[5 rows x 47 columns]"
      ]
     },
     "execution_count": 53,
     "metadata": {},
     "output_type": "execute_result"
    }
   ],
   "source": [
    "df.head()"
   ]
  },
  {
   "cell_type": "code",
   "execution_count": 52,
   "metadata": {
    "collapsed": false
   },
   "outputs": [],
   "source": [
    "df.loc[:, 'total_products'] = df[TARGET_LABELS].sum(axis=1)"
   ]
  },
  {
   "cell_type": "code",
   "execution_count": null,
   "metadata": {
    "collapsed": true
   },
   "outputs": [],
   "source": []
  },
  {
   "cell_type": "code",
   "execution_count": 23,
   "metadata": {
    "collapsed": false
   },
   "outputs": [],
   "source": [
    "from raw_dataset import parse_line, get_user, get_yearmonth, get_target_labels\n",
    "from raw_dataset import clean_data_inplace, process_data_inplace"
   ]
  },
  {
   "cell_type": "code",
   "execution_count": 26,
   "metadata": {
    "collapsed": true
   },
   "outputs": [],
   "source": [
    "def process_row(input_row):\n",
    "    row = list(input_row)\n",
    "    if clean_data_inplace(row):\n",
    "        # process_data_inplace(row)\n",
    "        return row\n",
    "    return None"
   ]
  },
  {
   "cell_type": "code",
   "execution_count": null,
   "metadata": {
    "collapsed": true
   },
   "outputs": [],
   "source": []
  },
  {
   "cell_type": "code",
   "execution_count": 22,
   "metadata": {
    "collapsed": false
   },
   "outputs": [
    {
     "name": "stdout",
     "output_type": "stream",
     "text": [
      "[201412, 201501, 201502, 201503, 201504, 201505, 201506, 201507, 201508, 201509, 201510, 201511, 201512]\n"
     ]
    }
   ],
   "source": [
    "# Load training data\n",
    "N_MAX_USERS = 10\n",
    "USERS = {}\n",
    "\n",
    "# list of N_MAX_USERS * len(training_months) lines\n",
    "# Each line contains : \n",
    "# 0 - 'ncodpers', \n",
    "# 1 - 'yearmonth', \n",
    "# 2-24 - user features (22), \n",
    "# 24 - 'will_buy' column with the bought products of next month, \n",
    "# 25 - total products, \n",
    "# 26-50 - Lag 5 of all products (24), \n",
    "# 50-74 - Lag 3 of all products (24), \n",
    "# 74, 75, 76 - lag2 of age, renta, total_products and \n",
    "# 77-98 - future characteristics from next month.\n",
    "DATA = np.zeros((N_MAX_USERS  * len(training_months), 98))\n",
    "\n",
    "reader = open(TRAIN_FILE_PATH, 'r')\n",
    "target_labels = get_target_labels(reader.readline())\n",
    "\n",
    "total = 0\n",
    "line_counter = 0\n",
    "removed_rows = 0\n",
    "while True:\n",
    "    line = reader.readline()[:-1]\n",
    "    total += 1\n",
    "\n",
    "    if line == '':\n",
    "        break\n",
    "    row = parse_line(line)\n",
    "    ym = get_yearmonth(row)\n",
    "    \n",
    "    if ym not in used_training_months:\n",
    "        if ym > training_months[-1]:\n",
    "            break\n",
    "        continue\n",
    "    \n",
    "    processed_row = process_row(row)\n",
    "    if processed_row is None:\n",
    "        removed_rows += 1\n",
    "        continue\n",
    "\n",
    "    user_id = get_user(process_row)\n",
    "    if len(USERS) > N_MAX_USERS and user_id not in USERS:\n",
    "        continue\n",
    "  \n",
    "    user_profile = get_profile(processed_row)\n",
    "    user_choices = get_choices(processed_row)\n",
    "    \n",
    "    if user_id not in USERS:\n",
    "        USERS[user_id] = line_counter\n",
    "        DATA[line_counter, 0] = user_id\n",
    "\n",
    "    if \n",
    "    # Set lags :\n",
    "    \n",
    "        \n",
    "    if DATA[line_counter, 0] == user_id\n",
    "        DATA\n",
    "    \n",
    "    \n",
    "    \n",
    "#     USERS[user_id] = line_counter\n",
    "#     DATA\n",
    "    \n",
    "        \n",
    "    if total % 100000 == 0:\n",
    "        logging.info('-- Processed {} lines : Current month : {}'.format(total, yearmonth_str))\n",
    "\n",
    "    if total > 10:\n",
    "        break\n",
    "    \n",
    "reader.close()\n",
    "    \n",
    "    \n",
    "\n"
   ]
  },
  {
   "cell_type": "code",
   "execution_count": null,
   "metadata": {
    "collapsed": true
   },
   "outputs": [],
   "source": []
  },
  {
   "cell_type": "code",
   "execution_count": null,
   "metadata": {
    "collapsed": true
   },
   "outputs": [],
   "source": []
  },
  {
   "cell_type": "code",
   "execution_count": null,
   "metadata": {
    "collapsed": true
   },
   "outputs": [],
   "source": []
  }
 ],
 "metadata": {
  "kernelspec": {
   "display_name": "Python 2",
   "language": "python",
   "name": "python2"
  },
  "language_info": {
   "codemirror_mode": {
    "name": "ipython",
    "version": 2
   },
   "file_extension": ".py",
   "mimetype": "text/x-python",
   "name": "python",
   "nbconvert_exporter": "python",
   "pygments_lexer": "ipython2",
   "version": "2.7.12"
  }
 },
 "nbformat": 4,
 "nbformat_minor": 1
}
