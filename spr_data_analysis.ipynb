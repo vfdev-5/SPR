{
 "cells": [
  {
   "cell_type": "markdown",
   "metadata": {},
   "source": [
    "# SPR Data analysis"
   ]
  },
  {
   "cell_type": "code",
   "execution_count": 1,
   "metadata": {
    "collapsed": false
   },
   "outputs": [
    {
     "name": "stdout",
     "output_type": "stream",
     "text": [
      "Populating the interactive namespace from numpy and matplotlib\n"
     ]
    }
   ],
   "source": [
    "import numpy as np\n",
    "import pandas as pd\n",
    "import seaborn as sns\n",
    "import matplotlib.pyplot as plt\n",
    "%pylab inline\n",
    "pylab.rcParams['figure.figsize'] = (10, 6)\n",
    "color = sns.color_palette()"
   ]
  },
  {
   "cell_type": "markdown",
   "metadata": {},
   "source": [
    "**Dataset Size:**\n",
    "\n",
    "First let us check the number of rows in train and test file :\n",
    "- Number of rows in train :  13'647309\n",
    "- Number of rows in test :  929615\n",
    "- Number of clients (train dataset) : 956645"
   ]
  },
  {
   "cell_type": "markdown",
   "metadata": {},
   "source": [
    "**Dataset columns:**\n",
    "  \n",
    "  \n",
    "Main columns :   \n",
    "\n",
    "- fecha_dato \tThe table is partitioned for this column\n",
    "- ncodpers \tCustomer code\n",
    "- ind_empleado \tEmployee index: A active, B ex employed, F filial, N not employee, P pasive\n",
    "- pais_residencia \tCustomer's Country residence\n",
    "- sexo \tCustomer's sex\n",
    "- age \tAge\n",
    "- fecha_alta \tThe date in which the customer became as the first holder of a contract in the bank\n",
    "- ind_nuevo \tNew customer Index. 1 if the customer registered in the last 6 months.\n",
    "- antiguedad \tCustomer seniority (in months)\n",
    "- indrel \t1 (First/Primary), 99 (Primary customer during the month but not at the end of the month)\n",
    "- ult_fec_cli_1t \tLast date as primary customer (if he isn't at the end of the month)\n",
    "- indrel_1mes \tCustomer type at the beginning of the month ,1 (First/Primary customer), 2 (co-owner ),P (Potential),3 (former primary), 4(former co-owner)\n",
    "- tiprel_1mes \tCustomer relation type at the beginning of the month, A (active), I (inactive), P (former customer),R (Potential)\n",
    "- indresi \tResidence index (S (Yes) or N (No) if the residence country is the same than the bank country)\n",
    "- indext \tForeigner index (S (Yes) or N (No) if the customer's birth country is different than the bank country)\n",
    "- conyuemp \tSpouse index. 1 if the customer is spouse of an employee\n",
    "- canal_entrada \tchannel used by the customer to join\n",
    "- indfall \tDeceased index. N/S\n",
    "- tipodom \tAddres type. 1, primary address\n",
    "- cod_prov \tProvince code (customer's address)\n",
    "- nomprov \tProvince name\n",
    "- ind_actividad_cliente \tActivity index (1, active customer; 0, inactive customer)\n",
    "- renta \tGross income of the household\n",
    "- segmento \tsegmentation: 01 - VIP, 02 - Individuals 03 - college graduated    \n",
    "    \n",
    "    \n",
    "target columns : \n",
    "    \n",
    "- ind_ahor_fin_ult1 \tSaving Account\n",
    "- ind_aval_fin_ult1 \tGuarantees\n",
    "- ind_cco_fin_ult1 \tCurrent Accounts\n",
    "- ind_cder_fin_ult1 \tDerivada Account\n",
    "- ind_cno_fin_ult1 \tPayroll Account\n",
    "- ind_ctju_fin_ult1 \tJunior Account\n",
    "- ind_ctma_fin_ult1 \tMás particular Account\n",
    "- ind_ctop_fin_ult1 \tparticular Account\n",
    "- ind_ctpp_fin_ult1 \tparticular Plus Account\n",
    "- ind_deco_fin_ult1 \tShort-term deposits\n",
    "- ind_deme_fin_ult1 \tMedium-term deposits\n",
    "- ind_dela_fin_ult1 \tLong-term deposits\n",
    "- ind_ecue_fin_ult1 \te-account\n",
    "- ind_fond_fin_ult1 \tFunds\n",
    "- ind_hip_fin_ult1 \tMortgage\n",
    "- ind_plan_fin_ult1 \tPensions\n",
    "- ind_pres_fin_ult1 \tLoans\n",
    "- ind_reca_fin_ult1 \tTaxes\n",
    "- ind_tjcr_fin_ult1 \tCredit Card\n",
    "- ind_valo_fin_ult1 \tSecurities\n",
    "- ind_viv_fin_ult1 \tHome Account\n",
    "- ind_nomina_ult1 \tPayroll\n",
    "- ind_nom_pens_ult1 \tPensions\n",
    "- ind_recibo_ult1 \tDirect Debit    \n",
    "    "
   ]
  },
  {
   "cell_type": "code",
   "execution_count": 2,
   "metadata": {
    "collapsed": true
   },
   "outputs": [],
   "source": [
    "TARGET_LABELS = ['ind_ahor_fin_ult1', 'ind_aval_fin_ult1', 'ind_cco_fin_ult1',\n",
    " 'ind_cder_fin_ult1', 'ind_cno_fin_ult1', 'ind_ctju_fin_ult1',\n",
    " 'ind_ctma_fin_ult1', 'ind_ctop_fin_ult1', 'ind_ctpp_fin_ult1',\n",
    " 'ind_deco_fin_ult1', 'ind_deme_fin_ult1', 'ind_dela_fin_ult1',\n",
    " 'ind_ecue_fin_ult1', 'ind_fond_fin_ult1', 'ind_hip_fin_ult1',\n",
    " 'ind_plan_fin_ult1', 'ind_pres_fin_ult1', 'ind_reca_fin_ult1',\n",
    " 'ind_tjcr_fin_ult1', 'ind_valo_fin_ult1', 'ind_viv_fin_ult1',\n",
    " 'ind_nomina_ult1', 'ind_nom_pens_ult1', 'ind_recibo_ult1']"
   ]
  },
  {
   "cell_type": "markdown",
   "metadata": {},
   "source": [
    "## Data stats: data per month representations"
   ]
  },
  {
   "cell_type": "code",
   "execution_count": null,
   "metadata": {
    "collapsed": false
   },
   "outputs": [],
   "source": [
    "data_path = \"data/\"\n",
    "train = pd.read_csv(data_path+\"train_ver2.csv\", usecols=['fecha_dato', 'ncodpers'], parse_dates=['fecha_dato'])"
   ]
  },
  {
   "cell_type": "markdown",
   "metadata": {},
   "source": [
    "Number of clients"
   ]
  },
  {
   "cell_type": "code",
   "execution_count": null,
   "metadata": {
    "collapsed": false
   },
   "outputs": [],
   "source": [
    "len(train['ncodpers'].unique())"
   ]
  },
  {
   "cell_type": "markdown",
   "metadata": {},
   "source": [
    "Setup month start/end row indices"
   ]
  },
  {
   "cell_type": "code",
   "execution_count": null,
   "metadata": {
    "collapsed": false
   },
   "outputs": [],
   "source": [
    "gb = train.groupby('fecha_dato')\n",
    "data_count_per_month = gb.agg('size')"
   ]
  },
  {
   "cell_type": "code",
   "execution_count": null,
   "metadata": {
    "collapsed": false
   },
   "outputs": [],
   "source": [
    "month_start_end_row_indices = {}\n",
    "for key, group_value in gb:\n",
    "    month_start_end_row_indices[key] = [group_value.index[0], group_value.index[-1]]\n",
    "    \n",
    "#month_start_end_row_indices    "
   ]
  },
  {
   "cell_type": "code",
   "execution_count": null,
   "metadata": {
    "collapsed": false,
    "scrolled": false
   },
   "outputs": [],
   "source": [
    "plt.figure(figsize=(12,4))\n",
    "\n",
    "#values = np.log((data_count_per_month.values - np.min(data_count_per_month.values)) + 1)\n",
    "values = data_count_per_month.values\n",
    "\n",
    "sns.barplot(data_count_per_month.index, values, alpha=0.8, color=color[2])\n",
    "plt.ylabel('Data quantity, counts', fontsize=12)\n",
    "plt.xlabel('Data time span, months', fontsize=12)\n",
    "plt.xticks(rotation='vertical')\n",
    "plt.show()"
   ]
  },
  {
   "cell_type": "code",
   "execution_count": null,
   "metadata": {
    "collapsed": true
   },
   "outputs": [],
   "source": [
    "del train\n",
    "del gb"
   ]
  },
  {
   "cell_type": "markdown",
   "metadata": {},
   "source": [
    "### Analyse a month"
   ]
  },
  {
   "cell_type": "markdown",
   "metadata": {},
   "source": [
    "Read a month"
   ]
  },
  {
   "cell_type": "code",
   "execution_count": null,
   "metadata": {
    "collapsed": true
   },
   "outputs": [],
   "source": [
    "month_key=pd.Timestamp('2015-11-28 00:00:00')"
   ]
  },
  {
   "cell_type": "code",
   "execution_count": null,
   "metadata": {
    "collapsed": false
   },
   "outputs": [],
   "source": [
    "skiprows = month_start_end_row_indices[month_key][0]\n",
    "nrows = month_start_end_row_indices[month_key][1] - skiprows + 1\n",
    "train_month = pd.read_csv(data_path+\"train_ver2.csv\", skiprows=range(1, skiprows+1), nrows=nrows)"
   ]
  },
  {
   "cell_type": "code",
   "execution_count": null,
   "metadata": {
    "collapsed": false
   },
   "outputs": [],
   "source": [
    "month_full_stats = train_month.describe()\n",
    "month_full_stats"
   ]
  },
  {
   "cell_type": "code",
   "execution_count": null,
   "metadata": {
    "collapsed": false
   },
   "outputs": [],
   "source": [
    "print train_month.columns.values[11], train_month.columns.values[15]"
   ]
  },
  {
   "cell_type": "code",
   "execution_count": null,
   "metadata": {
    "collapsed": true
   },
   "outputs": [],
   "source": [
    "train_month[\"fecha_dato\"] = pd.to_datetime(train_month[\"fecha_dato\"],format=\"%Y-%m-%d\")\n",
    "train_month[\"fecha_alta\"] = pd.to_datetime(train_month[\"fecha_alta\"],format=\"%Y-%m-%d\")\n",
    "train_month[\"age\"] = pd.to_numeric(train_month[\"age\"], errors=\"coerce\")"
   ]
  },
  {
   "cell_type": "code",
   "execution_count": null,
   "metadata": {
    "collapsed": false,
    "scrolled": true
   },
   "outputs": [],
   "source": [
    "train_month.isnull().any()"
   ]
  },
  {
   "cell_type": "code",
   "execution_count": null,
   "metadata": {
    "collapsed": false
   },
   "outputs": [],
   "source": [
    "string_data = train_month.select_dtypes(include=[\"object\"])\n",
    "missing_columns = [col for col in string_data if string_data[col].isnull().any()]\n",
    "for col in missing_columns:\n",
    "    print(\"Unique values for {0}:\\n{1}\\n\".format(col,string_data[col].unique()))\n",
    "del string_data"
   ]
  },
  {
   "cell_type": "markdown",
   "metadata": {
    "collapsed": true
   },
   "source": [
    "### Load test dataset"
   ]
  },
  {
   "cell_type": "code",
   "execution_count": 4,
   "metadata": {
    "collapsed": false
   },
   "outputs": [
    {
     "name": "stderr",
     "output_type": "stream",
     "text": [
      "/home/osboxes/Documents/TDS/venv/local/lib/python2.7/site-packages/IPython/core/interactiveshell.py:2717: DtypeWarning: Columns (15) have mixed types. Specify dtype option on import or set low_memory=False.\n",
      "  interactivity=interactivity, compiler=compiler, result=result)\n"
     ]
    }
   ],
   "source": [
    "data_path = \"data/\"\n",
    "test = pd.read_csv(data_path+\"test_ver2.csv\")"
   ]
  },
  {
   "cell_type": "code",
   "execution_count": null,
   "metadata": {
    "collapsed": true
   },
   "outputs": [],
   "source": []
  },
  {
   "cell_type": "markdown",
   "metadata": {},
   "source": [
    "### Data Cleaning"
   ]
  },
  {
   "cell_type": "code",
   "execution_count": 5,
   "metadata": {
    "collapsed": true
   },
   "outputs": [],
   "source": [
    "#df = train_month\n",
    "df = test"
   ]
  },
  {
   "cell_type": "markdown",
   "metadata": {},
   "source": [
    "There are some 'unknown' users in train dataset only"
   ]
  },
  {
   "cell_type": "code",
   "execution_count": 6,
   "metadata": {
    "collapsed": false
   },
   "outputs": [
    {
     "name": "stdout",
     "output_type": "stream",
     "text": [
      "5 0 0 0 0\n"
     ]
    }
   ],
   "source": [
    "print np.sum(df['sexo'].isnull()), np.sum(df['pais_residencia'].isnull()), np.sum(df['ind_empleado'].isnull()), np.sum(df['age'].isnull()), np.sum(df['fecha_alta'].isnull())\n"
   ]
  },
  {
   "cell_type": "code",
   "execution_count": 7,
   "metadata": {
    "collapsed": false
   },
   "outputs": [],
   "source": [
    "unknown_users = df['sexo'].isnull() & df['age'].isnull() & df['ind_empleado'].isnull() & df['fecha_alta'].isnull() & df['pais_residencia'].isnull()"
   ]
  },
  {
   "cell_type": "code",
   "execution_count": 8,
   "metadata": {
    "collapsed": false
   },
   "outputs": [
    {
     "data": {
      "text/plain": [
       "0"
      ]
     },
     "execution_count": 8,
     "metadata": {},
     "output_type": "execute_result"
    }
   ],
   "source": [
    "np.sum(unknown_users)"
   ]
  },
  {
   "cell_type": "code",
   "execution_count": 9,
   "metadata": {
    "collapsed": false
   },
   "outputs": [
    {
     "data": {
      "text/html": [
       "<div>\n",
       "<table border=\"1\" class=\"dataframe\">\n",
       "  <thead>\n",
       "    <tr style=\"text-align: right;\">\n",
       "      <th></th>\n",
       "      <th>fecha_dato</th>\n",
       "      <th>ncodpers</th>\n",
       "      <th>ind_empleado</th>\n",
       "      <th>pais_residencia</th>\n",
       "      <th>sexo</th>\n",
       "      <th>age</th>\n",
       "      <th>fecha_alta</th>\n",
       "      <th>ind_nuevo</th>\n",
       "      <th>antiguedad</th>\n",
       "      <th>indrel</th>\n",
       "      <th>...</th>\n",
       "      <th>indext</th>\n",
       "      <th>conyuemp</th>\n",
       "      <th>canal_entrada</th>\n",
       "      <th>indfall</th>\n",
       "      <th>tipodom</th>\n",
       "      <th>cod_prov</th>\n",
       "      <th>nomprov</th>\n",
       "      <th>ind_actividad_cliente</th>\n",
       "      <th>renta</th>\n",
       "      <th>segmento</th>\n",
       "    </tr>\n",
       "  </thead>\n",
       "  <tbody>\n",
       "  </tbody>\n",
       "</table>\n",
       "<p>0 rows × 24 columns</p>\n",
       "</div>"
      ],
      "text/plain": [
       "Empty DataFrame\n",
       "Columns: [fecha_dato, ncodpers, ind_empleado, pais_residencia, sexo, age, fecha_alta, ind_nuevo, antiguedad, indrel, ult_fec_cli_1t, indrel_1mes, tiprel_1mes, indresi, indext, conyuemp, canal_entrada, indfall, tipodom, cod_prov, nomprov, ind_actividad_cliente, renta, segmento]\n",
       "Index: []\n",
       "\n",
       "[0 rows x 24 columns]"
      ]
     },
     "execution_count": 9,
     "metadata": {},
     "output_type": "execute_result"
    }
   ],
   "source": [
    "df[unknown_users].tail()"
   ]
  },
  {
   "cell_type": "code",
   "execution_count": 10,
   "metadata": {
    "collapsed": true
   },
   "outputs": [
    {
     "ename": "KeyError",
     "evalue": "\"['ind_ahor_fin_ult1' 'ind_aval_fin_ult1' 'ind_cco_fin_ult1'\\n 'ind_cder_fin_ult1' 'ind_cno_fin_ult1' 'ind_ctju_fin_ult1'\\n 'ind_ctma_fin_ult1' 'ind_ctop_fin_ult1' 'ind_ctpp_fin_ult1'\\n 'ind_deco_fin_ult1' 'ind_deme_fin_ult1' 'ind_dela_fin_ult1'\\n 'ind_ecue_fin_ult1' 'ind_fond_fin_ult1' 'ind_hip_fin_ult1'\\n 'ind_plan_fin_ult1' 'ind_pres_fin_ult1' 'ind_reca_fin_ult1'\\n 'ind_tjcr_fin_ult1' 'ind_valo_fin_ult1' 'ind_viv_fin_ult1'\\n 'ind_nomina_ult1' 'ind_nom_pens_ult1' 'ind_recibo_ult1'] not in index\"",
     "output_type": "error",
     "traceback": [
      "\u001b[0;31m\u001b[0m",
      "\u001b[0;31mKeyError\u001b[0mTraceback (most recent call last)",
      "\u001b[0;32m<ipython-input-10-b2beef5b2049>\u001b[0m in \u001b[0;36m<module>\u001b[0;34m()\u001b[0m\n\u001b[0;32m----> 1\u001b[0;31m \u001b[0mdf\u001b[0m\u001b[0;34m[\u001b[0m\u001b[0munknown_users\u001b[0m\u001b[0;34m]\u001b[0m\u001b[0;34m[\u001b[0m\u001b[0mTARGET_LABELS\u001b[0m\u001b[0;34m]\u001b[0m\u001b[0;34m.\u001b[0m\u001b[0mtail\u001b[0m\u001b[0;34m(\u001b[0m\u001b[0;34m)\u001b[0m\u001b[0;34m\u001b[0m\u001b[0m\n\u001b[0m",
      "\u001b[0;32m/home/osboxes/Documents/TDS/venv/local/lib/python2.7/site-packages/pandas/core/frame.pyc\u001b[0m in \u001b[0;36m__getitem__\u001b[0;34m(self, key)\u001b[0m\n\u001b[1;32m   2049\u001b[0m         \u001b[0;32mif\u001b[0m \u001b[0misinstance\u001b[0m\u001b[0;34m(\u001b[0m\u001b[0mkey\u001b[0m\u001b[0;34m,\u001b[0m \u001b[0;34m(\u001b[0m\u001b[0mSeries\u001b[0m\u001b[0;34m,\u001b[0m \u001b[0mnp\u001b[0m\u001b[0;34m.\u001b[0m\u001b[0mndarray\u001b[0m\u001b[0;34m,\u001b[0m \u001b[0mIndex\u001b[0m\u001b[0;34m,\u001b[0m \u001b[0mlist\u001b[0m\u001b[0;34m)\u001b[0m\u001b[0;34m)\u001b[0m\u001b[0;34m:\u001b[0m\u001b[0;34m\u001b[0m\u001b[0m\n\u001b[1;32m   2050\u001b[0m             \u001b[0;31m# either boolean or fancy integer index\u001b[0m\u001b[0;34m\u001b[0m\u001b[0;34m\u001b[0m\u001b[0m\n\u001b[0;32m-> 2051\u001b[0;31m             \u001b[0;32mreturn\u001b[0m \u001b[0mself\u001b[0m\u001b[0;34m.\u001b[0m\u001b[0m_getitem_array\u001b[0m\u001b[0;34m(\u001b[0m\u001b[0mkey\u001b[0m\u001b[0;34m)\u001b[0m\u001b[0;34m\u001b[0m\u001b[0m\n\u001b[0m\u001b[1;32m   2052\u001b[0m         \u001b[0;32melif\u001b[0m \u001b[0misinstance\u001b[0m\u001b[0;34m(\u001b[0m\u001b[0mkey\u001b[0m\u001b[0;34m,\u001b[0m \u001b[0mDataFrame\u001b[0m\u001b[0;34m)\u001b[0m\u001b[0;34m:\u001b[0m\u001b[0;34m\u001b[0m\u001b[0m\n\u001b[1;32m   2053\u001b[0m             \u001b[0;32mreturn\u001b[0m \u001b[0mself\u001b[0m\u001b[0;34m.\u001b[0m\u001b[0m_getitem_frame\u001b[0m\u001b[0;34m(\u001b[0m\u001b[0mkey\u001b[0m\u001b[0;34m)\u001b[0m\u001b[0;34m\u001b[0m\u001b[0m\n",
      "\u001b[0;32m/home/osboxes/Documents/TDS/venv/local/lib/python2.7/site-packages/pandas/core/frame.pyc\u001b[0m in \u001b[0;36m_getitem_array\u001b[0;34m(self, key)\u001b[0m\n\u001b[1;32m   2093\u001b[0m             \u001b[0;32mreturn\u001b[0m \u001b[0mself\u001b[0m\u001b[0;34m.\u001b[0m\u001b[0mtake\u001b[0m\u001b[0;34m(\u001b[0m\u001b[0mindexer\u001b[0m\u001b[0;34m,\u001b[0m \u001b[0maxis\u001b[0m\u001b[0;34m=\u001b[0m\u001b[0;36m0\u001b[0m\u001b[0;34m,\u001b[0m \u001b[0mconvert\u001b[0m\u001b[0;34m=\u001b[0m\u001b[0mFalse\u001b[0m\u001b[0;34m)\u001b[0m\u001b[0;34m\u001b[0m\u001b[0m\n\u001b[1;32m   2094\u001b[0m         \u001b[0;32melse\u001b[0m\u001b[0;34m:\u001b[0m\u001b[0;34m\u001b[0m\u001b[0m\n\u001b[0;32m-> 2095\u001b[0;31m             \u001b[0mindexer\u001b[0m \u001b[0;34m=\u001b[0m \u001b[0mself\u001b[0m\u001b[0;34m.\u001b[0m\u001b[0mix\u001b[0m\u001b[0;34m.\u001b[0m\u001b[0m_convert_to_indexer\u001b[0m\u001b[0;34m(\u001b[0m\u001b[0mkey\u001b[0m\u001b[0;34m,\u001b[0m \u001b[0maxis\u001b[0m\u001b[0;34m=\u001b[0m\u001b[0;36m1\u001b[0m\u001b[0;34m)\u001b[0m\u001b[0;34m\u001b[0m\u001b[0m\n\u001b[0m\u001b[1;32m   2096\u001b[0m             \u001b[0;32mreturn\u001b[0m \u001b[0mself\u001b[0m\u001b[0;34m.\u001b[0m\u001b[0mtake\u001b[0m\u001b[0;34m(\u001b[0m\u001b[0mindexer\u001b[0m\u001b[0;34m,\u001b[0m \u001b[0maxis\u001b[0m\u001b[0;34m=\u001b[0m\u001b[0;36m1\u001b[0m\u001b[0;34m,\u001b[0m \u001b[0mconvert\u001b[0m\u001b[0;34m=\u001b[0m\u001b[0mTrue\u001b[0m\u001b[0;34m)\u001b[0m\u001b[0;34m\u001b[0m\u001b[0m\n\u001b[1;32m   2097\u001b[0m \u001b[0;34m\u001b[0m\u001b[0m\n",
      "\u001b[0;32m/home/osboxes/Documents/TDS/venv/local/lib/python2.7/site-packages/pandas/core/indexing.pyc\u001b[0m in \u001b[0;36m_convert_to_indexer\u001b[0;34m(self, obj, axis, is_setter)\u001b[0m\n\u001b[1;32m   1227\u001b[0m                 \u001b[0mmask\u001b[0m \u001b[0;34m=\u001b[0m \u001b[0mcheck\u001b[0m \u001b[0;34m==\u001b[0m \u001b[0;34m-\u001b[0m\u001b[0;36m1\u001b[0m\u001b[0;34m\u001b[0m\u001b[0m\n\u001b[1;32m   1228\u001b[0m                 \u001b[0;32mif\u001b[0m \u001b[0mmask\u001b[0m\u001b[0;34m.\u001b[0m\u001b[0many\u001b[0m\u001b[0;34m(\u001b[0m\u001b[0;34m)\u001b[0m\u001b[0;34m:\u001b[0m\u001b[0;34m\u001b[0m\u001b[0m\n\u001b[0;32m-> 1229\u001b[0;31m                     \u001b[0;32mraise\u001b[0m \u001b[0mKeyError\u001b[0m\u001b[0;34m(\u001b[0m\u001b[0;34m'%s not in index'\u001b[0m \u001b[0;34m%\u001b[0m \u001b[0mobjarr\u001b[0m\u001b[0;34m[\u001b[0m\u001b[0mmask\u001b[0m\u001b[0;34m]\u001b[0m\u001b[0;34m)\u001b[0m\u001b[0;34m\u001b[0m\u001b[0m\n\u001b[0m\u001b[1;32m   1230\u001b[0m \u001b[0;34m\u001b[0m\u001b[0m\n\u001b[1;32m   1231\u001b[0m                 \u001b[0;32mreturn\u001b[0m \u001b[0m_values_from_object\u001b[0m\u001b[0;34m(\u001b[0m\u001b[0mindexer\u001b[0m\u001b[0;34m)\u001b[0m\u001b[0;34m\u001b[0m\u001b[0m\n",
      "\u001b[0;31mKeyError\u001b[0m: \"['ind_ahor_fin_ult1' 'ind_aval_fin_ult1' 'ind_cco_fin_ult1'\\n 'ind_cder_fin_ult1' 'ind_cno_fin_ult1' 'ind_ctju_fin_ult1'\\n 'ind_ctma_fin_ult1' 'ind_ctop_fin_ult1' 'ind_ctpp_fin_ult1'\\n 'ind_deco_fin_ult1' 'ind_deme_fin_ult1' 'ind_dela_fin_ult1'\\n 'ind_ecue_fin_ult1' 'ind_fond_fin_ult1' 'ind_hip_fin_ult1'\\n 'ind_plan_fin_ult1' 'ind_pres_fin_ult1' 'ind_reca_fin_ult1'\\n 'ind_tjcr_fin_ult1' 'ind_valo_fin_ult1' 'ind_viv_fin_ult1'\\n 'ind_nomina_ult1' 'ind_nom_pens_ult1' 'ind_recibo_ult1'] not in index\""
     ]
    }
   ],
   "source": [
    "df[unknown_users][TARGET_LABELS].tail()"
   ]
  },
  {
   "cell_type": "markdown",
   "metadata": {},
   "source": [
    "**Remove these users** !"
   ]
  },
  {
   "cell_type": "code",
   "execution_count": null,
   "metadata": {
    "collapsed": true
   },
   "outputs": [],
   "source": [
    "df.drop(df[unknown_users].index, inplace=True)"
   ]
  },
  {
   "cell_type": "code",
   "execution_count": null,
   "metadata": {
    "collapsed": false
   },
   "outputs": [],
   "source": [
    "unknown_users = df['sexo'].isnull() & df['age'].isnull() & df['ind_empleado'].isnull() & df['fecha_alta'].isnull() & df['pais_residencia'].isnull()\n",
    "np.sum(unknown_users)"
   ]
  },
  {
   "cell_type": "code",
   "execution_count": null,
   "metadata": {
    "collapsed": false,
    "scrolled": true
   },
   "outputs": [],
   "source": [
    "df.isnull().any()"
   ]
  },
  {
   "cell_type": "markdown",
   "metadata": {},
   "source": [
    "Start with gender -> replace nan with UNKNOWN"
   ]
  },
  {
   "cell_type": "code",
   "execution_count": 11,
   "metadata": {
    "collapsed": false
   },
   "outputs": [
    {
     "data": {
      "text/plain": [
       "array(['V', 'H', nan], dtype=object)"
      ]
     },
     "execution_count": 11,
     "metadata": {},
     "output_type": "execute_result"
    }
   ],
   "source": [
    "df['sexo'].unique()"
   ]
  },
  {
   "cell_type": "code",
   "execution_count": 12,
   "metadata": {
    "collapsed": true
   },
   "outputs": [],
   "source": [
    "df.loc[df['sexo'].isnull(),'sexo'] = \"UNKNOWN\""
   ]
  },
  {
   "cell_type": "code",
   "execution_count": 13,
   "metadata": {
    "collapsed": false
   },
   "outputs": [
    {
     "data": {
      "text/plain": [
       "array(['V', 'H', 'UNKNOWN'], dtype=object)"
      ]
     },
     "execution_count": 13,
     "metadata": {},
     "output_type": "execute_result"
    }
   ],
   "source": [
    "df['sexo'].unique()"
   ]
  },
  {
   "cell_type": "code",
   "execution_count": 14,
   "metadata": {
    "collapsed": false
   },
   "outputs": [
    {
     "data": {
      "text/plain": [
       "V          504515\n",
       "H          425095\n",
       "UNKNOWN         5\n",
       "Name: sexo, dtype: int64"
      ]
     },
     "execution_count": 14,
     "metadata": {},
     "output_type": "execute_result"
    }
   ],
   "source": [
    "df['sexo'].value_counts()"
   ]
  },
  {
   "cell_type": "code",
   "execution_count": 15,
   "metadata": {
    "collapsed": false
   },
   "outputs": [
    {
     "data": {
      "image/png": "[encoded data removed]",
      "text/plain": [
       "<matplotlib.figure.Figure at 0x7f5133508250>"
      ]
     },
     "metadata": {},
     "output_type": "display_data"
    }
   ],
   "source": [
    "with sns.plotting_context(\"notebook\",font_scale=1.5):\n",
    "    sns.set_style(\"whitegrid\")\n",
    "    sns.countplot(x=\"sexo\", \n",
    "                  data=df, \n",
    "                  palette=\"Greens_d\");\n",
    "    sns.plt.title(\"Gender Distribution\")\n",
    "    plt.ylabel(\"Count\")"
   ]
  },
  {
   "cell_type": "markdown",
   "metadata": {},
   "source": [
    "Continue with age -> replace nan with mean , less 18 -> mean between 18, 30 and greater than 90 -> mean between 30, 90"
   ]
  },
  {
   "cell_type": "code",
   "execution_count": 16,
   "metadata": {
    "collapsed": false
   },
   "outputs": [
    {
     "data": {
      "text/plain": [
       "array([ 56,  36,  22,  51,  41,  33,  23,  43,  63,  62,  32,  58,  71,\n",
       "        31,  30,  59,  45,  37,  39,  38,  46,  34,  35,  42,  29,  88,\n",
       "        64,  48,  72,  47,  27,  24,  50,  49,  57,  67,  25,  28,  13,\n",
       "        40,  53,  54,  26,  11,  21,  60,  44,  55,   7,  52,  66,  90,\n",
       "        73,  78,  79,  61,  69,  12,   9,  65,  77,  83,  81,  10,   5,\n",
       "        18,  17,  87,  70,  80,  75,  68,  74,  16,   4,  82,  91,  76,\n",
       "        19,  15,   6,  97,  89,  85,  86,  14,  20,   8,  84,  95,  93,\n",
       "       100,  96,  92,  98,  94, 105, 102, 101, 104, 103,  99,   3,   2,\n",
       "       116, 106, 107, 109, 110, 117, 108, 113, 111, 112, 114, 164, 118, 127])"
      ]
     },
     "execution_count": 16,
     "metadata": {},
     "output_type": "execute_result"
    }
   ],
   "source": [
    "df['age'].unique()"
   ]
  },
  {
   "cell_type": "code",
   "execution_count": 17,
   "metadata": {
    "collapsed": false
   },
   "outputs": [
    {
     "data": {
      "image/png": "[encoded data removed]",
      "text/plain": [
       "<matplotlib.figure.Figure at 0x7f5131244f50>"
      ]
     },
     "metadata": {},
     "output_type": "display_data"
    }
   ],
   "source": [
    "with sns.plotting_context(\"notebook\",font_scale=1.5):\n",
    "    sns.set_style(\"whitegrid\")\n",
    "    sns.distplot(df[df['sexo'] == \"H\"][\"age\"].dropna(),\n",
    "                 bins=120,\n",
    "                 kde=False,\n",
    "                 color=\"tomato\")\n",
    "    sns.distplot(df[df['sexo'] == \"V\"][\"age\"].dropna(),\n",
    "                 bins=120,\n",
    "                 kde=False)\n",
    "    sns.distplot(df[df['sexo'] == \"UNKNOWN\"][\"age\"].dropna(),\n",
    "                 bins=120,\n",
    "                 kde=False,\n",
    "                 color=\"green\")\n",
    "    sns.plt.title(\"Age Distribution\")\n",
    "    plt.ylabel(\"Count\")"
   ]
  },
  {
   "cell_type": "code",
   "execution_count": 18,
   "metadata": {
    "collapsed": true
   },
   "outputs": [],
   "source": [
    "df.loc[df.age < 18,\"age\"]  = df.loc[(df.age >= 18) & (df.age <= 30),\"age\"].mean(skipna=True)\n",
    "df.loc[df.age > 90,\"age\"] = df.loc[(df.age >= 30) & (df.age <= 90),\"age\"].mean(skipna=True)\n",
    "df[\"age\"].fillna(df[\"age\"].mean(),inplace=True)\n",
    "df[\"age\"] = df[\"age\"].astype(int)"
   ]
  },
  {
   "cell_type": "code",
   "execution_count": 19,
   "metadata": {
    "collapsed": false
   },
   "outputs": [
    {
     "data": {
      "image/png": "[encoded data removed]",
      "text/plain": [
       "<matplotlib.figure.Figure at 0x7f5130f98290>"
      ]
     },
     "metadata": {},
     "output_type": "display_data"
    }
   ],
   "source": [
    "with sns.plotting_context(\"notebook\",font_scale=1.5):\n",
    "    sns.set_style(\"whitegrid\")\n",
    "    sns.distplot(df[df['sexo'] == \"H\"][\"age\"].dropna(),\n",
    "                 bins=100,\n",
    "                 kde=False,\n",
    "                 color=\"tomato\")\n",
    "    sns.distplot(df[df['sexo'] == \"V\"][\"age\"].dropna(),\n",
    "                 bins=100,\n",
    "                 kde=False,\n",
    "                 color='yellow')\n",
    "    sns.distplot(df[df['sexo'] == \"UNKNOWN\"][\"age\"].dropna(),\n",
    "                 bins=100,\n",
    "                 kde=False,\n",
    "                 color=\"green\")\n",
    "    sns.plt.title(\"Age Distribution\")\n",
    "    plt.ylabel(\"Count\")"
   ]
  },
  {
   "cell_type": "code",
   "execution_count": null,
   "metadata": {
    "collapsed": true
   },
   "outputs": [],
   "source": []
  },
  {
   "cell_type": "markdown",
   "metadata": {
    "collapsed": true
   },
   "source": [
    "Next `ind_empleado` : nan -> UNKNOWN"
   ]
  },
  {
   "cell_type": "code",
   "execution_count": 20,
   "metadata": {
    "collapsed": false
   },
   "outputs": [
    {
     "data": {
      "text/plain": [
       "array(['F', 'N', 'A', 'B', 'S'], dtype=object)"
      ]
     },
     "execution_count": 20,
     "metadata": {},
     "output_type": "execute_result"
    }
   ],
   "source": [
    "df['ind_empleado'].unique()"
   ]
  },
  {
   "cell_type": "code",
   "execution_count": 21,
   "metadata": {
    "collapsed": true
   },
   "outputs": [],
   "source": [
    "df['ind_empleado'].fillna(\"UNKNOWN\",inplace=True)"
   ]
  },
  {
   "cell_type": "code",
   "execution_count": 22,
   "metadata": {
    "collapsed": false
   },
   "outputs": [
    {
     "data": {
      "text/plain": [
       "array(['F', 'N', 'A', 'B', 'S'], dtype=object)"
      ]
     },
     "execution_count": 22,
     "metadata": {},
     "output_type": "execute_result"
    }
   ],
   "source": [
    "df['ind_empleado'].unique()"
   ]
  },
  {
   "cell_type": "code",
   "execution_count": 23,
   "metadata": {
    "collapsed": false
   },
   "outputs": [
    {
     "data": {
      "text/plain": [
       "N    929096\n",
       "B       218\n",
       "F       152\n",
       "A       148\n",
       "S         1\n",
       "Name: ind_empleado, dtype: int64"
      ]
     },
     "execution_count": 23,
     "metadata": {},
     "output_type": "execute_result"
    }
   ],
   "source": [
    "df['ind_empleado'].value_counts()"
   ]
  },
  {
   "cell_type": "code",
   "execution_count": 24,
   "metadata": {
    "collapsed": false
   },
   "outputs": [
    {
     "data": {
      "image/png": "[encoded data removed]",
      "text/plain": [
       "<matplotlib.figure.Figure at 0x7f5131123fd0>"
      ]
     },
     "metadata": {},
     "output_type": "display_data"
    }
   ],
   "source": [
    "with sns.plotting_context(\"notebook\", font_scale=1.5):\n",
    "    sns.set_style(\"whitegrid\")\n",
    "    sns.countplot(x=\"ind_empleado\", \n",
    "                  data=df, \n",
    "                  palette=\"Greens_d\");\n",
    "    sns.plt.title(\"Employee index distribution\")\n",
    "    plt.ylabel(\"Count\")"
   ]
  },
  {
   "cell_type": "markdown",
   "metadata": {},
   "source": [
    "Next `pais_residencia` : nan -> UNKNOWN"
   ]
  },
  {
   "cell_type": "code",
   "execution_count": 25,
   "metadata": {
    "collapsed": false
   },
   "outputs": [
    {
     "data": {
      "text/plain": [
       "array(['ES', 'CH', 'DE', 'GB', 'BE', 'DJ', 'IE', 'QA', 'US', 'VE', 'DO',\n",
       "       'SE', 'AR', 'CA', 'PL', 'CN', 'CM', 'FR', 'AT', 'RO', 'LU', 'PT',\n",
       "       'CL', 'IT', 'MR', 'MX', 'SN', 'BR', 'CO', 'PE', 'RU', 'LT', 'EE',\n",
       "       'MA', 'HN', 'BG', 'NO', 'GT', 'UA', 'NL', 'GA', 'IL', 'JP', 'EC',\n",
       "       'IN', 'DZ', 'ET', 'SA', 'HU', 'JM', 'CI', 'CU', 'BO', 'TG', 'TN',\n",
       "       'NG', 'AU', 'GR', 'DK', 'LB', 'UY', 'TH', 'SG', 'MD', 'SK', 'AD',\n",
       "       'BY', 'HK', 'HR', 'EG', 'GQ', 'PR', 'ZA', 'PA', 'KE', 'TR', 'FI',\n",
       "       'BA', 'SV', 'PY', 'PK', 'KR', 'AO', 'GN', 'IS', 'TW', 'MK', 'VN',\n",
       "       'CZ', 'CR', 'MZ', 'MT', 'LY', 'GH', 'KH', 'AE', 'RS', 'OM', 'GE',\n",
       "       'NI', 'GI', 'NZ', 'MM', 'PH', 'KW', 'BM', 'CG', 'ML', 'AL', 'ZW',\n",
       "       'CF', 'GM', 'CD', 'BZ', 'KZ', 'GW', 'SL', 'LV'], dtype=object)"
      ]
     },
     "execution_count": 25,
     "metadata": {},
     "output_type": "execute_result"
    }
   ],
   "source": [
    "df['pais_residencia'].unique()"
   ]
  },
  {
   "cell_type": "code",
   "execution_count": 26,
   "metadata": {
    "collapsed": true
   },
   "outputs": [],
   "source": [
    "df['pais_residencia'].fillna('UNKNOWN', inplace=True)"
   ]
  },
  {
   "cell_type": "code",
   "execution_count": 27,
   "metadata": {
    "collapsed": false
   },
   "outputs": [
    {
     "data": {
      "text/plain": [
       "array(['ES', 'CH', 'DE', 'GB', 'BE', 'DJ', 'IE', 'QA', 'US', 'VE', 'DO',\n",
       "       'SE', 'AR', 'CA', 'PL', 'CN', 'CM', 'FR', 'AT', 'RO', 'LU', 'PT',\n",
       "       'CL', 'IT', 'MR', 'MX', 'SN', 'BR', 'CO', 'PE', 'RU', 'LT', 'EE',\n",
       "       'MA', 'HN', 'BG', 'NO', 'GT', 'UA', 'NL', 'GA', 'IL', 'JP', 'EC',\n",
       "       'IN', 'DZ', 'ET', 'SA', 'HU', 'JM', 'CI', 'CU', 'BO', 'TG', 'TN',\n",
       "       'NG', 'AU', 'GR', 'DK', 'LB', 'UY', 'TH', 'SG', 'MD', 'SK', 'AD',\n",
       "       'BY', 'HK', 'HR', 'EG', 'GQ', 'PR', 'ZA', 'PA', 'KE', 'TR', 'FI',\n",
       "       'BA', 'SV', 'PY', 'PK', 'KR', 'AO', 'GN', 'IS', 'TW', 'MK', 'VN',\n",
       "       'CZ', 'CR', 'MZ', 'MT', 'LY', 'GH', 'KH', 'AE', 'RS', 'OM', 'GE',\n",
       "       'NI', 'GI', 'NZ', 'MM', 'PH', 'KW', 'BM', 'CG', 'ML', 'AL', 'ZW',\n",
       "       'CF', 'GM', 'CD', 'BZ', 'KZ', 'GW', 'SL', 'LV'], dtype=object)"
      ]
     },
     "execution_count": 27,
     "metadata": {},
     "output_type": "execute_result"
    }
   ],
   "source": [
    "df['pais_residencia'].unique()"
   ]
  },
  {
   "cell_type": "code",
   "execution_count": 28,
   "metadata": {
    "collapsed": true
   },
   "outputs": [
    {
     "data": {
      "text/plain": [
       "ES    925619\n",
       "FR       311\n",
       "AR       288\n",
       "GB       286\n",
       "DE       281\n",
       "US       231\n",
       "CO       211\n",
       "IT       179\n",
       "RO       175\n",
       "MX       156\n",
       "BR       141\n",
       "VE       136\n",
       "EC       130\n",
       "CH       124\n",
       "BO        93\n",
       "BE        93\n",
       "PT        90\n",
       "PY        87\n",
       "CL        59\n",
       "PE        54\n",
       "NL        47\n",
       "RU        45\n",
       "CU        44\n",
       "PL        38\n",
       "SE        37\n",
       "CN        33\n",
       "UY        30\n",
       "AT        29\n",
       "UA        29\n",
       "BG        28\n",
       "       ...  \n",
       "MZ         2\n",
       "JM         2\n",
       "CG         2\n",
       "ET         2\n",
       "GW         2\n",
       "OM         2\n",
       "LV         1\n",
       "LY         1\n",
       "MT         1\n",
       "ML         1\n",
       "MM         1\n",
       "KZ         1\n",
       "SL         1\n",
       "TN         1\n",
       "KH         1\n",
       "IS         1\n",
       "GH         1\n",
       "GI         1\n",
       "GM         1\n",
       "GE         1\n",
       "DJ         1\n",
       "CD         1\n",
       "CF         1\n",
       "BZ         1\n",
       "BM         1\n",
       "KW         1\n",
       "AL         1\n",
       "ZW         1\n",
       "TG         1\n",
       "LB         1\n",
       "Name: pais_residencia, dtype: int64"
      ]
     },
     "execution_count": 28,
     "metadata": {},
     "output_type": "execute_result"
    }
   ],
   "source": [
    "df['pais_residencia'].value_counts()"
   ]
  },
  {
   "cell_type": "code",
   "execution_count": null,
   "metadata": {
    "collapsed": true
   },
   "outputs": [],
   "source": []
  },
  {
   "cell_type": "markdown",
   "metadata": {},
   "source": [
    "Next `fecha_alta` : "
   ]
  },
  {
   "cell_type": "code",
   "execution_count": 29,
   "metadata": {
    "collapsed": false,
    "scrolled": true
   },
   "outputs": [
    {
     "data": {
      "text/plain": [
       "0"
      ]
     },
     "execution_count": 29,
     "metadata": {},
     "output_type": "execute_result"
    }
   ],
   "source": [
    "df['fecha_alta'].isnull().sum()"
   ]
  },
  {
   "cell_type": "code",
   "execution_count": null,
   "metadata": {
    "collapsed": true
   },
   "outputs": [],
   "source": [
    "## something in the middle of the pack\n",
    "# dates=df.loc[:,\"fecha_alta\"].sort_values().reset_index()\n",
    "# median_date = int(np.median(dates.index.values))\n",
    "# df.loc[df.fecha_alta.isnull(),\"fecha_alta\"] = dates.loc[median_date,\"fecha_alta\"]\n",
    "# df[\"fecha_alta\"].describe()"
   ]
  },
  {
   "cell_type": "markdown",
   "metadata": {},
   "source": [
    "#### Display number of customers joined per year/month "
   ]
  },
  {
   "cell_type": "code",
   "execution_count": 30,
   "metadata": {
    "collapsed": true
   },
   "outputs": [
    {
     "ename": "AttributeError",
     "evalue": "'str' object has no attribute 'year'",
     "output_type": "error",
     "traceback": [
      "\u001b[0;31m\u001b[0m",
      "\u001b[0;31mAttributeError\u001b[0mTraceback (most recent call last)",
      "\u001b[0;32m<ipython-input-30-734f48a0bafb>\u001b[0m in \u001b[0;36m<module>\u001b[0;34m()\u001b[0m\n\u001b[1;32m      1\u001b[0m \u001b[0mto_yearmonth\u001b[0m \u001b[0;34m=\u001b[0m \u001b[0;32mlambda\u001b[0m \u001b[0mx\u001b[0m\u001b[0;34m:\u001b[0m \u001b[0mint\u001b[0m\u001b[0;34m(\u001b[0m\u001b[0;36m100\u001b[0m \u001b[0;34m*\u001b[0m \u001b[0mx\u001b[0m\u001b[0;34m.\u001b[0m\u001b[0myear\u001b[0m \u001b[0;34m+\u001b[0m \u001b[0mx\u001b[0m\u001b[0;34m.\u001b[0m\u001b[0mmonth\u001b[0m\u001b[0;34m)\u001b[0m\u001b[0;34m\u001b[0m\u001b[0m\n\u001b[0;32m----> 2\u001b[0;31m \u001b[0myearmonth\u001b[0m \u001b[0;34m=\u001b[0m \u001b[0mdf\u001b[0m\u001b[0;34m[\u001b[0m\u001b[0;34m'fecha_alta'\u001b[0m\u001b[0;34m]\u001b[0m\u001b[0;34m.\u001b[0m\u001b[0mapply\u001b[0m\u001b[0;34m(\u001b[0m\u001b[0mto_yearmonth\u001b[0m\u001b[0;34m)\u001b[0m\u001b[0;34m\u001b[0m\u001b[0m\n\u001b[0m",
      "\u001b[0;32m/home/osboxes/Documents/TDS/venv/local/lib/python2.7/site-packages/pandas/core/series.pyc\u001b[0m in \u001b[0;36mapply\u001b[0;34m(self, func, convert_dtype, args, **kwds)\u001b[0m\n\u001b[1;32m   2290\u001b[0m             \u001b[0;32melse\u001b[0m\u001b[0;34m:\u001b[0m\u001b[0;34m\u001b[0m\u001b[0m\n\u001b[1;32m   2291\u001b[0m                 \u001b[0mvalues\u001b[0m \u001b[0;34m=\u001b[0m \u001b[0mself\u001b[0m\u001b[0;34m.\u001b[0m\u001b[0masobject\u001b[0m\u001b[0;34m\u001b[0m\u001b[0m\n\u001b[0;32m-> 2292\u001b[0;31m                 \u001b[0mmapped\u001b[0m \u001b[0;34m=\u001b[0m \u001b[0mlib\u001b[0m\u001b[0;34m.\u001b[0m\u001b[0mmap_infer\u001b[0m\u001b[0;34m(\u001b[0m\u001b[0mvalues\u001b[0m\u001b[0;34m,\u001b[0m \u001b[0mf\u001b[0m\u001b[0;34m,\u001b[0m \u001b[0mconvert\u001b[0m\u001b[0;34m=\u001b[0m\u001b[0mconvert_dtype\u001b[0m\u001b[0;34m)\u001b[0m\u001b[0;34m\u001b[0m\u001b[0m\n\u001b[0m\u001b[1;32m   2293\u001b[0m \u001b[0;34m\u001b[0m\u001b[0m\n\u001b[1;32m   2294\u001b[0m         \u001b[0;32mif\u001b[0m \u001b[0mlen\u001b[0m\u001b[0;34m(\u001b[0m\u001b[0mmapped\u001b[0m\u001b[0;34m)\u001b[0m \u001b[0;32mand\u001b[0m \u001b[0misinstance\u001b[0m\u001b[0;34m(\u001b[0m\u001b[0mmapped\u001b[0m\u001b[0;34m[\u001b[0m\u001b[0;36m0\u001b[0m\u001b[0;34m]\u001b[0m\u001b[0;34m,\u001b[0m \u001b[0mSeries\u001b[0m\u001b[0;34m)\u001b[0m\u001b[0;34m:\u001b[0m\u001b[0;34m\u001b[0m\u001b[0m\n",
      "\u001b[0;32mpandas/src/inference.pyx\u001b[0m in \u001b[0;36mpandas.lib.map_infer (pandas/lib.c:63307)\u001b[0;34m()\u001b[0m\n",
      "\u001b[0;32m<ipython-input-30-734f48a0bafb>\u001b[0m in \u001b[0;36m<lambda>\u001b[0;34m(x)\u001b[0m\n\u001b[0;32m----> 1\u001b[0;31m \u001b[0mto_yearmonth\u001b[0m \u001b[0;34m=\u001b[0m \u001b[0;32mlambda\u001b[0m \u001b[0mx\u001b[0m\u001b[0;34m:\u001b[0m \u001b[0mint\u001b[0m\u001b[0;34m(\u001b[0m\u001b[0;36m100\u001b[0m \u001b[0;34m*\u001b[0m \u001b[0mx\u001b[0m\u001b[0;34m.\u001b[0m\u001b[0myear\u001b[0m \u001b[0;34m+\u001b[0m \u001b[0mx\u001b[0m\u001b[0;34m.\u001b[0m\u001b[0mmonth\u001b[0m\u001b[0;34m)\u001b[0m\u001b[0;34m\u001b[0m\u001b[0m\n\u001b[0m\u001b[1;32m      2\u001b[0m \u001b[0myearmonth\u001b[0m \u001b[0;34m=\u001b[0m \u001b[0mdf\u001b[0m\u001b[0;34m[\u001b[0m\u001b[0;34m'fecha_alta'\u001b[0m\u001b[0;34m]\u001b[0m\u001b[0;34m.\u001b[0m\u001b[0mapply\u001b[0m\u001b[0;34m(\u001b[0m\u001b[0mto_yearmonth\u001b[0m\u001b[0;34m)\u001b[0m\u001b[0;34m\u001b[0m\u001b[0m\n",
      "\u001b[0;31mAttributeError\u001b[0m: 'str' object has no attribute 'year'"
     ]
    }
   ],
   "source": [
    "to_yearmonth = lambda x: int(100 * x.year + x.month)\n",
    "yearmonth = df['fecha_alta'].apply(to_yearmonth)"
   ]
  },
  {
   "cell_type": "code",
   "execution_count": null,
   "metadata": {
    "collapsed": false
   },
   "outputs": [],
   "source": [
    "yearmonth_counts = yearmonth.value_counts()\n",
    "print(\"Minimum value of fecha_alta : \", min(yearmonth_counts.index))\n",
    "print(\"Maximum value of fecha_alta : \", max(yearmonth_counts.index))\n",
    "\n",
    "with sns.plotting_context(\"notebook\", font_scale=1.5):\n",
    "    plt.figure(figsize=(16,4))\n",
    "    sns.set_style(\"whitegrid\")\n",
    "    sns.barplot(yearmonth_counts.index, yearmonth_counts.values, \n",
    "                  alpha=0.8, \n",
    "                  color='tomato');\n",
    "    plt.xlabel(\"Year and month of joining\")\n",
    "    plt.xticks(rotation='vertical')\n",
    "    plt.ylabel('Number of customers joined per year/month', fontsize=12)"
   ]
  },
  {
   "cell_type": "code",
   "execution_count": null,
   "metadata": {
    "collapsed": false
   },
   "outputs": [],
   "source": [
    "zoom_yearmonth_counts = yearmonth_counts.sort_index()\n",
    "zoom_yearmonth_counts = zoom_yearmonth_counts[185:]\n",
    "\n",
    "with sns.plotting_context(\"notebook\", font_scale=1.5):\n",
    "    plt.figure(figsize=(16,4))\n",
    "    sns.set_style(\"whitegrid\")\n",
    "    sns.barplot(zoom_yearmonth_counts.index, zoom_yearmonth_counts.values, \n",
    "                  alpha=0.8, \n",
    "                  color='tomato');\n",
    "    plt.xlabel(\"Year and month of joining\")\n",
    "    plt.xticks(rotation='vertical')\n",
    "    plt.ylabel('Number of customers joined per year/month', fontsize=12)"
   ]
  },
  {
   "cell_type": "code",
   "execution_count": null,
   "metadata": {
    "collapsed": true
   },
   "outputs": [],
   "source": []
  },
  {
   "cell_type": "markdown",
   "metadata": {},
   "source": [
    "Next `ult_fec_cli_1t` (Last date as primary customer (if he isn't at the end of the month)) : nan -> UNKNOWN"
   ]
  },
  {
   "cell_type": "code",
   "execution_count": null,
   "metadata": {
    "collapsed": false
   },
   "outputs": [],
   "source": [
    "print df['ult_fec_cli_1t'].isnull().sum(), df['ult_fec_cli_1t'].shape"
   ]
  },
  {
   "cell_type": "code",
   "execution_count": null,
   "metadata": {
    "collapsed": false
   },
   "outputs": [],
   "source": [
    "df['ult_fec_cli_1t'].unique()"
   ]
  },
  {
   "cell_type": "code",
   "execution_count": null,
   "metadata": {
    "collapsed": true
   },
   "outputs": [],
   "source": [
    "df['ult_fec_cli_1t'].fillna('UNKNOWN', inplace=True)"
   ]
  },
  {
   "cell_type": "code",
   "execution_count": null,
   "metadata": {
    "collapsed": false,
    "scrolled": true
   },
   "outputs": [],
   "source": [
    "df['ult_fec_cli_1t'].unique()"
   ]
  },
  {
   "cell_type": "code",
   "execution_count": null,
   "metadata": {
    "collapsed": true
   },
   "outputs": [],
   "source": []
  },
  {
   "cell_type": "code",
   "execution_count": null,
   "metadata": {
    "collapsed": true
   },
   "outputs": [],
   "source": []
  },
  {
   "cell_type": "code",
   "execution_count": null,
   "metadata": {
    "collapsed": true
   },
   "outputs": [],
   "source": []
  },
  {
   "cell_type": "markdown",
   "metadata": {},
   "source": [
    "Next `conyuemp` (Spouse index. 1 if the customer is spouse of an employee) : nan -> UNKNOWN"
   ]
  },
  {
   "cell_type": "code",
   "execution_count": null,
   "metadata": {
    "collapsed": false
   },
   "outputs": [],
   "source": [
    "print df['conyuemp'].isnull().sum(), df['conyuemp'].shape"
   ]
  },
  {
   "cell_type": "code",
   "execution_count": null,
   "metadata": {
    "collapsed": false
   },
   "outputs": [],
   "source": [
    "df['conyuemp'].unique()"
   ]
  },
  {
   "cell_type": "code",
   "execution_count": null,
   "metadata": {
    "collapsed": true
   },
   "outputs": [],
   "source": [
    "df['conyuemp'].fillna('UNKNOWN', inplace=True)"
   ]
  },
  {
   "cell_type": "code",
   "execution_count": null,
   "metadata": {
    "collapsed": false
   },
   "outputs": [],
   "source": [
    "df['conyuemp'].unique()"
   ]
  },
  {
   "cell_type": "code",
   "execution_count": null,
   "metadata": {
    "collapsed": false
   },
   "outputs": [],
   "source": [
    "df['conyuemp'].value_counts()"
   ]
  },
  {
   "cell_type": "code",
   "execution_count": null,
   "metadata": {
    "collapsed": true
   },
   "outputs": [],
   "source": []
  },
  {
   "cell_type": "markdown",
   "metadata": {},
   "source": [
    "Next `canal_entrada` (channel used by the customer to join) : nan -> UNKNOWN"
   ]
  },
  {
   "cell_type": "code",
   "execution_count": null,
   "metadata": {
    "collapsed": false
   },
   "outputs": [],
   "source": [
    "print df['canal_entrada'].isnull().sum(), df['canal_entrada'].shape"
   ]
  },
  {
   "cell_type": "code",
   "execution_count": null,
   "metadata": {
    "collapsed": false
   },
   "outputs": [],
   "source": [
    "df['canal_entrada'].unique()"
   ]
  },
  {
   "cell_type": "code",
   "execution_count": null,
   "metadata": {
    "collapsed": true
   },
   "outputs": [],
   "source": [
    "df['canal_entrada'].fillna('UNKNOWN', inplace=True)"
   ]
  },
  {
   "cell_type": "code",
   "execution_count": null,
   "metadata": {
    "collapsed": false
   },
   "outputs": [],
   "source": [
    "df['canal_entrada'].unique()"
   ]
  },
  {
   "cell_type": "code",
   "execution_count": null,
   "metadata": {
    "collapsed": false
   },
   "outputs": [],
   "source": [
    "df['canal_entrada'].value_counts()"
   ]
  },
  {
   "cell_type": "code",
   "execution_count": null,
   "metadata": {
    "collapsed": true
   },
   "outputs": [],
   "source": []
  },
  {
   "cell_type": "markdown",
   "metadata": {},
   "source": [
    "Next `cod_prov` : nan -> UNKNOWN"
   ]
  },
  {
   "cell_type": "code",
   "execution_count": 31,
   "metadata": {
    "collapsed": false
   },
   "outputs": [
    {
     "data": {
      "text/plain": [
       "array([ 28.,   3.,  15.,   8.,   7.,  35.,  45.,  14.,  30.,  16.,  29.,\n",
       "        23.,  11.,  41.,  46.,  12.,   6.,  32.,  17.,  18.,  13.,  39.,\n",
       "        10.,  52.,  33.,  50.,  22.,  44.,  27.,   9.,  31.,  47.,  37.,\n",
       "        26.,  25.,  24.,  20.,  43.,  42.,   2.,  40.,  21.,  36.,   4.,\n",
       "         5.,  34.,  19.,   1.,  49.,  38.,  nan,  48.,  51.])"
      ]
     },
     "execution_count": 31,
     "metadata": {},
     "output_type": "execute_result"
    }
   ],
   "source": [
    "df['cod_prov'].unique()"
   ]
  },
  {
   "cell_type": "code",
   "execution_count": 32,
   "metadata": {
    "collapsed": false
   },
   "outputs": [
    {
     "data": {
      "text/plain": [
       "3996"
      ]
     },
     "execution_count": 32,
     "metadata": {},
     "output_type": "execute_result"
    }
   ],
   "source": [
    "df['cod_prov'].isnull().sum()"
   ]
  },
  {
   "cell_type": "code",
   "execution_count": 33,
   "metadata": {
    "collapsed": false
   },
   "outputs": [
    {
     "name": "stdout",
     "output_type": "stream",
     "text": [
      "3996 53\n",
      "3996 53\n",
      "0 1\n"
     ]
    }
   ],
   "source": [
    "print df['cod_prov'].isnull().sum(), len(df['cod_prov'].unique())\n",
    "print df['nomprov'].isnull().sum(), len(df['nomprov'].unique())\n",
    "print df['tipodom'].isnull().sum(), len(df['tipodom'].unique())"
   ]
  },
  {
   "cell_type": "markdown",
   "metadata": {},
   "source": [
    "**Remove 'tipodom' and 'cod_prov' columns**"
   ]
  },
  {
   "cell_type": "code",
   "execution_count": 34,
   "metadata": {
    "collapsed": true
   },
   "outputs": [],
   "source": [
    "df.drop([\"tipodom\",\"cod_prov\"],axis=1,inplace=True)"
   ]
  },
  {
   "cell_type": "code",
   "execution_count": null,
   "metadata": {
    "collapsed": true
   },
   "outputs": [],
   "source": []
  },
  {
   "cell_type": "markdown",
   "metadata": {},
   "source": [
    "Next `nomprov` : nan -> UNKNOWN"
   ]
  },
  {
   "cell_type": "code",
   "execution_count": 35,
   "metadata": {
    "collapsed": false
   },
   "outputs": [
    {
     "data": {
      "text/plain": [
       "array(['MADRID', 'ALICANTE', 'CORU\\xc3\\x91A, A', 'BARCELONA',\n",
       "       'BALEARS, ILLES', 'PALMAS, LAS', 'TOLEDO', 'CORDOBA', 'MURCIA',\n",
       "       'CUENCA', 'MALAGA', 'JAEN', 'CADIZ', 'SEVILLA', 'VALENCIA',\n",
       "       'CASTELLON', 'BADAJOZ', 'OURENSE', 'GIRONA', 'GRANADA',\n",
       "       'CIUDAD REAL', 'CANTABRIA', 'CACERES', 'MELILLA', 'ASTURIAS',\n",
       "       'ZARAGOZA', 'HUESCA', 'TERUEL', 'LUGO', 'BURGOS', 'NAVARRA',\n",
       "       'VALLADOLID', 'SALAMANCA', 'RIOJA, LA', 'LERIDA', 'LEON',\n",
       "       'GIPUZKOA', 'TARRAGONA', 'SORIA', 'ALBACETE', 'SEGOVIA', 'HUELVA',\n",
       "       'PONTEVEDRA', 'ALMERIA', 'AVILA', 'PALENCIA', 'GUADALAJARA',\n",
       "       'ALAVA', 'ZAMORA', 'SANTA CRUZ DE TENERIFE', nan, 'BIZKAIA', 'CEUTA'], dtype=object)"
      ]
     },
     "execution_count": 35,
     "metadata": {},
     "output_type": "execute_result"
    }
   ],
   "source": [
    "df['nomprov'].unique()"
   ]
  },
  {
   "cell_type": "code",
   "execution_count": 36,
   "metadata": {
    "collapsed": true
   },
   "outputs": [],
   "source": [
    "df.loc[df['nomprov']==\"CORU\\xc3\\x91A, A\",\"nomprov\"] = \"CORUNA\""
   ]
  },
  {
   "cell_type": "code",
   "execution_count": 37,
   "metadata": {
    "collapsed": true
   },
   "outputs": [],
   "source": [
    "df['nomprov'].fillna('UNKNOWN', inplace=True)"
   ]
  },
  {
   "cell_type": "code",
   "execution_count": 38,
   "metadata": {
    "collapsed": true
   },
   "outputs": [
    {
     "data": {
      "text/plain": [
       "MADRID                    298250\n",
       "BARCELONA                  88579\n",
       "VALENCIA                   47996\n",
       "SEVILLA                    40492\n",
       "CORUNA                     28715\n",
       "MURCIA                     27752\n",
       "MALAGA                     24546\n",
       "ZARAGOZA                   23160\n",
       "ALICANTE                   22147\n",
       "CADIZ                      19795\n",
       "PONTEVEDRA                 18961\n",
       "ASTURIAS                   18300\n",
       "PALMAS, LAS                16332\n",
       "VALLADOLID                 16018\n",
       "BADAJOZ                    12936\n",
       "TOLEDO                     12658\n",
       "BIZKAIA                    12494\n",
       "GRANADA                    12392\n",
       "SALAMANCA                  11071\n",
       "CANTABRIA                  10824\n",
       "CORDOBA                     9831\n",
       "BALEARS, ILLES              9130\n",
       "CACERES                     8598\n",
       "CIUDAD REAL                 8075\n",
       "HUELVA                      8018\n",
       "ALBACETE                    7780\n",
       "TARRAGONA                   7631\n",
       "CASTELLON                   7145\n",
       "BURGOS                      6645\n",
       "GIRONA                      6304\n",
       "NAVARRA                     6010\n",
       "RIOJA, LA                   5806\n",
       "LEON                        5717\n",
       "LUGO                        5656\n",
       "OURENSE                     5605\n",
       "LERIDA                      5430\n",
       "SANTA CRUZ DE TENERIFE      5097\n",
       "GIPUZKOA                    4869\n",
       "GUADALAJARA                 4678\n",
       "JAEN                        4496\n",
       "ALMERIA                     4307\n",
       "UNKNOWN                     3996\n",
       "CUENCA                      3788\n",
       "ZAMORA                      3430\n",
       "PALENCIA                    3311\n",
       "SEGOVIA                     2881\n",
       "HUESCA                      2789\n",
       "AVILA                       2628\n",
       "ALAVA                       2591\n",
       "TERUEL                      1538\n",
       "SORIA                       1261\n",
       "MELILLA                      643\n",
       "CEUTA                        513\n",
       "Name: nomprov, dtype: int64"
      ]
     },
     "execution_count": 38,
     "metadata": {},
     "output_type": "execute_result"
    }
   ],
   "source": [
    "df['nomprov'].value_counts()"
   ]
  },
  {
   "cell_type": "markdown",
   "metadata": {},
   "source": [
    "Number of clients with unknown `nomprov` staying in Spain"
   ]
  },
  {
   "cell_type": "code",
   "execution_count": 39,
   "metadata": {
    "collapsed": false
   },
   "outputs": [
    {
     "data": {
      "text/plain": [
       "5"
      ]
     },
     "execution_count": 39,
     "metadata": {},
     "output_type": "execute_result"
    }
   ],
   "source": [
    "((df['nomprov'] == \"UNKNOWN\") & (df['pais_residencia'] == \"ES\")).sum()"
   ]
  },
  {
   "cell_type": "markdown",
   "metadata": {},
   "source": [
    "Number of clients with unknown `nomprov` not staying in Spain"
   ]
  },
  {
   "cell_type": "code",
   "execution_count": 40,
   "metadata": {
    "collapsed": false
   },
   "outputs": [
    {
     "data": {
      "text/plain": [
       "3991"
      ]
     },
     "execution_count": 40,
     "metadata": {},
     "output_type": "execute_result"
    }
   ],
   "source": [
    "((df['nomprov'] == \"UNKNOWN\") & (df['pais_residencia'] != \"ES\")).sum()"
   ]
  },
  {
   "cell_type": "markdown",
   "metadata": {},
   "source": [
    "Number of clients not staying in Spain\n",
    "\n"
   ]
  },
  {
   "cell_type": "code",
   "execution_count": 41,
   "metadata": {
    "collapsed": false
   },
   "outputs": [
    {
     "data": {
      "text/plain": [
       "3996"
      ]
     },
     "execution_count": 41,
     "metadata": {},
     "output_type": "execute_result"
    }
   ],
   "source": [
    "((df['pais_residencia'] != \"ES\")).sum()"
   ]
  },
  {
   "cell_type": "markdown",
   "metadata": {},
   "source": [
    "Number of clients not staying in Spain with known (spanish) `nomprov`"
   ]
  },
  {
   "cell_type": "code",
   "execution_count": 42,
   "metadata": {
    "collapsed": false
   },
   "outputs": [
    {
     "name": "stdout",
     "output_type": "stream",
     "text": [
      "5\n"
     ]
    },
    {
     "data": {
      "text/html": [
       "<div>\n",
       "<table border=\"1\" class=\"dataframe\">\n",
       "  <thead>\n",
       "    <tr style=\"text-align: right;\">\n",
       "      <th></th>\n",
       "      <th>nomprov</th>\n",
       "      <th>pais_residencia</th>\n",
       "      <th>renta</th>\n",
       "      <th>ind_empleado</th>\n",
       "      <th>segmento</th>\n",
       "    </tr>\n",
       "  </thead>\n",
       "  <tbody>\n",
       "    <tr>\n",
       "      <th>570335</th>\n",
       "      <td>GUADALAJARA</td>\n",
       "      <td>PY</td>\n",
       "      <td>128107.92</td>\n",
       "      <td>N</td>\n",
       "      <td>02 - PARTICULARES</td>\n",
       "    </tr>\n",
       "    <tr>\n",
       "      <th>575865</th>\n",
       "      <td>PALMAS, LAS</td>\n",
       "      <td>PY</td>\n",
       "      <td>NA</td>\n",
       "      <td>N</td>\n",
       "      <td>02 - PARTICULARES</td>\n",
       "    </tr>\n",
       "    <tr>\n",
       "      <th>669958</th>\n",
       "      <td>MADRID</td>\n",
       "      <td>BO</td>\n",
       "      <td>94299.96</td>\n",
       "      <td>N</td>\n",
       "      <td>02 - PARTICULARES</td>\n",
       "    </tr>\n",
       "    <tr>\n",
       "      <th>672229</th>\n",
       "      <td>MADRID</td>\n",
       "      <td>IT</td>\n",
       "      <td>149309.34</td>\n",
       "      <td>N</td>\n",
       "      <td>02 - PARTICULARES</td>\n",
       "    </tr>\n",
       "    <tr>\n",
       "      <th>678727</th>\n",
       "      <td>MADRID</td>\n",
       "      <td>DE</td>\n",
       "      <td>141913.68</td>\n",
       "      <td>N</td>\n",
       "      <td>02 - PARTICULARES</td>\n",
       "    </tr>\n",
       "  </tbody>\n",
       "</table>\n",
       "</div>"
      ],
      "text/plain": [
       "            nomprov pais_residencia        renta ind_empleado  \\\n",
       "570335  GUADALAJARA              PY    128107.92            N   \n",
       "575865  PALMAS, LAS              PY           NA            N   \n",
       "669958       MADRID              BO     94299.96            N   \n",
       "672229       MADRID              IT    149309.34            N   \n",
       "678727       MADRID              DE    141913.68            N   \n",
       "\n",
       "                 segmento  \n",
       "570335  02 - PARTICULARES  \n",
       "575865  02 - PARTICULARES  \n",
       "669958  02 - PARTICULARES  \n",
       "672229  02 - PARTICULARES  \n",
       "678727  02 - PARTICULARES  "
      ]
     },
     "execution_count": 42,
     "metadata": {},
     "output_type": "execute_result"
    }
   ],
   "source": [
    "mask = (df['nomprov'] != \"UNKNOWN\") & (df['pais_residencia'] != \"ES\")\n",
    "print mask.sum()\n",
    "df[mask][['nomprov', 'pais_residencia', 'renta', 'ind_empleado', 'segmento']]"
   ]
  },
  {
   "cell_type": "code",
   "execution_count": null,
   "metadata": {
    "collapsed": true
   },
   "outputs": [],
   "source": []
  },
  {
   "cell_type": "markdown",
   "metadata": {},
   "source": [
    "**Remove clients not staying in Spain with known (spanish) `nomprov`**"
   ]
  },
  {
   "cell_type": "code",
   "execution_count": null,
   "metadata": {
    "collapsed": true
   },
   "outputs": [],
   "source": [
    "mask = (df['nomprov'] != \"UNKNOWN\") & (df['pais_residencia'] != \"ES\")\n",
    "df.drop(df[mask].index, inplace=True)"
   ]
  },
  {
   "cell_type": "code",
   "execution_count": null,
   "metadata": {
    "collapsed": true
   },
   "outputs": [],
   "source": []
  },
  {
   "cell_type": "code",
   "execution_count": null,
   "metadata": {
    "collapsed": true
   },
   "outputs": [],
   "source": []
  },
  {
   "cell_type": "markdown",
   "metadata": {},
   "source": [
    "Target labels : `ind_nomina_ult1`, `ind_nom_pens_ult1` : nan -> 0"
   ]
  },
  {
   "cell_type": "code",
   "execution_count": null,
   "metadata": {
    "collapsed": false
   },
   "outputs": [],
   "source": [
    "print df.ind_nomina_ult1.isnull().sum(), df.ind_nom_pens_ult1.isnull().sum()"
   ]
  },
  {
   "cell_type": "markdown",
   "metadata": {},
   "source": [
    "I could try to fill in missing values for products by looking at previous months, but since it's such a small number of values for now I'll take the cheap way out."
   ]
  },
  {
   "cell_type": "code",
   "execution_count": null,
   "metadata": {
    "collapsed": true
   },
   "outputs": [],
   "source": [
    "df.loc[df.ind_nomina_ult1.isnull(), \"ind_nomina_ult1\"] = 0\n",
    "df.loc[df.ind_nom_pens_ult1.isnull(), \"ind_nom_pens_ult1\"] = 0"
   ]
  },
  {
   "cell_type": "code",
   "execution_count": null,
   "metadata": {
    "collapsed": true
   },
   "outputs": [],
   "source": []
  },
  {
   "cell_type": "markdown",
   "metadata": {},
   "source": [
    "Fix nan for `segmento` by \"UNKNOWN\""
   ]
  },
  {
   "cell_type": "code",
   "execution_count": null,
   "metadata": {
    "collapsed": false
   },
   "outputs": [],
   "source": [
    "print df['segmento'].isnull().sum(), len(df['segmento'].unique())"
   ]
  },
  {
   "cell_type": "code",
   "execution_count": null,
   "metadata": {
    "collapsed": true
   },
   "outputs": [],
   "source": [
    "df['segmento'].fillna('UNKNOWN', inplace=True)"
   ]
  },
  {
   "cell_type": "code",
   "execution_count": null,
   "metadata": {
    "collapsed": false
   },
   "outputs": [],
   "source": [
    "df['segmento'].value_counts()"
   ]
  },
  {
   "cell_type": "code",
   "execution_count": null,
   "metadata": {
    "collapsed": true
   },
   "outputs": [],
   "source": []
  },
  {
   "cell_type": "markdown",
   "metadata": {},
   "source": [
    "### Now for gross income, aka `renta`"
   ]
  },
  {
   "cell_type": "code",
   "execution_count": null,
   "metadata": {
    "collapsed": false
   },
   "outputs": [],
   "source": [
    "print df['renta'].isnull().sum(), len(df['renta'].unique())"
   ]
  },
  {
   "cell_type": "markdown",
   "metadata": {},
   "source": [
    "Display mean, std, median income in a region"
   ]
  },
  {
   "cell_type": "code",
   "execution_count": null,
   "metadata": {
    "collapsed": false
   },
   "outputs": [],
   "source": [
    "incomes_gb = df[df['renta'].notnull()].groupby('nomprov')"
   ]
  },
  {
   "cell_type": "code",
   "execution_count": null,
   "metadata": {
    "collapsed": false
   },
   "outputs": [],
   "source": [
    "incomes = incomes_gb.agg({\"renta\":{\"count\": size, \"median\":median, \"mean\": mean, \"std\": std, \"min\": min, \"max\": max}})\n",
    "incomes.sort_values(by=(\"renta\",\"median\"),inplace=True)\n",
    "incomes.reset_index(inplace=True)"
   ]
  },
  {
   "cell_type": "code",
   "execution_count": null,
   "metadata": {
    "collapsed": false
   },
   "outputs": [],
   "source": [
    "incomes.tail()"
   ]
  },
  {
   "cell_type": "code",
   "execution_count": null,
   "metadata": {
    "collapsed": false
   },
   "outputs": [],
   "source": [
    "print len(incomes['nomprov'].unique()), len(incomes['nomprov'])"
   ]
  },
  {
   "cell_type": "code",
   "execution_count": null,
   "metadata": {
    "collapsed": false
   },
   "outputs": [],
   "source": [
    "with sns.plotting_context(\"notebook\", font_scale=1.5):\n",
    "    plt.figure(figsize=(16,4))\n",
    "    sns.set_style(\"whitegrid\")\n",
    "    sns.boxplot(x=\"nomprov\", y=\"renta\", data=df[df['renta'].notnull()])\n",
    "    plt.xlabel(\"Region\")\n",
    "    plt.xticks(rotation='vertical')\n",
    "    plt.ylabel('Income', fontsize=12)"
   ]
  },
  {
   "cell_type": "markdown",
   "metadata": {},
   "source": [
    "Display income per region, employee index, segment, gender"
   ]
  },
  {
   "cell_type": "code",
   "execution_count": null,
   "metadata": {
    "collapsed": false
   },
   "outputs": [],
   "source": [
    "incomes_gb = df[df['renta'].notnull()].groupby(['nomprov', 'ind_empleado', 'segmento', 'sexo'])"
   ]
  },
  {
   "cell_type": "code",
   "execution_count": null,
   "metadata": {
    "collapsed": true
   },
   "outputs": [],
   "source": [
    "incomes_stats = incomes_gb.agg({\"renta\":{\"count\": size, \"median\":median, \"mean\": mean, \"std\": std, \"min\": min, \"max\": max}})\n",
    "incomes_stats.sort_values(by=(\"renta\",\"median\"),inplace=True)"
   ]
  },
  {
   "cell_type": "code",
   "execution_count": null,
   "metadata": {
    "collapsed": false,
    "scrolled": true
   },
   "outputs": [],
   "source": [
    "incomes_stats.loc['MADRID']"
   ]
  },
  {
   "cell_type": "code",
   "execution_count": null,
   "metadata": {
    "collapsed": true
   },
   "outputs": [],
   "source": []
  },
  {
   "cell_type": "markdown",
   "metadata": {},
   "source": [
    "Analyze those who do not declare their incomes"
   ]
  },
  {
   "cell_type": "code",
   "execution_count": null,
   "metadata": {
    "collapsed": false
   },
   "outputs": [],
   "source": [
    "print ((df['renta'].isnull()) & (df['nomprov'] == \"MADRID\")).sum(), ((df['renta'].notnull()) & (df['nomprov'] == \"MADRID\")).sum()"
   ]
  },
  {
   "cell_type": "code",
   "execution_count": null,
   "metadata": {
    "collapsed": true
   },
   "outputs": [],
   "source": [
    "nan_incomes_gb = df[df['renta'].isnull()].groupby(['nomprov', 'ind_empleado', 'segmento', 'sexo'])"
   ]
  },
  {
   "cell_type": "code",
   "execution_count": null,
   "metadata": {
    "collapsed": true
   },
   "outputs": [],
   "source": [
    "nan_incomes_stats = nan_incomes_gb.agg('size')"
   ]
  },
  {
   "cell_type": "code",
   "execution_count": null,
   "metadata": {
    "collapsed": false
   },
   "outputs": [],
   "source": [
    "nan_incomes_stats.loc['ALAVA']"
   ]
  },
  {
   "cell_type": "code",
   "execution_count": null,
   "metadata": {
    "collapsed": true
   },
   "outputs": [],
   "source": []
  },
  {
   "cell_type": "markdown",
   "metadata": {},
   "source": [
    "Fill `renta` nan -> median per region, employee index, segment, gender if not defined replace by -99"
   ]
  },
  {
   "cell_type": "code",
   "execution_count": null,
   "metadata": {
    "collapsed": true
   },
   "outputs": [],
   "source": [
    "incomes_gb = df[df['renta'].notnull()].groupby(['nomprov', 'ind_empleado', 'segmento', 'sexo'])\n",
    "incomes_stats = incomes_gb.agg(\"median\")\n",
    "nan_incomes_gb = df[df['renta'].isnull()].groupby(['nomprov', 'ind_empleado', 'segmento', 'sexo'])\n",
    "nan_incomes_stats = nan_incomes_gb.agg(\"size\")"
   ]
  },
  {
   "cell_type": "code",
   "execution_count": null,
   "metadata": {
    "collapsed": false
   },
   "outputs": [],
   "source": [
    "for key, group_value in nan_incomes_gb:\n",
    "    if key in incomes_stats.index:\n",
    "        df.loc[group_value.index, 'renta'] = incomes_stats.loc[key]['renta']\n",
    "#         print \"Set value : \", incomes_stats.loc[key]['renta']\n",
    "    else:\n",
    "#         print \"Key is not found : \", key, \"Count = \", nan_incomes_stats.loc[key]\n",
    "#         print \"Set invalid value : -99\"\n",
    "        df.loc[group_value.index, 'renta'] = -99\n",
    "    "
   ]
  },
  {
   "cell_type": "code",
   "execution_count": null,
   "metadata": {
    "collapsed": false
   },
   "outputs": [],
   "source": [
    "print df['renta'].isnull().sum(), len(df['renta'].unique())"
   ]
  },
  {
   "cell_type": "code",
   "execution_count": null,
   "metadata": {
    "collapsed": true
   },
   "outputs": [],
   "source": []
  },
  {
   "cell_type": "code",
   "execution_count": null,
   "metadata": {
    "collapsed": false,
    "scrolled": true
   },
   "outputs": [],
   "source": [
    "df.isnull().any().sum()"
   ]
  },
  {
   "cell_type": "code",
   "execution_count": null,
   "metadata": {
    "collapsed": true
   },
   "outputs": [],
   "source": [
    "df.isnull().any()"
   ]
  },
  {
   "cell_type": "code",
   "execution_count": null,
   "metadata": {
    "collapsed": true
   },
   "outputs": [],
   "source": []
  },
  {
   "cell_type": "code",
   "execution_count": null,
   "metadata": {
    "collapsed": false
   },
   "outputs": [],
   "source": [
    "df['indrel_1mes'].unique()"
   ]
  },
  {
   "cell_type": "code",
   "execution_count": null,
   "metadata": {
    "collapsed": true
   },
   "outputs": [],
   "source": [
    "df['indrel_1mes'].fillna('UNKNOWN', inplace=True)"
   ]
  },
  {
   "cell_type": "code",
   "execution_count": null,
   "metadata": {
    "collapsed": false
   },
   "outputs": [],
   "source": [
    "df['indrel_1mes'].value_counts()"
   ]
  },
  {
   "cell_type": "code",
   "execution_count": null,
   "metadata": {
    "collapsed": false
   },
   "outputs": [],
   "source": [
    "df['indrel_1mes'] = df['indrel_1mes'].astype(str).str.replace('.0', '')"
   ]
  },
  {
   "cell_type": "code",
   "execution_count": null,
   "metadata": {
    "collapsed": false
   },
   "outputs": [],
   "source": [
    "df['indrel_1mes'].value_counts()"
   ]
  },
  {
   "cell_type": "code",
   "execution_count": null,
   "metadata": {
    "collapsed": true
   },
   "outputs": [],
   "source": []
  },
  {
   "cell_type": "code",
   "execution_count": null,
   "metadata": {
    "collapsed": true
   },
   "outputs": [],
   "source": []
  },
  {
   "cell_type": "code",
   "execution_count": null,
   "metadata": {
    "collapsed": true
   },
   "outputs": [],
   "source": []
  },
  {
   "cell_type": "code",
   "execution_count": null,
   "metadata": {
    "collapsed": false
   },
   "outputs": [],
   "source": [
    "df['indrel'].unique()"
   ]
  },
  {
   "cell_type": "code",
   "execution_count": null,
   "metadata": {
    "collapsed": true
   },
   "outputs": [],
   "source": []
  },
  {
   "cell_type": "code",
   "execution_count": null,
   "metadata": {
    "collapsed": false
   },
   "outputs": [],
   "source": [
    "df['tiprel_1mes'].unique()"
   ]
  },
  {
   "cell_type": "code",
   "execution_count": null,
   "metadata": {
    "collapsed": true
   },
   "outputs": [],
   "source": [
    "df['tiprel_1mes'].fillna('UNKNOWN', inplace=True)"
   ]
  },
  {
   "cell_type": "code",
   "execution_count": null,
   "metadata": {
    "collapsed": false
   },
   "outputs": [],
   "source": [
    "df['tiprel_1mes'].value_counts()"
   ]
  },
  {
   "cell_type": "code",
   "execution_count": null,
   "metadata": {
    "collapsed": false
   },
   "outputs": [],
   "source": [
    "df['fecha_alta'] = pd.to_datetime(df['fecha_alta'])\n",
    "df['fecha_dato'] = pd.to_datetime(df['fecha_dato'])"
   ]
  },
  {
   "cell_type": "code",
   "execution_count": null,
   "metadata": {
    "collapsed": false
   },
   "outputs": [],
   "source": [
    "((df['indrel_1mes'] == \"UNKNOWN\") & (df['tiprel_1mes'] == \"UNKNOWN\") & (df['fecha_dato'].dt.month == df['fecha_alta'].dt.month)).sum()"
   ]
  },
  {
   "cell_type": "code",
   "execution_count": null,
   "metadata": {
    "collapsed": false
   },
   "outputs": [],
   "source": [
    "mask = (df['indrel_1mes'] == \"UNKNOWN\") & (df['tiprel_1mes'] == \"UNKNOWN\") & (df['fecha_dato'].dt.month == df['fecha_alta'].dt.month)"
   ]
  },
  {
   "cell_type": "code",
   "execution_count": null,
   "metadata": {
    "collapsed": false
   },
   "outputs": [],
   "source": [
    "df[mask][['fecha_dato', 'fecha_alta', 'ult_fec_cli_1t', 'indrel']].head(10)"
   ]
  },
  {
   "cell_type": "code",
   "execution_count": null,
   "metadata": {
    "collapsed": false
   },
   "outputs": [],
   "source": [
    "#df.loc[df.age < 18,\"age\"]  = df.loc[(df.age >= 18) & (df.age <= 30),\"age\"].mean(skipna=True)\n",
    "#df.loc[df.age > 90,\"age\"] = df.loc[(df.age >= 30) & (df.age <= 90),\"age\"].mean(skipna=True)\n",
    "df.loc[mask & (df['indrel'] == 1), 'indrel_1mes'] = '1'\n",
    "df.loc[mask & (df['indrel'] == 99), 'indrel_1mes'] = '3'\n",
    "df.loc[mask, 'tiprel_1mes'] = 'A'"
   ]
  },
  {
   "cell_type": "code",
   "execution_count": null,
   "metadata": {
    "collapsed": false
   },
   "outputs": [],
   "source": [
    "df['tiprel_1mes'].value_counts()"
   ]
  },
  {
   "cell_type": "code",
   "execution_count": null,
   "metadata": {
    "collapsed": false
   },
   "outputs": [],
   "source": [
    "df['indrel_1mes'].value_counts()"
   ]
  },
  {
   "cell_type": "code",
   "execution_count": null,
   "metadata": {
    "collapsed": true
   },
   "outputs": [],
   "source": []
  },
  {
   "cell_type": "code",
   "execution_count": null,
   "metadata": {
    "collapsed": true
   },
   "outputs": [],
   "source": []
  },
  {
   "cell_type": "code",
   "execution_count": null,
   "metadata": {
    "collapsed": true
   },
   "outputs": [],
   "source": []
  },
  {
   "cell_type": "code",
   "execution_count": null,
   "metadata": {
    "collapsed": true
   },
   "outputs": [],
   "source": []
  },
  {
   "cell_type": "code",
   "execution_count": null,
   "metadata": {
    "collapsed": true
   },
   "outputs": [],
   "source": []
  },
  {
   "cell_type": "code",
   "execution_count": null,
   "metadata": {
    "collapsed": true
   },
   "outputs": [],
   "source": [
    "train_month['logrenta'] = np.log(train_month['renta'] + 1)"
   ]
  },
  {
   "cell_type": "markdown",
   "metadata": {},
   "source": [
    "Apply PCA to reduce the number of entries"
   ]
  },
  {
   "cell_type": "code",
   "execution_count": null,
   "metadata": {
    "collapsed": true
   },
   "outputs": [],
   "source": [
    "from sklearn.decomposition import PCA"
   ]
  },
  {
   "cell_type": "code",
   "execution_count": null,
   "metadata": {
    "collapsed": true
   },
   "outputs": [],
   "source": [
    "pca = PCA(n_components=10000)"
   ]
  },
  {
   "cell_type": "code",
   "execution_count": null,
   "metadata": {
    "collapsed": false
   },
   "outputs": [],
   "source": [
    "train_month_t = train_month.transpose()\n",
    "reduced_train_month_t = pca.fit_transform(train_month_t)"
   ]
  },
  {
   "cell_type": "code",
   "execution_count": null,
   "metadata": {
    "collapsed": true
   },
   "outputs": [],
   "source": []
  },
  {
   "cell_type": "code",
   "execution_count": null,
   "metadata": {
    "collapsed": true
   },
   "outputs": [],
   "source": []
  },
  {
   "cell_type": "code",
   "execution_count": null,
   "metadata": {
    "collapsed": true
   },
   "outputs": [],
   "source": []
  },
  {
   "cell_type": "code",
   "execution_count": null,
   "metadata": {
    "collapsed": false
   },
   "outputs": [],
   "source": [
    "unique_ids   = pd.Series(train_month[\"ncodpers\"].unique())\n",
    "limit_people = 50000\n",
    "unique_id    = unique_ids.sample(n=limit_people)\n",
    "reduced_train_month = train_month[train_month.ncodpers.isin(unique_id)]\n",
    "month_reduced_stats = reduced_train_month.describe()\n",
    "month_reduced_stats"
   ]
  },
  {
   "cell_type": "code",
   "execution_count": null,
   "metadata": {
    "collapsed": false
   },
   "outputs": [],
   "source": [
    "res = np.abs(month_full_stats - month_reduced_stats).drop(['count', '25%', '50%', '75%']).drop(['ncodpers', 'renta'], axis=1)\n",
    "print np.sum(res, axis=1)\n",
    "print np.sum(np.sum(res, axis=1))\n",
    "res"
   ]
  },
  {
   "cell_type": "code",
   "execution_count": null,
   "metadata": {
    "collapsed": true
   },
   "outputs": [],
   "source": [
    "unique_ids   = pd.Series(train_month[\"ncodpers\"].unique())\n",
    "limit_people = 50000\n",
    "\n",
    "counter = 100\n",
    "found = False\n",
    "tol = 0.1\n",
    "while counter > 0 and not found:\n",
    "    counter -= 1\n",
    "    unique_id = unique_ids.sample(n=limit_people)\n",
    "    reduced_train_month = train_month[train_month.ncodpers.isin(unique_id)]\n",
    "    month_reduced_stats = reduced_train_month.describe()\n",
    "    err = np.abs(month_full_stats - month_reduced_stats).drop(['count', '25%', '50%', '75%']).drop(['ncodpers', 'renta'], axis=1)\n",
    "    q = np.sum(np.sum(err, axis=1))\n",
    "    print \"counter : \", counter, \" err = \", q\n",
    "    if q < tol:\n",
    "        found = True\n",
    "    \n",
    "assert found, \"Failed to reduce\"\n",
    "\n",
    "month_reduced_stats"
   ]
  },
  {
   "cell_type": "code",
   "execution_count": null,
   "metadata": {
    "collapsed": true
   },
   "outputs": [],
   "source": [
    "renta = np.log(train_month['renta'] + 1)\n",
    "renta.hist(bins=1000)"
   ]
  },
  {
   "cell_type": "code",
   "execution_count": null,
   "metadata": {
    "collapsed": true
   },
   "outputs": [],
   "source": [
    "renta = np.log(reduced_train_month['renta'] + 1)\n",
    "renta.hist(bins=1000)"
   ]
  }
 ],
 "metadata": {
  "kernelspec": {
   "display_name": "Python 2",
   "language": "python",
   "name": "python2"
  },
  "language_info": {
   "codemirror_mode": {
    "name": "ipython",
    "version": 2
   },
   "file_extension": ".py",
   "mimetype": "text/x-python",
   "name": "python",
   "nbconvert_exporter": "python",
   "pygments_lexer": "ipython2",
   "version": "2.7.12"
  }
 },
 "nbformat": 4,
 "nbformat_minor": 1
}
