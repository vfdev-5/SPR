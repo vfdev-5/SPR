{
 "cells": [
  {
   "cell_type": "markdown",
   "metadata": {},
   "source": [
    "# SPR Data analysis"
   ]
  },
  {
   "cell_type": "code",
   "execution_count": 1,
   "metadata": {
    "collapsed": false
   },
   "outputs": [
    {
     "name": "stderr",
     "output_type": "stream",
     "text": [
      "/usr/local/lib/python2.7/site-packages/matplotlib/font_manager.py:273: UserWarning: Matplotlib is building the font cache using fc-list. This may take a moment.\n",
      "  warnings.warn('Matplotlib is building the font cache using fc-list. This may take a moment.')\n"
     ]
    },
    {
     "name": "stdout",
     "output_type": "stream",
     "text": [
      "Populating the interactive namespace from numpy and matplotlib\n"
     ]
    }
   ],
   "source": [
    "import numpy as np\n",
    "import pandas as pd\n",
    "import seaborn as sns\n",
    "import matplotlib.pyplot as plt\n",
    "%pylab inline\n",
    "pylab.rcParams['figure.figsize'] = (10, 6)\n",
    "color = sns.color_palette()"
   ]
  },
  {
   "cell_type": "markdown",
   "metadata": {},
   "source": [
    "**Dataset Size:**\n",
    "\n",
    "First let us check the number of rows in train and test file :\n",
    "- Number of rows in train :  13647309\n",
    "- Number of rows in test :  929615"
   ]
  },
  {
   "cell_type": "markdown",
   "metadata": {},
   "source": [
    "**Dataset columns:**\n",
    "  \n",
    "  \n",
    "Main columns :   \n",
    "\n",
    "- fecha_dato \tThe table is partitioned for this column\n",
    "- ncodpers \tCustomer code\n",
    "- ind_empleado \tEmployee index: A active, B ex employed, F filial, N not employee, P pasive\n",
    "- pais_residencia \tCustomer's Country residence\n",
    "- sexo \tCustomer's sex\n",
    "- age \tAge\n",
    "- fecha_alta \tThe date in which the customer became as the first holder of a contract in the bank\n",
    "- ind_nuevo \tNew customer Index. 1 if the customer registered in the last 6 months.\n",
    "- antiguedad \tCustomer seniority (in months)\n",
    "- indrel \t1 (First/Primary), 99 (Primary customer during the month but not at the end of the month)\n",
    "- ult_fec_cli_1t \tLast date as primary customer (if he isn't at the end of the month)\n",
    "- indrel_1mes \tCustomer type at the beginning of the month ,1 (First/Primary customer), 2 (co-owner ),P (Potential),3 (former primary), 4(former co-owner)\n",
    "- tiprel_1mes \tCustomer relation type at the beginning of the month, A (active), I (inactive), P (former customer),R (Potential)\n",
    "- indresi \tResidence index (S (Yes) or N (No) if the residence country is the same than the bank country)\n",
    "- indext \tForeigner index (S (Yes) or N (No) if the customer's birth country is different than the bank country)\n",
    "- conyuemp \tSpouse index. 1 if the customer is spouse of an employee\n",
    "- canal_entrada \tchannel used by the customer to join\n",
    "- indfall \tDeceased index. N/S\n",
    "- tipodom \tAddres type. 1, primary address\n",
    "- cod_prov \tProvince code (customer's address)\n",
    "- nomprov \tProvince name\n",
    "- ind_actividad_cliente \tActivity index (1, active customer; 0, inactive customer)\n",
    "- renta \tGross income of the household\n",
    "- segmento \tsegmentation: 01 - VIP, 02 - Individuals 03 - college graduated    \n",
    "    \n",
    "    \n",
    "target columns : \n",
    "    \n",
    "- ind_ahor_fin_ult1 \tSaving Account\n",
    "- ind_aval_fin_ult1 \tGuarantees\n",
    "- ind_cco_fin_ult1 \tCurrent Accounts\n",
    "- ind_cder_fin_ult1 \tDerivada Account\n",
    "- ind_cno_fin_ult1 \tPayroll Account\n",
    "- ind_ctju_fin_ult1 \tJunior Account\n",
    "- ind_ctma_fin_ult1 \tMás particular Account\n",
    "- ind_ctop_fin_ult1 \tparticular Account\n",
    "- ind_ctpp_fin_ult1 \tparticular Plus Account\n",
    "- ind_deco_fin_ult1 \tShort-term deposits\n",
    "- ind_deme_fin_ult1 \tMedium-term deposits\n",
    "- ind_dela_fin_ult1 \tLong-term deposits\n",
    "- ind_ecue_fin_ult1 \te-account\n",
    "- ind_fond_fin_ult1 \tFunds\n",
    "- ind_hip_fin_ult1 \tMortgage\n",
    "- ind_plan_fin_ult1 \tPensions\n",
    "- ind_pres_fin_ult1 \tLoans\n",
    "- ind_reca_fin_ult1 \tTaxes\n",
    "- ind_tjcr_fin_ult1 \tCredit Card\n",
    "- ind_valo_fin_ult1 \tSecurities\n",
    "- ind_viv_fin_ult1 \tHome Account\n",
    "- ind_nomina_ult1 \tPayroll\n",
    "- ind_nom_pens_ult1 \tPensions\n",
    "- ind_recibo_ult1 \tDirect Debit    \n",
    "    "
   ]
  },
  {
   "cell_type": "code",
   "execution_count": 2,
   "metadata": {
    "collapsed": true
   },
   "outputs": [],
   "source": [
    "TARGET_LABELS = ['ind_ahor_fin_ult1', 'ind_aval_fin_ult1', 'ind_cco_fin_ult1',\n",
    " 'ind_cder_fin_ult1', 'ind_cno_fin_ult1', 'ind_ctju_fin_ult1',\n",
    " 'ind_ctma_fin_ult1', 'ind_ctop_fin_ult1', 'ind_ctpp_fin_ult1',\n",
    " 'ind_deco_fin_ult1', 'ind_deme_fin_ult1', 'ind_dela_fin_ult1',\n",
    " 'ind_ecue_fin_ult1', 'ind_fond_fin_ult1', 'ind_hip_fin_ult1',\n",
    " 'ind_plan_fin_ult1', 'ind_pres_fin_ult1', 'ind_reca_fin_ult1',\n",
    " 'ind_tjcr_fin_ult1', 'ind_valo_fin_ult1', 'ind_viv_fin_ult1',\n",
    " 'ind_nomina_ult1', 'ind_nom_pens_ult1', 'ind_recibo_ult1']"
   ]
  },
  {
   "cell_type": "markdown",
   "metadata": {},
   "source": [
    "## Data stats: data per month representations"
   ]
  },
  {
   "cell_type": "code",
   "execution_count": 3,
   "metadata": {
    "collapsed": false
   },
   "outputs": [],
   "source": [
    "data_path = \"data/\"\n",
    "train = pd.read_csv(data_path+\"train_ver2.csv\", usecols=['fecha_dato', 'ncodpers'], parse_dates=['fecha_dato'])"
   ]
  },
  {
   "cell_type": "code",
   "execution_count": 4,
   "metadata": {
    "collapsed": true
   },
   "outputs": [],
   "source": [
    "gb = train.groupby('fecha_dato')\n",
    "data_count_per_month = gb.agg('size')"
   ]
  },
  {
   "cell_type": "code",
   "execution_count": 5,
   "metadata": {
    "collapsed": false
   },
   "outputs": [],
   "source": [
    "month_start_end_row_indices = {}\n",
    "for key, group_value in gb:\n",
    "    month_start_end_row_indices[key] = [group_value.index[0], group_value.index[-1]]\n",
    "    \n",
    "#month_start_end_row_indices    "
   ]
  },
  {
   "cell_type": "code",
   "execution_count": 6,
   "metadata": {
    "collapsed": false,
    "scrolled": false
   },
   "outputs": [
    {
     "data": {
      "image/png": "[encoded data removed]",
      "text/plain": [
       "<matplotlib.figure.Figure at 0x10ecd8c50>"
      ]
     },
     "metadata": {},
     "output_type": "display_data"
    }
   ],
   "source": [
    "plt.figure(figsize=(12,4))\n",
    "\n",
    "#values = np.log((data_count_per_month.values - np.min(data_count_per_month.values)) + 1)\n",
    "values = data_count_per_month.values\n",
    "\n",
    "sns.barplot(data_count_per_month.index, values, alpha=0.8, color=color[2])\n",
    "plt.ylabel('Data quantity, counts', fontsize=12)\n",
    "plt.xlabel('Data time span, months', fontsize=12)\n",
    "plt.xticks(rotation='vertical')\n",
    "plt.show()"
   ]
  },
  {
   "cell_type": "code",
   "execution_count": 7,
   "metadata": {
    "collapsed": true
   },
   "outputs": [],
   "source": [
    "del train\n",
    "del gb"
   ]
  },
  {
   "cell_type": "markdown",
   "metadata": {},
   "source": [
    "### Analyse a month"
   ]
  },
  {
   "cell_type": "markdown",
   "metadata": {},
   "source": [
    "Read a month"
   ]
  },
  {
   "cell_type": "code",
   "execution_count": 8,
   "metadata": {
    "collapsed": false
   },
   "outputs": [
    {
     "name": "stderr",
     "output_type": "stream",
     "text": [
      "/usr/local/lib/python2.7/site-packages/IPython/core/interactiveshell.py:2705: DtypeWarning: Columns (15) have mixed types. Specify dtype option on import or set low_memory=False.\n",
      "  interactivity=interactivity, compiler=compiler, result=result)\n"
     ]
    }
   ],
   "source": [
    "month_key=pd.Timestamp('2015-01-28 00:00:00')\n",
    "skiprows = month_start_end_row_indices[month_key][0]\n",
    "nrows = month_start_end_row_indices[month_key][1] - skiprows + 1\n",
    "train_month = pd.read_csv(data_path+\"train_ver2.csv\", skiprows=range(1, skiprows+1), nrows=nrows)"
   ]
  },
  {
   "cell_type": "code",
   "execution_count": 9,
   "metadata": {
    "collapsed": false
   },
   "outputs": [
    {
     "name": "stderr",
     "output_type": "stream",
     "text": [
      "/usr/local/lib/python2.7/site-packages/numpy/lib/function_base.py:3823: RuntimeWarning: Invalid value encountered in percentile\n",
      "  RuntimeWarning)\n"
     ]
    },
    {
     "data": {
      "text/html": [
       "<div>\n",
       "<table border=\"1\" class=\"dataframe\">\n",
       "  <thead>\n",
       "    <tr style=\"text-align: right;\">\n",
       "      <th></th>\n",
       "      <th>ncodpers</th>\n",
       "      <th>ind_nuevo</th>\n",
       "      <th>indrel</th>\n",
       "      <th>indrel_1mes</th>\n",
       "      <th>tipodom</th>\n",
       "      <th>cod_prov</th>\n",
       "      <th>ind_actividad_cliente</th>\n",
       "      <th>renta</th>\n",
       "      <th>ind_ahor_fin_ult1</th>\n",
       "      <th>ind_aval_fin_ult1</th>\n",
       "      <th>...</th>\n",
       "      <th>ind_hip_fin_ult1</th>\n",
       "      <th>ind_plan_fin_ult1</th>\n",
       "      <th>ind_pres_fin_ult1</th>\n",
       "      <th>ind_reca_fin_ult1</th>\n",
       "      <th>ind_tjcr_fin_ult1</th>\n",
       "      <th>ind_valo_fin_ult1</th>\n",
       "      <th>ind_viv_fin_ult1</th>\n",
       "      <th>ind_nomina_ult1</th>\n",
       "      <th>ind_nom_pens_ult1</th>\n",
       "      <th>ind_recibo_ult1</th>\n",
       "    </tr>\n",
       "  </thead>\n",
       "  <tbody>\n",
       "    <tr>\n",
       "      <th>count</th>\n",
       "      <td>6.254570e+05</td>\n",
       "      <td>618504.000000</td>\n",
       "      <td>618504.000000</td>\n",
       "      <td>618504.000000</td>\n",
       "      <td>618504.0</td>\n",
       "      <td>614826.000000</td>\n",
       "      <td>618504.000000</td>\n",
       "      <td>5.138790e+05</td>\n",
       "      <td>625457.000000</td>\n",
       "      <td>625457.000000</td>\n",
       "      <td>...</td>\n",
       "      <td>625457.000000</td>\n",
       "      <td>625457.000000</td>\n",
       "      <td>625457.000000</td>\n",
       "      <td>625457.000000</td>\n",
       "      <td>625457.000000</td>\n",
       "      <td>625457.000000</td>\n",
       "      <td>625457.000000</td>\n",
       "      <td>622346.000000</td>\n",
       "      <td>622346.000000</td>\n",
       "      <td>625457.000000</td>\n",
       "    </tr>\n",
       "    <tr>\n",
       "      <th>mean</th>\n",
       "      <td>7.763354e+05</td>\n",
       "      <td>0.000296</td>\n",
       "      <td>1.120895</td>\n",
       "      <td>1.000095</td>\n",
       "      <td>1.0</td>\n",
       "      <td>26.669173</td>\n",
       "      <td>0.537777</td>\n",
       "      <td>1.345990e+05</td>\n",
       "      <td>0.000141</td>\n",
       "      <td>0.000030</td>\n",
       "      <td>...</td>\n",
       "      <td>0.008005</td>\n",
       "      <td>0.011879</td>\n",
       "      <td>0.003756</td>\n",
       "      <td>0.061216</td>\n",
       "      <td>0.056939</td>\n",
       "      <td>0.032397</td>\n",
       "      <td>0.005171</td>\n",
       "      <td>0.062658</td>\n",
       "      <td>0.069625</td>\n",
       "      <td>0.152850</td>\n",
       "    </tr>\n",
       "    <tr>\n",
       "      <th>std</th>\n",
       "      <td>4.055675e+05</td>\n",
       "      <td>0.017198</td>\n",
       "      <td>3.439928</td>\n",
       "      <td>0.013753</td>\n",
       "      <td>0.0</td>\n",
       "      <td>12.676776</td>\n",
       "      <td>0.498571</td>\n",
       "      <td>2.257587e+05</td>\n",
       "      <td>0.011861</td>\n",
       "      <td>0.005512</td>\n",
       "      <td>...</td>\n",
       "      <td>0.089114</td>\n",
       "      <td>0.108343</td>\n",
       "      <td>0.061168</td>\n",
       "      <td>0.239726</td>\n",
       "      <td>0.231727</td>\n",
       "      <td>0.177053</td>\n",
       "      <td>0.071721</td>\n",
       "      <td>0.242347</td>\n",
       "      <td>0.254515</td>\n",
       "      <td>0.359843</td>\n",
       "    </tr>\n",
       "    <tr>\n",
       "      <th>min</th>\n",
       "      <td>1.588900e+04</td>\n",
       "      <td>0.000000</td>\n",
       "      <td>1.000000</td>\n",
       "      <td>1.000000</td>\n",
       "      <td>1.0</td>\n",
       "      <td>1.000000</td>\n",
       "      <td>0.000000</td>\n",
       "      <td>1.202730e+03</td>\n",
       "      <td>0.000000</td>\n",
       "      <td>0.000000</td>\n",
       "      <td>...</td>\n",
       "      <td>0.000000</td>\n",
       "      <td>0.000000</td>\n",
       "      <td>0.000000</td>\n",
       "      <td>0.000000</td>\n",
       "      <td>0.000000</td>\n",
       "      <td>0.000000</td>\n",
       "      <td>0.000000</td>\n",
       "      <td>0.000000</td>\n",
       "      <td>0.000000</td>\n",
       "      <td>0.000000</td>\n",
       "    </tr>\n",
       "    <tr>\n",
       "      <th>25%</th>\n",
       "      <td>4.137720e+05</td>\n",
       "      <td>NaN</td>\n",
       "      <td>NaN</td>\n",
       "      <td>NaN</td>\n",
       "      <td>NaN</td>\n",
       "      <td>NaN</td>\n",
       "      <td>NaN</td>\n",
       "      <td>NaN</td>\n",
       "      <td>0.000000</td>\n",
       "      <td>0.000000</td>\n",
       "      <td>...</td>\n",
       "      <td>0.000000</td>\n",
       "      <td>0.000000</td>\n",
       "      <td>0.000000</td>\n",
       "      <td>0.000000</td>\n",
       "      <td>0.000000</td>\n",
       "      <td>0.000000</td>\n",
       "      <td>0.000000</td>\n",
       "      <td>NaN</td>\n",
       "      <td>NaN</td>\n",
       "      <td>0.000000</td>\n",
       "    </tr>\n",
       "    <tr>\n",
       "      <th>50%</th>\n",
       "      <td>8.739230e+05</td>\n",
       "      <td>NaN</td>\n",
       "      <td>NaN</td>\n",
       "      <td>NaN</td>\n",
       "      <td>NaN</td>\n",
       "      <td>NaN</td>\n",
       "      <td>NaN</td>\n",
       "      <td>NaN</td>\n",
       "      <td>0.000000</td>\n",
       "      <td>0.000000</td>\n",
       "      <td>...</td>\n",
       "      <td>0.000000</td>\n",
       "      <td>0.000000</td>\n",
       "      <td>0.000000</td>\n",
       "      <td>0.000000</td>\n",
       "      <td>0.000000</td>\n",
       "      <td>0.000000</td>\n",
       "      <td>0.000000</td>\n",
       "      <td>NaN</td>\n",
       "      <td>NaN</td>\n",
       "      <td>0.000000</td>\n",
       "    </tr>\n",
       "    <tr>\n",
       "      <th>75%</th>\n",
       "      <td>1.133417e+06</td>\n",
       "      <td>NaN</td>\n",
       "      <td>NaN</td>\n",
       "      <td>NaN</td>\n",
       "      <td>NaN</td>\n",
       "      <td>NaN</td>\n",
       "      <td>NaN</td>\n",
       "      <td>NaN</td>\n",
       "      <td>0.000000</td>\n",
       "      <td>0.000000</td>\n",
       "      <td>...</td>\n",
       "      <td>0.000000</td>\n",
       "      <td>0.000000</td>\n",
       "      <td>0.000000</td>\n",
       "      <td>0.000000</td>\n",
       "      <td>0.000000</td>\n",
       "      <td>0.000000</td>\n",
       "      <td>0.000000</td>\n",
       "      <td>NaN</td>\n",
       "      <td>NaN</td>\n",
       "      <td>0.000000</td>\n",
       "    </tr>\n",
       "    <tr>\n",
       "      <th>max</th>\n",
       "      <td>1.379131e+06</td>\n",
       "      <td>1.000000</td>\n",
       "      <td>99.000000</td>\n",
       "      <td>3.000000</td>\n",
       "      <td>1.0</td>\n",
       "      <td>52.000000</td>\n",
       "      <td>1.000000</td>\n",
       "      <td>2.889440e+07</td>\n",
       "      <td>1.000000</td>\n",
       "      <td>1.000000</td>\n",
       "      <td>...</td>\n",
       "      <td>1.000000</td>\n",
       "      <td>1.000000</td>\n",
       "      <td>1.000000</td>\n",
       "      <td>1.000000</td>\n",
       "      <td>1.000000</td>\n",
       "      <td>1.000000</td>\n",
       "      <td>1.000000</td>\n",
       "      <td>1.000000</td>\n",
       "      <td>1.000000</td>\n",
       "      <td>1.000000</td>\n",
       "    </tr>\n",
       "  </tbody>\n",
       "</table>\n",
       "<p>8 rows × 32 columns</p>\n",
       "</div>"
      ],
      "text/plain": [
       "           ncodpers      ind_nuevo         indrel    indrel_1mes   tipodom  \\\n",
       "count  6.254570e+05  618504.000000  618504.000000  618504.000000  618504.0   \n",
       "mean   7.763354e+05       0.000296       1.120895       1.000095       1.0   \n",
       "std    4.055675e+05       0.017198       3.439928       0.013753       0.0   \n",
       "min    1.588900e+04       0.000000       1.000000       1.000000       1.0   \n",
       "25%    4.137720e+05            NaN            NaN            NaN       NaN   \n",
       "50%    8.739230e+05            NaN            NaN            NaN       NaN   \n",
       "75%    1.133417e+06            NaN            NaN            NaN       NaN   \n",
       "max    1.379131e+06       1.000000      99.000000       3.000000       1.0   \n",
       "\n",
       "            cod_prov  ind_actividad_cliente         renta  ind_ahor_fin_ult1  \\\n",
       "count  614826.000000          618504.000000  5.138790e+05      625457.000000   \n",
       "mean       26.669173               0.537777  1.345990e+05           0.000141   \n",
       "std        12.676776               0.498571  2.257587e+05           0.011861   \n",
       "min         1.000000               0.000000  1.202730e+03           0.000000   \n",
       "25%              NaN                    NaN           NaN           0.000000   \n",
       "50%              NaN                    NaN           NaN           0.000000   \n",
       "75%              NaN                    NaN           NaN           0.000000   \n",
       "max        52.000000               1.000000  2.889440e+07           1.000000   \n",
       "\n",
       "       ind_aval_fin_ult1       ...         ind_hip_fin_ult1  \\\n",
       "count      625457.000000       ...            625457.000000   \n",
       "mean            0.000030       ...                 0.008005   \n",
       "std             0.005512       ...                 0.089114   \n",
       "min             0.000000       ...                 0.000000   \n",
       "25%             0.000000       ...                 0.000000   \n",
       "50%             0.000000       ...                 0.000000   \n",
       "75%             0.000000       ...                 0.000000   \n",
       "max             1.000000       ...                 1.000000   \n",
       "\n",
       "       ind_plan_fin_ult1  ind_pres_fin_ult1  ind_reca_fin_ult1  \\\n",
       "count      625457.000000      625457.000000      625457.000000   \n",
       "mean            0.011879           0.003756           0.061216   \n",
       "std             0.108343           0.061168           0.239726   \n",
       "min             0.000000           0.000000           0.000000   \n",
       "25%             0.000000           0.000000           0.000000   \n",
       "50%             0.000000           0.000000           0.000000   \n",
       "75%             0.000000           0.000000           0.000000   \n",
       "max             1.000000           1.000000           1.000000   \n",
       "\n",
       "       ind_tjcr_fin_ult1  ind_valo_fin_ult1  ind_viv_fin_ult1  \\\n",
       "count      625457.000000      625457.000000     625457.000000   \n",
       "mean            0.056939           0.032397          0.005171   \n",
       "std             0.231727           0.177053          0.071721   \n",
       "min             0.000000           0.000000          0.000000   \n",
       "25%             0.000000           0.000000          0.000000   \n",
       "50%             0.000000           0.000000          0.000000   \n",
       "75%             0.000000           0.000000          0.000000   \n",
       "max             1.000000           1.000000          1.000000   \n",
       "\n",
       "       ind_nomina_ult1  ind_nom_pens_ult1  ind_recibo_ult1  \n",
       "count    622346.000000      622346.000000    625457.000000  \n",
       "mean          0.062658           0.069625         0.152850  \n",
       "std           0.242347           0.254515         0.359843  \n",
       "min           0.000000           0.000000         0.000000  \n",
       "25%                NaN                NaN         0.000000  \n",
       "50%                NaN                NaN         0.000000  \n",
       "75%                NaN                NaN         0.000000  \n",
       "max           1.000000           1.000000         1.000000  \n",
       "\n",
       "[8 rows x 32 columns]"
      ]
     },
     "execution_count": 9,
     "metadata": {},
     "output_type": "execute_result"
    }
   ],
   "source": [
    "month_full_stats = train_month.describe()\n",
    "month_full_stats"
   ]
  },
  {
   "cell_type": "code",
   "execution_count": 10,
   "metadata": {
    "collapsed": true
   },
   "outputs": [],
   "source": [
    "train_month[\"fecha_dato\"] = pd.to_datetime(train_month[\"fecha_dato\"],format=\"%Y-%m-%d\")\n",
    "train_month[\"fecha_alta\"] = pd.to_datetime(train_month[\"fecha_alta\"],format=\"%Y-%m-%d\")\n",
    "train_month[\"age\"] = pd.to_numeric(train_month[\"age\"], errors=\"coerce\")"
   ]
  },
  {
   "cell_type": "code",
   "execution_count": 11,
   "metadata": {
    "collapsed": false
   },
   "outputs": [
    {
     "data": {
      "text/plain": [
       "fecha_dato               False\n",
       "ncodpers                 False\n",
       "ind_empleado              True\n",
       "pais_residencia           True\n",
       "sexo                      True\n",
       "age                       True\n",
       "fecha_alta                True\n",
       "ind_nuevo                 True\n",
       "antiguedad               False\n",
       "indrel                    True\n",
       "ult_fec_cli_1t            True\n",
       "indrel_1mes               True\n",
       "tiprel_1mes               True\n",
       "indresi                   True\n",
       "indext                    True\n",
       "conyuemp                  True\n",
       "canal_entrada             True\n",
       "indfall                   True\n",
       "tipodom                   True\n",
       "cod_prov                  True\n",
       "nomprov                   True\n",
       "ind_actividad_cliente     True\n",
       "renta                     True\n",
       "segmento                  True\n",
       "ind_ahor_fin_ult1        False\n",
       "ind_aval_fin_ult1        False\n",
       "ind_cco_fin_ult1         False\n",
       "ind_cder_fin_ult1        False\n",
       "ind_cno_fin_ult1         False\n",
       "ind_ctju_fin_ult1        False\n",
       "ind_ctma_fin_ult1        False\n",
       "ind_ctop_fin_ult1        False\n",
       "ind_ctpp_fin_ult1        False\n",
       "ind_deco_fin_ult1        False\n",
       "ind_deme_fin_ult1        False\n",
       "ind_dela_fin_ult1        False\n",
       "ind_ecue_fin_ult1        False\n",
       "ind_fond_fin_ult1        False\n",
       "ind_hip_fin_ult1         False\n",
       "ind_plan_fin_ult1        False\n",
       "ind_pres_fin_ult1        False\n",
       "ind_reca_fin_ult1        False\n",
       "ind_tjcr_fin_ult1        False\n",
       "ind_valo_fin_ult1        False\n",
       "ind_viv_fin_ult1         False\n",
       "ind_nomina_ult1           True\n",
       "ind_nom_pens_ult1         True\n",
       "ind_recibo_ult1          False\n",
       "dtype: bool"
      ]
     },
     "execution_count": 11,
     "metadata": {},
     "output_type": "execute_result"
    }
   ],
   "source": [
    "train_month.isnull().any()"
   ]
  },
  {
   "cell_type": "code",
   "execution_count": 12,
   "metadata": {
    "collapsed": false
   },
   "outputs": [
    {
     "name": "stdout",
     "output_type": "stream",
     "text": [
      "Unique values for ind_empleado:\n",
      "['N' nan 'A' 'B' 'F' 'S']\n",
      "\n",
      "Unique values for pais_residencia:\n",
      "['ES' nan 'CA' 'CH' 'CL' 'IE' 'AT' 'NL' 'FR' 'GB' 'DE' 'DO' 'BE' 'AR' 'VE'\n",
      " 'US' 'MX' 'BR' 'IT' 'EC' 'PE' 'CO' 'HN' 'FI' 'SE' 'AL' 'PT' 'MZ' 'CN' 'TW'\n",
      " 'PL' 'IN' 'CR' 'NI' 'HK' 'AD' 'CZ' 'AE' 'MA' 'GR' 'PR' 'RO' 'IL' 'RU' 'GT'\n",
      " 'GA' 'NO' 'SN' 'MR' 'UA' 'BG' 'PY' 'EE' 'SV' 'ET' 'CM' 'SA' 'CI' 'QA' 'LU'\n",
      " 'PA' 'BA' 'BO' 'AU' 'BY' 'KE' 'SG' 'HR' 'MD' 'SK' 'TR' 'AO' 'CU' 'GQ' 'EG'\n",
      " 'ZA' 'DK' 'UY' 'GE' 'TH' 'DZ' 'LB' 'JP' 'NG' 'PK' 'TN' 'TG' 'KR' 'GH' 'RS'\n",
      " 'VN' 'PH' 'KW' 'NZ' 'MM' 'KH' 'GI' 'SL' 'GN' 'GW' 'OM' 'CG' 'LV' 'LT' 'ML'\n",
      " 'MK' 'HU' 'IS' 'LY' 'CF' 'GM' 'KZ' 'CD' 'BZ']\n",
      "\n",
      "Unique values for sexo:\n",
      "['H' 'V' nan]\n",
      "\n",
      "Unique values for ult_fec_cli_1t:\n",
      "[nan '2015-07-02' '2015-07-23' '2015-07-06' '2015-07-30' '2015-07-20'\n",
      " '2015-07-08' '2015-07-22' '2015-07-17' '2015-07-09' '2015-07-03'\n",
      " '2015-07-29' '2015-07-13' '2015-07-21' '2015-07-27' '2015-07-14'\n",
      " '2015-07-01' '2015-07-24' '2015-07-15' '2015-07-16' '2015-07-28'\n",
      " '2015-07-07' '2015-07-10']\n",
      "\n",
      "Unique values for tiprel_1mes:\n",
      "['A' 'I' nan 'P']\n",
      "\n",
      "Unique values for indresi:\n",
      "['S' nan 'N']\n",
      "\n",
      "Unique values for indext:\n",
      "['N' 'S' nan]\n",
      "\n",
      "Unique values for conyuemp:\n",
      "[nan 'N' 'S']\n",
      "\n",
      "Unique values for canal_entrada:\n",
      "['KHL' 'KHE' 'KHD' 'KFA' 'KFC' 'KAT' nan 'KAZ' 'RED' 'KHC' 'KHK' 'KGN'\n",
      " 'KHM' 'KHO' 'KDH' 'KEH' 'KAD' 'KBG' 'KGC' 'KHF' 'KFK' 'KHN' 'KHA' 'KAF'\n",
      " 'KGX' 'KFD' 'KAG' 'KFG' 'KAB' 'KCC' 'KAE' 'KAH' 'KAR' 'KFJ' 'KFL' 'KAI'\n",
      " 'KFU' 'KAQ' 'KFS' 'KAA' 'KFP' 'KAJ' 'KFN' 'KGV' 'KGY' 'KFF' 'KAP' 'KDE'\n",
      " 'KFV' '013' 'K00' 'KAK' 'KCK' 'KCL' 'KAY' 'KBU' 'KDR' 'KAC' 'KDT' 'KCG'\n",
      " 'KDO' 'KDY' 'KBQ' 'KDA' 'KBO' 'KCI' 'KEC' 'KBZ' 'KES' 'KDX' 'KAS' '007'\n",
      " 'KEU' 'KCA' 'KAL' 'KDC' 'KAW' 'KCS' 'KCB' 'KDU' 'KDQ' 'KCN' 'KCM' '004'\n",
      " 'KCH' 'KCD' 'KCE' 'KEV' 'KBL' 'KEA' 'KBH' 'KDV' 'KFT' 'KEY' 'KAO' 'KEJ'\n",
      " 'KEO' 'KEI' 'KEW' 'KDZ' 'KBV' 'KBR' 'KBF' 'KDP' 'KCO' 'KCF' 'KCV' 'KAM'\n",
      " 'KEZ' 'KBD' 'KAN' 'KBY' 'KCT' 'KDD' 'KBW' 'KCU' 'KBX' 'KDB' 'KBS' 'KBE'\n",
      " 'KCX' 'KBP' 'KBN' 'KEB' 'KDS' 'KEL' 'KDG' 'KDF' 'KEF' 'KCP' 'KDM' 'KBB'\n",
      " 'KDW' 'KBJ' 'KFI' 'KBM' 'KEG' 'KEN' 'KEQ' 'KAV' 'KFH' 'KFM' 'KAU' 'KED'\n",
      " 'KFR' 'KEK' 'KFB' 'KGW' 'KFE' 'KGU' 'KDI' 'KDN' 'KEE' 'KCR' 'KCQ' 'KEM'\n",
      " 'KCJ']\n",
      "\n",
      "Unique values for indfall:\n",
      "['N' nan 'S']\n",
      "\n",
      "Unique values for nomprov:\n",
      "['MALAGA' 'CIUDAD REAL' 'ZARAGOZA' 'TOLEDO' 'LEON' 'GIPUZKOA' 'CACERES'\n",
      " 'GIRONA' 'ZAMORA' 'BARCELONA' 'SALAMANCA' 'BURGOS' 'HUESCA' 'NAVARRA'\n",
      " 'AVILA' 'SEGOVIA' 'LUGO' 'LERIDA' 'MADRID' 'ALICANTE' 'SORIA' 'SEVILLA'\n",
      " 'CANTABRIA' 'BALEARS, ILLES' 'VALLADOLID' 'PONTEVEDRA' 'VALENCIA' 'TERUEL'\n",
      " 'CORU\\xc3\\x91A, A' 'OURENSE' 'JAEN' 'CUENCA' 'BIZKAIA' 'CASTELLON'\n",
      " 'RIOJA, LA' 'ALBACETE' 'BADAJOZ' 'MURCIA' 'CADIZ' nan 'ALMERIA'\n",
      " 'GUADALAJARA' 'PALENCIA' 'PALMAS, LAS' 'CORDOBA' 'HUELVA' 'GRANADA'\n",
      " 'ASTURIAS' 'SANTA CRUZ DE TENERIFE' 'MELILLA' 'TARRAGONA' 'ALAVA' 'CEUTA']\n",
      "\n",
      "Unique values for segmento:\n",
      "['02 - PARTICULARES' '03 - UNIVERSITARIO' nan '01 - TOP']\n",
      "\n"
     ]
    }
   ],
   "source": [
    "string_data = train_month.select_dtypes(include=[\"object\"])\n",
    "missing_columns = [col for col in string_data if string_data[col].isnull().any()]\n",
    "for col in missing_columns:\n",
    "    print(\"Unique values for {0}:\\n{1}\\n\".format(col,string_data[col].unique()))\n",
    "del string_data"
   ]
  },
  {
   "cell_type": "code",
   "execution_count": null,
   "metadata": {
    "collapsed": true
   },
   "outputs": [],
   "source": []
  },
  {
   "cell_type": "markdown",
   "metadata": {},
   "source": [
    "### Data Cleaning"
   ]
  },
  {
   "cell_type": "code",
   "execution_count": 13,
   "metadata": {
    "collapsed": true
   },
   "outputs": [],
   "source": [
    "df = train_month"
   ]
  },
  {
   "cell_type": "markdown",
   "metadata": {},
   "source": [
    "There are some 'unknown' users:"
   ]
  },
  {
   "cell_type": "code",
   "execution_count": 14,
   "metadata": {
    "collapsed": false
   },
   "outputs": [
    {
     "name": "stdout",
     "output_type": "stream",
     "text": [
      "6955 6953 6953 6953 6953\n"
     ]
    }
   ],
   "source": [
    "print np.sum(df['sexo'].isnull()), np.sum(df['pais_residencia'].isnull()), np.sum(df['ind_empleado'].isnull()), np.sum(df['age'].isnull()), np.sum(df['fecha_alta'].isnull())\n"
   ]
  },
  {
   "cell_type": "code",
   "execution_count": 15,
   "metadata": {
    "collapsed": false
   },
   "outputs": [],
   "source": [
    "unknown_users = df['sexo'].isnull() & df['age'].isnull() & df['ind_empleado'].isnull() & df['fecha_alta'].isnull() & df['pais_residencia'].isnull()"
   ]
  },
  {
   "cell_type": "code",
   "execution_count": 16,
   "metadata": {
    "collapsed": false
   },
   "outputs": [
    {
     "data": {
      "text/plain": [
       "6953"
      ]
     },
     "execution_count": 16,
     "metadata": {},
     "output_type": "execute_result"
    }
   ],
   "source": [
    "np.sum(unknown_users)"
   ]
  },
  {
   "cell_type": "code",
   "execution_count": 17,
   "metadata": {
    "collapsed": false
   },
   "outputs": [
    {
     "data": {
      "text/html": [
       "<div>\n",
       "<table border=\"1\" class=\"dataframe\">\n",
       "  <thead>\n",
       "    <tr style=\"text-align: right;\">\n",
       "      <th></th>\n",
       "      <th>fecha_dato</th>\n",
       "      <th>ncodpers</th>\n",
       "      <th>ind_empleado</th>\n",
       "      <th>pais_residencia</th>\n",
       "      <th>sexo</th>\n",
       "      <th>age</th>\n",
       "      <th>fecha_alta</th>\n",
       "      <th>ind_nuevo</th>\n",
       "      <th>antiguedad</th>\n",
       "      <th>indrel</th>\n",
       "      <th>...</th>\n",
       "      <th>ind_hip_fin_ult1</th>\n",
       "      <th>ind_plan_fin_ult1</th>\n",
       "      <th>ind_pres_fin_ult1</th>\n",
       "      <th>ind_reca_fin_ult1</th>\n",
       "      <th>ind_tjcr_fin_ult1</th>\n",
       "      <th>ind_valo_fin_ult1</th>\n",
       "      <th>ind_viv_fin_ult1</th>\n",
       "      <th>ind_nomina_ult1</th>\n",
       "      <th>ind_nom_pens_ult1</th>\n",
       "      <th>ind_recibo_ult1</th>\n",
       "    </tr>\n",
       "  </thead>\n",
       "  <tbody>\n",
       "    <tr>\n",
       "      <th>625112</th>\n",
       "      <td>2015-01-28</td>\n",
       "      <td>538710</td>\n",
       "      <td>NaN</td>\n",
       "      <td>NaN</td>\n",
       "      <td>NaN</td>\n",
       "      <td>NaN</td>\n",
       "      <td>NaT</td>\n",
       "      <td>NaN</td>\n",
       "      <td>NA</td>\n",
       "      <td>NaN</td>\n",
       "      <td>...</td>\n",
       "      <td>0</td>\n",
       "      <td>0</td>\n",
       "      <td>0</td>\n",
       "      <td>1</td>\n",
       "      <td>0</td>\n",
       "      <td>0</td>\n",
       "      <td>0</td>\n",
       "      <td>NaN</td>\n",
       "      <td>NaN</td>\n",
       "      <td>0</td>\n",
       "    </tr>\n",
       "    <tr>\n",
       "      <th>625150</th>\n",
       "      <td>2015-01-28</td>\n",
       "      <td>538809</td>\n",
       "      <td>NaN</td>\n",
       "      <td>NaN</td>\n",
       "      <td>NaN</td>\n",
       "      <td>NaN</td>\n",
       "      <td>NaT</td>\n",
       "      <td>NaN</td>\n",
       "      <td>NA</td>\n",
       "      <td>NaN</td>\n",
       "      <td>...</td>\n",
       "      <td>0</td>\n",
       "      <td>0</td>\n",
       "      <td>0</td>\n",
       "      <td>1</td>\n",
       "      <td>0</td>\n",
       "      <td>0</td>\n",
       "      <td>0</td>\n",
       "      <td>NaN</td>\n",
       "      <td>NaN</td>\n",
       "      <td>0</td>\n",
       "    </tr>\n",
       "    <tr>\n",
       "      <th>625268</th>\n",
       "      <td>2015-01-28</td>\n",
       "      <td>537502</td>\n",
       "      <td>NaN</td>\n",
       "      <td>NaN</td>\n",
       "      <td>NaN</td>\n",
       "      <td>NaN</td>\n",
       "      <td>NaT</td>\n",
       "      <td>NaN</td>\n",
       "      <td>NA</td>\n",
       "      <td>NaN</td>\n",
       "      <td>...</td>\n",
       "      <td>0</td>\n",
       "      <td>0</td>\n",
       "      <td>0</td>\n",
       "      <td>0</td>\n",
       "      <td>0</td>\n",
       "      <td>0</td>\n",
       "      <td>0</td>\n",
       "      <td>0.0</td>\n",
       "      <td>0.0</td>\n",
       "      <td>0</td>\n",
       "    </tr>\n",
       "    <tr>\n",
       "      <th>625307</th>\n",
       "      <td>2015-01-28</td>\n",
       "      <td>537568</td>\n",
       "      <td>NaN</td>\n",
       "      <td>NaN</td>\n",
       "      <td>NaN</td>\n",
       "      <td>NaN</td>\n",
       "      <td>NaT</td>\n",
       "      <td>NaN</td>\n",
       "      <td>NA</td>\n",
       "      <td>NaN</td>\n",
       "      <td>...</td>\n",
       "      <td>0</td>\n",
       "      <td>0</td>\n",
       "      <td>0</td>\n",
       "      <td>0</td>\n",
       "      <td>0</td>\n",
       "      <td>0</td>\n",
       "      <td>0</td>\n",
       "      <td>0.0</td>\n",
       "      <td>0.0</td>\n",
       "      <td>0</td>\n",
       "    </tr>\n",
       "    <tr>\n",
       "      <th>625374</th>\n",
       "      <td>2015-01-28</td>\n",
       "      <td>538217</td>\n",
       "      <td>NaN</td>\n",
       "      <td>NaN</td>\n",
       "      <td>NaN</td>\n",
       "      <td>NaN</td>\n",
       "      <td>NaT</td>\n",
       "      <td>NaN</td>\n",
       "      <td>NA</td>\n",
       "      <td>NaN</td>\n",
       "      <td>...</td>\n",
       "      <td>0</td>\n",
       "      <td>0</td>\n",
       "      <td>0</td>\n",
       "      <td>0</td>\n",
       "      <td>0</td>\n",
       "      <td>0</td>\n",
       "      <td>0</td>\n",
       "      <td>0.0</td>\n",
       "      <td>0.0</td>\n",
       "      <td>0</td>\n",
       "    </tr>\n",
       "  </tbody>\n",
       "</table>\n",
       "<p>5 rows × 48 columns</p>\n",
       "</div>"
      ],
      "text/plain": [
       "       fecha_dato  ncodpers ind_empleado pais_residencia sexo  age fecha_alta  \\\n",
       "625112 2015-01-28    538710          NaN             NaN  NaN  NaN        NaT   \n",
       "625150 2015-01-28    538809          NaN             NaN  NaN  NaN        NaT   \n",
       "625268 2015-01-28    537502          NaN             NaN  NaN  NaN        NaT   \n",
       "625307 2015-01-28    537568          NaN             NaN  NaN  NaN        NaT   \n",
       "625374 2015-01-28    538217          NaN             NaN  NaN  NaN        NaT   \n",
       "\n",
       "        ind_nuevo antiguedad  indrel       ...        ind_hip_fin_ult1  \\\n",
       "625112        NaN         NA     NaN       ...                       0   \n",
       "625150        NaN         NA     NaN       ...                       0   \n",
       "625268        NaN         NA     NaN       ...                       0   \n",
       "625307        NaN         NA     NaN       ...                       0   \n",
       "625374        NaN         NA     NaN       ...                       0   \n",
       "\n",
       "        ind_plan_fin_ult1 ind_pres_fin_ult1 ind_reca_fin_ult1  \\\n",
       "625112                  0                 0                 1   \n",
       "625150                  0                 0                 1   \n",
       "625268                  0                 0                 0   \n",
       "625307                  0                 0                 0   \n",
       "625374                  0                 0                 0   \n",
       "\n",
       "       ind_tjcr_fin_ult1 ind_valo_fin_ult1 ind_viv_fin_ult1 ind_nomina_ult1  \\\n",
       "625112                 0                 0                0             NaN   \n",
       "625150                 0                 0                0             NaN   \n",
       "625268                 0                 0                0             0.0   \n",
       "625307                 0                 0                0             0.0   \n",
       "625374                 0                 0                0             0.0   \n",
       "\n",
       "        ind_nom_pens_ult1  ind_recibo_ult1  \n",
       "625112                NaN                0  \n",
       "625150                NaN                0  \n",
       "625268                0.0                0  \n",
       "625307                0.0                0  \n",
       "625374                0.0                0  \n",
       "\n",
       "[5 rows x 48 columns]"
      ]
     },
     "execution_count": 17,
     "metadata": {},
     "output_type": "execute_result"
    }
   ],
   "source": [
    "df[unknown_users].tail()"
   ]
  },
  {
   "cell_type": "code",
   "execution_count": 18,
   "metadata": {
    "collapsed": false
   },
   "outputs": [
    {
     "data": {
      "text/html": [
       "<div>\n",
       "<table border=\"1\" class=\"dataframe\">\n",
       "  <thead>\n",
       "    <tr style=\"text-align: right;\">\n",
       "      <th></th>\n",
       "      <th>ind_ahor_fin_ult1</th>\n",
       "      <th>ind_aval_fin_ult1</th>\n",
       "      <th>ind_cco_fin_ult1</th>\n",
       "      <th>ind_cder_fin_ult1</th>\n",
       "      <th>ind_cno_fin_ult1</th>\n",
       "      <th>ind_ctju_fin_ult1</th>\n",
       "      <th>ind_ctma_fin_ult1</th>\n",
       "      <th>ind_ctop_fin_ult1</th>\n",
       "      <th>ind_ctpp_fin_ult1</th>\n",
       "      <th>ind_deco_fin_ult1</th>\n",
       "      <th>...</th>\n",
       "      <th>ind_hip_fin_ult1</th>\n",
       "      <th>ind_plan_fin_ult1</th>\n",
       "      <th>ind_pres_fin_ult1</th>\n",
       "      <th>ind_reca_fin_ult1</th>\n",
       "      <th>ind_tjcr_fin_ult1</th>\n",
       "      <th>ind_valo_fin_ult1</th>\n",
       "      <th>ind_viv_fin_ult1</th>\n",
       "      <th>ind_nomina_ult1</th>\n",
       "      <th>ind_nom_pens_ult1</th>\n",
       "      <th>ind_recibo_ult1</th>\n",
       "    </tr>\n",
       "  </thead>\n",
       "  <tbody>\n",
       "    <tr>\n",
       "      <th>625112</th>\n",
       "      <td>0</td>\n",
       "      <td>0</td>\n",
       "      <td>0</td>\n",
       "      <td>0</td>\n",
       "      <td>0</td>\n",
       "      <td>0</td>\n",
       "      <td>0</td>\n",
       "      <td>0</td>\n",
       "      <td>0</td>\n",
       "      <td>0</td>\n",
       "      <td>...</td>\n",
       "      <td>0</td>\n",
       "      <td>0</td>\n",
       "      <td>0</td>\n",
       "      <td>1</td>\n",
       "      <td>0</td>\n",
       "      <td>0</td>\n",
       "      <td>0</td>\n",
       "      <td>NaN</td>\n",
       "      <td>NaN</td>\n",
       "      <td>0</td>\n",
       "    </tr>\n",
       "    <tr>\n",
       "      <th>625150</th>\n",
       "      <td>0</td>\n",
       "      <td>0</td>\n",
       "      <td>0</td>\n",
       "      <td>0</td>\n",
       "      <td>0</td>\n",
       "      <td>0</td>\n",
       "      <td>0</td>\n",
       "      <td>0</td>\n",
       "      <td>0</td>\n",
       "      <td>0</td>\n",
       "      <td>...</td>\n",
       "      <td>0</td>\n",
       "      <td>0</td>\n",
       "      <td>0</td>\n",
       "      <td>1</td>\n",
       "      <td>0</td>\n",
       "      <td>0</td>\n",
       "      <td>0</td>\n",
       "      <td>NaN</td>\n",
       "      <td>NaN</td>\n",
       "      <td>0</td>\n",
       "    </tr>\n",
       "    <tr>\n",
       "      <th>625268</th>\n",
       "      <td>0</td>\n",
       "      <td>0</td>\n",
       "      <td>0</td>\n",
       "      <td>0</td>\n",
       "      <td>0</td>\n",
       "      <td>0</td>\n",
       "      <td>0</td>\n",
       "      <td>0</td>\n",
       "      <td>0</td>\n",
       "      <td>0</td>\n",
       "      <td>...</td>\n",
       "      <td>0</td>\n",
       "      <td>0</td>\n",
       "      <td>0</td>\n",
       "      <td>0</td>\n",
       "      <td>0</td>\n",
       "      <td>0</td>\n",
       "      <td>0</td>\n",
       "      <td>0.0</td>\n",
       "      <td>0.0</td>\n",
       "      <td>0</td>\n",
       "    </tr>\n",
       "    <tr>\n",
       "      <th>625307</th>\n",
       "      <td>0</td>\n",
       "      <td>0</td>\n",
       "      <td>0</td>\n",
       "      <td>0</td>\n",
       "      <td>0</td>\n",
       "      <td>1</td>\n",
       "      <td>0</td>\n",
       "      <td>0</td>\n",
       "      <td>0</td>\n",
       "      <td>0</td>\n",
       "      <td>...</td>\n",
       "      <td>0</td>\n",
       "      <td>0</td>\n",
       "      <td>0</td>\n",
       "      <td>0</td>\n",
       "      <td>0</td>\n",
       "      <td>0</td>\n",
       "      <td>0</td>\n",
       "      <td>0.0</td>\n",
       "      <td>0.0</td>\n",
       "      <td>0</td>\n",
       "    </tr>\n",
       "    <tr>\n",
       "      <th>625374</th>\n",
       "      <td>0</td>\n",
       "      <td>0</td>\n",
       "      <td>0</td>\n",
       "      <td>0</td>\n",
       "      <td>0</td>\n",
       "      <td>1</td>\n",
       "      <td>0</td>\n",
       "      <td>0</td>\n",
       "      <td>0</td>\n",
       "      <td>0</td>\n",
       "      <td>...</td>\n",
       "      <td>0</td>\n",
       "      <td>0</td>\n",
       "      <td>0</td>\n",
       "      <td>0</td>\n",
       "      <td>0</td>\n",
       "      <td>0</td>\n",
       "      <td>0</td>\n",
       "      <td>0.0</td>\n",
       "      <td>0.0</td>\n",
       "      <td>0</td>\n",
       "    </tr>\n",
       "  </tbody>\n",
       "</table>\n",
       "<p>5 rows × 24 columns</p>\n",
       "</div>"
      ],
      "text/plain": [
       "        ind_ahor_fin_ult1  ind_aval_fin_ult1  ind_cco_fin_ult1  \\\n",
       "625112                  0                  0                 0   \n",
       "625150                  0                  0                 0   \n",
       "625268                  0                  0                 0   \n",
       "625307                  0                  0                 0   \n",
       "625374                  0                  0                 0   \n",
       "\n",
       "        ind_cder_fin_ult1  ind_cno_fin_ult1  ind_ctju_fin_ult1  \\\n",
       "625112                  0                 0                  0   \n",
       "625150                  0                 0                  0   \n",
       "625268                  0                 0                  0   \n",
       "625307                  0                 0                  1   \n",
       "625374                  0                 0                  1   \n",
       "\n",
       "        ind_ctma_fin_ult1  ind_ctop_fin_ult1  ind_ctpp_fin_ult1  \\\n",
       "625112                  0                  0                  0   \n",
       "625150                  0                  0                  0   \n",
       "625268                  0                  0                  0   \n",
       "625307                  0                  0                  0   \n",
       "625374                  0                  0                  0   \n",
       "\n",
       "        ind_deco_fin_ult1       ...         ind_hip_fin_ult1  \\\n",
       "625112                  0       ...                        0   \n",
       "625150                  0       ...                        0   \n",
       "625268                  0       ...                        0   \n",
       "625307                  0       ...                        0   \n",
       "625374                  0       ...                        0   \n",
       "\n",
       "        ind_plan_fin_ult1  ind_pres_fin_ult1  ind_reca_fin_ult1  \\\n",
       "625112                  0                  0                  1   \n",
       "625150                  0                  0                  1   \n",
       "625268                  0                  0                  0   \n",
       "625307                  0                  0                  0   \n",
       "625374                  0                  0                  0   \n",
       "\n",
       "        ind_tjcr_fin_ult1  ind_valo_fin_ult1  ind_viv_fin_ult1  \\\n",
       "625112                  0                  0                 0   \n",
       "625150                  0                  0                 0   \n",
       "625268                  0                  0                 0   \n",
       "625307                  0                  0                 0   \n",
       "625374                  0                  0                 0   \n",
       "\n",
       "        ind_nomina_ult1  ind_nom_pens_ult1  ind_recibo_ult1  \n",
       "625112              NaN                NaN                0  \n",
       "625150              NaN                NaN                0  \n",
       "625268              0.0                0.0                0  \n",
       "625307              0.0                0.0                0  \n",
       "625374              0.0                0.0                0  \n",
       "\n",
       "[5 rows x 24 columns]"
      ]
     },
     "execution_count": 18,
     "metadata": {},
     "output_type": "execute_result"
    }
   ],
   "source": [
    "df[unknown_users][TARGET_LABELS].tail()"
   ]
  },
  {
   "cell_type": "markdown",
   "metadata": {},
   "source": [
    "**Remove these users** !"
   ]
  },
  {
   "cell_type": "code",
   "execution_count": 19,
   "metadata": {
    "collapsed": true
   },
   "outputs": [],
   "source": [
    "df.drop(df[unknown_users].index, inplace=True)"
   ]
  },
  {
   "cell_type": "code",
   "execution_count": 20,
   "metadata": {
    "collapsed": false
   },
   "outputs": [
    {
     "data": {
      "text/plain": [
       "0"
      ]
     },
     "execution_count": 20,
     "metadata": {},
     "output_type": "execute_result"
    }
   ],
   "source": [
    "unknown_users = df['sexo'].isnull() & df['age'].isnull() & df['ind_empleado'].isnull() & df['fecha_alta'].isnull() & df['pais_residencia'].isnull()\n",
    "np.sum(unknown_users)"
   ]
  },
  {
   "cell_type": "code",
   "execution_count": 21,
   "metadata": {
    "collapsed": false,
    "scrolled": true
   },
   "outputs": [
    {
     "data": {
      "text/plain": [
       "fecha_dato               False\n",
       "ncodpers                 False\n",
       "ind_empleado             False\n",
       "pais_residencia          False\n",
       "sexo                      True\n",
       "age                      False\n",
       "fecha_alta               False\n",
       "ind_nuevo                False\n",
       "antiguedad               False\n",
       "indrel                   False\n",
       "ult_fec_cli_1t            True\n",
       "indrel_1mes              False\n",
       "tiprel_1mes              False\n",
       "indresi                  False\n",
       "indext                   False\n",
       "conyuemp                  True\n",
       "canal_entrada             True\n",
       "indfall                  False\n",
       "tipodom                  False\n",
       "cod_prov                  True\n",
       "nomprov                   True\n",
       "ind_actividad_cliente    False\n",
       "renta                     True\n",
       "segmento                  True\n",
       "ind_ahor_fin_ult1        False\n",
       "ind_aval_fin_ult1        False\n",
       "ind_cco_fin_ult1         False\n",
       "ind_cder_fin_ult1        False\n",
       "ind_cno_fin_ult1         False\n",
       "ind_ctju_fin_ult1        False\n",
       "ind_ctma_fin_ult1        False\n",
       "ind_ctop_fin_ult1        False\n",
       "ind_ctpp_fin_ult1        False\n",
       "ind_deco_fin_ult1        False\n",
       "ind_deme_fin_ult1        False\n",
       "ind_dela_fin_ult1        False\n",
       "ind_ecue_fin_ult1        False\n",
       "ind_fond_fin_ult1        False\n",
       "ind_hip_fin_ult1         False\n",
       "ind_plan_fin_ult1        False\n",
       "ind_pres_fin_ult1        False\n",
       "ind_reca_fin_ult1        False\n",
       "ind_tjcr_fin_ult1        False\n",
       "ind_valo_fin_ult1        False\n",
       "ind_viv_fin_ult1         False\n",
       "ind_nomina_ult1           True\n",
       "ind_nom_pens_ult1         True\n",
       "ind_recibo_ult1          False\n",
       "dtype: bool"
      ]
     },
     "execution_count": 21,
     "metadata": {},
     "output_type": "execute_result"
    }
   ],
   "source": [
    "df.isnull().any()"
   ]
  },
  {
   "cell_type": "markdown",
   "metadata": {},
   "source": [
    "Start with gender -> replace nan with UNKNOWN"
   ]
  },
  {
   "cell_type": "code",
   "execution_count": 22,
   "metadata": {
    "collapsed": false
   },
   "outputs": [
    {
     "data": {
      "text/plain": [
       "array(['H', 'V', nan], dtype=object)"
      ]
     },
     "execution_count": 22,
     "metadata": {},
     "output_type": "execute_result"
    }
   ],
   "source": [
    "df['sexo'].unique()"
   ]
  },
  {
   "cell_type": "code",
   "execution_count": 23,
   "metadata": {
    "collapsed": true
   },
   "outputs": [],
   "source": [
    "df.loc[df['sexo'].isnull(),'sexo'] = \"UNKNOWN\""
   ]
  },
  {
   "cell_type": "code",
   "execution_count": 24,
   "metadata": {
    "collapsed": false
   },
   "outputs": [
    {
     "data": {
      "text/plain": [
       "array(['H', 'V', 'UNKNOWN'], dtype=object)"
      ]
     },
     "execution_count": 24,
     "metadata": {},
     "output_type": "execute_result"
    }
   ],
   "source": [
    "df['sexo'].unique()"
   ]
  },
  {
   "cell_type": "code",
   "execution_count": 25,
   "metadata": {
    "collapsed": false
   },
   "outputs": [
    {
     "data": {
      "text/plain": [
       "V          339272\n",
       "H          279230\n",
       "UNKNOWN         2\n",
       "Name: sexo, dtype: int64"
      ]
     },
     "execution_count": 25,
     "metadata": {},
     "output_type": "execute_result"
    }
   ],
   "source": [
    "df['sexo'].value_counts()"
   ]
  },
  {
   "cell_type": "code",
   "execution_count": 26,
   "metadata": {
    "collapsed": false
   },
   "outputs": [
    {
     "data": {
      "image/png": "[encoded data removed]",
      "text/plain": [
       "<matplotlib.figure.Figure at 0x107d7a610>"
      ]
     },
     "metadata": {},
     "output_type": "display_data"
    }
   ],
   "source": [
    "with sns.plotting_context(\"notebook\",font_scale=1.5):\n",
    "    sns.set_style(\"whitegrid\")\n",
    "    sns.countplot(x=\"sexo\", \n",
    "                  data=df, \n",
    "                  palette=\"Greens_d\");\n",
    "    sns.plt.title(\"Gender Distribution\")\n",
    "    plt.ylabel(\"Count\")"
   ]
  },
  {
   "cell_type": "markdown",
   "metadata": {},
   "source": [
    "Continue with age -> replace nan with ..."
   ]
  },
  {
   "cell_type": "code",
   "execution_count": 27,
   "metadata": {
    "collapsed": false
   },
   "outputs": [
    {
     "data": {
      "text/plain": [
       "array([  35.,   23.,   22.,   24.,   65.,   28.,   25.,   26.,   53.,\n",
       "         27.,   32.,   37.,   31.,   39.,   63.,   33.,   55.,   42.,\n",
       "         58.,   38.,   50.,   30.,   45.,   44.,   36.,   29.,   60.,\n",
       "         57.,   67.,   47.,   34.,   48.,   46.,   54.,   84.,   15.,\n",
       "         12.,    8.,    6.,   83.,   40.,   77.,   69.,   52.,   59.,\n",
       "         43.,   10.,    9.,   49.,   41.,   51.,   78.,   16.,   11.,\n",
       "         73.,   62.,   66.,   17.,   68.,   82.,   95.,   96.,   56.,\n",
       "         61.,   79.,   72.,   14.,   19.,   13.,   86.,   64.,   20.,\n",
       "         89.,   71.,    7.,   70.,   74.,   21.,   18.,   75.,    4.,\n",
       "         80.,   81.,    5.,   76.,   92.,   93.,   85.,   91.,   87.,\n",
       "         90.,   94.,   99.,   98.,   88.,   97.,  100.,  101.,  106.,\n",
       "        103.,    3.,    2.,  102.,  104.,  111.,  107.,  109.,  105.,\n",
       "        112.,  115.,  110.,  116.,  108.,  113.])"
      ]
     },
     "execution_count": 27,
     "metadata": {},
     "output_type": "execute_result"
    }
   ],
   "source": [
    "df['age'].unique()"
   ]
  },
  {
   "cell_type": "code",
   "execution_count": 28,
   "metadata": {
    "collapsed": false
   },
   "outputs": [
    {
     "data": {
      "image/png": "[encoded data removed]",
      "text/plain": [
       "<matplotlib.figure.Figure at 0x11ae0dd50>"
      ]
     },
     "metadata": {},
     "output_type": "display_data"
    }
   ],
   "source": [
    "with sns.plotting_context(\"notebook\",font_scale=1.5):\n",
    "    sns.set_style(\"whitegrid\")\n",
    "    sns.distplot(df[df['sexo'] == \"H\"][\"age\"].dropna(),\n",
    "                 bins=120,\n",
    "                 kde=False,\n",
    "                 color=\"tomato\")\n",
    "    sns.distplot(df[df['sexo'] == \"V\"][\"age\"].dropna(),\n",
    "                 bins=120,\n",
    "                 kde=False)\n",
    "    sns.distplot(df[df['sexo'] == \"UNKNOWN\"][\"age\"].dropna(),\n",
    "                 bins=120,\n",
    "                 kde=False,\n",
    "                 color=\"green\")\n",
    "    sns.plt.title(\"Age Distribution\")\n",
    "    plt.ylabel(\"Count\")"
   ]
  },
  {
   "cell_type": "code",
   "execution_count": 29,
   "metadata": {
    "collapsed": true
   },
   "outputs": [],
   "source": [
    "df.loc[df.age < 18,\"age\"]  = df.loc[(df.age >= 18) & (df.age <= 30),\"age\"].mean(skipna=True)\n",
    "df.loc[df.age > 90,\"age\"] = df.loc[(df.age >= 30) & (df.age <= 90),\"age\"].mean(skipna=True)\n",
    "df[\"age\"].fillna(df[\"age\"].mean(),inplace=True)\n",
    "df[\"age\"] = df[\"age\"].astype(int)"
   ]
  },
  {
   "cell_type": "code",
   "execution_count": 30,
   "metadata": {
    "collapsed": false
   },
   "outputs": [
    {
     "data": {
      "image/png": "[encoded data removed]",
      "text/plain": [
       "<matplotlib.figure.Figure at 0x10ee36750>"
      ]
     },
     "metadata": {},
     "output_type": "display_data"
    }
   ],
   "source": [
    "with sns.plotting_context(\"notebook\",font_scale=1.5):\n",
    "    sns.set_style(\"whitegrid\")\n",
    "    sns.distplot(df[df['sexo'] == \"H\"][\"age\"].dropna(),\n",
    "                 bins=100,\n",
    "                 kde=False,\n",
    "                 color=\"tomato\")\n",
    "    sns.distplot(df[df['sexo'] == \"V\"][\"age\"].dropna(),\n",
    "                 bins=100,\n",
    "                 kde=False,\n",
    "                 color='yellow')\n",
    "    sns.distplot(df[df['sexo'] == \"UNKNOWN\"][\"age\"].dropna(),\n",
    "                 bins=100,\n",
    "                 kde=False,\n",
    "                 color=\"green\")\n",
    "    sns.plt.title(\"Age Distribution\")\n",
    "    plt.ylabel(\"Count\")"
   ]
  },
  {
   "cell_type": "code",
   "execution_count": null,
   "metadata": {
    "collapsed": true
   },
   "outputs": [],
   "source": []
  },
  {
   "cell_type": "markdown",
   "metadata": {
    "collapsed": true
   },
   "source": [
    "Next `ind_empleado` : nan -> UNKNOWN"
   ]
  },
  {
   "cell_type": "code",
   "execution_count": 31,
   "metadata": {
    "collapsed": false
   },
   "outputs": [
    {
     "data": {
      "text/plain": [
       "array(['N', 'A', 'B', 'F', 'S'], dtype=object)"
      ]
     },
     "execution_count": 31,
     "metadata": {},
     "output_type": "execute_result"
    }
   ],
   "source": [
    "df['ind_empleado'].unique()"
   ]
  },
  {
   "cell_type": "code",
   "execution_count": 32,
   "metadata": {
    "collapsed": true
   },
   "outputs": [],
   "source": [
    "df['ind_empleado'].fillna(\"UNKNOWN\",inplace=True)"
   ]
  },
  {
   "cell_type": "code",
   "execution_count": 33,
   "metadata": {
    "collapsed": false
   },
   "outputs": [
    {
     "data": {
      "text/plain": [
       "array(['N', 'A', 'B', 'F', 'S'], dtype=object)"
      ]
     },
     "execution_count": 33,
     "metadata": {},
     "output_type": "execute_result"
    }
   ],
   "source": [
    "df['ind_empleado'].unique()"
   ]
  },
  {
   "cell_type": "code",
   "execution_count": 34,
   "metadata": {
    "collapsed": false
   },
   "outputs": [
    {
     "data": {
      "text/plain": [
       "N    618024\n",
       "B       194\n",
       "A       144\n",
       "F       141\n",
       "S         1\n",
       "Name: ind_empleado, dtype: int64"
      ]
     },
     "execution_count": 34,
     "metadata": {},
     "output_type": "execute_result"
    }
   ],
   "source": [
    "df['ind_empleado'].value_counts()"
   ]
  },
  {
   "cell_type": "code",
   "execution_count": 35,
   "metadata": {
    "collapsed": false
   },
   "outputs": [
    {
     "data": {
      "image/png": "[encoded data removed]",
      "text/plain": [
       "<matplotlib.figure.Figure at 0x10f2367d0>"
      ]
     },
     "metadata": {},
     "output_type": "display_data"
    }
   ],
   "source": [
    "with sns.plotting_context(\"notebook\", font_scale=1.5):\n",
    "    sns.set_style(\"whitegrid\")\n",
    "    sns.countplot(x=\"ind_empleado\", \n",
    "                  data=df, \n",
    "                  palette=\"Greens_d\");\n",
    "    sns.plt.title(\"Employee index distribution\")\n",
    "    plt.ylabel(\"Count\")"
   ]
  },
  {
   "cell_type": "markdown",
   "metadata": {},
   "source": [
    "Next `pais_residencia` : nan -> UNKNOWN"
   ]
  },
  {
   "cell_type": "code",
   "execution_count": 36,
   "metadata": {
    "collapsed": false
   },
   "outputs": [
    {
     "data": {
      "text/plain": [
       "array(['ES', 'CA', 'CH', 'CL', 'IE', 'AT', 'NL', 'FR', 'GB', 'DE', 'DO',\n",
       "       'BE', 'AR', 'VE', 'US', 'MX', 'BR', 'IT', 'EC', 'PE', 'CO', 'HN',\n",
       "       'FI', 'SE', 'AL', 'PT', 'MZ', 'CN', 'TW', 'PL', 'IN', 'CR', 'NI',\n",
       "       'HK', 'AD', 'CZ', 'AE', 'MA', 'GR', 'PR', 'RO', 'IL', 'RU', 'GT',\n",
       "       'GA', 'NO', 'SN', 'MR', 'UA', 'BG', 'PY', 'EE', 'SV', 'ET', 'CM',\n",
       "       'SA', 'CI', 'QA', 'LU', 'PA', 'BA', 'BO', 'AU', 'BY', 'KE', 'SG',\n",
       "       'HR', 'MD', 'SK', 'TR', 'AO', 'CU', 'GQ', 'EG', 'ZA', 'DK', 'UY',\n",
       "       'GE', 'TH', 'DZ', 'LB', 'JP', 'NG', 'PK', 'TN', 'TG', 'KR', 'GH',\n",
       "       'RS', 'VN', 'PH', 'KW', 'NZ', 'MM', 'KH', 'GI', 'SL', 'GN', 'GW',\n",
       "       'OM', 'CG', 'LV', 'LT', 'ML', 'MK', 'HU', 'IS', 'LY', 'CF', 'GM',\n",
       "       'KZ', 'CD', 'BZ'], dtype=object)"
      ]
     },
     "execution_count": 36,
     "metadata": {},
     "output_type": "execute_result"
    }
   ],
   "source": [
    "df['pais_residencia'].unique()"
   ]
  },
  {
   "cell_type": "code",
   "execution_count": 37,
   "metadata": {
    "collapsed": true
   },
   "outputs": [],
   "source": [
    "df['pais_residencia'].fillna('UNKNOWN', inplace=True)"
   ]
  },
  {
   "cell_type": "code",
   "execution_count": 38,
   "metadata": {
    "collapsed": false
   },
   "outputs": [
    {
     "data": {
      "text/plain": [
       "array(['ES', 'CA', 'CH', 'CL', 'IE', 'AT', 'NL', 'FR', 'GB', 'DE', 'DO',\n",
       "       'BE', 'AR', 'VE', 'US', 'MX', 'BR', 'IT', 'EC', 'PE', 'CO', 'HN',\n",
       "       'FI', 'SE', 'AL', 'PT', 'MZ', 'CN', 'TW', 'PL', 'IN', 'CR', 'NI',\n",
       "       'HK', 'AD', 'CZ', 'AE', 'MA', 'GR', 'PR', 'RO', 'IL', 'RU', 'GT',\n",
       "       'GA', 'NO', 'SN', 'MR', 'UA', 'BG', 'PY', 'EE', 'SV', 'ET', 'CM',\n",
       "       'SA', 'CI', 'QA', 'LU', 'PA', 'BA', 'BO', 'AU', 'BY', 'KE', 'SG',\n",
       "       'HR', 'MD', 'SK', 'TR', 'AO', 'CU', 'GQ', 'EG', 'ZA', 'DK', 'UY',\n",
       "       'GE', 'TH', 'DZ', 'LB', 'JP', 'NG', 'PK', 'TN', 'TG', 'KR', 'GH',\n",
       "       'RS', 'VN', 'PH', 'KW', 'NZ', 'MM', 'KH', 'GI', 'SL', 'GN', 'GW',\n",
       "       'OM', 'CG', 'LV', 'LT', 'ML', 'MK', 'HU', 'IS', 'LY', 'CF', 'GM',\n",
       "       'KZ', 'CD', 'BZ'], dtype=object)"
      ]
     },
     "execution_count": 38,
     "metadata": {},
     "output_type": "execute_result"
    }
   ],
   "source": [
    "df['pais_residencia'].unique()"
   ]
  },
  {
   "cell_type": "code",
   "execution_count": 39,
   "metadata": {
    "collapsed": false,
    "scrolled": true
   },
   "outputs": [
    {
     "data": {
      "text/plain": [
       "ES    614825\n",
       "FR       288\n",
       "AR       275\n",
       "DE       257\n",
       "GB       254\n",
       "CO       201\n",
       "US       196\n",
       "RO       168\n",
       "IT       160\n",
       "MX       143\n",
       "BR       132\n",
       "VE       130\n",
       "EC       125\n",
       "CH       112\n",
       "BO        83\n",
       "BE        83\n",
       "PY        79\n",
       "PT        77\n",
       "CL        56\n",
       "PE        50\n",
       "RU        44\n",
       "CU        44\n",
       "NL        43\n",
       "PL        32\n",
       "CN        32\n",
       "SE        32\n",
       "UY        30\n",
       "UA        29\n",
       "AT        28\n",
       "BG        28\n",
       "       ...  \n",
       "TW         2\n",
       "GW         2\n",
       "VN         2\n",
       "ET         2\n",
       "MZ         2\n",
       "EE         2\n",
       "BA         2\n",
       "LT         2\n",
       "MM         1\n",
       "LY         1\n",
       "ML         1\n",
       "LV         1\n",
       "KZ         1\n",
       "OM         1\n",
       "GE         1\n",
       "KH         1\n",
       "IS         1\n",
       "HU         1\n",
       "GH         1\n",
       "GI         1\n",
       "GM         1\n",
       "CD         1\n",
       "SL         1\n",
       "CF         1\n",
       "BZ         1\n",
       "KW         1\n",
       "AL         1\n",
       "TG         1\n",
       "TN         1\n",
       "LB         1\n",
       "Name: pais_residencia, dtype: int64"
      ]
     },
     "execution_count": 39,
     "metadata": {},
     "output_type": "execute_result"
    }
   ],
   "source": [
    "df['pais_residencia'].value_counts()"
   ]
  },
  {
   "cell_type": "code",
   "execution_count": null,
   "metadata": {
    "collapsed": true
   },
   "outputs": [],
   "source": []
  },
  {
   "cell_type": "markdown",
   "metadata": {},
   "source": [
    "Next `fecha_alta` : "
   ]
  },
  {
   "cell_type": "code",
   "execution_count": 40,
   "metadata": {
    "collapsed": false,
    "scrolled": true
   },
   "outputs": [
    {
     "data": {
      "text/plain": [
       "0"
      ]
     },
     "execution_count": 40,
     "metadata": {},
     "output_type": "execute_result"
    }
   ],
   "source": [
    "np.sum(df['fecha_alta'].isnull())"
   ]
  },
  {
   "cell_type": "code",
   "execution_count": 41,
   "metadata": {
    "collapsed": true
   },
   "outputs": [],
   "source": [
    "## something in the middle of the pack\n",
    "# dates=df.loc[:,\"fecha_alta\"].sort_values().reset_index()\n",
    "# median_date = int(np.median(dates.index.values))\n",
    "# df.loc[df.fecha_alta.isnull(),\"fecha_alta\"] = dates.loc[median_date,\"fecha_alta\"]\n",
    "# df[\"fecha_alta\"].describe()"
   ]
  },
  {
   "cell_type": "markdown",
   "metadata": {},
   "source": [
    "#### Display number of customers joined per year/month "
   ]
  },
  {
   "cell_type": "code",
   "execution_count": 42,
   "metadata": {
    "collapsed": false
   },
   "outputs": [],
   "source": [
    "to_yearmonth = lambda x: int(100 * x.year + x.month)\n",
    "yearmonth = df['fecha_alta'].apply(to_yearmonth)"
   ]
  },
  {
   "cell_type": "code",
   "execution_count": 43,
   "metadata": {
    "collapsed": false
   },
   "outputs": [
    {
     "name": "stdout",
     "output_type": "stream",
     "text": [
      "('Minimum value of fecha_alta : ', 199501)\n",
      "('Maximum value of fecha_alta : ', 201501)\n"
     ]
    },
    {
     "data": {
      "image/png": "[encoded data removed]",
      "text/plain": [
       "<matplotlib.figure.Figure at 0x10f0656d0>"
      ]
     },
     "metadata": {},
     "output_type": "display_data"
    }
   ],
   "source": [
    "yearmonth_counts = yearmonth.value_counts()\n",
    "print(\"Minimum value of fecha_alta : \", min(yearmonth_counts.index))\n",
    "print(\"Maximum value of fecha_alta : \", max(yearmonth_counts.index))\n",
    "\n",
    "with sns.plotting_context(\"notebook\", font_scale=1.5):\n",
    "    plt.figure(figsize=(16,4))\n",
    "    sns.set_style(\"whitegrid\")\n",
    "    sns.barplot(yearmonth_counts.index, yearmonth_counts.values, \n",
    "                  alpha=0.8, \n",
    "                  color='tomato');\n",
    "    plt.xlabel(\"Year and month of joining\")\n",
    "    plt.xticks(rotation='vertical')\n",
    "    plt.ylabel('Number of customers joined per year/month', fontsize=12)"
   ]
  },
  {
   "cell_type": "code",
   "execution_count": 44,
   "metadata": {
    "collapsed": false
   },
   "outputs": [
    {
     "data": {
      "image/png": "[encoded data removed]",
      "text/plain": [
       "<matplotlib.figure.Figure at 0x10b3a75d0>"
      ]
     },
     "metadata": {},
     "output_type": "display_data"
    }
   ],
   "source": [
    "zoom_yearmonth_counts = yearmonth_counts.sort_index()\n",
    "zoom_yearmonth_counts = zoom_yearmonth_counts[185:]\n",
    "\n",
    "with sns.plotting_context(\"notebook\", font_scale=1.5):\n",
    "    plt.figure(figsize=(16,4))\n",
    "    sns.set_style(\"whitegrid\")\n",
    "    sns.barplot(zoom_yearmonth_counts.index, zoom_yearmonth_counts.values, \n",
    "                  alpha=0.8, \n",
    "                  color='tomato');\n",
    "    plt.xlabel(\"Year and month of joining\")\n",
    "    plt.xticks(rotation='vertical')\n",
    "    plt.ylabel('Number of customers joined per year/month', fontsize=12)"
   ]
  },
  {
   "cell_type": "code",
   "execution_count": null,
   "metadata": {
    "collapsed": true
   },
   "outputs": [],
   "source": []
  },
  {
   "cell_type": "markdown",
   "metadata": {},
   "source": [
    "Next `ult_fec_cli_1t` (Last date as primary customer (if he isn't at the end of the month)) : nan -> ?"
   ]
  },
  {
   "cell_type": "code",
   "execution_count": 45,
   "metadata": {
    "collapsed": false
   },
   "outputs": [
    {
     "name": "stdout",
     "output_type": "stream",
     "text": [
      "617741 (618504,)\n"
     ]
    }
   ],
   "source": [
    "print np.sum(df['ult_fec_cli_1t'].isnull()), df['ult_fec_cli_1t'].shape"
   ]
  },
  {
   "cell_type": "code",
   "execution_count": 46,
   "metadata": {
    "collapsed": false
   },
   "outputs": [
    {
     "data": {
      "text/plain": [
       "array([nan, '2015-07-02', '2015-07-23', '2015-07-06', '2015-07-30',\n",
       "       '2015-07-20', '2015-07-08', '2015-07-22', '2015-07-17',\n",
       "       '2015-07-09', '2015-07-03', '2015-07-29', '2015-07-13',\n",
       "       '2015-07-21', '2015-07-27', '2015-07-14', '2015-07-01',\n",
       "       '2015-07-24', '2015-07-15', '2015-07-16', '2015-07-28',\n",
       "       '2015-07-07', '2015-07-10'], dtype=object)"
      ]
     },
     "execution_count": 46,
     "metadata": {},
     "output_type": "execute_result"
    }
   ],
   "source": [
    "df['ult_fec_cli_1t'].unique()"
   ]
  },
  {
   "cell_type": "code",
   "execution_count": null,
   "metadata": {
    "collapsed": true
   },
   "outputs": [],
   "source": []
  },
  {
   "cell_type": "code",
   "execution_count": null,
   "metadata": {
    "collapsed": true
   },
   "outputs": [],
   "source": []
  },
  {
   "cell_type": "code",
   "execution_count": null,
   "metadata": {
    "collapsed": true
   },
   "outputs": [],
   "source": []
  },
  {
   "cell_type": "code",
   "execution_count": null,
   "metadata": {
    "collapsed": true
   },
   "outputs": [],
   "source": []
  },
  {
   "cell_type": "code",
   "execution_count": null,
   "metadata": {
    "collapsed": true
   },
   "outputs": [],
   "source": []
  },
  {
   "cell_type": "code",
   "execution_count": null,
   "metadata": {
    "collapsed": true
   },
   "outputs": [],
   "source": []
  },
  {
   "cell_type": "code",
   "execution_count": null,
   "metadata": {
    "collapsed": true
   },
   "outputs": [],
   "source": []
  },
  {
   "cell_type": "code",
   "execution_count": null,
   "metadata": {
    "collapsed": true
   },
   "outputs": [],
   "source": []
  },
  {
   "cell_type": "code",
   "execution_count": null,
   "metadata": {
    "collapsed": true
   },
   "outputs": [],
   "source": []
  },
  {
   "cell_type": "code",
   "execution_count": null,
   "metadata": {
    "collapsed": true
   },
   "outputs": [],
   "source": []
  },
  {
   "cell_type": "code",
   "execution_count": null,
   "metadata": {
    "collapsed": true
   },
   "outputs": [],
   "source": []
  },
  {
   "cell_type": "code",
   "execution_count": null,
   "metadata": {
    "collapsed": true
   },
   "outputs": [],
   "source": [
    "train_month['logrenta'] = np.log(train_month['renta'] + 1)"
   ]
  },
  {
   "cell_type": "markdown",
   "metadata": {},
   "source": [
    "Apply PCA to reduce the number of entries"
   ]
  },
  {
   "cell_type": "code",
   "execution_count": null,
   "metadata": {
    "collapsed": true
   },
   "outputs": [],
   "source": [
    "from sklearn.decomposition import PCA"
   ]
  },
  {
   "cell_type": "code",
   "execution_count": null,
   "metadata": {
    "collapsed": true
   },
   "outputs": [],
   "source": [
    "pca = PCA(n_components=10000)"
   ]
  },
  {
   "cell_type": "code",
   "execution_count": null,
   "metadata": {
    "collapsed": false
   },
   "outputs": [],
   "source": [
    "train_month_t = train_month.transpose()\n",
    "reduced_train_month_t = pca.fit_transform(train_month_t)"
   ]
  },
  {
   "cell_type": "code",
   "execution_count": null,
   "metadata": {
    "collapsed": true
   },
   "outputs": [],
   "source": []
  },
  {
   "cell_type": "code",
   "execution_count": null,
   "metadata": {
    "collapsed": true
   },
   "outputs": [],
   "source": []
  },
  {
   "cell_type": "code",
   "execution_count": null,
   "metadata": {
    "collapsed": true
   },
   "outputs": [],
   "source": []
  },
  {
   "cell_type": "code",
   "execution_count": null,
   "metadata": {
    "collapsed": false
   },
   "outputs": [],
   "source": [
    "unique_ids   = pd.Series(train_month[\"ncodpers\"].unique())\n",
    "limit_people = 50000\n",
    "unique_id    = unique_ids.sample(n=limit_people)\n",
    "reduced_train_month = train_month[train_month.ncodpers.isin(unique_id)]\n",
    "month_reduced_stats = reduced_train_month.describe()\n",
    "month_reduced_stats"
   ]
  },
  {
   "cell_type": "code",
   "execution_count": null,
   "metadata": {
    "collapsed": false
   },
   "outputs": [],
   "source": [
    "res = np.abs(month_full_stats - month_reduced_stats).drop(['count', '25%', '50%', '75%']).drop(['ncodpers', 'renta'], axis=1)\n",
    "print np.sum(res, axis=1)\n",
    "print np.sum(np.sum(res, axis=1))\n",
    "res"
   ]
  },
  {
   "cell_type": "code",
   "execution_count": null,
   "metadata": {
    "collapsed": true
   },
   "outputs": [],
   "source": [
    "unique_ids   = pd.Series(train_month[\"ncodpers\"].unique())\n",
    "limit_people = 50000\n",
    "\n",
    "counter = 100\n",
    "found = False\n",
    "tol = 0.1\n",
    "while counter > 0 and not found:\n",
    "    counter -= 1\n",
    "    unique_id = unique_ids.sample(n=limit_people)\n",
    "    reduced_train_month = train_month[train_month.ncodpers.isin(unique_id)]\n",
    "    month_reduced_stats = reduced_train_month.describe()\n",
    "    err = np.abs(month_full_stats - month_reduced_stats).drop(['count', '25%', '50%', '75%']).drop(['ncodpers', 'renta'], axis=1)\n",
    "    q = np.sum(np.sum(err, axis=1))\n",
    "    print \"counter : \", counter, \" err = \", q\n",
    "    if q < tol:\n",
    "        found = True\n",
    "    \n",
    "assert found, \"Failed to reduce\"\n",
    "\n",
    "month_reduced_stats"
   ]
  },
  {
   "cell_type": "code",
   "execution_count": null,
   "metadata": {
    "collapsed": true
   },
   "outputs": [],
   "source": [
    "renta = np.log(train_month['renta'] + 1)\n",
    "renta.hist(bins=1000)"
   ]
  },
  {
   "cell_type": "code",
   "execution_count": null,
   "metadata": {
    "collapsed": true
   },
   "outputs": [],
   "source": [
    "renta = np.log(reduced_train_month['renta'] + 1)\n",
    "renta.hist(bins=1000)"
   ]
  },
  {
   "cell_type": "code",
   "execution_count": null,
   "metadata": {
    "collapsed": true
   },
   "outputs": [],
   "source": [
    "gb_renta."
   ]
  },
  {
   "cell_type": "code",
   "execution_count": null,
   "metadata": {
    "collapsed": true
   },
   "outputs": [],
   "source": []
  },
  {
   "cell_type": "code",
   "execution_count": null,
   "metadata": {
    "collapsed": false
   },
   "outputs": [],
   "source": [
    "print train_month.shape\n",
    "train_month.head()"
   ]
  },
  {
   "cell_type": "code",
   "execution_count": null,
   "metadata": {
    "collapsed": false
   },
   "outputs": [],
   "source": [
    "train_month.tail()"
   ]
  },
  {
   "cell_type": "code",
   "execution_count": null,
   "metadata": {
    "collapsed": true
   },
   "outputs": [],
   "source": []
  },
  {
   "cell_type": "code",
   "execution_count": null,
   "metadata": {
    "collapsed": true
   },
   "outputs": [],
   "source": []
  },
  {
   "cell_type": "code",
   "execution_count": null,
   "metadata": {
    "collapsed": true
   },
   "outputs": [],
   "source": []
  },
  {
   "cell_type": "markdown",
   "metadata": {},
   "source": [
    "### Time evolution of the number of customers "
   ]
  },
  {
   "cell_type": "code",
   "execution_count": null,
   "metadata": {
    "collapsed": false
   },
   "outputs": [],
   "source": [
    "train['fecha_alta_yearmonth'] = train['fecha_alta'].apply(lambda x: (100*x.year) + x.month)"
   ]
  },
  {
   "cell_type": "code",
   "execution_count": null,
   "metadata": {
    "collapsed": true
   },
   "outputs": [],
   "source": [
    "yearmonth = train['fecha_alta_yearmonth'].value_counts()\n",
    "print(\"Minimum value of fetcha_alta : \", min(yearmonth.index))\n",
    "print(\"Maximum value of fetcha_alta : \", max(yearmonth.index))\n",
    "\n",
    "plt.figure(figsize=(12,4))\n",
    "sns.barplot(yearmonth.index, yearmonth.values, alpha=0.8, color=color[1])\n",
    "plt.xlabel('Year and month of joining', fontsize=12)\n",
    "plt.ylabel('Number of customers', fontsize=12)\n",
    "plt.xticks(rotation='vertical')\n",
    "plt.show()"
   ]
  },
  {
   "cell_type": "code",
   "execution_count": null,
   "metadata": {
    "collapsed": true
   },
   "outputs": [],
   "source": [
    "yearmonth = train['fecha_alta_yearmonth'].value_counts()\n",
    "yearmonth = yearmonth.sort_index()\n",
    "cum_yearmonth = yearmonth.cumsum()\n",
    "print(\"Minimum value of number of customers : \", min(cum_yearmonth.values))\n",
    "print(\"Maximum value of number of customers : \", max(cum_yearmonth.values))\n",
    "\n",
    "plt.figure(figsize=(12,4))\n",
    "sns.barplot(cum_yearmonth.index, cum_yearmonth.values, alpha=0.8, color=color[1])\n",
    "plt.xlabel('Year and month of joining', fontsize=12)\n",
    "plt.ylabel('Number of customers', fontsize=12)\n",
    "plt.xticks(rotation='vertical')\n",
    "lt.show()"
   ]
  },
  {
   "cell_type": "code",
   "execution_count": null,
   "metadata": {
    "collapsed": false
   },
   "outputs": [],
   "source": [
    "gb = train.groupby(['fecha_alta_yearmonth', 'age', 'sexo'])"
   ]
  },
  {
   "cell_type": "code",
   "execution_count": null,
   "metadata": {
    "collapsed": false
   },
   "outputs": [],
   "source": [
    "yearmonth_counts = gb.agg('size')"
   ]
  },
  {
   "cell_type": "code",
   "execution_count": null,
   "metadata": {
    "collapsed": true
   },
   "outputs": [],
   "source": [
    "yearmonth_counts"
   ]
  },
  {
   "cell_type": "code",
   "execution_count": null,
   "metadata": {
    "collapsed": false
   },
   "outputs": [],
   "source": [
    "year_month"
   ]
  },
  {
   "cell_type": "code",
   "execution_count": null,
   "metadata": {
    "collapsed": false
   },
   "outputs": [],
   "source": [
    "\n",
    "year_month = yearmonth_counts.sort_index().reset_index()\n",
    "year_month = year_month.ix[185:]\n",
    "year_month.columns = ['yearmonth', 'age', 'sexo', 'count']\n",
    "\n",
    "plt.figure(figsize=(12,4))\n",
    "sns.barplot(year_month.yearmonth.astype('int'), year_month.count, alpha=0.8, color=color[2])\n",
    "plt.xlabel('Year and month of joining', fontsize=12)\n",
    "plt.ylabel('Number of customers', fontsize=12)\n",
    "plt.xticks(rotation='vertical')\n",
    "plt.show()\n",
    "\n"
   ]
  },
  {
   "cell_type": "code",
   "execution_count": null,
   "metadata": {
    "collapsed": true
   },
   "outputs": [],
   "source": []
  },
  {
   "cell_type": "code",
   "execution_count": null,
   "metadata": {
    "collapsed": true
   },
   "outputs": [],
   "source": []
  },
  {
   "cell_type": "markdown",
   "metadata": {},
   "source": [
    "Read limited number of rows and all columns"
   ]
  },
  {
   "cell_type": "code",
   "execution_count": null,
   "metadata": {
    "collapsed": false
   },
   "outputs": [],
   "source": [
    "#data_path = \"../input/\"\n",
    "data_path = \"data/\"\n",
    "limit_rows = 100000\n",
    "train = pd.read_csv(data_path+\"train_ver2.csv\", nrows=limit_rows)\n",
    "test = pd.read_csv(data_path+\"test_ver2.csv\", nrows=limit_rows)"
   ]
  },
  {
   "cell_type": "code",
   "execution_count": null,
   "metadata": {
    "collapsed": true
   },
   "outputs": [],
   "source": [
    "TARGET_LABELS = ['ind_ahor_fin_ult1', 'ind_aval_fin_ult1', 'ind_cco_fin_ult1',\n",
    " 'ind_cder_fin_ult1', 'ind_cno_fin_ult1', 'ind_ctju_fin_ult1',\n",
    " 'ind_ctma_fin_ult1', 'ind_ctop_fin_ult1', 'ind_ctpp_fin_ult1',\n",
    " 'ind_deco_fin_ult1', 'ind_deme_fin_ult1', 'ind_dela_fin_ult1',\n",
    " 'ind_ecue_fin_ult1', 'ind_fond_fin_ult1', 'ind_hip_fin_ult1',\n",
    " 'ind_plan_fin_ult1', 'ind_pres_fin_ult1', 'ind_reca_fin_ult1',\n",
    " 'ind_tjcr_fin_ult1', 'ind_valo_fin_ult1', 'ind_viv_fin_ult1',\n",
    " 'ind_nomina_ult1', 'ind_nom_pens_ult1', 'ind_recibo_ult1']"
   ]
  },
  {
   "cell_type": "code",
   "execution_count": null,
   "metadata": {
    "collapsed": false
   },
   "outputs": [],
   "source": [
    "mask = (train['ind_cder_fin_ult1'] > 0) & (train['ind_cco_fin_ult1'] > 0)\n",
    "np.sum(mask)"
   ]
  },
  {
   "cell_type": "code",
   "execution_count": null,
   "metadata": {
    "collapsed": false
   },
   "outputs": [],
   "source": [
    "train[mask][TARGET_LABELS]"
   ]
  },
  {
   "cell_type": "code",
   "execution_count": null,
   "metadata": {
    "collapsed": false
   },
   "outputs": [],
   "source": [
    "print train.columns.values\n",
    "print test.columns.values"
   ]
  },
  {
   "cell_type": "code",
   "execution_count": null,
   "metadata": {
    "collapsed": true
   },
   "outputs": [],
   "source": [
    "gb = train.groupby('ncodpers')"
   ]
  },
  {
   "cell_type": "code",
   "execution_count": null,
   "metadata": {
    "collapsed": false
   },
   "outputs": [],
   "source": [
    "num_occur[15898]"
   ]
  },
  {
   "cell_type": "code",
   "execution_count": null,
   "metadata": {
    "collapsed": false,
    "scrolled": true
   },
   "outputs": [],
   "source": [
    "num_occur = gb.agg('size')\n",
    "print num_occur == 11\n",
    "print len(num_occur), \"\\n\\n\", num_occur"
   ]
  },
  {
   "cell_type": "code",
   "execution_count": null,
   "metadata": {
    "collapsed": false
   },
   "outputs": [],
   "source": [
    "train[train['ncodpers'] == 15891]"
   ]
  },
  {
   "cell_type": "code",
   "execution_count": null,
   "metadata": {
    "collapsed": false
   },
   "outputs": [],
   "source": [
    "train[train['ncodpers'] == 1553654]"
   ]
  },
  {
   "cell_type": "code",
   "execution_count": null,
   "metadata": {
    "collapsed": false
   },
   "outputs": [],
   "source": [
    "train[train['ncodpers'] == 1553657]"
   ]
  },
  {
   "cell_type": "code",
   "execution_count": null,
   "metadata": {
    "collapsed": false
   },
   "outputs": [],
   "source": [
    "train[train['ncodpers'] == 15922]"
   ]
  },
  {
   "cell_type": "code",
   "execution_count": null,
   "metadata": {
    "collapsed": false
   },
   "outputs": [],
   "source": [
    "train[train['ncodpers'] == 15898]"
   ]
  },
  {
   "cell_type": "code",
   "execution_count": null,
   "metadata": {
    "collapsed": false
   },
   "outputs": [],
   "source": [
    "train[train['ncodpers'] == 15910]"
   ]
  },
  {
   "cell_type": "code",
   "execution_count": null,
   "metadata": {
    "collapsed": false
   },
   "outputs": [],
   "source": [
    "train[train['ncodpers'] == 15915]"
   ]
  },
  {
   "cell_type": "code",
   "execution_count": null,
   "metadata": {
    "collapsed": false
   },
   "outputs": [],
   "source": [
    "num_occur = train.groupby('ncodpers').agg('size').value_counts()\n",
    "\n",
    "plt.figure(figsize=(8,4))\n",
    "sns.barplot(num_occur.index, num_occur.values, alpha=0.8, color=color[0])\n",
    "plt.xlabel('Number of Occurrences of the customer', fontsize=12)\n",
    "plt.ylabel('Number of customers', fontsize=12)\n",
    "plt.show()\n",
    "\n"
   ]
  },
  {
   "cell_type": "code",
   "execution_count": null,
   "metadata": {
    "collapsed": true
   },
   "outputs": [],
   "source": []
  },
  {
   "cell_type": "code",
   "execution_count": null,
   "metadata": {
    "collapsed": true
   },
   "outputs": [],
   "source": []
  },
  {
   "cell_type": "markdown",
   "metadata": {},
   "source": [
    "## Display statistics"
   ]
  },
  {
   "cell_type": "code",
   "execution_count": null,
   "metadata": {
    "collapsed": true
   },
   "outputs": [],
   "source": [
    "\n",
    "\n",
    "unique_ids = df[\"ncodpers\"].unique()\n",
    "print df[\"ncodpers\"].shape, unique_ids.shape\n",
    "\n",
    "\n",
    "\n",
    "#test_df = df[df.segmento != '03 - UNIVERSITARIO']\n",
    "#print test_df.shape"
   ]
  },
  {
   "cell_type": "code",
   "execution_count": null,
   "metadata": {
    "collapsed": true
   },
   "outputs": [],
   "source": []
  },
  {
   "cell_type": "code",
   "execution_count": null,
   "metadata": {
    "collapsed": true
   },
   "outputs": [],
   "source": []
  },
  {
   "cell_type": "code",
   "execution_count": null,
   "metadata": {
    "collapsed": false
   },
   "outputs": [],
   "source": [
    "test_df = df[df[\"ncodpers\"] == 1050611]\n",
    "print test_df.shape\n",
    "test_df.head()"
   ]
  },
  {
   "cell_type": "code",
   "execution_count": null,
   "metadata": {
    "collapsed": true
   },
   "outputs": [],
   "source": []
  },
  {
   "cell_type": "code",
   "execution_count": null,
   "metadata": {
    "collapsed": true
   },
   "outputs": [],
   "source": []
  }
 ],
 "metadata": {
  "kernelspec": {
   "display_name": "Python 2",
   "language": "python",
   "name": "python2"
  },
  "language_info": {
   "codemirror_mode": {
    "name": "ipython",
    "version": 2
   },
   "file_extension": ".py",
   "mimetype": "text/x-python",
   "name": "python",
   "nbconvert_exporter": "python",
   "pygments_lexer": "ipython2",
   "version": "2.7.12"
  }
 },
 "nbformat": 4,
 "nbformat_minor": 1
}
